{
 "cells": [
  {
   "cell_type": "markdown",
   "metadata": {
    "toc": true
   },
   "source": [
    "<h1>Содержание<span class=\"tocSkip\"></span></h1>\n",
    "<div class=\"toc\"><ul class=\"toc-item\"><li><ul class=\"toc-item\"><li><span><a href=\"#Общее-впечатление\" data-toc-modified-id=\"Общее-впечатление-0.1\"><span class=\"toc-item-num\">0.1&nbsp;&nbsp;</span><font color=\"orange\">Общее впечатление</font></a></span></li><li><span><a href=\"#Общее-впечатление-(ревью-2)\" data-toc-modified-id=\"Общее-впечатление-(ревью-2)-0.2\"><span class=\"toc-item-num\">0.2&nbsp;&nbsp;</span><font color=\"orange\">Общее впечатление (ревью 2)</font></a></span></li></ul></li><li><span><a href=\"#Подготовка-данных\" data-toc-modified-id=\"Подготовка-данных-1\"><span class=\"toc-item-num\">1&nbsp;&nbsp;</span>Подготовка данных</a></span><ul class=\"toc-item\"><li><span><a href=\"#Первичный-анализ\" data-toc-modified-id=\"Первичный-анализ-1.1\"><span class=\"toc-item-num\">1.1&nbsp;&nbsp;</span>Первичный анализ</a></span></li><li><span><a href=\"#Обработка-пропусков\" data-toc-modified-id=\"Обработка-пропусков-1.2\"><span class=\"toc-item-num\">1.2&nbsp;&nbsp;</span>Обработка пропусков</a></span></li><li><span><a href=\"#Работа-с-дубликатами\" data-toc-modified-id=\"Работа-с-дубликатами-1.3\"><span class=\"toc-item-num\">1.3&nbsp;&nbsp;</span>Работа с дубликатами</a></span></li><li><span><a href=\"#Анализ-переменных\" data-toc-modified-id=\"Анализ-переменных-1.4\"><span class=\"toc-item-num\">1.4&nbsp;&nbsp;</span>Анализ переменных</a></span><ul class=\"toc-item\"><li><span><a href=\"#Количественные\" data-toc-modified-id=\"Количественные-1.4.1\"><span class=\"toc-item-num\">1.4.1&nbsp;&nbsp;</span>Количественные</a></span></li><li><span><a href=\"#Категориальные\" data-toc-modified-id=\"Категориальные-1.4.2\"><span class=\"toc-item-num\">1.4.2&nbsp;&nbsp;</span>Категориальные</a></span></li></ul></li></ul></li><li><span><a href=\"#Исследование-задачи\" data-toc-modified-id=\"Исследование-задачи-2\"><span class=\"toc-item-num\">2&nbsp;&nbsp;</span>Исследование задачи</a></span><ul class=\"toc-item\"><li><span><a href=\"#Предобработка-датасета\" data-toc-modified-id=\"Предобработка-датасета-2.1\"><span class=\"toc-item-num\">2.1&nbsp;&nbsp;</span>Предобработка датасета</a></span></li><li><span><a href=\"#Поиск-наилучшей-модели\" data-toc-modified-id=\"Поиск-наилучшей-модели-2.2\"><span class=\"toc-item-num\">2.2&nbsp;&nbsp;</span>Поиск наилучшей модели</a></span></li></ul></li><li><span><a href=\"#Борьба-с-дисбалансом\" data-toc-modified-id=\"Борьба-с-дисбалансом-3\"><span class=\"toc-item-num\">3&nbsp;&nbsp;</span>Борьба с дисбалансом</a></span><ul class=\"toc-item\"><li><span><a href=\"#Отработка-дисбаланса\" data-toc-modified-id=\"Отработка-дисбаланса-3.1\"><span class=\"toc-item-num\">3.1&nbsp;&nbsp;</span>Отработка дисбаланса</a></span></li><li><span><a href=\"#Подбор-модели\" data-toc-modified-id=\"Подбор-модели-3.2\"><span class=\"toc-item-num\">3.2&nbsp;&nbsp;</span>Подбор модели</a></span></li></ul></li><li><span><a href=\"#Тестирование-модели\" data-toc-modified-id=\"Тестирование-модели-4\"><span class=\"toc-item-num\">4&nbsp;&nbsp;</span>Тестирование модели</a></span></li><li><span><a href=\"#Чек-лист-готовности-проекта\" data-toc-modified-id=\"Чек-лист-готовности-проекта-5\"><span class=\"toc-item-num\">5&nbsp;&nbsp;</span>Чек-лист готовности проекта</a></span></li></ul></div>"
   ]
  },
  {
   "cell_type": "markdown",
   "metadata": {},
   "source": [
    "# Отток клиентов"
   ]
  },
  {
   "cell_type": "markdown",
   "metadata": {},
   "source": [
    "Из «Бета-Банка» стали уходить клиенты. Каждый месяц. Немного, но заметно. Банковские маркетологи посчитали: сохранять текущих клиентов дешевле, чем привлекать новых.\n",
    "\n",
    "Нужно спрогнозировать, уйдёт клиент из банка в ближайшее время или нет. Вам предоставлены исторические данные о поведении клиентов и расторжении договоров с банком. \n",
    "\n",
    "Постройте модель с предельно большим значением *F1*-меры. Чтобы сдать проект успешно, нужно довести метрику до 0.59. Проверьте *F1*-меру на тестовой выборке самостоятельно.\n",
    "\n",
    "Дополнительно измеряйте *AUC-ROC*, сравнивайте её значение с *F1*-мерой.\n",
    "\n",
    "Источник данных: [https://www.kaggle.com/barelydedicated/bank-customer-churn-modeling](https://www.kaggle.com/barelydedicated/bank-customer-churn-modeling)"
   ]
  },
  {
   "cell_type": "markdown",
   "metadata": {},
   "source": [
    "## Подготовка данных"
   ]
  },
  {
   "cell_type": "markdown",
   "metadata": {},
   "source": [
    "### Первичный анализ"
   ]
  },
  {
   "cell_type": "code",
   "execution_count": 848,
   "metadata": {},
   "outputs": [],
   "source": [
    "import pandas as pd\n",
    "import warnings\n",
    "warnings.filterwarnings(\"ignore\")\n",
    "from sklearn.model_selection import train_test_split\n",
    "from sklearn.tree import DecisionTreeClassifier\n",
    "from sklearn.ensemble import RandomForestClassifier\n",
    "from sklearn.linear_model import LogisticRegression\n",
    "from sklearn.preprocessing import StandardScaler\n",
    "from sklearn.utils import shuffle\n",
    "\n",
    "from sklearn.metrics import recall_score\n",
    "from sklearn.metrics import precision_score\n",
    "from sklearn.metrics import f1_score\n",
    "\n",
    "from sklearn.metrics import roc_curve\n",
    "from sklearn.metrics import roc_auc_score"
   ]
  },
  {
   "cell_type": "code",
   "execution_count": 849,
   "metadata": {
    "scrolled": true
   },
   "outputs": [
    {
     "name": "stdout",
     "output_type": "stream",
     "text": [
      "<class 'pandas.core.frame.DataFrame'>\n",
      "RangeIndex: 10000 entries, 0 to 9999\n",
      "Data columns (total 14 columns):\n",
      "RowNumber          10000 non-null int64\n",
      "CustomerId         10000 non-null int64\n",
      "Surname            10000 non-null object\n",
      "CreditScore        10000 non-null int64\n",
      "Geography          10000 non-null object\n",
      "Gender             10000 non-null object\n",
      "Age                10000 non-null int64\n",
      "Tenure             9091 non-null float64\n",
      "Balance            10000 non-null float64\n",
      "NumOfProducts      10000 non-null int64\n",
      "HasCrCard          10000 non-null int64\n",
      "IsActiveMember     10000 non-null int64\n",
      "EstimatedSalary    10000 non-null float64\n",
      "Exited             10000 non-null int64\n",
      "dtypes: float64(3), int64(8), object(3)\n",
      "memory usage: 1.1+ MB\n"
     ]
    }
   ],
   "source": [
    "df = pd.read_csv('/datasets/Churn.csv')\n",
    "df.info()"
   ]
  },
  {
   "cell_type": "code",
   "execution_count": 850,
   "metadata": {},
   "outputs": [
    {
     "data": {
      "text/html": [
       "<div>\n",
       "<style scoped>\n",
       "    .dataframe tbody tr th:only-of-type {\n",
       "        vertical-align: middle;\n",
       "    }\n",
       "\n",
       "    .dataframe tbody tr th {\n",
       "        vertical-align: top;\n",
       "    }\n",
       "\n",
       "    .dataframe thead th {\n",
       "        text-align: right;\n",
       "    }\n",
       "</style>\n",
       "<table border=\"1\" class=\"dataframe\">\n",
       "  <thead>\n",
       "    <tr style=\"text-align: right;\">\n",
       "      <th></th>\n",
       "      <th>RowNumber</th>\n",
       "      <th>CustomerId</th>\n",
       "      <th>Surname</th>\n",
       "      <th>CreditScore</th>\n",
       "      <th>Geography</th>\n",
       "      <th>Gender</th>\n",
       "      <th>Age</th>\n",
       "      <th>Tenure</th>\n",
       "      <th>Balance</th>\n",
       "      <th>NumOfProducts</th>\n",
       "      <th>HasCrCard</th>\n",
       "      <th>IsActiveMember</th>\n",
       "      <th>EstimatedSalary</th>\n",
       "      <th>Exited</th>\n",
       "    </tr>\n",
       "  </thead>\n",
       "  <tbody>\n",
       "    <tr>\n",
       "      <td>0</td>\n",
       "      <td>1</td>\n",
       "      <td>15634602</td>\n",
       "      <td>Hargrave</td>\n",
       "      <td>619</td>\n",
       "      <td>France</td>\n",
       "      <td>Female</td>\n",
       "      <td>42</td>\n",
       "      <td>2.0</td>\n",
       "      <td>0.00</td>\n",
       "      <td>1</td>\n",
       "      <td>1</td>\n",
       "      <td>1</td>\n",
       "      <td>101348.88</td>\n",
       "      <td>1</td>\n",
       "    </tr>\n",
       "    <tr>\n",
       "      <td>1</td>\n",
       "      <td>2</td>\n",
       "      <td>15647311</td>\n",
       "      <td>Hill</td>\n",
       "      <td>608</td>\n",
       "      <td>Spain</td>\n",
       "      <td>Female</td>\n",
       "      <td>41</td>\n",
       "      <td>1.0</td>\n",
       "      <td>83807.86</td>\n",
       "      <td>1</td>\n",
       "      <td>0</td>\n",
       "      <td>1</td>\n",
       "      <td>112542.58</td>\n",
       "      <td>0</td>\n",
       "    </tr>\n",
       "    <tr>\n",
       "      <td>2</td>\n",
       "      <td>3</td>\n",
       "      <td>15619304</td>\n",
       "      <td>Onio</td>\n",
       "      <td>502</td>\n",
       "      <td>France</td>\n",
       "      <td>Female</td>\n",
       "      <td>42</td>\n",
       "      <td>8.0</td>\n",
       "      <td>159660.80</td>\n",
       "      <td>3</td>\n",
       "      <td>1</td>\n",
       "      <td>0</td>\n",
       "      <td>113931.57</td>\n",
       "      <td>1</td>\n",
       "    </tr>\n",
       "    <tr>\n",
       "      <td>3</td>\n",
       "      <td>4</td>\n",
       "      <td>15701354</td>\n",
       "      <td>Boni</td>\n",
       "      <td>699</td>\n",
       "      <td>France</td>\n",
       "      <td>Female</td>\n",
       "      <td>39</td>\n",
       "      <td>1.0</td>\n",
       "      <td>0.00</td>\n",
       "      <td>2</td>\n",
       "      <td>0</td>\n",
       "      <td>0</td>\n",
       "      <td>93826.63</td>\n",
       "      <td>0</td>\n",
       "    </tr>\n",
       "    <tr>\n",
       "      <td>4</td>\n",
       "      <td>5</td>\n",
       "      <td>15737888</td>\n",
       "      <td>Mitchell</td>\n",
       "      <td>850</td>\n",
       "      <td>Spain</td>\n",
       "      <td>Female</td>\n",
       "      <td>43</td>\n",
       "      <td>2.0</td>\n",
       "      <td>125510.82</td>\n",
       "      <td>1</td>\n",
       "      <td>1</td>\n",
       "      <td>1</td>\n",
       "      <td>79084.10</td>\n",
       "      <td>0</td>\n",
       "    </tr>\n",
       "  </tbody>\n",
       "</table>\n",
       "</div>"
      ],
      "text/plain": [
       "   RowNumber  CustomerId   Surname  CreditScore Geography  Gender  Age  \\\n",
       "0          1    15634602  Hargrave          619    France  Female   42   \n",
       "1          2    15647311      Hill          608     Spain  Female   41   \n",
       "2          3    15619304      Onio          502    France  Female   42   \n",
       "3          4    15701354      Boni          699    France  Female   39   \n",
       "4          5    15737888  Mitchell          850     Spain  Female   43   \n",
       "\n",
       "   Tenure    Balance  NumOfProducts  HasCrCard  IsActiveMember  \\\n",
       "0     2.0       0.00              1          1               1   \n",
       "1     1.0   83807.86              1          0               1   \n",
       "2     8.0  159660.80              3          1               0   \n",
       "3     1.0       0.00              2          0               0   \n",
       "4     2.0  125510.82              1          1               1   \n",
       "\n",
       "   EstimatedSalary  Exited  \n",
       "0        101348.88       1  \n",
       "1        112542.58       0  \n",
       "2        113931.57       1  \n",
       "3         93826.63       0  \n",
       "4         79084.10       0  "
      ]
     },
     "metadata": {},
     "output_type": "display_data"
    }
   ],
   "source": [
    "display(df.head())"
   ]
  },
  {
   "cell_type": "markdown",
   "metadata": {},
   "source": [
    "**Вывод**   \n",
    "1. Датасет содержит 10,000 наблюдений и 14 переменных, из которых:\n",
    "- 1 переменная отвечает за порядковый номер.\n",
    "- 2 переменных отвечают за id клиентов (CustomerId, Surname)\n",
    "- 6 переменных являются категориальными (Geography, Gender, NumOfProducts, HasCrCard, IsActiveMember, Exited).\n",
    "- 5 переменных являются количественными (CreditScore, Age, Tenure, Balance, EstimatedSalary).\n",
    "2. Переменная Tenure содержит 909 пропусков, что составляет 9% от общей выборки.\n",
    "3. Все типы переменных соответствуют ожиданиям."
   ]
  },
  {
   "cell_type": "markdown",
   "metadata": {},
   "source": [
    "Удалим техническую переменную RowNumber, а также распределим оставшиеся на категориальные и нумерические."
   ]
  },
  {
   "cell_type": "code",
   "execution_count": 851,
   "metadata": {},
   "outputs": [],
   "source": [
    "df = df.drop(['RowNumber'], axis=1)\n",
    "client = ['CustomerId', 'Surname']\n",
    "categorical = ['Geography', 'Gender', 'NumOfProducts', 'HasCrCard', 'IsActiveMember', 'Exited']\n",
    "numeric = ['CreditScore', 'Age', 'Tenure', 'Balance', 'EstimatedSalary']"
   ]
  },
  {
   "cell_type": "markdown",
   "metadata": {},
   "source": [
    "### Обработка пропусков"
   ]
  },
  {
   "cell_type": "markdown",
   "metadata": {},
   "source": [
    "Проанализируем пропуски"
   ]
  },
  {
   "cell_type": "code",
   "execution_count": 852,
   "metadata": {},
   "outputs": [
    {
     "data": {
      "text/html": [
       "<div>\n",
       "<style scoped>\n",
       "    .dataframe tbody tr th:only-of-type {\n",
       "        vertical-align: middle;\n",
       "    }\n",
       "\n",
       "    .dataframe tbody tr th {\n",
       "        vertical-align: top;\n",
       "    }\n",
       "\n",
       "    .dataframe thead th {\n",
       "        text-align: right;\n",
       "    }\n",
       "</style>\n",
       "<table border=\"1\" class=\"dataframe\">\n",
       "  <thead>\n",
       "    <tr style=\"text-align: right;\">\n",
       "      <th></th>\n",
       "      <th>CustomerId</th>\n",
       "      <th>Surname</th>\n",
       "      <th>CreditScore</th>\n",
       "      <th>Geography</th>\n",
       "      <th>Gender</th>\n",
       "      <th>Age</th>\n",
       "      <th>Tenure</th>\n",
       "      <th>Balance</th>\n",
       "      <th>NumOfProducts</th>\n",
       "      <th>HasCrCard</th>\n",
       "      <th>IsActiveMember</th>\n",
       "      <th>EstimatedSalary</th>\n",
       "      <th>Exited</th>\n",
       "    </tr>\n",
       "  </thead>\n",
       "  <tbody>\n",
       "    <tr>\n",
       "      <td>30</td>\n",
       "      <td>15589475</td>\n",
       "      <td>Azikiwe</td>\n",
       "      <td>591</td>\n",
       "      <td>Spain</td>\n",
       "      <td>Female</td>\n",
       "      <td>39</td>\n",
       "      <td>NaN</td>\n",
       "      <td>0.00</td>\n",
       "      <td>3</td>\n",
       "      <td>1</td>\n",
       "      <td>0</td>\n",
       "      <td>140469.38</td>\n",
       "      <td>1</td>\n",
       "    </tr>\n",
       "    <tr>\n",
       "      <td>48</td>\n",
       "      <td>15766205</td>\n",
       "      <td>Yin</td>\n",
       "      <td>550</td>\n",
       "      <td>Germany</td>\n",
       "      <td>Male</td>\n",
       "      <td>38</td>\n",
       "      <td>NaN</td>\n",
       "      <td>103391.38</td>\n",
       "      <td>1</td>\n",
       "      <td>0</td>\n",
       "      <td>1</td>\n",
       "      <td>90878.13</td>\n",
       "      <td>0</td>\n",
       "    </tr>\n",
       "    <tr>\n",
       "      <td>51</td>\n",
       "      <td>15768193</td>\n",
       "      <td>Trevisani</td>\n",
       "      <td>585</td>\n",
       "      <td>Germany</td>\n",
       "      <td>Male</td>\n",
       "      <td>36</td>\n",
       "      <td>NaN</td>\n",
       "      <td>146050.97</td>\n",
       "      <td>2</td>\n",
       "      <td>0</td>\n",
       "      <td>0</td>\n",
       "      <td>86424.57</td>\n",
       "      <td>0</td>\n",
       "    </tr>\n",
       "    <tr>\n",
       "      <td>53</td>\n",
       "      <td>15702298</td>\n",
       "      <td>Parkhill</td>\n",
       "      <td>655</td>\n",
       "      <td>Germany</td>\n",
       "      <td>Male</td>\n",
       "      <td>41</td>\n",
       "      <td>NaN</td>\n",
       "      <td>125561.97</td>\n",
       "      <td>1</td>\n",
       "      <td>0</td>\n",
       "      <td>0</td>\n",
       "      <td>164040.94</td>\n",
       "      <td>1</td>\n",
       "    </tr>\n",
       "    <tr>\n",
       "      <td>60</td>\n",
       "      <td>15651280</td>\n",
       "      <td>Hunter</td>\n",
       "      <td>742</td>\n",
       "      <td>Germany</td>\n",
       "      <td>Male</td>\n",
       "      <td>35</td>\n",
       "      <td>NaN</td>\n",
       "      <td>136857.00</td>\n",
       "      <td>1</td>\n",
       "      <td>0</td>\n",
       "      <td>0</td>\n",
       "      <td>84509.57</td>\n",
       "      <td>0</td>\n",
       "    </tr>\n",
       "  </tbody>\n",
       "</table>\n",
       "</div>"
      ],
      "text/plain": [
       "    CustomerId    Surname  CreditScore Geography  Gender  Age  Tenure  \\\n",
       "30    15589475    Azikiwe          591     Spain  Female   39     NaN   \n",
       "48    15766205        Yin          550   Germany    Male   38     NaN   \n",
       "51    15768193  Trevisani          585   Germany    Male   36     NaN   \n",
       "53    15702298   Parkhill          655   Germany    Male   41     NaN   \n",
       "60    15651280     Hunter          742   Germany    Male   35     NaN   \n",
       "\n",
       "      Balance  NumOfProducts  HasCrCard  IsActiveMember  EstimatedSalary  \\\n",
       "30       0.00              3          1               0        140469.38   \n",
       "48  103391.38              1          0               1         90878.13   \n",
       "51  146050.97              2          0               0         86424.57   \n",
       "53  125561.97              1          0               0        164040.94   \n",
       "60  136857.00              1          0               0         84509.57   \n",
       "\n",
       "    Exited  \n",
       "30       1  \n",
       "48       0  \n",
       "51       0  \n",
       "53       1  \n",
       "60       0  "
      ]
     },
     "metadata": {},
     "output_type": "display_data"
    }
   ],
   "source": [
    "display(df.query('Tenure != Tenure').head())"
   ]
  },
  {
   "cell_type": "markdown",
   "metadata": {},
   "source": [
    "Проверим корреляцию между переменной Tenure и остальными, чтобы найти потенциальную взаимосвязь и заполнить пропуски при возможности."
   ]
  },
  {
   "cell_type": "code",
   "execution_count": 853,
   "metadata": {},
   "outputs": [
    {
     "data": {
      "text/html": [
       "<div>\n",
       "<style scoped>\n",
       "    .dataframe tbody tr th:only-of-type {\n",
       "        vertical-align: middle;\n",
       "    }\n",
       "\n",
       "    .dataframe tbody tr th {\n",
       "        vertical-align: top;\n",
       "    }\n",
       "\n",
       "    .dataframe thead th {\n",
       "        text-align: right;\n",
       "    }\n",
       "</style>\n",
       "<table border=\"1\" class=\"dataframe\">\n",
       "  <thead>\n",
       "    <tr style=\"text-align: right;\">\n",
       "      <th></th>\n",
       "      <th>CustomerId</th>\n",
       "      <th>CreditScore</th>\n",
       "      <th>Age</th>\n",
       "      <th>Tenure</th>\n",
       "      <th>Balance</th>\n",
       "      <th>NumOfProducts</th>\n",
       "      <th>HasCrCard</th>\n",
       "      <th>IsActiveMember</th>\n",
       "      <th>EstimatedSalary</th>\n",
       "      <th>Exited</th>\n",
       "    </tr>\n",
       "  </thead>\n",
       "  <tbody>\n",
       "    <tr>\n",
       "      <td>CustomerId</td>\n",
       "      <td>1.000000</td>\n",
       "      <td>0.005308</td>\n",
       "      <td>0.009497</td>\n",
       "      <td>-0.021418</td>\n",
       "      <td>-0.012419</td>\n",
       "      <td>0.016972</td>\n",
       "      <td>-0.014025</td>\n",
       "      <td>0.001665</td>\n",
       "      <td>0.015271</td>\n",
       "      <td>-0.006248</td>\n",
       "    </tr>\n",
       "    <tr>\n",
       "      <td>CreditScore</td>\n",
       "      <td>0.005308</td>\n",
       "      <td>1.000000</td>\n",
       "      <td>-0.003965</td>\n",
       "      <td>-0.000062</td>\n",
       "      <td>0.006268</td>\n",
       "      <td>0.012238</td>\n",
       "      <td>-0.005458</td>\n",
       "      <td>0.025651</td>\n",
       "      <td>-0.001384</td>\n",
       "      <td>-0.027094</td>\n",
       "    </tr>\n",
       "    <tr>\n",
       "      <td>Age</td>\n",
       "      <td>0.009497</td>\n",
       "      <td>-0.003965</td>\n",
       "      <td>1.000000</td>\n",
       "      <td>-0.013134</td>\n",
       "      <td>0.028308</td>\n",
       "      <td>-0.030680</td>\n",
       "      <td>-0.011721</td>\n",
       "      <td>0.085472</td>\n",
       "      <td>-0.007201</td>\n",
       "      <td>0.285323</td>\n",
       "    </tr>\n",
       "    <tr>\n",
       "      <td>Tenure</td>\n",
       "      <td>-0.021418</td>\n",
       "      <td>-0.000062</td>\n",
       "      <td>-0.013134</td>\n",
       "      <td>1.000000</td>\n",
       "      <td>-0.007911</td>\n",
       "      <td>0.011979</td>\n",
       "      <td>0.027232</td>\n",
       "      <td>-0.032178</td>\n",
       "      <td>0.010520</td>\n",
       "      <td>-0.016761</td>\n",
       "    </tr>\n",
       "    <tr>\n",
       "      <td>Balance</td>\n",
       "      <td>-0.012419</td>\n",
       "      <td>0.006268</td>\n",
       "      <td>0.028308</td>\n",
       "      <td>-0.007911</td>\n",
       "      <td>1.000000</td>\n",
       "      <td>-0.304180</td>\n",
       "      <td>-0.014858</td>\n",
       "      <td>-0.010084</td>\n",
       "      <td>0.012797</td>\n",
       "      <td>0.118533</td>\n",
       "    </tr>\n",
       "    <tr>\n",
       "      <td>NumOfProducts</td>\n",
       "      <td>0.016972</td>\n",
       "      <td>0.012238</td>\n",
       "      <td>-0.030680</td>\n",
       "      <td>0.011979</td>\n",
       "      <td>-0.304180</td>\n",
       "      <td>1.000000</td>\n",
       "      <td>0.003183</td>\n",
       "      <td>0.009612</td>\n",
       "      <td>0.014204</td>\n",
       "      <td>-0.047820</td>\n",
       "    </tr>\n",
       "    <tr>\n",
       "      <td>HasCrCard</td>\n",
       "      <td>-0.014025</td>\n",
       "      <td>-0.005458</td>\n",
       "      <td>-0.011721</td>\n",
       "      <td>0.027232</td>\n",
       "      <td>-0.014858</td>\n",
       "      <td>0.003183</td>\n",
       "      <td>1.000000</td>\n",
       "      <td>-0.011866</td>\n",
       "      <td>-0.009933</td>\n",
       "      <td>-0.007138</td>\n",
       "    </tr>\n",
       "    <tr>\n",
       "      <td>IsActiveMember</td>\n",
       "      <td>0.001665</td>\n",
       "      <td>0.025651</td>\n",
       "      <td>0.085472</td>\n",
       "      <td>-0.032178</td>\n",
       "      <td>-0.010084</td>\n",
       "      <td>0.009612</td>\n",
       "      <td>-0.011866</td>\n",
       "      <td>1.000000</td>\n",
       "      <td>-0.011421</td>\n",
       "      <td>-0.156128</td>\n",
       "    </tr>\n",
       "    <tr>\n",
       "      <td>EstimatedSalary</td>\n",
       "      <td>0.015271</td>\n",
       "      <td>-0.001384</td>\n",
       "      <td>-0.007201</td>\n",
       "      <td>0.010520</td>\n",
       "      <td>0.012797</td>\n",
       "      <td>0.014204</td>\n",
       "      <td>-0.009933</td>\n",
       "      <td>-0.011421</td>\n",
       "      <td>1.000000</td>\n",
       "      <td>0.012097</td>\n",
       "    </tr>\n",
       "    <tr>\n",
       "      <td>Exited</td>\n",
       "      <td>-0.006248</td>\n",
       "      <td>-0.027094</td>\n",
       "      <td>0.285323</td>\n",
       "      <td>-0.016761</td>\n",
       "      <td>0.118533</td>\n",
       "      <td>-0.047820</td>\n",
       "      <td>-0.007138</td>\n",
       "      <td>-0.156128</td>\n",
       "      <td>0.012097</td>\n",
       "      <td>1.000000</td>\n",
       "    </tr>\n",
       "  </tbody>\n",
       "</table>\n",
       "</div>"
      ],
      "text/plain": [
       "                 CustomerId  CreditScore       Age    Tenure   Balance  \\\n",
       "CustomerId         1.000000     0.005308  0.009497 -0.021418 -0.012419   \n",
       "CreditScore        0.005308     1.000000 -0.003965 -0.000062  0.006268   \n",
       "Age                0.009497    -0.003965  1.000000 -0.013134  0.028308   \n",
       "Tenure            -0.021418    -0.000062 -0.013134  1.000000 -0.007911   \n",
       "Balance           -0.012419     0.006268  0.028308 -0.007911  1.000000   \n",
       "NumOfProducts      0.016972     0.012238 -0.030680  0.011979 -0.304180   \n",
       "HasCrCard         -0.014025    -0.005458 -0.011721  0.027232 -0.014858   \n",
       "IsActiveMember     0.001665     0.025651  0.085472 -0.032178 -0.010084   \n",
       "EstimatedSalary    0.015271    -0.001384 -0.007201  0.010520  0.012797   \n",
       "Exited            -0.006248    -0.027094  0.285323 -0.016761  0.118533   \n",
       "\n",
       "                 NumOfProducts  HasCrCard  IsActiveMember  EstimatedSalary  \\\n",
       "CustomerId            0.016972  -0.014025        0.001665         0.015271   \n",
       "CreditScore           0.012238  -0.005458        0.025651        -0.001384   \n",
       "Age                  -0.030680  -0.011721        0.085472        -0.007201   \n",
       "Tenure                0.011979   0.027232       -0.032178         0.010520   \n",
       "Balance              -0.304180  -0.014858       -0.010084         0.012797   \n",
       "NumOfProducts         1.000000   0.003183        0.009612         0.014204   \n",
       "HasCrCard             0.003183   1.000000       -0.011866        -0.009933   \n",
       "IsActiveMember        0.009612  -0.011866        1.000000        -0.011421   \n",
       "EstimatedSalary       0.014204  -0.009933       -0.011421         1.000000   \n",
       "Exited               -0.047820  -0.007138       -0.156128         0.012097   \n",
       "\n",
       "                   Exited  \n",
       "CustomerId      -0.006248  \n",
       "CreditScore     -0.027094  \n",
       "Age              0.285323  \n",
       "Tenure          -0.016761  \n",
       "Balance          0.118533  \n",
       "NumOfProducts   -0.047820  \n",
       "HasCrCard       -0.007138  \n",
       "IsActiveMember  -0.156128  \n",
       "EstimatedSalary  0.012097  \n",
       "Exited           1.000000  "
      ]
     },
     "execution_count": 853,
     "metadata": {},
     "output_type": "execute_result"
    }
   ],
   "source": [
    "df.corr()"
   ]
  },
  {
   "cell_type": "markdown",
   "metadata": {},
   "source": [
    "**Вывод**   \n",
    "Можно заметить, что почти все коэффициенты корреляции между переменной Tenure и остальными близки к нулю => мы не можем найти адекватных методов для заполнения пропусков.   \n",
    "Поскольку данная количественная переменная будет использована в качестве одного из объясняющих факторов, ее использование с пропусками далее невозможно."
   ]
  },
  {
   "cell_type": "code",
   "execution_count": 854,
   "metadata": {},
   "outputs": [],
   "source": [
    "df = df.dropna()"
   ]
  },
  {
   "cell_type": "markdown",
   "metadata": {},
   "source": [
    "### Работа с дубликатами"
   ]
  },
  {
   "cell_type": "code",
   "execution_count": 855,
   "metadata": {},
   "outputs": [
    {
     "name": "stdout",
     "output_type": "stream",
     "text": [
      "0\n"
     ]
    }
   ],
   "source": [
    "print(df.duplicated().sum())"
   ]
  },
  {
   "cell_type": "markdown",
   "metadata": {},
   "source": [
    "**Вывод**   \n",
    "Дубликатов не обнаружено"
   ]
  },
  {
   "cell_type": "markdown",
   "metadata": {},
   "source": [
    "### Анализ переменных"
   ]
  },
  {
   "cell_type": "markdown",
   "metadata": {},
   "source": [
    "#### Количественные"
   ]
  },
  {
   "cell_type": "markdown",
   "metadata": {},
   "source": [
    "Взглянем на распределение числовых значений."
   ]
  },
  {
   "cell_type": "code",
   "execution_count": 856,
   "metadata": {},
   "outputs": [
    {
     "data": {
      "text/html": [
       "<div>\n",
       "<style scoped>\n",
       "    .dataframe tbody tr th:only-of-type {\n",
       "        vertical-align: middle;\n",
       "    }\n",
       "\n",
       "    .dataframe tbody tr th {\n",
       "        vertical-align: top;\n",
       "    }\n",
       "\n",
       "    .dataframe thead th {\n",
       "        text-align: right;\n",
       "    }\n",
       "</style>\n",
       "<table border=\"1\" class=\"dataframe\">\n",
       "  <thead>\n",
       "    <tr style=\"text-align: right;\">\n",
       "      <th></th>\n",
       "      <th>CreditScore</th>\n",
       "      <th>Age</th>\n",
       "      <th>Tenure</th>\n",
       "      <th>Balance</th>\n",
       "      <th>EstimatedSalary</th>\n",
       "    </tr>\n",
       "  </thead>\n",
       "  <tbody>\n",
       "    <tr>\n",
       "      <td>count</td>\n",
       "      <td>9091.000000</td>\n",
       "      <td>9091.000000</td>\n",
       "      <td>9091.000000</td>\n",
       "      <td>9091.000000</td>\n",
       "      <td>9091.000000</td>\n",
       "    </tr>\n",
       "    <tr>\n",
       "      <td>mean</td>\n",
       "      <td>650.736553</td>\n",
       "      <td>38.949181</td>\n",
       "      <td>4.997690</td>\n",
       "      <td>76522.740015</td>\n",
       "      <td>100181.214924</td>\n",
       "    </tr>\n",
       "    <tr>\n",
       "      <td>std</td>\n",
       "      <td>96.410471</td>\n",
       "      <td>10.555581</td>\n",
       "      <td>2.894723</td>\n",
       "      <td>62329.528576</td>\n",
       "      <td>57624.755647</td>\n",
       "    </tr>\n",
       "    <tr>\n",
       "      <td>min</td>\n",
       "      <td>350.000000</td>\n",
       "      <td>18.000000</td>\n",
       "      <td>0.000000</td>\n",
       "      <td>0.000000</td>\n",
       "      <td>11.580000</td>\n",
       "    </tr>\n",
       "    <tr>\n",
       "      <td>25%</td>\n",
       "      <td>584.000000</td>\n",
       "      <td>32.000000</td>\n",
       "      <td>2.000000</td>\n",
       "      <td>0.000000</td>\n",
       "      <td>51227.745000</td>\n",
       "    </tr>\n",
       "    <tr>\n",
       "      <td>50%</td>\n",
       "      <td>652.000000</td>\n",
       "      <td>37.000000</td>\n",
       "      <td>5.000000</td>\n",
       "      <td>97318.250000</td>\n",
       "      <td>100240.200000</td>\n",
       "    </tr>\n",
       "    <tr>\n",
       "      <td>75%</td>\n",
       "      <td>717.000000</td>\n",
       "      <td>44.000000</td>\n",
       "      <td>7.000000</td>\n",
       "      <td>127561.890000</td>\n",
       "      <td>149567.210000</td>\n",
       "    </tr>\n",
       "    <tr>\n",
       "      <td>max</td>\n",
       "      <td>850.000000</td>\n",
       "      <td>92.000000</td>\n",
       "      <td>10.000000</td>\n",
       "      <td>250898.090000</td>\n",
       "      <td>199992.480000</td>\n",
       "    </tr>\n",
       "  </tbody>\n",
       "</table>\n",
       "</div>"
      ],
      "text/plain": [
       "       CreditScore          Age       Tenure        Balance  EstimatedSalary\n",
       "count  9091.000000  9091.000000  9091.000000    9091.000000      9091.000000\n",
       "mean    650.736553    38.949181     4.997690   76522.740015    100181.214924\n",
       "std      96.410471    10.555581     2.894723   62329.528576     57624.755647\n",
       "min     350.000000    18.000000     0.000000       0.000000        11.580000\n",
       "25%     584.000000    32.000000     2.000000       0.000000     51227.745000\n",
       "50%     652.000000    37.000000     5.000000   97318.250000    100240.200000\n",
       "75%     717.000000    44.000000     7.000000  127561.890000    149567.210000\n",
       "max     850.000000    92.000000    10.000000  250898.090000    199992.480000"
      ]
     },
     "execution_count": 856,
     "metadata": {},
     "output_type": "execute_result"
    }
   ],
   "source": [
    "df[numeric].describe()"
   ]
  },
  {
   "cell_type": "markdown",
   "metadata": {},
   "source": [
    "**Вывод**   \n",
    "1. Кредитный скоринг лежит в диапазоне от 350 до 850.\n",
    "2. Возраст самого молодого клиента 18 лет, самого возрастного - 92 года.\n",
    "3. Максимальный \"стаж\" клиента составляет 10 лет => можем предположить, что банк был открыт 10 лет назад.\n",
    "4. Не менее четверти клиентов банка имеют ноль на счету, средняя сумма ~ 97k\n",
    "5. Средняя зп находится на уровне ~100k, при этом есть клиенты с подозрительно низкими зп. Взглянем на них подробнее."
   ]
  },
  {
   "cell_type": "code",
   "execution_count": 857,
   "metadata": {
    "scrolled": true
   },
   "outputs": [
    {
     "data": {
      "image/png": "[encoded data removed]",
      "text/plain": [
       "<Figure size 432x288 with 1 Axes>"
      ]
     },
     "metadata": {
      "needs_background": "light"
     },
     "output_type": "display_data"
    }
   ],
   "source": [
    "df['EstimatedSalary'].plot(kind='hist', bins=200);"
   ]
  },
  {
   "cell_type": "markdown",
   "metadata": {},
   "source": [
    "В соответствии с информацией, доступной в интернете, минимальная ЗП в евросоюзе составляет 1,000Е в месяц или 12,000Е в год, пенсия около 500Е в месяц или 6,000Е в год. Посчитаем, сколько клиентов не соответствует минимальной границе."
   ]
  },
  {
   "cell_type": "code",
   "execution_count": 858,
   "metadata": {
    "scrolled": true
   },
   "outputs": [
    {
     "name": "stdout",
     "output_type": "stream",
     "text": [
      "Клиентов с зп меньше 6k: 294\n"
     ]
    }
   ],
   "source": [
    "print('Клиентов с зп меньше 6k:', df['EstimatedSalary'][df['EstimatedSalary'] < 6000].count())"
   ]
  },
  {
   "cell_type": "markdown",
   "metadata": {},
   "source": [
    "**Вывод**   \n",
    "Клиентов с \"подозрительной\" заработной платой чуть меньше 300 или 3% от общей выборки. Для получения более объективных результатов удалим эти наблюдения."
   ]
  },
  {
   "cell_type": "code",
   "execution_count": 859,
   "metadata": {
    "scrolled": false
   },
   "outputs": [],
   "source": [
    "df = df.query('EstimatedSalary >= 6000')"
   ]
  },
  {
   "cell_type": "markdown",
   "metadata": {},
   "source": [
    "#### Категориальные"
   ]
  },
  {
   "cell_type": "code",
   "execution_count": 860,
   "metadata": {
    "scrolled": false
   },
   "outputs": [
    {
     "name": "stdout",
     "output_type": "stream",
     "text": [
      "France     4399\n",
      "Germany    2217\n",
      "Spain      2181\n",
      "Name: Geography, dtype: int64\n",
      "\n",
      "Male      4821\n",
      "Female    3976\n",
      "Name: Gender, dtype: int64\n",
      "\n",
      "1    4471\n",
      "2    4043\n",
      "3     228\n",
      "4      55\n",
      "Name: NumOfProducts, dtype: int64\n",
      "\n",
      "1    6211\n",
      "0    2586\n",
      "Name: HasCrCard, dtype: int64\n",
      "\n",
      "1    4541\n",
      "0    4256\n",
      "Name: IsActiveMember, dtype: int64\n",
      "\n",
      "0    7003\n",
      "1    1794\n",
      "Name: Exited, dtype: int64\n",
      "\n"
     ]
    }
   ],
   "source": [
    "for element in categorical:\n",
    "    print(df[element].value_counts())\n",
    "    print()"
   ]
  },
  {
   "cell_type": "markdown",
   "metadata": {},
   "source": [
    "**Вывод**   \n",
    "1. Сбалансированные классы: Geography, Gender, IsActiveMember.\n",
    "2. Несбалансированные: NumOfProducts, HasCrCard, Exited."
   ]
  },
  {
   "cell_type": "markdown",
   "metadata": {},
   "source": [
    "## Исследование задачи"
   ]
  },
  {
   "cell_type": "markdown",
   "metadata": {},
   "source": [
    "### Предобработка датасета"
   ]
  },
  {
   "cell_type": "markdown",
   "metadata": {},
   "source": [
    "Перед разделением выборки приведем категориальные переменные к dummy-переменным."
   ]
  },
  {
   "cell_type": "code",
   "execution_count": 861,
   "metadata": {
    "scrolled": false
   },
   "outputs": [],
   "source": [
    "categorical = ['Geography', 'Gender', 'NumOfProducts', 'HasCrCard', 'IsActiveMember']\n",
    "df = pd.get_dummies(df, columns=categorical, drop_first=True)"
   ]
  },
  {
   "cell_type": "markdown",
   "metadata": {},
   "source": [
    "Разделим выборку на три:\n",
    "1. Обучающая - 60%\n",
    "2. Валидационная - 20%\n",
    "3. Тестовая - 20%"
   ]
  },
  {
   "cell_type": "code",
   "execution_count": 862,
   "metadata": {},
   "outputs": [
    {
     "name": "stdout",
     "output_type": "stream",
     "text": [
      "(5278, 16) (1759, 16) (1760, 16)\n"
     ]
    }
   ],
   "source": [
    "train, vt = train_test_split(df, test_size=0.4, random_state=12345)\n",
    "valid, test = train_test_split(vt, test_size=0.5, random_state=12345)\n",
    "\n",
    "print(train.shape, valid.shape, test.shape)"
   ]
  },
  {
   "cell_type": "code",
   "execution_count": 863,
   "metadata": {},
   "outputs": [],
   "source": [
    "target_train = train['Exited']\n",
    "target_valid = valid['Exited']\n",
    "target_test = test['Exited']\n",
    "\n",
    "features_train = train.drop(['Exited', 'CustomerId', 'Surname'], axis=1)\n",
    "features_valid = valid.drop(['Exited', 'CustomerId', 'Surname'], axis=1)\n",
    "features_test = test.drop(['Exited', 'CustomerId', 'Surname'], axis=1)"
   ]
  },
  {
   "cell_type": "markdown",
   "metadata": {},
   "source": [
    "Список факторов также содержит числовые факторы. Поскольку они имеют различные диапазоны значений, их необходимо масштабировать."
   ]
  },
  {
   "cell_type": "code",
   "execution_count": 864,
   "metadata": {},
   "outputs": [
    {
     "data": {
      "text/html": [
       "<div>\n",
       "<style scoped>\n",
       "    .dataframe tbody tr th:only-of-type {\n",
       "        vertical-align: middle;\n",
       "    }\n",
       "\n",
       "    .dataframe tbody tr th {\n",
       "        vertical-align: top;\n",
       "    }\n",
       "\n",
       "    .dataframe thead th {\n",
       "        text-align: right;\n",
       "    }\n",
       "</style>\n",
       "<table border=\"1\" class=\"dataframe\">\n",
       "  <thead>\n",
       "    <tr style=\"text-align: right;\">\n",
       "      <th></th>\n",
       "      <th>CreditScore</th>\n",
       "      <th>Age</th>\n",
       "      <th>Tenure</th>\n",
       "      <th>Balance</th>\n",
       "      <th>EstimatedSalary</th>\n",
       "      <th>Geography_Germany</th>\n",
       "      <th>Geography_Spain</th>\n",
       "      <th>Gender_Male</th>\n",
       "      <th>NumOfProducts_2</th>\n",
       "      <th>NumOfProducts_3</th>\n",
       "      <th>NumOfProducts_4</th>\n",
       "      <th>HasCrCard_1</th>\n",
       "      <th>IsActiveMember_1</th>\n",
       "    </tr>\n",
       "  </thead>\n",
       "  <tbody>\n",
       "    <tr>\n",
       "      <td>4784</td>\n",
       "      <td>0.149888</td>\n",
       "      <td>1.342495</td>\n",
       "      <td>0.680914</td>\n",
       "      <td>1.785622</td>\n",
       "      <td>1.497537</td>\n",
       "      <td>0</td>\n",
       "      <td>1</td>\n",
       "      <td>0</td>\n",
       "      <td>0</td>\n",
       "      <td>0</td>\n",
       "      <td>0</td>\n",
       "      <td>1</td>\n",
       "      <td>0</td>\n",
       "    </tr>\n",
       "    <tr>\n",
       "      <td>4589</td>\n",
       "      <td>-0.361724</td>\n",
       "      <td>-0.363963</td>\n",
       "      <td>0.680914</td>\n",
       "      <td>-1.220098</td>\n",
       "      <td>0.855344</td>\n",
       "      <td>0</td>\n",
       "      <td>0</td>\n",
       "      <td>1</td>\n",
       "      <td>1</td>\n",
       "      <td>0</td>\n",
       "      <td>0</td>\n",
       "      <td>1</td>\n",
       "      <td>0</td>\n",
       "    </tr>\n",
       "    <tr>\n",
       "      <td>4988</td>\n",
       "      <td>-0.455693</td>\n",
       "      <td>0.773675</td>\n",
       "      <td>-0.700943</td>\n",
       "      <td>0.279198</td>\n",
       "      <td>0.619744</td>\n",
       "      <td>0</td>\n",
       "      <td>0</td>\n",
       "      <td>1</td>\n",
       "      <td>1</td>\n",
       "      <td>0</td>\n",
       "      <td>0</td>\n",
       "      <td>0</td>\n",
       "      <td>1</td>\n",
       "    </tr>\n",
       "    <tr>\n",
       "      <td>6594</td>\n",
       "      <td>1.016495</td>\n",
       "      <td>0.110053</td>\n",
       "      <td>-0.700943</td>\n",
       "      <td>-1.220098</td>\n",
       "      <td>-0.821278</td>\n",
       "      <td>0</td>\n",
       "      <td>0</td>\n",
       "      <td>0</td>\n",
       "      <td>0</td>\n",
       "      <td>0</td>\n",
       "      <td>0</td>\n",
       "      <td>0</td>\n",
       "      <td>0</td>\n",
       "    </tr>\n",
       "    <tr>\n",
       "      <td>6231</td>\n",
       "      <td>-0.194667</td>\n",
       "      <td>0.868479</td>\n",
       "      <td>-1.391871</td>\n",
       "      <td>0.484562</td>\n",
       "      <td>0.853129</td>\n",
       "      <td>1</td>\n",
       "      <td>0</td>\n",
       "      <td>1</td>\n",
       "      <td>0</td>\n",
       "      <td>0</td>\n",
       "      <td>0</td>\n",
       "      <td>1</td>\n",
       "      <td>1</td>\n",
       "    </tr>\n",
       "  </tbody>\n",
       "</table>\n",
       "</div>"
      ],
      "text/plain": [
       "      CreditScore       Age    Tenure   Balance  EstimatedSalary  \\\n",
       "4784     0.149888  1.342495  0.680914  1.785622         1.497537   \n",
       "4589    -0.361724 -0.363963  0.680914 -1.220098         0.855344   \n",
       "4988    -0.455693  0.773675 -0.700943  0.279198         0.619744   \n",
       "6594     1.016495  0.110053 -0.700943 -1.220098        -0.821278   \n",
       "6231    -0.194667  0.868479 -1.391871  0.484562         0.853129   \n",
       "\n",
       "      Geography_Germany  Geography_Spain  Gender_Male  NumOfProducts_2  \\\n",
       "4784                  0                1            0                0   \n",
       "4589                  0                0            1                1   \n",
       "4988                  0                0            1                1   \n",
       "6594                  0                0            0                0   \n",
       "6231                  1                0            1                0   \n",
       "\n",
       "      NumOfProducts_3  NumOfProducts_4  HasCrCard_1  IsActiveMember_1  \n",
       "4784                0                0            1                 0  \n",
       "4589                0                0            1                 0  \n",
       "4988                0                0            0                 1  \n",
       "6594                0                0            0                 0  \n",
       "6231                0                0            1                 1  "
      ]
     },
     "metadata": {},
     "output_type": "display_data"
    }
   ],
   "source": [
    "scaler = StandardScaler()\n",
    "scaler.fit(features_train[numeric])\n",
    "features_train[numeric] = scaler.transform(features_train[numeric])\n",
    "features_valid[numeric] = scaler.transform(features_valid[numeric])\n",
    "features_test[numeric] = scaler.transform(features_test[numeric])\n",
    "display(features_train.head())"
   ]
  },
  {
   "cell_type": "markdown",
   "metadata": {},
   "source": [
    "### Поиск наилучшей модели"
   ]
  },
  {
   "cell_type": "markdown",
   "metadata": {},
   "source": [
    "В рамках задачи классификации оценим 3 модели и найдем лучшие параметры для каждой из них."
   ]
  },
  {
   "cell_type": "code",
   "execution_count": 865,
   "metadata": {
    "scrolled": false
   },
   "outputs": [
    {
     "name": "stdout",
     "output_type": "stream",
     "text": [
      "Лучшая глубина - 9, f1_score: 0.58\n"
     ]
    }
   ],
   "source": [
    "#DecisionTreeClassifier\n",
    "max_score = 0\n",
    "best_depth = 1\n",
    "for depth in range(1, 10):\n",
    "    model = DecisionTreeClassifier(random_state=12345, max_depth=depth)\n",
    "    model.fit(features_train, target_train)\n",
    "    target_predicted = model.predict(features_valid)\n",
    "    if f1_score(target_valid, target_predicted) > max_score:\n",
    "        best_depth = depth\n",
    "        max_score = f1_score(target_valid, target_predicted)\n",
    "print(f'Лучшая глубина - {best_depth}, f1_score: {max_score:.2f}')"
   ]
  },
  {
   "cell_type": "code",
   "execution_count": 866,
   "metadata": {
    "scrolled": true
   },
   "outputs": [
    {
     "name": "stdout",
     "output_type": "stream",
     "text": [
      "Лучшая глубина - 9, число деревьев - 17, f1_score: 0.61\n"
     ]
    }
   ],
   "source": [
    "#RandomForestClassifier\n",
    "max_score = 0\n",
    "best_depth = 1\n",
    "best_estimator = 1\n",
    "for depth in range(1, 10):\n",
    "    for estimator in range(1, 20):\n",
    "        model = RandomForestClassifier(random_state=12345, max_depth=depth, n_estimators=estimator)\n",
    "        model.fit(features_train, target_train)\n",
    "        target_predicted = model.predict(features_valid)\n",
    "        if f1_score(target_valid, target_predicted) > max_score:\n",
    "            best_depth = depth\n",
    "            best_estimator = estimator\n",
    "            max_score = f1_score(target_valid, target_predicted)\n",
    "print(f'Лучшая глубина - {best_depth}, число деревьев - {best_estimator}, f1_score: {max_score:.2f}')"
   ]
  },
  {
   "cell_type": "code",
   "execution_count": 867,
   "metadata": {
    "scrolled": true
   },
   "outputs": [
    {
     "name": "stdout",
     "output_type": "stream",
     "text": [
      "LogisticRegression, f1_score: 0.54\n"
     ]
    }
   ],
   "source": [
    "#LogisticRegression\n",
    "model = LogisticRegression(random_state=12345)\n",
    "model.fit(features_train, target_train)\n",
    "target_predicted = model.predict(features_valid)\n",
    "print(f'LogisticRegression, f1_score: {f1_score(target_valid, target_predicted):.2f}')"
   ]
  },
  {
   "cell_type": "markdown",
   "metadata": {},
   "source": [
    "Наилучший скоринг показал модель случайного леса с глубиной - 9 и числом деревьев - 17. Проверим модель на адекватность."
   ]
  },
  {
   "cell_type": "code",
   "execution_count": 868,
   "metadata": {},
   "outputs": [
    {
     "name": "stdout",
     "output_type": "stream",
     "text": [
      "ConstantModel, f1_score: 0.34\n"
     ]
    }
   ],
   "source": [
    "#Проверка адекватности лучшей модели\n",
    "model = RandomForestClassifier(random_state=12345, max_depth=best_depth, n_estimators=best_estimator)\n",
    "model.fit(features_train, target_train)\n",
    "target_predicted = pd.Series([1]*len(target_valid))\n",
    "print(f'ConstantModel, f1_score: {f1_score(target_valid, target_predicted):.2f}')"
   ]
  },
  {
   "cell_type": "markdown",
   "metadata": {},
   "source": [
    "**Вывод**   \n",
    "Наилучшая модель - случайный лес с глубиной 9 и числом деревьев 17. Разница в f1_score с константной моделью значительна => модель адекватна."
   ]
  },
  {
   "cell_type": "markdown",
   "metadata": {},
   "source": [
    "## Борьба с дисбалансом"
   ]
  },
  {
   "cell_type": "markdown",
   "metadata": {},
   "source": [
    "### Отработка дисбаланса"
   ]
  },
  {
   "cell_type": "code",
   "execution_count": 869,
   "metadata": {
    "scrolled": true
   },
   "outputs": [
    {
     "data": {
      "text/plain": [
       "0    4201\n",
       "1    1077\n",
       "Name: Exited, dtype: int64"
      ]
     },
     "execution_count": 869,
     "metadata": {},
     "output_type": "execute_result"
    }
   ],
   "source": [
    "target_train.value_counts()"
   ]
  },
  {
   "cell_type": "markdown",
   "metadata": {},
   "source": [
    "Для отработки данного дисбаланса увеличим выборку с параметром Exited, равным 1."
   ]
  },
  {
   "cell_type": "code",
   "execution_count": 870,
   "metadata": {
    "scrolled": false
   },
   "outputs": [
    {
     "data": {
      "text/plain": [
       "1    1077\n",
       "0    1050\n",
       "Name: Exited, dtype: int64"
      ]
     },
     "execution_count": 870,
     "metadata": {},
     "output_type": "execute_result"
    }
   ],
   "source": [
    "target_train_zeros = target_train[target_train == 0]\n",
    "target_train_ones = target_train[target_train == 1]\n",
    "features_train_zeros = features_train[target_train == 0]\n",
    "features_train_ones = features_train[target_train == 1]\n",
    "repeat = 4\n",
    "\n",
    "#upsampling\n",
    "target_train_balanced_up = pd.concat([target_train_zeros] + [target_train_ones] * repeat)\n",
    "features_train_balanced_up = pd.concat([features_train_zeros] + [features_train_ones] * repeat)\n",
    "features_train_balanced_up, target_train_balanced_up = shuffle(features_train_balanced_up, target_train_balanced_up, random_state=12345)\n",
    "\n",
    "#downsampling\n",
    "target_train_balanced_down = pd.concat([target_train_zeros.sample(frac=0.25, random_state=12345)] + [target_train_ones])\n",
    "features_train_balanced_down = pd.concat([features_train_zeros.sample(frac=0.25, random_state=12345)] + [features_train_ones])\n",
    "features_train_balanced_down, target_train_balanced_down = shuffle(features_train_balanced_down, target_train_balanced_down, random_state=12345)\n",
    "\n",
    "target_train_balanced_up.value_counts()\n",
    "target_train_balanced_down.value_counts()"
   ]
  },
  {
   "cell_type": "markdown",
   "metadata": {},
   "source": [
    "**Вывод**   \n",
    "Целевая переменная сбалансирована двумя разными методами. Подберем оптимальную модель для каждого из набора данных."
   ]
  },
  {
   "cell_type": "markdown",
   "metadata": {},
   "source": [
    "### Подбор модели"
   ]
  },
  {
   "cell_type": "code",
   "execution_count": 871,
   "metadata": {
    "scrolled": false
   },
   "outputs": [
    {
     "name": "stdout",
     "output_type": "stream",
     "text": [
      "Лучшая глубина для upsampled - 4, f1_score: 0.57\n",
      "\n",
      "Лучшая глубина для downsampled - 3, f1_score: 0.57\n"
     ]
    }
   ],
   "source": [
    "#DecisionTreeClassifier - upsampled\n",
    "max_score_up = 0\n",
    "best_depth_up = 1\n",
    "for depth in range(1, 10):\n",
    "    model = DecisionTreeClassifier(random_state=12345, max_depth=depth)\n",
    "    model.fit(features_train_balanced_up, target_train_balanced_up)\n",
    "    target_predicted = model.predict(features_valid)\n",
    "    if f1_score(target_valid, target_predicted) > max_score_up:\n",
    "        best_depth_up = depth\n",
    "        max_score_up = f1_score(target_valid, target_predicted)\n",
    "print(f'Лучшая глубина для upsampled - {best_depth_up}, f1_score: {max_score_up:.2f}')\n",
    "\n",
    "print()\n",
    "\n",
    "#DecisionTreeClassifier - downsampled\n",
    "max_score_down = 0\n",
    "best_depth_down = 1\n",
    "for depth in range(1, 10):\n",
    "    model = DecisionTreeClassifier(random_state=12345, max_depth=depth)\n",
    "    model.fit(features_train_balanced_down, target_train_balanced_down)\n",
    "    target_predicted = model.predict(features_valid)\n",
    "    if f1_score(target_valid, target_predicted) > max_score_down:\n",
    "        best_depth_down = depth\n",
    "        max_score_down = f1_score(target_valid, target_predicted)\n",
    "print(f'Лучшая глубина для downsampled - {best_depth_down}, f1_score: {max_score_down:.2f}')"
   ]
  },
  {
   "cell_type": "code",
   "execution_count": 872,
   "metadata": {
    "scrolled": true
   },
   "outputs": [
    {
     "name": "stdout",
     "output_type": "stream",
     "text": [
      "Лучшая глубина для upsampled- 9, число деревьев - 17, f1_score: 0.61\n",
      "\n",
      "Лучшая глубина для downsampled- 3, число деревьев - 10, f1_score: 0.59\n"
     ]
    }
   ],
   "source": [
    "#RandomForestClassifier - upsampled\n",
    "max_score_up = 0\n",
    "best_depth_up = 1\n",
    "best_estimator_up = 1\n",
    "for depth in range(1, 10):\n",
    "    for estimator in range(1, 20):\n",
    "        model = RandomForestClassifier(random_state=12345, max_depth=depth, n_estimators=estimator)\n",
    "        model.fit(features_train_balanced_up, target_train_balanced_up)\n",
    "        target_predicted = model.predict(features_valid)\n",
    "        if f1_score(target_valid, target_predicted) > max_score_up:\n",
    "            best_depth_up = depth\n",
    "            best_estimator_up = estimator\n",
    "            max_score_up = f1_score(target_valid, target_predicted)\n",
    "print(f'Лучшая глубина для upsampled- {best_depth_up}, число деревьев - {best_estimator_up}, f1_score: {max_score_up:.2f}')\n",
    "\n",
    "print()\n",
    "\n",
    "#RandomForestClassifier - downsampled\n",
    "max_score_down = 0\n",
    "best_depth_down = 1\n",
    "best_estimator_down = 1\n",
    "for depth in range(1, 10):\n",
    "    for estimator in range(1, 20):\n",
    "        model = RandomForestClassifier(random_state=12345, max_depth=depth, n_estimators=estimator)\n",
    "        model.fit(features_train_balanced_down, target_train_balanced_down)\n",
    "        target_predicted = model.predict(features_valid)\n",
    "        if f1_score(target_valid, target_predicted) > max_score_down:\n",
    "            best_depth_down = depth\n",
    "            best_estimator_down = estimator\n",
    "            max_score_down = f1_score(target_valid, target_predicted)\n",
    "print(f'Лучшая глубина для downsampled- {best_depth_down}, число деревьев - {best_estimator_down}, f1_score: {max_score_down:.2f}')"
   ]
  },
  {
   "cell_type": "code",
   "execution_count": 873,
   "metadata": {
    "scrolled": false
   },
   "outputs": [
    {
     "name": "stdout",
     "output_type": "stream",
     "text": [
      "LogisticRegression weighted, f1_score: 0.57\n"
     ]
    }
   ],
   "source": [
    "#LogisticRegression weighted\n",
    "model = LogisticRegression(class_weight='balanced', random_state=12345)\n",
    "model.fit(features_train, target_train)\n",
    "target_predicted = model.predict(features_valid)\n",
    "print(f'LogisticRegression weighted, f1_score: {f1_score(target_valid, target_predicted):.2f}')"
   ]
  },
  {
   "cell_type": "code",
   "execution_count": 874,
   "metadata": {},
   "outputs": [
    {
     "name": "stdout",
     "output_type": "stream",
     "text": [
      "ConstantModel, f1_score: 0.34\n"
     ]
    }
   ],
   "source": [
    "#Проверка адекватности лучшей модели\n",
    "model = RandomForestClassifier(random_state=12345, max_depth=best_depth_up, n_estimators=best_estimator_up)\n",
    "model.fit(features_train_balanced_up, target_train_balanced_up)\n",
    "target_predicted = pd.Series([1]*len(target_valid))\n",
    "print(f'ConstantModel, f1_score: {f1_score(target_valid, target_predicted):.2f}')"
   ]
  },
  {
   "cell_type": "markdown",
   "metadata": {},
   "source": [
    "**Вывод**   \n",
    "Наилучшая модель - случайный лес с глубиной 9 и числом деревьев 17 для отбалансированной выборки в большую сторону. Разница в f1_score с константной моделью значительна => модель адекватна."
   ]
  },
  {
   "cell_type": "markdown",
   "metadata": {},
   "source": [
    "## Тестирование модели"
   ]
  },
  {
   "cell_type": "markdown",
   "metadata": {},
   "source": [
    "Протестируем модель, полученную на предыдущем шаге."
   ]
  },
  {
   "cell_type": "code",
   "execution_count": 875,
   "metadata": {},
   "outputs": [
    {
     "name": "stdout",
     "output_type": "stream",
     "text": [
      "RandomForestClassifier, f1_score: 0.59\n"
     ]
    }
   ],
   "source": [
    "model = RandomForestClassifier(random_state=12345, max_depth=best_depth_up, n_estimators=best_estimator_up)\n",
    "model.fit(features_train_balanced_up, target_train_balanced_up)\n",
    "target_predicted = model.predict(features_test)\n",
    "print(f'RandomForestClassifier, f1_score: {f1_score(target_test, target_predicted):.2f}')"
   ]
  },
  {
   "cell_type": "code",
   "execution_count": 876,
   "metadata": {},
   "outputs": [
    {
     "name": "stdout",
     "output_type": "stream",
     "text": [
      "auc_roc score равен 0.83\n"
     ]
    }
   ],
   "source": [
    "probabilities = model.predict_proba(features_test)\n",
    "probabilities_one = probabilities[:,1]\n",
    "\n",
    "auc_roc = roc_auc_score(target_test, probabilities_one)\n",
    "print(f'auc_roc score равен {auc_roc:.2f}')"
   ]
  },
  {
   "cell_type": "markdown",
   "metadata": {},
   "source": [
    "**Вывод**   \n",
    "F1_score для модели на тестовых данных оказался выше 0.59 => данная модель приемлема для исследования, что подтверждается и высоким значением roc_auc."
   ]
  },
  {
   "cell_type": "markdown",
   "metadata": {},
   "source": [
    "## Чек-лист готовности проекта"
   ]
  },
  {
   "cell_type": "markdown",
   "metadata": {},
   "source": [
    "Поставьте 'x' в выполненных пунктах. Далее нажмите Shift+Enter."
   ]
  },
  {
   "cell_type": "markdown",
   "metadata": {},
   "source": [
    "- [x]  Jupyter Notebook открыт\n",
    "- [x]  Весь код выполняется без ошибок\n",
    "- [x]  Ячейки с кодом расположены в порядке исполнения\n",
    "- [x]  Выполнен шаг 1: данные подготовлены\n",
    "- [x]  Выполнен шаг 2: задача исследована\n",
    "    - [x]  Исследован баланс классов\n",
    "    - [x]  Изучены модели без учёта дисбаланса\n",
    "    - [x]  Написаны выводы по результатам исследования\n",
    "- [x]  Выполнен шаг 3: учтён дисбаланс\n",
    "    - [x]  Применено несколько способов борьбы с дисбалансом\n",
    "    - [x]  Написаны выводы по результатам исследования\n",
    "- [x]  Выполнен шаг 4: проведено тестирование\n",
    "- [x]  Удалось достичь *F1*-меры не менее 0.59\n",
    "- [x]  Исследована метрика *AUC-ROC*"
   ]
  }
 ],
 "metadata": {
  "ExecuteTimeLog": [
   {
    "duration": 759,
    "start_time": "2022-02-28T15:03:44.172Z"
   },
   {
    "duration": 46,
    "start_time": "2022-02-28T15:04:22.974Z"
   },
   {
    "duration": 344,
    "start_time": "2022-02-28T15:09:36.550Z"
   },
   {
    "duration": 36,
    "start_time": "2022-02-28T15:09:44.578Z"
   },
   {
    "duration": 58,
    "start_time": "2022-02-28T15:12:46.098Z"
   },
   {
    "duration": 46,
    "start_time": "2022-02-28T15:25:06.906Z"
   },
   {
    "duration": 18,
    "start_time": "2022-02-28T15:25:57.210Z"
   },
   {
    "duration": 23,
    "start_time": "2022-02-28T15:31:27.069Z"
   },
   {
    "duration": 24,
    "start_time": "2022-02-28T15:35:15.753Z"
   },
   {
    "duration": 13,
    "start_time": "2022-02-28T15:39:08.685Z"
   },
   {
    "duration": 4,
    "start_time": "2022-02-28T15:41:44.920Z"
   },
   {
    "duration": 61,
    "start_time": "2022-02-28T15:41:44.927Z"
   },
   {
    "duration": 20,
    "start_time": "2022-02-28T15:41:44.992Z"
   },
   {
    "duration": 338,
    "start_time": "2022-02-28T15:41:45.015Z"
   },
   {
    "duration": 4,
    "start_time": "2022-02-28T15:42:29.285Z"
   },
   {
    "duration": 57,
    "start_time": "2022-02-28T15:42:29.293Z"
   },
   {
    "duration": 19,
    "start_time": "2022-02-28T15:42:29.353Z"
   },
   {
    "duration": 20,
    "start_time": "2022-02-28T15:42:29.375Z"
   },
   {
    "duration": 23,
    "start_time": "2022-02-28T15:43:56.897Z"
   },
   {
    "duration": 23,
    "start_time": "2022-02-28T15:45:20.093Z"
   },
   {
    "duration": 16,
    "start_time": "2022-02-28T15:48:59.877Z"
   },
   {
    "duration": 38,
    "start_time": "2022-02-28T15:51:39.450Z"
   },
   {
    "duration": 664,
    "start_time": "2022-02-28T16:03:38.438Z"
   },
   {
    "duration": 330,
    "start_time": "2022-02-28T16:04:02.358Z"
   },
   {
    "duration": 922,
    "start_time": "2022-02-28T16:04:08.944Z"
   },
   {
    "duration": 844,
    "start_time": "2022-02-28T16:05:03.040Z"
   },
   {
    "duration": 829,
    "start_time": "2022-02-28T16:05:34.069Z"
   },
   {
    "duration": 6357,
    "start_time": "2022-02-28T16:06:02.738Z"
   },
   {
    "duration": 891,
    "start_time": "2022-02-28T16:06:15.718Z"
   },
   {
    "duration": 1480,
    "start_time": "2022-02-28T16:06:34.317Z"
   },
   {
    "duration": 7,
    "start_time": "2022-02-28T16:07:10.735Z"
   },
   {
    "duration": 6,
    "start_time": "2022-02-28T16:07:17.228Z"
   },
   {
    "duration": 6,
    "start_time": "2022-02-28T16:07:50.278Z"
   },
   {
    "duration": 7,
    "start_time": "2022-02-28T16:07:58.158Z"
   },
   {
    "duration": 9,
    "start_time": "2022-02-28T16:08:56.081Z"
   },
   {
    "duration": 9,
    "start_time": "2022-02-28T16:09:03.127Z"
   },
   {
    "duration": 6,
    "start_time": "2022-02-28T16:09:36.089Z"
   },
   {
    "duration": 8,
    "start_time": "2022-02-28T16:09:44.632Z"
   },
   {
    "duration": 8,
    "start_time": "2022-02-28T16:13:06.743Z"
   },
   {
    "duration": 7,
    "start_time": "2022-02-28T16:14:11.188Z"
   },
   {
    "duration": 17,
    "start_time": "2022-02-28T16:16:11.980Z"
   },
   {
    "duration": 4,
    "start_time": "2022-02-28T16:18:01.269Z"
   },
   {
    "duration": 49,
    "start_time": "2022-02-28T16:18:01.275Z"
   },
   {
    "duration": 19,
    "start_time": "2022-02-28T16:18:01.327Z"
   },
   {
    "duration": 24,
    "start_time": "2022-02-28T16:18:01.349Z"
   },
   {
    "duration": 36,
    "start_time": "2022-02-28T16:18:01.376Z"
   },
   {
    "duration": 26,
    "start_time": "2022-02-28T16:18:01.414Z"
   },
   {
    "duration": 33,
    "start_time": "2022-02-28T16:18:01.443Z"
   },
   {
    "duration": 38,
    "start_time": "2022-02-28T16:18:01.479Z"
   },
   {
    "duration": 1099,
    "start_time": "2022-02-28T16:18:01.521Z"
   },
   {
    "duration": 8,
    "start_time": "2022-02-28T16:18:02.622Z"
   },
   {
    "duration": 13,
    "start_time": "2022-02-28T16:18:02.633Z"
   },
   {
    "duration": 4,
    "start_time": "2022-02-28T16:21:47.238Z"
   },
   {
    "duration": 48,
    "start_time": "2022-02-28T16:21:47.245Z"
   },
   {
    "duration": 20,
    "start_time": "2022-02-28T16:21:47.297Z"
   },
   {
    "duration": 10,
    "start_time": "2022-02-28T16:21:47.320Z"
   },
   {
    "duration": 57,
    "start_time": "2022-02-28T16:21:47.332Z"
   },
   {
    "duration": 25,
    "start_time": "2022-02-28T16:21:47.392Z"
   },
   {
    "duration": 7,
    "start_time": "2022-02-28T16:21:47.421Z"
   },
   {
    "duration": 49,
    "start_time": "2022-02-28T16:21:47.431Z"
   },
   {
    "duration": 37,
    "start_time": "2022-02-28T16:21:54.721Z"
   },
   {
    "duration": 849,
    "start_time": "2022-02-28T16:22:37.811Z"
   },
   {
    "duration": 6,
    "start_time": "2022-02-28T16:22:44.240Z"
   },
   {
    "duration": 8,
    "start_time": "2022-02-28T16:23:04.029Z"
   },
   {
    "duration": 15,
    "start_time": "2022-02-28T16:25:10.666Z"
   },
   {
    "duration": 4,
    "start_time": "2022-02-28T16:25:48.089Z"
   },
   {
    "duration": 41,
    "start_time": "2022-02-28T16:25:48.096Z"
   },
   {
    "duration": 19,
    "start_time": "2022-02-28T16:25:48.140Z"
   },
   {
    "duration": 16,
    "start_time": "2022-02-28T16:25:48.162Z"
   },
   {
    "duration": 26,
    "start_time": "2022-02-28T16:25:48.181Z"
   },
   {
    "duration": 25,
    "start_time": "2022-02-28T16:25:48.210Z"
   },
   {
    "duration": 8,
    "start_time": "2022-02-28T16:25:48.274Z"
   },
   {
    "duration": 16,
    "start_time": "2022-02-28T16:25:48.284Z"
   },
   {
    "duration": 36,
    "start_time": "2022-02-28T16:25:48.303Z"
   },
   {
    "duration": 886,
    "start_time": "2022-02-28T16:25:48.341Z"
   },
   {
    "duration": 7,
    "start_time": "2022-02-28T16:25:49.229Z"
   },
   {
    "duration": 12,
    "start_time": "2022-02-28T16:25:49.238Z"
   },
   {
    "duration": 35,
    "start_time": "2022-02-28T16:25:49.252Z"
   },
   {
    "duration": 18,
    "start_time": "2022-02-28T16:26:29.955Z"
   },
   {
    "duration": 19,
    "start_time": "2022-02-28T16:26:35.452Z"
   },
   {
    "duration": 724,
    "start_time": "2022-02-28T16:35:43.149Z"
   },
   {
    "duration": 14,
    "start_time": "2022-02-28T16:39:32.917Z"
   },
   {
    "duration": 13,
    "start_time": "2022-02-28T16:49:08.223Z"
   },
   {
    "duration": 12,
    "start_time": "2022-02-28T16:54:16.150Z"
   },
   {
    "duration": 42,
    "start_time": "2022-02-28T16:56:52.515Z"
   },
   {
    "duration": 49,
    "start_time": "2022-02-28T16:57:13.311Z"
   },
   {
    "duration": 43,
    "start_time": "2022-02-28T16:57:13.363Z"
   },
   {
    "duration": 19,
    "start_time": "2022-02-28T16:57:13.410Z"
   },
   {
    "duration": 7,
    "start_time": "2022-02-28T16:57:13.432Z"
   },
   {
    "duration": 50,
    "start_time": "2022-02-28T16:57:13.441Z"
   },
   {
    "duration": 23,
    "start_time": "2022-02-28T16:57:13.494Z"
   },
   {
    "duration": 7,
    "start_time": "2022-02-28T16:57:13.519Z"
   },
   {
    "duration": 50,
    "start_time": "2022-02-28T16:57:13.529Z"
   },
   {
    "duration": 48,
    "start_time": "2022-02-28T16:57:13.583Z"
   },
   {
    "duration": 940,
    "start_time": "2022-02-28T16:57:13.633Z"
   },
   {
    "duration": 7,
    "start_time": "2022-02-28T16:57:14.576Z"
   },
   {
    "duration": 11,
    "start_time": "2022-02-28T16:57:14.586Z"
   },
   {
    "duration": 21,
    "start_time": "2022-02-28T16:57:14.599Z"
   },
   {
    "duration": 53,
    "start_time": "2022-02-28T16:57:14.622Z"
   },
   {
    "duration": 11,
    "start_time": "2022-02-28T16:57:14.677Z"
   },
   {
    "duration": 42,
    "start_time": "2022-02-28T16:57:14.690Z"
   },
   {
    "duration": 45,
    "start_time": "2022-02-28T16:57:31.299Z"
   },
   {
    "duration": 7084,
    "start_time": "2022-02-28T16:58:50.391Z"
   },
   {
    "duration": 6497,
    "start_time": "2022-02-28T16:59:41.430Z"
   },
   {
    "duration": 4,
    "start_time": "2022-02-28T17:01:29.495Z"
   },
   {
    "duration": 43,
    "start_time": "2022-02-28T17:01:29.503Z"
   },
   {
    "duration": 19,
    "start_time": "2022-02-28T17:01:29.549Z"
   },
   {
    "duration": 7,
    "start_time": "2022-02-28T17:01:29.575Z"
   },
   {
    "duration": 25,
    "start_time": "2022-02-28T17:01:29.585Z"
   },
   {
    "duration": 60,
    "start_time": "2022-02-28T17:01:29.613Z"
   },
   {
    "duration": 8,
    "start_time": "2022-02-28T17:01:29.676Z"
   },
   {
    "duration": 17,
    "start_time": "2022-02-28T17:01:29.686Z"
   },
   {
    "duration": 77,
    "start_time": "2022-02-28T17:01:29.706Z"
   },
   {
    "duration": 1116,
    "start_time": "2022-02-28T17:01:29.786Z"
   },
   {
    "duration": 6,
    "start_time": "2022-02-28T17:01:30.905Z"
   },
   {
    "duration": 19,
    "start_time": "2022-02-28T17:01:30.914Z"
   },
   {
    "duration": 47,
    "start_time": "2022-02-28T17:01:30.936Z"
   },
   {
    "duration": 18,
    "start_time": "2022-02-28T17:01:30.987Z"
   },
   {
    "duration": 16,
    "start_time": "2022-02-28T17:01:31.008Z"
   },
   {
    "duration": 235,
    "start_time": "2022-02-28T17:01:38.120Z"
   },
   {
    "duration": 4,
    "start_time": "2022-02-28T17:02:50.836Z"
   },
   {
    "duration": 45,
    "start_time": "2022-02-28T17:02:50.843Z"
   },
   {
    "duration": 18,
    "start_time": "2022-02-28T17:02:50.891Z"
   },
   {
    "duration": 8,
    "start_time": "2022-02-28T17:02:50.912Z"
   },
   {
    "duration": 52,
    "start_time": "2022-02-28T17:02:50.922Z"
   },
   {
    "duration": 24,
    "start_time": "2022-02-28T17:02:50.976Z"
   },
   {
    "duration": 8,
    "start_time": "2022-02-28T17:02:51.004Z"
   },
   {
    "duration": 16,
    "start_time": "2022-02-28T17:02:51.014Z"
   },
   {
    "duration": 71,
    "start_time": "2022-02-28T17:02:51.032Z"
   },
   {
    "duration": 857,
    "start_time": "2022-02-28T17:02:51.106Z"
   },
   {
    "duration": 13,
    "start_time": "2022-02-28T17:02:51.966Z"
   },
   {
    "duration": 11,
    "start_time": "2022-02-28T17:02:51.982Z"
   },
   {
    "duration": 19,
    "start_time": "2022-02-28T17:02:51.996Z"
   },
   {
    "duration": 12,
    "start_time": "2022-02-28T17:02:52.018Z"
   },
   {
    "duration": 10,
    "start_time": "2022-02-28T17:02:52.074Z"
   },
   {
    "duration": 42,
    "start_time": "2022-02-28T17:02:56.527Z"
   },
   {
    "duration": 40,
    "start_time": "2022-02-28T17:03:11.787Z"
   },
   {
    "duration": 4,
    "start_time": "2022-02-28T17:03:43.691Z"
   },
   {
    "duration": 40,
    "start_time": "2022-02-28T17:03:43.698Z"
   },
   {
    "duration": 19,
    "start_time": "2022-02-28T17:03:43.741Z"
   },
   {
    "duration": 12,
    "start_time": "2022-02-28T17:03:43.763Z"
   },
   {
    "duration": 237,
    "start_time": "2022-02-28T17:03:43.777Z"
   },
   {
    "duration": 22,
    "start_time": "2022-02-28T17:03:44.016Z"
   },
   {
    "duration": 31,
    "start_time": "2022-02-28T17:03:44.041Z"
   },
   {
    "duration": 15,
    "start_time": "2022-02-28T17:03:44.075Z"
   },
   {
    "duration": 36,
    "start_time": "2022-02-28T17:03:44.094Z"
   },
   {
    "duration": 875,
    "start_time": "2022-02-28T17:03:44.133Z"
   },
   {
    "duration": 7,
    "start_time": "2022-02-28T17:03:45.010Z"
   },
   {
    "duration": 19,
    "start_time": "2022-02-28T17:03:45.020Z"
   },
   {
    "duration": 44,
    "start_time": "2022-02-28T17:03:45.041Z"
   },
   {
    "duration": 13,
    "start_time": "2022-02-28T17:03:45.088Z"
   },
   {
    "duration": 13,
    "start_time": "2022-02-28T17:03:45.104Z"
   },
   {
    "duration": 47,
    "start_time": "2022-02-28T17:03:48.158Z"
   },
   {
    "duration": 4,
    "start_time": "2022-02-28T17:05:07.017Z"
   },
   {
    "duration": 49,
    "start_time": "2022-02-28T17:05:07.024Z"
   },
   {
    "duration": 20,
    "start_time": "2022-02-28T17:05:07.075Z"
   },
   {
    "duration": 9,
    "start_time": "2022-02-28T17:05:07.099Z"
   },
   {
    "duration": 25,
    "start_time": "2022-02-28T17:05:07.111Z"
   },
   {
    "duration": 56,
    "start_time": "2022-02-28T17:05:07.139Z"
   },
   {
    "duration": 7,
    "start_time": "2022-02-28T17:05:07.198Z"
   },
   {
    "duration": 18,
    "start_time": "2022-02-28T17:05:07.208Z"
   },
   {
    "duration": 72,
    "start_time": "2022-02-28T17:05:07.229Z"
   },
   {
    "duration": 847,
    "start_time": "2022-02-28T17:05:07.304Z"
   },
   {
    "duration": 19,
    "start_time": "2022-02-28T17:05:08.154Z"
   },
   {
    "duration": 8,
    "start_time": "2022-02-28T17:05:08.175Z"
   },
   {
    "duration": 22,
    "start_time": "2022-02-28T17:05:08.186Z"
   },
   {
    "duration": 12,
    "start_time": "2022-02-28T17:05:08.210Z"
   },
   {
    "duration": 54,
    "start_time": "2022-02-28T17:05:08.224Z"
   },
   {
    "duration": 39,
    "start_time": "2022-02-28T17:05:08.281Z"
   },
   {
    "duration": 4,
    "start_time": "2022-02-28T17:20:23.378Z"
   },
   {
    "duration": 62,
    "start_time": "2022-02-28T17:20:23.386Z"
   },
   {
    "duration": 18,
    "start_time": "2022-02-28T17:20:23.453Z"
   },
   {
    "duration": 22,
    "start_time": "2022-02-28T17:20:23.475Z"
   },
   {
    "duration": 39,
    "start_time": "2022-02-28T17:20:23.500Z"
   },
   {
    "duration": 47,
    "start_time": "2022-02-28T17:20:23.542Z"
   },
   {
    "duration": 10,
    "start_time": "2022-02-28T17:20:23.592Z"
   },
   {
    "duration": 37,
    "start_time": "2022-02-28T17:20:23.605Z"
   },
   {
    "duration": 46,
    "start_time": "2022-02-28T17:20:23.647Z"
   },
   {
    "duration": 894,
    "start_time": "2022-02-28T17:20:23.697Z"
   },
   {
    "duration": 7,
    "start_time": "2022-02-28T17:20:24.593Z"
   },
   {
    "duration": 19,
    "start_time": "2022-02-28T17:20:24.602Z"
   },
   {
    "duration": 40,
    "start_time": "2022-02-28T17:20:24.624Z"
   },
   {
    "duration": 14,
    "start_time": "2022-02-28T17:20:24.667Z"
   },
   {
    "duration": 36,
    "start_time": "2022-02-28T17:20:24.683Z"
   },
   {
    "duration": 133,
    "start_time": "2022-02-28T17:20:24.721Z"
   },
   {
    "duration": 4,
    "start_time": "2022-02-28T17:20:51.377Z"
   },
   {
    "duration": 41,
    "start_time": "2022-02-28T17:20:51.384Z"
   },
   {
    "duration": 18,
    "start_time": "2022-02-28T17:20:51.427Z"
   },
   {
    "duration": 29,
    "start_time": "2022-02-28T17:20:51.448Z"
   },
   {
    "duration": 25,
    "start_time": "2022-02-28T17:20:51.480Z"
   },
   {
    "duration": 25,
    "start_time": "2022-02-28T17:20:51.507Z"
   },
   {
    "duration": 38,
    "start_time": "2022-02-28T17:20:51.535Z"
   },
   {
    "duration": 16,
    "start_time": "2022-02-28T17:20:51.576Z"
   },
   {
    "duration": 36,
    "start_time": "2022-02-28T17:20:51.595Z"
   },
   {
    "duration": 871,
    "start_time": "2022-02-28T17:20:51.633Z"
   },
   {
    "duration": 7,
    "start_time": "2022-02-28T17:20:52.506Z"
   },
   {
    "duration": 9,
    "start_time": "2022-02-28T17:20:52.515Z"
   },
   {
    "duration": 50,
    "start_time": "2022-02-28T17:20:52.526Z"
   },
   {
    "duration": 12,
    "start_time": "2022-02-28T17:20:52.579Z"
   },
   {
    "duration": 14,
    "start_time": "2022-02-28T17:20:52.593Z"
   },
   {
    "duration": 65,
    "start_time": "2022-02-28T17:20:52.610Z"
   },
   {
    "duration": 4,
    "start_time": "2022-02-28T17:21:10.115Z"
   },
   {
    "duration": 39,
    "start_time": "2022-02-28T17:21:10.121Z"
   },
   {
    "duration": 18,
    "start_time": "2022-02-28T17:21:10.163Z"
   },
   {
    "duration": 6,
    "start_time": "2022-02-28T17:21:10.184Z"
   },
   {
    "duration": 24,
    "start_time": "2022-02-28T17:21:10.193Z"
   },
   {
    "duration": 22,
    "start_time": "2022-02-28T17:21:10.219Z"
   },
   {
    "duration": 36,
    "start_time": "2022-02-28T17:21:10.243Z"
   },
   {
    "duration": 16,
    "start_time": "2022-02-28T17:21:10.282Z"
   },
   {
    "duration": 284,
    "start_time": "2022-02-28T17:21:10.301Z"
   },
   {
    "duration": 871,
    "start_time": "2022-02-28T17:21:10.588Z"
   },
   {
    "duration": 13,
    "start_time": "2022-02-28T17:21:11.462Z"
   },
   {
    "duration": 14,
    "start_time": "2022-02-28T17:21:11.477Z"
   },
   {
    "duration": 22,
    "start_time": "2022-02-28T17:21:11.493Z"
   },
   {
    "duration": 13,
    "start_time": "2022-02-28T17:21:11.517Z"
   },
   {
    "duration": 45,
    "start_time": "2022-02-28T17:21:11.532Z"
   },
   {
    "duration": 35,
    "start_time": "2022-02-28T17:21:11.580Z"
   },
   {
    "duration": 5,
    "start_time": "2022-02-28T17:21:33.909Z"
   },
   {
    "duration": 40,
    "start_time": "2022-02-28T17:21:33.916Z"
   },
   {
    "duration": 18,
    "start_time": "2022-02-28T17:21:33.959Z"
   },
   {
    "duration": 10,
    "start_time": "2022-02-28T17:21:33.980Z"
   },
   {
    "duration": 29,
    "start_time": "2022-02-28T17:21:33.992Z"
   },
   {
    "duration": 53,
    "start_time": "2022-02-28T17:21:34.023Z"
   },
   {
    "duration": 8,
    "start_time": "2022-02-28T17:21:34.079Z"
   },
   {
    "duration": 23,
    "start_time": "2022-02-28T17:21:34.089Z"
   },
   {
    "duration": 66,
    "start_time": "2022-02-28T17:21:34.116Z"
   },
   {
    "duration": 883,
    "start_time": "2022-02-28T17:21:34.185Z"
   },
   {
    "duration": 8,
    "start_time": "2022-02-28T17:21:35.073Z"
   },
   {
    "duration": 25,
    "start_time": "2022-02-28T17:21:35.083Z"
   },
   {
    "duration": 24,
    "start_time": "2022-02-28T17:21:35.110Z"
   },
   {
    "duration": 14,
    "start_time": "2022-02-28T17:21:35.137Z"
   },
   {
    "duration": 11,
    "start_time": "2022-02-28T17:21:35.174Z"
   },
   {
    "duration": 39,
    "start_time": "2022-02-28T17:21:35.188Z"
   },
   {
    "duration": 4,
    "start_time": "2022-02-28T17:21:51.260Z"
   },
   {
    "duration": 38,
    "start_time": "2022-02-28T17:21:51.267Z"
   },
   {
    "duration": 18,
    "start_time": "2022-02-28T17:21:51.308Z"
   },
   {
    "duration": 11,
    "start_time": "2022-02-28T17:21:51.329Z"
   },
   {
    "duration": 49,
    "start_time": "2022-02-28T17:21:51.342Z"
   },
   {
    "duration": 25,
    "start_time": "2022-02-28T17:21:51.394Z"
   },
   {
    "duration": 8,
    "start_time": "2022-02-28T17:21:51.421Z"
   },
   {
    "duration": 45,
    "start_time": "2022-02-28T17:21:51.433Z"
   },
   {
    "duration": 39,
    "start_time": "2022-02-28T17:21:51.481Z"
   },
   {
    "duration": 872,
    "start_time": "2022-02-28T17:21:51.522Z"
   },
   {
    "duration": 8,
    "start_time": "2022-02-28T17:21:52.396Z"
   },
   {
    "duration": 11,
    "start_time": "2022-02-28T17:21:52.406Z"
   },
   {
    "duration": 20,
    "start_time": "2022-02-28T17:21:52.420Z"
   },
   {
    "duration": 13,
    "start_time": "2022-02-28T17:21:52.474Z"
   },
   {
    "duration": 10,
    "start_time": "2022-02-28T17:21:52.489Z"
   },
   {
    "duration": 180,
    "start_time": "2022-02-28T17:21:52.502Z"
   },
   {
    "duration": 4,
    "start_time": "2022-02-28T17:22:05.603Z"
   },
   {
    "duration": 43,
    "start_time": "2022-02-28T17:22:05.610Z"
   },
   {
    "duration": 18,
    "start_time": "2022-02-28T17:22:05.656Z"
   },
   {
    "duration": 13,
    "start_time": "2022-02-28T17:22:05.677Z"
   },
   {
    "duration": 38,
    "start_time": "2022-02-28T17:22:05.692Z"
   },
   {
    "duration": 43,
    "start_time": "2022-02-28T17:22:05.732Z"
   },
   {
    "duration": 8,
    "start_time": "2022-02-28T17:22:05.778Z"
   },
   {
    "duration": 24,
    "start_time": "2022-02-28T17:22:05.789Z"
   },
   {
    "duration": 66,
    "start_time": "2022-02-28T17:22:05.818Z"
   },
   {
    "duration": 871,
    "start_time": "2022-02-28T17:22:05.887Z"
   },
   {
    "duration": 15,
    "start_time": "2022-02-28T17:22:06.760Z"
   },
   {
    "duration": 10,
    "start_time": "2022-02-28T17:22:06.777Z"
   },
   {
    "duration": 21,
    "start_time": "2022-02-28T17:22:06.789Z"
   },
   {
    "duration": 13,
    "start_time": "2022-02-28T17:22:06.813Z"
   },
   {
    "duration": 44,
    "start_time": "2022-02-28T17:22:06.829Z"
   },
   {
    "duration": 174,
    "start_time": "2022-02-28T17:22:06.877Z"
   },
   {
    "duration": 4,
    "start_time": "2022-02-28T17:25:27.527Z"
   },
   {
    "duration": 36,
    "start_time": "2022-02-28T17:25:27.535Z"
   },
   {
    "duration": 19,
    "start_time": "2022-02-28T17:25:27.576Z"
   },
   {
    "duration": 9,
    "start_time": "2022-02-28T17:25:27.599Z"
   },
   {
    "duration": 268,
    "start_time": "2022-02-28T17:25:27.611Z"
   },
   {
    "duration": 22,
    "start_time": "2022-02-28T17:25:27.881Z"
   },
   {
    "duration": 8,
    "start_time": "2022-02-28T17:25:27.906Z"
   },
   {
    "duration": 17,
    "start_time": "2022-02-28T17:25:27.916Z"
   },
   {
    "duration": 72,
    "start_time": "2022-02-28T17:25:27.936Z"
   },
   {
    "duration": 1066,
    "start_time": "2022-02-28T17:25:28.011Z"
   },
   {
    "duration": 7,
    "start_time": "2022-02-28T17:25:29.079Z"
   },
   {
    "duration": 12,
    "start_time": "2022-02-28T17:25:29.088Z"
   },
   {
    "duration": 23,
    "start_time": "2022-02-28T17:25:29.102Z"
   },
   {
    "duration": 46,
    "start_time": "2022-02-28T17:25:29.128Z"
   },
   {
    "duration": 11,
    "start_time": "2022-02-28T17:25:29.176Z"
   },
   {
    "duration": 43,
    "start_time": "2022-02-28T17:25:29.189Z"
   },
   {
    "duration": 4,
    "start_time": "2022-02-28T17:25:39.873Z"
   },
   {
    "duration": 44,
    "start_time": "2022-02-28T17:25:39.879Z"
   },
   {
    "duration": 18,
    "start_time": "2022-02-28T17:25:39.927Z"
   },
   {
    "duration": 28,
    "start_time": "2022-02-28T17:25:39.948Z"
   },
   {
    "duration": 24,
    "start_time": "2022-02-28T17:25:39.979Z"
   },
   {
    "duration": 23,
    "start_time": "2022-02-28T17:25:40.005Z"
   },
   {
    "duration": 7,
    "start_time": "2022-02-28T17:25:40.031Z"
   },
   {
    "duration": 46,
    "start_time": "2022-02-28T17:25:40.040Z"
   },
   {
    "duration": 37,
    "start_time": "2022-02-28T17:25:40.089Z"
   },
   {
    "duration": 968,
    "start_time": "2022-02-28T17:25:40.128Z"
   },
   {
    "duration": 6,
    "start_time": "2022-02-28T17:25:41.099Z"
   },
   {
    "duration": 10,
    "start_time": "2022-02-28T17:25:41.107Z"
   },
   {
    "duration": 19,
    "start_time": "2022-02-28T17:25:41.119Z"
   },
   {
    "duration": 42,
    "start_time": "2022-02-28T17:25:41.140Z"
   },
   {
    "duration": 9,
    "start_time": "2022-02-28T17:25:41.185Z"
   },
   {
    "duration": 43,
    "start_time": "2022-02-28T17:25:41.197Z"
   },
   {
    "duration": 4,
    "start_time": "2022-02-28T17:26:02.672Z"
   },
   {
    "duration": 66,
    "start_time": "2022-02-28T17:26:02.681Z"
   },
   {
    "duration": 30,
    "start_time": "2022-02-28T17:26:02.750Z"
   },
   {
    "duration": 18,
    "start_time": "2022-02-28T17:26:02.784Z"
   },
   {
    "duration": 46,
    "start_time": "2022-02-28T17:26:02.806Z"
   },
   {
    "duration": 50,
    "start_time": "2022-02-28T17:26:02.855Z"
   },
   {
    "duration": 12,
    "start_time": "2022-02-28T17:26:02.908Z"
   },
   {
    "duration": 31,
    "start_time": "2022-02-28T17:26:02.923Z"
   },
   {
    "duration": 54,
    "start_time": "2022-02-28T17:26:02.958Z"
   },
   {
    "duration": 877,
    "start_time": "2022-02-28T17:26:03.014Z"
   },
   {
    "duration": 6,
    "start_time": "2022-02-28T17:26:03.894Z"
   },
   {
    "duration": 24,
    "start_time": "2022-02-28T17:26:03.902Z"
   },
   {
    "duration": 26,
    "start_time": "2022-02-28T17:26:03.929Z"
   },
   {
    "duration": 13,
    "start_time": "2022-02-28T17:26:03.975Z"
   },
   {
    "duration": 10,
    "start_time": "2022-02-28T17:26:03.991Z"
   },
   {
    "duration": 70,
    "start_time": "2022-02-28T17:26:04.004Z"
   },
   {
    "duration": 5,
    "start_time": "2022-02-28T17:26:28.319Z"
   },
   {
    "duration": 40,
    "start_time": "2022-02-28T17:26:28.327Z"
   },
   {
    "duration": 18,
    "start_time": "2022-02-28T17:26:28.370Z"
   },
   {
    "duration": 8,
    "start_time": "2022-02-28T17:26:28.392Z"
   },
   {
    "duration": 25,
    "start_time": "2022-02-28T17:26:28.403Z"
   },
   {
    "duration": 52,
    "start_time": "2022-02-28T17:26:28.431Z"
   },
   {
    "duration": 8,
    "start_time": "2022-02-28T17:26:28.486Z"
   },
   {
    "duration": 16,
    "start_time": "2022-02-28T17:26:28.498Z"
   },
   {
    "duration": 71,
    "start_time": "2022-02-28T17:26:28.517Z"
   },
   {
    "duration": 958,
    "start_time": "2022-02-28T17:26:28.590Z"
   },
   {
    "duration": 23,
    "start_time": "2022-02-28T17:26:29.550Z"
   },
   {
    "duration": 12,
    "start_time": "2022-02-28T17:26:29.575Z"
   },
   {
    "duration": 22,
    "start_time": "2022-02-28T17:26:29.589Z"
   },
   {
    "duration": 13,
    "start_time": "2022-02-28T17:26:29.614Z"
   },
   {
    "duration": 44,
    "start_time": "2022-02-28T17:26:29.629Z"
   },
   {
    "duration": 40,
    "start_time": "2022-02-28T17:26:29.676Z"
   },
   {
    "duration": 5,
    "start_time": "2022-02-28T17:27:54.495Z"
   },
   {
    "duration": 44,
    "start_time": "2022-02-28T17:27:54.503Z"
   },
   {
    "duration": 18,
    "start_time": "2022-02-28T17:27:54.550Z"
   },
   {
    "duration": 7,
    "start_time": "2022-02-28T17:27:54.574Z"
   },
   {
    "duration": 24,
    "start_time": "2022-02-28T17:27:54.583Z"
   },
   {
    "duration": 271,
    "start_time": "2022-02-28T17:27:54.610Z"
   },
   {
    "duration": 8,
    "start_time": "2022-02-28T17:27:54.884Z"
   },
   {
    "duration": 17,
    "start_time": "2022-02-28T17:27:54.894Z"
   },
   {
    "duration": 61,
    "start_time": "2022-02-28T17:27:54.915Z"
   },
   {
    "duration": 872,
    "start_time": "2022-02-28T17:27:54.979Z"
   },
   {
    "duration": 7,
    "start_time": "2022-02-28T17:27:55.853Z"
   },
   {
    "duration": 7,
    "start_time": "2022-02-28T17:27:55.874Z"
   },
   {
    "duration": 22,
    "start_time": "2022-02-28T17:27:55.883Z"
   },
   {
    "duration": 14,
    "start_time": "2022-02-28T17:27:55.907Z"
   },
   {
    "duration": 13,
    "start_time": "2022-02-28T17:27:55.923Z"
   },
   {
    "duration": 44,
    "start_time": "2022-02-28T17:27:55.974Z"
   },
   {
    "duration": 4,
    "start_time": "2022-02-28T17:28:37.712Z"
   },
   {
    "duration": 37,
    "start_time": "2022-02-28T17:28:37.719Z"
   },
   {
    "duration": 18,
    "start_time": "2022-02-28T17:28:37.759Z"
   },
   {
    "duration": 8,
    "start_time": "2022-02-28T17:28:37.779Z"
   },
   {
    "duration": 23,
    "start_time": "2022-02-28T17:28:37.789Z"
   },
   {
    "duration": 23,
    "start_time": "2022-02-28T17:28:37.815Z"
   },
   {
    "duration": 37,
    "start_time": "2022-02-28T17:28:37.840Z"
   },
   {
    "duration": 17,
    "start_time": "2022-02-28T17:28:37.880Z"
   },
   {
    "duration": 37,
    "start_time": "2022-02-28T17:28:37.901Z"
   },
   {
    "duration": 876,
    "start_time": "2022-02-28T17:28:37.941Z"
   },
   {
    "duration": 6,
    "start_time": "2022-02-28T17:28:38.820Z"
   },
   {
    "duration": 10,
    "start_time": "2022-02-28T17:28:38.828Z"
   },
   {
    "duration": 45,
    "start_time": "2022-02-28T17:28:38.840Z"
   },
   {
    "duration": 13,
    "start_time": "2022-02-28T17:28:38.888Z"
   },
   {
    "duration": 15,
    "start_time": "2022-02-28T17:28:38.903Z"
   },
   {
    "duration": 77,
    "start_time": "2022-02-28T17:28:38.922Z"
   },
   {
    "duration": 239,
    "start_time": "2022-02-28T17:28:59.204Z"
   },
   {
    "duration": 4,
    "start_time": "2022-02-28T17:29:06.924Z"
   },
   {
    "duration": 44,
    "start_time": "2022-02-28T17:29:06.931Z"
   },
   {
    "duration": 19,
    "start_time": "2022-02-28T17:29:06.978Z"
   },
   {
    "duration": 22,
    "start_time": "2022-02-28T17:29:07.000Z"
   },
   {
    "duration": 55,
    "start_time": "2022-02-28T17:29:07.025Z"
   },
   {
    "duration": 43,
    "start_time": "2022-02-28T17:29:07.082Z"
   },
   {
    "duration": 8,
    "start_time": "2022-02-28T17:29:07.127Z"
   },
   {
    "duration": 17,
    "start_time": "2022-02-28T17:29:07.138Z"
   },
   {
    "duration": 51,
    "start_time": "2022-02-28T17:29:07.159Z"
   },
   {
    "duration": 886,
    "start_time": "2022-02-28T17:29:07.213Z"
   },
   {
    "duration": 7,
    "start_time": "2022-02-28T17:29:08.102Z"
   },
   {
    "duration": 10,
    "start_time": "2022-02-28T17:29:08.111Z"
   },
   {
    "duration": 52,
    "start_time": "2022-02-28T17:29:08.123Z"
   },
   {
    "duration": 13,
    "start_time": "2022-02-28T17:29:08.177Z"
   },
   {
    "duration": 10,
    "start_time": "2022-02-28T17:29:08.192Z"
   },
   {
    "duration": 80,
    "start_time": "2022-02-28T17:29:08.204Z"
   },
   {
    "duration": 4,
    "start_time": "2022-02-28T17:29:41.559Z"
   },
   {
    "duration": 38,
    "start_time": "2022-02-28T17:29:41.567Z"
   },
   {
    "duration": 18,
    "start_time": "2022-02-28T17:29:41.609Z"
   },
   {
    "duration": 7,
    "start_time": "2022-02-28T17:29:41.630Z"
   },
   {
    "duration": 57,
    "start_time": "2022-02-28T17:29:41.639Z"
   },
   {
    "duration": 23,
    "start_time": "2022-02-28T17:29:41.698Z"
   },
   {
    "duration": 8,
    "start_time": "2022-02-28T17:29:41.724Z"
   },
   {
    "duration": 52,
    "start_time": "2022-02-28T17:29:41.735Z"
   },
   {
    "duration": 39,
    "start_time": "2022-02-28T17:29:41.792Z"
   },
   {
    "duration": 877,
    "start_time": "2022-02-28T17:29:41.834Z"
   },
   {
    "duration": 8,
    "start_time": "2022-02-28T17:29:42.713Z"
   },
   {
    "duration": 10,
    "start_time": "2022-02-28T17:29:42.724Z"
   },
   {
    "duration": 53,
    "start_time": "2022-02-28T17:29:42.736Z"
   },
   {
    "duration": 13,
    "start_time": "2022-02-28T17:29:42.792Z"
   },
   {
    "duration": 12,
    "start_time": "2022-02-28T17:29:42.807Z"
   },
   {
    "duration": 307,
    "start_time": "2022-02-28T17:29:42.821Z"
   },
   {
    "duration": 6,
    "start_time": "2022-02-28T17:31:28.007Z"
   },
   {
    "duration": 267,
    "start_time": "2022-02-28T17:33:24.000Z"
   },
   {
    "duration": 238,
    "start_time": "2022-02-28T17:33:40.094Z"
   },
   {
    "duration": 243,
    "start_time": "2022-02-28T17:34:07.852Z"
   },
   {
    "duration": 258,
    "start_time": "2022-02-28T17:34:22.491Z"
   },
   {
    "duration": 14,
    "start_time": "2022-02-28T17:34:39.158Z"
   },
   {
    "duration": 247,
    "start_time": "2022-02-28T17:35:01.211Z"
   },
   {
    "duration": 235,
    "start_time": "2022-02-28T17:36:18.447Z"
   },
   {
    "duration": 342,
    "start_time": "2022-02-28T17:39:51.845Z"
   },
   {
    "duration": 252,
    "start_time": "2022-02-28T17:43:20.819Z"
   },
   {
    "duration": 6,
    "start_time": "2022-02-28T17:43:21.069Z"
   },
   {
    "duration": 6,
    "start_time": "2022-02-28T17:43:21.071Z"
   },
   {
    "duration": -25,
    "start_time": "2022-02-28T17:43:21.103Z"
   },
   {
    "duration": -26,
    "start_time": "2022-02-28T17:43:21.105Z"
   },
   {
    "duration": -25,
    "start_time": "2022-02-28T17:43:21.106Z"
   },
   {
    "duration": -25,
    "start_time": "2022-02-28T17:43:21.107Z"
   },
   {
    "duration": -24,
    "start_time": "2022-02-28T17:43:21.108Z"
   },
   {
    "duration": -24,
    "start_time": "2022-02-28T17:43:21.109Z"
   },
   {
    "duration": -24,
    "start_time": "2022-02-28T17:43:21.110Z"
   },
   {
    "duration": -23,
    "start_time": "2022-02-28T17:43:21.111Z"
   },
   {
    "duration": -25,
    "start_time": "2022-02-28T17:43:21.114Z"
   },
   {
    "duration": -27,
    "start_time": "2022-02-28T17:43:21.117Z"
   },
   {
    "duration": -27,
    "start_time": "2022-02-28T17:43:21.119Z"
   },
   {
    "duration": -27,
    "start_time": "2022-02-28T17:43:21.120Z"
   },
   {
    "duration": -26,
    "start_time": "2022-02-28T17:43:21.121Z"
   },
   {
    "duration": -26,
    "start_time": "2022-02-28T17:43:21.122Z"
   },
   {
    "duration": 252,
    "start_time": "2022-02-28T17:44:12.723Z"
   },
   {
    "duration": -13,
    "start_time": "2022-02-28T17:44:12.991Z"
   },
   {
    "duration": -13,
    "start_time": "2022-02-28T17:44:12.993Z"
   },
   {
    "duration": -13,
    "start_time": "2022-02-28T17:44:12.994Z"
   },
   {
    "duration": -48,
    "start_time": "2022-02-28T17:44:13.031Z"
   },
   {
    "duration": -48,
    "start_time": "2022-02-28T17:44:13.033Z"
   },
   {
    "duration": -48,
    "start_time": "2022-02-28T17:44:13.034Z"
   },
   {
    "duration": -48,
    "start_time": "2022-02-28T17:44:13.036Z"
   },
   {
    "duration": -48,
    "start_time": "2022-02-28T17:44:13.037Z"
   },
   {
    "duration": -47,
    "start_time": "2022-02-28T17:44:13.038Z"
   },
   {
    "duration": -46,
    "start_time": "2022-02-28T17:44:13.039Z"
   },
   {
    "duration": -45,
    "start_time": "2022-02-28T17:44:13.040Z"
   },
   {
    "duration": -46,
    "start_time": "2022-02-28T17:44:13.042Z"
   },
   {
    "duration": -45,
    "start_time": "2022-02-28T17:44:13.043Z"
   },
   {
    "duration": -44,
    "start_time": "2022-02-28T17:44:13.044Z"
   },
   {
    "duration": -41,
    "start_time": "2022-02-28T17:44:13.045Z"
   },
   {
    "duration": -41,
    "start_time": "2022-02-28T17:44:13.047Z"
   },
   {
    "duration": 266,
    "start_time": "2022-02-28T17:45:14.242Z"
   },
   {
    "duration": -30,
    "start_time": "2022-02-28T17:45:14.541Z"
   },
   {
    "duration": -35,
    "start_time": "2022-02-28T17:45:14.548Z"
   },
   {
    "duration": -60,
    "start_time": "2022-02-28T17:45:14.574Z"
   },
   {
    "duration": -64,
    "start_time": "2022-02-28T17:45:14.580Z"
   },
   {
    "duration": -69,
    "start_time": "2022-02-28T17:45:14.586Z"
   },
   {
    "duration": -69,
    "start_time": "2022-02-28T17:45:14.588Z"
   },
   {
    "duration": -72,
    "start_time": "2022-02-28T17:45:14.592Z"
   },
   {
    "duration": -75,
    "start_time": "2022-02-28T17:45:14.597Z"
   },
   {
    "duration": -78,
    "start_time": "2022-02-28T17:45:14.601Z"
   },
   {
    "duration": -80,
    "start_time": "2022-02-28T17:45:14.605Z"
   },
   {
    "duration": -85,
    "start_time": "2022-02-28T17:45:14.611Z"
   },
   {
    "duration": -89,
    "start_time": "2022-02-28T17:45:14.616Z"
   },
   {
    "duration": -88,
    "start_time": "2022-02-28T17:45:14.617Z"
   },
   {
    "duration": -91,
    "start_time": "2022-02-28T17:45:14.621Z"
   },
   {
    "duration": -92,
    "start_time": "2022-02-28T17:45:14.624Z"
   },
   {
    "duration": -96,
    "start_time": "2022-02-28T17:45:14.629Z"
   },
   {
    "duration": 267,
    "start_time": "2022-02-28T17:45:37.130Z"
   },
   {
    "duration": -102,
    "start_time": "2022-02-28T17:45:37.503Z"
   },
   {
    "duration": -103,
    "start_time": "2022-02-28T17:45:37.505Z"
   },
   {
    "duration": -102,
    "start_time": "2022-02-28T17:45:37.506Z"
   },
   {
    "duration": -121,
    "start_time": "2022-02-28T17:45:37.526Z"
   },
   {
    "duration": -127,
    "start_time": "2022-02-28T17:45:37.534Z"
   },
   {
    "duration": -128,
    "start_time": "2022-02-28T17:45:37.536Z"
   },
   {
    "duration": -129,
    "start_time": "2022-02-28T17:45:37.538Z"
   },
   {
    "duration": -128,
    "start_time": "2022-02-28T17:45:37.539Z"
   },
   {
    "duration": -128,
    "start_time": "2022-02-28T17:45:37.541Z"
   },
   {
    "duration": -129,
    "start_time": "2022-02-28T17:45:37.545Z"
   },
   {
    "duration": -128,
    "start_time": "2022-02-28T17:45:37.546Z"
   },
   {
    "duration": -129,
    "start_time": "2022-02-28T17:45:37.549Z"
   },
   {
    "duration": -128,
    "start_time": "2022-02-28T17:45:37.551Z"
   },
   {
    "duration": -127,
    "start_time": "2022-02-28T17:45:37.552Z"
   },
   {
    "duration": -126,
    "start_time": "2022-02-28T17:45:37.553Z"
   },
   {
    "duration": 1270,
    "start_time": "2022-03-03T13:25:49.260Z"
   },
   {
    "duration": 35,
    "start_time": "2022-03-03T13:25:50.498Z"
   },
   {
    "duration": 29,
    "start_time": "2022-03-03T13:25:50.505Z"
   },
   {
    "duration": 22,
    "start_time": "2022-03-03T13:25:50.513Z"
   },
   {
    "duration": 12,
    "start_time": "2022-03-03T13:25:50.524Z"
   },
   {
    "duration": 6,
    "start_time": "2022-03-03T13:25:50.531Z"
   },
   {
    "duration": 5,
    "start_time": "2022-03-03T13:25:50.533Z"
   },
   {
    "duration": 2,
    "start_time": "2022-03-03T13:25:50.537Z"
   },
   {
    "duration": -3,
    "start_time": "2022-03-03T13:25:50.543Z"
   },
   {
    "duration": -6,
    "start_time": "2022-03-03T13:25:50.547Z"
   },
   {
    "duration": -6,
    "start_time": "2022-03-03T13:25:50.548Z"
   },
   {
    "duration": -6,
    "start_time": "2022-03-03T13:25:50.549Z"
   },
   {
    "duration": -7,
    "start_time": "2022-03-03T13:25:50.551Z"
   },
   {
    "duration": -8,
    "start_time": "2022-03-03T13:25:50.553Z"
   },
   {
    "duration": -65,
    "start_time": "2022-03-03T13:25:50.611Z"
   },
   {
    "duration": -67,
    "start_time": "2022-03-03T13:25:50.614Z"
   },
   {
    "duration": -67,
    "start_time": "2022-03-03T13:25:50.615Z"
   },
   {
    "duration": 3,
    "start_time": "2022-03-03T13:26:32.132Z"
   },
   {
    "duration": 35,
    "start_time": "2022-03-03T13:26:32.137Z"
   },
   {
    "duration": 18,
    "start_time": "2022-03-03T13:26:32.175Z"
   },
   {
    "duration": 6,
    "start_time": "2022-03-03T13:26:32.195Z"
   },
   {
    "duration": 34,
    "start_time": "2022-03-03T13:26:32.203Z"
   },
   {
    "duration": 14,
    "start_time": "2022-03-03T13:26:32.239Z"
   },
   {
    "duration": 6,
    "start_time": "2022-03-03T13:26:32.255Z"
   },
   {
    "duration": 19,
    "start_time": "2022-03-03T13:26:32.263Z"
   },
   {
    "duration": 23,
    "start_time": "2022-03-03T13:26:32.285Z"
   },
   {
    "duration": 571,
    "start_time": "2022-03-03T13:26:32.310Z"
   },
   {
    "duration": 6,
    "start_time": "2022-03-03T13:26:32.883Z"
   },
   {
    "duration": 13,
    "start_time": "2022-03-03T13:26:32.890Z"
   },
   {
    "duration": 16,
    "start_time": "2022-03-03T13:26:32.905Z"
   },
   {
    "duration": 182,
    "start_time": "2022-03-03T13:26:32.932Z"
   },
   {
    "duration": 75,
    "start_time": "2022-03-03T13:26:33.041Z"
   },
   {
    "duration": 74,
    "start_time": "2022-03-03T13:26:33.043Z"
   },
   {
    "duration": 73,
    "start_time": "2022-03-03T13:26:33.045Z"
   },
   {
    "duration": 3,
    "start_time": "2022-03-03T13:27:20.678Z"
   },
   {
    "duration": 54,
    "start_time": "2022-03-03T13:27:20.683Z"
   },
   {
    "duration": 14,
    "start_time": "2022-03-03T13:27:20.739Z"
   },
   {
    "duration": 13,
    "start_time": "2022-03-03T13:27:20.755Z"
   },
   {
    "duration": 15,
    "start_time": "2022-03-03T13:27:20.770Z"
   },
   {
    "duration": 15,
    "start_time": "2022-03-03T13:27:20.787Z"
   },
   {
    "duration": 5,
    "start_time": "2022-03-03T13:27:20.803Z"
   },
   {
    "duration": 31,
    "start_time": "2022-03-03T13:27:20.810Z"
   },
   {
    "duration": 22,
    "start_time": "2022-03-03T13:27:20.843Z"
   },
   {
    "duration": 492,
    "start_time": "2022-03-03T13:27:20.866Z"
   },
   {
    "duration": 5,
    "start_time": "2022-03-03T13:27:21.359Z"
   },
   {
    "duration": 6,
    "start_time": "2022-03-03T13:27:21.365Z"
   },
   {
    "duration": 12,
    "start_time": "2022-03-03T13:27:21.373Z"
   },
   {
    "duration": 8,
    "start_time": "2022-03-03T13:27:21.386Z"
   },
   {
    "duration": 37,
    "start_time": "2022-03-03T13:27:21.396Z"
   },
   {
    "duration": 102,
    "start_time": "2022-03-03T13:27:21.434Z"
   },
   {
    "duration": 181,
    "start_time": "2022-03-03T13:27:21.538Z"
   },
   {
    "duration": 224,
    "start_time": "2022-03-03T13:29:17.780Z"
   },
   {
    "duration": 194,
    "start_time": "2022-03-03T13:31:03.410Z"
   },
   {
    "duration": 26,
    "start_time": "2022-03-03T13:35:52.798Z"
   },
   {
    "duration": 21,
    "start_time": "2022-03-03T13:36:48.305Z"
   },
   {
    "duration": 33,
    "start_time": "2022-03-03T13:37:02.548Z"
   },
   {
    "duration": 3,
    "start_time": "2022-03-03T13:37:31.326Z"
   },
   {
    "duration": 33,
    "start_time": "2022-03-03T13:37:31.331Z"
   },
   {
    "duration": 11,
    "start_time": "2022-03-03T13:37:31.366Z"
   },
   {
    "duration": 7,
    "start_time": "2022-03-03T13:37:31.379Z"
   },
   {
    "duration": 16,
    "start_time": "2022-03-03T13:37:31.388Z"
   },
   {
    "duration": 31,
    "start_time": "2022-03-03T13:37:31.406Z"
   },
   {
    "duration": 7,
    "start_time": "2022-03-03T13:37:31.439Z"
   },
   {
    "duration": 10,
    "start_time": "2022-03-03T13:37:31.448Z"
   },
   {
    "duration": 22,
    "start_time": "2022-03-03T13:37:31.461Z"
   },
   {
    "duration": 475,
    "start_time": "2022-03-03T13:37:31.485Z"
   },
   {
    "duration": 4,
    "start_time": "2022-03-03T13:37:31.961Z"
   },
   {
    "duration": 7,
    "start_time": "2022-03-03T13:37:31.967Z"
   },
   {
    "duration": 16,
    "start_time": "2022-03-03T13:37:31.975Z"
   },
   {
    "duration": 8,
    "start_time": "2022-03-03T13:37:31.993Z"
   },
   {
    "duration": 30,
    "start_time": "2022-03-03T13:37:32.002Z"
   },
   {
    "duration": 24,
    "start_time": "2022-03-03T13:37:32.034Z"
   },
   {
    "duration": 27,
    "start_time": "2022-03-03T13:37:35.229Z"
   },
   {
    "duration": 3,
    "start_time": "2022-03-03T13:38:34.194Z"
   },
   {
    "duration": 36,
    "start_time": "2022-03-03T13:38:34.199Z"
   },
   {
    "duration": 10,
    "start_time": "2022-03-03T13:38:34.237Z"
   },
   {
    "duration": 5,
    "start_time": "2022-03-03T13:38:34.249Z"
   },
   {
    "duration": 14,
    "start_time": "2022-03-03T13:38:34.255Z"
   },
   {
    "duration": 13,
    "start_time": "2022-03-03T13:38:34.271Z"
   },
   {
    "duration": 5,
    "start_time": "2022-03-03T13:38:34.285Z"
   },
   {
    "duration": 43,
    "start_time": "2022-03-03T13:38:34.291Z"
   },
   {
    "duration": 22,
    "start_time": "2022-03-03T13:38:34.337Z"
   },
   {
    "duration": 464,
    "start_time": "2022-03-03T13:38:34.361Z"
   },
   {
    "duration": 9,
    "start_time": "2022-03-03T13:38:34.826Z"
   },
   {
    "duration": 8,
    "start_time": "2022-03-03T13:38:34.836Z"
   },
   {
    "duration": 13,
    "start_time": "2022-03-03T13:38:34.845Z"
   },
   {
    "duration": 8,
    "start_time": "2022-03-03T13:38:34.859Z"
   },
   {
    "duration": 6,
    "start_time": "2022-03-03T13:38:34.868Z"
   },
   {
    "duration": 22,
    "start_time": "2022-03-03T13:38:34.875Z"
   },
   {
    "duration": 57,
    "start_time": "2022-03-03T13:38:34.899Z"
   },
   {
    "duration": 3,
    "start_time": "2022-03-03T13:39:59.575Z"
   },
   {
    "duration": 31,
    "start_time": "2022-03-03T13:39:59.580Z"
   },
   {
    "duration": 11,
    "start_time": "2022-03-03T13:39:59.613Z"
   },
   {
    "duration": 9,
    "start_time": "2022-03-03T13:39:59.626Z"
   },
   {
    "duration": 17,
    "start_time": "2022-03-03T13:39:59.636Z"
   },
   {
    "duration": 14,
    "start_time": "2022-03-03T13:39:59.654Z"
   },
   {
    "duration": 4,
    "start_time": "2022-03-03T13:39:59.670Z"
   },
   {
    "duration": 9,
    "start_time": "2022-03-03T13:39:59.676Z"
   },
   {
    "duration": 46,
    "start_time": "2022-03-03T13:39:59.687Z"
   },
   {
    "duration": 465,
    "start_time": "2022-03-03T13:39:59.735Z"
   },
   {
    "duration": 4,
    "start_time": "2022-03-03T13:40:00.201Z"
   },
   {
    "duration": 7,
    "start_time": "2022-03-03T13:40:00.207Z"
   },
   {
    "duration": 26,
    "start_time": "2022-03-03T13:40:00.215Z"
   },
   {
    "duration": 8,
    "start_time": "2022-03-03T13:40:00.243Z"
   },
   {
    "duration": 8,
    "start_time": "2022-03-03T13:40:00.253Z"
   },
   {
    "duration": 26,
    "start_time": "2022-03-03T13:40:00.262Z"
   },
   {
    "duration": 53,
    "start_time": "2022-03-03T13:40:00.289Z"
   },
   {
    "duration": 4,
    "start_time": "2022-03-03T13:42:06.787Z"
   },
   {
    "duration": 32,
    "start_time": "2022-03-03T13:42:06.792Z"
   },
   {
    "duration": 11,
    "start_time": "2022-03-03T13:42:06.825Z"
   },
   {
    "duration": 7,
    "start_time": "2022-03-03T13:42:06.838Z"
   },
   {
    "duration": 16,
    "start_time": "2022-03-03T13:42:06.847Z"
   },
   {
    "duration": 13,
    "start_time": "2022-03-03T13:42:06.865Z"
   },
   {
    "duration": 5,
    "start_time": "2022-03-03T13:42:06.879Z"
   },
   {
    "duration": 12,
    "start_time": "2022-03-03T13:42:06.886Z"
   },
   {
    "duration": 47,
    "start_time": "2022-03-03T13:42:06.900Z"
   },
   {
    "duration": 551,
    "start_time": "2022-03-03T13:42:06.948Z"
   },
   {
    "duration": 4,
    "start_time": "2022-03-03T13:42:07.501Z"
   },
   {
    "duration": 7,
    "start_time": "2022-03-03T13:42:07.507Z"
   },
   {
    "duration": 26,
    "start_time": "2022-03-03T13:42:07.515Z"
   },
   {
    "duration": 9,
    "start_time": "2022-03-03T13:42:07.543Z"
   },
   {
    "duration": 6,
    "start_time": "2022-03-03T13:42:07.554Z"
   },
   {
    "duration": 23,
    "start_time": "2022-03-03T13:42:07.563Z"
   },
   {
    "duration": 62,
    "start_time": "2022-03-03T13:42:07.588Z"
   },
   {
    "duration": 176,
    "start_time": "2022-03-03T13:48:18.499Z"
   },
   {
    "duration": 209,
    "start_time": "2022-03-03T13:48:36.049Z"
   },
   {
    "duration": 27,
    "start_time": "2022-03-03T13:49:18.564Z"
   },
   {
    "duration": 29,
    "start_time": "2022-03-03T13:50:43.734Z"
   },
   {
    "duration": 29,
    "start_time": "2022-03-03T13:51:25.540Z"
   },
   {
    "duration": 30,
    "start_time": "2022-03-03T13:52:04.295Z"
   },
   {
    "duration": 4,
    "start_time": "2022-03-03T13:52:22.018Z"
   },
   {
    "duration": 30,
    "start_time": "2022-03-03T13:52:28.288Z"
   },
   {
    "duration": 31,
    "start_time": "2022-03-03T14:06:04.184Z"
   },
   {
    "duration": 1215,
    "start_time": "2022-03-03T14:10:07.866Z"
   },
   {
    "duration": 1100,
    "start_time": "2022-03-03T14:10:26.551Z"
   },
   {
    "duration": 1104,
    "start_time": "2022-03-03T14:10:40.407Z"
   },
   {
    "duration": 365,
    "start_time": "2022-03-03T14:10:44.573Z"
   },
   {
    "duration": 357,
    "start_time": "2022-03-03T14:11:23.640Z"
   },
   {
    "duration": 4,
    "start_time": "2022-03-03T14:12:20.811Z"
   },
   {
    "duration": 36,
    "start_time": "2022-03-03T14:12:20.816Z"
   },
   {
    "duration": 11,
    "start_time": "2022-03-03T14:12:20.853Z"
   },
   {
    "duration": 9,
    "start_time": "2022-03-03T14:12:20.865Z"
   },
   {
    "duration": 16,
    "start_time": "2022-03-03T14:12:20.875Z"
   },
   {
    "duration": 13,
    "start_time": "2022-03-03T14:12:20.892Z"
   },
   {
    "duration": 27,
    "start_time": "2022-03-03T14:12:20.907Z"
   },
   {
    "duration": 9,
    "start_time": "2022-03-03T14:12:20.937Z"
   },
   {
    "duration": 21,
    "start_time": "2022-03-03T14:12:20.947Z"
   },
   {
    "duration": 476,
    "start_time": "2022-03-03T14:12:20.970Z"
   },
   {
    "duration": 5,
    "start_time": "2022-03-03T14:12:21.448Z"
   },
   {
    "duration": 11,
    "start_time": "2022-03-03T14:12:21.456Z"
   },
   {
    "duration": 18,
    "start_time": "2022-03-03T14:12:21.468Z"
   },
   {
    "duration": 9,
    "start_time": "2022-03-03T14:12:21.488Z"
   },
   {
    "duration": 7,
    "start_time": "2022-03-03T14:12:21.498Z"
   },
   {
    "duration": 44,
    "start_time": "2022-03-03T14:12:21.506Z"
   },
   {
    "duration": 27,
    "start_time": "2022-03-03T14:12:21.552Z"
   },
   {
    "duration": 356,
    "start_time": "2022-03-03T14:12:21.581Z"
   },
   {
    "duration": 1097,
    "start_time": "2022-03-03T14:12:29.848Z"
   },
   {
    "duration": 219,
    "start_time": "2022-03-03T14:15:27.089Z"
   },
   {
    "duration": 261,
    "start_time": "2022-03-03T14:15:44.119Z"
   },
   {
    "duration": 4,
    "start_time": "2022-03-03T14:21:17.392Z"
   },
   {
    "duration": 47,
    "start_time": "2022-03-03T14:21:17.403Z"
   },
   {
    "duration": 12,
    "start_time": "2022-03-03T14:21:17.473Z"
   },
   {
    "duration": 9,
    "start_time": "2022-03-03T14:21:17.499Z"
   },
   {
    "duration": 65,
    "start_time": "2022-03-03T14:21:17.747Z"
   },
   {
    "duration": 55,
    "start_time": "2022-03-03T14:21:17.759Z"
   },
   {
    "duration": 46,
    "start_time": "2022-03-03T14:21:17.769Z"
   },
   {
    "duration": 38,
    "start_time": "2022-03-03T14:21:17.779Z"
   },
   {
    "duration": 37,
    "start_time": "2022-03-03T14:21:17.782Z"
   },
   {
    "duration": 33,
    "start_time": "2022-03-03T14:21:17.787Z"
   },
   {
    "duration": 28,
    "start_time": "2022-03-03T14:21:17.794Z"
   },
   {
    "duration": 26,
    "start_time": "2022-03-03T14:21:17.798Z"
   },
   {
    "duration": 21,
    "start_time": "2022-03-03T14:21:17.804Z"
   },
   {
    "duration": 21,
    "start_time": "2022-03-03T14:21:17.806Z"
   },
   {
    "duration": 19,
    "start_time": "2022-03-03T14:21:17.809Z"
   },
   {
    "duration": 9,
    "start_time": "2022-03-03T14:21:17.822Z"
   },
   {
    "duration": 5,
    "start_time": "2022-03-03T14:21:17.827Z"
   },
   {
    "duration": 6,
    "start_time": "2022-03-03T14:21:17.828Z"
   },
   {
    "duration": 4,
    "start_time": "2022-03-03T14:21:40.236Z"
   },
   {
    "duration": 33,
    "start_time": "2022-03-03T14:21:40.242Z"
   },
   {
    "duration": 11,
    "start_time": "2022-03-03T14:21:40.278Z"
   },
   {
    "duration": 6,
    "start_time": "2022-03-03T14:21:40.291Z"
   },
   {
    "duration": 36,
    "start_time": "2022-03-03T14:21:40.298Z"
   },
   {
    "duration": 14,
    "start_time": "2022-03-03T14:21:40.336Z"
   },
   {
    "duration": 5,
    "start_time": "2022-03-03T14:21:40.352Z"
   },
   {
    "duration": 9,
    "start_time": "2022-03-03T14:21:40.359Z"
   },
   {
    "duration": 22,
    "start_time": "2022-03-03T14:21:40.370Z"
   },
   {
    "duration": 568,
    "start_time": "2022-03-03T14:21:40.394Z"
   },
   {
    "duration": 5,
    "start_time": "2022-03-03T14:21:40.964Z"
   },
   {
    "duration": 9,
    "start_time": "2022-03-03T14:21:40.970Z"
   },
   {
    "duration": 16,
    "start_time": "2022-03-03T14:21:40.981Z"
   },
   {
    "duration": 9,
    "start_time": "2022-03-03T14:21:40.998Z"
   },
   {
    "duration": 27,
    "start_time": "2022-03-03T14:21:41.009Z"
   },
   {
    "duration": 27,
    "start_time": "2022-03-03T14:21:41.038Z"
   },
   {
    "duration": 28,
    "start_time": "2022-03-03T14:21:41.067Z"
   },
   {
    "duration": 1109,
    "start_time": "2022-03-03T14:21:41.097Z"
   },
   {
    "duration": 1465,
    "start_time": "2022-03-03T14:21:50.249Z"
   },
   {
    "duration": 3,
    "start_time": "2022-03-03T14:29:17.312Z"
   },
   {
    "duration": 34,
    "start_time": "2022-03-03T14:29:17.317Z"
   },
   {
    "duration": 11,
    "start_time": "2022-03-03T14:29:17.352Z"
   },
   {
    "duration": 6,
    "start_time": "2022-03-03T14:29:17.365Z"
   },
   {
    "duration": 14,
    "start_time": "2022-03-03T14:29:17.372Z"
   },
   {
    "duration": 14,
    "start_time": "2022-03-03T14:29:17.388Z"
   },
   {
    "duration": 31,
    "start_time": "2022-03-03T14:29:17.404Z"
   },
   {
    "duration": 9,
    "start_time": "2022-03-03T14:29:17.437Z"
   },
   {
    "duration": 24,
    "start_time": "2022-03-03T14:29:17.447Z"
   },
   {
    "duration": 513,
    "start_time": "2022-03-03T14:29:17.473Z"
   },
   {
    "duration": 5,
    "start_time": "2022-03-03T14:29:17.988Z"
   },
   {
    "duration": 7,
    "start_time": "2022-03-03T14:29:17.994Z"
   },
   {
    "duration": 14,
    "start_time": "2022-03-03T14:29:18.003Z"
   },
   {
    "duration": 9,
    "start_time": "2022-03-03T14:29:18.033Z"
   },
   {
    "duration": 6,
    "start_time": "2022-03-03T14:29:18.044Z"
   },
   {
    "duration": 25,
    "start_time": "2022-03-03T14:29:18.051Z"
   },
   {
    "duration": 29,
    "start_time": "2022-03-03T14:29:18.077Z"
   },
   {
    "duration": 459,
    "start_time": "2022-03-03T14:29:18.107Z"
   },
   {
    "duration": 15424,
    "start_time": "2022-03-03T14:29:18.568Z"
   },
   {
    "duration": 26,
    "start_time": "2022-03-03T14:32:45.921Z"
   },
   {
    "duration": 29,
    "start_time": "2022-03-03T14:33:28.641Z"
   },
   {
    "duration": 86,
    "start_time": "2022-03-03T14:50:00.503Z"
   },
   {
    "duration": 16,
    "start_time": "2022-03-03T14:57:21.067Z"
   },
   {
    "duration": 7,
    "start_time": "2022-03-03T14:59:14.476Z"
   },
   {
    "duration": 8,
    "start_time": "2022-03-03T15:00:38.396Z"
   },
   {
    "duration": 4724,
    "start_time": "2022-03-03T15:01:15.129Z"
   },
   {
    "duration": 208,
    "start_time": "2022-03-03T15:01:27.203Z"
   },
   {
    "duration": 195,
    "start_time": "2022-03-03T15:01:37.944Z"
   },
   {
    "duration": 229,
    "start_time": "2022-03-03T15:02:09.857Z"
   },
   {
    "duration": 6,
    "start_time": "2022-03-03T15:02:24.120Z"
   },
   {
    "duration": 6,
    "start_time": "2022-03-03T15:04:23.079Z"
   },
   {
    "duration": 12,
    "start_time": "2022-03-03T15:04:29.154Z"
   },
   {
    "duration": 7,
    "start_time": "2022-03-03T15:04:34.195Z"
   },
   {
    "duration": 6,
    "start_time": "2022-03-03T15:05:12.528Z"
   },
   {
    "duration": 4,
    "start_time": "2022-03-03T15:12:33.388Z"
   },
   {
    "duration": 18,
    "start_time": "2022-03-03T15:13:15.384Z"
   },
   {
    "duration": 6,
    "start_time": "2022-03-03T15:14:27.601Z"
   },
   {
    "duration": 5,
    "start_time": "2022-03-03T15:14:35.874Z"
   },
   {
    "duration": 16,
    "start_time": "2022-03-03T15:16:31.900Z"
   },
   {
    "duration": 7,
    "start_time": "2022-03-03T15:16:39.935Z"
   },
   {
    "duration": 180,
    "start_time": "2022-03-03T15:20:22.620Z"
   },
   {
    "duration": 6,
    "start_time": "2022-03-03T15:20:41.035Z"
   },
   {
    "duration": 9,
    "start_time": "2022-03-03T15:20:56.541Z"
   },
   {
    "duration": 214,
    "start_time": "2022-03-03T15:21:00.338Z"
   },
   {
    "duration": 198,
    "start_time": "2022-03-03T15:23:18.000Z"
   },
   {
    "duration": 18,
    "start_time": "2022-03-03T15:24:27.513Z"
   },
   {
    "duration": 12,
    "start_time": "2022-03-03T15:25:16.891Z"
   },
   {
    "duration": 39,
    "start_time": "2022-03-03T15:35:53.008Z"
   },
   {
    "duration": 225,
    "start_time": "2022-03-03T15:42:27.263Z"
   },
   {
    "duration": 12718,
    "start_time": "2022-03-03T15:42:34.631Z"
   },
   {
    "duration": 22,
    "start_time": "2022-03-03T15:42:55.209Z"
   },
   {
    "duration": 73,
    "start_time": "2022-03-03T15:45:22.731Z"
   },
   {
    "duration": 268,
    "start_time": "2022-03-03T15:48:32.417Z"
   },
   {
    "duration": 53,
    "start_time": "2022-03-03T15:49:23.250Z"
   },
   {
    "duration": 54,
    "start_time": "2022-03-03T15:49:49.822Z"
   },
   {
    "duration": 250,
    "start_time": "2022-03-03T15:50:35.526Z"
   },
   {
    "duration": 4,
    "start_time": "2022-03-03T15:53:28.928Z"
   },
   {
    "duration": 4,
    "start_time": "2022-03-03T15:59:38.479Z"
   },
   {
    "duration": 32,
    "start_time": "2022-03-03T15:59:38.486Z"
   },
   {
    "duration": 11,
    "start_time": "2022-03-03T15:59:38.520Z"
   },
   {
    "duration": 5,
    "start_time": "2022-03-03T15:59:38.533Z"
   },
   {
    "duration": 15,
    "start_time": "2022-03-03T15:59:38.539Z"
   },
   {
    "duration": 14,
    "start_time": "2022-03-03T15:59:38.555Z"
   },
   {
    "duration": 6,
    "start_time": "2022-03-03T15:59:38.570Z"
   },
   {
    "duration": 9,
    "start_time": "2022-03-03T15:59:38.578Z"
   },
   {
    "duration": 63,
    "start_time": "2022-03-03T15:59:38.589Z"
   },
   {
    "duration": 472,
    "start_time": "2022-03-03T15:59:38.654Z"
   },
   {
    "duration": 5,
    "start_time": "2022-03-03T15:59:39.127Z"
   },
   {
    "duration": 6,
    "start_time": "2022-03-03T15:59:39.134Z"
   },
   {
    "duration": 12,
    "start_time": "2022-03-03T15:59:39.142Z"
   },
   {
    "duration": 8,
    "start_time": "2022-03-03T15:59:39.156Z"
   },
   {
    "duration": 7,
    "start_time": "2022-03-03T15:59:39.166Z"
   },
   {
    "duration": 65,
    "start_time": "2022-03-03T15:59:39.174Z"
   },
   {
    "duration": 31,
    "start_time": "2022-03-03T15:59:39.241Z"
   },
   {
    "duration": 374,
    "start_time": "2022-03-03T15:59:39.273Z"
   },
   {
    "duration": 15673,
    "start_time": "2022-03-03T15:59:39.649Z"
   },
   {
    "duration": 35,
    "start_time": "2022-03-03T15:59:55.324Z"
   },
   {
    "duration": 175,
    "start_time": "2022-03-03T15:59:55.435Z"
   },
   {
    "duration": 22,
    "start_time": "2022-03-03T15:59:55.612Z"
   },
   {
    "duration": 5,
    "start_time": "2022-03-03T15:59:55.638Z"
   },
   {
    "duration": 6,
    "start_time": "2022-03-03T15:59:55.645Z"
   },
   {
    "duration": 18,
    "start_time": "2022-03-03T15:59:55.652Z"
   },
   {
    "duration": 6,
    "start_time": "2022-03-03T15:59:55.671Z"
   },
   {
    "duration": 66,
    "start_time": "2022-03-03T15:59:55.679Z"
   },
   {
    "duration": 10,
    "start_time": "2022-03-03T15:59:55.747Z"
   },
   {
    "duration": 39,
    "start_time": "2022-03-03T16:00:35.019Z"
   },
   {
    "duration": 226,
    "start_time": "2022-03-03T16:00:42.406Z"
   },
   {
    "duration": 11889,
    "start_time": "2022-03-03T16:00:46.867Z"
   },
   {
    "duration": 21,
    "start_time": "2022-03-03T16:01:08.444Z"
   },
   {
    "duration": 73,
    "start_time": "2022-03-03T16:01:14.151Z"
   },
   {
    "duration": 4,
    "start_time": "2022-03-03T16:01:25.595Z"
   },
   {
    "duration": 114,
    "start_time": "2022-03-03T16:01:56.026Z"
   },
   {
    "duration": 111,
    "start_time": "2022-03-03T16:02:42.422Z"
   },
   {
    "duration": 182,
    "start_time": "2022-03-03T16:03:08.978Z"
   },
   {
    "duration": 106,
    "start_time": "2022-03-03T16:03:12.758Z"
   },
   {
    "duration": 1041,
    "start_time": "2022-03-04T11:33:26.257Z"
   },
   {
    "duration": 28,
    "start_time": "2022-03-04T11:33:27.300Z"
   },
   {
    "duration": 18,
    "start_time": "2022-03-04T11:33:27.330Z"
   },
   {
    "duration": 17,
    "start_time": "2022-03-04T11:33:27.349Z"
   },
   {
    "duration": 17,
    "start_time": "2022-03-04T11:33:27.368Z"
   },
   {
    "duration": 13,
    "start_time": "2022-03-04T11:33:27.387Z"
   },
   {
    "duration": 5,
    "start_time": "2022-03-04T11:33:27.401Z"
   },
   {
    "duration": 17,
    "start_time": "2022-03-04T11:33:27.408Z"
   },
   {
    "duration": 55,
    "start_time": "2022-03-04T11:33:27.428Z"
   },
   {
    "duration": 551,
    "start_time": "2022-03-04T11:33:27.484Z"
   },
   {
    "duration": 5,
    "start_time": "2022-03-04T11:33:28.037Z"
   },
   {
    "duration": 20,
    "start_time": "2022-03-04T11:33:28.044Z"
   },
   {
    "duration": 14,
    "start_time": "2022-03-04T11:33:28.066Z"
   },
   {
    "duration": 15,
    "start_time": "2022-03-04T11:33:28.081Z"
   },
   {
    "duration": 8,
    "start_time": "2022-03-04T11:33:28.098Z"
   },
   {
    "duration": 61,
    "start_time": "2022-03-04T11:33:28.108Z"
   },
   {
    "duration": 28,
    "start_time": "2022-03-04T11:33:28.171Z"
   },
   {
    "duration": 391,
    "start_time": "2022-03-04T11:33:28.201Z"
   },
   {
    "duration": 16553,
    "start_time": "2022-03-04T11:33:28.594Z"
   },
   {
    "duration": 32,
    "start_time": "2022-03-04T11:33:45.149Z"
   },
   {
    "duration": 280,
    "start_time": "2022-03-04T11:33:45.184Z"
   },
   {
    "duration": 7,
    "start_time": "2022-03-04T11:33:45.466Z"
   },
   {
    "duration": 14,
    "start_time": "2022-03-04T11:33:45.477Z"
   },
   {
    "duration": 28,
    "start_time": "2022-03-04T11:33:45.493Z"
   },
   {
    "duration": 381,
    "start_time": "2022-03-04T11:33:45.524Z"
   },
   {
    "duration": -244,
    "start_time": "2022-03-04T11:33:46.151Z"
   },
   {
    "duration": -244,
    "start_time": "2022-03-04T11:33:46.153Z"
   },
   {
    "duration": -244,
    "start_time": "2022-03-04T11:33:46.154Z"
   },
   {
    "duration": -244,
    "start_time": "2022-03-04T11:33:46.155Z"
   },
   {
    "duration": -243,
    "start_time": "2022-03-04T11:33:46.156Z"
   },
   {
    "duration": -244,
    "start_time": "2022-03-04T11:33:46.158Z"
   },
   {
    "duration": -244,
    "start_time": "2022-03-04T11:33:46.160Z"
   },
   {
    "duration": -244,
    "start_time": "2022-03-04T11:33:46.161Z"
   },
   {
    "duration": -244,
    "start_time": "2022-03-04T11:33:46.162Z"
   },
   {
    "duration": 20,
    "start_time": "2022-03-04T11:34:36.210Z"
   },
   {
    "duration": 5,
    "start_time": "2022-03-04T11:34:39.649Z"
   },
   {
    "duration": 18,
    "start_time": "2022-03-04T11:34:42.647Z"
   },
   {
    "duration": 12,
    "start_time": "2022-03-04T11:34:45.703Z"
   },
   {
    "duration": 38,
    "start_time": "2022-03-04T11:34:51.931Z"
   },
   {
    "duration": 220,
    "start_time": "2022-03-04T11:34:55.607Z"
   },
   {
    "duration": 12538,
    "start_time": "2022-03-04T11:35:00.537Z"
   },
   {
    "duration": 23,
    "start_time": "2022-03-04T11:35:53.277Z"
   },
   {
    "duration": 82,
    "start_time": "2022-03-04T11:36:00.527Z"
   },
   {
    "duration": 108,
    "start_time": "2022-03-04T11:36:08.698Z"
   },
   {
    "duration": 4,
    "start_time": "2022-03-04T11:36:25.606Z"
   },
   {
    "duration": 32,
    "start_time": "2022-03-04T11:36:25.612Z"
   },
   {
    "duration": 12,
    "start_time": "2022-03-04T11:36:25.646Z"
   },
   {
    "duration": 6,
    "start_time": "2022-03-04T11:36:25.660Z"
   },
   {
    "duration": 20,
    "start_time": "2022-03-04T11:36:25.667Z"
   },
   {
    "duration": 14,
    "start_time": "2022-03-04T11:36:25.689Z"
   },
   {
    "duration": 5,
    "start_time": "2022-03-04T11:36:25.705Z"
   },
   {
    "duration": 12,
    "start_time": "2022-03-04T11:36:25.712Z"
   },
   {
    "duration": 54,
    "start_time": "2022-03-04T11:36:25.727Z"
   },
   {
    "duration": 485,
    "start_time": "2022-03-04T11:36:25.783Z"
   },
   {
    "duration": 5,
    "start_time": "2022-03-04T11:36:26.269Z"
   },
   {
    "duration": 8,
    "start_time": "2022-03-04T11:36:26.275Z"
   },
   {
    "duration": 16,
    "start_time": "2022-03-04T11:36:26.284Z"
   },
   {
    "duration": 8,
    "start_time": "2022-03-04T11:36:26.302Z"
   },
   {
    "duration": 6,
    "start_time": "2022-03-04T11:36:26.312Z"
   },
   {
    "duration": 62,
    "start_time": "2022-03-04T11:36:26.320Z"
   },
   {
    "duration": 29,
    "start_time": "2022-03-04T11:36:26.384Z"
   },
   {
    "duration": 385,
    "start_time": "2022-03-04T11:36:26.414Z"
   },
   {
    "duration": 16724,
    "start_time": "2022-03-04T11:36:26.801Z"
   },
   {
    "duration": 41,
    "start_time": "2022-03-04T11:36:43.526Z"
   },
   {
    "duration": 268,
    "start_time": "2022-03-04T11:36:43.569Z"
   },
   {
    "duration": 25,
    "start_time": "2022-03-04T11:36:43.839Z"
   },
   {
    "duration": 6,
    "start_time": "2022-03-04T11:36:43.865Z"
   },
   {
    "duration": 10,
    "start_time": "2022-03-04T11:36:43.873Z"
   },
   {
    "duration": 18,
    "start_time": "2022-03-04T11:36:43.885Z"
   },
   {
    "duration": 5,
    "start_time": "2022-03-04T11:36:43.905Z"
   },
   {
    "duration": 56,
    "start_time": "2022-03-04T11:36:43.913Z"
   },
   {
    "duration": 10,
    "start_time": "2022-03-04T11:36:43.971Z"
   },
   {
    "duration": 41,
    "start_time": "2022-03-04T11:36:43.983Z"
   },
   {
    "duration": 275,
    "start_time": "2022-03-04T11:36:44.026Z"
   },
   {
    "duration": 12609,
    "start_time": "2022-03-04T11:36:44.303Z"
   },
   {
    "duration": 51,
    "start_time": "2022-03-04T11:36:56.913Z"
   },
   {
    "duration": 165,
    "start_time": "2022-03-04T11:36:56.966Z"
   },
   {
    "duration": 240,
    "start_time": "2022-03-04T11:37:05.339Z"
   },
   {
    "duration": 15,
    "start_time": "2022-03-04T11:38:33.267Z"
   },
   {
    "duration": 5,
    "start_time": "2022-03-04T11:43:29.506Z"
   },
   {
    "duration": 233,
    "start_time": "2022-03-04T11:45:46.840Z"
   },
   {
    "duration": 238,
    "start_time": "2022-03-04T11:45:58.360Z"
   },
   {
    "duration": 12,
    "start_time": "2022-03-04T11:46:22.160Z"
   },
   {
    "duration": 265,
    "start_time": "2022-03-04T11:48:04.977Z"
   },
   {
    "duration": 247,
    "start_time": "2022-03-04T11:49:41.530Z"
   },
   {
    "duration": 316,
    "start_time": "2022-03-04T11:50:01.541Z"
   },
   {
    "duration": 359,
    "start_time": "2022-03-04T11:50:43.852Z"
   },
   {
    "duration": 11,
    "start_time": "2022-03-04T11:51:22.402Z"
   },
   {
    "duration": 11,
    "start_time": "2022-03-04T11:51:29.754Z"
   },
   {
    "duration": 11,
    "start_time": "2022-03-04T11:52:15.940Z"
   },
   {
    "duration": 11,
    "start_time": "2022-03-04T11:53:13.915Z"
   },
   {
    "duration": 11,
    "start_time": "2022-03-04T11:53:21.843Z"
   },
   {
    "duration": 11,
    "start_time": "2022-03-04T11:53:32.261Z"
   },
   {
    "duration": 251,
    "start_time": "2022-03-04T11:57:08.727Z"
   },
   {
    "duration": 12,
    "start_time": "2022-03-04T11:57:16.698Z"
   },
   {
    "duration": 14,
    "start_time": "2022-03-04T11:57:24.722Z"
   },
   {
    "duration": 12,
    "start_time": "2022-03-04T11:58:15.050Z"
   },
   {
    "duration": 11,
    "start_time": "2022-03-04T11:58:26.929Z"
   },
   {
    "duration": 4,
    "start_time": "2022-03-04T11:58:57.400Z"
   },
   {
    "duration": 36,
    "start_time": "2022-03-04T11:58:57.405Z"
   },
   {
    "duration": 16,
    "start_time": "2022-03-04T11:58:57.444Z"
   },
   {
    "duration": 10,
    "start_time": "2022-03-04T11:58:57.462Z"
   },
   {
    "duration": 15,
    "start_time": "2022-03-04T11:58:57.474Z"
   },
   {
    "duration": 14,
    "start_time": "2022-03-04T11:58:57.491Z"
   },
   {
    "duration": 5,
    "start_time": "2022-03-04T11:58:57.506Z"
   },
   {
    "duration": 9,
    "start_time": "2022-03-04T11:58:57.514Z"
   },
   {
    "duration": 47,
    "start_time": "2022-03-04T11:58:57.525Z"
   },
   {
    "duration": 447,
    "start_time": "2022-03-04T11:58:57.573Z"
   },
   {
    "duration": 5,
    "start_time": "2022-03-04T11:58:58.022Z"
   },
   {
    "duration": 14,
    "start_time": "2022-03-04T11:58:58.028Z"
   },
   {
    "duration": 23,
    "start_time": "2022-03-04T11:58:58.044Z"
   },
   {
    "duration": 8,
    "start_time": "2022-03-04T11:58:58.069Z"
   },
   {
    "duration": 6,
    "start_time": "2022-03-04T11:58:58.079Z"
   },
   {
    "duration": 25,
    "start_time": "2022-03-04T11:58:58.087Z"
   },
   {
    "duration": 53,
    "start_time": "2022-03-04T11:58:58.114Z"
   },
   {
    "duration": 366,
    "start_time": "2022-03-04T11:58:58.168Z"
   },
   {
    "duration": 16027,
    "start_time": "2022-03-04T11:58:58.536Z"
   },
   {
    "duration": 104,
    "start_time": "2022-03-04T11:59:14.566Z"
   },
   {
    "duration": 199,
    "start_time": "2022-03-04T11:59:14.673Z"
   },
   {
    "duration": 7,
    "start_time": "2022-03-04T11:59:14.874Z"
   },
   {
    "duration": 9,
    "start_time": "2022-03-04T11:59:14.883Z"
   },
   {
    "duration": 7,
    "start_time": "2022-03-04T11:59:14.894Z"
   },
   {
    "duration": 17,
    "start_time": "2022-03-04T11:59:14.903Z"
   },
   {
    "duration": 5,
    "start_time": "2022-03-04T11:59:14.921Z"
   },
   {
    "duration": 42,
    "start_time": "2022-03-04T11:59:14.927Z"
   },
   {
    "duration": 10,
    "start_time": "2022-03-04T11:59:14.971Z"
   },
   {
    "duration": 40,
    "start_time": "2022-03-04T11:59:14.983Z"
   },
   {
    "duration": 274,
    "start_time": "2022-03-04T11:59:15.025Z"
   },
   {
    "duration": 11945,
    "start_time": "2022-03-04T11:59:15.301Z"
   },
   {
    "duration": 32,
    "start_time": "2022-03-04T11:59:27.247Z"
   },
   {
    "duration": 165,
    "start_time": "2022-03-04T11:59:27.364Z"
   },
   {
    "duration": 32,
    "start_time": "2022-03-04T11:59:27.531Z"
   },
   {
    "duration": 12,
    "start_time": "2022-03-04T11:59:27.564Z"
   },
   {
    "duration": 12,
    "start_time": "2022-03-04T11:59:52.192Z"
   },
   {
    "duration": 12,
    "start_time": "2022-03-04T12:00:31.494Z"
   },
   {
    "duration": 13,
    "start_time": "2022-03-04T12:00:36.047Z"
   },
   {
    "duration": 14,
    "start_time": "2022-03-04T12:00:52.848Z"
   },
   {
    "duration": 1014,
    "start_time": "2022-03-05T02:42:25.917Z"
   },
   {
    "duration": 46,
    "start_time": "2022-03-05T02:42:26.933Z"
   },
   {
    "duration": 16,
    "start_time": "2022-03-05T02:42:26.982Z"
   },
   {
    "duration": 6,
    "start_time": "2022-03-05T02:42:27.000Z"
   },
   {
    "duration": 16,
    "start_time": "2022-03-05T02:42:27.007Z"
   },
   {
    "duration": 15,
    "start_time": "2022-03-05T02:42:27.024Z"
   },
   {
    "duration": 5,
    "start_time": "2022-03-05T02:42:27.040Z"
   },
   {
    "duration": 9,
    "start_time": "2022-03-05T02:42:27.048Z"
   },
   {
    "duration": 55,
    "start_time": "2022-03-05T02:42:27.059Z"
   },
   {
    "duration": 505,
    "start_time": "2022-03-05T02:42:27.116Z"
   },
   {
    "duration": 5,
    "start_time": "2022-03-05T02:42:27.623Z"
   },
   {
    "duration": 7,
    "start_time": "2022-03-05T02:42:27.630Z"
   },
   {
    "duration": 14,
    "start_time": "2022-03-05T02:42:27.639Z"
   },
   {
    "duration": 9,
    "start_time": "2022-03-05T02:42:27.655Z"
   },
   {
    "duration": 41,
    "start_time": "2022-03-05T02:42:27.666Z"
   },
   {
    "duration": 23,
    "start_time": "2022-03-05T02:42:27.708Z"
   },
   {
    "duration": 29,
    "start_time": "2022-03-05T02:42:27.732Z"
   },
   {
    "duration": 379,
    "start_time": "2022-03-05T02:42:27.763Z"
   },
   {
    "duration": 14478,
    "start_time": "2022-03-05T02:42:28.144Z"
   },
   {
    "duration": 80,
    "start_time": "2022-03-05T02:42:42.623Z"
   },
   {
    "duration": 164,
    "start_time": "2022-03-05T02:42:42.708Z"
   },
   {
    "duration": 5,
    "start_time": "2022-03-05T02:42:42.873Z"
   },
   {
    "duration": 5,
    "start_time": "2022-03-05T02:42:42.900Z"
   },
   {
    "duration": 6,
    "start_time": "2022-03-05T02:42:42.907Z"
   },
   {
    "duration": 16,
    "start_time": "2022-03-05T02:42:42.915Z"
   },
   {
    "duration": 5,
    "start_time": "2022-03-05T02:42:42.932Z"
   },
   {
    "duration": 16,
    "start_time": "2022-03-05T02:42:42.938Z"
   },
   {
    "duration": 9,
    "start_time": "2022-03-05T02:42:42.956Z"
   },
   {
    "duration": 61,
    "start_time": "2022-03-05T02:42:42.966Z"
   },
   {
    "duration": 217,
    "start_time": "2022-03-05T02:42:43.028Z"
   },
   {
    "duration": 10997,
    "start_time": "2022-03-05T02:42:43.247Z"
   },
   {
    "duration": 58,
    "start_time": "2022-03-05T02:42:54.245Z"
   },
   {
    "duration": 158,
    "start_time": "2022-03-05T02:42:54.305Z"
   },
   {
    "duration": 12,
    "start_time": "2022-03-05T02:42:54.465Z"
   },
   {
    "duration": 26,
    "start_time": "2022-03-05T02:42:54.479Z"
   },
   {
    "duration": 1134,
    "start_time": "2022-03-05T08:34:06.096Z"
   },
   {
    "duration": 35,
    "start_time": "2022-03-05T08:34:07.232Z"
   },
   {
    "duration": 20,
    "start_time": "2022-03-05T08:34:07.270Z"
   },
   {
    "duration": 5,
    "start_time": "2022-03-05T08:34:07.292Z"
   },
   {
    "duration": 17,
    "start_time": "2022-03-05T08:34:07.299Z"
   },
   {
    "duration": 16,
    "start_time": "2022-03-05T08:34:07.318Z"
   },
   {
    "duration": 7,
    "start_time": "2022-03-05T08:34:07.335Z"
   },
   {
    "duration": 41,
    "start_time": "2022-03-05T08:34:07.343Z"
   },
   {
    "duration": 26,
    "start_time": "2022-03-05T08:34:07.386Z"
   },
   {
    "duration": 664,
    "start_time": "2022-03-05T08:34:07.414Z"
   },
   {
    "duration": 4,
    "start_time": "2022-03-05T08:34:08.080Z"
   },
   {
    "duration": 9,
    "start_time": "2022-03-05T08:34:08.086Z"
   },
   {
    "duration": 17,
    "start_time": "2022-03-05T08:34:08.097Z"
   },
   {
    "duration": 13,
    "start_time": "2022-03-05T08:34:39.870Z"
   },
   {
    "duration": 10,
    "start_time": "2022-03-05T08:41:04.411Z"
   },
   {
    "duration": 367,
    "start_time": "2022-03-05T08:42:31.042Z"
   },
   {
    "duration": 4,
    "start_time": "2022-03-05T08:42:46.906Z"
   },
   {
    "duration": 50,
    "start_time": "2022-03-05T08:42:46.912Z"
   },
   {
    "duration": 12,
    "start_time": "2022-03-05T08:42:46.964Z"
   },
   {
    "duration": 6,
    "start_time": "2022-03-05T08:42:46.978Z"
   },
   {
    "duration": 18,
    "start_time": "2022-03-05T08:42:46.986Z"
   },
   {
    "duration": 16,
    "start_time": "2022-03-05T08:42:47.005Z"
   },
   {
    "duration": 7,
    "start_time": "2022-03-05T08:42:47.022Z"
   },
   {
    "duration": 12,
    "start_time": "2022-03-05T08:42:47.031Z"
   },
   {
    "duration": 53,
    "start_time": "2022-03-05T08:42:47.046Z"
   },
   {
    "duration": 581,
    "start_time": "2022-03-05T08:42:47.100Z"
   },
   {
    "duration": 5,
    "start_time": "2022-03-05T08:42:47.683Z"
   },
   {
    "duration": 12,
    "start_time": "2022-03-05T08:42:47.690Z"
   },
   {
    "duration": 15,
    "start_time": "2022-03-05T08:42:47.704Z"
   },
   {
    "duration": 12,
    "start_time": "2022-03-05T08:42:47.721Z"
   },
   {
    "duration": 10,
    "start_time": "2022-03-05T08:42:47.735Z"
   },
   {
    "duration": 35,
    "start_time": "2022-03-05T08:42:47.746Z"
   },
   {
    "duration": 109,
    "start_time": "2022-03-05T08:42:47.783Z"
   },
   {
    "duration": 412,
    "start_time": "2022-03-05T08:43:38.095Z"
   },
   {
    "duration": 17094,
    "start_time": "2022-03-05T08:43:42.065Z"
   },
   {
    "duration": 30,
    "start_time": "2022-03-05T08:44:10.234Z"
   },
   {
    "duration": 83,
    "start_time": "2022-03-05T08:44:19.024Z"
   },
   {
    "duration": 258,
    "start_time": "2022-03-05T08:46:29.134Z"
   },
   {
    "duration": 19,
    "start_time": "2022-03-05T08:46:50.698Z"
   },
   {
    "duration": 4,
    "start_time": "2022-03-05T08:47:05.371Z"
   },
   {
    "duration": 37,
    "start_time": "2022-03-05T08:47:05.377Z"
   },
   {
    "duration": 13,
    "start_time": "2022-03-05T08:47:05.416Z"
   },
   {
    "duration": 12,
    "start_time": "2022-03-05T08:47:05.431Z"
   },
   {
    "duration": 21,
    "start_time": "2022-03-05T08:47:05.445Z"
   },
   {
    "duration": 19,
    "start_time": "2022-03-05T08:47:05.477Z"
   },
   {
    "duration": 8,
    "start_time": "2022-03-05T08:47:05.498Z"
   },
   {
    "duration": 17,
    "start_time": "2022-03-05T08:47:05.508Z"
   },
   {
    "duration": 58,
    "start_time": "2022-03-05T08:47:05.529Z"
   },
   {
    "duration": 596,
    "start_time": "2022-03-05T08:47:05.589Z"
   },
   {
    "duration": 6,
    "start_time": "2022-03-05T08:47:06.187Z"
   },
   {
    "duration": 12,
    "start_time": "2022-03-05T08:47:06.195Z"
   },
   {
    "duration": 16,
    "start_time": "2022-03-05T08:47:06.209Z"
   },
   {
    "duration": 15,
    "start_time": "2022-03-05T08:47:06.227Z"
   },
   {
    "duration": 43,
    "start_time": "2022-03-05T08:47:06.243Z"
   },
   {
    "duration": 7,
    "start_time": "2022-03-05T08:47:06.287Z"
   },
   {
    "duration": 31,
    "start_time": "2022-03-05T08:47:06.296Z"
   },
   {
    "duration": 434,
    "start_time": "2022-03-05T08:47:06.330Z"
   },
   {
    "duration": 17368,
    "start_time": "2022-03-05T08:47:06.766Z"
   },
   {
    "duration": 143,
    "start_time": "2022-03-05T08:47:24.135Z"
   },
   {
    "duration": 157,
    "start_time": "2022-03-05T08:47:24.281Z"
   },
   {
    "duration": 258,
    "start_time": "2022-03-05T08:47:24.440Z"
   },
   {
    "duration": 6,
    "start_time": "2022-03-05T08:47:32.828Z"
   },
   {
    "duration": 5,
    "start_time": "2022-03-05T08:49:19.709Z"
   },
   {
    "duration": 38,
    "start_time": "2022-03-05T08:49:19.716Z"
   },
   {
    "duration": 13,
    "start_time": "2022-03-05T08:49:19.756Z"
   },
   {
    "duration": 7,
    "start_time": "2022-03-05T08:49:19.771Z"
   },
   {
    "duration": 27,
    "start_time": "2022-03-05T08:49:19.779Z"
   },
   {
    "duration": 17,
    "start_time": "2022-03-05T08:49:19.807Z"
   },
   {
    "duration": 7,
    "start_time": "2022-03-05T08:49:19.826Z"
   },
   {
    "duration": 12,
    "start_time": "2022-03-05T08:49:19.835Z"
   },
   {
    "duration": 48,
    "start_time": "2022-03-05T08:49:19.849Z"
   },
   {
    "duration": 575,
    "start_time": "2022-03-05T08:49:19.899Z"
   },
   {
    "duration": 5,
    "start_time": "2022-03-05T08:49:20.476Z"
   },
   {
    "duration": 9,
    "start_time": "2022-03-05T08:49:20.482Z"
   },
   {
    "duration": 19,
    "start_time": "2022-03-05T08:49:20.493Z"
   },
   {
    "duration": 13,
    "start_time": "2022-03-05T08:49:20.513Z"
   },
   {
    "duration": 10,
    "start_time": "2022-03-05T08:49:20.527Z"
   },
   {
    "duration": 38,
    "start_time": "2022-03-05T08:49:20.539Z"
   },
   {
    "duration": 30,
    "start_time": "2022-03-05T08:49:20.579Z"
   },
   {
    "duration": 422,
    "start_time": "2022-03-05T08:49:20.610Z"
   },
   {
    "duration": 17176,
    "start_time": "2022-03-05T08:49:21.033Z"
   },
   {
    "duration": 68,
    "start_time": "2022-03-05T08:49:38.211Z"
   },
   {
    "duration": 169,
    "start_time": "2022-03-05T08:49:38.281Z"
   },
   {
    "duration": 26,
    "start_time": "2022-03-05T08:49:38.452Z"
   },
   {
    "duration": 20,
    "start_time": "2022-03-05T08:49:38.481Z"
   },
   {
    "duration": 278,
    "start_time": "2022-03-05T08:49:54.652Z"
   },
   {
    "duration": 288,
    "start_time": "2022-03-05T08:50:16.746Z"
   },
   {
    "duration": 4,
    "start_time": "2022-03-05T08:50:41.809Z"
   },
   {
    "duration": 42,
    "start_time": "2022-03-05T08:50:41.816Z"
   },
   {
    "duration": 12,
    "start_time": "2022-03-05T08:50:41.860Z"
   },
   {
    "duration": 12,
    "start_time": "2022-03-05T08:50:41.873Z"
   },
   {
    "duration": 17,
    "start_time": "2022-03-05T08:50:41.887Z"
   },
   {
    "duration": 16,
    "start_time": "2022-03-05T08:50:41.905Z"
   },
   {
    "duration": 6,
    "start_time": "2022-03-05T08:50:41.924Z"
   },
   {
    "duration": 13,
    "start_time": "2022-03-05T08:50:41.932Z"
   },
   {
    "duration": 47,
    "start_time": "2022-03-05T08:50:41.947Z"
   },
   {
    "duration": 573,
    "start_time": "2022-03-05T08:50:41.996Z"
   },
   {
    "duration": 7,
    "start_time": "2022-03-05T08:50:42.570Z"
   },
   {
    "duration": 7,
    "start_time": "2022-03-05T08:50:42.579Z"
   },
   {
    "duration": 13,
    "start_time": "2022-03-05T08:50:42.588Z"
   },
   {
    "duration": 11,
    "start_time": "2022-03-05T08:50:42.603Z"
   },
   {
    "duration": 9,
    "start_time": "2022-03-05T08:50:42.616Z"
   },
   {
    "duration": 6,
    "start_time": "2022-03-05T08:50:42.627Z"
   },
   {
    "duration": 65,
    "start_time": "2022-03-05T08:50:42.635Z"
   },
   {
    "duration": 409,
    "start_time": "2022-03-05T08:50:42.701Z"
   },
   {
    "duration": 17254,
    "start_time": "2022-03-05T08:50:43.114Z"
   },
   {
    "duration": 107,
    "start_time": "2022-03-05T08:51:00.370Z"
   },
   {
    "duration": 175,
    "start_time": "2022-03-05T08:51:00.480Z"
   },
   {
    "duration": 24,
    "start_time": "2022-03-05T08:51:00.657Z"
   },
   {
    "duration": 24,
    "start_time": "2022-03-05T08:51:00.683Z"
   },
   {
    "duration": 280,
    "start_time": "2022-03-05T08:51:35.895Z"
   },
   {
    "duration": 4,
    "start_time": "2022-03-05T08:51:51.661Z"
   },
   {
    "duration": 40,
    "start_time": "2022-03-05T08:51:51.668Z"
   },
   {
    "duration": 13,
    "start_time": "2022-03-05T08:51:51.712Z"
   },
   {
    "duration": 11,
    "start_time": "2022-03-05T08:51:51.728Z"
   },
   {
    "duration": 38,
    "start_time": "2022-03-05T08:51:51.741Z"
   },
   {
    "duration": 19,
    "start_time": "2022-03-05T08:51:51.781Z"
   },
   {
    "duration": 9,
    "start_time": "2022-03-05T08:51:51.802Z"
   },
   {
    "duration": 19,
    "start_time": "2022-03-05T08:51:51.815Z"
   },
   {
    "duration": 58,
    "start_time": "2022-03-05T08:51:51.837Z"
   },
   {
    "duration": 602,
    "start_time": "2022-03-05T08:51:51.897Z"
   },
   {
    "duration": 7,
    "start_time": "2022-03-05T08:51:52.501Z"
   },
   {
    "duration": 7,
    "start_time": "2022-03-05T08:51:52.510Z"
   },
   {
    "duration": 15,
    "start_time": "2022-03-05T08:51:52.519Z"
   },
   {
    "duration": 48,
    "start_time": "2022-03-05T08:51:52.536Z"
   },
   {
    "duration": 11,
    "start_time": "2022-03-05T08:51:52.586Z"
   },
   {
    "duration": 8,
    "start_time": "2022-03-05T08:51:52.600Z"
   },
   {
    "duration": 32,
    "start_time": "2022-03-05T08:51:52.610Z"
   },
   {
    "duration": 452,
    "start_time": "2022-03-05T08:51:52.644Z"
   },
   {
    "duration": 18192,
    "start_time": "2022-03-05T08:51:53.099Z"
   },
   {
    "duration": 86,
    "start_time": "2022-03-05T08:52:11.293Z"
   },
   {
    "duration": 178,
    "start_time": "2022-03-05T08:52:11.381Z"
   },
   {
    "duration": 6,
    "start_time": "2022-03-05T08:52:11.577Z"
   },
   {
    "duration": 19,
    "start_time": "2022-03-05T08:52:11.586Z"
   },
   {
    "duration": 13,
    "start_time": "2022-03-05T08:56:43.316Z"
   },
   {
    "duration": 4,
    "start_time": "2022-03-05T08:57:43.904Z"
   },
   {
    "duration": 49,
    "start_time": "2022-03-05T08:57:43.910Z"
   },
   {
    "duration": 12,
    "start_time": "2022-03-05T08:57:43.961Z"
   },
   {
    "duration": 5,
    "start_time": "2022-03-05T08:57:43.976Z"
   },
   {
    "duration": 19,
    "start_time": "2022-03-05T08:57:43.982Z"
   },
   {
    "duration": 16,
    "start_time": "2022-03-05T08:57:44.002Z"
   },
   {
    "duration": 7,
    "start_time": "2022-03-05T08:57:44.020Z"
   },
   {
    "duration": 15,
    "start_time": "2022-03-05T08:57:44.029Z"
   },
   {
    "duration": 52,
    "start_time": "2022-03-05T08:57:44.047Z"
   },
   {
    "duration": 687,
    "start_time": "2022-03-05T08:57:44.101Z"
   },
   {
    "duration": 5,
    "start_time": "2022-03-05T08:57:44.790Z"
   },
   {
    "duration": 8,
    "start_time": "2022-03-05T08:57:44.797Z"
   },
   {
    "duration": 15,
    "start_time": "2022-03-05T08:57:44.807Z"
   },
   {
    "duration": 13,
    "start_time": "2022-03-05T08:57:44.824Z"
   },
   {
    "duration": 40,
    "start_time": "2022-03-05T08:57:44.839Z"
   },
   {
    "duration": 8,
    "start_time": "2022-03-05T08:57:44.881Z"
   },
   {
    "duration": 34,
    "start_time": "2022-03-05T08:57:44.891Z"
   },
   {
    "duration": 432,
    "start_time": "2022-03-05T08:57:44.927Z"
   },
   {
    "duration": 17367,
    "start_time": "2022-03-05T08:57:45.361Z"
   },
   {
    "duration": 149,
    "start_time": "2022-03-05T08:58:02.730Z"
   },
   {
    "duration": 131,
    "start_time": "2022-03-05T08:58:02.881Z"
   },
   {
    "duration": 4,
    "start_time": "2022-03-05T08:58:40.046Z"
   },
   {
    "duration": 41,
    "start_time": "2022-03-05T08:58:40.052Z"
   },
   {
    "duration": 12,
    "start_time": "2022-03-05T08:58:40.095Z"
   },
   {
    "duration": 13,
    "start_time": "2022-03-05T08:58:40.109Z"
   },
   {
    "duration": 31,
    "start_time": "2022-03-05T08:58:40.124Z"
   },
   {
    "duration": 22,
    "start_time": "2022-03-05T08:58:40.157Z"
   },
   {
    "duration": 7,
    "start_time": "2022-03-05T08:58:40.181Z"
   },
   {
    "duration": 16,
    "start_time": "2022-03-05T08:58:40.190Z"
   },
   {
    "duration": 25,
    "start_time": "2022-03-05T08:58:40.208Z"
   },
   {
    "duration": 589,
    "start_time": "2022-03-05T08:58:40.235Z"
   },
   {
    "duration": 5,
    "start_time": "2022-03-05T08:58:40.826Z"
   },
   {
    "duration": 14,
    "start_time": "2022-03-05T08:58:40.833Z"
   },
   {
    "duration": 19,
    "start_time": "2022-03-05T08:58:40.849Z"
   },
   {
    "duration": 13,
    "start_time": "2022-03-05T08:58:40.877Z"
   },
   {
    "duration": 20,
    "start_time": "2022-03-05T08:58:40.892Z"
   },
   {
    "duration": 8,
    "start_time": "2022-03-05T08:58:40.914Z"
   },
   {
    "duration": 37,
    "start_time": "2022-03-05T08:58:40.924Z"
   },
   {
    "duration": 433,
    "start_time": "2022-03-05T08:58:40.976Z"
   },
   {
    "duration": 17275,
    "start_time": "2022-03-05T08:58:41.411Z"
   },
   {
    "duration": 94,
    "start_time": "2022-03-05T08:58:58.687Z"
   },
   {
    "duration": 194,
    "start_time": "2022-03-05T08:58:58.783Z"
   },
   {
    "duration": 7,
    "start_time": "2022-03-05T08:59:11.109Z"
   },
   {
    "duration": 19,
    "start_time": "2022-03-05T09:00:37.127Z"
   },
   {
    "duration": 13,
    "start_time": "2022-03-05T09:00:48.926Z"
   },
   {
    "duration": 16,
    "start_time": "2022-03-05T09:02:31.752Z"
   },
   {
    "duration": 4,
    "start_time": "2022-03-05T09:03:26.482Z"
   },
   {
    "duration": 41,
    "start_time": "2022-03-05T09:03:26.488Z"
   },
   {
    "duration": 12,
    "start_time": "2022-03-05T09:03:26.531Z"
   },
   {
    "duration": 11,
    "start_time": "2022-03-05T09:03:26.545Z"
   },
   {
    "duration": 29,
    "start_time": "2022-03-05T09:03:26.558Z"
   },
   {
    "duration": 17,
    "start_time": "2022-03-05T09:03:26.589Z"
   },
   {
    "duration": 7,
    "start_time": "2022-03-05T09:03:26.607Z"
   },
   {
    "duration": 13,
    "start_time": "2022-03-05T09:03:26.617Z"
   },
   {
    "duration": 51,
    "start_time": "2022-03-05T09:03:26.632Z"
   },
   {
    "duration": 658,
    "start_time": "2022-03-05T09:03:26.685Z"
   },
   {
    "duration": 4,
    "start_time": "2022-03-05T09:03:27.345Z"
   },
   {
    "duration": 10,
    "start_time": "2022-03-05T09:03:27.351Z"
   },
   {
    "duration": 27,
    "start_time": "2022-03-05T09:03:27.362Z"
   },
   {
    "duration": 12,
    "start_time": "2022-03-05T09:03:27.391Z"
   },
   {
    "duration": 10,
    "start_time": "2022-03-05T09:03:27.404Z"
   },
   {
    "duration": 6,
    "start_time": "2022-03-05T09:03:27.416Z"
   },
   {
    "duration": 59,
    "start_time": "2022-03-05T09:03:27.424Z"
   },
   {
    "duration": 401,
    "start_time": "2022-03-05T09:03:27.485Z"
   },
   {
    "duration": 17208,
    "start_time": "2022-03-05T09:03:27.888Z"
   },
   {
    "duration": 27,
    "start_time": "2022-03-05T09:03:45.098Z"
   },
   {
    "duration": 178,
    "start_time": "2022-03-05T09:03:45.178Z"
   },
   {
    "duration": 3592,
    "start_time": "2022-03-05T09:04:58.455Z"
   },
   {
    "duration": 6,
    "start_time": "2022-03-05T09:05:33.246Z"
   },
   {
    "duration": 289,
    "start_time": "2022-03-05T09:07:38.282Z"
   },
   {
    "duration": 92,
    "start_time": "2022-03-05T09:07:51.153Z"
   },
   {
    "duration": 17,
    "start_time": "2022-03-05T09:07:59.294Z"
   },
   {
    "duration": 22,
    "start_time": "2022-03-05T09:09:16.700Z"
   },
   {
    "duration": 14,
    "start_time": "2022-03-05T09:12:35.980Z"
   },
   {
    "duration": 4,
    "start_time": "2022-03-05T09:12:55.531Z"
   },
   {
    "duration": 48,
    "start_time": "2022-03-05T09:12:55.537Z"
   },
   {
    "duration": 13,
    "start_time": "2022-03-05T09:12:55.587Z"
   },
   {
    "duration": 9,
    "start_time": "2022-03-05T09:12:55.602Z"
   },
   {
    "duration": 18,
    "start_time": "2022-03-05T09:12:55.613Z"
   },
   {
    "duration": 17,
    "start_time": "2022-03-05T09:12:55.632Z"
   },
   {
    "duration": 28,
    "start_time": "2022-03-05T09:12:55.651Z"
   },
   {
    "duration": 10,
    "start_time": "2022-03-05T09:12:55.682Z"
   },
   {
    "duration": 26,
    "start_time": "2022-03-05T09:12:55.695Z"
   },
   {
    "duration": 595,
    "start_time": "2022-03-05T09:12:55.723Z"
   },
   {
    "duration": 5,
    "start_time": "2022-03-05T09:12:56.320Z"
   },
   {
    "duration": 12,
    "start_time": "2022-03-05T09:12:56.327Z"
   },
   {
    "duration": 18,
    "start_time": "2022-03-05T09:12:56.340Z"
   },
   {
    "duration": 28,
    "start_time": "2022-03-05T09:12:56.360Z"
   },
   {
    "duration": 10,
    "start_time": "2022-03-05T09:12:56.389Z"
   },
   {
    "duration": 7,
    "start_time": "2022-03-05T09:12:56.401Z"
   },
   {
    "duration": 33,
    "start_time": "2022-03-05T09:12:56.410Z"
   },
   {
    "duration": 436,
    "start_time": "2022-03-05T09:12:56.445Z"
   },
   {
    "duration": 17459,
    "start_time": "2022-03-05T09:12:56.882Z"
   },
   {
    "duration": 34,
    "start_time": "2022-03-05T09:13:14.343Z"
   },
   {
    "duration": 266,
    "start_time": "2022-03-05T09:13:14.380Z"
   },
   {
    "duration": 5,
    "start_time": "2022-03-05T09:13:14.648Z"
   },
   {
    "duration": 6,
    "start_time": "2022-03-05T09:13:58.994Z"
   },
   {
    "duration": 13,
    "start_time": "2022-03-05T09:14:20.327Z"
   },
   {
    "duration": 277,
    "start_time": "2022-03-05T09:14:42.724Z"
   },
   {
    "duration": 19,
    "start_time": "2022-03-05T09:15:34.195Z"
   },
   {
    "duration": 11,
    "start_time": "2022-03-05T09:15:39.811Z"
   },
   {
    "duration": 4,
    "start_time": "2022-03-05T09:17:37.352Z"
   },
   {
    "duration": 36,
    "start_time": "2022-03-05T09:17:37.358Z"
   },
   {
    "duration": 13,
    "start_time": "2022-03-05T09:17:37.396Z"
   },
   {
    "duration": 6,
    "start_time": "2022-03-05T09:17:37.411Z"
   },
   {
    "duration": 19,
    "start_time": "2022-03-05T09:17:37.418Z"
   },
   {
    "duration": 40,
    "start_time": "2022-03-05T09:17:37.438Z"
   },
   {
    "duration": 7,
    "start_time": "2022-03-05T09:17:37.479Z"
   },
   {
    "duration": 10,
    "start_time": "2022-03-05T09:17:37.488Z"
   },
   {
    "duration": 27,
    "start_time": "2022-03-05T09:17:37.501Z"
   },
   {
    "duration": 695,
    "start_time": "2022-03-05T09:17:37.530Z"
   },
   {
    "duration": 5,
    "start_time": "2022-03-05T09:17:38.227Z"
   },
   {
    "duration": 7,
    "start_time": "2022-03-05T09:17:38.233Z"
   },
   {
    "duration": 14,
    "start_time": "2022-03-05T09:17:38.242Z"
   },
   {
    "duration": 30,
    "start_time": "2022-03-05T09:17:38.257Z"
   },
   {
    "duration": 10,
    "start_time": "2022-03-05T09:17:38.289Z"
   },
   {
    "duration": 8,
    "start_time": "2022-03-05T09:17:38.301Z"
   },
   {
    "duration": 32,
    "start_time": "2022-03-05T09:17:38.311Z"
   },
   {
    "duration": 432,
    "start_time": "2022-03-05T09:17:38.345Z"
   },
   {
    "duration": 17446,
    "start_time": "2022-03-05T09:17:38.779Z"
   },
   {
    "duration": 59,
    "start_time": "2022-03-05T09:17:56.227Z"
   },
   {
    "duration": 210,
    "start_time": "2022-03-05T09:17:56.290Z"
   },
   {
    "duration": 8,
    "start_time": "2022-03-05T09:17:56.502Z"
   },
   {
    "duration": 14,
    "start_time": "2022-03-05T09:18:30.341Z"
   },
   {
    "duration": 4,
    "start_time": "2022-03-05T09:18:54.359Z"
   },
   {
    "duration": 38,
    "start_time": "2022-03-05T09:18:54.366Z"
   },
   {
    "duration": 14,
    "start_time": "2022-03-05T09:18:54.407Z"
   },
   {
    "duration": 8,
    "start_time": "2022-03-05T09:18:54.423Z"
   },
   {
    "duration": 19,
    "start_time": "2022-03-05T09:18:54.433Z"
   },
   {
    "duration": 38,
    "start_time": "2022-03-05T09:18:54.454Z"
   },
   {
    "duration": 7,
    "start_time": "2022-03-05T09:18:54.494Z"
   },
   {
    "duration": 10,
    "start_time": "2022-03-05T09:18:54.503Z"
   },
   {
    "duration": 26,
    "start_time": "2022-03-05T09:18:54.515Z"
   },
   {
    "duration": 609,
    "start_time": "2022-03-05T09:18:54.543Z"
   },
   {
    "duration": 6,
    "start_time": "2022-03-05T09:18:55.153Z"
   },
   {
    "duration": 20,
    "start_time": "2022-03-05T09:18:55.160Z"
   },
   {
    "duration": 14,
    "start_time": "2022-03-05T09:18:55.182Z"
   },
   {
    "duration": 12,
    "start_time": "2022-03-05T09:18:55.198Z"
   },
   {
    "duration": 10,
    "start_time": "2022-03-05T09:18:55.212Z"
   },
   {
    "duration": 7,
    "start_time": "2022-03-05T09:18:55.224Z"
   },
   {
    "duration": 63,
    "start_time": "2022-03-05T09:18:55.233Z"
   },
   {
    "duration": 403,
    "start_time": "2022-03-05T09:18:55.298Z"
   },
   {
    "duration": 17685,
    "start_time": "2022-03-05T09:18:55.703Z"
   },
   {
    "duration": 31,
    "start_time": "2022-03-05T09:19:13.390Z"
   },
   {
    "duration": 174,
    "start_time": "2022-03-05T09:19:13.483Z"
   },
   {
    "duration": 24,
    "start_time": "2022-03-05T09:19:13.658Z"
   },
   {
    "duration": 5,
    "start_time": "2022-03-05T09:20:00.748Z"
   },
   {
    "duration": 16,
    "start_time": "2022-03-05T09:20:07.160Z"
   },
   {
    "duration": 5,
    "start_time": "2022-03-05T09:20:44.547Z"
   },
   {
    "duration": 37,
    "start_time": "2022-03-05T09:20:44.554Z"
   },
   {
    "duration": 13,
    "start_time": "2022-03-05T09:20:44.593Z"
   },
   {
    "duration": 7,
    "start_time": "2022-03-05T09:20:44.608Z"
   },
   {
    "duration": 16,
    "start_time": "2022-03-05T09:20:44.617Z"
   },
   {
    "duration": 16,
    "start_time": "2022-03-05T09:20:44.635Z"
   },
   {
    "duration": 31,
    "start_time": "2022-03-05T09:20:44.652Z"
   },
   {
    "duration": 10,
    "start_time": "2022-03-05T09:20:44.685Z"
   },
   {
    "duration": 26,
    "start_time": "2022-03-05T09:20:44.697Z"
   },
   {
    "duration": 601,
    "start_time": "2022-03-05T09:20:44.725Z"
   },
   {
    "duration": 5,
    "start_time": "2022-03-05T09:20:45.329Z"
   },
   {
    "duration": 10,
    "start_time": "2022-03-05T09:20:45.336Z"
   },
   {
    "duration": 31,
    "start_time": "2022-03-05T09:20:45.347Z"
   },
   {
    "duration": 13,
    "start_time": "2022-03-05T09:20:45.381Z"
   },
   {
    "duration": 11,
    "start_time": "2022-03-05T09:20:45.396Z"
   },
   {
    "duration": 7,
    "start_time": "2022-03-05T09:20:45.409Z"
   },
   {
    "duration": 61,
    "start_time": "2022-03-05T09:20:45.418Z"
   },
   {
    "duration": 435,
    "start_time": "2022-03-05T09:20:45.481Z"
   },
   {
    "duration": 17297,
    "start_time": "2022-03-05T09:20:45.918Z"
   },
   {
    "duration": 59,
    "start_time": "2022-03-05T09:21:03.218Z"
   },
   {
    "duration": 174,
    "start_time": "2022-03-05T09:21:03.280Z"
   },
   {
    "duration": 6,
    "start_time": "2022-03-05T09:21:03.477Z"
   },
   {
    "duration": 6,
    "start_time": "2022-03-05T09:21:56.396Z"
   },
   {
    "duration": 15,
    "start_time": "2022-03-05T09:21:59.051Z"
   },
   {
    "duration": 4,
    "start_time": "2022-03-05T09:22:06.600Z"
   },
   {
    "duration": 12,
    "start_time": "2022-03-05T09:22:33.585Z"
   },
   {
    "duration": 511,
    "start_time": "2022-03-05T09:25:14.618Z"
   },
   {
    "duration": 24049,
    "start_time": "2022-03-05T09:26:12.436Z"
   },
   {
    "duration": 379,
    "start_time": "2022-03-05T09:27:01.683Z"
   },
   {
    "duration": 46,
    "start_time": "2022-03-05T09:27:25.618Z"
   },
   {
    "duration": 156,
    "start_time": "2022-03-05T09:31:21.891Z"
   },
   {
    "duration": 15,
    "start_time": "2022-03-05T09:31:37.188Z"
   },
   {
    "duration": 33,
    "start_time": "2022-03-05T09:34:59.455Z"
   },
   {
    "duration": 4,
    "start_time": "2022-03-05T09:35:57.406Z"
   },
   {
    "duration": 37,
    "start_time": "2022-03-05T09:35:57.412Z"
   },
   {
    "duration": 12,
    "start_time": "2022-03-05T09:35:57.451Z"
   },
   {
    "duration": 6,
    "start_time": "2022-03-05T09:35:57.465Z"
   },
   {
    "duration": 18,
    "start_time": "2022-03-05T09:35:57.473Z"
   },
   {
    "duration": 16,
    "start_time": "2022-03-05T09:35:57.493Z"
   },
   {
    "duration": 8,
    "start_time": "2022-03-05T09:35:57.511Z"
   },
   {
    "duration": 11,
    "start_time": "2022-03-05T09:35:57.521Z"
   },
   {
    "duration": 52,
    "start_time": "2022-03-05T09:35:57.534Z"
   },
   {
    "duration": 589,
    "start_time": "2022-03-05T09:35:57.588Z"
   },
   {
    "duration": 5,
    "start_time": "2022-03-05T09:35:58.179Z"
   },
   {
    "duration": 7,
    "start_time": "2022-03-05T09:35:58.186Z"
   },
   {
    "duration": 21,
    "start_time": "2022-03-05T09:35:58.195Z"
   },
   {
    "duration": 12,
    "start_time": "2022-03-05T09:35:58.218Z"
   },
   {
    "duration": 10,
    "start_time": "2022-03-05T09:35:58.232Z"
   },
   {
    "duration": 33,
    "start_time": "2022-03-05T09:35:58.244Z"
   },
   {
    "duration": 29,
    "start_time": "2022-03-05T09:35:58.279Z"
   },
   {
    "duration": 429,
    "start_time": "2022-03-05T09:35:58.310Z"
   },
   {
    "duration": 18159,
    "start_time": "2022-03-05T09:35:58.741Z"
   },
   {
    "duration": 77,
    "start_time": "2022-03-05T09:36:16.902Z"
   },
   {
    "duration": 180,
    "start_time": "2022-03-05T09:36:16.982Z"
   },
   {
    "duration": 411,
    "start_time": "2022-03-05T09:37:41.355Z"
   },
   {
    "duration": 17442,
    "start_time": "2022-03-05T09:37:44.957Z"
   },
   {
    "duration": 29,
    "start_time": "2022-03-05T09:38:08.661Z"
   },
   {
    "duration": 85,
    "start_time": "2022-03-05T09:38:13.067Z"
   },
   {
    "duration": 8,
    "start_time": "2022-03-05T09:38:30.168Z"
   },
   {
    "duration": 15,
    "start_time": "2022-03-05T09:38:33.151Z"
   },
   {
    "duration": 13,
    "start_time": "2022-03-05T09:38:36.804Z"
   },
   {
    "duration": 477,
    "start_time": "2022-03-05T09:40:07.117Z"
   },
   {
    "duration": 21772,
    "start_time": "2022-03-05T09:40:31.727Z"
   },
   {
    "duration": 30,
    "start_time": "2022-03-05T09:41:14.489Z"
   },
   {
    "duration": 120,
    "start_time": "2022-03-05T09:41:33.084Z"
   },
   {
    "duration": 132,
    "start_time": "2022-03-05T09:42:01.117Z"
   },
   {
    "duration": 14,
    "start_time": "2022-03-05T09:42:04.975Z"
   },
   {
    "duration": 119,
    "start_time": "2022-03-05T09:43:51.992Z"
   },
   {
    "duration": 4,
    "start_time": "2022-03-05T09:50:09.912Z"
   },
   {
    "duration": 41,
    "start_time": "2022-03-05T09:50:09.918Z"
   },
   {
    "duration": 22,
    "start_time": "2022-03-05T09:50:09.960Z"
   },
   {
    "duration": 16,
    "start_time": "2022-03-05T09:50:09.984Z"
   },
   {
    "duration": 49,
    "start_time": "2022-03-05T09:50:10.002Z"
   },
   {
    "duration": 30,
    "start_time": "2022-03-05T09:50:10.053Z"
   },
   {
    "duration": 14,
    "start_time": "2022-03-05T09:50:10.084Z"
   },
   {
    "duration": 21,
    "start_time": "2022-03-05T09:50:10.100Z"
   },
   {
    "duration": 37,
    "start_time": "2022-03-05T09:50:10.123Z"
   },
   {
    "duration": 632,
    "start_time": "2022-03-05T09:50:10.162Z"
   },
   {
    "duration": 5,
    "start_time": "2022-03-05T09:50:10.796Z"
   },
   {
    "duration": 41,
    "start_time": "2022-03-05T09:50:10.802Z"
   },
   {
    "duration": 33,
    "start_time": "2022-03-05T09:50:10.845Z"
   },
   {
    "duration": 31,
    "start_time": "2022-03-05T09:50:10.880Z"
   },
   {
    "duration": 15,
    "start_time": "2022-03-05T09:50:10.913Z"
   },
   {
    "duration": 13,
    "start_time": "2022-03-05T09:50:10.930Z"
   },
   {
    "duration": 47,
    "start_time": "2022-03-05T09:50:10.945Z"
   },
   {
    "duration": 401,
    "start_time": "2022-03-05T09:50:56.111Z"
   },
   {
    "duration": 17401,
    "start_time": "2022-03-05T09:51:02.251Z"
   },
   {
    "duration": 69,
    "start_time": "2022-03-05T09:51:27.014Z"
   },
   {
    "duration": 85,
    "start_time": "2022-03-05T09:51:37.816Z"
   },
   {
    "duration": 7,
    "start_time": "2022-03-05T09:51:45.254Z"
   },
   {
    "duration": 14,
    "start_time": "2022-03-05T09:51:52.011Z"
   },
   {
    "duration": 475,
    "start_time": "2022-03-05T09:52:31.447Z"
   },
   {
    "duration": 21987,
    "start_time": "2022-03-05T09:52:56.473Z"
   },
   {
    "duration": 117,
    "start_time": "2022-03-05T09:53:36.770Z"
   },
   {
    "duration": 111,
    "start_time": "2022-03-05T09:54:21.988Z"
   },
   {
    "duration": 4,
    "start_time": "2022-03-05T09:55:37.700Z"
   },
   {
    "duration": 120,
    "start_time": "2022-03-05T09:56:22.738Z"
   },
   {
    "duration": 13,
    "start_time": "2022-03-05T09:56:27.036Z"
   },
   {
    "duration": 4,
    "start_time": "2022-03-05T09:57:19.185Z"
   },
   {
    "duration": 88,
    "start_time": "2022-03-05T09:57:19.190Z"
   },
   {
    "duration": 17,
    "start_time": "2022-03-05T09:57:19.280Z"
   },
   {
    "duration": 40,
    "start_time": "2022-03-05T09:57:19.299Z"
   },
   {
    "duration": 40,
    "start_time": "2022-03-05T09:57:19.340Z"
   },
   {
    "duration": 39,
    "start_time": "2022-03-05T09:57:19.382Z"
   },
   {
    "duration": 6,
    "start_time": "2022-03-05T09:57:19.424Z"
   },
   {
    "duration": 33,
    "start_time": "2022-03-05T09:57:19.432Z"
   },
   {
    "duration": 46,
    "start_time": "2022-03-05T09:57:19.467Z"
   },
   {
    "duration": 581,
    "start_time": "2022-03-05T09:57:19.515Z"
   },
   {
    "duration": 5,
    "start_time": "2022-03-05T09:57:20.098Z"
   },
   {
    "duration": 31,
    "start_time": "2022-03-05T09:57:20.104Z"
   },
   {
    "duration": 39,
    "start_time": "2022-03-05T09:57:20.137Z"
   },
   {
    "duration": 49,
    "start_time": "2022-03-05T09:57:20.178Z"
   },
   {
    "duration": 44,
    "start_time": "2022-03-05T09:57:20.229Z"
   },
   {
    "duration": 32,
    "start_time": "2022-03-05T09:57:20.275Z"
   },
   {
    "duration": 64,
    "start_time": "2022-03-05T09:57:20.309Z"
   },
   {
    "duration": 405,
    "start_time": "2022-03-05T09:57:20.375Z"
   },
   {
    "duration": 17187,
    "start_time": "2022-03-05T09:57:20.784Z"
   },
   {
    "duration": 104,
    "start_time": "2022-03-05T09:57:37.974Z"
   },
   {
    "duration": 173,
    "start_time": "2022-03-05T09:57:38.080Z"
   },
   {
    "duration": 6,
    "start_time": "2022-03-05T09:58:00.153Z"
   },
   {
    "duration": 15,
    "start_time": "2022-03-05T09:58:03.755Z"
   },
   {
    "duration": 4,
    "start_time": "2022-03-05T09:58:12.588Z"
   },
   {
    "duration": 41,
    "start_time": "2022-03-05T09:58:12.593Z"
   },
   {
    "duration": 12,
    "start_time": "2022-03-05T09:58:12.636Z"
   },
   {
    "duration": 6,
    "start_time": "2022-03-05T09:58:12.650Z"
   },
   {
    "duration": 22,
    "start_time": "2022-03-05T09:58:12.658Z"
   },
   {
    "duration": 17,
    "start_time": "2022-03-05T09:58:12.682Z"
   },
   {
    "duration": 8,
    "start_time": "2022-03-05T09:58:12.701Z"
   },
   {
    "duration": 11,
    "start_time": "2022-03-05T09:58:12.713Z"
   },
   {
    "duration": 65,
    "start_time": "2022-03-05T09:58:12.727Z"
   },
   {
    "duration": 667,
    "start_time": "2022-03-05T09:58:12.794Z"
   },
   {
    "duration": 6,
    "start_time": "2022-03-05T09:58:13.463Z"
   },
   {
    "duration": 7,
    "start_time": "2022-03-05T09:58:13.477Z"
   },
   {
    "duration": 15,
    "start_time": "2022-03-05T09:58:13.486Z"
   },
   {
    "duration": 13,
    "start_time": "2022-03-05T09:58:13.503Z"
   },
   {
    "duration": 11,
    "start_time": "2022-03-05T09:58:13.518Z"
   },
   {
    "duration": 6,
    "start_time": "2022-03-05T09:58:13.530Z"
   },
   {
    "duration": 30,
    "start_time": "2022-03-05T09:58:13.577Z"
   },
   {
    "duration": 409,
    "start_time": "2022-03-05T09:58:13.609Z"
   },
   {
    "duration": 17358,
    "start_time": "2022-03-05T09:58:14.020Z"
   },
   {
    "duration": 33,
    "start_time": "2022-03-05T09:58:31.380Z"
   },
   {
    "duration": 176,
    "start_time": "2022-03-05T09:58:31.481Z"
   },
   {
    "duration": 20,
    "start_time": "2022-03-05T09:58:31.658Z"
   },
   {
    "duration": 15,
    "start_time": "2022-03-05T09:58:37.544Z"
   },
   {
    "duration": 515,
    "start_time": "2022-03-05T09:58:42.757Z"
   },
   {
    "duration": 23897,
    "start_time": "2022-03-05T09:58:49.791Z"
   },
   {
    "duration": 94,
    "start_time": "2022-03-05T09:59:19.386Z"
   },
   {
    "duration": 158,
    "start_time": "2022-03-05T09:59:37.860Z"
   },
   {
    "duration": 168,
    "start_time": "2022-03-05T09:59:54.221Z"
   },
   {
    "duration": 14,
    "start_time": "2022-03-05T09:59:59.002Z"
   },
   {
    "duration": 4,
    "start_time": "2022-03-05T10:05:16.364Z"
   },
   {
    "duration": 37,
    "start_time": "2022-03-05T10:05:16.371Z"
   },
   {
    "duration": 13,
    "start_time": "2022-03-05T10:05:16.410Z"
   },
   {
    "duration": 6,
    "start_time": "2022-03-05T10:05:16.426Z"
   },
   {
    "duration": 20,
    "start_time": "2022-03-05T10:05:16.433Z"
   },
   {
    "duration": 33,
    "start_time": "2022-03-05T10:05:16.455Z"
   },
   {
    "duration": 7,
    "start_time": "2022-03-05T10:05:16.490Z"
   },
   {
    "duration": 10,
    "start_time": "2022-03-05T10:05:16.500Z"
   },
   {
    "duration": 27,
    "start_time": "2022-03-05T10:05:16.512Z"
   },
   {
    "duration": 628,
    "start_time": "2022-03-05T10:05:16.541Z"
   },
   {
    "duration": 8,
    "start_time": "2022-03-05T10:05:17.171Z"
   },
   {
    "duration": 8,
    "start_time": "2022-03-05T10:05:17.181Z"
   },
   {
    "duration": 17,
    "start_time": "2022-03-05T10:05:17.191Z"
   },
   {
    "duration": 12,
    "start_time": "2022-03-05T10:05:17.210Z"
   },
   {
    "duration": 11,
    "start_time": "2022-03-05T10:05:17.224Z"
   },
   {
    "duration": 7,
    "start_time": "2022-03-05T10:05:17.237Z"
   },
   {
    "duration": 39,
    "start_time": "2022-03-05T10:05:17.277Z"
   },
   {
    "duration": 422,
    "start_time": "2022-03-05T10:05:17.318Z"
   },
   {
    "duration": 18151,
    "start_time": "2022-03-05T10:05:17.741Z"
   },
   {
    "duration": 86,
    "start_time": "2022-03-05T10:05:35.894Z"
   },
   {
    "duration": 200,
    "start_time": "2022-03-05T10:05:35.982Z"
   },
   {
    "duration": 6,
    "start_time": "2022-03-05T10:05:39.932Z"
   },
   {
    "duration": 273,
    "start_time": "2022-03-05T10:05:46.625Z"
   },
   {
    "duration": 5,
    "start_time": "2022-03-05T10:10:31.996Z"
   },
   {
    "duration": 49,
    "start_time": "2022-03-05T10:10:32.003Z"
   },
   {
    "duration": 13,
    "start_time": "2022-03-05T10:10:32.054Z"
   },
   {
    "duration": 7,
    "start_time": "2022-03-05T10:10:32.069Z"
   },
   {
    "duration": 31,
    "start_time": "2022-03-05T10:10:32.078Z"
   },
   {
    "duration": 17,
    "start_time": "2022-03-05T10:10:32.111Z"
   },
   {
    "duration": 7,
    "start_time": "2022-03-05T10:10:32.131Z"
   },
   {
    "duration": 34,
    "start_time": "2022-03-05T10:10:32.141Z"
   },
   {
    "duration": 46,
    "start_time": "2022-03-05T10:10:32.177Z"
   },
   {
    "duration": 672,
    "start_time": "2022-03-05T10:10:32.225Z"
   },
   {
    "duration": 5,
    "start_time": "2022-03-05T10:10:32.899Z"
   },
   {
    "duration": 15,
    "start_time": "2022-03-05T10:10:32.905Z"
   },
   {
    "duration": 17,
    "start_time": "2022-03-05T10:10:32.922Z"
   },
   {
    "duration": 13,
    "start_time": "2022-03-05T10:10:32.941Z"
   },
   {
    "duration": 29,
    "start_time": "2022-03-05T10:10:32.956Z"
   },
   {
    "duration": 7,
    "start_time": "2022-03-05T10:10:32.987Z"
   },
   {
    "duration": 31,
    "start_time": "2022-03-05T10:10:32.996Z"
   },
   {
    "duration": 420,
    "start_time": "2022-03-05T10:10:33.029Z"
   },
   {
    "duration": 17496,
    "start_time": "2022-03-05T10:10:33.452Z"
   },
   {
    "duration": 43,
    "start_time": "2022-03-05T10:10:50.950Z"
   },
   {
    "duration": 180,
    "start_time": "2022-03-05T10:10:51.079Z"
   },
   {
    "duration": 6,
    "start_time": "2022-03-05T10:10:54.248Z"
   },
   {
    "duration": 20,
    "start_time": "2022-03-05T10:10:56.991Z"
   },
   {
    "duration": 749,
    "start_time": "2022-03-05T10:13:04.679Z"
   },
   {
    "duration": 723,
    "start_time": "2022-03-05T10:13:27.849Z"
   },
   {
    "duration": 35973,
    "start_time": "2022-03-05T10:15:33.770Z"
   },
   {
    "duration": 34990,
    "start_time": "2022-03-05T10:16:23.552Z"
   },
   {
    "duration": 49,
    "start_time": "2022-03-05T10:17:23.930Z"
   },
   {
    "duration": 154,
    "start_time": "2022-03-05T10:17:53.803Z"
   },
   {
    "duration": 155,
    "start_time": "2022-03-05T10:18:29.545Z"
   },
   {
    "duration": 29,
    "start_time": "2022-03-05T10:18:37.815Z"
   },
   {
    "duration": 91,
    "start_time": "2022-03-05T10:19:10.386Z"
   },
   {
    "duration": 30,
    "start_time": "2022-03-05T10:19:15.723Z"
   },
   {
    "duration": 155,
    "start_time": "2022-03-05T10:19:20.669Z"
   },
   {
    "duration": 164,
    "start_time": "2022-03-05T10:19:56.361Z"
   },
   {
    "duration": 15,
    "start_time": "2022-03-05T10:20:00.961Z"
   },
   {
    "duration": 4,
    "start_time": "2022-03-05T10:28:34.538Z"
   },
   {
    "duration": 48,
    "start_time": "2022-03-05T10:28:34.545Z"
   },
   {
    "duration": 13,
    "start_time": "2022-03-05T10:28:34.595Z"
   },
   {
    "duration": 8,
    "start_time": "2022-03-05T10:28:34.610Z"
   },
   {
    "duration": 19,
    "start_time": "2022-03-05T10:28:34.619Z"
   },
   {
    "duration": 38,
    "start_time": "2022-03-05T10:28:34.640Z"
   },
   {
    "duration": 6,
    "start_time": "2022-03-05T10:28:34.680Z"
   },
   {
    "duration": 11,
    "start_time": "2022-03-05T10:28:34.689Z"
   },
   {
    "duration": 24,
    "start_time": "2022-03-05T10:28:34.702Z"
   },
   {
    "duration": 598,
    "start_time": "2022-03-05T10:28:34.728Z"
   },
   {
    "duration": 6,
    "start_time": "2022-03-05T10:28:35.328Z"
   },
   {
    "duration": 20,
    "start_time": "2022-03-05T10:28:35.336Z"
   },
   {
    "duration": 28,
    "start_time": "2022-03-05T10:28:35.357Z"
   },
   {
    "duration": 18,
    "start_time": "2022-03-05T10:28:35.387Z"
   },
   {
    "duration": 29,
    "start_time": "2022-03-05T10:28:35.406Z"
   },
   {
    "duration": 8,
    "start_time": "2022-03-05T10:28:35.437Z"
   },
   {
    "duration": 52,
    "start_time": "2022-03-05T10:28:35.446Z"
   },
   {
    "duration": 402,
    "start_time": "2022-03-05T10:28:35.499Z"
   },
   {
    "duration": 17562,
    "start_time": "2022-03-05T10:28:35.902Z"
   },
   {
    "duration": 116,
    "start_time": "2022-03-05T10:28:53.466Z"
   },
   {
    "duration": 173,
    "start_time": "2022-03-05T10:28:53.585Z"
   },
   {
    "duration": 22,
    "start_time": "2022-03-05T10:28:53.760Z"
   },
   {
    "duration": 31,
    "start_time": "2022-03-05T10:28:53.787Z"
   },
   {
    "duration": 742,
    "start_time": "2022-03-05T10:28:53.820Z"
   },
   {
    "duration": 34717,
    "start_time": "2022-03-05T10:28:54.564Z"
   },
   {
    "duration": 28,
    "start_time": "2022-03-05T10:29:29.282Z"
   },
   {
    "duration": 255,
    "start_time": "2022-03-05T10:29:29.381Z"
   },
   {
    "duration": 174,
    "start_time": "2022-03-05T10:29:29.638Z"
   },
   {
    "duration": 14,
    "start_time": "2022-03-05T10:29:29.814Z"
   },
   {
    "duration": 4,
    "start_time": "2022-03-05T10:33:11.044Z"
   },
   {
    "duration": 54,
    "start_time": "2022-03-05T10:33:11.051Z"
   },
   {
    "duration": 20,
    "start_time": "2022-03-05T10:33:11.108Z"
   },
   {
    "duration": 12,
    "start_time": "2022-03-05T10:33:11.130Z"
   },
   {
    "duration": 33,
    "start_time": "2022-03-05T10:33:11.144Z"
   },
   {
    "duration": 17,
    "start_time": "2022-03-05T10:33:11.179Z"
   },
   {
    "duration": 6,
    "start_time": "2022-03-05T10:33:11.198Z"
   },
   {
    "duration": 24,
    "start_time": "2022-03-05T10:33:11.207Z"
   },
   {
    "duration": 29,
    "start_time": "2022-03-05T10:33:11.233Z"
   },
   {
    "duration": 685,
    "start_time": "2022-03-05T10:33:11.264Z"
   },
   {
    "duration": 5,
    "start_time": "2022-03-05T10:33:11.951Z"
   },
   {
    "duration": 11,
    "start_time": "2022-03-05T10:33:11.957Z"
   },
   {
    "duration": 20,
    "start_time": "2022-03-05T10:33:11.969Z"
   },
   {
    "duration": 13,
    "start_time": "2022-03-05T10:33:11.991Z"
   },
   {
    "duration": 11,
    "start_time": "2022-03-05T10:33:12.005Z"
   },
   {
    "duration": 7,
    "start_time": "2022-03-05T10:33:12.017Z"
   },
   {
    "duration": 65,
    "start_time": "2022-03-05T10:33:12.026Z"
   },
   {
    "duration": 404,
    "start_time": "2022-03-05T10:33:12.092Z"
   },
   {
    "duration": 17400,
    "start_time": "2022-03-05T10:33:12.498Z"
   },
   {
    "duration": 79,
    "start_time": "2022-03-05T10:33:29.900Z"
   },
   {
    "duration": 176,
    "start_time": "2022-03-05T10:33:29.982Z"
   },
   {
    "duration": 18,
    "start_time": "2022-03-05T10:33:30.160Z"
   },
   {
    "duration": 23,
    "start_time": "2022-03-05T10:33:30.181Z"
   },
   {
    "duration": 1217,
    "start_time": "2022-03-05T10:33:33.977Z"
   },
   {
    "duration": -164,
    "start_time": "2022-03-05T10:43:21.220Z"
   },
   {
    "duration": -217,
    "start_time": "2022-03-05T10:43:21.274Z"
   },
   {
    "duration": -219,
    "start_time": "2022-03-05T10:43:21.277Z"
   },
   {
    "duration": -220,
    "start_time": "2022-03-05T10:43:21.279Z"
   },
   {
    "duration": -221,
    "start_time": "2022-03-05T10:43:21.282Z"
   },
   {
    "duration": -222,
    "start_time": "2022-03-05T10:43:21.284Z"
   },
   {
    "duration": -224,
    "start_time": "2022-03-05T10:43:21.287Z"
   },
   {
    "duration": -226,
    "start_time": "2022-03-05T10:43:21.290Z"
   },
   {
    "duration": -227,
    "start_time": "2022-03-05T10:43:21.292Z"
   },
   {
    "duration": -234,
    "start_time": "2022-03-05T10:43:21.300Z"
   },
   {
    "duration": -235,
    "start_time": "2022-03-05T10:43:21.302Z"
   },
   {
    "duration": -236,
    "start_time": "2022-03-05T10:43:21.304Z"
   },
   {
    "duration": -239,
    "start_time": "2022-03-05T10:43:21.307Z"
   },
   {
    "duration": -239,
    "start_time": "2022-03-05T10:43:21.309Z"
   },
   {
    "duration": -242,
    "start_time": "2022-03-05T10:43:21.312Z"
   },
   {
    "duration": -243,
    "start_time": "2022-03-05T10:43:21.314Z"
   },
   {
    "duration": -244,
    "start_time": "2022-03-05T10:43:21.316Z"
   },
   {
    "duration": -245,
    "start_time": "2022-03-05T10:43:21.318Z"
   },
   {
    "duration": -246,
    "start_time": "2022-03-05T10:43:21.320Z"
   },
   {
    "duration": -247,
    "start_time": "2022-03-05T10:43:21.322Z"
   },
   {
    "duration": -248,
    "start_time": "2022-03-05T10:43:21.324Z"
   },
   {
    "duration": -248,
    "start_time": "2022-03-05T10:43:21.326Z"
   },
   {
    "duration": -250,
    "start_time": "2022-03-05T10:43:21.329Z"
   },
   {
    "duration": -251,
    "start_time": "2022-03-05T10:43:21.331Z"
   },
   {
    "duration": -252,
    "start_time": "2022-03-05T10:43:21.333Z"
   },
   {
    "duration": -257,
    "start_time": "2022-03-05T10:43:21.339Z"
   },
   {
    "duration": -258,
    "start_time": "2022-03-05T10:43:21.341Z"
   },
   {
    "duration": -259,
    "start_time": "2022-03-05T10:43:21.343Z"
   },
   {
    "duration": -260,
    "start_time": "2022-03-05T10:43:21.345Z"
   },
   {
    "duration": 4,
    "start_time": "2022-03-05T10:43:25.281Z"
   },
   {
    "duration": 33,
    "start_time": "2022-03-05T10:43:27.264Z"
   },
   {
    "duration": 6,
    "start_time": "2022-03-05T10:43:38.720Z"
   },
   {
    "duration": 50,
    "start_time": "2022-03-05T10:43:38.729Z"
   },
   {
    "duration": 20,
    "start_time": "2022-03-05T10:43:38.782Z"
   },
   {
    "duration": 8,
    "start_time": "2022-03-05T10:43:38.804Z"
   },
   {
    "duration": 31,
    "start_time": "2022-03-05T10:43:38.814Z"
   },
   {
    "duration": 35,
    "start_time": "2022-03-05T10:43:38.847Z"
   },
   {
    "duration": 7,
    "start_time": "2022-03-05T10:43:38.884Z"
   },
   {
    "duration": 40,
    "start_time": "2022-03-05T10:43:38.893Z"
   },
   {
    "duration": 28,
    "start_time": "2022-03-05T10:43:38.936Z"
   },
   {
    "duration": 698,
    "start_time": "2022-03-05T10:43:38.965Z"
   },
   {
    "duration": 13,
    "start_time": "2022-03-05T10:43:39.665Z"
   },
   {
    "duration": 13,
    "start_time": "2022-03-05T10:43:39.680Z"
   },
   {
    "duration": 14,
    "start_time": "2022-03-05T10:43:39.695Z"
   },
   {
    "duration": 12,
    "start_time": "2022-03-05T10:43:39.710Z"
   },
   {
    "duration": 10,
    "start_time": "2022-03-05T10:43:39.724Z"
   },
   {
    "duration": 20,
    "start_time": "2022-03-05T10:43:39.736Z"
   },
   {
    "duration": 46,
    "start_time": "2022-03-05T10:43:39.758Z"
   },
   {
    "duration": 673,
    "start_time": "2022-03-05T10:43:39.806Z"
   },
   {
    "duration": 65267,
    "start_time": "2022-03-05T10:43:40.481Z"
   },
   {
    "duration": 42,
    "start_time": "2022-03-05T10:44:45.750Z"
   },
   {
    "duration": 330,
    "start_time": "2022-03-05T10:44:45.794Z"
   },
   {
    "duration": 6,
    "start_time": "2022-03-05T10:44:46.126Z"
   },
   {
    "duration": 23,
    "start_time": "2022-03-05T10:44:46.135Z"
   },
   {
    "duration": 1224,
    "start_time": "2022-03-05T10:44:46.160Z"
   },
   {
    "duration": 130878,
    "start_time": "2022-03-05T10:44:47.386Z"
   },
   {
    "duration": 34,
    "start_time": "2022-03-05T10:46:58.266Z"
   },
   {
    "duration": 390,
    "start_time": "2022-03-05T10:46:58.304Z"
   },
   {
    "duration": 239,
    "start_time": "2022-03-05T10:46:58.696Z"
   },
   {
    "duration": 18,
    "start_time": "2022-03-05T10:46:58.937Z"
   },
   {
    "duration": 3,
    "start_time": "2022-03-05T10:53:13.458Z"
   },
   {
    "duration": 53,
    "start_time": "2022-03-05T10:53:13.463Z"
   },
   {
    "duration": 12,
    "start_time": "2022-03-05T10:53:13.518Z"
   },
   {
    "duration": 23,
    "start_time": "2022-03-05T10:53:13.532Z"
   },
   {
    "duration": 27,
    "start_time": "2022-03-05T10:53:13.556Z"
   },
   {
    "duration": 26,
    "start_time": "2022-03-05T10:53:13.585Z"
   },
   {
    "duration": 12,
    "start_time": "2022-03-05T10:53:13.613Z"
   },
   {
    "duration": 28,
    "start_time": "2022-03-05T10:53:13.628Z"
   },
   {
    "duration": 40,
    "start_time": "2022-03-05T10:53:13.659Z"
   },
   {
    "duration": 596,
    "start_time": "2022-03-05T10:53:13.701Z"
   },
   {
    "duration": 5,
    "start_time": "2022-03-05T10:53:14.299Z"
   },
   {
    "duration": 9,
    "start_time": "2022-03-05T10:53:14.307Z"
   },
   {
    "duration": 15,
    "start_time": "2022-03-05T10:53:14.318Z"
   },
   {
    "duration": 42,
    "start_time": "2022-03-05T10:53:14.335Z"
   },
   {
    "duration": 13,
    "start_time": "2022-03-05T10:53:14.379Z"
   },
   {
    "duration": 8,
    "start_time": "2022-03-05T10:53:14.394Z"
   },
   {
    "duration": 29,
    "start_time": "2022-03-05T10:53:14.404Z"
   },
   {
    "duration": 694,
    "start_time": "2022-03-05T10:53:14.435Z"
   },
   {
    "duration": 64949,
    "start_time": "2022-03-05T10:53:15.131Z"
   },
   {
    "duration": 24,
    "start_time": "2022-03-05T10:54:20.082Z"
   },
   {
    "duration": 325,
    "start_time": "2022-03-05T10:54:20.109Z"
   },
   {
    "duration": 6,
    "start_time": "2022-03-05T10:54:20.436Z"
   },
   {
    "duration": 35,
    "start_time": "2022-03-05T10:54:20.446Z"
   },
   {
    "duration": 1173,
    "start_time": "2022-03-05T10:54:20.483Z"
   },
   {
    "duration": 130399,
    "start_time": "2022-03-05T10:54:21.659Z"
   },
   {
    "duration": 35,
    "start_time": "2022-03-05T10:56:32.059Z"
   },
   {
    "duration": 100,
    "start_time": "2022-03-05T10:56:32.179Z"
   },
   {
    "duration": 30,
    "start_time": "2022-03-05T10:56:32.281Z"
   },
   {
    "duration": 8,
    "start_time": "2022-03-05T10:56:32.313Z"
   },
   {
    "duration": 1185,
    "start_time": "2022-03-05T10:56:32.323Z"
   },
   {
    "duration": 4,
    "start_time": "2022-03-05T10:57:54.273Z"
   },
   {
    "duration": 34,
    "start_time": "2022-03-05T10:57:54.282Z"
   },
   {
    "duration": 13,
    "start_time": "2022-03-05T10:57:54.318Z"
   },
   {
    "duration": 6,
    "start_time": "2022-03-05T10:57:54.333Z"
   },
   {
    "duration": 39,
    "start_time": "2022-03-05T10:57:54.341Z"
   },
   {
    "duration": 17,
    "start_time": "2022-03-05T10:57:54.382Z"
   },
   {
    "duration": 7,
    "start_time": "2022-03-05T10:57:54.401Z"
   },
   {
    "duration": 11,
    "start_time": "2022-03-05T10:57:54.410Z"
   },
   {
    "duration": 55,
    "start_time": "2022-03-05T10:57:54.423Z"
   },
   {
    "duration": 681,
    "start_time": "2022-03-05T10:57:54.481Z"
   },
   {
    "duration": 5,
    "start_time": "2022-03-05T10:57:55.164Z"
   },
   {
    "duration": 12,
    "start_time": "2022-03-05T10:57:55.170Z"
   },
   {
    "duration": 14,
    "start_time": "2022-03-05T10:57:55.183Z"
   },
   {
    "duration": 12,
    "start_time": "2022-03-05T10:57:55.199Z"
   },
   {
    "duration": 9,
    "start_time": "2022-03-05T10:57:55.213Z"
   },
   {
    "duration": 6,
    "start_time": "2022-03-05T10:57:55.224Z"
   },
   {
    "duration": 70,
    "start_time": "2022-03-05T10:57:55.232Z"
   },
   {
    "duration": 148,
    "start_time": "2022-03-05T10:57:55.304Z"
   },
   {
    "duration": 1651,
    "start_time": "2022-03-05T10:57:55.454Z"
   },
   {
    "duration": 77,
    "start_time": "2022-03-05T10:57:57.107Z"
   },
   {
    "duration": 125,
    "start_time": "2022-03-05T10:57:57.186Z"
   },
   {
    "duration": 6,
    "start_time": "2022-03-05T10:57:57.312Z"
   },
   {
    "duration": 23,
    "start_time": "2022-03-05T10:57:57.319Z"
   },
   {
    "duration": 268,
    "start_time": "2022-03-05T10:57:57.344Z"
   },
   {
    "duration": 3353,
    "start_time": "2022-03-05T10:57:57.613Z"
   },
   {
    "duration": 109,
    "start_time": "2022-03-05T10:58:00.968Z"
   },
   {
    "duration": 159,
    "start_time": "2022-03-05T10:58:01.080Z"
   },
   {
    "duration": 86,
    "start_time": "2022-03-05T10:58:01.242Z"
   },
   {
    "duration": 10,
    "start_time": "2022-03-05T10:58:01.330Z"
   },
   {
    "duration": 246,
    "start_time": "2022-03-05T10:58:53.328Z"
   },
   {
    "duration": 279,
    "start_time": "2022-03-05T10:59:50.908Z"
   },
   {
    "duration": 3378,
    "start_time": "2022-03-05T10:59:56.449Z"
   },
   {
    "duration": 33,
    "start_time": "2022-03-05T11:00:05.393Z"
   },
   {
    "duration": 63,
    "start_time": "2022-03-05T11:00:08.601Z"
   },
   {
    "duration": 10,
    "start_time": "2022-03-05T11:00:13.137Z"
   },
   {
    "duration": 5,
    "start_time": "2022-03-05T11:01:11.871Z"
   },
   {
    "duration": 49,
    "start_time": "2022-03-05T11:01:11.879Z"
   },
   {
    "duration": 13,
    "start_time": "2022-03-05T11:01:11.930Z"
   },
   {
    "duration": 11,
    "start_time": "2022-03-05T11:01:11.945Z"
   },
   {
    "duration": 41,
    "start_time": "2022-03-05T11:01:11.958Z"
   },
   {
    "duration": 27,
    "start_time": "2022-03-05T11:01:12.001Z"
   },
   {
    "duration": 8,
    "start_time": "2022-03-05T11:01:12.031Z"
   },
   {
    "duration": 47,
    "start_time": "2022-03-05T11:01:12.041Z"
   },
   {
    "duration": 34,
    "start_time": "2022-03-05T11:01:12.091Z"
   },
   {
    "duration": 716,
    "start_time": "2022-03-05T11:01:12.127Z"
   },
   {
    "duration": 5,
    "start_time": "2022-03-05T11:01:12.845Z"
   },
   {
    "duration": 9,
    "start_time": "2022-03-05T11:01:12.851Z"
   },
   {
    "duration": 30,
    "start_time": "2022-03-05T11:01:12.862Z"
   },
   {
    "duration": 18,
    "start_time": "2022-03-05T11:01:12.895Z"
   },
   {
    "duration": 11,
    "start_time": "2022-03-05T11:01:12.914Z"
   },
   {
    "duration": 7,
    "start_time": "2022-03-05T11:01:12.927Z"
   },
   {
    "duration": 82,
    "start_time": "2022-03-05T11:01:12.936Z"
   },
   {
    "duration": 202,
    "start_time": "2022-03-05T11:01:13.020Z"
   },
   {
    "duration": 2016,
    "start_time": "2022-03-05T11:01:13.225Z"
   },
   {
    "duration": 133,
    "start_time": "2022-03-05T11:01:15.243Z"
   },
   {
    "duration": 126,
    "start_time": "2022-03-05T11:01:15.380Z"
   },
   {
    "duration": 6,
    "start_time": "2022-03-05T11:01:15.508Z"
   },
   {
    "duration": 36,
    "start_time": "2022-03-05T11:01:15.516Z"
   },
   {
    "duration": 341,
    "start_time": "2022-03-05T11:01:15.554Z"
   },
   {
    "duration": 4144,
    "start_time": "2022-03-05T11:01:15.898Z"
   },
   {
    "duration": 47,
    "start_time": "2022-03-05T11:01:20.044Z"
   },
   {
    "duration": 215,
    "start_time": "2022-03-05T11:01:20.100Z"
   },
   {
    "duration": 43,
    "start_time": "2022-03-05T11:01:20.317Z"
   },
   {
    "duration": 25,
    "start_time": "2022-03-05T11:01:20.362Z"
   },
   {
    "duration": 5,
    "start_time": "2022-03-05T11:02:42.426Z"
   },
   {
    "duration": 37,
    "start_time": "2022-03-05T11:02:42.434Z"
   },
   {
    "duration": 21,
    "start_time": "2022-03-05T11:02:42.473Z"
   },
   {
    "duration": 9,
    "start_time": "2022-03-05T11:02:42.497Z"
   },
   {
    "duration": 25,
    "start_time": "2022-03-05T11:02:42.508Z"
   },
   {
    "duration": 55,
    "start_time": "2022-03-05T11:02:42.535Z"
   },
   {
    "duration": 9,
    "start_time": "2022-03-05T11:02:42.592Z"
   },
   {
    "duration": 14,
    "start_time": "2022-03-05T11:02:42.603Z"
   },
   {
    "duration": 29,
    "start_time": "2022-03-05T11:02:42.620Z"
   },
   {
    "duration": 648,
    "start_time": "2022-03-05T11:02:42.652Z"
   },
   {
    "duration": 6,
    "start_time": "2022-03-05T11:02:43.303Z"
   },
   {
    "duration": 10,
    "start_time": "2022-03-05T11:02:43.311Z"
   },
   {
    "duration": 16,
    "start_time": "2022-03-05T11:02:43.323Z"
   },
   {
    "duration": 36,
    "start_time": "2022-03-05T11:02:43.341Z"
   },
   {
    "duration": 13,
    "start_time": "2022-03-05T11:02:43.380Z"
   },
   {
    "duration": 17,
    "start_time": "2022-03-05T11:02:43.395Z"
   },
   {
    "duration": 31,
    "start_time": "2022-03-05T11:02:43.414Z"
   },
   {
    "duration": 187,
    "start_time": "2022-03-05T11:02:43.447Z"
   },
   {
    "duration": 2119,
    "start_time": "2022-03-05T11:02:43.636Z"
   },
   {
    "duration": 53,
    "start_time": "2022-03-05T11:02:45.757Z"
   },
   {
    "duration": 192,
    "start_time": "2022-03-05T11:02:45.819Z"
   },
   {
    "duration": 7,
    "start_time": "2022-03-05T11:02:46.014Z"
   },
   {
    "duration": 23,
    "start_time": "2022-03-05T11:02:46.023Z"
   },
   {
    "duration": 300,
    "start_time": "2022-03-05T11:02:46.048Z"
   },
   {
    "duration": 3657,
    "start_time": "2022-03-05T11:02:46.350Z"
   },
   {
    "duration": 70,
    "start_time": "2022-03-05T11:02:50.009Z"
   },
   {
    "duration": 167,
    "start_time": "2022-03-05T11:02:50.086Z"
   },
   {
    "duration": 96,
    "start_time": "2022-03-05T11:02:50.255Z"
   },
   {
    "duration": 11,
    "start_time": "2022-03-05T11:02:50.352Z"
   },
   {
    "duration": 111,
    "start_time": "2022-03-05T11:04:19.761Z"
   },
   {
    "duration": 78,
    "start_time": "2022-03-05T11:04:31.929Z"
   },
   {
    "duration": 286,
    "start_time": "2022-03-05T11:05:55.141Z"
   },
   {
    "duration": 5,
    "start_time": "2022-03-05T11:06:05.794Z"
   },
   {
    "duration": 47,
    "start_time": "2022-03-05T11:06:05.801Z"
   },
   {
    "duration": 13,
    "start_time": "2022-03-05T11:06:05.851Z"
   },
   {
    "duration": 16,
    "start_time": "2022-03-05T11:06:05.866Z"
   },
   {
    "duration": 22,
    "start_time": "2022-03-05T11:06:05.884Z"
   },
   {
    "duration": 18,
    "start_time": "2022-03-05T11:06:05.907Z"
   },
   {
    "duration": 11,
    "start_time": "2022-03-05T11:06:05.927Z"
   },
   {
    "duration": 47,
    "start_time": "2022-03-05T11:06:05.940Z"
   },
   {
    "duration": 40,
    "start_time": "2022-03-05T11:06:05.991Z"
   },
   {
    "duration": 617,
    "start_time": "2022-03-05T11:06:06.033Z"
   },
   {
    "duration": 5,
    "start_time": "2022-03-05T11:06:06.652Z"
   },
   {
    "duration": 19,
    "start_time": "2022-03-05T11:06:06.659Z"
   },
   {
    "duration": 15,
    "start_time": "2022-03-05T11:06:06.680Z"
   },
   {
    "duration": 6,
    "start_time": "2022-03-05T11:06:06.697Z"
   },
   {
    "duration": 13,
    "start_time": "2022-03-05T11:06:06.705Z"
   },
   {
    "duration": 11,
    "start_time": "2022-03-05T11:06:06.720Z"
   },
   {
    "duration": 6,
    "start_time": "2022-03-05T11:06:06.733Z"
   },
   {
    "duration": 63,
    "start_time": "2022-03-05T11:06:06.741Z"
   },
   {
    "duration": 145,
    "start_time": "2022-03-05T11:06:06.806Z"
   },
   {
    "duration": 1744,
    "start_time": "2022-03-05T11:06:06.953Z"
   },
   {
    "duration": 86,
    "start_time": "2022-03-05T11:06:08.699Z"
   },
   {
    "duration": 125,
    "start_time": "2022-03-05T11:06:08.788Z"
   },
   {
    "duration": 6,
    "start_time": "2022-03-05T11:06:08.916Z"
   },
   {
    "duration": 27,
    "start_time": "2022-03-05T11:06:08.923Z"
   },
   {
    "duration": 276,
    "start_time": "2022-03-05T11:06:08.952Z"
   },
   {
    "duration": 3400,
    "start_time": "2022-03-05T11:06:09.230Z"
   },
   {
    "duration": 144,
    "start_time": "2022-03-05T11:06:12.633Z"
   },
   {
    "duration": 43,
    "start_time": "2022-03-05T11:06:12.779Z"
   },
   {
    "duration": 67,
    "start_time": "2022-03-05T11:06:12.824Z"
   },
   {
    "duration": 8,
    "start_time": "2022-03-05T11:06:12.893Z"
   },
   {
    "duration": 4,
    "start_time": "2022-03-05T11:06:50.661Z"
   },
   {
    "duration": 40,
    "start_time": "2022-03-05T11:06:50.667Z"
   },
   {
    "duration": 13,
    "start_time": "2022-03-05T11:06:50.709Z"
   },
   {
    "duration": 12,
    "start_time": "2022-03-05T11:06:50.724Z"
   },
   {
    "duration": 19,
    "start_time": "2022-03-05T11:06:50.738Z"
   },
   {
    "duration": 22,
    "start_time": "2022-03-05T11:06:50.759Z"
   },
   {
    "duration": 7,
    "start_time": "2022-03-05T11:06:50.783Z"
   },
   {
    "duration": 22,
    "start_time": "2022-03-05T11:06:50.792Z"
   },
   {
    "duration": 28,
    "start_time": "2022-03-05T11:06:50.817Z"
   },
   {
    "duration": 629,
    "start_time": "2022-03-05T11:06:50.848Z"
   },
   {
    "duration": 6,
    "start_time": "2022-03-05T11:06:51.478Z"
   },
   {
    "duration": 11,
    "start_time": "2022-03-05T11:06:51.486Z"
   },
   {
    "duration": 14,
    "start_time": "2022-03-05T11:06:51.499Z"
   },
   {
    "duration": 11,
    "start_time": "2022-03-05T11:06:51.515Z"
   },
   {
    "duration": 12,
    "start_time": "2022-03-05T11:06:51.528Z"
   },
   {
    "duration": 35,
    "start_time": "2022-03-05T11:06:51.542Z"
   },
   {
    "duration": 36,
    "start_time": "2022-03-05T11:06:51.579Z"
   },
   {
    "duration": 148,
    "start_time": "2022-03-05T11:06:51.617Z"
   },
   {
    "duration": 1650,
    "start_time": "2022-03-05T11:06:51.767Z"
   },
   {
    "duration": 63,
    "start_time": "2022-03-05T11:06:53.419Z"
   },
   {
    "duration": 122,
    "start_time": "2022-03-05T11:06:53.484Z"
   },
   {
    "duration": 6,
    "start_time": "2022-03-05T11:06:53.608Z"
   },
   {
    "duration": 20,
    "start_time": "2022-03-05T11:06:53.615Z"
   },
   {
    "duration": 281,
    "start_time": "2022-03-05T11:06:53.637Z"
   },
   {
    "duration": 3384,
    "start_time": "2022-03-05T11:06:53.920Z"
   },
   {
    "duration": 78,
    "start_time": "2022-03-05T11:06:57.306Z"
   },
   {
    "duration": 200,
    "start_time": "2022-03-05T11:06:57.388Z"
   },
   {
    "duration": 62,
    "start_time": "2022-03-05T11:06:57.589Z"
   },
   {
    "duration": 25,
    "start_time": "2022-03-05T11:06:57.653Z"
   },
   {
    "duration": 77,
    "start_time": "2022-03-05T11:07:15.764Z"
   },
   {
    "duration": 65,
    "start_time": "2022-03-05T11:07:27.095Z"
   },
   {
    "duration": 12701,
    "start_time": "2022-03-05T11:07:53.825Z"
   },
   {
    "duration": 26,
    "start_time": "2022-03-05T11:08:48.357Z"
   },
   {
    "duration": 109,
    "start_time": "2022-03-05T11:08:50.202Z"
   },
   {
    "duration": 118,
    "start_time": "2022-03-05T11:08:53.415Z"
   },
   {
    "duration": 12,
    "start_time": "2022-03-05T11:08:57.368Z"
   },
   {
    "duration": 5,
    "start_time": "2022-03-05T11:09:53.444Z"
   },
   {
    "duration": 40,
    "start_time": "2022-03-05T11:09:53.451Z"
   },
   {
    "duration": 16,
    "start_time": "2022-03-05T11:09:53.494Z"
   },
   {
    "duration": 12,
    "start_time": "2022-03-05T11:09:53.513Z"
   },
   {
    "duration": 21,
    "start_time": "2022-03-05T11:09:53.527Z"
   },
   {
    "duration": 38,
    "start_time": "2022-03-05T11:09:53.551Z"
   },
   {
    "duration": 107,
    "start_time": "2022-03-05T11:09:53.592Z"
   },
   {
    "duration": 11,
    "start_time": "2022-03-05T11:09:53.701Z"
   },
   {
    "duration": 27,
    "start_time": "2022-03-05T11:09:53.713Z"
   },
   {
    "duration": 590,
    "start_time": "2022-03-05T11:09:53.741Z"
   },
   {
    "duration": 5,
    "start_time": "2022-03-05T11:09:54.332Z"
   },
   {
    "duration": 12,
    "start_time": "2022-03-05T11:09:54.339Z"
   },
   {
    "duration": 28,
    "start_time": "2022-03-05T11:09:54.353Z"
   },
   {
    "duration": 14,
    "start_time": "2022-03-05T11:09:54.383Z"
   },
   {
    "duration": 13,
    "start_time": "2022-03-05T11:09:54.399Z"
   },
   {
    "duration": 15,
    "start_time": "2022-03-05T11:09:54.414Z"
   },
   {
    "duration": 47,
    "start_time": "2022-03-05T11:09:54.430Z"
   },
   {
    "duration": 144,
    "start_time": "2022-03-05T11:09:54.479Z"
   },
   {
    "duration": 6308,
    "start_time": "2022-03-05T11:09:54.626Z"
   },
   {
    "duration": 49,
    "start_time": "2022-03-05T11:10:00.936Z"
   },
   {
    "duration": 178,
    "start_time": "2022-03-05T11:10:01.079Z"
   },
   {
    "duration": 18,
    "start_time": "2022-03-05T11:10:01.259Z"
   },
   {
    "duration": 38,
    "start_time": "2022-03-05T11:10:01.279Z"
   },
   {
    "duration": 267,
    "start_time": "2022-03-05T11:10:01.319Z"
   },
   {
    "duration": 13192,
    "start_time": "2022-03-05T11:10:01.588Z"
   },
   {
    "duration": 30,
    "start_time": "2022-03-05T11:10:14.782Z"
   },
   {
    "duration": 221,
    "start_time": "2022-03-05T11:10:14.879Z"
   },
   {
    "duration": 129,
    "start_time": "2022-03-05T11:10:15.102Z"
   },
   {
    "duration": 12,
    "start_time": "2022-03-05T11:10:15.233Z"
   },
   {
    "duration": 7,
    "start_time": "2022-03-05T11:12:00.833Z"
   },
   {
    "duration": 70,
    "start_time": "2022-03-05T11:12:00.842Z"
   },
   {
    "duration": 16,
    "start_time": "2022-03-05T11:12:00.915Z"
   },
   {
    "duration": 19,
    "start_time": "2022-03-05T11:12:00.934Z"
   },
   {
    "duration": 58,
    "start_time": "2022-03-05T11:12:00.955Z"
   },
   {
    "duration": 27,
    "start_time": "2022-03-05T11:12:01.015Z"
   },
   {
    "duration": 18,
    "start_time": "2022-03-05T11:12:01.044Z"
   },
   {
    "duration": 31,
    "start_time": "2022-03-05T11:12:01.064Z"
   },
   {
    "duration": 44,
    "start_time": "2022-03-05T11:12:01.100Z"
   },
   {
    "duration": 611,
    "start_time": "2022-03-05T11:12:01.148Z"
   },
   {
    "duration": 6,
    "start_time": "2022-03-05T11:12:01.762Z"
   },
   {
    "duration": 33,
    "start_time": "2022-03-05T11:12:01.778Z"
   },
   {
    "duration": 41,
    "start_time": "2022-03-05T11:12:01.813Z"
   },
   {
    "duration": 31,
    "start_time": "2022-03-05T11:12:01.857Z"
   },
   {
    "duration": 34,
    "start_time": "2022-03-05T11:12:01.890Z"
   },
   {
    "duration": 25,
    "start_time": "2022-03-05T11:12:01.927Z"
   },
   {
    "duration": 54,
    "start_time": "2022-03-05T11:12:01.954Z"
   },
   {
    "duration": 159,
    "start_time": "2022-03-05T11:12:02.011Z"
   },
   {
    "duration": 6500,
    "start_time": "2022-03-05T11:12:02.172Z"
   },
   {
    "duration": 107,
    "start_time": "2022-03-05T11:12:08.675Z"
   },
   {
    "duration": 195,
    "start_time": "2022-03-05T11:12:08.785Z"
   },
   {
    "duration": 6,
    "start_time": "2022-03-05T11:12:08.982Z"
   },
   {
    "duration": 35,
    "start_time": "2022-03-05T11:12:08.991Z"
   },
   {
    "duration": 278,
    "start_time": "2022-03-05T11:12:09.028Z"
   },
   {
    "duration": 13134,
    "start_time": "2022-03-05T11:12:09.308Z"
   },
   {
    "duration": 38,
    "start_time": "2022-03-05T11:12:22.445Z"
   },
   {
    "duration": 215,
    "start_time": "2022-03-05T11:12:22.581Z"
   },
   {
    "duration": 124,
    "start_time": "2022-03-05T11:12:22.798Z"
   },
   {
    "duration": 12,
    "start_time": "2022-03-05T11:12:22.924Z"
   }
  ],
  "kernelspec": {
   "display_name": "Python 3",
   "language": "python",
   "name": "python3"
  },
  "language_info": {
   "codemirror_mode": {
    "name": "ipython",
    "version": 3
   },
   "file_extension": ".py",
   "mimetype": "text/x-python",
   "name": "python",
   "nbconvert_exporter": "python",
   "pygments_lexer": "ipython3",
   "version": "3.7.13"
  },
  "toc": {
   "base_numbering": 1,
   "nav_menu": {},
   "number_sections": true,
   "sideBar": true,
   "skip_h1_title": true,
   "title_cell": "Содержание",
   "title_sidebar": "Contents",
   "toc_cell": true,
   "toc_position": {},
   "toc_section_display": true,
   "toc_window_display": false
  }
 },
 "nbformat": 4,
 "nbformat_minor": 2
}
