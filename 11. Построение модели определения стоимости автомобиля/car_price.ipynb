{
 "cells": [
  {
   "cell_type": "markdown",
   "id": "2131aeee",
   "metadata": {
    "toc": true
   },
   "source": [
    "<h1>Table of Contents<span class=\"tocSkip\"></span></h1>\n",
    "<div class=\"toc\"><ul class=\"toc-item\"><li><span><a href=\"#Определение-стоимости-автомобилей\" data-toc-modified-id=\"Определение-стоимости-автомобилей-1\"><span class=\"toc-item-num\">1&nbsp;&nbsp;</span>Определение стоимости автомобилей</a></span><ul class=\"toc-item\"><li><span><a href=\"#Подготовка-данных\" data-toc-modified-id=\"Подготовка-данных-1.1\"><span class=\"toc-item-num\">1.1&nbsp;&nbsp;</span>Подготовка данных</a></span><ul class=\"toc-item\"><li><span><a href=\"#Первичный-анализ\" data-toc-modified-id=\"Первичный-анализ-1.1.1\"><span class=\"toc-item-num\">1.1.1&nbsp;&nbsp;</span>Первичный анализ</a></span></li><li><span><a href=\"#Предобработка-данных\" data-toc-modified-id=\"Предобработка-данных-1.1.2\"><span class=\"toc-item-num\">1.1.2&nbsp;&nbsp;</span>Предобработка данных</a></span><ul class=\"toc-item\"><li><span><a href=\"#Работа-с-пропусками\" data-toc-modified-id=\"Работа-с-пропусками-1.1.2.1\"><span class=\"toc-item-num\">1.1.2.1&nbsp;&nbsp;</span>Работа с пропусками</a></span></li><li><span><a href=\"#Анализ-выбросов\" data-toc-modified-id=\"Анализ-выбросов-1.1.2.2\"><span class=\"toc-item-num\">1.1.2.2&nbsp;&nbsp;</span>Анализ выбросов</a></span></li></ul></li></ul></li><li><span><a href=\"#Обучение-моделей\" data-toc-modified-id=\"Обучение-моделей-1.2\"><span class=\"toc-item-num\">1.2&nbsp;&nbsp;</span>Обучение моделей</a></span></li><li><span><a href=\"#Анализ-моделей\" data-toc-modified-id=\"Анализ-моделей-1.3\"><span class=\"toc-item-num\">1.3&nbsp;&nbsp;</span>Анализ моделей</a></span><ul class=\"toc-item\"><li><span><a href=\"#Линейная-регрессия\" data-toc-modified-id=\"Линейная-регрессия-1.3.1\"><span class=\"toc-item-num\">1.3.1&nbsp;&nbsp;</span>Линейная регрессия</a></span></li><li><span><a href=\"#LightGBM\" data-toc-modified-id=\"LightGBM-1.3.2\"><span class=\"toc-item-num\">1.3.2&nbsp;&nbsp;</span>LightGBM</a></span></li><li><span><a href=\"#Тестирование-моделей\" data-toc-modified-id=\"Тестирование-моделей-1.3.3\"><span class=\"toc-item-num\">1.3.3&nbsp;&nbsp;</span>Тестирование моделей</a></span></li></ul></li><li><span><a href=\"#Чек-лист-проверки\" data-toc-modified-id=\"Чек-лист-проверки-1.4\"><span class=\"toc-item-num\">1.4&nbsp;&nbsp;</span>Чек-лист проверки</a></span></li></ul></li></ul></div>"
   ]
  },
  {
   "cell_type": "markdown",
   "id": "7eaec907",
   "metadata": {},
   "source": [
    "# Определение стоимости автомобилей"
   ]
  },
  {
   "cell_type": "markdown",
   "id": "49f0e41e",
   "metadata": {},
   "source": [
    "Сервис по продаже автомобилей с пробегом «Не бит, не крашен» разрабатывает приложение для привлечения новых клиентов. В нём можно быстро узнать рыночную стоимость своего автомобиля. В вашем распоряжении исторические данные: технические характеристики, комплектации и цены автомобилей. Вам нужно построить модель для определения стоимости. \n",
    "\n",
    "Заказчику важны:\n",
    "\n",
    "- качество предсказания;\n",
    "- скорость предсказания;\n",
    "- время обучения."
   ]
  },
  {
   "cell_type": "markdown",
   "id": "e9aaef21",
   "metadata": {},
   "source": [
    "## Подготовка данных"
   ]
  },
  {
   "cell_type": "markdown",
   "id": "00b5c326",
   "metadata": {},
   "source": [
    "### Первичный анализ"
   ]
  },
  {
   "cell_type": "code",
   "execution_count": 41,
   "id": "ed5db437",
   "metadata": {},
   "outputs": [],
   "source": [
    "import pandas as pd\n",
    "import numpy as np\n",
    "import warnings\n",
    "warnings.filterwarnings('ignore')\n",
    "\n",
    "from sklearn.model_selection import train_test_split\n",
    "from sklearn.metrics import mean_squared_error\n",
    "from sklearn.linear_model import LinearRegression\n",
    "from lightgbm import LGBMRegressor\n",
    "\n",
    "import matplotlib.pyplot as plt"
   ]
  },
  {
   "cell_type": "code",
   "execution_count": 42,
   "id": "87c1324b",
   "metadata": {},
   "outputs": [
    {
     "name": "stdout",
     "output_type": "stream",
     "text": [
      "<class 'pandas.core.frame.DataFrame'>\n",
      "RangeIndex: 354369 entries, 0 to 354368\n",
      "Data columns (total 16 columns):\n",
      " #   Column             Non-Null Count   Dtype \n",
      "---  ------             --------------   ----- \n",
      " 0   DateCrawled        354369 non-null  object\n",
      " 1   Price              354369 non-null  int64 \n",
      " 2   VehicleType        316879 non-null  object\n",
      " 3   RegistrationYear   354369 non-null  int64 \n",
      " 4   Gearbox            334536 non-null  object\n",
      " 5   Power              354369 non-null  int64 \n",
      " 6   Model              334664 non-null  object\n",
      " 7   Kilometer          354369 non-null  int64 \n",
      " 8   RegistrationMonth  354369 non-null  int64 \n",
      " 9   FuelType           321474 non-null  object\n",
      " 10  Brand              354369 non-null  object\n",
      " 11  NotRepaired        283215 non-null  object\n",
      " 12  DateCreated        354369 non-null  object\n",
      " 13  NumberOfPictures   354369 non-null  int64 \n",
      " 14  PostalCode         354369 non-null  int64 \n",
      " 15  LastSeen           354369 non-null  object\n",
      "dtypes: int64(7), object(9)\n",
      "memory usage: 43.3+ MB\n",
      "4\n"
     ]
    }
   ],
   "source": [
    "df = pd.read_csv('/datasets/autos.csv')\n",
    "df.info()\n",
    "print(df.duplicated().sum())"
   ]
  },
  {
   "cell_type": "code",
   "execution_count": 43,
   "id": "e292c492",
   "metadata": {
    "scrolled": true
   },
   "outputs": [
    {
     "data": {
      "text/html": [
       "<div>\n",
       "<style scoped>\n",
       "    .dataframe tbody tr th:only-of-type {\n",
       "        vertical-align: middle;\n",
       "    }\n",
       "\n",
       "    .dataframe tbody tr th {\n",
       "        vertical-align: top;\n",
       "    }\n",
       "\n",
       "    .dataframe thead th {\n",
       "        text-align: right;\n",
       "    }\n",
       "</style>\n",
       "<table border=\"1\" class=\"dataframe\">\n",
       "  <thead>\n",
       "    <tr style=\"text-align: right;\">\n",
       "      <th></th>\n",
       "      <th>DateCrawled</th>\n",
       "      <th>Price</th>\n",
       "      <th>VehicleType</th>\n",
       "      <th>RegistrationYear</th>\n",
       "      <th>Gearbox</th>\n",
       "      <th>Power</th>\n",
       "      <th>Model</th>\n",
       "      <th>Kilometer</th>\n",
       "      <th>RegistrationMonth</th>\n",
       "      <th>FuelType</th>\n",
       "      <th>Brand</th>\n",
       "      <th>NotRepaired</th>\n",
       "      <th>DateCreated</th>\n",
       "      <th>NumberOfPictures</th>\n",
       "      <th>PostalCode</th>\n",
       "      <th>LastSeen</th>\n",
       "    </tr>\n",
       "  </thead>\n",
       "  <tbody>\n",
       "    <tr>\n",
       "      <th>0</th>\n",
       "      <td>2016-03-24 11:52:17</td>\n",
       "      <td>480</td>\n",
       "      <td>NaN</td>\n",
       "      <td>1993</td>\n",
       "      <td>manual</td>\n",
       "      <td>0</td>\n",
       "      <td>golf</td>\n",
       "      <td>150000</td>\n",
       "      <td>0</td>\n",
       "      <td>petrol</td>\n",
       "      <td>volkswagen</td>\n",
       "      <td>NaN</td>\n",
       "      <td>2016-03-24 00:00:00</td>\n",
       "      <td>0</td>\n",
       "      <td>70435</td>\n",
       "      <td>2016-04-07 03:16:57</td>\n",
       "    </tr>\n",
       "    <tr>\n",
       "      <th>1</th>\n",
       "      <td>2016-03-24 10:58:45</td>\n",
       "      <td>18300</td>\n",
       "      <td>coupe</td>\n",
       "      <td>2011</td>\n",
       "      <td>manual</td>\n",
       "      <td>190</td>\n",
       "      <td>NaN</td>\n",
       "      <td>125000</td>\n",
       "      <td>5</td>\n",
       "      <td>gasoline</td>\n",
       "      <td>audi</td>\n",
       "      <td>yes</td>\n",
       "      <td>2016-03-24 00:00:00</td>\n",
       "      <td>0</td>\n",
       "      <td>66954</td>\n",
       "      <td>2016-04-07 01:46:50</td>\n",
       "    </tr>\n",
       "    <tr>\n",
       "      <th>2</th>\n",
       "      <td>2016-03-14 12:52:21</td>\n",
       "      <td>9800</td>\n",
       "      <td>suv</td>\n",
       "      <td>2004</td>\n",
       "      <td>auto</td>\n",
       "      <td>163</td>\n",
       "      <td>grand</td>\n",
       "      <td>125000</td>\n",
       "      <td>8</td>\n",
       "      <td>gasoline</td>\n",
       "      <td>jeep</td>\n",
       "      <td>NaN</td>\n",
       "      <td>2016-03-14 00:00:00</td>\n",
       "      <td>0</td>\n",
       "      <td>90480</td>\n",
       "      <td>2016-04-05 12:47:46</td>\n",
       "    </tr>\n",
       "    <tr>\n",
       "      <th>3</th>\n",
       "      <td>2016-03-17 16:54:04</td>\n",
       "      <td>1500</td>\n",
       "      <td>small</td>\n",
       "      <td>2001</td>\n",
       "      <td>manual</td>\n",
       "      <td>75</td>\n",
       "      <td>golf</td>\n",
       "      <td>150000</td>\n",
       "      <td>6</td>\n",
       "      <td>petrol</td>\n",
       "      <td>volkswagen</td>\n",
       "      <td>no</td>\n",
       "      <td>2016-03-17 00:00:00</td>\n",
       "      <td>0</td>\n",
       "      <td>91074</td>\n",
       "      <td>2016-03-17 17:40:17</td>\n",
       "    </tr>\n",
       "    <tr>\n",
       "      <th>4</th>\n",
       "      <td>2016-03-31 17:25:20</td>\n",
       "      <td>3600</td>\n",
       "      <td>small</td>\n",
       "      <td>2008</td>\n",
       "      <td>manual</td>\n",
       "      <td>69</td>\n",
       "      <td>fabia</td>\n",
       "      <td>90000</td>\n",
       "      <td>7</td>\n",
       "      <td>gasoline</td>\n",
       "      <td>skoda</td>\n",
       "      <td>no</td>\n",
       "      <td>2016-03-31 00:00:00</td>\n",
       "      <td>0</td>\n",
       "      <td>60437</td>\n",
       "      <td>2016-04-06 10:17:21</td>\n",
       "    </tr>\n",
       "  </tbody>\n",
       "</table>\n",
       "</div>"
      ],
      "text/plain": [
       "           DateCrawled  Price VehicleType  RegistrationYear Gearbox  Power  \\\n",
       "0  2016-03-24 11:52:17    480         NaN              1993  manual      0   \n",
       "1  2016-03-24 10:58:45  18300       coupe              2011  manual    190   \n",
       "2  2016-03-14 12:52:21   9800         suv              2004    auto    163   \n",
       "3  2016-03-17 16:54:04   1500       small              2001  manual     75   \n",
       "4  2016-03-31 17:25:20   3600       small              2008  manual     69   \n",
       "\n",
       "   Model  Kilometer  RegistrationMonth  FuelType       Brand NotRepaired  \\\n",
       "0   golf     150000                  0    petrol  volkswagen         NaN   \n",
       "1    NaN     125000                  5  gasoline        audi         yes   \n",
       "2  grand     125000                  8  gasoline        jeep         NaN   \n",
       "3   golf     150000                  6    petrol  volkswagen          no   \n",
       "4  fabia      90000                  7  gasoline       skoda          no   \n",
       "\n",
       "           DateCreated  NumberOfPictures  PostalCode             LastSeen  \n",
       "0  2016-03-24 00:00:00                 0       70435  2016-04-07 03:16:57  \n",
       "1  2016-03-24 00:00:00                 0       66954  2016-04-07 01:46:50  \n",
       "2  2016-03-14 00:00:00                 0       90480  2016-04-05 12:47:46  \n",
       "3  2016-03-17 00:00:00                 0       91074  2016-03-17 17:40:17  \n",
       "4  2016-03-31 00:00:00                 0       60437  2016-04-06 10:17:21  "
      ]
     },
     "metadata": {},
     "output_type": "display_data"
    }
   ],
   "source": [
    "display(df.head())"
   ]
  },
  {
   "cell_type": "markdown",
   "id": "c1377315",
   "metadata": {},
   "source": [
    "Прежде чем перейдем к предобработке данных, оставим в датасете только значимые переменные. Предположим, что цена не зависит от:\n",
    "- Даты скачивания анкеты (DateCrawled)\n",
    "- Месяца регистрации (важнее год)\n",
    "- Даты создания анкеты\n",
    "- Почтового индекса (PostalCode)\n",
    "- Даты последней активности пользователя (LastSeen)\n",
    "- Также важно не кол-во фотографий, а их наличие или отсутствие => заменим эту переменную на dummy: 1 - есть фото, 0 - нет."
   ]
  },
  {
   "cell_type": "code",
   "execution_count": 44,
   "id": "09bb410a",
   "metadata": {},
   "outputs": [
    {
     "data": {
      "text/html": [
       "<div>\n",
       "<style scoped>\n",
       "    .dataframe tbody tr th:only-of-type {\n",
       "        vertical-align: middle;\n",
       "    }\n",
       "\n",
       "    .dataframe tbody tr th {\n",
       "        vertical-align: top;\n",
       "    }\n",
       "\n",
       "    .dataframe thead th {\n",
       "        text-align: right;\n",
       "    }\n",
       "</style>\n",
       "<table border=\"1\" class=\"dataframe\">\n",
       "  <thead>\n",
       "    <tr style=\"text-align: right;\">\n",
       "      <th></th>\n",
       "      <th>DateCrawled</th>\n",
       "      <th>Price</th>\n",
       "      <th>VehicleType</th>\n",
       "      <th>RegistrationYear</th>\n",
       "      <th>Gearbox</th>\n",
       "      <th>Power</th>\n",
       "      <th>Model</th>\n",
       "      <th>Kilometer</th>\n",
       "      <th>RegistrationMonth</th>\n",
       "      <th>FuelType</th>\n",
       "      <th>Brand</th>\n",
       "      <th>NotRepaired</th>\n",
       "      <th>DateCreated</th>\n",
       "      <th>NumberOfPictures</th>\n",
       "      <th>PostalCode</th>\n",
       "      <th>LastSeen</th>\n",
       "    </tr>\n",
       "  </thead>\n",
       "  <tbody>\n",
       "  </tbody>\n",
       "</table>\n",
       "</div>"
      ],
      "text/plain": [
       "Empty DataFrame\n",
       "Columns: [DateCrawled, Price, VehicleType, RegistrationYear, Gearbox, Power, Model, Kilometer, RegistrationMonth, FuelType, Brand, NotRepaired, DateCreated, NumberOfPictures, PostalCode, LastSeen]\n",
       "Index: []"
      ]
     },
     "metadata": {},
     "output_type": "display_data"
    }
   ],
   "source": [
    "display(df[df['NumberOfPictures'] > 0])"
   ]
  },
  {
   "cell_type": "markdown",
   "id": "0d80c0be",
   "metadata": {},
   "source": [
    "В датасете нет объявлений с указанным кол-вом фото => эту переменную также следует пропустить."
   ]
  },
  {
   "cell_type": "code",
   "execution_count": 45,
   "id": "8a7a4668",
   "metadata": {},
   "outputs": [],
   "source": [
    "df = df.drop(['DateCrawled', 'RegistrationMonth', 'DateCreated', 'NumberOfPictures', 'PostalCode', 'LastSeen'], axis=1)"
   ]
  },
  {
   "cell_type": "markdown",
   "id": "77b376af",
   "metadata": {},
   "source": [
    "**Вывод**   \n",
    "Убрали лишние переменные, можно приступать к предобработке датасета."
   ]
  },
  {
   "cell_type": "markdown",
   "id": "3e64562f",
   "metadata": {},
   "source": [
    "### Предобработка данных"
   ]
  },
  {
   "cell_type": "code",
   "execution_count": 46,
   "id": "c69c79ed",
   "metadata": {
    "scrolled": false
   },
   "outputs": [
    {
     "name": "stdout",
     "output_type": "stream",
     "text": [
      "<class 'pandas.core.frame.DataFrame'>\n",
      "RangeIndex: 354369 entries, 0 to 354368\n",
      "Data columns (total 10 columns):\n",
      " #   Column            Non-Null Count   Dtype \n",
      "---  ------            --------------   ----- \n",
      " 0   Price             354369 non-null  int64 \n",
      " 1   VehicleType       316879 non-null  object\n",
      " 2   RegistrationYear  354369 non-null  int64 \n",
      " 3   Gearbox           334536 non-null  object\n",
      " 4   Power             354369 non-null  int64 \n",
      " 5   Model             334664 non-null  object\n",
      " 6   Kilometer         354369 non-null  int64 \n",
      " 7   FuelType          321474 non-null  object\n",
      " 8   Brand             354369 non-null  object\n",
      " 9   NotRepaired       283215 non-null  object\n",
      "dtypes: int64(4), object(6)\n",
      "memory usage: 27.0+ MB\n",
      "Дубликатов 45040\n"
     ]
    }
   ],
   "source": [
    "df.info()\n",
    "print('Дубликатов', df.duplicated().sum())"
   ]
  },
  {
   "cell_type": "markdown",
   "id": "28e78ad3",
   "metadata": {},
   "source": [
    "**Вывод**\n",
    "- Датасет содержит 354,369 наблюдений\n",
    "- Переменные VehicleType, Gearbox, Model, FuelType, NotRepaired содержат пропуски\n",
    "- Типы переменных указаны верно\n",
    "- В датасете содержатся 45040 объявлений с идентичными характеристиками. Это могут быть либо одни и те же автомобили (такой информации у нас нет), выложенные в разное время, либо авто с объективной рыночной ценой, обусловленной тех.характеристиками, поэтому эти наблюдения убирать нельзя."
   ]
  },
  {
   "cell_type": "markdown",
   "id": "be00d3ee",
   "metadata": {},
   "source": [
    "#### Работа с пропусками"
   ]
  },
  {
   "cell_type": "markdown",
   "id": "711f9a04",
   "metadata": {},
   "source": [
    "**Алгоритм работы с пропусками**   \n",
    "1. Для восполнения отсутсвующих характеристик образуем поле марки автомобиля BrandName = Brand + Model\n",
    "2. Удалим наблюдения с нулевой ценой.\n",
    "3. Подставим VehicleType, Gearbox, FuelType, исходя из марки автомобиля.\n",
    "4. Пропуски в NotRepaired заменим на \"Unknown\"."
   ]
  },
  {
   "cell_type": "code",
   "execution_count": 47,
   "id": "565aac60",
   "metadata": {
    "scrolled": false
   },
   "outputs": [
    {
     "data": {
      "text/html": [
       "<div>\n",
       "<style scoped>\n",
       "    .dataframe tbody tr th:only-of-type {\n",
       "        vertical-align: middle;\n",
       "    }\n",
       "\n",
       "    .dataframe tbody tr th {\n",
       "        vertical-align: top;\n",
       "    }\n",
       "\n",
       "    .dataframe thead th {\n",
       "        text-align: right;\n",
       "    }\n",
       "</style>\n",
       "<table border=\"1\" class=\"dataframe\">\n",
       "  <thead>\n",
       "    <tr style=\"text-align: right;\">\n",
       "      <th>VehicleType</th>\n",
       "      <th>bus</th>\n",
       "      <th>convertible</th>\n",
       "      <th>coupe</th>\n",
       "      <th>other</th>\n",
       "      <th>sedan</th>\n",
       "      <th>small</th>\n",
       "      <th>suv</th>\n",
       "      <th>wagon</th>\n",
       "      <th>MostCommon</th>\n",
       "    </tr>\n",
       "    <tr>\n",
       "      <th>BrandName</th>\n",
       "      <th></th>\n",
       "      <th></th>\n",
       "      <th></th>\n",
       "      <th></th>\n",
       "      <th></th>\n",
       "      <th></th>\n",
       "      <th></th>\n",
       "      <th></th>\n",
       "      <th></th>\n",
       "    </tr>\n",
       "  </thead>\n",
       "  <tbody>\n",
       "    <tr>\n",
       "      <th>alfa_romeo 145</th>\n",
       "      <td>0.0</td>\n",
       "      <td>0.0</td>\n",
       "      <td>2.0</td>\n",
       "      <td>1.0</td>\n",
       "      <td>12.0</td>\n",
       "      <td>19.0</td>\n",
       "      <td>0.0</td>\n",
       "      <td>0.0</td>\n",
       "      <td>small</td>\n",
       "    </tr>\n",
       "    <tr>\n",
       "      <th>alfa_romeo 147</th>\n",
       "      <td>0.0</td>\n",
       "      <td>0.0</td>\n",
       "      <td>26.0</td>\n",
       "      <td>7.0</td>\n",
       "      <td>358.0</td>\n",
       "      <td>94.0</td>\n",
       "      <td>0.0</td>\n",
       "      <td>2.0</td>\n",
       "      <td>sedan</td>\n",
       "    </tr>\n",
       "    <tr>\n",
       "      <th>alfa_romeo 156</th>\n",
       "      <td>0.0</td>\n",
       "      <td>0.0</td>\n",
       "      <td>3.0</td>\n",
       "      <td>1.0</td>\n",
       "      <td>272.0</td>\n",
       "      <td>2.0</td>\n",
       "      <td>0.0</td>\n",
       "      <td>283.0</td>\n",
       "      <td>wagon</td>\n",
       "    </tr>\n",
       "    <tr>\n",
       "      <th>alfa_romeo 159</th>\n",
       "      <td>0.0</td>\n",
       "      <td>0.0</td>\n",
       "      <td>0.0</td>\n",
       "      <td>0.0</td>\n",
       "      <td>55.0</td>\n",
       "      <td>0.0</td>\n",
       "      <td>0.0</td>\n",
       "      <td>144.0</td>\n",
       "      <td>wagon</td>\n",
       "    </tr>\n",
       "    <tr>\n",
       "      <th>alfa_romeo other</th>\n",
       "      <td>0.0</td>\n",
       "      <td>1.0</td>\n",
       "      <td>178.0</td>\n",
       "      <td>4.0</td>\n",
       "      <td>180.0</td>\n",
       "      <td>114.0</td>\n",
       "      <td>0.0</td>\n",
       "      <td>6.0</td>\n",
       "      <td>sedan</td>\n",
       "    </tr>\n",
       "  </tbody>\n",
       "</table>\n",
       "</div>"
      ],
      "text/plain": [
       "VehicleType       bus  convertible  coupe  other  sedan  small  suv  wagon  \\\n",
       "BrandName                                                                    \n",
       "alfa_romeo 145    0.0          0.0    2.0    1.0   12.0   19.0  0.0    0.0   \n",
       "alfa_romeo 147    0.0          0.0   26.0    7.0  358.0   94.0  0.0    2.0   \n",
       "alfa_romeo 156    0.0          0.0    3.0    1.0  272.0    2.0  0.0  283.0   \n",
       "alfa_romeo 159    0.0          0.0    0.0    0.0   55.0    0.0  0.0  144.0   \n",
       "alfa_romeo other  0.0          1.0  178.0    4.0  180.0  114.0  0.0    6.0   \n",
       "\n",
       "VehicleType      MostCommon  \n",
       "BrandName                    \n",
       "alfa_romeo 145        small  \n",
       "alfa_romeo 147        sedan  \n",
       "alfa_romeo 156        wagon  \n",
       "alfa_romeo 159        wagon  \n",
       "alfa_romeo other      sedan  "
      ]
     },
     "metadata": {},
     "output_type": "display_data"
    },
    {
     "data": {
      "text/html": [
       "<div>\n",
       "<style scoped>\n",
       "    .dataframe tbody tr th:only-of-type {\n",
       "        vertical-align: middle;\n",
       "    }\n",
       "\n",
       "    .dataframe tbody tr th {\n",
       "        vertical-align: top;\n",
       "    }\n",
       "\n",
       "    .dataframe thead th {\n",
       "        text-align: right;\n",
       "    }\n",
       "</style>\n",
       "<table border=\"1\" class=\"dataframe\">\n",
       "  <thead>\n",
       "    <tr style=\"text-align: right;\">\n",
       "      <th>Gearbox</th>\n",
       "      <th>auto</th>\n",
       "      <th>manual</th>\n",
       "      <th>MostCommon</th>\n",
       "    </tr>\n",
       "    <tr>\n",
       "      <th>BrandName</th>\n",
       "      <th></th>\n",
       "      <th></th>\n",
       "      <th></th>\n",
       "    </tr>\n",
       "  </thead>\n",
       "  <tbody>\n",
       "    <tr>\n",
       "      <th>alfa_romeo 145</th>\n",
       "      <td>0.0</td>\n",
       "      <td>39.0</td>\n",
       "      <td>manual</td>\n",
       "    </tr>\n",
       "    <tr>\n",
       "      <th>alfa_romeo 147</th>\n",
       "      <td>27.0</td>\n",
       "      <td>516.0</td>\n",
       "      <td>manual</td>\n",
       "    </tr>\n",
       "    <tr>\n",
       "      <th>alfa_romeo 156</th>\n",
       "      <td>43.0</td>\n",
       "      <td>537.0</td>\n",
       "      <td>manual</td>\n",
       "    </tr>\n",
       "    <tr>\n",
       "      <th>alfa_romeo 159</th>\n",
       "      <td>26.0</td>\n",
       "      <td>182.0</td>\n",
       "      <td>manual</td>\n",
       "    </tr>\n",
       "    <tr>\n",
       "      <th>alfa_romeo other</th>\n",
       "      <td>30.0</td>\n",
       "      <td>451.0</td>\n",
       "      <td>manual</td>\n",
       "    </tr>\n",
       "  </tbody>\n",
       "</table>\n",
       "</div>"
      ],
      "text/plain": [
       "Gearbox           auto  manual MostCommon\n",
       "BrandName                                \n",
       "alfa_romeo 145     0.0    39.0     manual\n",
       "alfa_romeo 147    27.0   516.0     manual\n",
       "alfa_romeo 156    43.0   537.0     manual\n",
       "alfa_romeo 159    26.0   182.0     manual\n",
       "alfa_romeo other  30.0   451.0     manual"
      ]
     },
     "metadata": {},
     "output_type": "display_data"
    },
    {
     "data": {
      "text/html": [
       "<div>\n",
       "<style scoped>\n",
       "    .dataframe tbody tr th:only-of-type {\n",
       "        vertical-align: middle;\n",
       "    }\n",
       "\n",
       "    .dataframe tbody tr th {\n",
       "        vertical-align: top;\n",
       "    }\n",
       "\n",
       "    .dataframe thead th {\n",
       "        text-align: right;\n",
       "    }\n",
       "</style>\n",
       "<table border=\"1\" class=\"dataframe\">\n",
       "  <thead>\n",
       "    <tr style=\"text-align: right;\">\n",
       "      <th>FuelType</th>\n",
       "      <th>cng</th>\n",
       "      <th>electric</th>\n",
       "      <th>gasoline</th>\n",
       "      <th>hybrid</th>\n",
       "      <th>lpg</th>\n",
       "      <th>other</th>\n",
       "      <th>petrol</th>\n",
       "      <th>MostCommon</th>\n",
       "    </tr>\n",
       "    <tr>\n",
       "      <th>BrandName</th>\n",
       "      <th></th>\n",
       "      <th></th>\n",
       "      <th></th>\n",
       "      <th></th>\n",
       "      <th></th>\n",
       "      <th></th>\n",
       "      <th></th>\n",
       "      <th></th>\n",
       "    </tr>\n",
       "  </thead>\n",
       "  <tbody>\n",
       "    <tr>\n",
       "      <th>alfa_romeo 145</th>\n",
       "      <td>0.0</td>\n",
       "      <td>0.0</td>\n",
       "      <td>0.0</td>\n",
       "      <td>0.0</td>\n",
       "      <td>0.0</td>\n",
       "      <td>0.0</td>\n",
       "      <td>41.0</td>\n",
       "      <td>petrol</td>\n",
       "    </tr>\n",
       "    <tr>\n",
       "      <th>alfa_romeo 147</th>\n",
       "      <td>0.0</td>\n",
       "      <td>0.0</td>\n",
       "      <td>132.0</td>\n",
       "      <td>0.0</td>\n",
       "      <td>18.0</td>\n",
       "      <td>0.0</td>\n",
       "      <td>385.0</td>\n",
       "      <td>petrol</td>\n",
       "    </tr>\n",
       "    <tr>\n",
       "      <th>alfa_romeo 156</th>\n",
       "      <td>0.0</td>\n",
       "      <td>0.0</td>\n",
       "      <td>184.0</td>\n",
       "      <td>0.0</td>\n",
       "      <td>15.0</td>\n",
       "      <td>0.0</td>\n",
       "      <td>352.0</td>\n",
       "      <td>petrol</td>\n",
       "    </tr>\n",
       "    <tr>\n",
       "      <th>alfa_romeo 159</th>\n",
       "      <td>0.0</td>\n",
       "      <td>0.0</td>\n",
       "      <td>139.0</td>\n",
       "      <td>0.0</td>\n",
       "      <td>0.0</td>\n",
       "      <td>0.0</td>\n",
       "      <td>58.0</td>\n",
       "      <td>gasoline</td>\n",
       "    </tr>\n",
       "    <tr>\n",
       "      <th>alfa_romeo other</th>\n",
       "      <td>0.0</td>\n",
       "      <td>0.0</td>\n",
       "      <td>116.0</td>\n",
       "      <td>0.0</td>\n",
       "      <td>1.0</td>\n",
       "      <td>0.0</td>\n",
       "      <td>362.0</td>\n",
       "      <td>petrol</td>\n",
       "    </tr>\n",
       "  </tbody>\n",
       "</table>\n",
       "</div>"
      ],
      "text/plain": [
       "FuelType          cng  electric  gasoline  hybrid   lpg  other  petrol  \\\n",
       "BrandName                                                                \n",
       "alfa_romeo 145    0.0       0.0       0.0     0.0   0.0    0.0    41.0   \n",
       "alfa_romeo 147    0.0       0.0     132.0     0.0  18.0    0.0   385.0   \n",
       "alfa_romeo 156    0.0       0.0     184.0     0.0  15.0    0.0   352.0   \n",
       "alfa_romeo 159    0.0       0.0     139.0     0.0   0.0    0.0    58.0   \n",
       "alfa_romeo other  0.0       0.0     116.0     0.0   1.0    0.0   362.0   \n",
       "\n",
       "FuelType         MostCommon  \n",
       "BrandName                    \n",
       "alfa_romeo 145       petrol  \n",
       "alfa_romeo 147       petrol  \n",
       "alfa_romeo 156       petrol  \n",
       "alfa_romeo 159     gasoline  \n",
       "alfa_romeo other     petrol  "
      ]
     },
     "metadata": {},
     "output_type": "display_data"
    }
   ],
   "source": [
    "#создадим поле марки авто и уберем объявления с нулевой ценой\n",
    "df['BrandName'] = df['Brand'] + ' ' + df['Model']\n",
    "df = df[df['Price'] > 0].reset_index(drop=True)\n",
    "\n",
    "#для каждого из трех параметров определим наиболее популярную хар-ку, исходя из марки\n",
    "lst = ['VehicleType', 'Gearbox', 'FuelType']\n",
    "for element in lst:\n",
    "    df_pivot_model = df.pivot_table(index='BrandName', columns=element, \n",
    "                             values='RegistrationYear', aggfunc='count')\n",
    "    df_pivot_model = df_pivot_model.fillna(0)\n",
    "    df_pivot_model['MostCommon'] = \"\"\n",
    "\n",
    "    for i in range(df_pivot_model.shape[0]):\n",
    "        maxi = 0\n",
    "        for j in range(1, df_pivot_model.shape[1] - 1):\n",
    "            if df_pivot_model.iat[i, j] > maxi:\n",
    "                maxi = df_pivot_model.iat[i, j]\n",
    "                maxi_type = df_pivot_model.columns.values[j]\n",
    "        df_pivot_model.iat[i, df_pivot_model.shape[1]-1] = maxi_type\n",
    "    \n",
    "    display(df_pivot_model.head())\n",
    "\n",
    "    for i in range(len(df)):\n",
    "        if df.at[i, element] != df.at[i, element]:\n",
    "            brand = df.at[i, 'BrandName']\n",
    "            try: \n",
    "                df.at[i, element] = df_pivot_model.at[brand, 'MostCommon']\n",
    "            except:\n",
    "                pass\n",
    "\n",
    "#заменим пропуски в NotRepaired на \"Unknown\"\n",
    "df['NotRepaired'] = df['NotRepaired'].fillna('unknown')"
   ]
  },
  {
   "cell_type": "markdown",
   "id": "7cc20f37",
   "metadata": {},
   "source": [
    "Также можно предположить, что цена автомобиля обусловлена не конкретной моделью, а брендом и тех. характеристиками => поля Model и BrandName можно удалить."
   ]
  },
  {
   "cell_type": "code",
   "execution_count": 48,
   "id": "48b2cedb",
   "metadata": {
    "scrolled": true
   },
   "outputs": [
    {
     "name": "stdout",
     "output_type": "stream",
     "text": [
      "<class 'pandas.core.frame.DataFrame'>\n",
      "RangeIndex: 343597 entries, 0 to 343596\n",
      "Data columns (total 9 columns):\n",
      " #   Column            Non-Null Count   Dtype \n",
      "---  ------            --------------   ----- \n",
      " 0   Price             343597 non-null  int64 \n",
      " 1   VehicleType       338013 non-null  object\n",
      " 2   RegistrationYear  343597 non-null  int64 \n",
      " 3   Gearbox           340512 non-null  object\n",
      " 4   Power             343597 non-null  int64 \n",
      " 5   Kilometer         343597 non-null  int64 \n",
      " 6   FuelType          337689 non-null  object\n",
      " 7   Brand             343597 non-null  object\n",
      " 8   NotRepaired       343597 non-null  object\n",
      "dtypes: int64(4), object(5)\n",
      "memory usage: 23.6+ MB\n"
     ]
    }
   ],
   "source": [
    "df = df.drop(['Model', 'BrandName'], axis=1)\n",
    "df.info()"
   ]
  },
  {
   "cell_type": "markdown",
   "id": "1e50118a",
   "metadata": {},
   "source": [
    "Наибольшее число пропусков лежит в поле FuelType (~6K или 1.7%) всех наблюдений => от этих данных можно смело отказаться."
   ]
  },
  {
   "cell_type": "code",
   "execution_count": 49,
   "id": "aac70a6c",
   "metadata": {},
   "outputs": [
    {
     "name": "stdout",
     "output_type": "stream",
     "text": [
      "<class 'pandas.core.frame.DataFrame'>\n",
      "RangeIndex: 334953 entries, 0 to 334952\n",
      "Data columns (total 9 columns):\n",
      " #   Column            Non-Null Count   Dtype \n",
      "---  ------            --------------   ----- \n",
      " 0   Price             334953 non-null  int64 \n",
      " 1   VehicleType       334953 non-null  object\n",
      " 2   RegistrationYear  334953 non-null  int64 \n",
      " 3   Gearbox           334953 non-null  object\n",
      " 4   Power             334953 non-null  int64 \n",
      " 5   Kilometer         334953 non-null  int64 \n",
      " 6   FuelType          334953 non-null  object\n",
      " 7   Brand             334953 non-null  object\n",
      " 8   NotRepaired       334953 non-null  object\n",
      "dtypes: int64(4), object(5)\n",
      "memory usage: 23.0+ MB\n"
     ]
    }
   ],
   "source": [
    "df = df.dropna().reset_index(drop=True)\n",
    "df.info()"
   ]
  },
  {
   "cell_type": "markdown",
   "id": "61bf4c03",
   "metadata": {},
   "source": [
    "**Вывод**   \n",
    "Путем подбора параметров через марку автомобиля и замены пропусков в поле NotRepaired удалось сохранить 95% выборки."
   ]
  },
  {
   "cell_type": "markdown",
   "id": "748a56e7",
   "metadata": {},
   "source": [
    "#### Анализ выбросов"
   ]
  },
  {
   "cell_type": "markdown",
   "id": "a4bf107c",
   "metadata": {},
   "source": [
    "Итак, в датасете осталось 9 параметров: 4 числовых и 5 категориальных. Проанализируем распределения каждого из них и избавимся от выбросов (если они присутствуют)."
   ]
  },
  {
   "cell_type": "code",
   "execution_count": 50,
   "id": "ac58dd28",
   "metadata": {},
   "outputs": [
    {
     "data": {
      "text/html": [
       "<div>\n",
       "<style scoped>\n",
       "    .dataframe tbody tr th:only-of-type {\n",
       "        vertical-align: middle;\n",
       "    }\n",
       "\n",
       "    .dataframe tbody tr th {\n",
       "        vertical-align: top;\n",
       "    }\n",
       "\n",
       "    .dataframe thead th {\n",
       "        text-align: right;\n",
       "    }\n",
       "</style>\n",
       "<table border=\"1\" class=\"dataframe\">\n",
       "  <thead>\n",
       "    <tr style=\"text-align: right;\">\n",
       "      <th></th>\n",
       "      <th>Price</th>\n",
       "      <th>RegistrationYear</th>\n",
       "      <th>Power</th>\n",
       "      <th>Kilometer</th>\n",
       "    </tr>\n",
       "  </thead>\n",
       "  <tbody>\n",
       "    <tr>\n",
       "      <th>count</th>\n",
       "      <td>334953.000000</td>\n",
       "      <td>334953.000000</td>\n",
       "      <td>334953.000000</td>\n",
       "      <td>334953.000000</td>\n",
       "    </tr>\n",
       "    <tr>\n",
       "      <th>mean</th>\n",
       "      <td>4606.021705</td>\n",
       "      <td>2003.808630</td>\n",
       "      <td>112.062167</td>\n",
       "      <td>128500.580678</td>\n",
       "    </tr>\n",
       "    <tr>\n",
       "      <th>std</th>\n",
       "      <td>4529.112872</td>\n",
       "      <td>65.890261</td>\n",
       "      <td>188.449332</td>\n",
       "      <td>37156.672482</td>\n",
       "    </tr>\n",
       "    <tr>\n",
       "      <th>min</th>\n",
       "      <td>1.000000</td>\n",
       "      <td>1000.000000</td>\n",
       "      <td>0.000000</td>\n",
       "      <td>5000.000000</td>\n",
       "    </tr>\n",
       "    <tr>\n",
       "      <th>25%</th>\n",
       "      <td>1200.000000</td>\n",
       "      <td>1999.000000</td>\n",
       "      <td>71.000000</td>\n",
       "      <td>125000.000000</td>\n",
       "    </tr>\n",
       "    <tr>\n",
       "      <th>50%</th>\n",
       "      <td>2900.000000</td>\n",
       "      <td>2003.000000</td>\n",
       "      <td>105.000000</td>\n",
       "      <td>150000.000000</td>\n",
       "    </tr>\n",
       "    <tr>\n",
       "      <th>75%</th>\n",
       "      <td>6599.000000</td>\n",
       "      <td>2008.000000</td>\n",
       "      <td>143.000000</td>\n",
       "      <td>150000.000000</td>\n",
       "    </tr>\n",
       "    <tr>\n",
       "      <th>max</th>\n",
       "      <td>20000.000000</td>\n",
       "      <td>9999.000000</td>\n",
       "      <td>20000.000000</td>\n",
       "      <td>150000.000000</td>\n",
       "    </tr>\n",
       "  </tbody>\n",
       "</table>\n",
       "</div>"
      ],
      "text/plain": [
       "               Price  RegistrationYear          Power      Kilometer\n",
       "count  334953.000000     334953.000000  334953.000000  334953.000000\n",
       "mean     4606.021705       2003.808630     112.062167  128500.580678\n",
       "std      4529.112872         65.890261     188.449332   37156.672482\n",
       "min         1.000000       1000.000000       0.000000    5000.000000\n",
       "25%      1200.000000       1999.000000      71.000000  125000.000000\n",
       "50%      2900.000000       2003.000000     105.000000  150000.000000\n",
       "75%      6599.000000       2008.000000     143.000000  150000.000000\n",
       "max     20000.000000       9999.000000   20000.000000  150000.000000"
      ]
     },
     "execution_count": 50,
     "metadata": {},
     "output_type": "execute_result"
    }
   ],
   "source": [
    "numeric = ['Price', 'RegistrationYear', 'Power', 'Kilometer']\n",
    "df[numeric].describe()"
   ]
  },
  {
   "cell_type": "markdown",
   "id": "2d20038e",
   "metadata": {},
   "source": [
    "**Вывод**   \n",
    "Есть ряд подозрительных наблюдений:\n",
    "1. авто стоимостью меньше 100 euro\n",
    "2. авто с регистрацией ранее 1950 и позже 2020\n",
    "3. авто с мощностью меньше 30 и более 300\n",
    "4. также интересно, что большинство авто представлены с очень большим пробегом (120,000 +)   \n",
    "   \n",
    "Избавимся от подозрительных значений и построим распределения параметров."
   ]
  },
  {
   "cell_type": "code",
   "execution_count": 51,
   "id": "d705e8ba",
   "metadata": {
    "scrolled": true
   },
   "outputs": [
    {
     "name": "stdout",
     "output_type": "stream",
     "text": [
      "Подозрительная цена: 3060\n",
      "Подозрительный год: 192\n",
      "Подозрительная мощность: 36719\n"
     ]
    }
   ],
   "source": [
    "print('Подозрительная цена:', df.query('Price <= 100')['Price'].count())\n",
    "print('Подозрительный год:', df.query('RegistrationYear <= 1950 | RegistrationYear > 2020')['Price'].count())\n",
    "print('Подозрительная мощность:', df.query('Power < 30 | Power > 300')['Price'].count())"
   ]
  },
  {
   "cell_type": "markdown",
   "id": "f81bfcc0",
   "metadata": {},
   "source": [
    "Поскольку данные характеристики являются ключевыми для ценообразования, придется эти выбросы (скорее всего, незаполненные данные) удалить."
   ]
  },
  {
   "cell_type": "code",
   "execution_count": 52,
   "id": "b957073c",
   "metadata": {},
   "outputs": [
    {
     "name": "stdout",
     "output_type": "stream",
     "text": [
      "<class 'pandas.core.frame.DataFrame'>\n",
      "Int64Index: 296465 entries, 1 to 334952\n",
      "Data columns (total 9 columns):\n",
      " #   Column            Non-Null Count   Dtype \n",
      "---  ------            --------------   ----- \n",
      " 0   Price             296465 non-null  int64 \n",
      " 1   VehicleType       296465 non-null  object\n",
      " 2   RegistrationYear  296465 non-null  int64 \n",
      " 3   Gearbox           296465 non-null  object\n",
      " 4   Power             296465 non-null  int64 \n",
      " 5   Kilometer         296465 non-null  int64 \n",
      " 6   FuelType          296465 non-null  object\n",
      " 7   Brand             296465 non-null  object\n",
      " 8   NotRepaired       296465 non-null  object\n",
      "dtypes: int64(4), object(5)\n",
      "memory usage: 22.6+ MB\n"
     ]
    }
   ],
   "source": [
    "df = df.query('Price > 100 & RegistrationYear > 1950 & RegistrationYear <= 2020 & Power >= 30 & Power <= 300')\n",
    "df.info()"
   ]
  },
  {
   "cell_type": "code",
   "execution_count": 53,
   "id": "c5bbc4de",
   "metadata": {},
   "outputs": [
    {
     "data": {
      "image/png": "[encoded data removed]",
      "text/plain": [
       "<Figure size 1080x720 with 4 Axes>"
      ]
     },
     "metadata": {
      "needs_background": "light"
     },
     "output_type": "display_data"
    }
   ],
   "source": [
    "fig = plt.figure(figsize=(15, 10))\n",
    "for i in range(len(numeric)):\n",
    "    i = i+1\n",
    "    plt.subplot(2, 2, i)\n",
    "    plt.hist(df[numeric[i-1]], bins = 20)\n",
    "    plt.title(numeric[i-1])\n",
    "    plt.xlim(min(df[numeric[i-1]]), max(df[numeric[i-1]]))"
   ]
  },
  {
   "cell_type": "markdown",
   "id": "67b10198",
   "metadata": {},
   "source": [
    "Далее взглянем на категориальные переменные."
   ]
  },
  {
   "cell_type": "code",
   "execution_count": 54,
   "id": "635cdf6a",
   "metadata": {
    "scrolled": true
   },
   "outputs": [
    {
     "data": {
      "text/html": [
       "<div>\n",
       "<style scoped>\n",
       "    .dataframe tbody tr th:only-of-type {\n",
       "        vertical-align: middle;\n",
       "    }\n",
       "\n",
       "    .dataframe tbody tr th {\n",
       "        vertical-align: top;\n",
       "    }\n",
       "\n",
       "    .dataframe thead th {\n",
       "        text-align: right;\n",
       "    }\n",
       "</style>\n",
       "<table border=\"1\" class=\"dataframe\">\n",
       "  <thead>\n",
       "    <tr style=\"text-align: right;\">\n",
       "      <th></th>\n",
       "      <th>Price</th>\n",
       "    </tr>\n",
       "    <tr>\n",
       "      <th>VehicleType</th>\n",
       "      <th></th>\n",
       "    </tr>\n",
       "  </thead>\n",
       "  <tbody>\n",
       "    <tr>\n",
       "      <th>sedan</th>\n",
       "      <td>88875</td>\n",
       "    </tr>\n",
       "    <tr>\n",
       "      <th>small</th>\n",
       "      <td>73958</td>\n",
       "    </tr>\n",
       "    <tr>\n",
       "      <th>wagon</th>\n",
       "      <td>61717</td>\n",
       "    </tr>\n",
       "    <tr>\n",
       "      <th>bus</th>\n",
       "      <td>26028</td>\n",
       "    </tr>\n",
       "    <tr>\n",
       "      <th>convertible</th>\n",
       "      <td>18445</td>\n",
       "    </tr>\n",
       "    <tr>\n",
       "      <th>coupe</th>\n",
       "      <td>14141</td>\n",
       "    </tr>\n",
       "    <tr>\n",
       "      <th>suv</th>\n",
       "      <td>10772</td>\n",
       "    </tr>\n",
       "    <tr>\n",
       "      <th>other</th>\n",
       "      <td>2529</td>\n",
       "    </tr>\n",
       "  </tbody>\n",
       "</table>\n",
       "</div>"
      ],
      "text/plain": [
       "             Price\n",
       "VehicleType       \n",
       "sedan        88875\n",
       "small        73958\n",
       "wagon        61717\n",
       "bus          26028\n",
       "convertible  18445\n",
       "coupe        14141\n",
       "suv          10772\n",
       "other         2529"
      ]
     },
     "metadata": {},
     "output_type": "display_data"
    },
    {
     "data": {
      "text/html": [
       "<div>\n",
       "<style scoped>\n",
       "    .dataframe tbody tr th:only-of-type {\n",
       "        vertical-align: middle;\n",
       "    }\n",
       "\n",
       "    .dataframe tbody tr th {\n",
       "        vertical-align: top;\n",
       "    }\n",
       "\n",
       "    .dataframe thead th {\n",
       "        text-align: right;\n",
       "    }\n",
       "</style>\n",
       "<table border=\"1\" class=\"dataframe\">\n",
       "  <thead>\n",
       "    <tr style=\"text-align: right;\">\n",
       "      <th></th>\n",
       "      <th>Price</th>\n",
       "    </tr>\n",
       "    <tr>\n",
       "      <th>Gearbox</th>\n",
       "      <th></th>\n",
       "    </tr>\n",
       "  </thead>\n",
       "  <tbody>\n",
       "    <tr>\n",
       "      <th>manual</th>\n",
       "      <td>239570</td>\n",
       "    </tr>\n",
       "    <tr>\n",
       "      <th>auto</th>\n",
       "      <td>56895</td>\n",
       "    </tr>\n",
       "  </tbody>\n",
       "</table>\n",
       "</div>"
      ],
      "text/plain": [
       "          Price\n",
       "Gearbox        \n",
       "manual   239570\n",
       "auto      56895"
      ]
     },
     "metadata": {},
     "output_type": "display_data"
    },
    {
     "data": {
      "text/html": [
       "<div>\n",
       "<style scoped>\n",
       "    .dataframe tbody tr th:only-of-type {\n",
       "        vertical-align: middle;\n",
       "    }\n",
       "\n",
       "    .dataframe tbody tr th {\n",
       "        vertical-align: top;\n",
       "    }\n",
       "\n",
       "    .dataframe thead th {\n",
       "        text-align: right;\n",
       "    }\n",
       "</style>\n",
       "<table border=\"1\" class=\"dataframe\">\n",
       "  <thead>\n",
       "    <tr style=\"text-align: right;\">\n",
       "      <th></th>\n",
       "      <th>Price</th>\n",
       "    </tr>\n",
       "    <tr>\n",
       "      <th>FuelType</th>\n",
       "      <th></th>\n",
       "    </tr>\n",
       "  </thead>\n",
       "  <tbody>\n",
       "    <tr>\n",
       "      <th>petrol</th>\n",
       "      <td>199471</td>\n",
       "    </tr>\n",
       "    <tr>\n",
       "      <th>gasoline</th>\n",
       "      <td>91738</td>\n",
       "    </tr>\n",
       "    <tr>\n",
       "      <th>lpg</th>\n",
       "      <td>4471</td>\n",
       "    </tr>\n",
       "    <tr>\n",
       "      <th>cng</th>\n",
       "      <td>491</td>\n",
       "    </tr>\n",
       "    <tr>\n",
       "      <th>hybrid</th>\n",
       "      <td>202</td>\n",
       "    </tr>\n",
       "    <tr>\n",
       "      <th>other</th>\n",
       "      <td>55</td>\n",
       "    </tr>\n",
       "    <tr>\n",
       "      <th>electric</th>\n",
       "      <td>37</td>\n",
       "    </tr>\n",
       "  </tbody>\n",
       "</table>\n",
       "</div>"
      ],
      "text/plain": [
       "           Price\n",
       "FuelType        \n",
       "petrol    199471\n",
       "gasoline   91738\n",
       "lpg         4471\n",
       "cng          491\n",
       "hybrid       202\n",
       "other         55\n",
       "electric      37"
      ]
     },
     "metadata": {},
     "output_type": "display_data"
    },
    {
     "data": {
      "text/html": [
       "<div>\n",
       "<style scoped>\n",
       "    .dataframe tbody tr th:only-of-type {\n",
       "        vertical-align: middle;\n",
       "    }\n",
       "\n",
       "    .dataframe tbody tr th {\n",
       "        vertical-align: top;\n",
       "    }\n",
       "\n",
       "    .dataframe thead th {\n",
       "        text-align: right;\n",
       "    }\n",
       "</style>\n",
       "<table border=\"1\" class=\"dataframe\">\n",
       "  <thead>\n",
       "    <tr style=\"text-align: right;\">\n",
       "      <th></th>\n",
       "      <th>Price</th>\n",
       "    </tr>\n",
       "    <tr>\n",
       "      <th>Brand</th>\n",
       "      <th></th>\n",
       "    </tr>\n",
       "  </thead>\n",
       "  <tbody>\n",
       "    <tr>\n",
       "      <th>volkswagen</th>\n",
       "      <td>65307</td>\n",
       "    </tr>\n",
       "    <tr>\n",
       "      <th>opel</th>\n",
       "      <td>32979</td>\n",
       "    </tr>\n",
       "    <tr>\n",
       "      <th>bmw</th>\n",
       "      <td>31661</td>\n",
       "    </tr>\n",
       "    <tr>\n",
       "      <th>mercedes_benz</th>\n",
       "      <td>26753</td>\n",
       "    </tr>\n",
       "    <tr>\n",
       "      <th>audi</th>\n",
       "      <td>25354</td>\n",
       "    </tr>\n",
       "    <tr>\n",
       "      <th>ford</th>\n",
       "      <td>20870</td>\n",
       "    </tr>\n",
       "    <tr>\n",
       "      <th>renault</th>\n",
       "      <td>14232</td>\n",
       "    </tr>\n",
       "    <tr>\n",
       "      <th>peugeot</th>\n",
       "      <td>9355</td>\n",
       "    </tr>\n",
       "    <tr>\n",
       "      <th>fiat</th>\n",
       "      <td>7641</td>\n",
       "    </tr>\n",
       "    <tr>\n",
       "      <th>seat</th>\n",
       "      <td>6019</td>\n",
       "    </tr>\n",
       "    <tr>\n",
       "      <th>skoda</th>\n",
       "      <td>5008</td>\n",
       "    </tr>\n",
       "    <tr>\n",
       "      <th>mazda</th>\n",
       "      <td>4761</td>\n",
       "    </tr>\n",
       "    <tr>\n",
       "      <th>smart</th>\n",
       "      <td>4536</td>\n",
       "    </tr>\n",
       "    <tr>\n",
       "      <th>citroen</th>\n",
       "      <td>4254</td>\n",
       "    </tr>\n",
       "    <tr>\n",
       "      <th>nissan</th>\n",
       "      <td>4074</td>\n",
       "    </tr>\n",
       "    <tr>\n",
       "      <th>toyota</th>\n",
       "      <td>4070</td>\n",
       "    </tr>\n",
       "    <tr>\n",
       "      <th>hyundai</th>\n",
       "      <td>3111</td>\n",
       "    </tr>\n",
       "    <tr>\n",
       "      <th>mini</th>\n",
       "      <td>3029</td>\n",
       "    </tr>\n",
       "    <tr>\n",
       "      <th>volvo</th>\n",
       "      <td>2819</td>\n",
       "    </tr>\n",
       "    <tr>\n",
       "      <th>mitsubishi</th>\n",
       "      <td>2503</td>\n",
       "    </tr>\n",
       "    <tr>\n",
       "      <th>honda</th>\n",
       "      <td>2412</td>\n",
       "    </tr>\n",
       "    <tr>\n",
       "      <th>kia</th>\n",
       "      <td>2117</td>\n",
       "    </tr>\n",
       "    <tr>\n",
       "      <th>alfa_romeo</th>\n",
       "      <td>1977</td>\n",
       "    </tr>\n",
       "    <tr>\n",
       "      <th>suzuki</th>\n",
       "      <td>1964</td>\n",
       "    </tr>\n",
       "    <tr>\n",
       "      <th>chevrolet</th>\n",
       "      <td>1444</td>\n",
       "    </tr>\n",
       "    <tr>\n",
       "      <th>sonstige_autos</th>\n",
       "      <td>1316</td>\n",
       "    </tr>\n",
       "    <tr>\n",
       "      <th>chrysler</th>\n",
       "      <td>1137</td>\n",
       "    </tr>\n",
       "    <tr>\n",
       "      <th>dacia</th>\n",
       "      <td>816</td>\n",
       "    </tr>\n",
       "    <tr>\n",
       "      <th>subaru</th>\n",
       "      <td>630</td>\n",
       "    </tr>\n",
       "    <tr>\n",
       "      <th>daihatsu</th>\n",
       "      <td>617</td>\n",
       "    </tr>\n",
       "    <tr>\n",
       "      <th>jeep</th>\n",
       "      <td>571</td>\n",
       "    </tr>\n",
       "    <tr>\n",
       "      <th>saab</th>\n",
       "      <td>478</td>\n",
       "    </tr>\n",
       "    <tr>\n",
       "      <th>land_rover</th>\n",
       "      <td>465</td>\n",
       "    </tr>\n",
       "    <tr>\n",
       "      <th>porsche</th>\n",
       "      <td>453</td>\n",
       "    </tr>\n",
       "    <tr>\n",
       "      <th>daewoo</th>\n",
       "      <td>412</td>\n",
       "    </tr>\n",
       "    <tr>\n",
       "      <th>jaguar</th>\n",
       "      <td>403</td>\n",
       "    </tr>\n",
       "    <tr>\n",
       "      <th>lancia</th>\n",
       "      <td>384</td>\n",
       "    </tr>\n",
       "    <tr>\n",
       "      <th>rover</th>\n",
       "      <td>355</td>\n",
       "    </tr>\n",
       "    <tr>\n",
       "      <th>lada</th>\n",
       "      <td>156</td>\n",
       "    </tr>\n",
       "    <tr>\n",
       "      <th>trabant</th>\n",
       "      <td>22</td>\n",
       "    </tr>\n",
       "  </tbody>\n",
       "</table>\n",
       "</div>"
      ],
      "text/plain": [
       "                Price\n",
       "Brand                \n",
       "volkswagen      65307\n",
       "opel            32979\n",
       "bmw             31661\n",
       "mercedes_benz   26753\n",
       "audi            25354\n",
       "ford            20870\n",
       "renault         14232\n",
       "peugeot          9355\n",
       "fiat             7641\n",
       "seat             6019\n",
       "skoda            5008\n",
       "mazda            4761\n",
       "smart            4536\n",
       "citroen          4254\n",
       "nissan           4074\n",
       "toyota           4070\n",
       "hyundai          3111\n",
       "mini             3029\n",
       "volvo            2819\n",
       "mitsubishi       2503\n",
       "honda            2412\n",
       "kia              2117\n",
       "alfa_romeo       1977\n",
       "suzuki           1964\n",
       "chevrolet        1444\n",
       "sonstige_autos   1316\n",
       "chrysler         1137\n",
       "dacia             816\n",
       "subaru            630\n",
       "daihatsu          617\n",
       "jeep              571\n",
       "saab              478\n",
       "land_rover        465\n",
       "porsche           453\n",
       "daewoo            412\n",
       "jaguar            403\n",
       "lancia            384\n",
       "rover             355\n",
       "lada              156\n",
       "trabant            22"
      ]
     },
     "metadata": {},
     "output_type": "display_data"
    },
    {
     "data": {
      "text/html": [
       "<div>\n",
       "<style scoped>\n",
       "    .dataframe tbody tr th:only-of-type {\n",
       "        vertical-align: middle;\n",
       "    }\n",
       "\n",
       "    .dataframe tbody tr th {\n",
       "        vertical-align: top;\n",
       "    }\n",
       "\n",
       "    .dataframe thead th {\n",
       "        text-align: right;\n",
       "    }\n",
       "</style>\n",
       "<table border=\"1\" class=\"dataframe\">\n",
       "  <thead>\n",
       "    <tr style=\"text-align: right;\">\n",
       "      <th></th>\n",
       "      <th>Price</th>\n",
       "    </tr>\n",
       "    <tr>\n",
       "      <th>NotRepaired</th>\n",
       "      <th></th>\n",
       "    </tr>\n",
       "  </thead>\n",
       "  <tbody>\n",
       "    <tr>\n",
       "      <th>no</th>\n",
       "      <td>224602</td>\n",
       "    </tr>\n",
       "    <tr>\n",
       "      <th>unknown</th>\n",
       "      <td>43695</td>\n",
       "    </tr>\n",
       "    <tr>\n",
       "      <th>yes</th>\n",
       "      <td>28168</td>\n",
       "    </tr>\n",
       "  </tbody>\n",
       "</table>\n",
       "</div>"
      ],
      "text/plain": [
       "              Price\n",
       "NotRepaired        \n",
       "no           224602\n",
       "unknown       43695\n",
       "yes           28168"
      ]
     },
     "metadata": {},
     "output_type": "display_data"
    }
   ],
   "source": [
    "categorical = ['VehicleType', 'Gearbox', 'FuelType', 'Brand', 'NotRepaired']\n",
    "for element in categorical:\n",
    "    pivot = df.pivot_table(index=element, values='Price', aggfunc='count').sort_values(by='Price', ascending=False)\n",
    "    display(pivot)"
   ]
  },
  {
   "cell_type": "markdown",
   "id": "21efba4f",
   "metadata": {},
   "source": [
    "**Вывод**   \n",
    "В категориальных переменных нет каких-либо значимых смещений => можно приступать к дальнейшему анализу."
   ]
  },
  {
   "cell_type": "markdown",
   "id": "a3fc1732",
   "metadata": {},
   "source": [
    "## Обучение моделей"
   ]
  },
  {
   "cell_type": "markdown",
   "id": "fd5a99d5",
   "metadata": {},
   "source": [
    "Распределим переменные на x_cat, x_num:"
   ]
  },
  {
   "cell_type": "code",
   "execution_count": 55,
   "id": "333840ab",
   "metadata": {},
   "outputs": [],
   "source": [
    "df = df.reset_index(drop=True)\n",
    "x_cat = ['VehicleType', 'Gearbox', 'FuelType', 'Brand', 'NotRepaired']\n",
    "x_num = ['RegistrationYear', 'Power', 'Kilometer']"
   ]
  },
  {
   "cell_type": "code",
   "execution_count": 56,
   "id": "d3e249e8",
   "metadata": {},
   "outputs": [],
   "source": [
    "#преобразуем категориальные переменные в dummy\n",
    "df = pd.get_dummies(df, columns=x_cat)"
   ]
  },
  {
   "cell_type": "code",
   "execution_count": 57,
   "id": "a77d1875",
   "metadata": {},
   "outputs": [],
   "source": [
    "#разделим выборки на обучающую и валидационную\n",
    "target = df['Price']\n",
    "features = df.drop('Price', axis=1)\n",
    "features_train, features_valid_test, target_train, target_valid_test = train_test_split(features, target, \n",
    "                                                                              test_size=0.4, random_state=12345)\n",
    "features_valid, features_test, target_valid, target_test = train_test_split(features_valid_test, target_valid_test, \n",
    "                                                                              test_size=0.5, random_state=12345)"
   ]
  },
  {
   "cell_type": "markdown",
   "id": "acfd0001",
   "metadata": {},
   "source": [
    "В качестве опций рассмотрим следующие:\n",
    "1. Линейная регрессия\n",
    "2. LightGBM с подбором гиперпараметров \n",
    "\n",
    "Модели будем оценивать с помощью двух метрик:\n",
    "1. RMSE\n",
    "2. Cкорость выполнения %%time"
   ]
  },
  {
   "cell_type": "markdown",
   "id": "d9f15d01",
   "metadata": {},
   "source": [
    "## Анализ моделей"
   ]
  },
  {
   "cell_type": "markdown",
   "id": "c140c3df",
   "metadata": {},
   "source": [
    "### Линейная регрессия"
   ]
  },
  {
   "cell_type": "code",
   "execution_count": 58,
   "id": "bf414a94",
   "metadata": {},
   "outputs": [
    {
     "name": "stdout",
     "output_type": "stream",
     "text": [
      "2761.517673716305\n",
      "CPU times: user 8.04 s, sys: 1.42 s, total: 9.47 s\n",
      "Wall time: 1.4 s\n"
     ]
    }
   ],
   "source": [
    "%%time\n",
    "#линейная регрессия\n",
    "model = LinearRegression()\n",
    "model.fit(features_train, target_train)\n",
    "prediction = model.predict(features_valid)\n",
    "mse = mean_squared_error(target_valid, prediction)\n",
    "rmse = mse ** 0.5\n",
    "print(rmse)"
   ]
  },
  {
   "cell_type": "markdown",
   "id": "a9cdfc6b",
   "metadata": {},
   "source": [
    "### LightGBM"
   ]
  },
  {
   "cell_type": "code",
   "execution_count": 59,
   "id": "443067ea",
   "metadata": {},
   "outputs": [
    {
     "name": "stdout",
     "output_type": "stream",
     "text": [
      "gbdt 1699.3572138985612\n",
      "dart 1949.2740591176084\n",
      "goss 1697.1708103278945\n",
      "CPU times: user 23.8 s, sys: 1.46 s, total: 25.3 s\n",
      "Wall time: 3.23 s\n"
     ]
    }
   ],
   "source": [
    "%%time\n",
    "#базовый LightGBM с разными типами бустинга\n",
    "types = ['gbdt', 'dart', 'goss']\n",
    "for t in types:\n",
    "    model = LGBMRegressor(boosting_type = t)\n",
    "    model.fit(features_train, target_train)\n",
    "    prediction = model.predict(features_valid)\n",
    "    mse = mean_squared_error(target_valid, prediction)\n",
    "    rmse = mse ** 0.5\n",
    "    print(t, rmse)"
   ]
  },
  {
   "cell_type": "markdown",
   "id": "ee45e98e",
   "metadata": {},
   "source": [
    "**Вывод**   \n",
    "Наилучший показатель за типом goss => далее работаем с ним."
   ]
  },
  {
   "cell_type": "code",
   "execution_count": 60,
   "id": "573490a0",
   "metadata": {
    "scrolled": false
   },
   "outputs": [
    {
     "name": "stdout",
     "output_type": "stream",
     "text": [
      "деревьев 1, глубина 1: 4377.845413416695\n",
      "деревьев 1, глубина 2: 4310.790018743958\n",
      "деревьев 1, глубина 3: 4272.510352319203\n",
      "деревьев 1, глубина 4: 4234.458902192244\n",
      "деревьев 1, глубина 5: 4210.350535474585\n",
      "деревьев 1, глубина 6: 4194.984127938589\n",
      "деревьев 1, глубина 7: 4183.1892646286515\n",
      "деревьев 1, глубина 8: 4174.653483488857\n",
      "деревьев 1, глубина 9: 4168.157128129134\n",
      "деревьев 1, глубина 10: 4162.918770688702\n",
      "деревьев 10, глубина 1: 3647.668208535359\n",
      "деревьев 10, глубина 2: 3190.0376651400334\n",
      "деревьев 10, глубина 3: 2948.7227335251987\n",
      "деревьев 10, глубина 4: 2748.5113815651557\n",
      "деревьев 10, глубина 5: 2633.287874678287\n",
      "деревьев 10, глубина 6: 2551.6872242044756\n",
      "деревьев 10, глубина 7: 2486.7450366579433\n",
      "деревьев 10, глубина 8: 2432.7118306551333\n",
      "деревьев 10, глубина 9: 2386.972675907121\n",
      "деревьев 10, глубина 10: 2349.893249437908\n",
      "деревьев 100, глубина 1: 2459.5145343251893\n",
      "деревьев 100, глубина 2: 2053.1694370539867\n",
      "деревьев 100, глубина 3: 1904.7968629991453\n",
      "деревьев 100, глубина 4: 1810.1175165161465\n",
      "деревьев 100, глубина 5: 1751.24483313012\n",
      "деревьев 100, глубина 6: 1704.8031989802732\n",
      "деревьев 100, глубина 7: 1671.3127041979212\n",
      "деревьев 100, глубина 8: 1647.4090524000346\n",
      "деревьев 100, глубина 9: 1624.2105380768924\n",
      "деревьев 100, глубина 10: 1610.2253781132952\n",
      "деревьев 1000, глубина 1: 2125.5583805907045\n",
      "деревьев 1000, глубина 2: 1774.0582190004552\n",
      "деревьев 1000, глубина 3: 1691.8680170801636\n",
      "деревьев 1000, глубина 4: 1637.685994617403\n",
      "деревьев 1000, глубина 5: 1607.8673058570953\n",
      "деревьев 1000, глубина 6: 1589.5238438669046\n",
      "деревьев 1000, глубина 7: 1575.8612362638603\n",
      "деревьев 1000, глубина 8: 1571.5335485089656\n",
      "деревьев 1000, глубина 9: 1568.3359894151404\n",
      "деревьев 1000, глубина 10: 1567.5253172425432\n",
      "\n",
      "Лучшие параметры: кол-во деревьев - 1000, глубина - 10, rmse - 1567.5253172425432\n",
      "CPU times: user 9min 14s, sys: 34.3 s, total: 9min 48s\n",
      "Wall time: 1min 14s\n"
     ]
    }
   ],
   "source": [
    "%%time\n",
    "#базовый LightGBM типа 'goss' с подбором параметров\n",
    "estimators = [1, 10, 100, 1000]\n",
    "m_depth = 11\n",
    "\n",
    "rmse_min = 10000\n",
    "n_best = 0\n",
    "d_best = 0\n",
    "for n in estimators:\n",
    "    for d in range(1, m_depth):\n",
    "        model = LGBMRegressor(boosting_type = 'goss', n_estimators = n, max_depth = d, num_leaves = 2**d)\n",
    "        model.fit(features_train, target_train)\n",
    "        prediction = model.predict(features_valid)\n",
    "        mse = mean_squared_error(target_valid, prediction)\n",
    "        rmse = mse ** 0.5\n",
    "        print(f'деревьев {n}, глубина {d}: {rmse}')\n",
    "        if rmse < rmse_min:\n",
    "            rmse_min = rmse\n",
    "            n_best = n\n",
    "            d_best = d\n",
    "            \n",
    "print()\n",
    "print(f'Лучшие параметры: кол-во деревьев - {n_best}, глубина - {d_best}, rmse - {rmse_min}')"
   ]
  },
  {
   "cell_type": "markdown",
   "id": "a800cb77",
   "metadata": {},
   "source": [
    "  Получили ожидаемый результат: чем больше количество деревьев и их глубина, тем точнее результат, однако скорость работы заметно падает. Сравним скорости у моделей с параметрами 100-10 и 1000-9, rmse по которым практически сопоставимы."
   ]
  },
  {
   "cell_type": "markdown",
   "id": "67e1d036",
   "metadata": {},
   "source": [
    "### Тестирование моделей"
   ]
  },
  {
   "cell_type": "markdown",
   "id": "dfaa4639",
   "metadata": {},
   "source": [
    "**Линейная регрессия**"
   ]
  },
  {
   "cell_type": "code",
   "execution_count": 61,
   "id": "9c7eafa0",
   "metadata": {},
   "outputs": [
    {
     "name": "stdout",
     "output_type": "stream",
     "text": [
      "CPU times: user 7.68 s, sys: 1.62 s, total: 9.3 s\n",
      "Wall time: 1.38 s\n"
     ]
    },
    {
     "data": {
      "text/plain": [
       "LinearRegression()"
      ]
     },
     "execution_count": 61,
     "metadata": {},
     "output_type": "execute_result"
    }
   ],
   "source": [
    "%%time\n",
    "#линейная регрессия\n",
    "model = LinearRegression()\n",
    "model.fit(features_train, target_train)"
   ]
  },
  {
   "cell_type": "code",
   "execution_count": 62,
   "id": "b5ec0a67",
   "metadata": {},
   "outputs": [
    {
     "name": "stdout",
     "output_type": "stream",
     "text": [
      "CPU times: user 25.3 ms, sys: 11.6 ms, total: 36.9 ms\n",
      "Wall time: 6.47 ms\n"
     ]
    }
   ],
   "source": [
    "%%time\n",
    "prediction = model.predict(features_test)"
   ]
  },
  {
   "cell_type": "code",
   "execution_count": 63,
   "id": "0cb52279",
   "metadata": {
    "scrolled": false
   },
   "outputs": [
    {
     "name": "stdout",
     "output_type": "stream",
     "text": [
      "2756.4193993153035\n"
     ]
    }
   ],
   "source": [
    "mse = mean_squared_error(target_test, prediction)\n",
    "rmse = mse ** 0.5\n",
    "print(rmse)"
   ]
  },
  {
   "cell_type": "markdown",
   "id": "8e9c3a6f",
   "metadata": {},
   "source": [
    "**LGBMRegressor 100-10**"
   ]
  },
  {
   "cell_type": "code",
   "execution_count": 64,
   "id": "c8fc6600",
   "metadata": {},
   "outputs": [
    {
     "name": "stdout",
     "output_type": "stream",
     "text": [
      "CPU times: user 10.3 s, sys: 807 ms, total: 11.1 s\n",
      "Wall time: 1.46 s\n"
     ]
    },
    {
     "data": {
      "text/plain": [
       "LGBMRegressor(boosting_type='goss', max_depth=10, num_leaves=1024)"
      ]
     },
     "execution_count": 64,
     "metadata": {},
     "output_type": "execute_result"
    }
   ],
   "source": [
    "%%time\n",
    "model = LGBMRegressor(boosting_type = 'goss', n_estimators = 100, max_depth = 10, num_leaves = 2**10)\n",
    "model.fit(features_train, target_train)"
   ]
  },
  {
   "cell_type": "code",
   "execution_count": 65,
   "id": "2b9a3ced",
   "metadata": {},
   "outputs": [
    {
     "name": "stdout",
     "output_type": "stream",
     "text": [
      "CPU times: user 902 ms, sys: 24 ms, total: 926 ms\n",
      "Wall time: 127 ms\n"
     ]
    }
   ],
   "source": [
    "%%time\n",
    "prediction = model.predict(features_test)"
   ]
  },
  {
   "cell_type": "code",
   "execution_count": 66,
   "id": "30a44381",
   "metadata": {},
   "outputs": [
    {
     "name": "stdout",
     "output_type": "stream",
     "text": [
      "1596.446113301403\n"
     ]
    }
   ],
   "source": [
    "mse = mean_squared_error(target_test, prediction)\n",
    "rmse = mse ** 0.5\n",
    "print(rmse)"
   ]
  },
  {
   "cell_type": "markdown",
   "id": "ec5d1042",
   "metadata": {},
   "source": [
    "**LGBMRegressor 1000-9**"
   ]
  },
  {
   "cell_type": "code",
   "execution_count": 67,
   "id": "c64f4075",
   "metadata": {
    "scrolled": true
   },
   "outputs": [
    {
     "name": "stdout",
     "output_type": "stream",
     "text": [
      "CPU times: user 1min 6s, sys: 4 s, total: 1min 10s\n",
      "Wall time: 9.03 s\n"
     ]
    },
    {
     "data": {
      "text/plain": [
       "LGBMRegressor(boosting_type='goss', max_depth=9, n_estimators=1000,\n",
       "              num_leaves=512)"
      ]
     },
     "execution_count": 67,
     "metadata": {},
     "output_type": "execute_result"
    }
   ],
   "source": [
    "%%time\n",
    "model = LGBMRegressor(boosting_type = 'goss', n_estimators = 1000, max_depth = 9, num_leaves = 2**9)\n",
    "model.fit(features_train, target_train)"
   ]
  },
  {
   "cell_type": "code",
   "execution_count": 68,
   "id": "701149f1",
   "metadata": {
    "scrolled": true
   },
   "outputs": [
    {
     "name": "stdout",
     "output_type": "stream",
     "text": [
      "CPU times: user 7.86 s, sys: 39.8 ms, total: 7.9 s\n",
      "Wall time: 1.02 s\n"
     ]
    }
   ],
   "source": [
    "%%time\n",
    "prediction = model.predict(features_test)"
   ]
  },
  {
   "cell_type": "code",
   "execution_count": 69,
   "id": "87aa8067",
   "metadata": {
    "scrolled": true
   },
   "outputs": [
    {
     "name": "stdout",
     "output_type": "stream",
     "text": [
      "1552.52618507501\n"
     ]
    }
   ],
   "source": [
    "mse = mean_squared_error(target_test, prediction)\n",
    "rmse = mse ** 0.5\n",
    "print(rmse)"
   ]
  },
  {
   "cell_type": "markdown",
   "id": "b4a04566",
   "metadata": {},
   "source": [
    "**Вывод**   \n",
    "Скорость работы возрастает в 6 раз при снижении RMSE на 3% =>    \n",
    "модель LGBMRegressor типа 'goss' со 100 деревьями и глубиной 9 - наиболее оптимальна и обеспечивает RMSE на уровне 1596, что также на порядок лучше показателей обычной линейной регрессии."
   ]
  },
  {
   "cell_type": "markdown",
   "id": "a1f36952",
   "metadata": {},
   "source": [
    "## Чек-лист проверки"
   ]
  },
  {
   "cell_type": "markdown",
   "id": "cf98f50a",
   "metadata": {},
   "source": [
    "Поставьте 'x' в выполненных пунктах. Далее нажмите Shift+Enter."
   ]
  },
  {
   "cell_type": "markdown",
   "id": "1432dbf6",
   "metadata": {},
   "source": [
    "- [x]  Jupyter Notebook открыт\n",
    "- [x]  Весь код выполняется без ошибок\n",
    "- [x]  Ячейки с кодом расположены в порядке исполнения\n",
    "- [x]  Выполнена загрузка и подготовка данных\n",
    "- [x]  Выполнено обучение моделей\n",
    "- [x]  Есть анализ скорости работы и качества моделей"
   ]
  },
  {
   "cell_type": "code",
   "execution_count": null,
   "id": "61639d7b",
   "metadata": {},
   "outputs": [],
   "source": []
  }
 ],
 "metadata": {
  "kernelspec": {
   "display_name": "Python 3",
   "language": "python",
   "name": "python3"
  },
  "language_info": {
   "codemirror_mode": {
    "name": "ipython",
    "version": 3
   },
   "file_extension": ".py",
   "mimetype": "text/x-python",
   "name": "python",
   "nbconvert_exporter": "python",
   "pygments_lexer": "ipython3",
   "version": "3.7.13"
  },
  "toc": {
   "base_numbering": 1,
   "nav_menu": {},
   "number_sections": true,
   "sideBar": true,
   "skip_h1_title": false,
   "title_cell": "Table of Contents",
   "title_sidebar": "Contents",
   "toc_cell": true,
   "toc_position": {},
   "toc_section_display": true,
   "toc_window_display": true
  }
 },
 "nbformat": 4,
 "nbformat_minor": 5
}
