{
 "cells": [
  {
   "cell_type": "markdown",
   "metadata": {
    "toc": true
   },
   "source": [
    "<h1>Содержание<span class=\"tocSkip\"></span></h1>\n",
    "<div class=\"toc\"><ul class=\"toc-item\"><li><span><a href=\"#Подготовка-данных\" data-toc-modified-id=\"Подготовка-данных-1\"><span class=\"toc-item-num\">1&nbsp;&nbsp;</span>Подготовка данных</a></span><ul class=\"toc-item\"><li><span><a href=\"#Первичный-анализ\" data-toc-modified-id=\"Первичный-анализ-1.1\"><span class=\"toc-item-num\">1.1&nbsp;&nbsp;</span>Первичный анализ</a></span></li><li><span><a href=\"#Проверка-корректности-расчета-эффективности-обогащения\" data-toc-modified-id=\"Проверка-корректности-расчета-эффективности-обогащения-1.2\"><span class=\"toc-item-num\">1.2&nbsp;&nbsp;</span>Проверка корректности расчета эффективности обогащения</a></span></li><li><span><a href=\"#Анализ-тестовой-выборки\" data-toc-modified-id=\"Анализ-тестовой-выборки-1.3\"><span class=\"toc-item-num\">1.3&nbsp;&nbsp;</span>Анализ тестовой выборки</a></span></li></ul></li><li><span><a href=\"#Анализ-данных\" data-toc-modified-id=\"Анализ-данных-2\"><span class=\"toc-item-num\">2&nbsp;&nbsp;</span>Анализ данных</a></span><ul class=\"toc-item\"><li><span><a href=\"#Анализ-концентрации\" data-toc-modified-id=\"Анализ-концентрации-2.1\"><span class=\"toc-item-num\">2.1&nbsp;&nbsp;</span>Анализ концентрации</a></span></li><li><span><a href=\"#Распределение-размеров-гранул\" data-toc-modified-id=\"Распределение-размеров-гранул-2.2\"><span class=\"toc-item-num\">2.2&nbsp;&nbsp;</span>Распределение размеров гранул</a></span></li></ul></li><li><span><a href=\"#Модель\" data-toc-modified-id=\"Модель-3\"><span class=\"toc-item-num\">3&nbsp;&nbsp;</span>Модель</a></span><ul class=\"toc-item\"><li><span><a href=\"#Описание-модели\" data-toc-modified-id=\"Описание-модели-3.1\"><span class=\"toc-item-num\">3.1&nbsp;&nbsp;</span>Описание модели</a></span></li><li><span><a href=\"#Восполнение-отсутствующих-данных-в-тестовой-выборке\" data-toc-modified-id=\"Восполнение-отсутствующих-данных-в-тестовой-выборке-3.2\"><span class=\"toc-item-num\">3.2&nbsp;&nbsp;</span>Восполнение отсутствующих данных в тестовой выборке</a></span></li><li><span><a href=\"#Предобработка-данных\" data-toc-modified-id=\"Предобработка-данных-3.3\"><span class=\"toc-item-num\">3.3&nbsp;&nbsp;</span>Предобработка данных</a></span><ul class=\"toc-item\"><li><span><a href=\"#Удаление-пропусков\" data-toc-modified-id=\"Удаление-пропусков-3.3.1\"><span class=\"toc-item-num\">3.3.1&nbsp;&nbsp;</span>Удаление пропусков</a></span></li><li><span><a href=\"#Анализ-выбросов\" data-toc-modified-id=\"Анализ-выбросов-3.3.2\"><span class=\"toc-item-num\">3.3.2&nbsp;&nbsp;</span>Анализ выбросов</a></span></li><li><span><a href=\"#Проверка-на-мультиколлинеарность\" data-toc-modified-id=\"Проверка-на-мультиколлинеарность-3.3.3\"><span class=\"toc-item-num\">3.3.3&nbsp;&nbsp;</span>Проверка на мультиколлинеарность</a></span></li></ul></li><li><span><a href=\"#Функция-sMAPE\" data-toc-modified-id=\"Функция-sMAPE-3.4\"><span class=\"toc-item-num\">3.4&nbsp;&nbsp;</span>Функция sMAPE</a></span></li><li><span><a href=\"#Подбор-модели\" data-toc-modified-id=\"Подбор-модели-3.5\"><span class=\"toc-item-num\">3.5&nbsp;&nbsp;</span>Подбор модели</a></span><ul class=\"toc-item\"><li><span><a href=\"#Поиск-лучшей-модели\" data-toc-modified-id=\"Поиск-лучшей-модели-3.5.1\"><span class=\"toc-item-num\">3.5.1&nbsp;&nbsp;</span>Поиск лучшей модели</a></span></li><li><span><a href=\"#Оценка-на-тестовой-выборке\" data-toc-modified-id=\"Оценка-на-тестовой-выборке-3.5.2\"><span class=\"toc-item-num\">3.5.2&nbsp;&nbsp;</span>Оценка на тестовой выборке</a></span></li></ul></li></ul></li><li><span><a href=\"#Чек-лист-готовности-проекта\" data-toc-modified-id=\"Чек-лист-готовности-проекта-4\"><span class=\"toc-item-num\">4&nbsp;&nbsp;</span>Чек-лист готовности проекта</a></span></li></ul></div>"
   ]
  },
  {
   "cell_type": "markdown",
   "metadata": {},
   "source": [
    "# Восстановление золота из руды"
   ]
  },
  {
   "cell_type": "markdown",
   "metadata": {},
   "source": [
    "Подготовьте прототип модели машинного обучения для «Цифры». Компания разрабатывает решения для эффективной работы промышленных предприятий.\n",
    "\n",
    "Модель должна предсказать коэффициент восстановления золота из золотосодержащей руды. Используйте данные с параметрами добычи и очистки. \n",
    "\n",
    "Модель поможет оптимизировать производство, чтобы не запускать предприятие с убыточными характеристиками.\n",
    "\n",
    "Вам нужно:\n",
    "\n",
    "1. Подготовить данные;\n",
    "2. Провести исследовательский анализ данных;\n",
    "3. Построить и обучить модель.\n",
    "\n",
    "Чтобы выполнить проект, обращайтесь к библиотекам *pandas*, *matplotlib* и *sklearn.* Вам поможет их документация."
   ]
  },
  {
   "cell_type": "markdown",
   "metadata": {},
   "source": [
    "## Подготовка данных"
   ]
  },
  {
   "cell_type": "markdown",
   "metadata": {},
   "source": [
    "### Первичный анализ"
   ]
  },
  {
   "cell_type": "code",
   "execution_count": 294,
   "metadata": {},
   "outputs": [],
   "source": [
    "import pandas as pd\n",
    "import matplotlib.pyplot as plt\n",
    "import warnings\n",
    "warnings.filterwarnings(\"ignore\")\n",
    "\n",
    "from sklearn.linear_model import LinearRegression\n",
    "from sklearn.tree import DecisionTreeRegressor\n",
    "from sklearn.ensemble import RandomForestRegressor\n",
    "\n",
    "from sklearn.model_selection import cross_val_score\n",
    "from sklearn.metrics import mean_absolute_error\n",
    "from sklearn.metrics import r2_score\n",
    "from sklearn.metrics import mean_squared_error"
   ]
  },
  {
   "cell_type": "code",
   "execution_count": 251,
   "metadata": {
    "scrolled": true
   },
   "outputs": [
    {
     "name": "stdout",
     "output_type": "stream",
     "text": [
      "Размер таблицы (19439, 87)\n",
      "Кол-во пропусков 3345\n",
      "Доля пропусков: 17.2%\n",
      "Кол-во дубликатов 0\n",
      "<class 'pandas.core.frame.DataFrame'>\n",
      "RangeIndex: 19439 entries, 0 to 19438\n",
      "Data columns (total 87 columns):\n",
      "date                                                  19439 non-null object\n",
      "final.output.concentrate_ag                           19438 non-null float64\n",
      "final.output.concentrate_pb                           19438 non-null float64\n",
      "final.output.concentrate_sol                          19228 non-null float64\n",
      "final.output.concentrate_au                           19439 non-null float64\n",
      "final.output.recovery                                 19439 non-null float64\n",
      "final.output.tail_ag                                  19438 non-null float64\n",
      "final.output.tail_pb                                  19338 non-null float64\n",
      "final.output.tail_sol                                 19433 non-null float64\n",
      "final.output.tail_au                                  19439 non-null float64\n",
      "primary_cleaner.input.sulfate                         19415 non-null float64\n",
      "primary_cleaner.input.depressant                      19402 non-null float64\n",
      "primary_cleaner.input.feed_size                       19439 non-null float64\n",
      "primary_cleaner.input.xanthate                        19335 non-null float64\n",
      "primary_cleaner.output.concentrate_ag                 19439 non-null float64\n",
      "primary_cleaner.output.concentrate_pb                 19323 non-null float64\n",
      "primary_cleaner.output.concentrate_sol                19069 non-null float64\n",
      "primary_cleaner.output.concentrate_au                 19439 non-null float64\n",
      "primary_cleaner.output.tail_ag                        19435 non-null float64\n",
      "primary_cleaner.output.tail_pb                        19418 non-null float64\n",
      "primary_cleaner.output.tail_sol                       19377 non-null float64\n",
      "primary_cleaner.output.tail_au                        19439 non-null float64\n",
      "primary_cleaner.state.floatbank8_a_air                19435 non-null float64\n",
      "primary_cleaner.state.floatbank8_a_level              19438 non-null float64\n",
      "primary_cleaner.state.floatbank8_b_air                19435 non-null float64\n",
      "primary_cleaner.state.floatbank8_b_level              19438 non-null float64\n",
      "primary_cleaner.state.floatbank8_c_air                19437 non-null float64\n",
      "primary_cleaner.state.floatbank8_c_level              19438 non-null float64\n",
      "primary_cleaner.state.floatbank8_d_air                19436 non-null float64\n",
      "primary_cleaner.state.floatbank8_d_level              19438 non-null float64\n",
      "rougher.calculation.sulfate_to_au_concentrate         19437 non-null float64\n",
      "rougher.calculation.floatbank10_sulfate_to_au_feed    19437 non-null float64\n",
      "rougher.calculation.floatbank11_sulfate_to_au_feed    19437 non-null float64\n",
      "rougher.calculation.au_pb_ratio                       19439 non-null float64\n",
      "rougher.input.feed_ag                                 19439 non-null float64\n",
      "rougher.input.feed_pb                                 19339 non-null float64\n",
      "rougher.input.feed_rate                               19428 non-null float64\n",
      "rougher.input.feed_size                               19294 non-null float64\n",
      "rougher.input.feed_sol                                19340 non-null float64\n",
      "rougher.input.feed_au                                 19439 non-null float64\n",
      "rougher.input.floatbank10_sulfate                     19405 non-null float64\n",
      "rougher.input.floatbank10_xanthate                    19431 non-null float64\n",
      "rougher.input.floatbank11_sulfate                     19395 non-null float64\n",
      "rougher.input.floatbank11_xanthate                    18986 non-null float64\n",
      "rougher.output.concentrate_ag                         19439 non-null float64\n",
      "rougher.output.concentrate_pb                         19439 non-null float64\n",
      "rougher.output.concentrate_sol                        19416 non-null float64\n",
      "rougher.output.concentrate_au                         19439 non-null float64\n",
      "rougher.output.recovery                               19439 non-null float64\n",
      "rougher.output.tail_ag                                19438 non-null float64\n",
      "rougher.output.tail_pb                                19439 non-null float64\n",
      "rougher.output.tail_sol                               19439 non-null float64\n",
      "rougher.output.tail_au                                19439 non-null float64\n",
      "rougher.state.floatbank10_a_air                       19438 non-null float64\n",
      "rougher.state.floatbank10_a_level                     19438 non-null float64\n",
      "rougher.state.floatbank10_b_air                       19438 non-null float64\n",
      "rougher.state.floatbank10_b_level                     19438 non-null float64\n",
      "rougher.state.floatbank10_c_air                       19438 non-null float64\n",
      "rougher.state.floatbank10_c_level                     19438 non-null float64\n",
      "rougher.state.floatbank10_d_air                       19439 non-null float64\n",
      "rougher.state.floatbank10_d_level                     19439 non-null float64\n",
      "rougher.state.floatbank10_e_air                       19003 non-null float64\n",
      "rougher.state.floatbank10_e_level                     19439 non-null float64\n",
      "rougher.state.floatbank10_f_air                       19439 non-null float64\n",
      "rougher.state.floatbank10_f_level                     19439 non-null float64\n",
      "secondary_cleaner.output.tail_ag                      19437 non-null float64\n",
      "secondary_cleaner.output.tail_pb                      19427 non-null float64\n",
      "secondary_cleaner.output.tail_sol                     17691 non-null float64\n",
      "secondary_cleaner.output.tail_au                      19439 non-null float64\n",
      "secondary_cleaner.state.floatbank2_a_air              19219 non-null float64\n",
      "secondary_cleaner.state.floatbank2_a_level            19438 non-null float64\n",
      "secondary_cleaner.state.floatbank2_b_air              19416 non-null float64\n",
      "secondary_cleaner.state.floatbank2_b_level            19438 non-null float64\n",
      "secondary_cleaner.state.floatbank3_a_air              19426 non-null float64\n",
      "secondary_cleaner.state.floatbank3_a_level            19438 non-null float64\n",
      "secondary_cleaner.state.floatbank3_b_air              19438 non-null float64\n",
      "secondary_cleaner.state.floatbank3_b_level            19438 non-null float64\n",
      "secondary_cleaner.state.floatbank4_a_air              19433 non-null float64\n",
      "secondary_cleaner.state.floatbank4_a_level            19438 non-null float64\n",
      "secondary_cleaner.state.floatbank4_b_air              19438 non-null float64\n",
      "secondary_cleaner.state.floatbank4_b_level            19438 non-null float64\n",
      "secondary_cleaner.state.floatbank5_a_air              19438 non-null float64\n",
      "secondary_cleaner.state.floatbank5_a_level            19438 non-null float64\n",
      "secondary_cleaner.state.floatbank5_b_air              19438 non-null float64\n",
      "secondary_cleaner.state.floatbank5_b_level            19438 non-null float64\n",
      "secondary_cleaner.state.floatbank6_a_air              19437 non-null float64\n",
      "secondary_cleaner.state.floatbank6_a_level            19438 non-null float64\n",
      "dtypes: float64(86), object(1)\n",
      "memory usage: 12.9+ MB\n",
      "None\n",
      "\n",
      "Размер таблицы (14149, 87)\n",
      "Кол-во пропусков 3132\n",
      "Доля пропусков: 22.1%\n",
      "Кол-во дубликатов 0\n",
      "<class 'pandas.core.frame.DataFrame'>\n",
      "RangeIndex: 14149 entries, 0 to 14148\n",
      "Data columns (total 87 columns):\n",
      "date                                                  14149 non-null object\n",
      "final.output.concentrate_ag                           14148 non-null float64\n",
      "final.output.concentrate_pb                           14148 non-null float64\n",
      "final.output.concentrate_sol                          13938 non-null float64\n",
      "final.output.concentrate_au                           14149 non-null float64\n",
      "final.output.recovery                                 14149 non-null float64\n",
      "final.output.tail_ag                                  14149 non-null float64\n",
      "final.output.tail_pb                                  14049 non-null float64\n",
      "final.output.tail_sol                                 14144 non-null float64\n",
      "final.output.tail_au                                  14149 non-null float64\n",
      "primary_cleaner.input.sulfate                         14129 non-null float64\n",
      "primary_cleaner.input.depressant                      14117 non-null float64\n",
      "primary_cleaner.input.feed_size                       14149 non-null float64\n",
      "primary_cleaner.input.xanthate                        14049 non-null float64\n",
      "primary_cleaner.output.concentrate_ag                 14149 non-null float64\n",
      "primary_cleaner.output.concentrate_pb                 14063 non-null float64\n",
      "primary_cleaner.output.concentrate_sol                13863 non-null float64\n",
      "primary_cleaner.output.concentrate_au                 14149 non-null float64\n",
      "primary_cleaner.output.tail_ag                        14148 non-null float64\n",
      "primary_cleaner.output.tail_pb                        14134 non-null float64\n",
      "primary_cleaner.output.tail_sol                       14103 non-null float64\n",
      "primary_cleaner.output.tail_au                        14149 non-null float64\n",
      "primary_cleaner.state.floatbank8_a_air                14145 non-null float64\n",
      "primary_cleaner.state.floatbank8_a_level              14148 non-null float64\n",
      "primary_cleaner.state.floatbank8_b_air                14145 non-null float64\n",
      "primary_cleaner.state.floatbank8_b_level              14148 non-null float64\n",
      "primary_cleaner.state.floatbank8_c_air                14147 non-null float64\n",
      "primary_cleaner.state.floatbank8_c_level              14148 non-null float64\n",
      "primary_cleaner.state.floatbank8_d_air                14146 non-null float64\n",
      "primary_cleaner.state.floatbank8_d_level              14148 non-null float64\n",
      "rougher.calculation.sulfate_to_au_concentrate         14148 non-null float64\n",
      "rougher.calculation.floatbank10_sulfate_to_au_feed    14148 non-null float64\n",
      "rougher.calculation.floatbank11_sulfate_to_au_feed    14148 non-null float64\n",
      "rougher.calculation.au_pb_ratio                       14149 non-null float64\n",
      "rougher.input.feed_ag                                 14149 non-null float64\n",
      "rougher.input.feed_pb                                 14049 non-null float64\n",
      "rougher.input.feed_rate                               14141 non-null float64\n",
      "rougher.input.feed_size                               14005 non-null float64\n",
      "rougher.input.feed_sol                                14071 non-null float64\n",
      "rougher.input.feed_au                                 14149 non-null float64\n",
      "rougher.input.floatbank10_sulfate                     14120 non-null float64\n",
      "rougher.input.floatbank10_xanthate                    14141 non-null float64\n",
      "rougher.input.floatbank11_sulfate                     14113 non-null float64\n",
      "rougher.input.floatbank11_xanthate                    13721 non-null float64\n",
      "rougher.output.concentrate_ag                         14149 non-null float64\n",
      "rougher.output.concentrate_pb                         14149 non-null float64\n",
      "rougher.output.concentrate_sol                        14127 non-null float64\n",
      "rougher.output.concentrate_au                         14149 non-null float64\n",
      "rougher.output.recovery                               14149 non-null float64\n",
      "rougher.output.tail_ag                                14148 non-null float64\n",
      "rougher.output.tail_pb                                14149 non-null float64\n",
      "rougher.output.tail_sol                               14149 non-null float64\n",
      "rougher.output.tail_au                                14149 non-null float64\n",
      "rougher.state.floatbank10_a_air                       14148 non-null float64\n",
      "rougher.state.floatbank10_a_level                     14148 non-null float64\n",
      "rougher.state.floatbank10_b_air                       14148 non-null float64\n",
      "rougher.state.floatbank10_b_level                     14148 non-null float64\n",
      "rougher.state.floatbank10_c_air                       14148 non-null float64\n",
      "rougher.state.floatbank10_c_level                     14148 non-null float64\n",
      "rougher.state.floatbank10_d_air                       14149 non-null float64\n",
      "rougher.state.floatbank10_d_level                     14149 non-null float64\n",
      "rougher.state.floatbank10_e_air                       13713 non-null float64\n",
      "rougher.state.floatbank10_e_level                     14149 non-null float64\n",
      "rougher.state.floatbank10_f_air                       14149 non-null float64\n",
      "rougher.state.floatbank10_f_level                     14149 non-null float64\n",
      "secondary_cleaner.output.tail_ag                      14147 non-null float64\n",
      "secondary_cleaner.output.tail_pb                      14139 non-null float64\n",
      "secondary_cleaner.output.tail_sol                     12544 non-null float64\n",
      "secondary_cleaner.output.tail_au                      14149 non-null float64\n",
      "secondary_cleaner.state.floatbank2_a_air              13932 non-null float64\n",
      "secondary_cleaner.state.floatbank2_a_level            14148 non-null float64\n",
      "secondary_cleaner.state.floatbank2_b_air              14128 non-null float64\n",
      "secondary_cleaner.state.floatbank2_b_level            14148 non-null float64\n",
      "secondary_cleaner.state.floatbank3_a_air              14145 non-null float64\n",
      "secondary_cleaner.state.floatbank3_a_level            14148 non-null float64\n",
      "secondary_cleaner.state.floatbank3_b_air              14148 non-null float64\n",
      "secondary_cleaner.state.floatbank3_b_level            14148 non-null float64\n",
      "secondary_cleaner.state.floatbank4_a_air              14143 non-null float64\n",
      "secondary_cleaner.state.floatbank4_a_level            14148 non-null float64\n",
      "secondary_cleaner.state.floatbank4_b_air              14148 non-null float64\n",
      "secondary_cleaner.state.floatbank4_b_level            14148 non-null float64\n",
      "secondary_cleaner.state.floatbank5_a_air              14148 non-null float64\n",
      "secondary_cleaner.state.floatbank5_a_level            14148 non-null float64\n",
      "secondary_cleaner.state.floatbank5_b_air              14148 non-null float64\n",
      "secondary_cleaner.state.floatbank5_b_level            14148 non-null float64\n",
      "secondary_cleaner.state.floatbank6_a_air              14147 non-null float64\n",
      "secondary_cleaner.state.floatbank6_a_level            14148 non-null float64\n",
      "dtypes: float64(86), object(1)\n",
      "memory usage: 9.4+ MB\n",
      "None\n",
      "\n",
      "Размер таблицы (5290, 53)\n",
      "Кол-во пропусков 61\n",
      "Доля пропусков: 1.2%\n",
      "Кол-во дубликатов 0\n",
      "<class 'pandas.core.frame.DataFrame'>\n",
      "RangeIndex: 5290 entries, 0 to 5289\n",
      "Data columns (total 53 columns):\n",
      "date                                          5290 non-null object\n",
      "primary_cleaner.input.sulfate                 5286 non-null float64\n",
      "primary_cleaner.input.depressant              5285 non-null float64\n",
      "primary_cleaner.input.feed_size               5290 non-null float64\n",
      "primary_cleaner.input.xanthate                5286 non-null float64\n",
      "primary_cleaner.state.floatbank8_a_air        5290 non-null float64\n",
      "primary_cleaner.state.floatbank8_a_level      5290 non-null float64\n",
      "primary_cleaner.state.floatbank8_b_air        5290 non-null float64\n",
      "primary_cleaner.state.floatbank8_b_level      5290 non-null float64\n",
      "primary_cleaner.state.floatbank8_c_air        5290 non-null float64\n",
      "primary_cleaner.state.floatbank8_c_level      5290 non-null float64\n",
      "primary_cleaner.state.floatbank8_d_air        5290 non-null float64\n",
      "primary_cleaner.state.floatbank8_d_level      5290 non-null float64\n",
      "rougher.input.feed_ag                         5290 non-null float64\n",
      "rougher.input.feed_pb                         5290 non-null float64\n",
      "rougher.input.feed_rate                       5287 non-null float64\n",
      "rougher.input.feed_size                       5289 non-null float64\n",
      "rougher.input.feed_sol                        5269 non-null float64\n",
      "rougher.input.feed_au                         5290 non-null float64\n",
      "rougher.input.floatbank10_sulfate             5285 non-null float64\n",
      "rougher.input.floatbank10_xanthate            5290 non-null float64\n",
      "rougher.input.floatbank11_sulfate             5282 non-null float64\n",
      "rougher.input.floatbank11_xanthate            5265 non-null float64\n",
      "rougher.state.floatbank10_a_air               5290 non-null float64\n",
      "rougher.state.floatbank10_a_level             5290 non-null float64\n",
      "rougher.state.floatbank10_b_air               5290 non-null float64\n",
      "rougher.state.floatbank10_b_level             5290 non-null float64\n",
      "rougher.state.floatbank10_c_air               5290 non-null float64\n",
      "rougher.state.floatbank10_c_level             5290 non-null float64\n",
      "rougher.state.floatbank10_d_air               5290 non-null float64\n",
      "rougher.state.floatbank10_d_level             5290 non-null float64\n",
      "rougher.state.floatbank10_e_air               5290 non-null float64\n",
      "rougher.state.floatbank10_e_level             5290 non-null float64\n",
      "rougher.state.floatbank10_f_air               5290 non-null float64\n",
      "rougher.state.floatbank10_f_level             5290 non-null float64\n",
      "secondary_cleaner.state.floatbank2_a_air      5287 non-null float64\n",
      "secondary_cleaner.state.floatbank2_a_level    5290 non-null float64\n",
      "secondary_cleaner.state.floatbank2_b_air      5288 non-null float64\n",
      "secondary_cleaner.state.floatbank2_b_level    5290 non-null float64\n",
      "secondary_cleaner.state.floatbank3_a_air      5281 non-null float64\n",
      "secondary_cleaner.state.floatbank3_a_level    5290 non-null float64\n",
      "secondary_cleaner.state.floatbank3_b_air      5290 non-null float64\n",
      "secondary_cleaner.state.floatbank3_b_level    5290 non-null float64\n",
      "secondary_cleaner.state.floatbank4_a_air      5290 non-null float64\n",
      "secondary_cleaner.state.floatbank4_a_level    5290 non-null float64\n",
      "secondary_cleaner.state.floatbank4_b_air      5290 non-null float64\n",
      "secondary_cleaner.state.floatbank4_b_level    5290 non-null float64\n",
      "secondary_cleaner.state.floatbank5_a_air      5290 non-null float64\n",
      "secondary_cleaner.state.floatbank5_a_level    5290 non-null float64\n",
      "secondary_cleaner.state.floatbank5_b_air      5290 non-null float64\n",
      "secondary_cleaner.state.floatbank5_b_level    5290 non-null float64\n",
      "secondary_cleaner.state.floatbank6_a_air      5290 non-null float64\n",
      "secondary_cleaner.state.floatbank6_a_level    5290 non-null float64\n",
      "dtypes: float64(52), object(1)\n",
      "memory usage: 2.1+ MB\n",
      "None\n",
      "\n"
     ]
    }
   ],
   "source": [
    "df_full = pd.read_csv('datasets/gold_recovery_full_new.csv')\n",
    "df_train = pd.read_csv('datasets/gold_recovery_train_new.csv')\n",
    "df_test = pd.read_csv('datasets/gold_recovery_test_new.csv')\n",
    "\n",
    "dfs = {\n",
    "    'df_full': df_full,\n",
    "    'df_train': df_train,\n",
    "    'df_test': df_test\n",
    "}\n",
    "\n",
    "for df in dfs:\n",
    "    print('Размер таблицы', dfs[df].shape)\n",
    "    print('Кол-во пропусков', dfs[df].isnull().any(axis=1).sum())\n",
    "    print(f'Доля пропусков: {dfs[df].isnull().any(axis=1).sum() / len(dfs[df]):.1%}')\n",
    "    print('Кол-во дубликатов', dfs[df].duplicated().sum())\n",
    "    print(dfs[df].info())\n",
    "    print()\n",
    "    "
   ]
  },
  {
   "cell_type": "markdown",
   "metadata": {},
   "source": [
    "**Вывод**   \n",
    "1. 3 датасета (full, train, test)\n",
    "2. df_full:\n",
    "   - 19439 наблюдений, 87 столбцов\n",
    "   - 3345 пропусков (17% от выборки)\n",
    "   - нет дубликатов\n",
    "3. df_train:\n",
    "   - 14149 наблюдений, 87 столбцов\n",
    "   - 3132 пропусков (22% от выборки)\n",
    "   - нет дубликатов\n",
    "4. df_test:\n",
    "   - 5290 наблюдений, 53 столбца\n",
    "   - 61 пропуск (1% от выборки)\n",
    "   - нет дубликатов"
   ]
  },
  {
   "cell_type": "markdown",
   "metadata": {},
   "source": [
    "### Проверка корректности расчета эффективности обогащения"
   ]
  },
  {
   "cell_type": "markdown",
   "metadata": {},
   "source": [
    "Эффективность обогащения рассчитывается как:   \n",
    "(C x (F - T)) / (F x (C - T)) * 100%, где   \n",
    "   - C: rougher.output.concentrate_au\n",
    "   - F: rougher.input.feed_au\n",
    "   - T: rougher.output.tail_au\n",
    "   \n",
    "Далее данный коэффициент нужно сравнить со столбцом rougher.output.recovery."
   ]
  },
  {
   "cell_type": "code",
   "execution_count": 252,
   "metadata": {},
   "outputs": [
    {
     "data": {
      "text/html": [
       "<div>\n",
       "<style scoped>\n",
       "    .dataframe tbody tr th:only-of-type {\n",
       "        vertical-align: middle;\n",
       "    }\n",
       "\n",
       "    .dataframe tbody tr th {\n",
       "        vertical-align: top;\n",
       "    }\n",
       "\n",
       "    .dataframe thead th {\n",
       "        text-align: right;\n",
       "    }\n",
       "</style>\n",
       "<table border=\"1\" class=\"dataframe\">\n",
       "  <thead>\n",
       "    <tr style=\"text-align: right;\">\n",
       "      <th></th>\n",
       "      <th>rougher.output.recovery_estimated</th>\n",
       "      <th>rougher.output.recovery</th>\n",
       "    </tr>\n",
       "  </thead>\n",
       "  <tbody>\n",
       "    <tr>\n",
       "      <td>0</td>\n",
       "      <td>87.107763</td>\n",
       "      <td>87.107763</td>\n",
       "    </tr>\n",
       "    <tr>\n",
       "      <td>1</td>\n",
       "      <td>86.843261</td>\n",
       "      <td>86.843261</td>\n",
       "    </tr>\n",
       "    <tr>\n",
       "      <td>2</td>\n",
       "      <td>86.842308</td>\n",
       "      <td>86.842308</td>\n",
       "    </tr>\n",
       "    <tr>\n",
       "      <td>3</td>\n",
       "      <td>87.226430</td>\n",
       "      <td>87.226430</td>\n",
       "    </tr>\n",
       "    <tr>\n",
       "      <td>4</td>\n",
       "      <td>86.688794</td>\n",
       "      <td>86.688794</td>\n",
       "    </tr>\n",
       "  </tbody>\n",
       "</table>\n",
       "</div>"
      ],
      "text/plain": [
       "   rougher.output.recovery_estimated  rougher.output.recovery\n",
       "0                          87.107763                87.107763\n",
       "1                          86.843261                86.843261\n",
       "2                          86.842308                86.842308\n",
       "3                          87.226430                87.226430\n",
       "4                          86.688794                86.688794"
      ]
     },
     "metadata": {},
     "output_type": "display_data"
    },
    {
     "name": "stdout",
     "output_type": "stream",
     "text": [
      "MAE: 0.00\n"
     ]
    }
   ],
   "source": [
    "c = df_train['rougher.output.concentrate_au']\n",
    "f = df_train['rougher.input.feed_au']\n",
    "t = df_train['rougher.output.tail_au']\n",
    "df_train['rougher.output.recovery_estimated'] = c*(f-t)/f/(c-t)*100\n",
    "df_rec = pd.DataFrame([df_train['rougher.output.recovery_estimated'], df_train['rougher.output.recovery']]).transpose()\n",
    "display(df_rec.head())\n",
    "mae = mean_absolute_error(df_train['rougher.output.recovery'], df_train['rougher.output.recovery_estimated'])\n",
    "print(f'MAE: {mae:.2f}')"
   ]
  },
  {
   "cell_type": "markdown",
   "metadata": {},
   "source": [
    "**Вывод**\n",
    "Расчетный и реальный коэффициенты recovery совпадают."
   ]
  },
  {
   "cell_type": "markdown",
   "metadata": {},
   "source": [
    "### Анализ тестовой выборки"
   ]
  },
  {
   "cell_type": "code",
   "execution_count": 253,
   "metadata": {
    "scrolled": true
   },
   "outputs": [
    {
     "name": "stdout",
     "output_type": "stream",
     "text": [
      "                                                    0\n",
      "0                         final.output.concentrate_ag\n",
      "1                         final.output.concentrate_pb\n",
      "2                        final.output.concentrate_sol\n",
      "3                         final.output.concentrate_au\n",
      "4                               final.output.recovery\n",
      "5                                final.output.tail_ag\n",
      "6                                final.output.tail_pb\n",
      "7                               final.output.tail_sol\n",
      "8                                final.output.tail_au\n",
      "9               primary_cleaner.output.concentrate_ag\n",
      "10              primary_cleaner.output.concentrate_pb\n",
      "11             primary_cleaner.output.concentrate_sol\n",
      "12              primary_cleaner.output.concentrate_au\n",
      "13                     primary_cleaner.output.tail_ag\n",
      "14                     primary_cleaner.output.tail_pb\n",
      "15                    primary_cleaner.output.tail_sol\n",
      "16                     primary_cleaner.output.tail_au\n",
      "17      rougher.calculation.sulfate_to_au_concentrate\n",
      "18  rougher.calculation.floatbank10_sulfate_to_au_...\n",
      "19  rougher.calculation.floatbank11_sulfate_to_au_...\n",
      "20                    rougher.calculation.au_pb_ratio\n",
      "21                      rougher.output.concentrate_ag\n",
      "22                      rougher.output.concentrate_pb\n",
      "23                     rougher.output.concentrate_sol\n",
      "24                      rougher.output.concentrate_au\n",
      "25                            rougher.output.recovery\n",
      "26                             rougher.output.tail_ag\n",
      "27                             rougher.output.tail_pb\n",
      "28                            rougher.output.tail_sol\n",
      "29                             rougher.output.tail_au\n",
      "30                   secondary_cleaner.output.tail_ag\n",
      "31                   secondary_cleaner.output.tail_pb\n",
      "32                  secondary_cleaner.output.tail_sol\n",
      "33                   secondary_cleaner.output.tail_au\n",
      "34                  rougher.output.recovery_estimated\n"
     ]
    }
   ],
   "source": [
    "#проверим, какие столбцы отсутствуют в тестовой выборке\n",
    "df_train_columns = df_train.columns\n",
    "df_test_columns = df_test.columns\n",
    "missed_columns = []\n",
    "for element in df_train_columns:\n",
    "    if element not in df_test_columns:\n",
    "        missed_columns.append(element)       \n",
    "print(pd.DataFrame(missed_columns))"
   ]
  },
  {
   "cell_type": "markdown",
   "metadata": {},
   "source": [
    "**Вывод**   \n",
    "В тестовой выборке отсутствуют следующие параметры:\n",
    "   - расчетные параметры (calculations)\n",
    "   - оценка на выходе для концентратов и хвостов.\n",
    "   - коэффициенты recovery\n",
    "\n",
    "Почти все вышеперечисленные элементы являются расчетными (целевыми) по результатам обработки руды или производными от них. Соответственно, их оценка необходима для проверки эффекивности разработки."
   ]
  },
  {
   "cell_type": "markdown",
   "metadata": {},
   "source": [
    "## Анализ данных"
   ]
  },
  {
   "cell_type": "markdown",
   "metadata": {},
   "source": [
    "### Анализ концентрации"
   ]
  },
  {
   "cell_type": "code",
   "execution_count": 254,
   "metadata": {
    "scrolled": true
   },
   "outputs": [
    {
     "name": "stdout",
     "output_type": "stream",
     "text": [
      "      rougher primary final\n",
      "au       19.4    32.4  44.0\n",
      "ag       11.8     8.2   5.1\n",
      "pb        7.7     9.6  10.1\n",
      "total    38.9    50.2  59.3\n"
     ]
    }
   ],
   "source": [
    "stages = ['rougher', 'primary', 'final']\n",
    "materials = ['au', 'ag', 'pb']\n",
    "\n",
    "df = pd.DataFrame(columns=stages, index=materials)\n",
    "\n",
    "au = ['rougher.output.concentrate_au', 'primary_cleaner.output.concentrate_au', 'final.output.concentrate_au']\n",
    "ag = ['rougher.output.concentrate_ag', 'primary_cleaner.output.concentrate_ag', 'final.output.concentrate_ag']\n",
    "pb = ['rougher.output.concentrate_pb', 'primary_cleaner.output.concentrate_pb', 'final.output.concentrate_pb']\n",
    "\n",
    "elements = [au, ag, pb]\n",
    "\n",
    "for i in range(len(materials)):\n",
    "    for j in range(len(stages)):\n",
    "        df[stages[j]][materials[i]] = df_train[elements[i][j]].mean()\n",
    "\n",
    "df.loc['total'] = 0\n",
    "for k in range(len(stages)):\n",
    "    df[stages[k]]['total'] = df[stages[k]]['au'] + df[stages[k]]['ag'] + df[stages[k]]['pb']\n",
    "        \n",
    "df = df.applymap(\"{0:.1f}\".format)\n",
    "print(df)"
   ]
  },
  {
   "cell_type": "markdown",
   "metadata": {},
   "source": [
    "**Вывод**   \n",
    "1. Доля золота и свинца в концентратах увеличивается, доля серебра снижается по мере прохождения степеней обработки.\n",
    "2. Общая концентрация металлов также увеличивается, проходя обработку."
   ]
  },
  {
   "cell_type": "markdown",
   "metadata": {},
   "source": [
    "### Распределение размеров гранул"
   ]
  },
  {
   "cell_type": "markdown",
   "metadata": {},
   "source": [
    "Поскольку выборки содержат разное число наблюдений, гистограммы необходимо нормировать."
   ]
  },
  {
   "cell_type": "code",
   "execution_count": 255,
   "metadata": {},
   "outputs": [
    {
     "data": {
      "text/html": [
       "<div>\n",
       "<style scoped>\n",
       "    .dataframe tbody tr th:only-of-type {\n",
       "        vertical-align: middle;\n",
       "    }\n",
       "\n",
       "    .dataframe tbody tr th {\n",
       "        vertical-align: top;\n",
       "    }\n",
       "\n",
       "    .dataframe thead th {\n",
       "        text-align: right;\n",
       "    }\n",
       "</style>\n",
       "<table border=\"1\" class=\"dataframe\">\n",
       "  <thead>\n",
       "    <tr style=\"text-align: right;\">\n",
       "      <th></th>\n",
       "      <th>count</th>\n",
       "      <th>mean</th>\n",
       "      <th>std</th>\n",
       "      <th>min</th>\n",
       "      <th>25%</th>\n",
       "      <th>50%</th>\n",
       "      <th>75%</th>\n",
       "      <th>max</th>\n",
       "    </tr>\n",
       "  </thead>\n",
       "  <tbody>\n",
       "    <tr>\n",
       "      <td>rougher.input.feed_size</td>\n",
       "      <td>14005.0</td>\n",
       "      <td>60.110518</td>\n",
       "      <td>22.418485</td>\n",
       "      <td>9.659576</td>\n",
       "      <td>48.973027</td>\n",
       "      <td>55.373885</td>\n",
       "      <td>66.080172</td>\n",
       "      <td>484.967466</td>\n",
       "    </tr>\n",
       "    <tr>\n",
       "      <td>rougher.input.feed_size</td>\n",
       "      <td>5289.0</td>\n",
       "      <td>55.951097</td>\n",
       "      <td>19.081758</td>\n",
       "      <td>0.046369</td>\n",
       "      <td>43.906347</td>\n",
       "      <td>50.841029</td>\n",
       "      <td>62.431047</td>\n",
       "      <td>392.494040</td>\n",
       "    </tr>\n",
       "  </tbody>\n",
       "</table>\n",
       "</div>"
      ],
      "text/plain": [
       "                           count       mean        std       min        25%  \\\n",
       "rougher.input.feed_size  14005.0  60.110518  22.418485  9.659576  48.973027   \n",
       "rougher.input.feed_size   5289.0  55.951097  19.081758  0.046369  43.906347   \n",
       "\n",
       "                               50%        75%         max  \n",
       "rougher.input.feed_size  55.373885  66.080172  484.967466  \n",
       "rougher.input.feed_size  50.841029  62.431047  392.494040  "
      ]
     },
     "execution_count": 255,
     "metadata": {},
     "output_type": "execute_result"
    },
    {
     "data": {
      "image/png": "[encoded data removed]",
      "text/plain": [
       "<Figure size 432x288 with 1 Axes>"
      ]
     },
     "metadata": {
      "needs_background": "light"
     },
     "output_type": "display_data"
    }
   ],
   "source": [
    "#Распределения на этапе rougher\n",
    "df_feed_size_rougher = pd.DataFrame([df_train['rougher.input.feed_size'], \n",
    "                                     df_test['rougher.input.feed_size']]).transpose()\n",
    "\n",
    "df_train['rougher.input.feed_size'].hist(bins=100, density=True);\n",
    "df_test['rougher.input.feed_size'].hist(bins=100, density=True);\n",
    "df_feed_size_rougher.describe().transpose()"
   ]
  },
  {
   "cell_type": "code",
   "execution_count": 256,
   "metadata": {},
   "outputs": [
    {
     "data": {
      "text/html": [
       "<div>\n",
       "<style scoped>\n",
       "    .dataframe tbody tr th:only-of-type {\n",
       "        vertical-align: middle;\n",
       "    }\n",
       "\n",
       "    .dataframe tbody tr th {\n",
       "        vertical-align: top;\n",
       "    }\n",
       "\n",
       "    .dataframe thead th {\n",
       "        text-align: right;\n",
       "    }\n",
       "</style>\n",
       "<table border=\"1\" class=\"dataframe\">\n",
       "  <thead>\n",
       "    <tr style=\"text-align: right;\">\n",
       "      <th></th>\n",
       "      <th>count</th>\n",
       "      <th>mean</th>\n",
       "      <th>std</th>\n",
       "      <th>min</th>\n",
       "      <th>25%</th>\n",
       "      <th>50%</th>\n",
       "      <th>75%</th>\n",
       "      <th>max</th>\n",
       "    </tr>\n",
       "  </thead>\n",
       "  <tbody>\n",
       "    <tr>\n",
       "      <td>primary_cleaner.input.feed_size</td>\n",
       "      <td>14149.0</td>\n",
       "      <td>7.322310</td>\n",
       "      <td>0.614062</td>\n",
       "      <td>1.08</td>\n",
       "      <td>6.96</td>\n",
       "      <td>7.29</td>\n",
       "      <td>7.7</td>\n",
       "      <td>10.47</td>\n",
       "    </tr>\n",
       "    <tr>\n",
       "      <td>primary_cleaner.input.feed_size</td>\n",
       "      <td>5290.0</td>\n",
       "      <td>7.266339</td>\n",
       "      <td>0.610219</td>\n",
       "      <td>5.65</td>\n",
       "      <td>6.89</td>\n",
       "      <td>7.25</td>\n",
       "      <td>7.6</td>\n",
       "      <td>15.50</td>\n",
       "    </tr>\n",
       "  </tbody>\n",
       "</table>\n",
       "</div>"
      ],
      "text/plain": [
       "                                   count      mean       std   min   25%  \\\n",
       "primary_cleaner.input.feed_size  14149.0  7.322310  0.614062  1.08  6.96   \n",
       "primary_cleaner.input.feed_size   5290.0  7.266339  0.610219  5.65  6.89   \n",
       "\n",
       "                                  50%  75%    max  \n",
       "primary_cleaner.input.feed_size  7.29  7.7  10.47  \n",
       "primary_cleaner.input.feed_size  7.25  7.6  15.50  "
      ]
     },
     "execution_count": 256,
     "metadata": {},
     "output_type": "execute_result"
    },
    {
     "data": {
      "image/png": "[encoded data removed]",
      "text/plain": [
       "<Figure size 432x288 with 1 Axes>"
      ]
     },
     "metadata": {
      "needs_background": "light"
     },
     "output_type": "display_data"
    }
   ],
   "source": [
    "#Распределения на этапе primary\n",
    "df_feed_size_primary = pd.DataFrame([df_train['primary_cleaner.input.feed_size'], \n",
    "                                     df_test['primary_cleaner.input.feed_size']]).transpose()\n",
    "df_train['primary_cleaner.input.feed_size'].hist(bins=100, density=True);\n",
    "df_test['primary_cleaner.input.feed_size'].hist(bins=100, density=True);\n",
    "df_feed_size_primary.describe().transpose()"
   ]
  },
  {
   "cell_type": "markdown",
   "metadata": {},
   "source": [
    "**Вывод**   \n",
    "Распределение размеров гранул на этапах rougher, primary для обучающей и тестовых выборок совпадают."
   ]
  },
  {
   "cell_type": "markdown",
   "metadata": {},
   "source": [
    "## Модель"
   ]
  },
  {
   "cell_type": "markdown",
   "metadata": {},
   "source": [
    "### Описание модели"
   ]
  },
  {
   "cell_type": "markdown",
   "metadata": {},
   "source": [
    "Разберем основные составляющие процесса (переменные) на обучающей выборке:   \n",
    "\n",
    "**Описание процесса**   \n",
    "1. Процесс состоит из 4 этапов: rougher -> primary -> secondary -> final\n",
    "2. Этап Rougher:\n",
    "   - на вход принимаются 6 параметров: feed_ag, feed_pb, feed_sol, feed_au, feed_rate, feed_size. Это характеристики качества входящей руды.\n",
    "   - далее руда попадает во floatbank (в датасете их 2), который характеризуется параметрами sulfate и xanthate. на примере floatbank10 можно предположить, что процесс проходит в 6 этапов (a-f), каждый из которых характеризуется состояними air & level.\n",
    "   - на выходе получаем концентраты и отвальные хвосты ag, pb, sol, au. Концентраты уходят в следующую стадию производства.   \n",
    "3. Этап Primary:\n",
    "   - на вход принимаются следующий параметры: sulfate, depressant, xanthate, а также feed_size.\n",
    "   - этап первичной очистки проходит в 4 этапа (a-d), каждый из которых характеризуется параметрами air & level.\n",
    "   - в результате также получаем концентраты и отвальные хвосты.\n",
    "4. Этап secondary:\n",
    "   - вторичная обработка проходит в 2 этапа(a-b) в разных floatbanks и также характеризуется своими показателями air & level.\n",
    "5. Этап final:\n",
    "   - На выходе концентраты и отвальные хвосты."
   ]
  },
  {
   "cell_type": "code",
   "execution_count": 257,
   "metadata": {},
   "outputs": [
    {
     "name": "stdout",
     "output_type": "stream",
     "text": [
      "rougher.output.recovery               1.000000\n",
      "rougher.input.floatbank10_xanthate    0.238837\n",
      "rougher.input.floatbank11_xanthate    0.234952\n",
      "rougher.input.feed_sol                0.182890\n",
      "rougher.input.feed_ag                 0.176421\n",
      "rougher.state.floatbank10_a_air       0.173325\n",
      "rougher.input.feed_pb                 0.173070\n",
      "rougher.input.feed_au                 0.156173\n",
      "rougher.state.floatbank10_a_level     0.136499\n",
      "rougher.input.floatbank10_sulfate     0.104509\n",
      "rougher.state.floatbank10_c_air       0.100313\n",
      "rougher.state.floatbank10_e_air       0.092644\n",
      "rougher.state.floatbank10_d_air       0.088645\n",
      "rougher.input.feed_rate               0.086798\n",
      "rougher.input.floatbank11_sulfate     0.083826\n",
      "rougher.state.floatbank10_d_level     0.080815\n",
      "rougher.state.floatbank10_c_level     0.079077\n",
      "rougher.state.floatbank10_b_level     0.078490\n",
      "rougher.state.floatbank10_e_level     0.077880\n",
      "rougher.state.floatbank10_f_level     0.077584\n",
      "Name: rougher.output.recovery, dtype: float64\n"
     ]
    }
   ],
   "source": [
    "#проверим корреляцию целевых значений с остальными параметрами на входе\n",
    "input_state_parameters_rough = ['rougher.output.recovery']\n",
    "columns_names = df_full.columns\n",
    "for i in range(len(columns_names)):\n",
    "    name_splitted = columns_names[i].split('.')\n",
    "    if ('input' in name_splitted or 'state' in name_splitted) and 'rougher' in name_splitted:\n",
    "        input_state_parameters_rough.append(columns_names[i])\n",
    "\n",
    "print(abs(df_train[input_state_parameters_rough].corr())['rougher.output.recovery'].sort_values(ascending=False).head(20))"
   ]
  },
  {
   "cell_type": "code",
   "execution_count": 258,
   "metadata": {},
   "outputs": [
    {
     "name": "stdout",
     "output_type": "stream",
     "text": [
      "final.output.recovery                       1.000000\n",
      "primary_cleaner.input.sulfate               0.398307\n",
      "rougher.input.floatbank10_xanthate          0.333467\n",
      "rougher.input.floatbank11_xanthate          0.328302\n",
      "rougher.input.feed_ag                       0.310574\n",
      "rougher.input.feed_au                       0.308561\n",
      "rougher.input.feed_sol                      0.260813\n",
      "rougher.state.floatbank10_a_air             0.228803\n",
      "primary_cleaner.input.xanthate              0.215482\n",
      "secondary_cleaner.state.floatbank4_a_air    0.207745\n",
      "rougher.input.feed_pb                       0.191266\n",
      "secondary_cleaner.state.floatbank3_a_air    0.187685\n",
      "rougher.state.floatbank10_c_air             0.183622\n",
      "rougher.state.floatbank10_d_air             0.179362\n",
      "secondary_cleaner.state.floatbank4_b_air    0.170838\n",
      "rougher.input.feed_rate                     0.168630\n",
      "primary_cleaner.input.depressant            0.162380\n",
      "secondary_cleaner.state.floatbank2_a_air    0.150131\n",
      "primary_cleaner.state.floatbank8_b_air      0.148896\n",
      "rougher.state.floatbank10_b_air             0.148507\n",
      "Name: final.output.recovery, dtype: float64\n"
     ]
    }
   ],
   "source": [
    "#проверим корреляцию целевых значений с остальными параметрами на входе\n",
    "input_state_parameters = ['final.output.recovery']\n",
    "columns_names = df_full.columns\n",
    "for i in range(len(columns_names)):\n",
    "    name_splitted = columns_names[i].split('.')\n",
    "    if 'input' in name_splitted or 'state' in name_splitted:\n",
    "        input_state_parameters.append(columns_names[i])\n",
    "\n",
    "print(abs(df_train[input_state_parameters].corr())['final.output.recovery'].sort_values(ascending=False).head(20))"
   ]
  },
  {
   "cell_type": "markdown",
   "metadata": {},
   "source": [
    "**Вывод**   \n",
    "1. Оценку модели необходимо разбить на 2 этапа, так как они характеризуются разными факторами и имеют оценку эффективности на выходе каждого из них: \n",
    "   - model_rougher (rougher) и model_final (rougher -> primary -> secondary -> final)\n",
    "2. model_rougher. Предположим, что на конечную концентрацию Au влияют только параметры входящего сырья и floatbank, а все остальные показатели являются лишь производными от их комбинаций, тогда:\n",
    "   - объясняемая переменная - rougher.output.recovery\n",
    "   - объясняющие переменные - 6 факторов rougher.input + 2 параметра floatbank: sulfate, xanthate\n",
    "3. model_final. Предположим, что на дальнейшую очистку влияют опять же только базовые параметры первичной и вторичной очистки, тогда:\n",
    "   - объясняемая переменная - final.output.recovery\n",
    "   - объясняющие переменные - параметры из модели выше, а также характеристики primary очистки sulfate, depressant, xanthate, feed_size\n",
    "4. Для оценки качества модели в тестовую выборку необходимо подтянуть целевые значения."
   ]
  },
  {
   "cell_type": "markdown",
   "metadata": {},
   "source": [
    "### Восполнение отсутствующих данных в тестовой выборке"
   ]
  },
  {
   "cell_type": "markdown",
   "metadata": {},
   "source": [
    "Как показал анализ выше, в тестовой выборке отсутствуют целевые значения rougher.output.recovery и final.output.recovery. Заполним их из датасета df_full, предварительно определив уникальный ключ для каждого из наблюдений. Одним из таких ключей может быть дата, проверим это."
   ]
  },
  {
   "cell_type": "code",
   "execution_count": 259,
   "metadata": {},
   "outputs": [
    {
     "name": "stdout",
     "output_type": "stream",
     "text": [
      "0 0\n"
     ]
    }
   ],
   "source": [
    "#подсчитаем кол-во дубликатов в поле date\n",
    "print(df_full['date'].duplicated().sum(), df_test['date'].duplicated().sum())"
   ]
  },
  {
   "cell_type": "markdown",
   "metadata": {},
   "source": [
    "Как видно, все значения уникальны и могут быть использованы в качестве ключа."
   ]
  },
  {
   "cell_type": "code",
   "execution_count": 260,
   "metadata": {},
   "outputs": [],
   "source": [
    "columns_to_add = ['date', 'rougher.output.recovery', 'final.output.recovery']\n",
    "df_test = df_test.merge(df_full[columns_to_add], on='date', how='left')"
   ]
  },
  {
   "cell_type": "markdown",
   "metadata": {},
   "source": [
    "### Предобработка данных"
   ]
  },
  {
   "cell_type": "markdown",
   "metadata": {},
   "source": [
    "Сформируем датасеты в соответствии с логикой, описанной в пункте 3.1"
   ]
  },
  {
   "cell_type": "code",
   "execution_count": 261,
   "metadata": {},
   "outputs": [],
   "source": [
    "#оставим только необходимые параметры для дальнейшего анализа.\n",
    "rougher_x = ['rougher.input.feed_ag', 'rougher.input.feed_pb', 'rougher.input.feed_rate', \n",
    "             'rougher.input.feed_size', 'rougher.input.feed_sol', 'rougher.input.feed_au', \n",
    "             'rougher.input.floatbank10_sulfate', 'rougher.input.floatbank10_xanthate', \n",
    "             'rougher.input.floatbank11_sulfate', 'rougher.input.floatbank11_xanthate']\n",
    "rougher_y = ['rougher.output.recovery']\n",
    "\n",
    "final_x = ['rougher.input.feed_ag', 'rougher.input.feed_pb', 'rougher.input.feed_rate', \n",
    "           'rougher.input.feed_size', 'rougher.input.feed_sol', 'rougher.input.feed_au', \n",
    "           'rougher.input.floatbank10_sulfate', 'rougher.input.floatbank10_xanthate', \n",
    "           'rougher.input.floatbank11_sulfate', 'rougher.input.floatbank11_xanthate', \n",
    "           'primary_cleaner.input.sulfate', 'primary_cleaner.input.depressant', \n",
    "           'primary_cleaner.input.feed_size', 'primary_cleaner.input.xanthate']\n",
    "final_y = ['final.output.recovery']\n",
    "\n",
    "model_list = rougher_y + final_x + final_y\n",
    "\n",
    "df_train_clean = df_train[model_list]\n",
    "df_test_clean = df_test[model_list]"
   ]
  },
  {
   "cell_type": "markdown",
   "metadata": {},
   "source": [
    "#### Удаление пропусков"
   ]
  },
  {
   "cell_type": "markdown",
   "metadata": {},
   "source": [
    "Прежде чем присутпить к предобработке, оценим кол-во пропусков в новых очищенных датасетах."
   ]
  },
  {
   "cell_type": "code",
   "execution_count": 262,
   "metadata": {},
   "outputs": [
    {
     "name": "stdout",
     "output_type": "stream",
     "text": [
      "Доля пропусков в train: 5.9%\n",
      "Доля пропусков в test: 0.9%\n"
     ]
    }
   ],
   "source": [
    "print(f'Доля пропусков в train: {df_train_clean.isnull().any(axis=1).sum()/len(df_train_clean):.1%}')\n",
    "print(f'Доля пропусков в test: {df_test_clean.isnull().any(axis=1).sum()/len(df_test_clean):.1%}')"
   ]
  },
  {
   "cell_type": "markdown",
   "metadata": {},
   "source": [
    "Поскольку процент пропусков меньше 5% или едва превышает эту границу, от наблюдений с пропусками в датасетах выше можно отказаться."
   ]
  },
  {
   "cell_type": "code",
   "execution_count": 263,
   "metadata": {},
   "outputs": [],
   "source": [
    "df_train_clean = df_train_clean.dropna()\n",
    "df_test_clean = df_test_clean.dropna()"
   ]
  },
  {
   "cell_type": "markdown",
   "metadata": {},
   "source": [
    "#### Анализ выбросов"
   ]
  },
  {
   "cell_type": "code",
   "execution_count": 264,
   "metadata": {
    "scrolled": false
   },
   "outputs": [
    {
     "data": {
      "image/png": "[encoded data removed]",
      "text/plain": [
       "<Figure size 1080x1080 with 16 Axes>"
      ]
     },
     "metadata": {
      "needs_background": "light"
     },
     "output_type": "display_data"
    }
   ],
   "source": [
    "fig, ax = plt.subplots(4,4, figsize=(15,15))\n",
    "#df_train_clean\n",
    "x = 0\n",
    "for i in range(4):\n",
    "    for j in range(4):\n",
    "        ax[i][j].hist(df_train_clean[model_list[x]])\n",
    "        ax[i][j].title.set_text(model_list[x])\n",
    "        x += 1"
   ]
  },
  {
   "cell_type": "markdown",
   "metadata": {},
   "source": [
    "**Вывод**   \n",
    "Графический анализ указывает на следующие возможные выбросы:\n",
    "- rougher.output.recovery < 20\n",
    "- final.output.recovery < 20\n",
    "- rougher.input.feed_ag < 4\n",
    "- rougher.input.feed_rate < 200\n",
    "- rougher.input.feed_size > 100\n",
    "- rougher.input.floatbank10_xanthate < 2\n",
    "- rougher.input.floatbank11_xanthate < 2"
   ]
  },
  {
   "cell_type": "code",
   "execution_count": 267,
   "metadata": {
    "scrolled": false
   },
   "outputs": [
    {
     "name": "stdout",
     "output_type": "stream",
     "text": [
      "(13308, 16)\n",
      "Выбросов: 606, их доля: 4.6%\n"
     ]
    }
   ],
   "source": [
    "to_delete = df_train_clean[(df_train_clean['rougher.output.recovery'] < 20) | \n",
    "               (df_train_clean['final.output.recovery'] < 20) | \n",
    "               (df_train_clean['rougher.input.feed_ag'] < 4) |\n",
    "               (df_train_clean['rougher.input.feed_rate'] < 200) |\n",
    "               (df_train_clean['rougher.input.feed_size'] > 100) |\n",
    "               (df_train_clean['rougher.input.floatbank10_xanthate'] < 2) |\n",
    "               (df_train_clean['rougher.input.floatbank11_xanthate'] < 2)]['rougher.output.recovery'].count()\n",
    "del_share = to_delete / len(df_train_clean)\n",
    "print(df_train_clean.shape)\n",
    "print(f'Выбросов: {to_delete}, их доля: {del_share:.1%}')"
   ]
  },
  {
   "cell_type": "markdown",
   "metadata": {},
   "source": [
    "Доля выбросов составила меньше 5%, поэтому можно избавиться от подозрительных значений."
   ]
  },
  {
   "cell_type": "code",
   "execution_count": 268,
   "metadata": {},
   "outputs": [
    {
     "name": "stdout",
     "output_type": "stream",
     "text": [
      "(12702, 16)\n"
     ]
    }
   ],
   "source": [
    "df_train_clean = df_train_clean[(df_train_clean['rougher.output.recovery'] >= 20) & \n",
    "               (df_train_clean['final.output.recovery'] >= 20) & \n",
    "               (df_train_clean['rougher.input.feed_ag'] >= 4) &\n",
    "               (df_train_clean['rougher.input.feed_rate'] >= 200) &\n",
    "               (df_train_clean['rougher.input.feed_size'] <= 100) &\n",
    "               (df_train_clean['rougher.input.floatbank10_xanthate'] >= 2) &\n",
    "               (df_train_clean['rougher.input.floatbank11_xanthate'] >= 2)]\n",
    "\n",
    "print(df_train_clean.shape)"
   ]
  },
  {
   "cell_type": "code",
   "execution_count": 269,
   "metadata": {
    "scrolled": false
   },
   "outputs": [
    {
     "data": {
      "image/png": "[encoded data removed]",
      "text/plain": [
       "<Figure size 1080x1080 with 16 Axes>"
      ]
     },
     "metadata": {
      "needs_background": "light"
     },
     "output_type": "display_data"
    }
   ],
   "source": [
    "fig, ax = plt.subplots(4,4, figsize=(15,15))\n",
    "#df_test_clean\n",
    "x = 0\n",
    "for i in range(4):\n",
    "    for j in range(4):\n",
    "        ax[i][j].hist(df_test_clean[model_list[x]])\n",
    "        ax[i][j].title.set_text(model_list[x])\n",
    "        x += 1"
   ]
  },
  {
   "cell_type": "markdown",
   "metadata": {},
   "source": [
    "**Вывод**   \n",
    "Природа выбросов похожа на обучающую выборку => проделаем все то же самое."
   ]
  },
  {
   "cell_type": "code",
   "execution_count": 270,
   "metadata": {
    "scrolled": false
   },
   "outputs": [
    {
     "name": "stdout",
     "output_type": "stream",
     "text": [
      "(5241, 16)\n",
      "Выбросов: 276, их доля: 5.3%\n"
     ]
    }
   ],
   "source": [
    "to_delete = df_test_clean[(df_test_clean['rougher.output.recovery'] < 20) | \n",
    "               (df_test_clean['final.output.recovery'] < 20) | \n",
    "               (df_test_clean['rougher.input.feed_ag'] < 4) |\n",
    "               (df_test_clean['rougher.input.feed_rate'] < 200) |\n",
    "               (df_test_clean['rougher.input.feed_size'] > 100) |\n",
    "               (df_test_clean['rougher.input.floatbank10_xanthate'] < 2) |\n",
    "               (df_test_clean['rougher.input.floatbank11_xanthate'] < 2)]['rougher.output.recovery'].count()\n",
    "\n",
    "del_share = to_delete / len(df_test_clean)\n",
    "print(df_test_clean.shape)\n",
    "print(f'Выбросов: {to_delete}, их доля: {del_share:.1%}')"
   ]
  },
  {
   "cell_type": "markdown",
   "metadata": {},
   "source": [
    "Доля выбросов составила чуть больше 5%, поэтому можно избавиться от подозрительных значений."
   ]
  },
  {
   "cell_type": "code",
   "execution_count": 271,
   "metadata": {},
   "outputs": [
    {
     "name": "stdout",
     "output_type": "stream",
     "text": [
      "(4965, 16)\n"
     ]
    }
   ],
   "source": [
    "df_test_clean = df_test_clean[(df_test_clean['rougher.output.recovery'] >= 20) & \n",
    "               (df_test_clean['final.output.recovery'] >= 20) & \n",
    "               (df_test_clean['rougher.input.feed_ag'] >= 4) &\n",
    "               (df_test_clean['rougher.input.feed_rate'] >= 200) &\n",
    "               (df_test_clean['rougher.input.feed_size'] <= 100) &\n",
    "               (df_test_clean['rougher.input.floatbank10_xanthate'] >= 2) &\n",
    "               (df_test_clean['rougher.input.floatbank11_xanthate'] >= 2)]\n",
    "\n",
    "print(df_test_clean.shape)"
   ]
  },
  {
   "cell_type": "markdown",
   "metadata": {},
   "source": [
    "#### Проверка на мультиколлинеарность"
   ]
  },
  {
   "cell_type": "code",
   "execution_count": 272,
   "metadata": {},
   "outputs": [
    {
     "data": {
      "text/html": [
       "<div>\n",
       "<style scoped>\n",
       "    .dataframe tbody tr th:only-of-type {\n",
       "        vertical-align: middle;\n",
       "    }\n",
       "\n",
       "    .dataframe tbody tr th {\n",
       "        vertical-align: top;\n",
       "    }\n",
       "\n",
       "    .dataframe thead th {\n",
       "        text-align: right;\n",
       "    }\n",
       "</style>\n",
       "<table border=\"1\" class=\"dataframe\">\n",
       "  <thead>\n",
       "    <tr style=\"text-align: right;\">\n",
       "      <th></th>\n",
       "      <th>rougher.input.feed_ag</th>\n",
       "      <th>rougher.input.feed_pb</th>\n",
       "      <th>rougher.input.feed_rate</th>\n",
       "      <th>rougher.input.feed_size</th>\n",
       "      <th>rougher.input.feed_sol</th>\n",
       "      <th>rougher.input.feed_au</th>\n",
       "      <th>rougher.input.floatbank10_sulfate</th>\n",
       "      <th>rougher.input.floatbank10_xanthate</th>\n",
       "      <th>rougher.input.floatbank11_sulfate</th>\n",
       "      <th>rougher.input.floatbank11_xanthate</th>\n",
       "      <th>primary_cleaner.input.sulfate</th>\n",
       "      <th>primary_cleaner.input.depressant</th>\n",
       "      <th>primary_cleaner.input.feed_size</th>\n",
       "      <th>primary_cleaner.input.xanthate</th>\n",
       "    </tr>\n",
       "  </thead>\n",
       "  <tbody>\n",
       "    <tr>\n",
       "      <td>rougher.input.feed_ag</td>\n",
       "      <td>1.000000</td>\n",
       "      <td>0.477684</td>\n",
       "      <td>-0.227377</td>\n",
       "      <td>-0.097485</td>\n",
       "      <td>0.068964</td>\n",
       "      <td>0.850536</td>\n",
       "      <td>0.128804</td>\n",
       "      <td>0.135738</td>\n",
       "      <td>0.128889</td>\n",
       "      <td>0.129309</td>\n",
       "      <td>0.584564</td>\n",
       "      <td>0.500843</td>\n",
       "      <td>0.107584</td>\n",
       "      <td>0.256681</td>\n",
       "    </tr>\n",
       "    <tr>\n",
       "      <td>rougher.input.feed_pb</td>\n",
       "      <td>0.477684</td>\n",
       "      <td>1.000000</td>\n",
       "      <td>-0.239803</td>\n",
       "      <td>-0.043638</td>\n",
       "      <td>0.054950</td>\n",
       "      <td>0.679945</td>\n",
       "      <td>0.258392</td>\n",
       "      <td>-0.005189</td>\n",
       "      <td>0.259017</td>\n",
       "      <td>-0.014895</td>\n",
       "      <td>0.601032</td>\n",
       "      <td>0.277923</td>\n",
       "      <td>-0.122060</td>\n",
       "      <td>-0.031695</td>\n",
       "    </tr>\n",
       "    <tr>\n",
       "      <td>rougher.input.feed_rate</td>\n",
       "      <td>-0.227377</td>\n",
       "      <td>-0.239803</td>\n",
       "      <td>1.000000</td>\n",
       "      <td>0.627831</td>\n",
       "      <td>0.554493</td>\n",
       "      <td>-0.316258</td>\n",
       "      <td>0.027793</td>\n",
       "      <td>0.548298</td>\n",
       "      <td>0.029435</td>\n",
       "      <td>0.537604</td>\n",
       "      <td>0.153733</td>\n",
       "      <td>0.017305</td>\n",
       "      <td>0.000435</td>\n",
       "      <td>0.237778</td>\n",
       "    </tr>\n",
       "    <tr>\n",
       "      <td>rougher.input.feed_size</td>\n",
       "      <td>-0.097485</td>\n",
       "      <td>-0.043638</td>\n",
       "      <td>0.627831</td>\n",
       "      <td>1.000000</td>\n",
       "      <td>0.516751</td>\n",
       "      <td>-0.208415</td>\n",
       "      <td>-0.211822</td>\n",
       "      <td>0.455859</td>\n",
       "      <td>-0.210880</td>\n",
       "      <td>0.441930</td>\n",
       "      <td>0.134567</td>\n",
       "      <td>0.025166</td>\n",
       "      <td>-0.109198</td>\n",
       "      <td>0.254469</td>\n",
       "    </tr>\n",
       "    <tr>\n",
       "      <td>rougher.input.feed_sol</td>\n",
       "      <td>0.068964</td>\n",
       "      <td>0.054950</td>\n",
       "      <td>0.554493</td>\n",
       "      <td>0.516751</td>\n",
       "      <td>1.000000</td>\n",
       "      <td>0.033678</td>\n",
       "      <td>0.163265</td>\n",
       "      <td>0.279828</td>\n",
       "      <td>0.164585</td>\n",
       "      <td>0.271654</td>\n",
       "      <td>0.338099</td>\n",
       "      <td>0.009228</td>\n",
       "      <td>0.014859</td>\n",
       "      <td>0.146885</td>\n",
       "    </tr>\n",
       "    <tr>\n",
       "      <td>rougher.input.feed_au</td>\n",
       "      <td>0.850536</td>\n",
       "      <td>0.679945</td>\n",
       "      <td>-0.316258</td>\n",
       "      <td>-0.208415</td>\n",
       "      <td>0.033678</td>\n",
       "      <td>1.000000</td>\n",
       "      <td>0.281163</td>\n",
       "      <td>0.055669</td>\n",
       "      <td>0.281325</td>\n",
       "      <td>0.055845</td>\n",
       "      <td>0.667271</td>\n",
       "      <td>0.449229</td>\n",
       "      <td>0.115366</td>\n",
       "      <td>0.154877</td>\n",
       "    </tr>\n",
       "    <tr>\n",
       "      <td>rougher.input.floatbank10_sulfate</td>\n",
       "      <td>0.128804</td>\n",
       "      <td>0.258392</td>\n",
       "      <td>0.027793</td>\n",
       "      <td>-0.211822</td>\n",
       "      <td>0.163265</td>\n",
       "      <td>0.281163</td>\n",
       "      <td>1.000000</td>\n",
       "      <td>-0.189026</td>\n",
       "      <td>0.998035</td>\n",
       "      <td>-0.190204</td>\n",
       "      <td>0.415479</td>\n",
       "      <td>0.119046</td>\n",
       "      <td>0.086046</td>\n",
       "      <td>-0.162396</td>\n",
       "    </tr>\n",
       "    <tr>\n",
       "      <td>rougher.input.floatbank10_xanthate</td>\n",
       "      <td>0.135738</td>\n",
       "      <td>-0.005189</td>\n",
       "      <td>0.548298</td>\n",
       "      <td>0.455859</td>\n",
       "      <td>0.279828</td>\n",
       "      <td>0.055669</td>\n",
       "      <td>-0.189026</td>\n",
       "      <td>1.000000</td>\n",
       "      <td>-0.188529</td>\n",
       "      <td>0.981157</td>\n",
       "      <td>0.287235</td>\n",
       "      <td>0.335012</td>\n",
       "      <td>-0.050971</td>\n",
       "      <td>0.373691</td>\n",
       "    </tr>\n",
       "    <tr>\n",
       "      <td>rougher.input.floatbank11_sulfate</td>\n",
       "      <td>0.128889</td>\n",
       "      <td>0.259017</td>\n",
       "      <td>0.029435</td>\n",
       "      <td>-0.210880</td>\n",
       "      <td>0.164585</td>\n",
       "      <td>0.281325</td>\n",
       "      <td>0.998035</td>\n",
       "      <td>-0.188529</td>\n",
       "      <td>1.000000</td>\n",
       "      <td>-0.187016</td>\n",
       "      <td>0.417123</td>\n",
       "      <td>0.119243</td>\n",
       "      <td>0.086609</td>\n",
       "      <td>-0.161293</td>\n",
       "    </tr>\n",
       "    <tr>\n",
       "      <td>rougher.input.floatbank11_xanthate</td>\n",
       "      <td>0.129309</td>\n",
       "      <td>-0.014895</td>\n",
       "      <td>0.537604</td>\n",
       "      <td>0.441930</td>\n",
       "      <td>0.271654</td>\n",
       "      <td>0.055845</td>\n",
       "      <td>-0.190204</td>\n",
       "      <td>0.981157</td>\n",
       "      <td>-0.187016</td>\n",
       "      <td>1.000000</td>\n",
       "      <td>0.277917</td>\n",
       "      <td>0.353739</td>\n",
       "      <td>-0.045374</td>\n",
       "      <td>0.381883</td>\n",
       "    </tr>\n",
       "    <tr>\n",
       "      <td>primary_cleaner.input.sulfate</td>\n",
       "      <td>0.584564</td>\n",
       "      <td>0.601032</td>\n",
       "      <td>0.153733</td>\n",
       "      <td>0.134567</td>\n",
       "      <td>0.338099</td>\n",
       "      <td>0.667271</td>\n",
       "      <td>0.415479</td>\n",
       "      <td>0.287235</td>\n",
       "      <td>0.417123</td>\n",
       "      <td>0.277917</td>\n",
       "      <td>1.000000</td>\n",
       "      <td>0.425885</td>\n",
       "      <td>0.106099</td>\n",
       "      <td>0.216382</td>\n",
       "    </tr>\n",
       "    <tr>\n",
       "      <td>primary_cleaner.input.depressant</td>\n",
       "      <td>0.500843</td>\n",
       "      <td>0.277923</td>\n",
       "      <td>0.017305</td>\n",
       "      <td>0.025166</td>\n",
       "      <td>0.009228</td>\n",
       "      <td>0.449229</td>\n",
       "      <td>0.119046</td>\n",
       "      <td>0.335012</td>\n",
       "      <td>0.119243</td>\n",
       "      <td>0.353739</td>\n",
       "      <td>0.425885</td>\n",
       "      <td>1.000000</td>\n",
       "      <td>0.141240</td>\n",
       "      <td>0.245222</td>\n",
       "    </tr>\n",
       "    <tr>\n",
       "      <td>primary_cleaner.input.feed_size</td>\n",
       "      <td>0.107584</td>\n",
       "      <td>-0.122060</td>\n",
       "      <td>0.000435</td>\n",
       "      <td>-0.109198</td>\n",
       "      <td>0.014859</td>\n",
       "      <td>0.115366</td>\n",
       "      <td>0.086046</td>\n",
       "      <td>-0.050971</td>\n",
       "      <td>0.086609</td>\n",
       "      <td>-0.045374</td>\n",
       "      <td>0.106099</td>\n",
       "      <td>0.141240</td>\n",
       "      <td>1.000000</td>\n",
       "      <td>-0.041344</td>\n",
       "    </tr>\n",
       "    <tr>\n",
       "      <td>primary_cleaner.input.xanthate</td>\n",
       "      <td>0.256681</td>\n",
       "      <td>-0.031695</td>\n",
       "      <td>0.237778</td>\n",
       "      <td>0.254469</td>\n",
       "      <td>0.146885</td>\n",
       "      <td>0.154877</td>\n",
       "      <td>-0.162396</td>\n",
       "      <td>0.373691</td>\n",
       "      <td>-0.161293</td>\n",
       "      <td>0.381883</td>\n",
       "      <td>0.216382</td>\n",
       "      <td>0.245222</td>\n",
       "      <td>-0.041344</td>\n",
       "      <td>1.000000</td>\n",
       "    </tr>\n",
       "  </tbody>\n",
       "</table>\n",
       "</div>"
      ],
      "text/plain": [
       "                                    rougher.input.feed_ag  \\\n",
       "rougher.input.feed_ag                            1.000000   \n",
       "rougher.input.feed_pb                            0.477684   \n",
       "rougher.input.feed_rate                         -0.227377   \n",
       "rougher.input.feed_size                         -0.097485   \n",
       "rougher.input.feed_sol                           0.068964   \n",
       "rougher.input.feed_au                            0.850536   \n",
       "rougher.input.floatbank10_sulfate                0.128804   \n",
       "rougher.input.floatbank10_xanthate               0.135738   \n",
       "rougher.input.floatbank11_sulfate                0.128889   \n",
       "rougher.input.floatbank11_xanthate               0.129309   \n",
       "primary_cleaner.input.sulfate                    0.584564   \n",
       "primary_cleaner.input.depressant                 0.500843   \n",
       "primary_cleaner.input.feed_size                  0.107584   \n",
       "primary_cleaner.input.xanthate                   0.256681   \n",
       "\n",
       "                                    rougher.input.feed_pb  \\\n",
       "rougher.input.feed_ag                            0.477684   \n",
       "rougher.input.feed_pb                            1.000000   \n",
       "rougher.input.feed_rate                         -0.239803   \n",
       "rougher.input.feed_size                         -0.043638   \n",
       "rougher.input.feed_sol                           0.054950   \n",
       "rougher.input.feed_au                            0.679945   \n",
       "rougher.input.floatbank10_sulfate                0.258392   \n",
       "rougher.input.floatbank10_xanthate              -0.005189   \n",
       "rougher.input.floatbank11_sulfate                0.259017   \n",
       "rougher.input.floatbank11_xanthate              -0.014895   \n",
       "primary_cleaner.input.sulfate                    0.601032   \n",
       "primary_cleaner.input.depressant                 0.277923   \n",
       "primary_cleaner.input.feed_size                 -0.122060   \n",
       "primary_cleaner.input.xanthate                  -0.031695   \n",
       "\n",
       "                                    rougher.input.feed_rate  \\\n",
       "rougher.input.feed_ag                             -0.227377   \n",
       "rougher.input.feed_pb                             -0.239803   \n",
       "rougher.input.feed_rate                            1.000000   \n",
       "rougher.input.feed_size                            0.627831   \n",
       "rougher.input.feed_sol                             0.554493   \n",
       "rougher.input.feed_au                             -0.316258   \n",
       "rougher.input.floatbank10_sulfate                  0.027793   \n",
       "rougher.input.floatbank10_xanthate                 0.548298   \n",
       "rougher.input.floatbank11_sulfate                  0.029435   \n",
       "rougher.input.floatbank11_xanthate                 0.537604   \n",
       "primary_cleaner.input.sulfate                      0.153733   \n",
       "primary_cleaner.input.depressant                   0.017305   \n",
       "primary_cleaner.input.feed_size                    0.000435   \n",
       "primary_cleaner.input.xanthate                     0.237778   \n",
       "\n",
       "                                    rougher.input.feed_size  \\\n",
       "rougher.input.feed_ag                             -0.097485   \n",
       "rougher.input.feed_pb                             -0.043638   \n",
       "rougher.input.feed_rate                            0.627831   \n",
       "rougher.input.feed_size                            1.000000   \n",
       "rougher.input.feed_sol                             0.516751   \n",
       "rougher.input.feed_au                             -0.208415   \n",
       "rougher.input.floatbank10_sulfate                 -0.211822   \n",
       "rougher.input.floatbank10_xanthate                 0.455859   \n",
       "rougher.input.floatbank11_sulfate                 -0.210880   \n",
       "rougher.input.floatbank11_xanthate                 0.441930   \n",
       "primary_cleaner.input.sulfate                      0.134567   \n",
       "primary_cleaner.input.depressant                   0.025166   \n",
       "primary_cleaner.input.feed_size                   -0.109198   \n",
       "primary_cleaner.input.xanthate                     0.254469   \n",
       "\n",
       "                                    rougher.input.feed_sol  \\\n",
       "rougher.input.feed_ag                             0.068964   \n",
       "rougher.input.feed_pb                             0.054950   \n",
       "rougher.input.feed_rate                           0.554493   \n",
       "rougher.input.feed_size                           0.516751   \n",
       "rougher.input.feed_sol                            1.000000   \n",
       "rougher.input.feed_au                             0.033678   \n",
       "rougher.input.floatbank10_sulfate                 0.163265   \n",
       "rougher.input.floatbank10_xanthate                0.279828   \n",
       "rougher.input.floatbank11_sulfate                 0.164585   \n",
       "rougher.input.floatbank11_xanthate                0.271654   \n",
       "primary_cleaner.input.sulfate                     0.338099   \n",
       "primary_cleaner.input.depressant                  0.009228   \n",
       "primary_cleaner.input.feed_size                   0.014859   \n",
       "primary_cleaner.input.xanthate                    0.146885   \n",
       "\n",
       "                                    rougher.input.feed_au  \\\n",
       "rougher.input.feed_ag                            0.850536   \n",
       "rougher.input.feed_pb                            0.679945   \n",
       "rougher.input.feed_rate                         -0.316258   \n",
       "rougher.input.feed_size                         -0.208415   \n",
       "rougher.input.feed_sol                           0.033678   \n",
       "rougher.input.feed_au                            1.000000   \n",
       "rougher.input.floatbank10_sulfate                0.281163   \n",
       "rougher.input.floatbank10_xanthate               0.055669   \n",
       "rougher.input.floatbank11_sulfate                0.281325   \n",
       "rougher.input.floatbank11_xanthate               0.055845   \n",
       "primary_cleaner.input.sulfate                    0.667271   \n",
       "primary_cleaner.input.depressant                 0.449229   \n",
       "primary_cleaner.input.feed_size                  0.115366   \n",
       "primary_cleaner.input.xanthate                   0.154877   \n",
       "\n",
       "                                    rougher.input.floatbank10_sulfate  \\\n",
       "rougher.input.feed_ag                                        0.128804   \n",
       "rougher.input.feed_pb                                        0.258392   \n",
       "rougher.input.feed_rate                                      0.027793   \n",
       "rougher.input.feed_size                                     -0.211822   \n",
       "rougher.input.feed_sol                                       0.163265   \n",
       "rougher.input.feed_au                                        0.281163   \n",
       "rougher.input.floatbank10_sulfate                            1.000000   \n",
       "rougher.input.floatbank10_xanthate                          -0.189026   \n",
       "rougher.input.floatbank11_sulfate                            0.998035   \n",
       "rougher.input.floatbank11_xanthate                          -0.190204   \n",
       "primary_cleaner.input.sulfate                                0.415479   \n",
       "primary_cleaner.input.depressant                             0.119046   \n",
       "primary_cleaner.input.feed_size                              0.086046   \n",
       "primary_cleaner.input.xanthate                              -0.162396   \n",
       "\n",
       "                                    rougher.input.floatbank10_xanthate  \\\n",
       "rougher.input.feed_ag                                         0.135738   \n",
       "rougher.input.feed_pb                                        -0.005189   \n",
       "rougher.input.feed_rate                                       0.548298   \n",
       "rougher.input.feed_size                                       0.455859   \n",
       "rougher.input.feed_sol                                        0.279828   \n",
       "rougher.input.feed_au                                         0.055669   \n",
       "rougher.input.floatbank10_sulfate                            -0.189026   \n",
       "rougher.input.floatbank10_xanthate                            1.000000   \n",
       "rougher.input.floatbank11_sulfate                            -0.188529   \n",
       "rougher.input.floatbank11_xanthate                            0.981157   \n",
       "primary_cleaner.input.sulfate                                 0.287235   \n",
       "primary_cleaner.input.depressant                              0.335012   \n",
       "primary_cleaner.input.feed_size                              -0.050971   \n",
       "primary_cleaner.input.xanthate                                0.373691   \n",
       "\n",
       "                                    rougher.input.floatbank11_sulfate  \\\n",
       "rougher.input.feed_ag                                        0.128889   \n",
       "rougher.input.feed_pb                                        0.259017   \n",
       "rougher.input.feed_rate                                      0.029435   \n",
       "rougher.input.feed_size                                     -0.210880   \n",
       "rougher.input.feed_sol                                       0.164585   \n",
       "rougher.input.feed_au                                        0.281325   \n",
       "rougher.input.floatbank10_sulfate                            0.998035   \n",
       "rougher.input.floatbank10_xanthate                          -0.188529   \n",
       "rougher.input.floatbank11_sulfate                            1.000000   \n",
       "rougher.input.floatbank11_xanthate                          -0.187016   \n",
       "primary_cleaner.input.sulfate                                0.417123   \n",
       "primary_cleaner.input.depressant                             0.119243   \n",
       "primary_cleaner.input.feed_size                              0.086609   \n",
       "primary_cleaner.input.xanthate                              -0.161293   \n",
       "\n",
       "                                    rougher.input.floatbank11_xanthate  \\\n",
       "rougher.input.feed_ag                                         0.129309   \n",
       "rougher.input.feed_pb                                        -0.014895   \n",
       "rougher.input.feed_rate                                       0.537604   \n",
       "rougher.input.feed_size                                       0.441930   \n",
       "rougher.input.feed_sol                                        0.271654   \n",
       "rougher.input.feed_au                                         0.055845   \n",
       "rougher.input.floatbank10_sulfate                            -0.190204   \n",
       "rougher.input.floatbank10_xanthate                            0.981157   \n",
       "rougher.input.floatbank11_sulfate                            -0.187016   \n",
       "rougher.input.floatbank11_xanthate                            1.000000   \n",
       "primary_cleaner.input.sulfate                                 0.277917   \n",
       "primary_cleaner.input.depressant                              0.353739   \n",
       "primary_cleaner.input.feed_size                              -0.045374   \n",
       "primary_cleaner.input.xanthate                                0.381883   \n",
       "\n",
       "                                    primary_cleaner.input.sulfate  \\\n",
       "rougher.input.feed_ag                                    0.584564   \n",
       "rougher.input.feed_pb                                    0.601032   \n",
       "rougher.input.feed_rate                                  0.153733   \n",
       "rougher.input.feed_size                                  0.134567   \n",
       "rougher.input.feed_sol                                   0.338099   \n",
       "rougher.input.feed_au                                    0.667271   \n",
       "rougher.input.floatbank10_sulfate                        0.415479   \n",
       "rougher.input.floatbank10_xanthate                       0.287235   \n",
       "rougher.input.floatbank11_sulfate                        0.417123   \n",
       "rougher.input.floatbank11_xanthate                       0.277917   \n",
       "primary_cleaner.input.sulfate                            1.000000   \n",
       "primary_cleaner.input.depressant                         0.425885   \n",
       "primary_cleaner.input.feed_size                          0.106099   \n",
       "primary_cleaner.input.xanthate                           0.216382   \n",
       "\n",
       "                                    primary_cleaner.input.depressant  \\\n",
       "rougher.input.feed_ag                                       0.500843   \n",
       "rougher.input.feed_pb                                       0.277923   \n",
       "rougher.input.feed_rate                                     0.017305   \n",
       "rougher.input.feed_size                                     0.025166   \n",
       "rougher.input.feed_sol                                      0.009228   \n",
       "rougher.input.feed_au                                       0.449229   \n",
       "rougher.input.floatbank10_sulfate                           0.119046   \n",
       "rougher.input.floatbank10_xanthate                          0.335012   \n",
       "rougher.input.floatbank11_sulfate                           0.119243   \n",
       "rougher.input.floatbank11_xanthate                          0.353739   \n",
       "primary_cleaner.input.sulfate                               0.425885   \n",
       "primary_cleaner.input.depressant                            1.000000   \n",
       "primary_cleaner.input.feed_size                             0.141240   \n",
       "primary_cleaner.input.xanthate                              0.245222   \n",
       "\n",
       "                                    primary_cleaner.input.feed_size  \\\n",
       "rougher.input.feed_ag                                      0.107584   \n",
       "rougher.input.feed_pb                                     -0.122060   \n",
       "rougher.input.feed_rate                                    0.000435   \n",
       "rougher.input.feed_size                                   -0.109198   \n",
       "rougher.input.feed_sol                                     0.014859   \n",
       "rougher.input.feed_au                                      0.115366   \n",
       "rougher.input.floatbank10_sulfate                          0.086046   \n",
       "rougher.input.floatbank10_xanthate                        -0.050971   \n",
       "rougher.input.floatbank11_sulfate                          0.086609   \n",
       "rougher.input.floatbank11_xanthate                        -0.045374   \n",
       "primary_cleaner.input.sulfate                              0.106099   \n",
       "primary_cleaner.input.depressant                           0.141240   \n",
       "primary_cleaner.input.feed_size                            1.000000   \n",
       "primary_cleaner.input.xanthate                            -0.041344   \n",
       "\n",
       "                                    primary_cleaner.input.xanthate  \n",
       "rougher.input.feed_ag                                     0.256681  \n",
       "rougher.input.feed_pb                                    -0.031695  \n",
       "rougher.input.feed_rate                                   0.237778  \n",
       "rougher.input.feed_size                                   0.254469  \n",
       "rougher.input.feed_sol                                    0.146885  \n",
       "rougher.input.feed_au                                     0.154877  \n",
       "rougher.input.floatbank10_sulfate                        -0.162396  \n",
       "rougher.input.floatbank10_xanthate                        0.373691  \n",
       "rougher.input.floatbank11_sulfate                        -0.161293  \n",
       "rougher.input.floatbank11_xanthate                        0.381883  \n",
       "primary_cleaner.input.sulfate                             0.216382  \n",
       "primary_cleaner.input.depressant                          0.245222  \n",
       "primary_cleaner.input.feed_size                          -0.041344  \n",
       "primary_cleaner.input.xanthate                            1.000000  "
      ]
     },
     "execution_count": 272,
     "metadata": {},
     "output_type": "execute_result"
    }
   ],
   "source": [
    "df_train_clean_x = df_train_clean.drop(['rougher.output.recovery', 'final.output.recovery'], axis=1)\n",
    "df_train_clean_x.corr()"
   ]
  },
  {
   "cell_type": "markdown",
   "metadata": {},
   "source": [
    "**Вывод**   \n",
    "Наиболее высокий абсолютный коэффициент корреляции между rougher.input.feed_ag и rougher.input.feed_au (0.85), что может свидетельствовать только о качестве входящей руды => мультиколлинеарности факторов не обнаружено."
   ]
  },
  {
   "cell_type": "markdown",
   "metadata": {},
   "source": [
    "### Функция sMAPE"
   ]
  },
  {
   "cell_type": "code",
   "execution_count": 273,
   "metadata": {},
   "outputs": [],
   "source": [
    "def sMAPE_model(target, predicted):\n",
    "    total = 0\n",
    "    for i in range(len(target)):\n",
    "        total += abs(target[i] - predicted[i]) / (abs(target[i]) + abs(predicted[i])) * 2\n",
    "    #не домножаем на 100, так как вывод результата будет в %\n",
    "    coeff = total / len(target)\n",
    "    return coeff"
   ]
  },
  {
   "cell_type": "markdown",
   "metadata": {},
   "source": [
    "### Подбор модели"
   ]
  },
  {
   "cell_type": "markdown",
   "metadata": {},
   "source": [
    "#### Поиск лучшей модели"
   ]
  },
  {
   "cell_type": "markdown",
   "metadata": {},
   "source": [
    "В рамках подбора оптимальной модели рассмотрим следующие:\n",
    "- LinearRegression\n",
    "- DecisionTreeRegressor\n",
    "- RandomForestRegressor"
   ]
  },
  {
   "cell_type": "code",
   "execution_count": 304,
   "metadata": {
    "scrolled": true
   },
   "outputs": [
    {
     "name": "stdout",
     "output_type": "stream",
     "text": [
      "best_n: 4\n",
      "cross_val_score weighted: -0.27\n",
      "\n"
     ]
    }
   ],
   "source": [
    "datasets_x = (rougher_x, final_x)\n",
    "datasets_y = (rougher_y, final_y)\n",
    "names = ['rougher', 'final']\n",
    "\n",
    "#сначала подберем параметры для RandomForestRegressor\n",
    "max_score = -100\n",
    "best_n = 1\n",
    "for n in range(1, 5):\n",
    "    scores = []\n",
    "    model = RandomForestRegressor(random_state=12345, n_estimators=n)\n",
    "    for i in range(len(datasets_y)):\n",
    "        x_train = df_train_clean[datasets_x[i]].reset_index(drop=True)\n",
    "        y_train = df_train_clean[datasets_y[i]].reset_index(drop=True).squeeze()\n",
    "        score = cross_val_score(model, x_train, y_train, cv=5).mean()\n",
    "        scores.append(score)\n",
    "    score_weighted = 0.25 * scores[0] + 0.75 * scores[1]\n",
    "    if score_weighted > max_score:\n",
    "        max_score = score_weighted\n",
    "        best_n = n\n",
    "print(f'best_n: {best_n}')\n",
    "print(f'cross_val_score weighted: {max_score:.2f}')\n",
    "print()"
   ]
  },
  {
   "cell_type": "markdown",
   "metadata": {},
   "source": [
    "Сравним все модели между собой и выберем лучшую."
   ]
  },
  {
   "cell_type": "code",
   "execution_count": 305,
   "metadata": {},
   "outputs": [
    {
     "name": "stdout",
     "output_type": "stream",
     "text": [
      "Лучшая модель - LinearRegression(copy_X=True, fit_intercept=True, n_jobs=None, normalize=False)\n",
      "cross_val_score weighted: 0.06\n"
     ]
    }
   ],
   "source": [
    "model_1 = LinearRegression()\n",
    "model_2 = DecisionTreeRegressor(random_state=12345)\n",
    "model_3 = RandomForestRegressor(random_state=12345, n_estimators=best_n)\n",
    "models = [model_1, model_2, model_3]\n",
    "\n",
    "max_score = -100\n",
    "for model in models:\n",
    "    scores = []\n",
    "    for i in range(len(datasets_y)):\n",
    "        x_train = df_train_clean[datasets_x[i]].reset_index(drop=True)\n",
    "        y_train = df_train_clean[datasets_y[i]].reset_index(drop=True).squeeze()\n",
    "        score = cross_val_score(model, x_train, y_train, cv=5).mean()\n",
    "        scores.append(score)\n",
    "    score_weighted = 0.25 * scores[0] + 0.75 * scores[1]\n",
    "    if score_weighted > max_score:\n",
    "        best_model = model\n",
    "        max_score = score_weighted\n",
    "print(f'Лучшая модель - {best_model}')\n",
    "print(f'cross_val_score weighted: {max_score:.2f}')"
   ]
  },
  {
   "cell_type": "markdown",
   "metadata": {},
   "source": [
    "**Вывод**   \n",
    "На обучающей выборке лучше всех показала себя модель линейной регрессии."
   ]
  },
  {
   "cell_type": "markdown",
   "metadata": {},
   "source": [
    "#### Оценка на тестовой выборке"
   ]
  },
  {
   "cell_type": "code",
   "execution_count": 308,
   "metadata": {},
   "outputs": [
    {
     "name": "stdout",
     "output_type": "stream",
     "text": [
      "r_2 score: 0.04\n",
      "rmse: 4.72\n",
      "sMAPE: 4.23%\n",
      "\n",
      "r_2 score: -0.17\n",
      "rmse: 7.23\n",
      "sMAPE: 7.74%\n",
      "\n",
      "Итоговый SMAPE модели равен 6.87%\n"
     ]
    }
   ],
   "source": [
    "datasets_x = (rougher_x, final_x)\n",
    "datasets_y = (rougher_y, final_y)\n",
    "model = best_model\n",
    "\n",
    "sMAPEs = []\n",
    "for i in range(len(datasets_y)):\n",
    "    x_train = df_train_clean[datasets_x[i]].reset_index(drop=True)\n",
    "    y_train = df_train_clean[datasets_y[i]].reset_index(drop=True).squeeze()\n",
    "    x_test = df_test_clean[datasets_x[i]].reset_index(drop=True)\n",
    "    y_test = df_test_clean[datasets_y[i]].reset_index(drop=True).squeeze()\n",
    "    \n",
    "    model.fit(x_train, y_train)\n",
    "    y_est = pd.Series(model.predict(x_test))\n",
    "    r_2 = r2_score(y_test, y_est)\n",
    "    mse = mean_squared_error(y_test, y_est)\n",
    "    rmse = mse ** 0.5\n",
    "    #df = pd.DataFrame([y_test, y_est]).transpose()\n",
    "    #df.columns=['y_test', 'y_est']\n",
    "    #df['diff'] = abs(df['y_test'] - df['y_est'])\n",
    "    #df = df.sort_values(by='diff', ascending=False)\n",
    "    #print(df.query('diff > 5')['diff'].count() / len(df))\n",
    "    #print(df.head())\n",
    "    sMAPE_coeff = sMAPE_model(y_test, y_est)\n",
    "    sMAPEs.append(sMAPE_coeff)\n",
    "    print(f'r_2 score: {r_2:.2f}')\n",
    "    print(f'rmse: {rmse:.2f}')\n",
    "    print(f'sMAPE: {sMAPE_coeff:.2%}')\n",
    "    print()\n",
    "\n",
    "#sMAPE\n",
    "sMAPE_result = sMAPEs[0]*0.25 + sMAPEs[1]*0.75\n",
    "print(f'Итоговый SMAPE модели равен {sMAPE_result:.2%}')"
   ]
  },
  {
   "cell_type": "markdown",
   "metadata": {},
   "source": [
    "**Вывод**   \n",
    "1. Модель показала схожие результаты и на тестовой выборке.\n",
    "2. Величина стандартного отклонения (rmse) практически равна метрике sMAPE.\n",
    "3. Итоговый sMAPE ниже 7%, что можно считать неплохим результатом."
   ]
  },
  {
   "cell_type": "markdown",
   "metadata": {},
   "source": [
    "## Чек-лист готовности проекта"
   ]
  },
  {
   "cell_type": "markdown",
   "metadata": {},
   "source": [
    "- [x]  Jupyter Notebook открыт\n",
    "- [x]  Весь код выполняется без ошибок\n",
    "- [x]  Ячейки с кодом расположены в порядке выполнения\n",
    "- [x]  Выполнен шаг 1: данные подготовлены\n",
    "    - [x]  Проверена формула вычисления эффективности обогащения\n",
    "    - [x]  Проанализированы признаки, недоступные в тестовой выборке\n",
    "    - [x]  Проведена предобработка данных\n",
    "- [x]  Выполнен шаг 2: данные проанализированы\n",
    "    - [x]  Исследовано изменение концентрации элементов на каждом этапе\n",
    "    - [x]  Проанализированы распределения размеров гранул на обучающей и тестовой выборках\n",
    "    - [x]  Исследованы суммарные концентрации\n",
    "- [x]  Выполнен шаг 3: построена модель прогнозирования\n",
    "    - [x]  Написана функция для вычисления итогового *sMAPE*\n",
    "    - [x]  Обучено и проверено несколько моделей\n",
    "    - [x]  Выбрана лучшая модель, её качество проверено на тестовой выборке"
   ]
  }
 ],
 "metadata": {
  "kernelspec": {
   "display_name": "Python 3",
   "language": "python",
   "name": "python3"
  },
  "language_info": {
   "codemirror_mode": {
    "name": "ipython",
    "version": 3
   },
   "file_extension": ".py",
   "mimetype": "text/x-python",
   "name": "python",
   "nbconvert_exporter": "python",
   "pygments_lexer": "ipython3",
   "version": "3.7.13"
  },
  "toc": {
   "base_numbering": 1,
   "nav_menu": {},
   "number_sections": true,
   "sideBar": true,
   "skip_h1_title": true,
   "title_cell": "Содержание",
   "title_sidebar": "Contents",
   "toc_cell": true,
   "toc_position": {},
   "toc_section_display": true,
   "toc_window_display": true
  }
 },
 "nbformat": 4,
 "nbformat_minor": 2
}
