{
 "cells": [
  {
   "cell_type": "markdown",
   "metadata": {
    "toc": true
   },
   "source": [
    "<h1>Содержание<span class=\"tocSkip\"></span></h1>\n",
    "<div class=\"toc\"><ul class=\"toc-item\"><li><span><a href=\"#Изучение-данных-из-файла\" data-toc-modified-id=\"Изучение-данных-из-файла-1\"><span class=\"toc-item-num\">1&nbsp;&nbsp;</span>Изучение данных из файла</a></span></li><li><span><a href=\"#Предобработка-данных\" data-toc-modified-id=\"Предобработка-данных-2\"><span class=\"toc-item-num\">2&nbsp;&nbsp;</span>Предобработка данных</a></span><ul class=\"toc-item\"><li><span><a href=\"#Обработка-пропусков\" data-toc-modified-id=\"Обработка-пропусков-2.1\"><span class=\"toc-item-num\">2.1&nbsp;&nbsp;</span>Обработка пропусков</a></span></li><li><span><a href=\"#Удаление-дубликатов\" data-toc-modified-id=\"Удаление-дубликатов-2.2\"><span class=\"toc-item-num\">2.2&nbsp;&nbsp;</span>Удаление дубликатов</a></span></li><li><span><a href=\"#Изменение-типов-данных\" data-toc-modified-id=\"Изменение-типов-данных-2.3\"><span class=\"toc-item-num\">2.3&nbsp;&nbsp;</span>Изменение типов данных</a></span></li></ul></li><li><span><a href=\"#Расчёты-и-добавление-результатов-в-таблицу\" data-toc-modified-id=\"Расчёты-и-добавление-результатов-в-таблицу-3\"><span class=\"toc-item-num\">3&nbsp;&nbsp;</span>Расчёты и добавление результатов в таблицу</a></span></li><li><span><a href=\"#Исследовательский-анализ-данных\" data-toc-modified-id=\"Исследовательский-анализ-данных-4\"><span class=\"toc-item-num\">4&nbsp;&nbsp;</span>Исследовательский анализ данных</a></span><ul class=\"toc-item\"><li><span><a href=\"#Анализ-площади,-цены,-этажности-и-высоты-потолков\" data-toc-modified-id=\"Анализ-площади,-цены,-этажности-и-высоты-потолков-4.1\"><span class=\"toc-item-num\">4.1&nbsp;&nbsp;</span>Анализ площади, цены, этажности и высоты потолков</a></span></li><li><span><a href=\"#Анализ-продолжительности-продажи\" data-toc-modified-id=\"Анализ-продолжительности-продажи-4.2\"><span class=\"toc-item-num\">4.2&nbsp;&nbsp;</span>Анализ продолжительности продажи</a></span></li><li><span><a href=\"#Факторы,-влияющие-на-стоимость\" data-toc-modified-id=\"Факторы,-влияющие-на-стоимость-4.3\"><span class=\"toc-item-num\">4.3&nbsp;&nbsp;</span>Факторы, влияющие на стоимость</a></span></li><li><span><a href=\"#Рейтинг-населенных-пунктов\" data-toc-modified-id=\"Рейтинг-населенных-пунктов-4.4\"><span class=\"toc-item-num\">4.4&nbsp;&nbsp;</span>Рейтинг населенных пунктов</a></span></li><li><span><a href=\"#Анализ-границы-ЦАО\" data-toc-modified-id=\"Анализ-границы-ЦАО-4.5\"><span class=\"toc-item-num\">4.5&nbsp;&nbsp;</span>Анализ границы ЦАО</a></span></li><li><span><a href=\"#Анализ-рынка-ЦАО\" data-toc-modified-id=\"Анализ-рынка-ЦАО-4.6\"><span class=\"toc-item-num\">4.6&nbsp;&nbsp;</span>Анализ рынка ЦАО</a></span></li></ul></li><li><span><a href=\"#Общий-вывод\" data-toc-modified-id=\"Общий-вывод-5\"><span class=\"toc-item-num\">5&nbsp;&nbsp;</span>Общий вывод</a></span></li><li><span><a href=\"#Чек-лист-готовности-проекта\" data-toc-modified-id=\"Чек-лист-готовности-проекта-6\"><span class=\"toc-item-num\">6&nbsp;&nbsp;</span>Чек-лист готовности проекта</a></span></li></ul></div>"
   ]
  },
  {
   "cell_type": "markdown",
   "metadata": {},
   "source": [
    "# Исследование объявлений о продаже квартир\n",
    "\n",
    "В вашем распоряжении данные сервиса Яндекс.Недвижимость — архив объявлений о продаже квартир в Санкт-Петербурге и соседних населённых пунктах за несколько лет. Нужно научиться определять рыночную стоимость объектов недвижимости. Ваша задача — установить параметры. Это позволит построить автоматизированную систему: она отследит аномалии и мошенническую деятельность. \n",
    "\n",
    "По каждой квартире на продажу доступны два вида данных. Первые вписаны пользователем, вторые получены автоматически на основе картографических данных. Например, расстояние до центра, аэропорта, ближайшего парка и водоёма. "
   ]
  },
  {
   "cell_type": "markdown",
   "metadata": {},
   "source": [
    "## Изучение данных из файла"
   ]
  },
  {
   "cell_type": "code",
   "execution_count": 797,
   "metadata": {},
   "outputs": [
    {
     "name": "stdout",
     "output_type": "stream",
     "text": [
      "<class 'pandas.core.frame.DataFrame'>\n",
      "RangeIndex: 23699 entries, 0 to 23698\n",
      "Data columns (total 22 columns):\n",
      "total_images            23699 non-null int64\n",
      "last_price              23699 non-null float64\n",
      "total_area              23699 non-null float64\n",
      "first_day_exposition    23699 non-null object\n",
      "rooms                   23699 non-null int64\n",
      "ceiling_height          14504 non-null float64\n",
      "floors_total            23613 non-null float64\n",
      "living_area             21796 non-null float64\n",
      "floor                   23699 non-null int64\n",
      "is_apartment            2775 non-null object\n",
      "studio                  23699 non-null bool\n",
      "open_plan               23699 non-null bool\n",
      "kitchen_area            21421 non-null float64\n",
      "balcony                 12180 non-null float64\n",
      "locality_name           23650 non-null object\n",
      "airports_nearest        18157 non-null float64\n",
      "cityCenters_nearest     18180 non-null float64\n",
      "parks_around3000        18181 non-null float64\n",
      "parks_nearest           8079 non-null float64\n",
      "ponds_around3000        18181 non-null float64\n",
      "ponds_nearest           9110 non-null float64\n",
      "days_exposition         20518 non-null float64\n",
      "dtypes: bool(2), float64(14), int64(3), object(3)\n",
      "memory usage: 3.7+ MB\n"
     ]
    },
    {
     "data": {
      "text/html": [
       "<div>\n",
       "<style scoped>\n",
       "    .dataframe tbody tr th:only-of-type {\n",
       "        vertical-align: middle;\n",
       "    }\n",
       "\n",
       "    .dataframe tbody tr th {\n",
       "        vertical-align: top;\n",
       "    }\n",
       "\n",
       "    .dataframe thead th {\n",
       "        text-align: right;\n",
       "    }\n",
       "</style>\n",
       "<table border=\"1\" class=\"dataframe\">\n",
       "  <thead>\n",
       "    <tr style=\"text-align: right;\">\n",
       "      <th></th>\n",
       "      <th>total_images</th>\n",
       "      <th>last_price</th>\n",
       "      <th>total_area</th>\n",
       "      <th>first_day_exposition</th>\n",
       "      <th>rooms</th>\n",
       "      <th>ceiling_height</th>\n",
       "      <th>floors_total</th>\n",
       "      <th>living_area</th>\n",
       "      <th>floor</th>\n",
       "      <th>is_apartment</th>\n",
       "      <th>...</th>\n",
       "      <th>kitchen_area</th>\n",
       "      <th>balcony</th>\n",
       "      <th>locality_name</th>\n",
       "      <th>airports_nearest</th>\n",
       "      <th>cityCenters_nearest</th>\n",
       "      <th>parks_around3000</th>\n",
       "      <th>parks_nearest</th>\n",
       "      <th>ponds_around3000</th>\n",
       "      <th>ponds_nearest</th>\n",
       "      <th>days_exposition</th>\n",
       "    </tr>\n",
       "  </thead>\n",
       "  <tbody>\n",
       "    <tr>\n",
       "      <td>count</td>\n",
       "      <td>23699.000000</td>\n",
       "      <td>2.369900e+04</td>\n",
       "      <td>23699.000000</td>\n",
       "      <td>23699</td>\n",
       "      <td>23699.000000</td>\n",
       "      <td>14504.000000</td>\n",
       "      <td>23613.000000</td>\n",
       "      <td>21796.000000</td>\n",
       "      <td>23699.000000</td>\n",
       "      <td>2775</td>\n",
       "      <td>...</td>\n",
       "      <td>21421.000000</td>\n",
       "      <td>12180.000000</td>\n",
       "      <td>23650</td>\n",
       "      <td>18157.000000</td>\n",
       "      <td>18180.000000</td>\n",
       "      <td>18181.000000</td>\n",
       "      <td>8079.000000</td>\n",
       "      <td>18181.000000</td>\n",
       "      <td>9110.000000</td>\n",
       "      <td>20518.000000</td>\n",
       "    </tr>\n",
       "    <tr>\n",
       "      <td>unique</td>\n",
       "      <td>NaN</td>\n",
       "      <td>NaN</td>\n",
       "      <td>NaN</td>\n",
       "      <td>1491</td>\n",
       "      <td>NaN</td>\n",
       "      <td>NaN</td>\n",
       "      <td>NaN</td>\n",
       "      <td>NaN</td>\n",
       "      <td>NaN</td>\n",
       "      <td>2</td>\n",
       "      <td>...</td>\n",
       "      <td>NaN</td>\n",
       "      <td>NaN</td>\n",
       "      <td>364</td>\n",
       "      <td>NaN</td>\n",
       "      <td>NaN</td>\n",
       "      <td>NaN</td>\n",
       "      <td>NaN</td>\n",
       "      <td>NaN</td>\n",
       "      <td>NaN</td>\n",
       "      <td>NaN</td>\n",
       "    </tr>\n",
       "    <tr>\n",
       "      <td>top</td>\n",
       "      <td>NaN</td>\n",
       "      <td>NaN</td>\n",
       "      <td>NaN</td>\n",
       "      <td>2018-02-01T00:00:00</td>\n",
       "      <td>NaN</td>\n",
       "      <td>NaN</td>\n",
       "      <td>NaN</td>\n",
       "      <td>NaN</td>\n",
       "      <td>NaN</td>\n",
       "      <td>False</td>\n",
       "      <td>...</td>\n",
       "      <td>NaN</td>\n",
       "      <td>NaN</td>\n",
       "      <td>Санкт-Петербург</td>\n",
       "      <td>NaN</td>\n",
       "      <td>NaN</td>\n",
       "      <td>NaN</td>\n",
       "      <td>NaN</td>\n",
       "      <td>NaN</td>\n",
       "      <td>NaN</td>\n",
       "      <td>NaN</td>\n",
       "    </tr>\n",
       "    <tr>\n",
       "      <td>freq</td>\n",
       "      <td>NaN</td>\n",
       "      <td>NaN</td>\n",
       "      <td>NaN</td>\n",
       "      <td>368</td>\n",
       "      <td>NaN</td>\n",
       "      <td>NaN</td>\n",
       "      <td>NaN</td>\n",
       "      <td>NaN</td>\n",
       "      <td>NaN</td>\n",
       "      <td>2725</td>\n",
       "      <td>...</td>\n",
       "      <td>NaN</td>\n",
       "      <td>NaN</td>\n",
       "      <td>15721</td>\n",
       "      <td>NaN</td>\n",
       "      <td>NaN</td>\n",
       "      <td>NaN</td>\n",
       "      <td>NaN</td>\n",
       "      <td>NaN</td>\n",
       "      <td>NaN</td>\n",
       "      <td>NaN</td>\n",
       "    </tr>\n",
       "    <tr>\n",
       "      <td>mean</td>\n",
       "      <td>9.858475</td>\n",
       "      <td>6.541549e+06</td>\n",
       "      <td>60.348651</td>\n",
       "      <td>NaN</td>\n",
       "      <td>2.070636</td>\n",
       "      <td>2.771499</td>\n",
       "      <td>10.673824</td>\n",
       "      <td>34.457852</td>\n",
       "      <td>5.892358</td>\n",
       "      <td>NaN</td>\n",
       "      <td>...</td>\n",
       "      <td>10.569807</td>\n",
       "      <td>1.150082</td>\n",
       "      <td>NaN</td>\n",
       "      <td>28793.672193</td>\n",
       "      <td>14191.277833</td>\n",
       "      <td>0.611408</td>\n",
       "      <td>490.804555</td>\n",
       "      <td>0.770255</td>\n",
       "      <td>517.980900</td>\n",
       "      <td>180.888634</td>\n",
       "    </tr>\n",
       "    <tr>\n",
       "      <td>std</td>\n",
       "      <td>5.682529</td>\n",
       "      <td>1.088701e+07</td>\n",
       "      <td>35.654083</td>\n",
       "      <td>NaN</td>\n",
       "      <td>1.078405</td>\n",
       "      <td>1.261056</td>\n",
       "      <td>6.597173</td>\n",
       "      <td>22.030445</td>\n",
       "      <td>4.885249</td>\n",
       "      <td>NaN</td>\n",
       "      <td>...</td>\n",
       "      <td>5.905438</td>\n",
       "      <td>1.071300</td>\n",
       "      <td>NaN</td>\n",
       "      <td>12630.880622</td>\n",
       "      <td>8608.386210</td>\n",
       "      <td>0.802074</td>\n",
       "      <td>342.317995</td>\n",
       "      <td>0.938346</td>\n",
       "      <td>277.720643</td>\n",
       "      <td>219.727988</td>\n",
       "    </tr>\n",
       "    <tr>\n",
       "      <td>min</td>\n",
       "      <td>0.000000</td>\n",
       "      <td>1.219000e+04</td>\n",
       "      <td>12.000000</td>\n",
       "      <td>NaN</td>\n",
       "      <td>0.000000</td>\n",
       "      <td>1.000000</td>\n",
       "      <td>1.000000</td>\n",
       "      <td>2.000000</td>\n",
       "      <td>1.000000</td>\n",
       "      <td>NaN</td>\n",
       "      <td>...</td>\n",
       "      <td>1.300000</td>\n",
       "      <td>0.000000</td>\n",
       "      <td>NaN</td>\n",
       "      <td>0.000000</td>\n",
       "      <td>181.000000</td>\n",
       "      <td>0.000000</td>\n",
       "      <td>1.000000</td>\n",
       "      <td>0.000000</td>\n",
       "      <td>13.000000</td>\n",
       "      <td>1.000000</td>\n",
       "    </tr>\n",
       "    <tr>\n",
       "      <td>25%</td>\n",
       "      <td>6.000000</td>\n",
       "      <td>3.400000e+06</td>\n",
       "      <td>40.000000</td>\n",
       "      <td>NaN</td>\n",
       "      <td>1.000000</td>\n",
       "      <td>2.520000</td>\n",
       "      <td>5.000000</td>\n",
       "      <td>18.600000</td>\n",
       "      <td>2.000000</td>\n",
       "      <td>NaN</td>\n",
       "      <td>...</td>\n",
       "      <td>7.000000</td>\n",
       "      <td>0.000000</td>\n",
       "      <td>NaN</td>\n",
       "      <td>18585.000000</td>\n",
       "      <td>9238.000000</td>\n",
       "      <td>0.000000</td>\n",
       "      <td>288.000000</td>\n",
       "      <td>0.000000</td>\n",
       "      <td>294.000000</td>\n",
       "      <td>45.000000</td>\n",
       "    </tr>\n",
       "    <tr>\n",
       "      <td>50%</td>\n",
       "      <td>9.000000</td>\n",
       "      <td>4.650000e+06</td>\n",
       "      <td>52.000000</td>\n",
       "      <td>NaN</td>\n",
       "      <td>2.000000</td>\n",
       "      <td>2.650000</td>\n",
       "      <td>9.000000</td>\n",
       "      <td>30.000000</td>\n",
       "      <td>4.000000</td>\n",
       "      <td>NaN</td>\n",
       "      <td>...</td>\n",
       "      <td>9.100000</td>\n",
       "      <td>1.000000</td>\n",
       "      <td>NaN</td>\n",
       "      <td>26726.000000</td>\n",
       "      <td>13098.500000</td>\n",
       "      <td>0.000000</td>\n",
       "      <td>455.000000</td>\n",
       "      <td>1.000000</td>\n",
       "      <td>502.000000</td>\n",
       "      <td>95.000000</td>\n",
       "    </tr>\n",
       "    <tr>\n",
       "      <td>75%</td>\n",
       "      <td>14.000000</td>\n",
       "      <td>6.800000e+06</td>\n",
       "      <td>69.900000</td>\n",
       "      <td>NaN</td>\n",
       "      <td>3.000000</td>\n",
       "      <td>2.800000</td>\n",
       "      <td>16.000000</td>\n",
       "      <td>42.300000</td>\n",
       "      <td>8.000000</td>\n",
       "      <td>NaN</td>\n",
       "      <td>...</td>\n",
       "      <td>12.000000</td>\n",
       "      <td>2.000000</td>\n",
       "      <td>NaN</td>\n",
       "      <td>37273.000000</td>\n",
       "      <td>16293.000000</td>\n",
       "      <td>1.000000</td>\n",
       "      <td>612.000000</td>\n",
       "      <td>1.000000</td>\n",
       "      <td>729.000000</td>\n",
       "      <td>232.000000</td>\n",
       "    </tr>\n",
       "    <tr>\n",
       "      <td>max</td>\n",
       "      <td>50.000000</td>\n",
       "      <td>7.630000e+08</td>\n",
       "      <td>900.000000</td>\n",
       "      <td>NaN</td>\n",
       "      <td>19.000000</td>\n",
       "      <td>100.000000</td>\n",
       "      <td>60.000000</td>\n",
       "      <td>409.700000</td>\n",
       "      <td>33.000000</td>\n",
       "      <td>NaN</td>\n",
       "      <td>...</td>\n",
       "      <td>112.000000</td>\n",
       "      <td>5.000000</td>\n",
       "      <td>NaN</td>\n",
       "      <td>84869.000000</td>\n",
       "      <td>65968.000000</td>\n",
       "      <td>3.000000</td>\n",
       "      <td>3190.000000</td>\n",
       "      <td>3.000000</td>\n",
       "      <td>1344.000000</td>\n",
       "      <td>1580.000000</td>\n",
       "    </tr>\n",
       "  </tbody>\n",
       "</table>\n",
       "<p>11 rows × 22 columns</p>\n",
       "</div>"
      ],
      "text/plain": [
       "        total_images    last_price    total_area first_day_exposition  \\\n",
       "count   23699.000000  2.369900e+04  23699.000000                23699   \n",
       "unique           NaN           NaN           NaN                 1491   \n",
       "top              NaN           NaN           NaN  2018-02-01T00:00:00   \n",
       "freq             NaN           NaN           NaN                  368   \n",
       "mean        9.858475  6.541549e+06     60.348651                  NaN   \n",
       "std         5.682529  1.088701e+07     35.654083                  NaN   \n",
       "min         0.000000  1.219000e+04     12.000000                  NaN   \n",
       "25%         6.000000  3.400000e+06     40.000000                  NaN   \n",
       "50%         9.000000  4.650000e+06     52.000000                  NaN   \n",
       "75%        14.000000  6.800000e+06     69.900000                  NaN   \n",
       "max        50.000000  7.630000e+08    900.000000                  NaN   \n",
       "\n",
       "               rooms  ceiling_height  floors_total   living_area  \\\n",
       "count   23699.000000    14504.000000  23613.000000  21796.000000   \n",
       "unique           NaN             NaN           NaN           NaN   \n",
       "top              NaN             NaN           NaN           NaN   \n",
       "freq             NaN             NaN           NaN           NaN   \n",
       "mean        2.070636        2.771499     10.673824     34.457852   \n",
       "std         1.078405        1.261056      6.597173     22.030445   \n",
       "min         0.000000        1.000000      1.000000      2.000000   \n",
       "25%         1.000000        2.520000      5.000000     18.600000   \n",
       "50%         2.000000        2.650000      9.000000     30.000000   \n",
       "75%         3.000000        2.800000     16.000000     42.300000   \n",
       "max        19.000000      100.000000     60.000000    409.700000   \n",
       "\n",
       "               floor is_apartment  ...  kitchen_area       balcony  \\\n",
       "count   23699.000000         2775  ...  21421.000000  12180.000000   \n",
       "unique           NaN            2  ...           NaN           NaN   \n",
       "top              NaN        False  ...           NaN           NaN   \n",
       "freq             NaN         2725  ...           NaN           NaN   \n",
       "mean        5.892358          NaN  ...     10.569807      1.150082   \n",
       "std         4.885249          NaN  ...      5.905438      1.071300   \n",
       "min         1.000000          NaN  ...      1.300000      0.000000   \n",
       "25%         2.000000          NaN  ...      7.000000      0.000000   \n",
       "50%         4.000000          NaN  ...      9.100000      1.000000   \n",
       "75%         8.000000          NaN  ...     12.000000      2.000000   \n",
       "max        33.000000          NaN  ...    112.000000      5.000000   \n",
       "\n",
       "          locality_name  airports_nearest cityCenters_nearest  \\\n",
       "count             23650      18157.000000        18180.000000   \n",
       "unique              364               NaN                 NaN   \n",
       "top     Санкт-Петербург               NaN                 NaN   \n",
       "freq              15721               NaN                 NaN   \n",
       "mean                NaN      28793.672193        14191.277833   \n",
       "std                 NaN      12630.880622         8608.386210   \n",
       "min                 NaN          0.000000          181.000000   \n",
       "25%                 NaN      18585.000000         9238.000000   \n",
       "50%                 NaN      26726.000000        13098.500000   \n",
       "75%                 NaN      37273.000000        16293.000000   \n",
       "max                 NaN      84869.000000        65968.000000   \n",
       "\n",
       "        parks_around3000  parks_nearest  ponds_around3000  ponds_nearest  \\\n",
       "count       18181.000000    8079.000000      18181.000000    9110.000000   \n",
       "unique               NaN            NaN               NaN            NaN   \n",
       "top                  NaN            NaN               NaN            NaN   \n",
       "freq                 NaN            NaN               NaN            NaN   \n",
       "mean            0.611408     490.804555          0.770255     517.980900   \n",
       "std             0.802074     342.317995          0.938346     277.720643   \n",
       "min             0.000000       1.000000          0.000000      13.000000   \n",
       "25%             0.000000     288.000000          0.000000     294.000000   \n",
       "50%             0.000000     455.000000          1.000000     502.000000   \n",
       "75%             1.000000     612.000000          1.000000     729.000000   \n",
       "max             3.000000    3190.000000          3.000000    1344.000000   \n",
       "\n",
       "        days_exposition  \n",
       "count      20518.000000  \n",
       "unique              NaN  \n",
       "top                 NaN  \n",
       "freq                NaN  \n",
       "mean         180.888634  \n",
       "std          219.727988  \n",
       "min            1.000000  \n",
       "25%           45.000000  \n",
       "50%           95.000000  \n",
       "75%          232.000000  \n",
       "max         1580.000000  \n",
       "\n",
       "[11 rows x 22 columns]"
      ]
     },
     "execution_count": 797,
     "metadata": {},
     "output_type": "execute_result"
    }
   ],
   "source": [
    "import pandas as pd\n",
    "import math\n",
    "import warnings\n",
    "warnings.filterwarnings('ignore')\n",
    "\n",
    "df = pd.read_csv('/datasets/real_estate_data.csv', sep='\\t')\n",
    "#print(df.head())\n",
    "df.info()\n",
    "df.describe(include='all')"
   ]
  },
  {
   "cell_type": "markdown",
   "metadata": {},
   "source": [
    "**Вывод**"
   ]
  },
  {
   "cell_type": "markdown",
   "metadata": {},
   "source": [
    "Таблица содержит 22 характеристики объявлений. Ниже основные моменты, на которые стоит обратить внимание в предобработке:<br>\n",
    "<br>\n",
    "*Содержат пропуски:*\n",
    "- ceiling_height\n",
    "- floors_total\n",
    "- living_area\n",
    "- is_apartment\n",
    "- kitchen_area\n",
    "- balcony\n",
    "- airports_nearest\n",
    "- cityCenters_nearest\n",
    "- parks_around3000\n",
    "- parks_nearest\n",
    "- days_exposition   \n",
    "   \n",
    "*Имеют некорректный тип данных:*\n",
    "- first_day_exposition. ожидаемый формат - date. дата публикации\n",
    "- floors_total. ожидаемый формат - int64. количество этажей в доме должно быть целочисленным\n",
    "- is_apartment. ожидаемый формат - bool. принимает значения булева типа.\n",
    "- balcony. ожидаемый формат - int64. количество балконов в доме должно быть целочисленным\n",
    "- parks_around3000. ожидаемый формат - int64. количество парков должно быть целочисленным\n",
    "- ponds_around3000. ожидаемый формат - int64. количество прудов должно быть целочисленным\n",
    "- days_exposition. ожидаемый формат - int64. количество прудов должно быть целочисленным"
   ]
  },
  {
   "cell_type": "markdown",
   "metadata": {},
   "source": [
    "## Предобработка данных"
   ]
  },
  {
   "cell_type": "markdown",
   "metadata": {},
   "source": [
    "### Обработка пропусков"
   ]
  },
  {
   "cell_type": "markdown",
   "metadata": {},
   "source": [
    "Начнем разбор каждого из параметров с пропусками.   \n",
    "**ceiling_height**"
   ]
  },
  {
   "cell_type": "code",
   "execution_count": 798,
   "metadata": {},
   "outputs": [
    {
     "data": {
      "text/plain": [
       "count    14504.000000\n",
       "mean         2.771499\n",
       "std          1.261056\n",
       "min          1.000000\n",
       "25%          2.520000\n",
       "50%          2.650000\n",
       "75%          2.800000\n",
       "max        100.000000\n",
       "Name: ceiling_height, dtype: float64"
      ]
     },
     "execution_count": 798,
     "metadata": {},
     "output_type": "execute_result"
    },
    {
     "data": {
      "image/png": "[encoded data removed]",
      "text/plain": [
       "<Figure size 432x288 with 1 Axes>"
      ]
     },
     "metadata": {
      "needs_background": "light"
     },
     "output_type": "display_data"
    }
   ],
   "source": [
    "df['ceiling_height'].hist(bins=10, range=(0,4))\n",
    "df['ceiling_height'].describe()"
   ]
  },
  {
   "cell_type": "markdown",
   "metadata": {},
   "source": [
    "Высота потолков (ожидаемо) имеет не сильный разброс и сосредоточена возле медианы.    \n",
    "Пропуски можно заменить на медиану. Произведем замену и проверем полученный результат."
   ]
  },
  {
   "cell_type": "code",
   "execution_count": 799,
   "metadata": {
    "scrolled": true
   },
   "outputs": [],
   "source": [
    "ceiling_height_med = df['ceiling_height'].median()\n",
    "df['ceiling_height'] = df['ceiling_height'].fillna(ceiling_height_med)"
   ]
  },
  {
   "cell_type": "markdown",
   "metadata": {},
   "source": [
    "**floors_total**"
   ]
  },
  {
   "cell_type": "code",
   "execution_count": 800,
   "metadata": {
    "scrolled": false
   },
   "outputs": [
    {
     "data": {
      "text/plain": [
       "count    23613.000000\n",
       "mean        10.673824\n",
       "std          6.597173\n",
       "min          1.000000\n",
       "25%          5.000000\n",
       "50%          9.000000\n",
       "75%         16.000000\n",
       "max         60.000000\n",
       "Name: floors_total, dtype: float64"
      ]
     },
     "execution_count": 800,
     "metadata": {},
     "output_type": "execute_result"
    }
   ],
   "source": [
    "df['floors_total'].describe()"
   ]
  },
  {
   "cell_type": "markdown",
   "metadata": {},
   "source": [
    "Данные отсутствуют всего для 56 объявлений. Взглянем на них подробнее."
   ]
  },
  {
   "cell_type": "code",
   "execution_count": 801,
   "metadata": {},
   "outputs": [
    {
     "data": {
      "text/html": [
       "<div>\n",
       "<style scoped>\n",
       "    .dataframe tbody tr th:only-of-type {\n",
       "        vertical-align: middle;\n",
       "    }\n",
       "\n",
       "    .dataframe tbody tr th {\n",
       "        vertical-align: top;\n",
       "    }\n",
       "\n",
       "    .dataframe thead th {\n",
       "        text-align: right;\n",
       "    }\n",
       "</style>\n",
       "<table border=\"1\" class=\"dataframe\">\n",
       "  <thead>\n",
       "    <tr style=\"text-align: right;\">\n",
       "      <th></th>\n",
       "      <th>total_images</th>\n",
       "      <th>last_price</th>\n",
       "      <th>total_area</th>\n",
       "      <th>first_day_exposition</th>\n",
       "      <th>rooms</th>\n",
       "      <th>ceiling_height</th>\n",
       "      <th>floors_total</th>\n",
       "      <th>living_area</th>\n",
       "      <th>floor</th>\n",
       "      <th>is_apartment</th>\n",
       "      <th>...</th>\n",
       "      <th>kitchen_area</th>\n",
       "      <th>balcony</th>\n",
       "      <th>locality_name</th>\n",
       "      <th>airports_nearest</th>\n",
       "      <th>cityCenters_nearest</th>\n",
       "      <th>parks_around3000</th>\n",
       "      <th>parks_nearest</th>\n",
       "      <th>ponds_around3000</th>\n",
       "      <th>ponds_nearest</th>\n",
       "      <th>days_exposition</th>\n",
       "    </tr>\n",
       "  </thead>\n",
       "  <tbody>\n",
       "    <tr>\n",
       "      <td>186</td>\n",
       "      <td>12</td>\n",
       "      <td>11640000.0</td>\n",
       "      <td>65.2</td>\n",
       "      <td>2018-10-02T00:00:00</td>\n",
       "      <td>2</td>\n",
       "      <td>2.65</td>\n",
       "      <td>NaN</td>\n",
       "      <td>30.80</td>\n",
       "      <td>4</td>\n",
       "      <td>NaN</td>\n",
       "      <td>...</td>\n",
       "      <td>12.00</td>\n",
       "      <td>NaN</td>\n",
       "      <td>Санкт-Петербург</td>\n",
       "      <td>39197.0</td>\n",
       "      <td>12373.0</td>\n",
       "      <td>1.0</td>\n",
       "      <td>123.0</td>\n",
       "      <td>0.0</td>\n",
       "      <td>NaN</td>\n",
       "      <td>49.0</td>\n",
       "    </tr>\n",
       "    <tr>\n",
       "      <td>237</td>\n",
       "      <td>4</td>\n",
       "      <td>2438033.0</td>\n",
       "      <td>28.1</td>\n",
       "      <td>2016-11-23T00:00:00</td>\n",
       "      <td>1</td>\n",
       "      <td>2.65</td>\n",
       "      <td>NaN</td>\n",
       "      <td>20.75</td>\n",
       "      <td>1</td>\n",
       "      <td>NaN</td>\n",
       "      <td>...</td>\n",
       "      <td>NaN</td>\n",
       "      <td>0.0</td>\n",
       "      <td>Санкт-Петербург</td>\n",
       "      <td>22041.0</td>\n",
       "      <td>17369.0</td>\n",
       "      <td>0.0</td>\n",
       "      <td>NaN</td>\n",
       "      <td>1.0</td>\n",
       "      <td>374.0</td>\n",
       "      <td>251.0</td>\n",
       "    </tr>\n",
       "    <tr>\n",
       "      <td>457</td>\n",
       "      <td>4</td>\n",
       "      <td>9788348.0</td>\n",
       "      <td>70.8</td>\n",
       "      <td>2015-08-01T00:00:00</td>\n",
       "      <td>2</td>\n",
       "      <td>2.65</td>\n",
       "      <td>NaN</td>\n",
       "      <td>38.40</td>\n",
       "      <td>12</td>\n",
       "      <td>NaN</td>\n",
       "      <td>...</td>\n",
       "      <td>10.63</td>\n",
       "      <td>0.0</td>\n",
       "      <td>Санкт-Петербург</td>\n",
       "      <td>37364.0</td>\n",
       "      <td>8322.0</td>\n",
       "      <td>2.0</td>\n",
       "      <td>309.0</td>\n",
       "      <td>2.0</td>\n",
       "      <td>706.0</td>\n",
       "      <td>727.0</td>\n",
       "    </tr>\n",
       "    <tr>\n",
       "      <td>671</td>\n",
       "      <td>4</td>\n",
       "      <td>6051191.0</td>\n",
       "      <td>93.6</td>\n",
       "      <td>2017-04-06T00:00:00</td>\n",
       "      <td>3</td>\n",
       "      <td>2.65</td>\n",
       "      <td>NaN</td>\n",
       "      <td>47.10</td>\n",
       "      <td>8</td>\n",
       "      <td>NaN</td>\n",
       "      <td>...</td>\n",
       "      <td>16.80</td>\n",
       "      <td>0.0</td>\n",
       "      <td>Санкт-Петербург</td>\n",
       "      <td>22041.0</td>\n",
       "      <td>17369.0</td>\n",
       "      <td>0.0</td>\n",
       "      <td>NaN</td>\n",
       "      <td>1.0</td>\n",
       "      <td>374.0</td>\n",
       "      <td>123.0</td>\n",
       "    </tr>\n",
       "    <tr>\n",
       "      <td>1757</td>\n",
       "      <td>5</td>\n",
       "      <td>3600000.0</td>\n",
       "      <td>39.0</td>\n",
       "      <td>2017-04-22T00:00:00</td>\n",
       "      <td>1</td>\n",
       "      <td>2.65</td>\n",
       "      <td>NaN</td>\n",
       "      <td>NaN</td>\n",
       "      <td>9</td>\n",
       "      <td>NaN</td>\n",
       "      <td>...</td>\n",
       "      <td>NaN</td>\n",
       "      <td>0.0</td>\n",
       "      <td>Санкт-Петербург</td>\n",
       "      <td>22735.0</td>\n",
       "      <td>11618.0</td>\n",
       "      <td>1.0</td>\n",
       "      <td>835.0</td>\n",
       "      <td>1.0</td>\n",
       "      <td>652.0</td>\n",
       "      <td>77.0</td>\n",
       "    </tr>\n",
       "  </tbody>\n",
       "</table>\n",
       "<p>5 rows × 22 columns</p>\n",
       "</div>"
      ],
      "text/plain": [
       "      total_images  last_price  total_area first_day_exposition  rooms  \\\n",
       "186             12  11640000.0        65.2  2018-10-02T00:00:00      2   \n",
       "237              4   2438033.0        28.1  2016-11-23T00:00:00      1   \n",
       "457              4   9788348.0        70.8  2015-08-01T00:00:00      2   \n",
       "671              4   6051191.0        93.6  2017-04-06T00:00:00      3   \n",
       "1757             5   3600000.0        39.0  2017-04-22T00:00:00      1   \n",
       "\n",
       "      ceiling_height  floors_total  living_area  floor is_apartment  ...  \\\n",
       "186             2.65           NaN        30.80      4          NaN  ...   \n",
       "237             2.65           NaN        20.75      1          NaN  ...   \n",
       "457             2.65           NaN        38.40     12          NaN  ...   \n",
       "671             2.65           NaN        47.10      8          NaN  ...   \n",
       "1757            2.65           NaN          NaN      9          NaN  ...   \n",
       "\n",
       "      kitchen_area  balcony    locality_name  airports_nearest  \\\n",
       "186          12.00      NaN  Санкт-Петербург           39197.0   \n",
       "237            NaN      0.0  Санкт-Петербург           22041.0   \n",
       "457          10.63      0.0  Санкт-Петербург           37364.0   \n",
       "671          16.80      0.0  Санкт-Петербург           22041.0   \n",
       "1757           NaN      0.0  Санкт-Петербург           22735.0   \n",
       "\n",
       "     cityCenters_nearest  parks_around3000  parks_nearest  ponds_around3000  \\\n",
       "186              12373.0               1.0          123.0               0.0   \n",
       "237              17369.0               0.0            NaN               1.0   \n",
       "457               8322.0               2.0          309.0               2.0   \n",
       "671              17369.0               0.0            NaN               1.0   \n",
       "1757             11618.0               1.0          835.0               1.0   \n",
       "\n",
       "      ponds_nearest  days_exposition  \n",
       "186             NaN             49.0  \n",
       "237           374.0            251.0  \n",
       "457           706.0            727.0  \n",
       "671           374.0            123.0  \n",
       "1757          652.0             77.0  \n",
       "\n",
       "[5 rows x 22 columns]"
      ]
     },
     "metadata": {},
     "output_type": "display_data"
    }
   ],
   "source": [
    "display(df.query('floors_total != floors_total').head())"
   ]
  },
  {
   "cell_type": "markdown",
   "metadata": {},
   "source": [
    "Заменим пропуски по следующей логике:\n",
    "- если этаж объекта <= медианы, то меняем на медиану\n",
    "- если больше, то предполагаем, что указанный этаж является последним, и общая этажность равна параметру floor."
   ]
  },
  {
   "cell_type": "code",
   "execution_count": 802,
   "metadata": {},
   "outputs": [],
   "source": [
    "floors_total_median = df['floors_total'].median()\n",
    "for index in range(len(df)):\n",
    "    if math.isnan(df['floors_total'][index]):\n",
    "        df['floors_total'][index] = max(floors_total_median, df['floor'][index])"
   ]
  },
  {
   "cell_type": "markdown",
   "metadata": {},
   "source": [
    "**living_area**"
   ]
  },
  {
   "cell_type": "code",
   "execution_count": 803,
   "metadata": {
    "scrolled": false
   },
   "outputs": [
    {
     "data": {
      "text/plain": [
       "count    21796.000000\n",
       "mean        34.457852\n",
       "std         22.030445\n",
       "min          2.000000\n",
       "25%         18.600000\n",
       "50%         30.000000\n",
       "75%         42.300000\n",
       "max        409.700000\n",
       "Name: living_area, dtype: float64"
      ]
     },
     "execution_count": 803,
     "metadata": {},
     "output_type": "execute_result"
    }
   ],
   "source": [
    "df['living_area'].describe()"
   ]
  },
  {
   "cell_type": "markdown",
   "metadata": {},
   "source": [
    "Данные по жилплощади отсутствуют почти для 2000 наблюдений, что составляет почти 10% выборки. От такого кол-ва наблюдений мы отказаться не можем, так как параметр критичен для анализа. Пропуски будем заменять на значения площадей в схожих группах.   \n",
    "Среди характеристик есть поле - total area. Логично предположить, что есть прямая зависимость между общей и жилой площадью. Проверим это на графике."
   ]
  },
  {
   "cell_type": "code",
   "execution_count": 804,
   "metadata": {
    "scrolled": true
   },
   "outputs": [
    {
     "name": "stdout",
     "output_type": "stream",
     "text": [
      "0.9395373338721491\n"
     ]
    },
    {
     "data": {
      "image/png": "[encoded data removed]",
      "text/plain": [
       "<Figure size 432x288 with 1 Axes>"
      ]
     },
     "metadata": {
      "needs_background": "light"
     },
     "output_type": "display_data"
    }
   ],
   "source": [
    "df.plot(x='total_area', y='living_area', kind='scatter')\n",
    "print(df['total_area'].corr(df['living_area']))"
   ]
  },
  {
   "cell_type": "markdown",
   "metadata": {},
   "source": [
    "График и коэффициент корреляции подтверждают гипотезу о высокой взаимосвязи параметров. Рассчитаем новый параметр - долю жилой площади в общей (share_living_total) и проанализируем распределение получившейся величины."
   ]
  },
  {
   "cell_type": "code",
   "execution_count": 805,
   "metadata": {
    "scrolled": false
   },
   "outputs": [
    {
     "data": {
      "text/plain": [
       "count    21796.000000\n",
       "mean         0.564766\n",
       "std          0.105368\n",
       "min          0.021583\n",
       "25%          0.495177\n",
       "50%          0.567860\n",
       "75%          0.637880\n",
       "max          1.000000\n",
       "Name: share_living_total, dtype: float64"
      ]
     },
     "execution_count": 805,
     "metadata": {},
     "output_type": "execute_result"
    },
    {
     "data": {
      "image/png": "[encoded data removed]",
      "text/plain": [
       "<Figure size 432x288 with 1 Axes>"
      ]
     },
     "metadata": {
      "needs_background": "light"
     },
     "output_type": "display_data"
    }
   ],
   "source": [
    "df['share_living_total'] = df['living_area'] / df['total_area']\n",
    "df['share_living_total'].hist()\n",
    "df['share_living_total'].describe()"
   ]
  },
  {
   "cell_type": "markdown",
   "metadata": {},
   "source": [
    "Медиана и среднее практически равны. Заменим пропуски в столбце living_area на total_area * share_living_total.median()"
   ]
  },
  {
   "cell_type": "code",
   "execution_count": 806,
   "metadata": {},
   "outputs": [],
   "source": [
    "df['living_area_calc'] = df['share_living_total'].median() * df['total_area']\n",
    "for index in range(len(df)):\n",
    "    if math.isnan(df['living_area'][index]) == True:\n",
    "        df['living_area'][index] = df['living_area_calc'][index]\n",
    "df = df.drop('living_area_calc',1)\n",
    "df = df.drop('share_living_total',1)"
   ]
  },
  {
   "cell_type": "markdown",
   "metadata": {},
   "source": [
    "**is_apartment**   \n",
    "Переменная отвечает за признак апартаментов. взглянем на нее чуть подробнее."
   ]
  },
  {
   "cell_type": "code",
   "execution_count": 807,
   "metadata": {
    "scrolled": true
   },
   "outputs": [
    {
     "name": "stdout",
     "output_type": "stream",
     "text": [
      "False    2725\n",
      "True       50\n",
      "Name: is_apartment, dtype: int64\n"
     ]
    }
   ],
   "source": [
    "print(df['is_apartment'].value_counts())"
   ]
  },
  {
   "cell_type": "markdown",
   "metadata": {},
   "source": [
    "Характеристика заполнена лишь для 2775 наблюдений. Поскольку нет явных признаков, указывающих на тип недвижимости и параметр не критичен для дальнейшего анализа, заменим пропуски на параметр \"False\", сохраняя булеву логику переменной."
   ]
  },
  {
   "cell_type": "code",
   "execution_count": 808,
   "metadata": {},
   "outputs": [],
   "source": [
    "df['is_apartment'] = df['is_apartment'].fillna('False')"
   ]
  },
  {
   "cell_type": "markdown",
   "metadata": {},
   "source": [
    "**kitchen_area**   \n",
    "Заменим пропуски по аналогии с расчетом living_area. Посчитаем долю kitchen_area в total_area, выведем медиану и досчитаем пропуски умножением total_area на получившийся коэффициент."
   ]
  },
  {
   "cell_type": "code",
   "execution_count": 809,
   "metadata": {},
   "outputs": [],
   "source": [
    "df['share_kitchen_total'] = df['kitchen_area'] / df['total_area']\n",
    "df['share_kitchen_total'].describe()\n",
    "\n",
    "df['kitchen_area_calc'] = df['share_kitchen_total'].median() * df['total_area']\n",
    "for index in range(len(df)):\n",
    "    if math.isnan(df['kitchen_area'][index]) == True:\n",
    "        df['kitchen_area'][index] = df['kitchen_area_calc'][index]\n",
    "df = df.drop('kitchen_area_calc',1)\n",
    "df = df.drop('share_kitchen_total',1)"
   ]
  },
  {
   "cell_type": "markdown",
   "metadata": {},
   "source": [
    "**balcony**   \n",
    "Данные о балконах отсутствуют практически для половины объявлений.   \n",
    "Предположим, если данные о балконе не указаны, то балкона и нет, т.е. заменим пропуски на 0."
   ]
  },
  {
   "cell_type": "code",
   "execution_count": 810,
   "metadata": {},
   "outputs": [],
   "source": [
    "df['balcony'] = df['balcony'].fillna(0)"
   ]
  },
  {
   "cell_type": "markdown",
   "metadata": {},
   "source": [
    "**locality_name**   \n",
    "Данные о населенном пункте не указаны для 48 наблюдений, что составляет 0,002% выборки. Взглянем на них подробнее."
   ]
  },
  {
   "cell_type": "code",
   "execution_count": 811,
   "metadata": {},
   "outputs": [
    {
     "data": {
      "text/html": [
       "<div>\n",
       "<style scoped>\n",
       "    .dataframe tbody tr th:only-of-type {\n",
       "        vertical-align: middle;\n",
       "    }\n",
       "\n",
       "    .dataframe tbody tr th {\n",
       "        vertical-align: top;\n",
       "    }\n",
       "\n",
       "    .dataframe thead th {\n",
       "        text-align: right;\n",
       "    }\n",
       "</style>\n",
       "<table border=\"1\" class=\"dataframe\">\n",
       "  <thead>\n",
       "    <tr style=\"text-align: right;\">\n",
       "      <th></th>\n",
       "      <th>total_images</th>\n",
       "      <th>last_price</th>\n",
       "      <th>total_area</th>\n",
       "      <th>first_day_exposition</th>\n",
       "      <th>rooms</th>\n",
       "      <th>ceiling_height</th>\n",
       "      <th>floors_total</th>\n",
       "      <th>living_area</th>\n",
       "      <th>floor</th>\n",
       "      <th>is_apartment</th>\n",
       "      <th>...</th>\n",
       "      <th>kitchen_area</th>\n",
       "      <th>balcony</th>\n",
       "      <th>locality_name</th>\n",
       "      <th>airports_nearest</th>\n",
       "      <th>cityCenters_nearest</th>\n",
       "      <th>parks_around3000</th>\n",
       "      <th>parks_nearest</th>\n",
       "      <th>ponds_around3000</th>\n",
       "      <th>ponds_nearest</th>\n",
       "      <th>days_exposition</th>\n",
       "    </tr>\n",
       "  </thead>\n",
       "  <tbody>\n",
       "    <tr>\n",
       "      <td>1097</td>\n",
       "      <td>3</td>\n",
       "      <td>8600000.0</td>\n",
       "      <td>81.7</td>\n",
       "      <td>2016-04-15T00:00:00</td>\n",
       "      <td>3</td>\n",
       "      <td>3.55</td>\n",
       "      <td>5.0</td>\n",
       "      <td>50.8</td>\n",
       "      <td>2</td>\n",
       "      <td>False</td>\n",
       "      <td>...</td>\n",
       "      <td>8.8</td>\n",
       "      <td>0.0</td>\n",
       "      <td>NaN</td>\n",
       "      <td>23478.0</td>\n",
       "      <td>4258.0</td>\n",
       "      <td>0.0</td>\n",
       "      <td>NaN</td>\n",
       "      <td>0.0</td>\n",
       "      <td>NaN</td>\n",
       "      <td>147.0</td>\n",
       "    </tr>\n",
       "    <tr>\n",
       "      <td>2033</td>\n",
       "      <td>6</td>\n",
       "      <td>5398000.0</td>\n",
       "      <td>80.0</td>\n",
       "      <td>2017-05-30T00:00:00</td>\n",
       "      <td>3</td>\n",
       "      <td>2.65</td>\n",
       "      <td>4.0</td>\n",
       "      <td>42.6</td>\n",
       "      <td>2</td>\n",
       "      <td>False</td>\n",
       "      <td>...</td>\n",
       "      <td>18.6</td>\n",
       "      <td>0.0</td>\n",
       "      <td>NaN</td>\n",
       "      <td>NaN</td>\n",
       "      <td>NaN</td>\n",
       "      <td>NaN</td>\n",
       "      <td>NaN</td>\n",
       "      <td>NaN</td>\n",
       "      <td>NaN</td>\n",
       "      <td>34.0</td>\n",
       "    </tr>\n",
       "    <tr>\n",
       "      <td>2603</td>\n",
       "      <td>20</td>\n",
       "      <td>3351765.0</td>\n",
       "      <td>42.7</td>\n",
       "      <td>2015-09-20T00:00:00</td>\n",
       "      <td>1</td>\n",
       "      <td>2.65</td>\n",
       "      <td>24.0</td>\n",
       "      <td>15.6</td>\n",
       "      <td>3</td>\n",
       "      <td>False</td>\n",
       "      <td>...</td>\n",
       "      <td>10.7</td>\n",
       "      <td>0.0</td>\n",
       "      <td>NaN</td>\n",
       "      <td>22041.0</td>\n",
       "      <td>17369.0</td>\n",
       "      <td>0.0</td>\n",
       "      <td>NaN</td>\n",
       "      <td>1.0</td>\n",
       "      <td>374.0</td>\n",
       "      <td>276.0</td>\n",
       "    </tr>\n",
       "    <tr>\n",
       "      <td>2632</td>\n",
       "      <td>2</td>\n",
       "      <td>5130593.0</td>\n",
       "      <td>62.4</td>\n",
       "      <td>2015-10-11T00:00:00</td>\n",
       "      <td>2</td>\n",
       "      <td>2.65</td>\n",
       "      <td>24.0</td>\n",
       "      <td>33.1</td>\n",
       "      <td>21</td>\n",
       "      <td>False</td>\n",
       "      <td>...</td>\n",
       "      <td>8.2</td>\n",
       "      <td>0.0</td>\n",
       "      <td>NaN</td>\n",
       "      <td>22041.0</td>\n",
       "      <td>17369.0</td>\n",
       "      <td>0.0</td>\n",
       "      <td>NaN</td>\n",
       "      <td>1.0</td>\n",
       "      <td>374.0</td>\n",
       "      <td>256.0</td>\n",
       "    </tr>\n",
       "    <tr>\n",
       "      <td>3574</td>\n",
       "      <td>10</td>\n",
       "      <td>4200000.0</td>\n",
       "      <td>46.5</td>\n",
       "      <td>2016-05-28T00:00:00</td>\n",
       "      <td>2</td>\n",
       "      <td>2.65</td>\n",
       "      <td>5.0</td>\n",
       "      <td>30.8</td>\n",
       "      <td>5</td>\n",
       "      <td>False</td>\n",
       "      <td>...</td>\n",
       "      <td>6.5</td>\n",
       "      <td>0.0</td>\n",
       "      <td>NaN</td>\n",
       "      <td>27419.0</td>\n",
       "      <td>8127.0</td>\n",
       "      <td>0.0</td>\n",
       "      <td>NaN</td>\n",
       "      <td>1.0</td>\n",
       "      <td>603.0</td>\n",
       "      <td>45.0</td>\n",
       "    </tr>\n",
       "  </tbody>\n",
       "</table>\n",
       "<p>5 rows × 22 columns</p>\n",
       "</div>"
      ],
      "text/plain": [
       "      total_images  last_price  total_area first_day_exposition  rooms  \\\n",
       "1097             3   8600000.0        81.7  2016-04-15T00:00:00      3   \n",
       "2033             6   5398000.0        80.0  2017-05-30T00:00:00      3   \n",
       "2603            20   3351765.0        42.7  2015-09-20T00:00:00      1   \n",
       "2632             2   5130593.0        62.4  2015-10-11T00:00:00      2   \n",
       "3574            10   4200000.0        46.5  2016-05-28T00:00:00      2   \n",
       "\n",
       "      ceiling_height  floors_total  living_area  floor is_apartment  ...  \\\n",
       "1097            3.55           5.0         50.8      2        False  ...   \n",
       "2033            2.65           4.0         42.6      2        False  ...   \n",
       "2603            2.65          24.0         15.6      3        False  ...   \n",
       "2632            2.65          24.0         33.1     21        False  ...   \n",
       "3574            2.65           5.0         30.8      5        False  ...   \n",
       "\n",
       "      kitchen_area  balcony  locality_name  airports_nearest  \\\n",
       "1097           8.8      0.0            NaN           23478.0   \n",
       "2033          18.6      0.0            NaN               NaN   \n",
       "2603          10.7      0.0            NaN           22041.0   \n",
       "2632           8.2      0.0            NaN           22041.0   \n",
       "3574           6.5      0.0            NaN           27419.0   \n",
       "\n",
       "     cityCenters_nearest  parks_around3000  parks_nearest  ponds_around3000  \\\n",
       "1097              4258.0               0.0            NaN               0.0   \n",
       "2033                 NaN               NaN            NaN               NaN   \n",
       "2603             17369.0               0.0            NaN               1.0   \n",
       "2632             17369.0               0.0            NaN               1.0   \n",
       "3574              8127.0               0.0            NaN               1.0   \n",
       "\n",
       "      ponds_nearest  days_exposition  \n",
       "1097            NaN            147.0  \n",
       "2033            NaN             34.0  \n",
       "2603          374.0            276.0  \n",
       "2632          374.0            256.0  \n",
       "3574          603.0             45.0  \n",
       "\n",
       "[5 rows x 22 columns]"
      ]
     },
     "metadata": {},
     "output_type": "display_data"
    }
   ],
   "source": [
    "display(df.query('locality_name != locality_name').head())"
   ]
  },
  {
   "cell_type": "markdown",
   "metadata": {},
   "source": [
    "Поскольку нет явных признаков населенного пункта, заменим пропуски на параметр \"Unknown\""
   ]
  },
  {
   "cell_type": "code",
   "execution_count": 812,
   "metadata": {},
   "outputs": [],
   "source": [
    "df['locality_name'] = df['locality_name'].fillna('Unknown')"
   ]
  },
  {
   "cell_type": "markdown",
   "metadata": {},
   "source": [
    "Поскольку данное поле является единственным текстовым параметром, необходимо:\n",
    "1. заменить все буквы ё на е\n",
    "2. убрать из названия географические признаки (поселок, село, прочее).\n",
    "3. привести все названия к единому регистру "
   ]
  },
  {
   "cell_type": "code",
   "execution_count": 813,
   "metadata": {},
   "outputs": [
    {
     "data": {
      "text/plain": [
       "Санкт-Петербург    15721\n",
       "поселок Мурино       556\n",
       "поселок Шушары       440\n",
       "Всеволожск           398\n",
       "Пушкин               369\n",
       "Name: locality_name, dtype: int64"
      ]
     },
     "metadata": {},
     "output_type": "display_data"
    }
   ],
   "source": [
    "#заменяем ё на е\n",
    "df['locality_name'] = df['locality_name'].str.replace('ё', 'е')\n",
    "display(df['locality_name'].value_counts().head())"
   ]
  },
  {
   "cell_type": "markdown",
   "metadata": {},
   "source": [
    "Как можно заметить все слова в поле, кроме названия населенного пункта, начинаются со строчной буквы. Разобьем поле на слова и оставим в названии только слова с заглавными буквами."
   ]
  },
  {
   "cell_type": "code",
   "execution_count": 814,
   "metadata": {},
   "outputs": [
    {
     "data": {
      "text/plain": [
       "санкт-петербург    15721\n",
       "мурино               590\n",
       "кудрово              472\n",
       "шушары               440\n",
       "всеволожск           398\n",
       "Name: locality_name, dtype: int64"
      ]
     },
     "metadata": {},
     "output_type": "display_data"
    }
   ],
   "source": [
    "#разобьем название на списки\n",
    "df['locality_name_split'] = df['locality_name'].str.split(' ')\n",
    "for index in range(len(df)):\n",
    "    df['locality_name_split'][index] = list(filter(lambda item: item[0].isupper() == True, df['locality_name_split'][index]))\n",
    "    df['locality_name'][index] = ''.join(df['locality_name_split'][index])\n",
    "\n",
    "#приведем к единому регистру\n",
    "df['locality_name'] = df['locality_name'].str.lower()\n",
    "\n",
    "#удалим вспомогательный столбец\n",
    "df = df.drop('locality_name_split',1)\n",
    "\n",
    "display(df['locality_name'].value_counts().head())"
   ]
  },
  {
   "cell_type": "markdown",
   "metadata": {},
   "source": [
    "**airports_nearest**   \n",
    "Данный параметр указывает расстояние до ближайшего аэропорта. Для 5000 объявлений данный параметр отсутствует. Взглянем на них подробнее."
   ]
  },
  {
   "cell_type": "code",
   "execution_count": 815,
   "metadata": {
    "scrolled": false
   },
   "outputs": [
    {
     "data": {
      "text/html": [
       "<div>\n",
       "<style scoped>\n",
       "    .dataframe tbody tr th:only-of-type {\n",
       "        vertical-align: middle;\n",
       "    }\n",
       "\n",
       "    .dataframe tbody tr th {\n",
       "        vertical-align: top;\n",
       "    }\n",
       "\n",
       "    .dataframe thead th {\n",
       "        text-align: right;\n",
       "    }\n",
       "</style>\n",
       "<table border=\"1\" class=\"dataframe\">\n",
       "  <thead>\n",
       "    <tr style=\"text-align: right;\">\n",
       "      <th></th>\n",
       "      <th>total_images</th>\n",
       "      <th>last_price</th>\n",
       "      <th>total_area</th>\n",
       "      <th>first_day_exposition</th>\n",
       "      <th>rooms</th>\n",
       "      <th>ceiling_height</th>\n",
       "      <th>floors_total</th>\n",
       "      <th>living_area</th>\n",
       "      <th>floor</th>\n",
       "      <th>is_apartment</th>\n",
       "      <th>...</th>\n",
       "      <th>kitchen_area</th>\n",
       "      <th>balcony</th>\n",
       "      <th>locality_name</th>\n",
       "      <th>airports_nearest</th>\n",
       "      <th>cityCenters_nearest</th>\n",
       "      <th>parks_around3000</th>\n",
       "      <th>parks_nearest</th>\n",
       "      <th>ponds_around3000</th>\n",
       "      <th>ponds_nearest</th>\n",
       "      <th>days_exposition</th>\n",
       "    </tr>\n",
       "  </thead>\n",
       "  <tbody>\n",
       "    <tr>\n",
       "      <td>5</td>\n",
       "      <td>10</td>\n",
       "      <td>2890000.0</td>\n",
       "      <td>30.40</td>\n",
       "      <td>2018-09-10T00:00:00</td>\n",
       "      <td>1</td>\n",
       "      <td>2.65</td>\n",
       "      <td>12.0</td>\n",
       "      <td>14.400000</td>\n",
       "      <td>5</td>\n",
       "      <td>False</td>\n",
       "      <td>...</td>\n",
       "      <td>9.100000</td>\n",
       "      <td>0.0</td>\n",
       "      <td>янино-1</td>\n",
       "      <td>NaN</td>\n",
       "      <td>NaN</td>\n",
       "      <td>NaN</td>\n",
       "      <td>NaN</td>\n",
       "      <td>NaN</td>\n",
       "      <td>NaN</td>\n",
       "      <td>55.0</td>\n",
       "    </tr>\n",
       "    <tr>\n",
       "      <td>8</td>\n",
       "      <td>20</td>\n",
       "      <td>2900000.0</td>\n",
       "      <td>33.16</td>\n",
       "      <td>2018-05-23T00:00:00</td>\n",
       "      <td>1</td>\n",
       "      <td>2.65</td>\n",
       "      <td>27.0</td>\n",
       "      <td>15.430000</td>\n",
       "      <td>26</td>\n",
       "      <td>False</td>\n",
       "      <td>...</td>\n",
       "      <td>8.810000</td>\n",
       "      <td>0.0</td>\n",
       "      <td>мурино</td>\n",
       "      <td>NaN</td>\n",
       "      <td>NaN</td>\n",
       "      <td>NaN</td>\n",
       "      <td>NaN</td>\n",
       "      <td>NaN</td>\n",
       "      <td>NaN</td>\n",
       "      <td>189.0</td>\n",
       "    </tr>\n",
       "    <tr>\n",
       "      <td>12</td>\n",
       "      <td>10</td>\n",
       "      <td>3890000.0</td>\n",
       "      <td>54.00</td>\n",
       "      <td>2016-06-30T00:00:00</td>\n",
       "      <td>2</td>\n",
       "      <td>2.65</td>\n",
       "      <td>5.0</td>\n",
       "      <td>30.000000</td>\n",
       "      <td>5</td>\n",
       "      <td>False</td>\n",
       "      <td>...</td>\n",
       "      <td>9.000000</td>\n",
       "      <td>0.0</td>\n",
       "      <td>сертолово</td>\n",
       "      <td>NaN</td>\n",
       "      <td>NaN</td>\n",
       "      <td>NaN</td>\n",
       "      <td>NaN</td>\n",
       "      <td>NaN</td>\n",
       "      <td>NaN</td>\n",
       "      <td>90.0</td>\n",
       "    </tr>\n",
       "    <tr>\n",
       "      <td>22</td>\n",
       "      <td>20</td>\n",
       "      <td>5000000.0</td>\n",
       "      <td>58.00</td>\n",
       "      <td>2017-04-24T00:00:00</td>\n",
       "      <td>2</td>\n",
       "      <td>2.75</td>\n",
       "      <td>25.0</td>\n",
       "      <td>30.000000</td>\n",
       "      <td>15</td>\n",
       "      <td>False</td>\n",
       "      <td>...</td>\n",
       "      <td>11.000000</td>\n",
       "      <td>2.0</td>\n",
       "      <td>кудрово</td>\n",
       "      <td>NaN</td>\n",
       "      <td>NaN</td>\n",
       "      <td>NaN</td>\n",
       "      <td>NaN</td>\n",
       "      <td>NaN</td>\n",
       "      <td>NaN</td>\n",
       "      <td>60.0</td>\n",
       "    </tr>\n",
       "    <tr>\n",
       "      <td>30</td>\n",
       "      <td>12</td>\n",
       "      <td>2200000.0</td>\n",
       "      <td>32.80</td>\n",
       "      <td>2018-02-19T00:00:00</td>\n",
       "      <td>1</td>\n",
       "      <td>2.65</td>\n",
       "      <td>9.0</td>\n",
       "      <td>18.625805</td>\n",
       "      <td>2</td>\n",
       "      <td>False</td>\n",
       "      <td>...</td>\n",
       "      <td>5.655172</td>\n",
       "      <td>0.0</td>\n",
       "      <td>коммунар</td>\n",
       "      <td>NaN</td>\n",
       "      <td>NaN</td>\n",
       "      <td>NaN</td>\n",
       "      <td>NaN</td>\n",
       "      <td>NaN</td>\n",
       "      <td>NaN</td>\n",
       "      <td>63.0</td>\n",
       "    </tr>\n",
       "  </tbody>\n",
       "</table>\n",
       "<p>5 rows × 22 columns</p>\n",
       "</div>"
      ],
      "text/plain": [
       "    total_images  last_price  total_area first_day_exposition  rooms  \\\n",
       "5             10   2890000.0       30.40  2018-09-10T00:00:00      1   \n",
       "8             20   2900000.0       33.16  2018-05-23T00:00:00      1   \n",
       "12            10   3890000.0       54.00  2016-06-30T00:00:00      2   \n",
       "22            20   5000000.0       58.00  2017-04-24T00:00:00      2   \n",
       "30            12   2200000.0       32.80  2018-02-19T00:00:00      1   \n",
       "\n",
       "    ceiling_height  floors_total  living_area  floor is_apartment  ...  \\\n",
       "5             2.65          12.0    14.400000      5        False  ...   \n",
       "8             2.65          27.0    15.430000     26        False  ...   \n",
       "12            2.65           5.0    30.000000      5        False  ...   \n",
       "22            2.75          25.0    30.000000     15        False  ...   \n",
       "30            2.65           9.0    18.625805      2        False  ...   \n",
       "\n",
       "    kitchen_area  balcony  locality_name  airports_nearest  \\\n",
       "5       9.100000      0.0        янино-1               NaN   \n",
       "8       8.810000      0.0         мурино               NaN   \n",
       "12      9.000000      0.0      сертолово               NaN   \n",
       "22     11.000000      2.0        кудрово               NaN   \n",
       "30      5.655172      0.0       коммунар               NaN   \n",
       "\n",
       "   cityCenters_nearest  parks_around3000  parks_nearest  ponds_around3000  \\\n",
       "5                  NaN               NaN            NaN               NaN   \n",
       "8                  NaN               NaN            NaN               NaN   \n",
       "12                 NaN               NaN            NaN               NaN   \n",
       "22                 NaN               NaN            NaN               NaN   \n",
       "30                 NaN               NaN            NaN               NaN   \n",
       "\n",
       "    ponds_nearest  days_exposition  \n",
       "5             NaN             55.0  \n",
       "8             NaN            189.0  \n",
       "12            NaN             90.0  \n",
       "22            NaN             60.0  \n",
       "30            NaN             63.0  \n",
       "\n",
       "[5 rows x 22 columns]"
      ]
     },
     "metadata": {},
     "output_type": "display_data"
    }
   ],
   "source": [
    "df_nan_airports = df.query('airports_nearest != airports_nearest')\n",
    "display(df_nan_airports.head())"
   ]
  },
  {
   "cell_type": "markdown",
   "metadata": {},
   "source": [
    "Напротив каждого пропуска мы имеем название населенного пункта. Посчитаем медианное значение удаленности от аэропорта для каждого из них."
   ]
  },
  {
   "cell_type": "code",
   "execution_count": 816,
   "metadata": {
    "scrolled": false
   },
   "outputs": [
    {
     "data": {
      "text/html": [
       "<div>\n",
       "<style scoped>\n",
       "    .dataframe tbody tr th:only-of-type {\n",
       "        vertical-align: middle;\n",
       "    }\n",
       "\n",
       "    .dataframe tbody tr th {\n",
       "        vertical-align: top;\n",
       "    }\n",
       "\n",
       "    .dataframe thead th {\n",
       "        text-align: right;\n",
       "    }\n",
       "</style>\n",
       "<table border=\"1\" class=\"dataframe\">\n",
       "  <thead>\n",
       "    <tr style=\"text-align: right;\">\n",
       "      <th></th>\n",
       "      <th>airports_nearest</th>\n",
       "    </tr>\n",
       "    <tr>\n",
       "      <th>locality_name</th>\n",
       "      <th></th>\n",
       "    </tr>\n",
       "  </thead>\n",
       "  <tbody>\n",
       "    <tr>\n",
       "      <td>unknown</td>\n",
       "      <td>22041.0</td>\n",
       "    </tr>\n",
       "    <tr>\n",
       "      <td>александровская</td>\n",
       "      <td>12896.5</td>\n",
       "    </tr>\n",
       "    <tr>\n",
       "      <td>белоостров</td>\n",
       "      <td>57769.0</td>\n",
       "    </tr>\n",
       "    <tr>\n",
       "      <td>зеленогорск</td>\n",
       "      <td>72282.0</td>\n",
       "    </tr>\n",
       "    <tr>\n",
       "      <td>колпино</td>\n",
       "      <td>26232.0</td>\n",
       "    </tr>\n",
       "  </tbody>\n",
       "</table>\n",
       "</div>"
      ],
      "text/plain": [
       "                 airports_nearest\n",
       "locality_name                    \n",
       "unknown                   22041.0\n",
       "александровская           12896.5\n",
       "белоостров                57769.0\n",
       "зеленогорск               72282.0\n",
       "колпино                   26232.0"
      ]
     },
     "metadata": {},
     "output_type": "display_data"
    }
   ],
   "source": [
    "df_pivot_airports = df.pivot_table(index='locality_name', values='airports_nearest', aggfunc='median')\n",
    "display(df_pivot_airports.head())"
   ]
  },
  {
   "cell_type": "markdown",
   "metadata": {},
   "source": [
    "Заменим пропуски на медианные значения."
   ]
  },
  {
   "cell_type": "code",
   "execution_count": 817,
   "metadata": {},
   "outputs": [],
   "source": [
    "for index in range(len(df)):\n",
    "    if math.isnan(df['airports_nearest'][index]):\n",
    "        try:\n",
    "            df['airports_nearest'][index] = df_pivot_airports.loc[df['locality_name'][index]].sum()\n",
    "        except:\n",
    "            df['airports_nearest'][index] = 0"
   ]
  },
  {
   "cell_type": "markdown",
   "metadata": {},
   "source": [
    "**cityCenters_nearest**   \n",
    "По аналогии с удаленностью от аэропорта заменим пропуски на медианные значения."
   ]
  },
  {
   "cell_type": "code",
   "execution_count": 818,
   "metadata": {
    "scrolled": false
   },
   "outputs": [],
   "source": [
    "df_pivot_centers = df.pivot_table(index='locality_name', values='cityCenters_nearest', aggfunc='median')"
   ]
  },
  {
   "cell_type": "code",
   "execution_count": 819,
   "metadata": {},
   "outputs": [],
   "source": [
    "for index in range(len(df)):\n",
    "    if math.isnan(df['cityCenters_nearest'][index]):\n",
    "        try:\n",
    "            df['cityCenters_nearest'][index] = df_pivot_centers.loc[df['locality_name'][index]].sum()\n",
    "        except:\n",
    "            df['cityCenters_nearest'][index] = 0"
   ]
  },
  {
   "cell_type": "markdown",
   "metadata": {},
   "source": [
    "**parks_nearest**   \n",
    "Данный параметр указывает расстояние до ближайшего парка. Взглянем на объявления с пропущенным значением, а также на распределение значений parks_around3000 внутри выбранного датасета."
   ]
  },
  {
   "cell_type": "code",
   "execution_count": 820,
   "metadata": {},
   "outputs": [
    {
     "name": "stdout",
     "output_type": "stream",
     "text": [
      "0.0    10102\n",
      "Name: parks_around3000, dtype: int64\n"
     ]
    }
   ],
   "source": [
    "df_nan_parks = df.query('parks_nearest != parks_nearest')\n",
    "print(df_nan_parks['parks_around3000'].value_counts())"
   ]
  },
  {
   "cell_type": "markdown",
   "metadata": {},
   "source": [
    "Во всех объявлениях, где не указано расстояние до ближайшего парка, отсутствует маркер parks_around3000, что свидетельствует об отсутствии парка в пределах 3км. Заменим пропуски на 0, предполагая, что расстояние в 0 значит отсутствие парка."
   ]
  },
  {
   "cell_type": "code",
   "execution_count": 821,
   "metadata": {
    "scrolled": false
   },
   "outputs": [],
   "source": [
    "df['parks_nearest'] = df['parks_nearest'].fillna(0)"
   ]
  },
  {
   "cell_type": "markdown",
   "metadata": {},
   "source": [
    "**parks_around3000**   \n",
    "Предположим, что если не указано значение для параметра, то парков рядом нет и значение должно равняться нулю (см.пункт выше)."
   ]
  },
  {
   "cell_type": "code",
   "execution_count": 822,
   "metadata": {},
   "outputs": [],
   "source": [
    "df['parks_around3000'] = df['parks_around3000'].fillna(0)"
   ]
  },
  {
   "cell_type": "markdown",
   "metadata": {},
   "source": [
    "**ponds_around3000**   \n",
    "Взглянем на распределение кол-ва прудов, где не указан параметр расстояние до ближайшего."
   ]
  },
  {
   "cell_type": "code",
   "execution_count": 823,
   "metadata": {},
   "outputs": [
    {
     "name": "stdout",
     "output_type": "stream",
     "text": [
      "Series([], Name: ponds_nearest, dtype: int64)\n"
     ]
    }
   ],
   "source": [
    "print(df.query('ponds_around3000 != ponds_around3000')['ponds_nearest'].value_counts())"
   ]
  },
  {
   "cell_type": "markdown",
   "metadata": {},
   "source": [
    "Можно заметить, что для всех таких объявлений значения также пропущены. Заменим пропущенные значения в столбце ponds_around3000 на 0, считая, что если значения не указано, то прудов рядом нет."
   ]
  },
  {
   "cell_type": "code",
   "execution_count": 824,
   "metadata": {},
   "outputs": [],
   "source": [
    "df['ponds_around3000'] = df['ponds_around3000'].fillna(0)"
   ]
  },
  {
   "cell_type": "markdown",
   "metadata": {},
   "source": [
    "**ponds_nearest**   \n",
    "Проанализируем аналогично parks_nearest."
   ]
  },
  {
   "cell_type": "code",
   "execution_count": 825,
   "metadata": {},
   "outputs": [
    {
     "name": "stdout",
     "output_type": "stream",
     "text": [
      "0.0    5816\n",
      "1.0    3143\n",
      "2.0     848\n",
      "3.0     295\n",
      "Name: ponds_around3000, dtype: int64\n"
     ]
    }
   ],
   "source": [
    "df_nan_ponds = df.query('ponds_nearest != ponds_nearest')\n",
    "print(df_nan_parks['ponds_around3000'].value_counts())"
   ]
  },
  {
   "cell_type": "markdown",
   "metadata": {},
   "source": [
    "Для большинства наблюдений, где не указано расстояние до водоема, справедиво и его отсутствие (в виде 0) в показателе ponds_around3000. В этих наблюдениях пропуски в столбце ponds_nearest можно заменить на 0.   \n",
    "Для остальных случаев проанализируем распределение по группам."
   ]
  },
  {
   "cell_type": "code",
   "execution_count": 826,
   "metadata": {},
   "outputs": [
    {
     "name": "stdout",
     "output_type": "stream",
     "text": [
      "                  ponds_nearest\n",
      "ponds_around3000               \n",
      "1.0                       593.0\n",
      "2.0                       437.0\n",
      "3.0                       305.0\n"
     ]
    },
    {
     "data": {
      "image/png": "[encoded data removed]",
      "text/plain": [
       "<Figure size 432x288 with 1 Axes>"
      ]
     },
     "metadata": {
      "needs_background": "light"
     },
     "output_type": "display_data"
    }
   ],
   "source": [
    "df.query('ponds_around3000 == 1')['ponds_nearest'].hist()\n",
    "df.query('ponds_around3000 == 2')['ponds_nearest'].hist()\n",
    "df.query('ponds_around3000 == 3')['ponds_nearest'].hist()\n",
    "df_pivot_ponds = df.pivot_table(index='ponds_around3000', values='ponds_nearest', aggfunc='median')\n",
    "print(df_pivot_ponds)"
   ]
  },
  {
   "cell_type": "markdown",
   "metadata": {},
   "source": [
    "Чем больше водоемов в пределах 3км, тем меньше расстояние до ближайшего (ваш кэп). Возьмем медианные значения по группам для заполнения соответствующих пропусков."
   ]
  },
  {
   "cell_type": "code",
   "execution_count": 827,
   "metadata": {
    "scrolled": false
   },
   "outputs": [],
   "source": [
    "for index in range(len(df)):\n",
    "    if math.isnan(df['ponds_nearest'][index]) == True:\n",
    "        if df['ponds_around3000'][index] == 0:\n",
    "            df['ponds_nearest'][index] = 0\n",
    "        else:\n",
    "            df['ponds_nearest'][index] = df_pivot_ponds.loc[df['ponds_nearest'][index]]"
   ]
  },
  {
   "cell_type": "markdown",
   "metadata": {},
   "source": [
    "**days_exposition**   \n",
    "У каждого объявления есть дата создания, но для 2305 объявлений отсутствует информация по продолжительности размещения. Поскольку это составляет значительную часть выборки, отказаться от этих данных мы не можем. Заменим пропуски на значение моды данного показателя."
   ]
  },
  {
   "cell_type": "code",
   "execution_count": 828,
   "metadata": {},
   "outputs": [
    {
     "name": "stdout",
     "output_type": "stream",
     "text": [
      "<class 'pandas.core.frame.DataFrame'>\n",
      "RangeIndex: 23699 entries, 0 to 23698\n",
      "Data columns (total 22 columns):\n",
      "total_images            23699 non-null int64\n",
      "last_price              23699 non-null float64\n",
      "total_area              23699 non-null float64\n",
      "first_day_exposition    23699 non-null object\n",
      "rooms                   23699 non-null int64\n",
      "ceiling_height          23699 non-null float64\n",
      "floors_total            23699 non-null float64\n",
      "living_area             23699 non-null float64\n",
      "floor                   23699 non-null int64\n",
      "is_apartment            23699 non-null object\n",
      "studio                  23699 non-null bool\n",
      "open_plan               23699 non-null bool\n",
      "kitchen_area            23699 non-null float64\n",
      "balcony                 23699 non-null float64\n",
      "locality_name           23699 non-null object\n",
      "airports_nearest        23699 non-null float64\n",
      "cityCenters_nearest     23699 non-null float64\n",
      "parks_around3000        23699 non-null float64\n",
      "parks_nearest           23699 non-null float64\n",
      "ponds_around3000        23699 non-null float64\n",
      "ponds_nearest           23699 non-null float64\n",
      "days_exposition         23699 non-null float64\n",
      "dtypes: bool(2), float64(14), int64(3), object(3)\n",
      "memory usage: 3.7+ MB\n"
     ]
    }
   ],
   "source": [
    "days_mode = df['days_exposition'].mode().sum()\n",
    "df['days_exposition'] = df['days_exposition'].fillna(days_mode)\n",
    "df.info()"
   ]
  },
  {
   "cell_type": "markdown",
   "metadata": {},
   "source": [
    "### Удаление дубликатов"
   ]
  },
  {
   "cell_type": "markdown",
   "metadata": {},
   "source": [
    "Оценим кол-во дубликатов"
   ]
  },
  {
   "cell_type": "code",
   "execution_count": 829,
   "metadata": {
    "scrolled": true
   },
   "outputs": [
    {
     "name": "stdout",
     "output_type": "stream",
     "text": [
      "0\n"
     ]
    }
   ],
   "source": [
    "print(df.duplicated().sum())"
   ]
  },
  {
   "cell_type": "markdown",
   "metadata": {},
   "source": [
    "Дубликатов нет => удалять нечего."
   ]
  },
  {
   "cell_type": "markdown",
   "metadata": {},
   "source": [
    "### Изменение типов данных"
   ]
  },
  {
   "cell_type": "markdown",
   "metadata": {},
   "source": [
    "Напомню переменные, для которых мы меняем тип данных:\n",
    "- first_day_exposition. ожидаемый формат - date. дата публикации\n",
    "- floors_total. ожидаемый формат - int64. количество этажей в доме должно быть целочисленным\n",
    "- is_apartment. ожидаемый формат - bool.\n",
    "- balcony. ожидаемый формат - int64. количество балконов в доме должно быть целочисленным\n",
    "- parks_around3000. ожидаемый формат - int64. количество парков должно быть целочисленным\n",
    "- ponds_around3000. ожидаемый формат - int64. количество прудов должно быть целочисленным\n",
    "- days_exposition. ожидаемый формат - int64. количество прудов должно быть целочисленным"
   ]
  },
  {
   "cell_type": "code",
   "execution_count": 830,
   "metadata": {
    "scrolled": false
   },
   "outputs": [
    {
     "name": "stdout",
     "output_type": "stream",
     "text": [
      "<class 'pandas.core.frame.DataFrame'>\n",
      "RangeIndex: 23699 entries, 0 to 23698\n",
      "Data columns (total 22 columns):\n",
      "total_images            23699 non-null int64\n",
      "last_price              23699 non-null float64\n",
      "total_area              23699 non-null float64\n",
      "first_day_exposition    23699 non-null datetime64[ns]\n",
      "rooms                   23699 non-null int64\n",
      "ceiling_height          23699 non-null float64\n",
      "floors_total            23699 non-null int64\n",
      "living_area             23699 non-null float64\n",
      "floor                   23699 non-null int64\n",
      "is_apartment            23699 non-null bool\n",
      "studio                  23699 non-null bool\n",
      "open_plan               23699 non-null bool\n",
      "kitchen_area            23699 non-null float64\n",
      "balcony                 23699 non-null int64\n",
      "locality_name           23699 non-null object\n",
      "airports_nearest        23699 non-null float64\n",
      "cityCenters_nearest     23699 non-null float64\n",
      "parks_around3000        23699 non-null int64\n",
      "parks_nearest           23699 non-null float64\n",
      "ponds_around3000        23699 non-null int64\n",
      "ponds_nearest           23699 non-null float64\n",
      "days_exposition         23699 non-null int64\n",
      "dtypes: bool(3), datetime64[ns](1), float64(9), int64(8), object(1)\n",
      "memory usage: 3.5+ MB\n"
     ]
    }
   ],
   "source": [
    "df['first_day_exposition'] = pd.to_datetime(df['first_day_exposition'], format='%Y-%m-%dT%H:%M:%S')\n",
    "df['floors_total'] = df['floors_total'].astype('int64')\n",
    "df['is_apartment'] = df['is_apartment'].astype('bool')\n",
    "df['balcony'] = df['balcony'].astype('int64')\n",
    "df['parks_around3000'] = df['parks_around3000'].astype('int64')\n",
    "df['ponds_around3000'] = df['ponds_around3000'].astype('int64')\n",
    "df['days_exposition'] = df['days_exposition'].astype('int64')\n",
    "\n",
    "df.info()"
   ]
  },
  {
   "cell_type": "markdown",
   "metadata": {},
   "source": [
    "**Вывод**   \n",
    "Все пропуски были заменены или удалены, типы данных приведены в соответствие => можно приступать к расчетам и анализу.\n",
    "Также хотелось бы адресовать поставщику данных большое количество пропусков по переменным, касающимся географии и типа площади (апартаменты / нет)."
   ]
  },
  {
   "cell_type": "markdown",
   "metadata": {},
   "source": [
    "## Расчёты и добавление результатов в таблицу"
   ]
  },
  {
   "cell_type": "markdown",
   "metadata": {},
   "source": [
    "Рассчитаем дополнительные поля:   \n",
    "- цену за кв.м.\n",
    "- день недели, месяц, год публикации\n",
    "- тип этажности (первый / последний / другой)\n",
    "- доли кухонной и жилой площади."
   ]
  },
  {
   "cell_type": "code",
   "execution_count": 831,
   "metadata": {},
   "outputs": [
    {
     "name": "stdout",
     "output_type": "stream",
     "text": [
      "<class 'pandas.core.frame.DataFrame'>\n",
      "RangeIndex: 23699 entries, 0 to 23698\n",
      "Data columns (total 29 columns):\n",
      "total_images            23699 non-null int64\n",
      "last_price              23699 non-null float64\n",
      "total_area              23699 non-null float64\n",
      "first_day_exposition    23699 non-null datetime64[ns]\n",
      "rooms                   23699 non-null int64\n",
      "ceiling_height          23699 non-null float64\n",
      "floors_total            23699 non-null int64\n",
      "living_area             23699 non-null float64\n",
      "floor                   23699 non-null int64\n",
      "is_apartment            23699 non-null bool\n",
      "studio                  23699 non-null bool\n",
      "open_plan               23699 non-null bool\n",
      "kitchen_area            23699 non-null float64\n",
      "balcony                 23699 non-null int64\n",
      "locality_name           23699 non-null object\n",
      "airports_nearest        23699 non-null float64\n",
      "cityCenters_nearest     23699 non-null float64\n",
      "parks_around3000        23699 non-null int64\n",
      "parks_nearest           23699 non-null float64\n",
      "ponds_around3000        23699 non-null int64\n",
      "ponds_nearest           23699 non-null float64\n",
      "days_exposition         23699 non-null int64\n",
      "price_sq_m              23699 non-null float64\n",
      "weekday                 23699 non-null int64\n",
      "month                   23699 non-null int64\n",
      "year                    23699 non-null int64\n",
      "floor_type              23699 non-null object\n",
      "living_total_share      23699 non-null float64\n",
      "kitchen_total_share     23699 non-null float64\n",
      "dtypes: bool(3), datetime64[ns](1), float64(12), int64(11), object(2)\n",
      "memory usage: 4.8+ MB\n"
     ]
    }
   ],
   "source": [
    "#расчет стоимости кв.метра\n",
    "df['price_sq_m'] = df['last_price'] / df['total_area']\n",
    "#день недели, месяц, год\n",
    "df['weekday'] = df['first_day_exposition'].dt.weekday\n",
    "df['month'] = df['first_day_exposition'].dt.month\n",
    "df['year'] = df['first_day_exposition'].dt.year\n",
    "\n",
    "#этаж квартиры\n",
    "df['floor_type'] = ''\n",
    "for index in range(len(df)):\n",
    "    if df['floor'][index] == 1:\n",
    "        df['floor_type'][index] = 'первый'\n",
    "    elif df['floor'][index] == df['floors_total'][index]:\n",
    "        df['floor_type'][index] = 'последний'\n",
    "    else:\n",
    "        df['floor_type'][index] = 'другой'\n",
    "\n",
    "#жилая/общая, кухня/общая        \n",
    "df['living_total_share'] = df['living_area'] / df['total_area']\n",
    "df['kitchen_total_share'] = df['kitchen_area'] / df['total_area']\n",
    "\n",
    "df.info()"
   ]
  },
  {
   "cell_type": "markdown",
   "metadata": {},
   "source": [
    "## Исследовательский анализ данных"
   ]
  },
  {
   "cell_type": "markdown",
   "metadata": {},
   "source": [
    "### Анализ площади, цены, этажности и высоты потолков"
   ]
  },
  {
   "cell_type": "code",
   "execution_count": 832,
   "metadata": {
    "scrolled": false
   },
   "outputs": [
    {
     "data": {
      "image/png": "[encoded data removed]",
      "text/plain": [
       "<Figure size 432x288 with 1 Axes>"
      ]
     },
     "metadata": {
      "needs_background": "light"
     },
     "output_type": "display_data"
    },
    {
     "data": {
      "image/png": "[encoded data removed]",
      "text/plain": [
       "<Figure size 432x288 with 1 Axes>"
      ]
     },
     "metadata": {
      "needs_background": "light"
     },
     "output_type": "display_data"
    },
    {
     "data": {
      "image/png": "[encoded data removed]",
      "text/plain": [
       "<Figure size 432x288 with 1 Axes>"
      ]
     },
     "metadata": {
      "needs_background": "light"
     },
     "output_type": "display_data"
    },
    {
     "data": {
      "image/png": "[encoded data removed]",
      "text/plain": [
       "<Figure size 432x288 with 1 Axes>"
      ]
     },
     "metadata": {
      "needs_background": "light"
     },
     "output_type": "display_data"
    }
   ],
   "source": [
    "#приведем стоимость к млн.руб для удобства анализа\n",
    "df['last_price'] = df['last_price'] / 1000000\n",
    "\n",
    "lst = ['total_area', 'last_price', 'floors_total', 'ceiling_height']\n",
    "for element in lst:\n",
    "    df.plot(y=element, kind='hist', bins=100, title=element, range=(min(df[element]),max(df[element])))"
   ]
  },
  {
   "cell_type": "markdown",
   "metadata": {},
   "source": [
    "Рассмотрим также описательные статистики параметров."
   ]
  },
  {
   "cell_type": "code",
   "execution_count": 833,
   "metadata": {},
   "outputs": [
    {
     "data": {
      "text/html": [
       "<div>\n",
       "<style scoped>\n",
       "    .dataframe tbody tr th:only-of-type {\n",
       "        vertical-align: middle;\n",
       "    }\n",
       "\n",
       "    .dataframe tbody tr th {\n",
       "        vertical-align: top;\n",
       "    }\n",
       "\n",
       "    .dataframe thead th {\n",
       "        text-align: right;\n",
       "    }\n",
       "</style>\n",
       "<table border=\"1\" class=\"dataframe\">\n",
       "  <thead>\n",
       "    <tr style=\"text-align: right;\">\n",
       "      <th></th>\n",
       "      <th>total_area</th>\n",
       "      <th>last_price</th>\n",
       "      <th>floors_total</th>\n",
       "      <th>ceiling_height</th>\n",
       "    </tr>\n",
       "  </thead>\n",
       "  <tbody>\n",
       "    <tr>\n",
       "      <td>count</td>\n",
       "      <td>23699.000000</td>\n",
       "      <td>23699.000000</td>\n",
       "      <td>23699.000000</td>\n",
       "      <td>23699.000000</td>\n",
       "    </tr>\n",
       "    <tr>\n",
       "      <td>mean</td>\n",
       "      <td>60.348651</td>\n",
       "      <td>6.541549</td>\n",
       "      <td>10.678678</td>\n",
       "      <td>2.724358</td>\n",
       "    </tr>\n",
       "    <tr>\n",
       "      <td>std</td>\n",
       "      <td>35.654083</td>\n",
       "      <td>10.887013</td>\n",
       "      <td>6.591239</td>\n",
       "      <td>0.988298</td>\n",
       "    </tr>\n",
       "    <tr>\n",
       "      <td>min</td>\n",
       "      <td>12.000000</td>\n",
       "      <td>0.012190</td>\n",
       "      <td>1.000000</td>\n",
       "      <td>1.000000</td>\n",
       "    </tr>\n",
       "    <tr>\n",
       "      <td>25%</td>\n",
       "      <td>40.000000</td>\n",
       "      <td>3.400000</td>\n",
       "      <td>5.000000</td>\n",
       "      <td>2.600000</td>\n",
       "    </tr>\n",
       "    <tr>\n",
       "      <td>50%</td>\n",
       "      <td>52.000000</td>\n",
       "      <td>4.650000</td>\n",
       "      <td>9.000000</td>\n",
       "      <td>2.650000</td>\n",
       "    </tr>\n",
       "    <tr>\n",
       "      <td>75%</td>\n",
       "      <td>69.900000</td>\n",
       "      <td>6.800000</td>\n",
       "      <td>16.000000</td>\n",
       "      <td>2.700000</td>\n",
       "    </tr>\n",
       "    <tr>\n",
       "      <td>max</td>\n",
       "      <td>900.000000</td>\n",
       "      <td>763.000000</td>\n",
       "      <td>60.000000</td>\n",
       "      <td>100.000000</td>\n",
       "    </tr>\n",
       "  </tbody>\n",
       "</table>\n",
       "</div>"
      ],
      "text/plain": [
       "         total_area    last_price  floors_total  ceiling_height\n",
       "count  23699.000000  23699.000000  23699.000000    23699.000000\n",
       "mean      60.348651      6.541549     10.678678        2.724358\n",
       "std       35.654083     10.887013      6.591239        0.988298\n",
       "min       12.000000      0.012190      1.000000        1.000000\n",
       "25%       40.000000      3.400000      5.000000        2.600000\n",
       "50%       52.000000      4.650000      9.000000        2.650000\n",
       "75%       69.900000      6.800000     16.000000        2.700000\n",
       "max      900.000000    763.000000     60.000000      100.000000"
      ]
     },
     "execution_count": 833,
     "metadata": {},
     "output_type": "execute_result"
    }
   ],
   "source": [
    "df[['total_area', 'last_price', 'floors_total', 'ceiling_height']].describe()"
   ]
  },
  {
   "cell_type": "markdown",
   "metadata": {},
   "source": [
    "Как видно из графиков и описательных статистик, у каждого из показателей присутствуют аномально низкие и высокие значения. Посчитаем кол-во наблюдений, у которых   \n",
    "- площадь меньше 20м2 и больше 200 м2\n",
    "- стоимость меньше 0.5 млн и больше 50 млн руб\n",
    "- этажность меньше 2 и больше 30\n",
    "- высота потолков меньше 2м и больше 5м"
   ]
  },
  {
   "cell_type": "code",
   "execution_count": 834,
   "metadata": {},
   "outputs": [
    {
     "name": "stdout",
     "output_type": "stream",
     "text": [
      "total_area < 20 27\n",
      "total_area > 200 61\n",
      "last_price < 0.5 14\n",
      "last_price > 50 37\n",
      "floors_total < 2 25\n",
      "floors_total > 30 32\n",
      "ceiling_height < 2 3\n",
      "ceiling_height > 5 36\n"
     ]
    }
   ],
   "source": [
    "print('total_area < 20', df.query('total_area < 20')['total_area'].count())\n",
    "print('total_area > 200', df.query('total_area > 300')['total_area'].count())\n",
    "\n",
    "print('last_price < 0.5', df.query('last_price < 0.5')['last_price'].count())\n",
    "print('last_price > 50', df.query('last_price > 100')['last_price'].count())\n",
    "\n",
    "print('floors_total < 2', df.query('floors_total < 2')['floors_total'].count())\n",
    "print('floors_total > 30', df.query('floors_total > 30')['floors_total'].count())\n",
    "\n",
    "print('ceiling_height < 2', df.query('ceiling_height < 2')['ceiling_height'].count())\n",
    "print('ceiling_height > 5', df.query('ceiling_height > 5')['ceiling_height'].count())"
   ]
  },
  {
   "cell_type": "markdown",
   "metadata": {},
   "source": [
    "Посчитаем процент наблюдений, которые будут исключены после очистки."
   ]
  },
  {
   "cell_type": "code",
   "execution_count": 835,
   "metadata": {
    "scrolled": false
   },
   "outputs": [
    {
     "name": "stdout",
     "output_type": "stream",
     "text": [
      "23409\n",
      "процент исключений составляет 1.2%\n"
     ]
    }
   ],
   "source": [
    "excl = df.query('total_area < 20 or total_area > 300'\n",
    "                'or last_price < 0.5 or last_price > 50'\n",
    "                'or floors_total < 2 or floors_total > 30'\n",
    "                'or ceiling_height < 2 or ceiling_height > 5')['total_area'].count()\n",
    "print(len(df)-excl)\n",
    "print(f'процент исключений составляет {(excl / len(df)):.1%}')"
   ]
  },
  {
   "cell_type": "markdown",
   "metadata": {},
   "source": [
    "Поскольку доля выбросов составляет чуть более 1%, исключим эти наблюдения для получения более достоверных результатов."
   ]
  },
  {
   "cell_type": "code",
   "execution_count": 836,
   "metadata": {},
   "outputs": [],
   "source": [
    "df = df.query('total_area >= 20 and total_area <= 300'\n",
    "                'and last_price >= 0.5 and last_price <= 50'\n",
    "                'and floors_total >= 2 and floors_total <= 30'\n",
    "                'and ceiling_height >= 2 and ceiling_height <= 5')"
   ]
  },
  {
   "cell_type": "markdown",
   "metadata": {},
   "source": [
    "Построим обновленные гистограммы."
   ]
  },
  {
   "cell_type": "code",
   "execution_count": 837,
   "metadata": {},
   "outputs": [
    {
     "data": {
      "image/png": "[encoded data removed]",
      "text/plain": [
       "<Figure size 432x288 with 1 Axes>"
      ]
     },
     "metadata": {
      "needs_background": "light"
     },
     "output_type": "display_data"
    },
    {
     "data": {
      "image/png": "[encoded data removed]",
      "text/plain": [
       "<Figure size 432x288 with 1 Axes>"
      ]
     },
     "metadata": {
      "needs_background": "light"
     },
     "output_type": "display_data"
    },
    {
     "data": {
      "image/png": "[encoded data removed]",
      "text/plain": [
       "<Figure size 432x288 with 1 Axes>"
      ]
     },
     "metadata": {
      "needs_background": "light"
     },
     "output_type": "display_data"
    },
    {
     "data": {
      "image/png": "[encoded data removed]",
      "text/plain": [
       "<Figure size 432x288 with 1 Axes>"
      ]
     },
     "metadata": {
      "needs_background": "light"
     },
     "output_type": "display_data"
    }
   ],
   "source": [
    "for element in lst:\n",
    "    df.plot(y=element, kind='hist', bins=10, title=element, range=(min(df[element]),max(df[element])))"
   ]
  },
  {
   "cell_type": "markdown",
   "metadata": {},
   "source": [
    "**Вывод**   \n",
    "Большинство объявлений можно охарактеризовать следующими параметрами:   \n",
    "- площадь < 100 м2\n",
    "- цена до 15 млн руб\n",
    "- этажность меньше 15\n",
    "- стандартная высота потолков (до 3м)"
   ]
  },
  {
   "cell_type": "markdown",
   "metadata": {},
   "source": [
    "### Анализ продолжительности продажи"
   ]
  },
  {
   "cell_type": "markdown",
   "metadata": {},
   "source": [
    "Построим гистограмму и проанализируем описательные статистики."
   ]
  },
  {
   "cell_type": "code",
   "execution_count": 838,
   "metadata": {
    "scrolled": true
   },
   "outputs": [
    {
     "data": {
      "text/plain": [
       "<matplotlib.axes._subplots.AxesSubplot at 0x7fd862c5ba10>"
      ]
     },
     "execution_count": 838,
     "metadata": {},
     "output_type": "execute_result"
    },
    {
     "data": {
      "image/png": "[encoded data removed]",
      "text/plain": [
       "<Figure size 432x288 with 1 Axes>"
      ]
     },
     "metadata": {
      "needs_background": "light"
     },
     "output_type": "display_data"
    }
   ],
   "source": [
    "df['days_exposition'].hist(range=(min(df['days_exposition']),max(df['days_exposition'])))"
   ]
  },
  {
   "cell_type": "code",
   "execution_count": 839,
   "metadata": {
    "scrolled": true
   },
   "outputs": [
    {
     "data": {
      "text/plain": [
       "count    23409.000000\n",
       "mean       162.244692\n",
       "std        209.379915\n",
       "min          1.000000\n",
       "25%         45.000000\n",
       "50%         74.000000\n",
       "75%        197.000000\n",
       "max       1580.000000\n",
       "Name: days_exposition, dtype: float64"
      ]
     },
     "execution_count": 839,
     "metadata": {},
     "output_type": "execute_result"
    }
   ],
   "source": [
    "df['days_exposition'].describe()"
   ]
  },
  {
   "cell_type": "markdown",
   "metadata": {},
   "source": [
    "Медианное значение длительности составляет 74 дня, при этом среднее - 162. Столь значительная разница возникает засчет объявлений, выставлявшихся 3+ лет. Почти 75% квартир были проданы в течение полугода - это можно считать приемлемым сроком продажи.<br>\n",
    "<br>\n",
    "По аналогии с пунктом 4.1 посчитаем кол-во аномальных значений: с продолжительностью больше 3х лет."
   ]
  },
  {
   "cell_type": "code",
   "execution_count": 840,
   "metadata": {},
   "outputs": [
    {
     "name": "stdout",
     "output_type": "stream",
     "text": [
      "days_exposition > 1095 166\n"
     ]
    }
   ],
   "source": [
    "print('days_exposition > 1095', df.query('days_exposition > 1095')['days_exposition'].count())"
   ]
  },
  {
   "cell_type": "markdown",
   "metadata": {},
   "source": [
    "Общее число аномальных наблюдений составляет менее 1%. Для получения более объективных результатов сократим выборку и построим обновленную гистограмму."
   ]
  },
  {
   "cell_type": "code",
   "execution_count": 841,
   "metadata": {
    "scrolled": false
   },
   "outputs": [
    {
     "data": {
      "text/plain": [
       "<matplotlib.axes._subplots.AxesSubplot at 0x7fd862aed350>"
      ]
     },
     "execution_count": 841,
     "metadata": {},
     "output_type": "execute_result"
    },
    {
     "data": {
      "image/png": "[encoded data removed]",
      "text/plain": [
       "<Figure size 432x288 with 1 Axes>"
      ]
     },
     "metadata": {
      "needs_background": "light"
     },
     "output_type": "display_data"
    }
   ],
   "source": [
    "df = df.query('days_exposition <=1095')\n",
    "df['days_exposition'].hist(range=(min(df['days_exposition']),max(df['days_exposition'])))"
   ]
  },
  {
   "cell_type": "markdown",
   "metadata": {},
   "source": [
    "**Вывод**   \n",
    "Подавляющее число квартир продается в течение полугода, однако при этом имеются объекты, находившиеся в продаже более 3х лет."
   ]
  },
  {
   "cell_type": "code",
   "execution_count": 842,
   "metadata": {},
   "outputs": [
    {
     "name": "stdout",
     "output_type": "stream",
     "text": [
      "Доля выбросов, исключенных из выборки составила 1.9%\n"
     ]
    }
   ],
   "source": [
    "excl_share = (23699 - len(df))/23699\n",
    "print(f'Доля выбросов, исключенных из выборки составила {excl_share:.1%}')"
   ]
  },
  {
   "cell_type": "markdown",
   "metadata": {},
   "source": [
    "Далее можем приступить к анализу."
   ]
  },
  {
   "cell_type": "markdown",
   "metadata": {},
   "source": [
    "### Факторы, влияющие на стоимость"
   ]
  },
  {
   "cell_type": "markdown",
   "metadata": {},
   "source": [
    "Проведем первичный анализ с помощью матрицы корреляции"
   ]
  },
  {
   "cell_type": "code",
   "execution_count": 843,
   "metadata": {
    "scrolled": true
   },
   "outputs": [
    {
     "data": {
      "text/html": [
       "<div>\n",
       "<style scoped>\n",
       "    .dataframe tbody tr th:only-of-type {\n",
       "        vertical-align: middle;\n",
       "    }\n",
       "\n",
       "    .dataframe tbody tr th {\n",
       "        vertical-align: top;\n",
       "    }\n",
       "\n",
       "    .dataframe thead th {\n",
       "        text-align: right;\n",
       "    }\n",
       "</style>\n",
       "<table border=\"1\" class=\"dataframe\">\n",
       "  <thead>\n",
       "    <tr style=\"text-align: right;\">\n",
       "      <th></th>\n",
       "      <th>last_price</th>\n",
       "      <th>total_area</th>\n",
       "      <th>rooms</th>\n",
       "      <th>cityCenters_nearest</th>\n",
       "    </tr>\n",
       "  </thead>\n",
       "  <tbody>\n",
       "    <tr>\n",
       "      <td>last_price</td>\n",
       "      <td>1.000000</td>\n",
       "      <td>0.779406</td>\n",
       "      <td>0.497413</td>\n",
       "      <td>-0.063952</td>\n",
       "    </tr>\n",
       "    <tr>\n",
       "      <td>total_area</td>\n",
       "      <td>0.779406</td>\n",
       "      <td>1.000000</td>\n",
       "      <td>0.791805</td>\n",
       "      <td>-0.100677</td>\n",
       "    </tr>\n",
       "    <tr>\n",
       "      <td>rooms</td>\n",
       "      <td>0.497413</td>\n",
       "      <td>0.791805</td>\n",
       "      <td>1.000000</td>\n",
       "      <td>-0.090983</td>\n",
       "    </tr>\n",
       "    <tr>\n",
       "      <td>cityCenters_nearest</td>\n",
       "      <td>-0.063952</td>\n",
       "      <td>-0.100677</td>\n",
       "      <td>-0.090983</td>\n",
       "      <td>1.000000</td>\n",
       "    </tr>\n",
       "  </tbody>\n",
       "</table>\n",
       "</div>"
      ],
      "text/plain": [
       "                     last_price  total_area     rooms  cityCenters_nearest\n",
       "last_price             1.000000    0.779406  0.497413            -0.063952\n",
       "total_area             0.779406    1.000000  0.791805            -0.100677\n",
       "rooms                  0.497413    0.791805  1.000000            -0.090983\n",
       "cityCenters_nearest   -0.063952   -0.100677 -0.090983             1.000000"
      ]
     },
     "execution_count": 843,
     "metadata": {},
     "output_type": "execute_result"
    }
   ],
   "source": [
    "df[['last_price', 'total_area', 'rooms', 'cityCenters_nearest']].corr()"
   ]
  },
  {
   "cell_type": "markdown",
   "metadata": {},
   "source": [
    "**Вывод**   \n",
    "Коэффициент корреляции высок только по отношению к общей площади. Для оставшихся показателей ожидаемы знаки:\n",
    "- чем больше комнат, тем выше цена\n",
    "- чем дальше от центра, тем дешевле   \n",
    "но при этом, сами коэффициенты по модулю далеки от 1, что свидетельствует о слабой связи."
   ]
  },
  {
   "cell_type": "markdown",
   "metadata": {},
   "source": [
    "Далее рассмотрим как меняется средняя стоимость цены в зависимости от этажа."
   ]
  },
  {
   "cell_type": "code",
   "execution_count": 844,
   "metadata": {
    "scrolled": true
   },
   "outputs": [
    {
     "data": {
      "text/html": [
       "<div>\n",
       "<style scoped>\n",
       "    .dataframe tbody tr th:only-of-type {\n",
       "        vertical-align: middle;\n",
       "    }\n",
       "\n",
       "    .dataframe tbody tr th {\n",
       "        vertical-align: top;\n",
       "    }\n",
       "\n",
       "    .dataframe thead tr th {\n",
       "        text-align: left;\n",
       "    }\n",
       "\n",
       "    .dataframe thead tr:last-of-type th {\n",
       "        text-align: right;\n",
       "    }\n",
       "</style>\n",
       "<table border=\"1\" class=\"dataframe\">\n",
       "  <thead>\n",
       "    <tr>\n",
       "      <th></th>\n",
       "      <th>count</th>\n",
       "      <th>median</th>\n",
       "      <th>mean</th>\n",
       "    </tr>\n",
       "    <tr>\n",
       "      <th></th>\n",
       "      <th>last_price</th>\n",
       "      <th>last_price</th>\n",
       "      <th>last_price</th>\n",
       "    </tr>\n",
       "    <tr>\n",
       "      <th>floor_type</th>\n",
       "      <th></th>\n",
       "      <th></th>\n",
       "      <th></th>\n",
       "    </tr>\n",
       "  </thead>\n",
       "  <tbody>\n",
       "    <tr>\n",
       "      <td>другой</td>\n",
       "      <td>17105</td>\n",
       "      <td>4.8</td>\n",
       "      <td>6.198414</td>\n",
       "    </tr>\n",
       "    <tr>\n",
       "      <td>первый</td>\n",
       "      <td>2844</td>\n",
       "      <td>3.9</td>\n",
       "      <td>4.640461</td>\n",
       "    </tr>\n",
       "    <tr>\n",
       "      <td>последний</td>\n",
       "      <td>3294</td>\n",
       "      <td>4.3</td>\n",
       "      <td>5.815101</td>\n",
       "    </tr>\n",
       "  </tbody>\n",
       "</table>\n",
       "</div>"
      ],
      "text/plain": [
       "                count     median       mean\n",
       "           last_price last_price last_price\n",
       "floor_type                                 \n",
       "другой          17105        4.8   6.198414\n",
       "первый           2844        3.9   4.640461\n",
       "последний        3294        4.3   5.815101"
      ]
     },
     "metadata": {},
     "output_type": "display_data"
    }
   ],
   "source": [
    "display(df.pivot_table(index='floor_type', values='last_price', aggfunc=['count','median','mean']))"
   ]
  },
  {
   "cell_type": "markdown",
   "metadata": {},
   "source": [
    "**Вывод**   \n",
    "- только 25% объявлений представлены на первом или последнем этаже.\n",
    "- медианная и средняя цена первого этажа значительно ниже других этажностей.\n",
    "- медианная и средняя цена последнего этажа также чуть ниже других этажностей."
   ]
  },
  {
   "cell_type": "markdown",
   "metadata": {},
   "source": [
    "Перейдем к анализу в зависимости от даты размещения объявления"
   ]
  },
  {
   "cell_type": "code",
   "execution_count": 845,
   "metadata": {},
   "outputs": [
    {
     "data": {
      "text/plain": [
       "<matplotlib.axes._subplots.AxesSubplot at 0x7fd862d15190>"
      ]
     },
     "execution_count": 845,
     "metadata": {},
     "output_type": "execute_result"
    },
    {
     "data": {
      "image/png": "[encoded data removed]",
      "text/plain": [
       "<Figure size 432x288 with 1 Axes>"
      ]
     },
     "metadata": {
      "needs_background": "light"
     },
     "output_type": "display_data"
    },
    {
     "data": {
      "image/png": "[encoded data removed]",
      "text/plain": [
       "<Figure size 432x288 with 1 Axes>"
      ]
     },
     "metadata": {
      "needs_background": "light"
     },
     "output_type": "display_data"
    },
    {
     "data": {
      "image/png": "[encoded data removed]",
      "text/plain": [
       "<Figure size 432x288 with 1 Axes>"
      ]
     },
     "metadata": {
      "needs_background": "light"
     },
     "output_type": "display_data"
    }
   ],
   "source": [
    "df_pivot_wd = df.pivot_table(index='weekday', values='last_price', aggfunc='median', )\n",
    "df_pivot_wd.plot()\n",
    "df_pivot_wd = df.pivot_table(index='month', values='last_price', aggfunc='median', )\n",
    "df_pivot_wd.plot()\n",
    "df_pivot_wd = df.pivot_table(index='year', values='last_price', aggfunc='median', )\n",
    "df_pivot_wd.plot()"
   ]
  },
  {
   "cell_type": "markdown",
   "metadata": {},
   "source": [
    "**Вывод**   \n",
    "по медианным значениям цены:   \n",
    "- выше для объявлений, выкладываемых в первой половине недели.\n",
    "- самое низкое для майских и июньских.\n",
    "- наблюдается интересная динамика по годам: снижение цены с 2014 по 2016 год (может быть связан с ростом кол-ва объявлений и усреднением цены) и постепенный рост, начиная с 2018 года."
   ]
  },
  {
   "cell_type": "markdown",
   "metadata": {},
   "source": [
    "### Рейтинг населенных пунктов"
   ]
  },
  {
   "cell_type": "markdown",
   "metadata": {},
   "source": [
    "Найдем топ-10 локаций по числу объявлений."
   ]
  },
  {
   "cell_type": "code",
   "execution_count": 846,
   "metadata": {
    "scrolled": false
   },
   "outputs": [
    {
     "data": {
      "text/html": [
       "<div>\n",
       "<style scoped>\n",
       "    .dataframe tbody tr th:only-of-type {\n",
       "        vertical-align: middle;\n",
       "    }\n",
       "\n",
       "    .dataframe tbody tr th {\n",
       "        vertical-align: top;\n",
       "    }\n",
       "\n",
       "    .dataframe thead th {\n",
       "        text-align: right;\n",
       "    }\n",
       "</style>\n",
       "<table border=\"1\" class=\"dataframe\">\n",
       "  <thead>\n",
       "    <tr style=\"text-align: right;\">\n",
       "      <th></th>\n",
       "      <th>quantity</th>\n",
       "      <th>avg_price</th>\n",
       "    </tr>\n",
       "    <tr>\n",
       "      <th>locality_name</th>\n",
       "      <th></th>\n",
       "      <th></th>\n",
       "    </tr>\n",
       "  </thead>\n",
       "  <tbody>\n",
       "    <tr>\n",
       "      <td>санкт-петербург</td>\n",
       "      <td>15366</td>\n",
       "      <td>112140.824142</td>\n",
       "    </tr>\n",
       "    <tr>\n",
       "      <td>мурино</td>\n",
       "      <td>586</td>\n",
       "      <td>86121.030190</td>\n",
       "    </tr>\n",
       "    <tr>\n",
       "      <td>кудрово</td>\n",
       "      <td>470</td>\n",
       "      <td>95315.256373</td>\n",
       "    </tr>\n",
       "    <tr>\n",
       "      <td>шушары</td>\n",
       "      <td>438</td>\n",
       "      <td>78613.779142</td>\n",
       "    </tr>\n",
       "    <tr>\n",
       "      <td>всеволожск</td>\n",
       "      <td>396</td>\n",
       "      <td>68674.623133</td>\n",
       "    </tr>\n",
       "    <tr>\n",
       "      <td>пушкин</td>\n",
       "      <td>362</td>\n",
       "      <td>103135.624111</td>\n",
       "    </tr>\n",
       "    <tr>\n",
       "      <td>колпино</td>\n",
       "      <td>336</td>\n",
       "      <td>75310.766883</td>\n",
       "    </tr>\n",
       "    <tr>\n",
       "      <td>парголово</td>\n",
       "      <td>326</td>\n",
       "      <td>90103.136772</td>\n",
       "    </tr>\n",
       "    <tr>\n",
       "      <td>гатчина</td>\n",
       "      <td>306</td>\n",
       "      <td>68757.678644</td>\n",
       "    </tr>\n",
       "    <tr>\n",
       "      <td>выборг</td>\n",
       "      <td>237</td>\n",
       "      <td>58141.909153</td>\n",
       "    </tr>\n",
       "  </tbody>\n",
       "</table>\n",
       "</div>"
      ],
      "text/plain": [
       "                 quantity      avg_price\n",
       "locality_name                           \n",
       "санкт-петербург     15366  112140.824142\n",
       "мурино                586   86121.030190\n",
       "кудрово               470   95315.256373\n",
       "шушары                438   78613.779142\n",
       "всеволожск            396   68674.623133\n",
       "пушкин                362  103135.624111\n",
       "колпино               336   75310.766883\n",
       "парголово             326   90103.136772\n",
       "гатчина               306   68757.678644\n",
       "выборг                237   58141.909153"
      ]
     },
     "metadata": {},
     "output_type": "display_data"
    },
    {
     "data": {
      "text/html": [
       "<div>\n",
       "<style scoped>\n",
       "    .dataframe tbody tr th:only-of-type {\n",
       "        vertical-align: middle;\n",
       "    }\n",
       "\n",
       "    .dataframe tbody tr th {\n",
       "        vertical-align: top;\n",
       "    }\n",
       "\n",
       "    .dataframe thead th {\n",
       "        text-align: right;\n",
       "    }\n",
       "</style>\n",
       "<table border=\"1\" class=\"dataframe\">\n",
       "  <thead>\n",
       "    <tr style=\"text-align: right;\">\n",
       "      <th></th>\n",
       "      <th>quantity</th>\n",
       "      <th>avg_price</th>\n",
       "    </tr>\n",
       "    <tr>\n",
       "      <th>locality_name</th>\n",
       "      <th></th>\n",
       "      <th></th>\n",
       "    </tr>\n",
       "  </thead>\n",
       "  <tbody>\n",
       "    <tr>\n",
       "      <td>санкт-петербург</td>\n",
       "      <td>15366</td>\n",
       "      <td>112140.824142</td>\n",
       "    </tr>\n",
       "    <tr>\n",
       "      <td>пушкин</td>\n",
       "      <td>362</td>\n",
       "      <td>103135.624111</td>\n",
       "    </tr>\n",
       "    <tr>\n",
       "      <td>кудрово</td>\n",
       "      <td>470</td>\n",
       "      <td>95315.256373</td>\n",
       "    </tr>\n",
       "    <tr>\n",
       "      <td>парголово</td>\n",
       "      <td>326</td>\n",
       "      <td>90103.136772</td>\n",
       "    </tr>\n",
       "    <tr>\n",
       "      <td>мурино</td>\n",
       "      <td>586</td>\n",
       "      <td>86121.030190</td>\n",
       "    </tr>\n",
       "    <tr>\n",
       "      <td>шушары</td>\n",
       "      <td>438</td>\n",
       "      <td>78613.779142</td>\n",
       "    </tr>\n",
       "    <tr>\n",
       "      <td>колпино</td>\n",
       "      <td>336</td>\n",
       "      <td>75310.766883</td>\n",
       "    </tr>\n",
       "    <tr>\n",
       "      <td>гатчина</td>\n",
       "      <td>306</td>\n",
       "      <td>68757.678644</td>\n",
       "    </tr>\n",
       "    <tr>\n",
       "      <td>всеволожск</td>\n",
       "      <td>396</td>\n",
       "      <td>68674.623133</td>\n",
       "    </tr>\n",
       "    <tr>\n",
       "      <td>выборг</td>\n",
       "      <td>237</td>\n",
       "      <td>58141.909153</td>\n",
       "    </tr>\n",
       "  </tbody>\n",
       "</table>\n",
       "</div>"
      ],
      "text/plain": [
       "                 quantity      avg_price\n",
       "locality_name                           \n",
       "санкт-петербург     15366  112140.824142\n",
       "пушкин                362  103135.624111\n",
       "кудрово               470   95315.256373\n",
       "парголово             326   90103.136772\n",
       "мурино                586   86121.030190\n",
       "шушары                438   78613.779142\n",
       "колпино               336   75310.766883\n",
       "гатчина               306   68757.678644\n",
       "всеволожск            396   68674.623133\n",
       "выборг                237   58141.909153"
      ]
     },
     "metadata": {},
     "output_type": "display_data"
    }
   ],
   "source": [
    "df_rank = df.pivot_table(index='locality_name', values='price_sq_m', aggfunc=['count', 'mean'])\n",
    "\n",
    "df_rank.columns = (['quantity', 'avg_price'])\n",
    "df_rank = df_rank.sort_values('quantity', ascending=False).head(10)\n",
    "display(df_rank)\n",
    "display(df_rank.sort_values('avg_price', ascending=False))"
   ]
  },
  {
   "cell_type": "markdown",
   "metadata": {},
   "source": [
    "**Вывод**   \n",
    "Лидер по кол-ву объявлений и средней цене - Санкт-Петербург, самое дешевое жилье находится в Выборге."
   ]
  },
  {
   "cell_type": "markdown",
   "metadata": {},
   "source": [
    "### Анализ границы ЦАО"
   ]
  },
  {
   "cell_type": "markdown",
   "metadata": {},
   "source": [
    "Выделим данные по Санкт-Петербургу и переведем расстояние от центра в км."
   ]
  },
  {
   "cell_type": "code",
   "execution_count": 847,
   "metadata": {},
   "outputs": [
    {
     "name": "stdout",
     "output_type": "stream",
     "text": [
      "<class 'pandas.core.frame.DataFrame'>\n",
      "Int64Index: 15366 entries, 0 to 23697\n",
      "Data columns (total 29 columns):\n",
      "total_images            15366 non-null int64\n",
      "last_price              15366 non-null float64\n",
      "total_area              15366 non-null float64\n",
      "first_day_exposition    15366 non-null datetime64[ns]\n",
      "rooms                   15366 non-null int64\n",
      "ceiling_height          15366 non-null float64\n",
      "floors_total            15366 non-null int64\n",
      "living_area             15366 non-null float64\n",
      "floor                   15366 non-null int64\n",
      "is_apartment            15366 non-null bool\n",
      "studio                  15366 non-null bool\n",
      "open_plan               15366 non-null bool\n",
      "kitchen_area            15366 non-null float64\n",
      "balcony                 15366 non-null int64\n",
      "locality_name           15366 non-null object\n",
      "airports_nearest        15366 non-null float64\n",
      "cityCenters_nearest     15366 non-null int64\n",
      "parks_around3000        15366 non-null int64\n",
      "parks_nearest           15366 non-null float64\n",
      "ponds_around3000        15366 non-null int64\n",
      "ponds_nearest           15366 non-null float64\n",
      "days_exposition         15366 non-null int64\n",
      "price_sq_m              15366 non-null float64\n",
      "weekday                 15366 non-null int64\n",
      "month                   15366 non-null int64\n",
      "year                    15366 non-null int64\n",
      "floor_type              15366 non-null object\n",
      "living_total_share      15366 non-null float64\n",
      "kitchen_total_share     15366 non-null float64\n",
      "dtypes: bool(3), datetime64[ns](1), float64(11), int64(12), object(2)\n",
      "memory usage: 3.2+ MB\n"
     ]
    }
   ],
   "source": [
    "df_st_pete = df.query('locality_name == \"санкт-петербург\"')\n",
    "df_st_pete['cityCenters_nearest'] = (df_st_pete['cityCenters_nearest'] / 1000).astype('int64')\n",
    "df_st_pete.info()"
   ]
  },
  {
   "cell_type": "markdown",
   "metadata": {},
   "source": [
    "Посчитаем среднюю цену квартиры в зависимости от удаленности от центра."
   ]
  },
  {
   "cell_type": "code",
   "execution_count": 848,
   "metadata": {
    "scrolled": false
   },
   "outputs": [
    {
     "data": {
      "text/html": [
       "<div>\n",
       "<style scoped>\n",
       "    .dataframe tbody tr th:only-of-type {\n",
       "        vertical-align: middle;\n",
       "    }\n",
       "\n",
       "    .dataframe tbody tr th {\n",
       "        vertical-align: top;\n",
       "    }\n",
       "\n",
       "    .dataframe thead th {\n",
       "        text-align: right;\n",
       "    }\n",
       "</style>\n",
       "<table border=\"1\" class=\"dataframe\">\n",
       "  <thead>\n",
       "    <tr style=\"text-align: right;\">\n",
       "      <th></th>\n",
       "      <th>price_sq_m</th>\n",
       "    </tr>\n",
       "    <tr>\n",
       "      <th>cityCenters_nearest</th>\n",
       "      <th></th>\n",
       "    </tr>\n",
       "  </thead>\n",
       "  <tbody>\n",
       "    <tr>\n",
       "      <td>0</td>\n",
       "      <td>160409.340878</td>\n",
       "    </tr>\n",
       "    <tr>\n",
       "      <td>1</td>\n",
       "      <td>140186.879920</td>\n",
       "    </tr>\n",
       "    <tr>\n",
       "      <td>2</td>\n",
       "      <td>128719.671077</td>\n",
       "    </tr>\n",
       "    <tr>\n",
       "      <td>3</td>\n",
       "      <td>121456.036067</td>\n",
       "    </tr>\n",
       "    <tr>\n",
       "      <td>4</td>\n",
       "      <td>134134.953608</td>\n",
       "    </tr>\n",
       "  </tbody>\n",
       "</table>\n",
       "</div>"
      ],
      "text/plain": [
       "                        price_sq_m\n",
       "cityCenters_nearest               \n",
       "0                    160409.340878\n",
       "1                    140186.879920\n",
       "2                    128719.671077\n",
       "3                    121456.036067\n",
       "4                    134134.953608"
      ]
     },
     "metadata": {},
     "output_type": "display_data"
    },
    {
     "data": {
      "image/png": "[encoded data removed]",
      "text/plain": [
       "<Figure size 432x288 with 1 Axes>"
      ]
     },
     "metadata": {
      "needs_background": "light"
     },
     "output_type": "display_data"
    }
   ],
   "source": [
    "df_st_pete_km = df_st_pete.pivot_table(index='cityCenters_nearest', values='price_sq_m', aggfunc='mean')\n",
    "df_st_pete_km.plot()\n",
    "display(df_st_pete_km.head())"
   ]
  },
  {
   "cell_type": "markdown",
   "metadata": {},
   "source": [
    "**Вывод**   \n",
    "Начиная с 8го километра, цена за кв.м. значительно снижается => центром будем считать все, что находится в радиусе 0 - 7 км."
   ]
  },
  {
   "cell_type": "markdown",
   "metadata": {},
   "source": [
    "### Анализ рынка ЦАО"
   ]
  },
  {
   "cell_type": "markdown",
   "metadata": {},
   "source": [
    "Выделим квартиры в ЦАО и рассчитаем описательные статистики для площади, цены, числа комнат, высоты потолков."
   ]
  },
  {
   "cell_type": "code",
   "execution_count": 849,
   "metadata": {},
   "outputs": [
    {
     "data": {
      "text/html": [
       "<div>\n",
       "<style scoped>\n",
       "    .dataframe tbody tr th:only-of-type {\n",
       "        vertical-align: middle;\n",
       "    }\n",
       "\n",
       "    .dataframe tbody tr th {\n",
       "        vertical-align: top;\n",
       "    }\n",
       "\n",
       "    .dataframe thead th {\n",
       "        text-align: right;\n",
       "    }\n",
       "</style>\n",
       "<table border=\"1\" class=\"dataframe\">\n",
       "  <thead>\n",
       "    <tr style=\"text-align: right;\">\n",
       "      <th></th>\n",
       "      <th>total_area</th>\n",
       "      <th>last_price</th>\n",
       "      <th>rooms</th>\n",
       "      <th>ceiling_height</th>\n",
       "    </tr>\n",
       "  </thead>\n",
       "  <tbody>\n",
       "    <tr>\n",
       "      <td>count</td>\n",
       "      <td>3500.000000</td>\n",
       "      <td>3500.000000</td>\n",
       "      <td>3500.000000</td>\n",
       "      <td>3500.000000</td>\n",
       "    </tr>\n",
       "    <tr>\n",
       "      <td>mean</td>\n",
       "      <td>85.101431</td>\n",
       "      <td>11.432278</td>\n",
       "      <td>2.728000</td>\n",
       "      <td>2.915323</td>\n",
       "    </tr>\n",
       "    <tr>\n",
       "      <td>std</td>\n",
       "      <td>42.401748</td>\n",
       "      <td>7.905396</td>\n",
       "      <td>1.321558</td>\n",
       "      <td>0.341792</td>\n",
       "    </tr>\n",
       "    <tr>\n",
       "      <td>min</td>\n",
       "      <td>20.000000</td>\n",
       "      <td>1.600000</td>\n",
       "      <td>0.000000</td>\n",
       "      <td>2.000000</td>\n",
       "    </tr>\n",
       "    <tr>\n",
       "      <td>25%</td>\n",
       "      <td>55.000000</td>\n",
       "      <td>6.500000</td>\n",
       "      <td>2.000000</td>\n",
       "      <td>2.650000</td>\n",
       "    </tr>\n",
       "    <tr>\n",
       "      <td>50%</td>\n",
       "      <td>75.650000</td>\n",
       "      <td>8.879444</td>\n",
       "      <td>3.000000</td>\n",
       "      <td>2.800000</td>\n",
       "    </tr>\n",
       "    <tr>\n",
       "      <td>75%</td>\n",
       "      <td>103.400000</td>\n",
       "      <td>13.300000</td>\n",
       "      <td>3.000000</td>\n",
       "      <td>3.100000</td>\n",
       "    </tr>\n",
       "    <tr>\n",
       "      <td>max</td>\n",
       "      <td>297.500000</td>\n",
       "      <td>50.000000</td>\n",
       "      <td>14.000000</td>\n",
       "      <td>4.800000</td>\n",
       "    </tr>\n",
       "  </tbody>\n",
       "</table>\n",
       "</div>"
      ],
      "text/plain": [
       "        total_area   last_price        rooms  ceiling_height\n",
       "count  3500.000000  3500.000000  3500.000000     3500.000000\n",
       "mean     85.101431    11.432278     2.728000        2.915323\n",
       "std      42.401748     7.905396     1.321558        0.341792\n",
       "min      20.000000     1.600000     0.000000        2.000000\n",
       "25%      55.000000     6.500000     2.000000        2.650000\n",
       "50%      75.650000     8.879444     3.000000        2.800000\n",
       "75%     103.400000    13.300000     3.000000        3.100000\n",
       "max     297.500000    50.000000    14.000000        4.800000"
      ]
     },
     "execution_count": 849,
     "metadata": {},
     "output_type": "execute_result"
    }
   ],
   "source": [
    "df_st_pete_center = df_st_pete.query('cityCenters_nearest <= 7')\n",
    "df_st_pete_center[['total_area', 'last_price', 'rooms', 'ceiling_height']].describe()"
   ]
  },
  {
   "cell_type": "markdown",
   "metadata": {},
   "source": [
    "**Вывод**   \n",
    "Квартиры в цетре ожидаемо характеризуются большей площадью, числом комнат и ценой. Рассмотрим какие факторы влияют на стоимость."
   ]
  },
  {
   "cell_type": "code",
   "execution_count": 850,
   "metadata": {
    "scrolled": false
   },
   "outputs": [
    {
     "data": {
      "text/html": [
       "<div>\n",
       "<style scoped>\n",
       "    .dataframe tbody tr th:only-of-type {\n",
       "        vertical-align: middle;\n",
       "    }\n",
       "\n",
       "    .dataframe tbody tr th {\n",
       "        vertical-align: top;\n",
       "    }\n",
       "\n",
       "    .dataframe thead th {\n",
       "        text-align: right;\n",
       "    }\n",
       "</style>\n",
       "<table border=\"1\" class=\"dataframe\">\n",
       "  <thead>\n",
       "    <tr style=\"text-align: right;\">\n",
       "      <th></th>\n",
       "      <th>last_price</th>\n",
       "      <th>total_area</th>\n",
       "      <th>rooms</th>\n",
       "      <th>cityCenters_nearest</th>\n",
       "    </tr>\n",
       "  </thead>\n",
       "  <tbody>\n",
       "    <tr>\n",
       "      <td>last_price</td>\n",
       "      <td>1.000000</td>\n",
       "      <td>0.700714</td>\n",
       "      <td>0.430997</td>\n",
       "      <td>-0.066519</td>\n",
       "    </tr>\n",
       "    <tr>\n",
       "      <td>total_area</td>\n",
       "      <td>0.700714</td>\n",
       "      <td>1.000000</td>\n",
       "      <td>0.792032</td>\n",
       "      <td>-0.157462</td>\n",
       "    </tr>\n",
       "    <tr>\n",
       "      <td>rooms</td>\n",
       "      <td>0.430997</td>\n",
       "      <td>0.792032</td>\n",
       "      <td>1.000000</td>\n",
       "      <td>-0.206210</td>\n",
       "    </tr>\n",
       "    <tr>\n",
       "      <td>cityCenters_nearest</td>\n",
       "      <td>-0.066519</td>\n",
       "      <td>-0.157462</td>\n",
       "      <td>-0.206210</td>\n",
       "      <td>1.000000</td>\n",
       "    </tr>\n",
       "  </tbody>\n",
       "</table>\n",
       "</div>"
      ],
      "text/plain": [
       "                     last_price  total_area     rooms  cityCenters_nearest\n",
       "last_price             1.000000    0.700714  0.430997            -0.066519\n",
       "total_area             0.700714    1.000000  0.792032            -0.157462\n",
       "rooms                  0.430997    0.792032  1.000000            -0.206210\n",
       "cityCenters_nearest   -0.066519   -0.157462 -0.206210             1.000000"
      ]
     },
     "execution_count": 850,
     "metadata": {},
     "output_type": "execute_result"
    }
   ],
   "source": [
    "df_st_pete_center[['last_price', 'total_area', 'rooms', 'cityCenters_nearest']].corr()"
   ]
  },
  {
   "cell_type": "markdown",
   "metadata": {},
   "source": [
    "**Вывод**   \n",
    "Коэффициенты корреляции сопоставимы с общей выборкой. Единственное отличие - более низкие значения для удаленности от центра, что можно интерпретировать как практически одинаковую привлекательность всей площади центра."
   ]
  },
  {
   "cell_type": "code",
   "execution_count": 851,
   "metadata": {},
   "outputs": [
    {
     "data": {
      "text/html": [
       "<div>\n",
       "<style scoped>\n",
       "    .dataframe tbody tr th:only-of-type {\n",
       "        vertical-align: middle;\n",
       "    }\n",
       "\n",
       "    .dataframe tbody tr th {\n",
       "        vertical-align: top;\n",
       "    }\n",
       "\n",
       "    .dataframe thead tr th {\n",
       "        text-align: left;\n",
       "    }\n",
       "\n",
       "    .dataframe thead tr:last-of-type th {\n",
       "        text-align: right;\n",
       "    }\n",
       "</style>\n",
       "<table border=\"1\" class=\"dataframe\">\n",
       "  <thead>\n",
       "    <tr>\n",
       "      <th></th>\n",
       "      <th>count</th>\n",
       "      <th>median</th>\n",
       "      <th>mean</th>\n",
       "    </tr>\n",
       "    <tr>\n",
       "      <th></th>\n",
       "      <th>last_price</th>\n",
       "      <th>last_price</th>\n",
       "      <th>last_price</th>\n",
       "    </tr>\n",
       "    <tr>\n",
       "      <th>floor_type</th>\n",
       "      <th></th>\n",
       "      <th></th>\n",
       "      <th></th>\n",
       "    </tr>\n",
       "  </thead>\n",
       "  <tbody>\n",
       "    <tr>\n",
       "      <td>другой</td>\n",
       "      <td>2504</td>\n",
       "      <td>9.3</td>\n",
       "      <td>11.936330</td>\n",
       "    </tr>\n",
       "    <tr>\n",
       "      <td>первый</td>\n",
       "      <td>396</td>\n",
       "      <td>6.5</td>\n",
       "      <td>8.224060</td>\n",
       "    </tr>\n",
       "    <tr>\n",
       "      <td>последний</td>\n",
       "      <td>600</td>\n",
       "      <td>8.9</td>\n",
       "      <td>11.446124</td>\n",
       "    </tr>\n",
       "  </tbody>\n",
       "</table>\n",
       "</div>"
      ],
      "text/plain": [
       "                count     median       mean\n",
       "           last_price last_price last_price\n",
       "floor_type                                 \n",
       "другой           2504        9.3  11.936330\n",
       "первый            396        6.5   8.224060\n",
       "последний         600        8.9  11.446124"
      ]
     },
     "metadata": {},
     "output_type": "display_data"
    }
   ],
   "source": [
    "display(df_st_pete_center.pivot_table(index='floor_type', values='last_price', aggfunc=['count','median','mean']))"
   ]
  },
  {
   "cell_type": "markdown",
   "metadata": {},
   "source": [
    "**Вывод**   \n",
    "В отличие от общей выборки, стоимость жилья на первом этаже в центре Санкт-Петербурга значительно ниже стоимости на других этажах."
   ]
  },
  {
   "cell_type": "code",
   "execution_count": 852,
   "metadata": {},
   "outputs": [
    {
     "data": {
      "text/plain": [
       "<matplotlib.axes._subplots.AxesSubplot at 0x7fd862c4a850>"
      ]
     },
     "execution_count": 852,
     "metadata": {},
     "output_type": "execute_result"
    },
    {
     "data": {
      "image/png": "[encoded data removed]",
      "text/plain": [
       "<Figure size 432x288 with 1 Axes>"
      ]
     },
     "metadata": {
      "needs_background": "light"
     },
     "output_type": "display_data"
    },
    {
     "data": {
      "image/png": "[encoded data removed]",
      "text/plain": [
       "<Figure size 432x288 with 1 Axes>"
      ]
     },
     "metadata": {
      "needs_background": "light"
     },
     "output_type": "display_data"
    },
    {
     "data": {
      "image/png": "[encoded data removed]",
      "text/plain": [
       "<Figure size 432x288 with 1 Axes>"
      ]
     },
     "metadata": {
      "needs_background": "light"
     },
     "output_type": "display_data"
    }
   ],
   "source": [
    "df_st_pete_center_wd = df_st_pete_center.pivot_table(index='weekday', values='last_price', aggfunc='median')\n",
    "df_st_pete_center_wd.plot()\n",
    "df_st_pete_center_wd = df_st_pete_center.pivot_table(index='month', values='last_price', aggfunc='median')\n",
    "df_st_pete_center_wd.plot()\n",
    "df_st_pete_center_wd = df_st_pete_center.pivot_table(index='year', values='last_price', aggfunc='median')\n",
    "df_st_pete_center_wd.plot()"
   ]
  },
  {
   "cell_type": "markdown",
   "metadata": {},
   "source": [
    "**Вывод**   \n",
    "Зависимость цены от даты размещения сопоставима с логикой общей выборки за исключением:  \n",
    "- стабильно высокая стоимость по дням недели, за исключением субботы.\n",
    "- самое низкое медианное значеник для декабрьских."
   ]
  },
  {
   "cell_type": "markdown",
   "metadata": {},
   "source": [
    "## Общий вывод"
   ]
  },
  {
   "cell_type": "markdown",
   "metadata": {},
   "source": [
    "По итогам исследования можно сделать следующие выводы:\n",
    "- Первичный датасет содержит большое количество пропусков, которые должны быть адресованы поставщику данных\n",
    "- Медианное время продажи объекта - 2.5 месяца, 75% объектов продаются в течение полугода.\n",
    "- Самые дорогие объекты находятся в Санкт-Петербурге, самые дешевые - в Выборге.\n",
    "- На стоимость объекта влияют площадь, количество комнат и удаленность от центра. В пределах 7 км от центра стоимость за кв.м. существенно выше.\n",
    "- Стоимость объектов на первом и последнем этажах существенно ниже, чем на других. Стоимость жилья на первом этаже в ЦАО значительно ниже, чем в общей выборке.\n",
    "- Стоимость объекта существенно не зависит от даты размещения.\n",
    "- Для всей выборки справедлива тенденция по снижению средней стоимости объявления в 2014-2017 годах (связываю с ростом выборки) и по росту в период 2018-2019 годов."
   ]
  },
  {
   "cell_type": "markdown",
   "metadata": {},
   "source": [
    "## Чек-лист готовности проекта\n",
    "\n",
    "Поставьте 'x' в выполненных пунктах. Далее нажмите Shift+Enter."
   ]
  },
  {
   "cell_type": "markdown",
   "metadata": {},
   "source": [
    "- [x]  открыт файл\n",
    "- [x]  файлы изучены (выведены первые строки, метод info())\n",
    "- [x]  определены пропущенные значения\n",
    "- [x]  заполнены пропущенные значения\n",
    "- [x]  есть пояснение, какие пропущенные значения обнаружены\n",
    "- [x]  изменены типы данных\n",
    "- [x]  есть пояснение, в каких столбцах изменены типы и почему\n",
    "- [x]  посчитано и добавлено в таблицу: цена квадратного метра\n",
    "- [x]  посчитано и добавлено в таблицу: день недели, месяц и год публикации объявления\n",
    "- [x]  посчитано и добавлено в таблицу: этаж квартиры; варианты — первый, последний, другой\n",
    "- [x]  посчитано и добавлено в таблицу: соотношение жилой и общей площади, а также отношение площади кухни к общей\n",
    "- [x]  изучены следующие параметры: площадь, цена, число комнат, высота потолков\n",
    "- [x]  построены гистограммы для каждого параметра\n",
    "- [x]  выполнено задание: \"Изучите время продажи квартиры. Постройте гистограмму. Посчитайте среднее и медиану. Опишите, сколько обычно занимает продажа. Когда можно считать, что продажи прошли очень быстро, а когда необычно долго?\"\n",
    "- [x]  выполнено задание: \"Уберите редкие и выбивающиеся значения. Опишите, какие особенности обнаружили.\"\n",
    "- [x]  выполнено задание: \"Какие факторы больше всего влияют на стоимость квартиры? Изучите, зависит ли цена от квадратного метра, числа комнат, этажа (первого или последнего), удалённости от центра. Также изучите зависимость от даты размещения: дня недели, месяца и года. \"Выберите 10 населённых пунктов с наибольшим числом объявлений. Посчитайте среднюю цену квадратного метра в этих населённых пунктах. Выделите населённые пункты с самой высокой и низкой стоимостью жилья. Эти данные можно найти по имени в столбце '*locality_name'*. \"\n",
    "- [x]  выполнено задание: \"Изучите предложения квартир: для каждой квартиры есть информация о расстоянии до центра. Выделите квартиры в Санкт-Петербурге (*'locality_name'*). Ваша задача — выяснить, какая область входит в центр. Создайте столбец с расстоянием до центра в километрах: округлите до целых значений. После этого посчитайте среднюю цену для каждого километра. Постройте график: он должен показывать, как цена зависит от удалённости от центра. Определите границу, где график сильно меняется — это и будет центральная зона. \"\n",
    "- [x]  выполнено задание: \"Выделите сегмент квартир в центре. Проанализируйте эту территорию и изучите следующие параметры: площадь, цена, число комнат, высота потолков. Также выделите факторы, которые влияют на стоимость квартиры (число комнат, этаж, удалённость от центра, дата размещения объявления). Сделайте выводы. Отличаются ли они от общих выводов по всему городу?\"\n",
    "- [x]  в каждом этапе есть выводы\n",
    "- [x]  есть общий вывод"
   ]
  },
  {
   "cell_type": "code",
   "execution_count": null,
   "metadata": {},
   "outputs": [],
   "source": []
  }
 ],
 "metadata": {
  "ExecuteTimeLog": [
   {
    "duration": 848,
    "start_time": "2021-12-27T11:27:23.103Z"
   },
   {
    "duration": 79,
    "start_time": "2021-12-27T11:28:03.501Z"
   },
   {
    "duration": 216,
    "start_time": "2021-12-27T11:28:36.885Z"
   },
   {
    "duration": 122,
    "start_time": "2021-12-27T11:28:41.280Z"
   },
   {
    "duration": 117,
    "start_time": "2021-12-27T11:30:10.632Z"
   },
   {
    "duration": 185,
    "start_time": "2021-12-27T11:32:25.917Z"
   },
   {
    "duration": 113,
    "start_time": "2021-12-27T11:32:40.739Z"
   },
   {
    "duration": 131,
    "start_time": "2021-12-27T11:33:20.519Z"
   },
   {
    "duration": 109,
    "start_time": "2021-12-27T11:33:28.809Z"
   },
   {
    "duration": 108,
    "start_time": "2021-12-27T11:34:24.714Z"
   },
   {
    "duration": 113,
    "start_time": "2021-12-27T11:43:59.253Z"
   },
   {
    "duration": 97,
    "start_time": "2021-12-27T11:44:29.576Z"
   },
   {
    "duration": 301,
    "start_time": "2021-12-27T11:52:00.381Z"
   },
   {
    "duration": 499,
    "start_time": "2021-12-27T12:05:57.394Z"
   },
   {
    "duration": 369,
    "start_time": "2021-12-27T12:06:38.977Z"
   },
   {
    "duration": 647,
    "start_time": "2021-12-27T12:09:42.206Z"
   },
   {
    "duration": 568,
    "start_time": "2021-12-27T12:09:52.467Z"
   },
   {
    "duration": 582,
    "start_time": "2021-12-27T12:10:24.698Z"
   },
   {
    "duration": 199,
    "start_time": "2021-12-27T12:10:52.373Z"
   },
   {
    "duration": 268,
    "start_time": "2021-12-27T12:11:34.399Z"
   },
   {
    "duration": 227,
    "start_time": "2021-12-27T12:13:19.574Z"
   },
   {
    "duration": 345,
    "start_time": "2021-12-27T12:14:30.255Z"
   },
   {
    "duration": 9,
    "start_time": "2021-12-27T12:18:48.655Z"
   },
   {
    "duration": 9,
    "start_time": "2021-12-27T12:19:28.677Z"
   },
   {
    "duration": 235,
    "start_time": "2021-12-27T12:19:45.145Z"
   },
   {
    "duration": 354,
    "start_time": "2021-12-27T12:19:45.382Z"
   },
   {
    "duration": 299,
    "start_time": "2021-12-27T12:20:17.192Z"
   },
   {
    "duration": 299,
    "start_time": "2021-12-27T12:20:38.396Z"
   },
   {
    "duration": 333,
    "start_time": "2021-12-27T12:20:38.698Z"
   },
   {
    "duration": 10,
    "start_time": "2021-12-27T12:20:41.315Z"
   },
   {
    "duration": 292,
    "start_time": "2021-12-27T12:22:49.062Z"
   },
   {
    "duration": 12,
    "start_time": "2021-12-27T12:23:11.545Z"
   },
   {
    "duration": 13,
    "start_time": "2021-12-27T12:26:51.109Z"
   },
   {
    "duration": 104,
    "start_time": "2021-12-27T12:27:01.596Z"
   },
   {
    "duration": 106,
    "start_time": "2021-12-27T12:27:45.929Z"
   },
   {
    "duration": 114,
    "start_time": "2021-12-27T12:28:35.102Z"
   },
   {
    "duration": 13,
    "start_time": "2021-12-27T12:30:12.359Z"
   },
   {
    "duration": 696,
    "start_time": "2021-12-27T12:38:05.936Z"
   },
   {
    "duration": 754,
    "start_time": "2021-12-27T12:39:59.923Z"
   },
   {
    "duration": 27,
    "start_time": "2021-12-27T12:45:36.736Z"
   },
   {
    "duration": 321,
    "start_time": "2021-12-27T12:45:56.608Z"
   },
   {
    "duration": 318,
    "start_time": "2021-12-27T12:46:25.985Z"
   },
   {
    "duration": 359,
    "start_time": "2021-12-27T12:48:28.459Z"
   },
   {
    "duration": 36,
    "start_time": "2021-12-27T12:52:45.683Z"
   },
   {
    "duration": 348,
    "start_time": "2021-12-27T12:54:16.959Z"
   },
   {
    "duration": 334,
    "start_time": "2021-12-27T12:54:17.309Z"
   },
   {
    "duration": 14,
    "start_time": "2021-12-27T12:54:17.646Z"
   },
   {
    "duration": 10,
    "start_time": "2021-12-27T12:54:17.663Z"
   },
   {
    "duration": 14,
    "start_time": "2021-12-27T12:54:17.676Z"
   },
   {
    "duration": 12,
    "start_time": "2021-12-27T12:54:17.692Z"
   },
   {
    "duration": 765,
    "start_time": "2021-12-27T12:54:17.706Z"
   },
   {
    "duration": 324,
    "start_time": "2021-12-27T12:54:18.474Z"
   },
   {
    "duration": 6,
    "start_time": "2021-12-27T12:54:21.828Z"
   },
   {
    "duration": 6,
    "start_time": "2021-12-27T12:54:29.678Z"
   },
   {
    "duration": 217,
    "start_time": "2021-12-27T12:54:53.572Z"
   },
   {
    "duration": 315,
    "start_time": "2021-12-27T12:54:53.791Z"
   },
   {
    "duration": 8,
    "start_time": "2021-12-27T12:54:54.109Z"
   },
   {
    "duration": 12,
    "start_time": "2021-12-27T12:54:54.120Z"
   },
   {
    "duration": 36,
    "start_time": "2021-12-27T12:54:54.134Z"
   },
   {
    "duration": 11,
    "start_time": "2021-12-27T12:54:54.172Z"
   },
   {
    "duration": 701,
    "start_time": "2021-12-27T12:54:54.185Z"
   },
   {
    "duration": 334,
    "start_time": "2021-12-27T12:54:54.889Z"
   },
   {
    "duration": 5,
    "start_time": "2021-12-27T12:54:55.226Z"
   },
   {
    "duration": 6,
    "start_time": "2021-12-27T12:55:18.051Z"
   },
   {
    "duration": 21,
    "start_time": "2021-12-27T12:55:28.100Z"
   },
   {
    "duration": 223,
    "start_time": "2021-12-27T12:55:37.661Z"
   },
   {
    "duration": 340,
    "start_time": "2021-12-27T12:55:37.887Z"
   },
   {
    "duration": 9,
    "start_time": "2021-12-27T12:55:38.231Z"
   },
   {
    "duration": 25,
    "start_time": "2021-12-27T12:55:38.243Z"
   },
   {
    "duration": 15,
    "start_time": "2021-12-27T12:55:38.270Z"
   },
   {
    "duration": 12,
    "start_time": "2021-12-27T12:55:38.288Z"
   },
   {
    "duration": 876,
    "start_time": "2021-12-27T12:55:38.302Z"
   },
   {
    "duration": 325,
    "start_time": "2021-12-27T12:55:39.181Z"
   },
   {
    "duration": 22,
    "start_time": "2021-12-27T12:55:42.387Z"
   },
   {
    "duration": 481,
    "start_time": "2021-12-27T12:58:41.165Z"
   },
   {
    "duration": 39,
    "start_time": "2021-12-27T12:58:56.780Z"
   },
   {
    "duration": 364,
    "start_time": "2021-12-27T12:59:09.626Z"
   },
   {
    "duration": 226,
    "start_time": "2021-12-27T13:01:25.913Z"
   },
   {
    "duration": 339,
    "start_time": "2021-12-27T13:01:26.142Z"
   },
   {
    "duration": 12,
    "start_time": "2021-12-27T13:01:26.485Z"
   },
   {
    "duration": 14,
    "start_time": "2021-12-27T13:01:26.501Z"
   },
   {
    "duration": 44,
    "start_time": "2021-12-27T13:01:26.517Z"
   },
   {
    "duration": 12,
    "start_time": "2021-12-27T13:01:26.564Z"
   },
   {
    "duration": 810,
    "start_time": "2021-12-27T13:01:26.578Z"
   },
   {
    "duration": 329,
    "start_time": "2021-12-27T13:01:27.391Z"
   },
   {
    "duration": 519,
    "start_time": "2021-12-27T13:01:50.464Z"
   },
   {
    "duration": 350,
    "start_time": "2021-12-27T13:02:09.268Z"
   },
   {
    "duration": 8,
    "start_time": "2021-12-27T13:02:22.971Z"
   },
   {
    "duration": 375,
    "start_time": "2021-12-27T13:02:35.131Z"
   },
   {
    "duration": 15,
    "start_time": "2021-12-27T13:06:17.858Z"
   },
   {
    "duration": 230,
    "start_time": "2021-12-27T13:06:53.392Z"
   },
   {
    "duration": 352,
    "start_time": "2021-12-27T13:06:53.626Z"
   },
   {
    "duration": 10,
    "start_time": "2021-12-27T13:06:53.982Z"
   },
   {
    "duration": 10,
    "start_time": "2021-12-27T13:06:53.994Z"
   },
   {
    "duration": 12,
    "start_time": "2021-12-27T13:06:54.006Z"
   },
   {
    "duration": 45,
    "start_time": "2021-12-27T13:06:54.020Z"
   },
   {
    "duration": 753,
    "start_time": "2021-12-27T13:06:54.067Z"
   },
   {
    "duration": 348,
    "start_time": "2021-12-27T13:06:54.823Z"
   },
   {
    "duration": 39,
    "start_time": "2021-12-27T13:07:06.623Z"
   },
   {
    "duration": 252,
    "start_time": "2021-12-27T13:08:06.945Z"
   },
   {
    "duration": 374,
    "start_time": "2021-12-27T13:08:07.201Z"
   },
   {
    "duration": 11,
    "start_time": "2021-12-27T13:08:07.579Z"
   },
   {
    "duration": 11,
    "start_time": "2021-12-27T13:08:07.593Z"
   },
   {
    "duration": 12,
    "start_time": "2021-12-27T13:08:07.606Z"
   },
   {
    "duration": 46,
    "start_time": "2021-12-27T13:08:07.620Z"
   },
   {
    "duration": 775,
    "start_time": "2021-12-27T13:08:07.669Z"
   },
   {
    "duration": 336,
    "start_time": "2021-12-27T13:08:08.447Z"
   },
   {
    "duration": 32,
    "start_time": "2021-12-27T13:08:12.196Z"
   },
   {
    "duration": 33,
    "start_time": "2021-12-27T13:08:39.408Z"
   },
   {
    "duration": 373,
    "start_time": "2021-12-27T13:11:04.411Z"
   },
   {
    "duration": 760,
    "start_time": "2021-12-27T13:11:11.299Z"
   },
   {
    "duration": 238,
    "start_time": "2021-12-27T13:11:56.887Z"
   },
   {
    "duration": 353,
    "start_time": "2021-12-27T13:11:57.128Z"
   },
   {
    "duration": 8,
    "start_time": "2021-12-27T13:11:57.484Z"
   },
   {
    "duration": 14,
    "start_time": "2021-12-27T13:11:57.495Z"
   },
   {
    "duration": 14,
    "start_time": "2021-12-27T13:11:57.513Z"
   },
   {
    "duration": 42,
    "start_time": "2021-12-27T13:11:57.529Z"
   },
   {
    "duration": 769,
    "start_time": "2021-12-27T13:11:57.574Z"
   },
   {
    "duration": 343,
    "start_time": "2021-12-27T13:11:58.346Z"
   },
   {
    "duration": 867,
    "start_time": "2021-12-27T13:11:58.692Z"
   },
   {
    "duration": 714,
    "start_time": "2021-12-27T13:12:24.632Z"
   },
   {
    "duration": 377,
    "start_time": "2021-12-27T13:13:13.419Z"
   },
   {
    "duration": 379,
    "start_time": "2021-12-27T13:13:31.353Z"
   },
   {
    "duration": 376,
    "start_time": "2021-12-27T13:13:47.576Z"
   },
   {
    "duration": 232,
    "start_time": "2021-12-27T13:14:35.308Z"
   },
   {
    "duration": 337,
    "start_time": "2021-12-27T13:14:35.543Z"
   },
   {
    "duration": 11,
    "start_time": "2021-12-27T13:14:35.884Z"
   },
   {
    "duration": 11,
    "start_time": "2021-12-27T13:14:35.898Z"
   },
   {
    "duration": 49,
    "start_time": "2021-12-27T13:14:35.911Z"
   },
   {
    "duration": 13,
    "start_time": "2021-12-27T13:14:35.963Z"
   },
   {
    "duration": 849,
    "start_time": "2021-12-27T13:14:35.979Z"
   },
   {
    "duration": 334,
    "start_time": "2021-12-27T13:14:36.831Z"
   },
   {
    "duration": 910,
    "start_time": "2021-12-27T13:14:37.169Z"
   },
   {
    "duration": 12,
    "start_time": "2021-12-27T13:15:37.963Z"
   },
   {
    "duration": 6,
    "start_time": "2021-12-27T13:17:12.107Z"
   },
   {
    "duration": 246,
    "start_time": "2021-12-27T13:17:36.189Z"
   },
   {
    "duration": 337,
    "start_time": "2021-12-27T13:17:36.437Z"
   },
   {
    "duration": 7,
    "start_time": "2021-12-27T13:17:36.777Z"
   },
   {
    "duration": 14,
    "start_time": "2021-12-27T13:17:36.787Z"
   },
   {
    "duration": 14,
    "start_time": "2021-12-27T13:17:36.804Z"
   },
   {
    "duration": 50,
    "start_time": "2021-12-27T13:17:36.820Z"
   },
   {
    "duration": 765,
    "start_time": "2021-12-27T13:17:36.873Z"
   },
   {
    "duration": 327,
    "start_time": "2021-12-27T13:17:37.642Z"
   },
   {
    "duration": 698,
    "start_time": "2021-12-27T13:17:37.972Z"
   },
   {
    "duration": 10462,
    "start_time": "2021-12-27T13:20:35.619Z"
   },
   {
    "duration": -141,
    "start_time": "2021-12-27T13:20:46.226Z"
   },
   {
    "duration": -142,
    "start_time": "2021-12-27T13:20:46.229Z"
   },
   {
    "duration": -142,
    "start_time": "2021-12-27T13:20:46.231Z"
   },
   {
    "duration": -141,
    "start_time": "2021-12-27T13:20:46.232Z"
   },
   {
    "duration": -141,
    "start_time": "2021-12-27T13:20:46.234Z"
   },
   {
    "duration": -211,
    "start_time": "2021-12-27T13:20:46.306Z"
   },
   {
    "duration": -215,
    "start_time": "2021-12-27T13:20:46.311Z"
   },
   {
    "duration": -215,
    "start_time": "2021-12-27T13:20:46.314Z"
   },
   {
    "duration": -128,
    "start_time": "2021-12-27T13:21:28.200Z"
   },
   {
    "duration": -131,
    "start_time": "2021-12-27T13:21:28.205Z"
   },
   {
    "duration": -132,
    "start_time": "2021-12-27T13:21:28.207Z"
   },
   {
    "duration": -132,
    "start_time": "2021-12-27T13:21:28.209Z"
   },
   {
    "duration": -131,
    "start_time": "2021-12-27T13:21:28.210Z"
   },
   {
    "duration": -130,
    "start_time": "2021-12-27T13:21:28.211Z"
   },
   {
    "duration": -205,
    "start_time": "2021-12-27T13:21:28.288Z"
   },
   {
    "duration": -208,
    "start_time": "2021-12-27T13:21:28.293Z"
   },
   {
    "duration": -210,
    "start_time": "2021-12-27T13:21:28.297Z"
   },
   {
    "duration": 227,
    "start_time": "2021-12-27T13:21:59.961Z"
   },
   {
    "duration": 437,
    "start_time": "2021-12-27T13:22:00.190Z"
   },
   {
    "duration": 6,
    "start_time": "2021-12-27T13:22:00.630Z"
   },
   {
    "duration": 28,
    "start_time": "2021-12-27T13:22:00.639Z"
   },
   {
    "duration": 12,
    "start_time": "2021-12-27T13:22:00.669Z"
   },
   {
    "duration": 18,
    "start_time": "2021-12-27T13:22:00.683Z"
   },
   {
    "duration": 756,
    "start_time": "2021-12-27T13:22:00.703Z"
   },
   {
    "duration": 435,
    "start_time": "2021-12-27T13:22:01.462Z"
   },
   {
    "duration": 768,
    "start_time": "2021-12-27T13:22:01.899Z"
   },
   {
    "duration": 600,
    "start_time": "2021-12-27T13:25:38.718Z"
   },
   {
    "duration": 11,
    "start_time": "2021-12-27T13:25:48.928Z"
   },
   {
    "duration": 381,
    "start_time": "2021-12-27T13:26:23.296Z"
   },
   {
    "duration": 400,
    "start_time": "2021-12-27T13:26:35.864Z"
   },
   {
    "duration": 41,
    "start_time": "2021-12-27T13:30:19.946Z"
   },
   {
    "duration": 8,
    "start_time": "2021-12-27T13:31:41.268Z"
   },
   {
    "duration": 18,
    "start_time": "2021-12-27T13:34:41.178Z"
   },
   {
    "duration": 305,
    "start_time": "2021-12-27T13:38:39.725Z"
   },
   {
    "duration": 17,
    "start_time": "2021-12-27T13:39:00.500Z"
   },
   {
    "duration": 776,
    "start_time": "2021-12-27T13:40:17.748Z"
   },
   {
    "duration": 381,
    "start_time": "2021-12-27T13:41:11.743Z"
   },
   {
    "duration": 236,
    "start_time": "2021-12-27T13:41:36.588Z"
   },
   {
    "duration": 335,
    "start_time": "2021-12-27T13:41:36.827Z"
   },
   {
    "duration": 5,
    "start_time": "2021-12-27T13:41:37.165Z"
   },
   {
    "duration": 13,
    "start_time": "2021-12-27T13:41:37.173Z"
   },
   {
    "duration": 12,
    "start_time": "2021-12-27T13:41:37.189Z"
   },
   {
    "duration": 12,
    "start_time": "2021-12-27T13:41:37.203Z"
   },
   {
    "duration": 821,
    "start_time": "2021-12-27T13:41:37.218Z"
   },
   {
    "duration": 320,
    "start_time": "2021-12-27T13:41:38.044Z"
   },
   {
    "duration": 710,
    "start_time": "2021-12-27T13:41:38.366Z"
   },
   {
    "duration": 8,
    "start_time": "2021-12-27T13:41:39.078Z"
   },
   {
    "duration": 19,
    "start_time": "2021-12-27T13:41:39.088Z"
   },
   {
    "duration": 845,
    "start_time": "2021-12-27T13:41:39.110Z"
   },
   {
    "duration": 6,
    "start_time": "2021-12-27T13:42:51.092Z"
   },
   {
    "duration": 18,
    "start_time": "2021-12-27T13:44:51.310Z"
   },
   {
    "duration": 386,
    "start_time": "2021-12-27T13:47:22.297Z"
   },
   {
    "duration": 25,
    "start_time": "2021-12-27T13:48:12.699Z"
   },
   {
    "duration": 384,
    "start_time": "2021-12-27T15:14:42.206Z"
   },
   {
    "duration": 125,
    "start_time": "2021-12-27T15:15:19.940Z"
   },
   {
    "duration": 36,
    "start_time": "2021-12-27T15:15:26.839Z"
   },
   {
    "duration": 390,
    "start_time": "2021-12-27T15:15:53.542Z"
   },
   {
    "duration": 440,
    "start_time": "2021-12-27T15:15:59.217Z"
   },
   {
    "duration": 236,
    "start_time": "2021-12-27T15:16:16.338Z"
   },
   {
    "duration": 340,
    "start_time": "2021-12-27T15:16:16.577Z"
   },
   {
    "duration": 8,
    "start_time": "2021-12-27T15:16:16.921Z"
   },
   {
    "duration": 33,
    "start_time": "2021-12-27T15:16:16.933Z"
   },
   {
    "duration": 12,
    "start_time": "2021-12-27T15:16:16.969Z"
   },
   {
    "duration": 12,
    "start_time": "2021-12-27T15:16:16.984Z"
   },
   {
    "duration": 715,
    "start_time": "2021-12-27T15:16:16.998Z"
   },
   {
    "duration": 325,
    "start_time": "2021-12-27T15:16:17.717Z"
   },
   {
    "duration": 736,
    "start_time": "2021-12-27T15:16:18.044Z"
   },
   {
    "duration": 8,
    "start_time": "2021-12-27T15:16:18.782Z"
   },
   {
    "duration": 20,
    "start_time": "2021-12-27T15:16:18.792Z"
   },
   {
    "duration": 794,
    "start_time": "2021-12-27T15:16:18.815Z"
   },
   {
    "duration": 16,
    "start_time": "2021-12-27T15:16:19.611Z"
   },
   {
    "duration": 47,
    "start_time": "2021-12-27T15:16:19.629Z"
   },
   {
    "duration": 388,
    "start_time": "2021-12-27T15:16:24.025Z"
   },
   {
    "duration": 33,
    "start_time": "2021-12-27T15:17:43.332Z"
   },
   {
    "duration": 11,
    "start_time": "2021-12-27T15:20:27.543Z"
   },
   {
    "duration": 11,
    "start_time": "2021-12-27T15:21:16.256Z"
   },
   {
    "duration": 20,
    "start_time": "2021-12-27T15:22:32.128Z"
   },
   {
    "duration": 33,
    "start_time": "2021-12-27T15:23:16.776Z"
   },
   {
    "duration": 24,
    "start_time": "2021-12-27T15:25:46.617Z"
   },
   {
    "duration": 17,
    "start_time": "2021-12-27T15:27:13.871Z"
   },
   {
    "duration": 16,
    "start_time": "2021-12-27T15:27:22.943Z"
   },
   {
    "duration": 263,
    "start_time": "2021-12-27T15:29:51.706Z"
   },
   {
    "duration": 34,
    "start_time": "2021-12-27T15:30:53.008Z"
   },
   {
    "duration": 21,
    "start_time": "2021-12-27T15:33:16.507Z"
   },
   {
    "duration": 12,
    "start_time": "2021-12-27T15:36:38.456Z"
   },
   {
    "duration": 22,
    "start_time": "2021-12-27T15:36:45.072Z"
   },
   {
    "duration": 35,
    "start_time": "2021-12-27T15:38:40.379Z"
   },
   {
    "duration": 12,
    "start_time": "2021-12-27T15:41:07.577Z"
   },
   {
    "duration": 16,
    "start_time": "2021-12-27T15:44:34.229Z"
   },
   {
    "duration": 11,
    "start_time": "2021-12-27T15:46:58.005Z"
   },
   {
    "duration": 734,
    "start_time": "2021-12-27T15:55:19.736Z"
   },
   {
    "duration": 342,
    "start_time": "2021-12-27T15:55:44.094Z"
   },
   {
    "duration": 356,
    "start_time": "2021-12-27T15:56:14.121Z"
   },
   {
    "duration": 381,
    "start_time": "2021-12-27T15:57:28.313Z"
   },
   {
    "duration": 379,
    "start_time": "2021-12-27T15:58:14.543Z"
   },
   {
    "duration": -101,
    "start_time": "2021-12-27T16:06:51.085Z"
   },
   {
    "duration": 7458,
    "start_time": "2021-12-27T16:06:56.355Z"
   },
   {
    "duration": 7,
    "start_time": "2021-12-27T16:07:28.917Z"
   },
   {
    "duration": 6,
    "start_time": "2021-12-27T16:07:37.252Z"
   },
   {
    "duration": 1808,
    "start_time": "2021-12-27T16:08:37.672Z"
   },
   {
    "duration": 38,
    "start_time": "2021-12-27T16:11:06.484Z"
   },
   {
    "duration": 320,
    "start_time": "2021-12-27T16:14:07.643Z"
   },
   {
    "duration": 412,
    "start_time": "2021-12-27T16:14:42.326Z"
   },
   {
    "duration": 353,
    "start_time": "2021-12-27T16:15:23.265Z"
   },
   {
    "duration": 376,
    "start_time": "2021-12-27T16:15:28.174Z"
   },
   {
    "duration": 380,
    "start_time": "2021-12-27T16:17:20.284Z"
   },
   {
    "duration": 378,
    "start_time": "2021-12-27T16:17:31.855Z"
   },
   {
    "duration": 18,
    "start_time": "2021-12-27T16:19:45.519Z"
   },
   {
    "duration": 18,
    "start_time": "2021-12-27T16:20:04.272Z"
   },
   {
    "duration": 20,
    "start_time": "2021-12-27T16:20:58.729Z"
   },
   {
    "duration": 18,
    "start_time": "2021-12-27T16:21:20.616Z"
   },
   {
    "duration": 16,
    "start_time": "2021-12-27T16:21:46.056Z"
   },
   {
    "duration": 232,
    "start_time": "2021-12-27T16:21:55.804Z"
   },
   {
    "duration": 433,
    "start_time": "2021-12-27T16:21:56.040Z"
   },
   {
    "duration": 5,
    "start_time": "2021-12-27T16:21:56.476Z"
   },
   {
    "duration": 12,
    "start_time": "2021-12-27T16:21:56.485Z"
   },
   {
    "duration": 12,
    "start_time": "2021-12-27T16:21:56.500Z"
   },
   {
    "duration": 52,
    "start_time": "2021-12-27T16:21:56.514Z"
   },
   {
    "duration": 720,
    "start_time": "2021-12-27T16:21:56.568Z"
   },
   {
    "duration": 319,
    "start_time": "2021-12-27T16:21:57.292Z"
   },
   {
    "duration": 713,
    "start_time": "2021-12-27T16:21:57.615Z"
   },
   {
    "duration": 9,
    "start_time": "2021-12-27T16:21:58.330Z"
   },
   {
    "duration": 30,
    "start_time": "2021-12-27T16:21:58.341Z"
   },
   {
    "duration": 771,
    "start_time": "2021-12-27T16:21:58.374Z"
   },
   {
    "duration": 24,
    "start_time": "2021-12-27T16:21:59.148Z"
   },
   {
    "duration": 26,
    "start_time": "2021-12-27T16:21:59.175Z"
   },
   {
    "duration": 60,
    "start_time": "2021-12-27T16:21:59.204Z"
   },
   {
    "duration": 15,
    "start_time": "2021-12-27T16:21:59.266Z"
   },
   {
    "duration": 20,
    "start_time": "2021-12-27T16:21:59.283Z"
   },
   {
    "duration": 54,
    "start_time": "2021-12-27T16:21:59.305Z"
   },
   {
    "duration": 11,
    "start_time": "2021-12-27T16:21:59.361Z"
   },
   {
    "duration": 14,
    "start_time": "2021-12-27T16:21:59.375Z"
   },
   {
    "duration": 12,
    "start_time": "2021-12-27T16:21:59.392Z"
   },
   {
    "duration": 435,
    "start_time": "2021-12-27T16:21:59.407Z"
   },
   {
    "duration": 1904,
    "start_time": "2021-12-27T16:21:59.846Z"
   },
   {
    "duration": 18,
    "start_time": "2021-12-27T16:22:05.472Z"
   },
   {
    "duration": 7,
    "start_time": "2021-12-27T16:22:23.529Z"
   },
   {
    "duration": 7201,
    "start_time": "2021-12-27T16:22:45.845Z"
   },
   {
    "duration": 6,
    "start_time": "2021-12-27T16:22:55.377Z"
   },
   {
    "duration": 5,
    "start_time": "2021-12-27T16:23:08.341Z"
   },
   {
    "duration": 7,
    "start_time": "2021-12-27T16:23:13.856Z"
   },
   {
    "duration": 114,
    "start_time": "2021-12-27T16:23:27.849Z"
   },
   {
    "duration": 6,
    "start_time": "2021-12-27T16:23:34.657Z"
   },
   {
    "duration": 370,
    "start_time": "2021-12-27T16:23:45.929Z"
   },
   {
    "duration": 367,
    "start_time": "2021-12-27T16:23:50.693Z"
   },
   {
    "duration": 5,
    "start_time": "2021-12-27T16:23:58.729Z"
   },
   {
    "duration": 264,
    "start_time": "2021-12-27T16:24:22.802Z"
   },
   {
    "duration": 351,
    "start_time": "2021-12-27T16:24:23.069Z"
   },
   {
    "duration": 6,
    "start_time": "2021-12-27T16:24:23.423Z"
   },
   {
    "duration": 15,
    "start_time": "2021-12-27T16:24:23.432Z"
   },
   {
    "duration": 20,
    "start_time": "2021-12-27T16:24:23.449Z"
   },
   {
    "duration": 15,
    "start_time": "2021-12-27T16:24:23.471Z"
   },
   {
    "duration": 874,
    "start_time": "2021-12-27T16:24:23.488Z"
   },
   {
    "duration": 329,
    "start_time": "2021-12-27T16:24:24.364Z"
   },
   {
    "duration": 680,
    "start_time": "2021-12-27T16:24:24.697Z"
   },
   {
    "duration": 8,
    "start_time": "2021-12-27T16:24:25.380Z"
   },
   {
    "duration": 22,
    "start_time": "2021-12-27T16:24:25.391Z"
   },
   {
    "duration": 849,
    "start_time": "2021-12-27T16:24:25.415Z"
   },
   {
    "duration": 14,
    "start_time": "2021-12-27T16:24:26.267Z"
   },
   {
    "duration": 25,
    "start_time": "2021-12-27T16:24:26.283Z"
   },
   {
    "duration": 66,
    "start_time": "2021-12-27T16:24:26.311Z"
   },
   {
    "duration": 14,
    "start_time": "2021-12-27T16:24:26.379Z"
   },
   {
    "duration": 23,
    "start_time": "2021-12-27T16:24:26.395Z"
   },
   {
    "duration": 56,
    "start_time": "2021-12-27T16:24:26.421Z"
   },
   {
    "duration": 14,
    "start_time": "2021-12-27T16:24:26.479Z"
   },
   {
    "duration": 19,
    "start_time": "2021-12-27T16:24:26.496Z"
   },
   {
    "duration": 51,
    "start_time": "2021-12-27T16:24:26.517Z"
   },
   {
    "duration": 400,
    "start_time": "2021-12-27T16:24:26.571Z"
   },
   {
    "duration": 1766,
    "start_time": "2021-12-27T16:24:26.974Z"
   },
   {
    "duration": 16,
    "start_time": "2021-12-27T16:24:34.593Z"
   },
   {
    "duration": 42,
    "start_time": "2021-12-27T16:30:17.209Z"
   },
   {
    "duration": 5,
    "start_time": "2021-12-27T16:32:24.905Z"
   },
   {
    "duration": 13,
    "start_time": "2021-12-27T16:35:44.852Z"
   },
   {
    "duration": 6,
    "start_time": "2021-12-27T16:36:31.075Z"
   },
   {
    "duration": 21,
    "start_time": "2021-12-27T16:39:15.814Z"
   },
   {
    "duration": 34,
    "start_time": "2021-12-27T16:39:42.214Z"
   },
   {
    "duration": 25,
    "start_time": "2021-12-27T16:40:05.933Z"
   },
   {
    "duration": 18,
    "start_time": "2021-12-27T16:48:04.942Z"
   },
   {
    "duration": 21,
    "start_time": "2021-12-27T16:49:25.928Z"
   },
   {
    "duration": 37,
    "start_time": "2021-12-27T16:50:30.649Z"
   },
   {
    "duration": 409,
    "start_time": "2021-12-27T16:55:00.760Z"
   },
   {
    "duration": 403,
    "start_time": "2021-12-27T16:55:31.995Z"
   },
   {
    "duration": 499,
    "start_time": "2021-12-27T16:56:07.422Z"
   },
   {
    "duration": 433,
    "start_time": "2021-12-27T16:56:46.663Z"
   },
   {
    "duration": 378,
    "start_time": "2021-12-27T16:56:55.367Z"
   },
   {
    "duration": 438,
    "start_time": "2021-12-27T16:57:21.232Z"
   },
   {
    "duration": 240,
    "start_time": "2021-12-27T16:57:56.509Z"
   },
   {
    "duration": 339,
    "start_time": "2021-12-27T16:57:56.760Z"
   },
   {
    "duration": 6,
    "start_time": "2021-12-27T16:57:57.102Z"
   },
   {
    "duration": 13,
    "start_time": "2021-12-27T16:57:57.111Z"
   },
   {
    "duration": 42,
    "start_time": "2021-12-27T16:57:57.127Z"
   },
   {
    "duration": 14,
    "start_time": "2021-12-27T16:57:57.171Z"
   },
   {
    "duration": 726,
    "start_time": "2021-12-27T16:57:57.187Z"
   },
   {
    "duration": 335,
    "start_time": "2021-12-27T16:57:57.918Z"
   },
   {
    "duration": 1107,
    "start_time": "2021-12-27T16:57:58.256Z"
   },
   {
    "duration": 12,
    "start_time": "2021-12-27T16:57:59.366Z"
   },
   {
    "duration": 27,
    "start_time": "2021-12-27T16:57:59.381Z"
   },
   {
    "duration": 854,
    "start_time": "2021-12-27T16:57:59.411Z"
   },
   {
    "duration": 25,
    "start_time": "2021-12-27T16:58:00.269Z"
   },
   {
    "duration": 62,
    "start_time": "2021-12-27T16:58:00.297Z"
   },
   {
    "duration": 46,
    "start_time": "2021-12-27T16:58:00.363Z"
   },
   {
    "duration": 23,
    "start_time": "2021-12-27T16:58:00.412Z"
   },
   {
    "duration": 45,
    "start_time": "2021-12-27T16:58:00.438Z"
   },
   {
    "duration": 35,
    "start_time": "2021-12-27T16:58:00.485Z"
   },
   {
    "duration": 41,
    "start_time": "2021-12-27T16:58:00.522Z"
   },
   {
    "duration": 24,
    "start_time": "2021-12-27T16:58:00.566Z"
   },
   {
    "duration": 13,
    "start_time": "2021-12-27T16:58:00.592Z"
   },
   {
    "duration": 664,
    "start_time": "2021-12-27T16:58:00.608Z"
   },
   {
    "duration": 3207,
    "start_time": "2021-12-27T16:58:01.279Z"
   },
   {
    "duration": 19,
    "start_time": "2021-12-27T16:58:04.489Z"
   },
   {
    "duration": 72,
    "start_time": "2021-12-27T16:58:04.510Z"
   },
   {
    "duration": 28,
    "start_time": "2021-12-27T16:58:04.584Z"
   },
   {
    "duration": 395,
    "start_time": "2021-12-27T16:58:10.805Z"
   },
   {
    "duration": 11347,
    "start_time": "2021-12-27T16:59:43.750Z"
   },
   {
    "duration": 222,
    "start_time": "2021-12-27T17:00:11.817Z"
   },
   {
    "duration": 351,
    "start_time": "2021-12-27T17:00:12.042Z"
   },
   {
    "duration": 7,
    "start_time": "2021-12-27T17:00:12.397Z"
   },
   {
    "duration": 15,
    "start_time": "2021-12-27T17:00:12.407Z"
   },
   {
    "duration": 45,
    "start_time": "2021-12-27T17:00:12.425Z"
   },
   {
    "duration": 16,
    "start_time": "2021-12-27T17:00:12.474Z"
   },
   {
    "duration": 731,
    "start_time": "2021-12-27T17:00:12.493Z"
   },
   {
    "duration": 346,
    "start_time": "2021-12-27T17:00:13.228Z"
   },
   {
    "duration": 798,
    "start_time": "2021-12-27T17:00:13.578Z"
   },
   {
    "duration": 8,
    "start_time": "2021-12-27T17:00:14.378Z"
   },
   {
    "duration": 27,
    "start_time": "2021-12-27T17:00:14.389Z"
   },
   {
    "duration": 1227,
    "start_time": "2021-12-27T17:00:14.419Z"
   },
   {
    "duration": 32,
    "start_time": "2021-12-27T17:00:15.648Z"
   },
   {
    "duration": 35,
    "start_time": "2021-12-27T17:00:15.682Z"
   },
   {
    "duration": 60,
    "start_time": "2021-12-27T17:00:15.720Z"
   },
   {
    "duration": 15,
    "start_time": "2021-12-27T17:00:15.782Z"
   },
   {
    "duration": 21,
    "start_time": "2021-12-27T17:00:15.799Z"
   },
   {
    "duration": 53,
    "start_time": "2021-12-27T17:00:15.823Z"
   },
   {
    "duration": 11,
    "start_time": "2021-12-27T17:00:15.878Z"
   },
   {
    "duration": 14,
    "start_time": "2021-12-27T17:00:15.892Z"
   },
   {
    "duration": 52,
    "start_time": "2021-12-27T17:00:15.908Z"
   },
   {
    "duration": 576,
    "start_time": "2021-12-27T17:00:15.963Z"
   },
   {
    "duration": 1739,
    "start_time": "2021-12-27T17:00:16.543Z"
   },
   {
    "duration": 15,
    "start_time": "2021-12-27T17:00:18.284Z"
   },
   {
    "duration": 67,
    "start_time": "2021-12-27T17:00:18.302Z"
   },
   {
    "duration": 28,
    "start_time": "2021-12-27T17:00:18.371Z"
   },
   {
    "duration": 5446,
    "start_time": "2021-12-27T17:00:18.402Z"
   },
   {
    "duration": 6193,
    "start_time": "2021-12-27T17:02:14.974Z"
   },
   {
    "duration": 461,
    "start_time": "2021-12-28T13:58:26.773Z"
   },
   {
    "duration": 1337,
    "start_time": "2021-12-28T13:58:40.510Z"
   },
   {
    "duration": 452,
    "start_time": "2021-12-28T13:58:41.850Z"
   },
   {
    "duration": 7,
    "start_time": "2021-12-28T13:58:42.307Z"
   },
   {
    "duration": 15,
    "start_time": "2021-12-28T13:58:42.318Z"
   },
   {
    "duration": 41,
    "start_time": "2021-12-28T13:58:42.336Z"
   },
   {
    "duration": 11,
    "start_time": "2021-12-28T13:58:42.379Z"
   },
   {
    "duration": 769,
    "start_time": "2021-12-28T13:58:42.393Z"
   },
   {
    "duration": 315,
    "start_time": "2021-12-28T13:58:43.165Z"
   },
   {
    "duration": 737,
    "start_time": "2021-12-28T13:58:43.483Z"
   },
   {
    "duration": 9,
    "start_time": "2021-12-28T13:58:44.222Z"
   },
   {
    "duration": 42,
    "start_time": "2021-12-28T13:58:44.234Z"
   },
   {
    "duration": 1190,
    "start_time": "2021-12-28T13:58:44.279Z"
   },
   {
    "duration": 18,
    "start_time": "2021-12-28T13:58:45.472Z"
   },
   {
    "duration": 27,
    "start_time": "2021-12-28T13:58:45.492Z"
   },
   {
    "duration": 66,
    "start_time": "2021-12-28T13:58:45.522Z"
   },
   {
    "duration": 393,
    "start_time": "2021-12-28T13:58:45.590Z"
   },
   {
    "duration": -272,
    "start_time": "2021-12-28T13:58:46.259Z"
   },
   {
    "duration": -276,
    "start_time": "2021-12-28T13:58:46.264Z"
   },
   {
    "duration": -277,
    "start_time": "2021-12-28T13:58:46.267Z"
   },
   {
    "duration": -284,
    "start_time": "2021-12-28T13:58:46.275Z"
   },
   {
    "duration": -342,
    "start_time": "2021-12-28T13:58:46.335Z"
   },
   {
    "duration": -343,
    "start_time": "2021-12-28T13:58:46.337Z"
   },
   {
    "duration": -344,
    "start_time": "2021-12-28T13:58:46.339Z"
   },
   {
    "duration": -344,
    "start_time": "2021-12-28T13:58:46.341Z"
   },
   {
    "duration": -346,
    "start_time": "2021-12-28T13:58:46.344Z"
   },
   {
    "duration": -347,
    "start_time": "2021-12-28T13:58:46.346Z"
   },
   {
    "duration": -352,
    "start_time": "2021-12-28T13:58:46.352Z"
   },
   {
    "duration": -353,
    "start_time": "2021-12-28T13:58:46.355Z"
   },
   {
    "duration": 16,
    "start_time": "2021-12-28T14:00:03.153Z"
   },
   {
    "duration": 22,
    "start_time": "2021-12-28T14:00:06.522Z"
   },
   {
    "duration": 22,
    "start_time": "2021-12-28T14:00:09.091Z"
   },
   {
    "duration": 12,
    "start_time": "2021-12-28T14:00:11.956Z"
   },
   {
    "duration": 246,
    "start_time": "2021-12-28T14:00:16.066Z"
   },
   {
    "duration": 326,
    "start_time": "2021-12-28T14:00:16.316Z"
   },
   {
    "duration": 17,
    "start_time": "2021-12-28T14:00:16.646Z"
   },
   {
    "duration": 20,
    "start_time": "2021-12-28T14:00:16.666Z"
   },
   {
    "duration": 25,
    "start_time": "2021-12-28T14:00:16.689Z"
   },
   {
    "duration": 15,
    "start_time": "2021-12-28T14:00:16.718Z"
   },
   {
    "duration": 758,
    "start_time": "2021-12-28T14:00:16.735Z"
   },
   {
    "duration": 315,
    "start_time": "2021-12-28T14:00:17.498Z"
   },
   {
    "duration": 671,
    "start_time": "2021-12-28T14:00:17.816Z"
   },
   {
    "duration": 8,
    "start_time": "2021-12-28T14:00:18.490Z"
   },
   {
    "duration": 22,
    "start_time": "2021-12-28T14:00:18.500Z"
   },
   {
    "duration": 759,
    "start_time": "2021-12-28T14:00:18.524Z"
   },
   {
    "duration": 15,
    "start_time": "2021-12-28T14:00:19.286Z"
   },
   {
    "duration": 23,
    "start_time": "2021-12-28T14:00:19.304Z"
   },
   {
    "duration": 58,
    "start_time": "2021-12-28T14:00:19.330Z"
   },
   {
    "duration": 18,
    "start_time": "2021-12-28T14:00:19.391Z"
   },
   {
    "duration": 66,
    "start_time": "2021-12-28T14:00:19.411Z"
   },
   {
    "duration": 24,
    "start_time": "2021-12-28T14:00:19.480Z"
   },
   {
    "duration": 10,
    "start_time": "2021-12-28T14:00:19.507Z"
   },
   {
    "duration": 46,
    "start_time": "2021-12-28T14:00:19.520Z"
   },
   {
    "duration": 11,
    "start_time": "2021-12-28T14:00:19.568Z"
   },
   {
    "duration": 393,
    "start_time": "2021-12-28T14:00:19.581Z"
   },
   {
    "duration": 1819,
    "start_time": "2021-12-28T14:00:19.978Z"
   },
   {
    "duration": 18,
    "start_time": "2021-12-28T14:00:21.800Z"
   },
   {
    "duration": 79,
    "start_time": "2021-12-28T14:00:21.821Z"
   },
   {
    "duration": 29,
    "start_time": "2021-12-28T14:00:21.903Z"
   },
   {
    "duration": 5495,
    "start_time": "2021-12-28T14:00:21.935Z"
   },
   {
    "duration": 414,
    "start_time": "2021-12-28T14:00:27.432Z"
   },
   {
    "duration": 397,
    "start_time": "2021-12-28T14:03:15.989Z"
   },
   {
    "duration": 119,
    "start_time": "2021-12-28T14:07:57.703Z"
   },
   {
    "duration": 353,
    "start_time": "2021-12-28T14:08:26.802Z"
   },
   {
    "duration": 1282,
    "start_time": "2021-12-28T14:08:36.164Z"
   },
   {
    "duration": 665,
    "start_time": "2021-12-28T14:09:18.789Z"
   },
   {
    "duration": 1370,
    "start_time": "2021-12-28T14:09:32.916Z"
   },
   {
    "duration": 1370,
    "start_time": "2021-12-28T14:09:40.828Z"
   },
   {
    "duration": 2565,
    "start_time": "2021-12-28T14:10:06.733Z"
   },
   {
    "duration": 1995,
    "start_time": "2021-12-28T14:10:13.806Z"
   },
   {
    "duration": 11,
    "start_time": "2021-12-28T14:11:10.277Z"
   },
   {
    "duration": 6,
    "start_time": "2021-12-28T14:12:37.252Z"
   },
   {
    "duration": 36,
    "start_time": "2021-12-28T14:15:21.094Z"
   },
   {
    "duration": 8,
    "start_time": "2021-12-28T14:15:32.060Z"
   },
   {
    "duration": 229,
    "start_time": "2021-12-28T14:16:21.054Z"
   },
   {
    "duration": 319,
    "start_time": "2021-12-28T14:16:21.286Z"
   },
   {
    "duration": 5,
    "start_time": "2021-12-28T14:16:21.609Z"
   },
   {
    "duration": 11,
    "start_time": "2021-12-28T14:16:21.617Z"
   },
   {
    "duration": 16,
    "start_time": "2021-12-28T14:16:21.660Z"
   },
   {
    "duration": 13,
    "start_time": "2021-12-28T14:16:21.679Z"
   },
   {
    "duration": 839,
    "start_time": "2021-12-28T14:16:21.694Z"
   },
   {
    "duration": 331,
    "start_time": "2021-12-28T14:16:22.536Z"
   },
   {
    "duration": 719,
    "start_time": "2021-12-28T14:16:22.874Z"
   },
   {
    "duration": 9,
    "start_time": "2021-12-28T14:16:23.597Z"
   },
   {
    "duration": 22,
    "start_time": "2021-12-28T14:16:23.608Z"
   },
   {
    "duration": 802,
    "start_time": "2021-12-28T14:16:23.632Z"
   },
   {
    "duration": 35,
    "start_time": "2021-12-28T14:16:24.436Z"
   },
   {
    "duration": 30,
    "start_time": "2021-12-28T14:16:24.474Z"
   },
   {
    "duration": 75,
    "start_time": "2021-12-28T14:16:24.507Z"
   },
   {
    "duration": 19,
    "start_time": "2021-12-28T14:16:24.585Z"
   },
   {
    "duration": 24,
    "start_time": "2021-12-28T14:16:24.607Z"
   },
   {
    "duration": 23,
    "start_time": "2021-12-28T14:16:24.660Z"
   },
   {
    "duration": 13,
    "start_time": "2021-12-28T14:16:24.685Z"
   },
   {
    "duration": 15,
    "start_time": "2021-12-28T14:16:24.700Z"
   },
   {
    "duration": 49,
    "start_time": "2021-12-28T14:16:24.718Z"
   },
   {
    "duration": 396,
    "start_time": "2021-12-28T14:16:24.769Z"
   },
   {
    "duration": 1817,
    "start_time": "2021-12-28T14:16:25.167Z"
   },
   {
    "duration": 19,
    "start_time": "2021-12-28T14:16:26.987Z"
   },
   {
    "duration": 71,
    "start_time": "2021-12-28T14:16:27.009Z"
   },
   {
    "duration": 29,
    "start_time": "2021-12-28T14:16:27.083Z"
   },
   {
    "duration": 5433,
    "start_time": "2021-12-28T14:16:27.119Z"
   },
   {
    "duration": 5,
    "start_time": "2021-12-28T14:16:32.560Z"
   },
   {
    "duration": 11,
    "start_time": "2021-12-28T14:16:54.223Z"
   },
   {
    "duration": 12,
    "start_time": "2021-12-28T14:17:23.285Z"
   },
   {
    "duration": 1860,
    "start_time": "2021-12-28T14:18:57.484Z"
   },
   {
    "duration": 3140,
    "start_time": "2021-12-28T14:19:37.015Z"
   },
   {
    "duration": 1289,
    "start_time": "2021-12-28T14:19:53.519Z"
   },
   {
    "duration": 1348,
    "start_time": "2021-12-28T14:20:25.557Z"
   },
   {
    "duration": 1285,
    "start_time": "2021-12-28T14:20:53.190Z"
   },
   {
    "duration": 12,
    "start_time": "2021-12-28T14:21:45.677Z"
   },
   {
    "duration": 12,
    "start_time": "2021-12-28T14:25:54.743Z"
   },
   {
    "duration": 8,
    "start_time": "2021-12-28T14:26:09.622Z"
   },
   {
    "duration": 11,
    "start_time": "2021-12-28T14:26:28.310Z"
   },
   {
    "duration": 418,
    "start_time": "2021-12-28T14:27:25.358Z"
   },
   {
    "duration": 26,
    "start_time": "2021-12-28T14:27:37.248Z"
   },
   {
    "duration": 20,
    "start_time": "2021-12-28T14:28:05.703Z"
   },
   {
    "duration": 252,
    "start_time": "2021-12-28T14:28:22.283Z"
   },
   {
    "duration": 347,
    "start_time": "2021-12-28T14:28:22.538Z"
   },
   {
    "duration": 6,
    "start_time": "2021-12-28T14:28:22.888Z"
   },
   {
    "duration": 14,
    "start_time": "2021-12-28T14:28:22.897Z"
   },
   {
    "duration": 15,
    "start_time": "2021-12-28T14:28:22.913Z"
   },
   {
    "duration": 15,
    "start_time": "2021-12-28T14:28:22.961Z"
   },
   {
    "duration": 770,
    "start_time": "2021-12-28T14:28:22.979Z"
   },
   {
    "duration": 352,
    "start_time": "2021-12-28T14:28:23.763Z"
   },
   {
    "duration": 800,
    "start_time": "2021-12-28T14:28:24.119Z"
   },
   {
    "duration": 8,
    "start_time": "2021-12-28T14:28:24.921Z"
   },
   {
    "duration": 49,
    "start_time": "2021-12-28T14:28:24.932Z"
   },
   {
    "duration": 915,
    "start_time": "2021-12-28T14:28:24.984Z"
   },
   {
    "duration": 17,
    "start_time": "2021-12-28T14:28:25.902Z"
   },
   {
    "duration": 66,
    "start_time": "2021-12-28T14:28:25.921Z"
   },
   {
    "duration": 34,
    "start_time": "2021-12-28T14:28:25.990Z"
   },
   {
    "duration": 37,
    "start_time": "2021-12-28T14:28:26.026Z"
   },
   {
    "duration": 32,
    "start_time": "2021-12-28T14:28:26.066Z"
   },
   {
    "duration": 22,
    "start_time": "2021-12-28T14:28:26.101Z"
   },
   {
    "duration": 46,
    "start_time": "2021-12-28T14:28:26.127Z"
   },
   {
    "duration": 23,
    "start_time": "2021-12-28T14:28:26.176Z"
   },
   {
    "duration": 13,
    "start_time": "2021-12-28T14:28:26.202Z"
   },
   {
    "duration": 539,
    "start_time": "2021-12-28T14:28:26.260Z"
   },
   {
    "duration": 1816,
    "start_time": "2021-12-28T14:28:26.803Z"
   },
   {
    "duration": 16,
    "start_time": "2021-12-28T14:28:28.622Z"
   },
   {
    "duration": 46,
    "start_time": "2021-12-28T14:28:28.660Z"
   },
   {
    "duration": 51,
    "start_time": "2021-12-28T14:28:28.708Z"
   },
   {
    "duration": 5252,
    "start_time": "2021-12-28T14:28:28.761Z"
   },
   {
    "duration": 1380,
    "start_time": "2021-12-28T14:28:34.016Z"
   },
   {
    "duration": 23,
    "start_time": "2021-12-28T14:28:35.399Z"
   },
   {
    "duration": 20,
    "start_time": "2021-12-28T14:29:07.639Z"
   },
   {
    "duration": 31,
    "start_time": "2021-12-28T14:29:52.066Z"
   },
   {
    "duration": 42,
    "start_time": "2021-12-28T14:33:04.346Z"
   },
   {
    "duration": 1285,
    "start_time": "2021-12-28T14:34:02.320Z"
   },
   {
    "duration": 1746,
    "start_time": "2021-12-28T14:34:59.684Z"
   },
   {
    "duration": 236,
    "start_time": "2021-12-28T14:35:25.565Z"
   },
   {
    "duration": 330,
    "start_time": "2021-12-28T14:35:25.803Z"
   },
   {
    "duration": 22,
    "start_time": "2021-12-28T14:35:26.137Z"
   },
   {
    "duration": 11,
    "start_time": "2021-12-28T14:35:26.162Z"
   },
   {
    "duration": 16,
    "start_time": "2021-12-28T14:35:26.176Z"
   },
   {
    "duration": 13,
    "start_time": "2021-12-28T14:35:26.195Z"
   },
   {
    "duration": 763,
    "start_time": "2021-12-28T14:35:26.211Z"
   },
   {
    "duration": 307,
    "start_time": "2021-12-28T14:35:26.980Z"
   },
   {
    "duration": 706,
    "start_time": "2021-12-28T14:35:27.290Z"
   },
   {
    "duration": 9,
    "start_time": "2021-12-28T14:35:27.998Z"
   },
   {
    "duration": 24,
    "start_time": "2021-12-28T14:35:28.010Z"
   },
   {
    "duration": 789,
    "start_time": "2021-12-28T14:35:28.059Z"
   },
   {
    "duration": 30,
    "start_time": "2021-12-28T14:35:28.852Z"
   },
   {
    "duration": 24,
    "start_time": "2021-12-28T14:35:28.885Z"
   },
   {
    "duration": 66,
    "start_time": "2021-12-28T14:35:28.912Z"
   },
   {
    "duration": 15,
    "start_time": "2021-12-28T14:35:28.981Z"
   },
   {
    "duration": 30,
    "start_time": "2021-12-28T14:35:28.999Z"
   },
   {
    "duration": 22,
    "start_time": "2021-12-28T14:35:29.061Z"
   },
   {
    "duration": 12,
    "start_time": "2021-12-28T14:35:29.085Z"
   },
   {
    "duration": 15,
    "start_time": "2021-12-28T14:35:29.100Z"
   },
   {
    "duration": 14,
    "start_time": "2021-12-28T14:35:29.159Z"
   },
   {
    "duration": 614,
    "start_time": "2021-12-28T14:35:29.177Z"
   },
   {
    "duration": 3457,
    "start_time": "2021-12-28T14:35:29.798Z"
   },
   {
    "duration": 17,
    "start_time": "2021-12-28T14:35:33.257Z"
   },
   {
    "duration": 92,
    "start_time": "2021-12-28T14:35:33.277Z"
   },
   {
    "duration": 30,
    "start_time": "2021-12-28T14:35:33.372Z"
   },
   {
    "duration": 5382,
    "start_time": "2021-12-28T14:35:33.406Z"
   },
   {
    "duration": 398,
    "start_time": "2021-12-28T14:37:12.845Z"
   },
   {
    "duration": -152,
    "start_time": "2021-12-28T14:42:14.475Z"
   },
   {
    "duration": 259,
    "start_time": "2021-12-28T14:42:38.258Z"
   },
   {
    "duration": 342,
    "start_time": "2021-12-28T14:42:38.520Z"
   },
   {
    "duration": 6,
    "start_time": "2021-12-28T14:42:38.865Z"
   },
   {
    "duration": 11,
    "start_time": "2021-12-28T14:42:38.873Z"
   },
   {
    "duration": 17,
    "start_time": "2021-12-28T14:42:38.886Z"
   },
   {
    "duration": 13,
    "start_time": "2021-12-28T14:42:38.905Z"
   },
   {
    "duration": 729,
    "start_time": "2021-12-28T14:42:38.961Z"
   },
   {
    "duration": 327,
    "start_time": "2021-12-28T14:42:39.694Z"
   },
   {
    "duration": 705,
    "start_time": "2021-12-28T14:42:40.024Z"
   },
   {
    "duration": 8,
    "start_time": "2021-12-28T14:42:40.732Z"
   },
   {
    "duration": 19,
    "start_time": "2021-12-28T14:42:40.759Z"
   },
   {
    "duration": 770,
    "start_time": "2021-12-28T14:42:40.781Z"
   },
   {
    "duration": 18,
    "start_time": "2021-12-28T14:42:41.560Z"
   },
   {
    "duration": 28,
    "start_time": "2021-12-28T14:42:41.581Z"
   },
   {
    "duration": 68,
    "start_time": "2021-12-28T14:42:41.611Z"
   },
   {
    "duration": 16,
    "start_time": "2021-12-28T14:42:41.682Z"
   },
   {
    "duration": 23,
    "start_time": "2021-12-28T14:42:41.700Z"
   },
   {
    "duration": 51,
    "start_time": "2021-12-28T14:42:41.725Z"
   },
   {
    "duration": 12,
    "start_time": "2021-12-28T14:42:41.778Z"
   },
   {
    "duration": 19,
    "start_time": "2021-12-28T14:42:41.792Z"
   },
   {
    "duration": 55,
    "start_time": "2021-12-28T14:42:41.813Z"
   },
   {
    "duration": 429,
    "start_time": "2021-12-28T14:42:41.871Z"
   },
   {
    "duration": 1847,
    "start_time": "2021-12-28T14:42:42.304Z"
   },
   {
    "duration": 27,
    "start_time": "2021-12-28T14:42:44.153Z"
   },
   {
    "duration": 43,
    "start_time": "2021-12-28T14:42:44.182Z"
   },
   {
    "duration": 65,
    "start_time": "2021-12-28T14:42:44.227Z"
   },
   {
    "duration": 5595,
    "start_time": "2021-12-28T14:42:44.294Z"
   },
   {
    "duration": 1388,
    "start_time": "2021-12-28T14:42:49.891Z"
   },
   {
    "duration": 11185,
    "start_time": "2021-12-28T14:43:02.324Z"
   },
   {
    "duration": 12,
    "start_time": "2021-12-28T14:43:25.397Z"
   },
   {
    "duration": 34,
    "start_time": "2021-12-28T14:45:08.933Z"
   },
   {
    "duration": 38,
    "start_time": "2021-12-28T14:49:45.214Z"
   },
   {
    "duration": 49,
    "start_time": "2021-12-28T14:51:30.983Z"
   },
   {
    "duration": 1280,
    "start_time": "2021-12-28T14:51:37.596Z"
   },
   {
    "duration": 512,
    "start_time": "2021-12-28T14:59:54.993Z"
   },
   {
    "duration": 508,
    "start_time": "2021-12-28T15:00:07.584Z"
   },
   {
    "duration": 11,
    "start_time": "2021-12-28T15:00:13.987Z"
   },
   {
    "duration": 14,
    "start_time": "2021-12-28T15:03:15.474Z"
   },
   {
    "duration": 15,
    "start_time": "2021-12-28T15:03:45.402Z"
   },
   {
    "duration": 14,
    "start_time": "2021-12-28T15:03:55.244Z"
   },
   {
    "duration": 13,
    "start_time": "2021-12-28T15:04:02.801Z"
   },
   {
    "duration": 13,
    "start_time": "2021-12-28T15:04:32.307Z"
   },
   {
    "duration": 13,
    "start_time": "2021-12-28T15:04:53.481Z"
   },
   {
    "duration": 23,
    "start_time": "2021-12-28T15:08:20.419Z"
   },
   {
    "duration": 9,
    "start_time": "2021-12-28T15:11:47.445Z"
   },
   {
    "duration": 21,
    "start_time": "2021-12-28T15:11:59.443Z"
   },
   {
    "duration": 245,
    "start_time": "2021-12-28T15:12:05.604Z"
   },
   {
    "duration": 327,
    "start_time": "2021-12-28T15:12:05.858Z"
   },
   {
    "duration": 6,
    "start_time": "2021-12-28T15:12:06.189Z"
   },
   {
    "duration": 15,
    "start_time": "2021-12-28T15:12:06.198Z"
   },
   {
    "duration": 50,
    "start_time": "2021-12-28T15:12:06.216Z"
   },
   {
    "duration": 16,
    "start_time": "2021-12-28T15:12:06.268Z"
   },
   {
    "duration": 718,
    "start_time": "2021-12-28T15:12:06.286Z"
   },
   {
    "duration": 534,
    "start_time": "2021-12-28T15:12:07.010Z"
   },
   {
    "duration": 1363,
    "start_time": "2021-12-28T15:12:07.548Z"
   },
   {
    "duration": 12,
    "start_time": "2021-12-28T15:12:08.915Z"
   },
   {
    "duration": 47,
    "start_time": "2021-12-28T15:12:08.931Z"
   },
   {
    "duration": 758,
    "start_time": "2021-12-28T15:12:08.981Z"
   },
   {
    "duration": 29,
    "start_time": "2021-12-28T15:12:09.741Z"
   },
   {
    "duration": 26,
    "start_time": "2021-12-28T15:12:09.772Z"
   },
   {
    "duration": 66,
    "start_time": "2021-12-28T15:12:09.800Z"
   },
   {
    "duration": 17,
    "start_time": "2021-12-28T15:12:09.869Z"
   },
   {
    "duration": 23,
    "start_time": "2021-12-28T15:12:09.888Z"
   },
   {
    "duration": 63,
    "start_time": "2021-12-28T15:12:09.913Z"
   },
   {
    "duration": 11,
    "start_time": "2021-12-28T15:12:09.978Z"
   },
   {
    "duration": 15,
    "start_time": "2021-12-28T15:12:09.991Z"
   },
   {
    "duration": 51,
    "start_time": "2021-12-28T15:12:10.008Z"
   },
   {
    "duration": 399,
    "start_time": "2021-12-28T15:12:10.062Z"
   },
   {
    "duration": 1753,
    "start_time": "2021-12-28T15:12:10.466Z"
   },
   {
    "duration": 17,
    "start_time": "2021-12-28T15:12:12.222Z"
   },
   {
    "duration": 59,
    "start_time": "2021-12-28T15:12:12.241Z"
   },
   {
    "duration": 28,
    "start_time": "2021-12-28T15:12:12.303Z"
   },
   {
    "duration": 5314,
    "start_time": "2021-12-28T15:12:12.333Z"
   },
   {
    "duration": 1417,
    "start_time": "2021-12-28T15:12:17.649Z"
   },
   {
    "duration": 35,
    "start_time": "2021-12-28T15:12:19.068Z"
   },
   {
    "duration": 68,
    "start_time": "2021-12-28T15:12:19.106Z"
   },
   {
    "duration": 43,
    "start_time": "2021-12-28T15:12:19.177Z"
   },
   {
    "duration": 1373,
    "start_time": "2021-12-28T15:12:19.222Z"
   },
   {
    "duration": 336,
    "start_time": "2021-12-28T15:12:20.598Z"
   },
   {
    "duration": 29,
    "start_time": "2021-12-28T15:12:20.937Z"
   },
   {
    "duration": 14,
    "start_time": "2021-12-28T15:12:20.968Z"
   },
   {
    "duration": 24,
    "start_time": "2021-12-28T15:12:20.985Z"
   },
   {
    "duration": 105,
    "start_time": "2021-12-28T15:19:26.071Z"
   },
   {
    "duration": 15,
    "start_time": "2021-12-28T15:21:41.256Z"
   },
   {
    "duration": 18,
    "start_time": "2021-12-28T15:22:44.511Z"
   },
   {
    "duration": 16,
    "start_time": "2021-12-28T15:32:44.473Z"
   },
   {
    "duration": 134,
    "start_time": "2021-12-28T15:36:32.531Z"
   },
   {
    "duration": 127,
    "start_time": "2021-12-28T15:38:03.939Z"
   },
   {
    "duration": 22,
    "start_time": "2021-12-28T15:38:06.819Z"
   },
   {
    "duration": 37,
    "start_time": "2021-12-28T15:38:33.627Z"
   },
   {
    "duration": 33,
    "start_time": "2021-12-28T15:46:15.593Z"
   },
   {
    "duration": 62,
    "start_time": "2021-12-28T15:46:43.280Z"
   },
   {
    "duration": 88,
    "start_time": "2021-12-28T15:46:58.143Z"
   },
   {
    "duration": 9,
    "start_time": "2021-12-28T16:36:27.732Z"
   },
   {
    "duration": 469,
    "start_time": "2021-12-28T16:38:47.493Z"
   },
   {
    "duration": 632,
    "start_time": "2021-12-28T16:38:59.758Z"
   },
   {
    "duration": 30,
    "start_time": "2021-12-28T16:39:11.055Z"
   },
   {
    "duration": 435,
    "start_time": "2021-12-28T16:39:38.909Z"
   },
   {
    "duration": 414,
    "start_time": "2021-12-28T16:41:08.885Z"
   },
   {
    "duration": 32,
    "start_time": "2021-12-28T16:42:01.827Z"
   },
   {
    "duration": 126,
    "start_time": "2021-12-28T16:42:29.607Z"
   },
   {
    "duration": 141,
    "start_time": "2021-12-28T16:42:38.230Z"
   },
   {
    "duration": 44,
    "start_time": "2021-12-28T16:42:46.814Z"
   },
   {
    "duration": 153,
    "start_time": "2021-12-28T16:43:02.462Z"
   },
   {
    "duration": 460,
    "start_time": "2021-12-28T16:43:09.575Z"
   },
   {
    "duration": 449,
    "start_time": "2021-12-28T16:43:28.311Z"
   },
   {
    "duration": 423,
    "start_time": "2021-12-28T16:44:28.770Z"
   },
   {
    "duration": 465,
    "start_time": "2021-12-28T16:45:03.582Z"
   },
   {
    "duration": 33,
    "start_time": "2021-12-28T16:46:04.095Z"
   },
   {
    "duration": 33,
    "start_time": "2021-12-28T16:46:21.697Z"
   },
   {
    "duration": 387,
    "start_time": "2021-12-28T16:47:42.302Z"
   },
   {
    "duration": 29,
    "start_time": "2021-12-28T16:53:39.038Z"
   },
   {
    "duration": 33,
    "start_time": "2021-12-28T16:54:49.957Z"
   },
   {
    "duration": 33,
    "start_time": "2021-12-28T16:55:47.620Z"
   },
   {
    "duration": 26,
    "start_time": "2021-12-28T17:01:20.666Z"
   },
   {
    "duration": 124,
    "start_time": "2021-12-28T17:03:37.790Z"
   },
   {
    "duration": 394,
    "start_time": "2021-12-28T17:05:51.865Z"
   },
   {
    "duration": 31,
    "start_time": "2021-12-28T17:05:57.800Z"
   },
   {
    "duration": 405,
    "start_time": "2021-12-28T17:07:11.991Z"
   },
   {
    "duration": 428,
    "start_time": "2021-12-28T17:07:30.295Z"
   },
   {
    "duration": 396,
    "start_time": "2021-12-28T17:08:03.912Z"
   },
   {
    "duration": 10266,
    "start_time": "2021-12-28T17:08:52.883Z"
   },
   {
    "duration": 397,
    "start_time": "2021-12-28T17:14:04.140Z"
   },
   {
    "duration": 319,
    "start_time": "2021-12-28T17:18:57.757Z"
   },
   {
    "duration": 294,
    "start_time": "2021-12-28T17:19:56.685Z"
   },
   {
    "duration": 319,
    "start_time": "2021-12-28T17:21:05.412Z"
   },
   {
    "duration": 34,
    "start_time": "2021-12-28T17:23:46.573Z"
   },
   {
    "duration": 20,
    "start_time": "2021-12-28T17:29:47.494Z"
   },
   {
    "duration": 22,
    "start_time": "2021-12-28T17:29:53.312Z"
   },
   {
    "duration": 37,
    "start_time": "2021-12-28T17:30:53.239Z"
   },
   {
    "duration": 56,
    "start_time": "2021-12-28T17:34:36.521Z"
   },
   {
    "duration": 17,
    "start_time": "2021-12-28T17:37:46.395Z"
   },
   {
    "duration": 24,
    "start_time": "2021-12-28T17:38:08.556Z"
   },
   {
    "duration": 18,
    "start_time": "2021-12-28T17:38:13.905Z"
   },
   {
    "duration": 16,
    "start_time": "2021-12-28T17:38:24.459Z"
   },
   {
    "duration": 50,
    "start_time": "2021-12-28T17:39:34.956Z"
   },
   {
    "duration": 92,
    "start_time": "2021-12-28T17:40:10.602Z"
   },
   {
    "duration": 289,
    "start_time": "2021-12-29T03:00:02.144Z"
   },
   {
    "duration": 711,
    "start_time": "2021-12-29T03:00:11.901Z"
   },
   {
    "duration": 238,
    "start_time": "2021-12-29T03:00:12.614Z"
   },
   {
    "duration": 5,
    "start_time": "2021-12-29T03:00:12.853Z"
   },
   {
    "duration": 32,
    "start_time": "2021-12-29T03:00:12.859Z"
   },
   {
    "duration": 23,
    "start_time": "2021-12-29T03:00:12.892Z"
   },
   {
    "duration": 23,
    "start_time": "2021-12-29T03:00:12.917Z"
   },
   {
    "duration": 473,
    "start_time": "2021-12-29T03:00:12.942Z"
   },
   {
    "duration": 176,
    "start_time": "2021-12-29T03:00:13.418Z"
   },
   {
    "duration": 392,
    "start_time": "2021-12-29T03:00:13.596Z"
   },
   {
    "duration": 5,
    "start_time": "2021-12-29T03:00:13.990Z"
   },
   {
    "duration": 13,
    "start_time": "2021-12-29T03:00:13.997Z"
   },
   {
    "duration": 383,
    "start_time": "2021-12-29T03:00:14.012Z"
   },
   {
    "duration": 10,
    "start_time": "2021-12-29T03:00:14.397Z"
   },
   {
    "duration": 36,
    "start_time": "2021-12-29T03:00:14.408Z"
   },
   {
    "duration": 18,
    "start_time": "2021-12-29T03:00:14.446Z"
   },
   {
    "duration": 9,
    "start_time": "2021-12-29T03:00:14.466Z"
   },
   {
    "duration": 15,
    "start_time": "2021-12-29T03:00:14.476Z"
   },
   {
    "duration": 12,
    "start_time": "2021-12-29T03:00:14.493Z"
   },
   {
    "duration": 36,
    "start_time": "2021-12-29T03:00:14.507Z"
   },
   {
    "duration": 14,
    "start_time": "2021-12-29T03:00:14.545Z"
   },
   {
    "duration": 10,
    "start_time": "2021-12-29T03:00:14.561Z"
   },
   {
    "duration": 217,
    "start_time": "2021-12-29T03:00:14.573Z"
   },
   {
    "duration": 841,
    "start_time": "2021-12-29T03:00:14.793Z"
   },
   {
    "duration": 10,
    "start_time": "2021-12-29T03:00:15.641Z"
   },
   {
    "duration": 25,
    "start_time": "2021-12-29T03:00:15.653Z"
   },
   {
    "duration": 19,
    "start_time": "2021-12-29T03:00:15.680Z"
   },
   {
    "duration": 2653,
    "start_time": "2021-12-29T03:00:15.701Z"
   },
   {
    "duration": 738,
    "start_time": "2021-12-29T03:00:18.356Z"
   },
   {
    "duration": 20,
    "start_time": "2021-12-29T03:00:19.095Z"
   },
   {
    "duration": 25,
    "start_time": "2021-12-29T03:00:19.116Z"
   },
   {
    "duration": 25,
    "start_time": "2021-12-29T03:00:19.142Z"
   },
   {
    "duration": 720,
    "start_time": "2021-12-29T03:00:19.169Z"
   },
   {
    "duration": 237,
    "start_time": "2021-12-29T03:00:19.941Z"
   },
   {
    "duration": 7,
    "start_time": "2021-12-29T03:00:20.179Z"
   },
   {
    "duration": 7,
    "start_time": "2021-12-29T03:00:20.188Z"
   },
   {
    "duration": 18,
    "start_time": "2021-12-29T03:00:20.196Z"
   },
   {
    "duration": 27,
    "start_time": "2021-12-29T03:00:20.215Z"
   },
   {
    "duration": 22,
    "start_time": "2021-12-29T03:00:20.243Z"
   },
   {
    "duration": 50,
    "start_time": "2021-12-29T03:00:20.267Z"
   },
   {
    "duration": 36,
    "start_time": "2021-12-29T03:00:20.319Z"
   },
   {
    "duration": 17,
    "start_time": "2021-12-29T03:00:20.357Z"
   },
   {
    "duration": 185,
    "start_time": "2021-12-29T03:00:20.376Z"
   },
   {
    "duration": 22,
    "start_time": "2021-12-29T03:00:20.563Z"
   },
   {
    "duration": 10,
    "start_time": "2021-12-29T03:00:20.587Z"
   },
   {
    "duration": 49,
    "start_time": "2021-12-29T03:00:20.599Z"
   },
   {
    "duration": 54,
    "start_time": "2021-12-29T03:00:20.649Z"
   },
   {
    "duration": 4,
    "start_time": "2021-12-29T03:03:39.961Z"
   },
   {
    "duration": 3935,
    "start_time": "2021-12-29T03:03:54.833Z"
   },
   {
    "duration": 193,
    "start_time": "2021-12-29T03:30:18.408Z"
   },
   {
    "duration": 212,
    "start_time": "2021-12-29T03:30:18.603Z"
   },
   {
    "duration": 5,
    "start_time": "2021-12-29T03:30:18.818Z"
   },
   {
    "duration": 17,
    "start_time": "2021-12-29T03:30:18.825Z"
   },
   {
    "duration": 12,
    "start_time": "2021-12-29T03:30:18.843Z"
   },
   {
    "duration": 8,
    "start_time": "2021-12-29T03:30:18.857Z"
   },
   {
    "duration": 594,
    "start_time": "2021-12-29T03:30:18.867Z"
   },
   {
    "duration": 223,
    "start_time": "2021-12-29T03:30:19.464Z"
   },
   {
    "duration": 366,
    "start_time": "2021-12-29T03:30:19.689Z"
   },
   {
    "duration": 6,
    "start_time": "2021-12-29T03:30:20.057Z"
   },
   {
    "duration": 15,
    "start_time": "2021-12-29T03:30:20.064Z"
   },
   {
    "duration": 393,
    "start_time": "2021-12-29T03:30:20.081Z"
   },
   {
    "duration": 3,
    "start_time": "2021-12-29T03:30:20.476Z"
   },
   {
    "duration": 18,
    "start_time": "2021-12-29T03:30:20.480Z"
   },
   {
    "duration": 45,
    "start_time": "2021-12-29T03:30:20.500Z"
   },
   {
    "duration": 10,
    "start_time": "2021-12-29T03:30:20.547Z"
   },
   {
    "duration": 20,
    "start_time": "2021-12-29T03:30:20.559Z"
   },
   {
    "duration": 16,
    "start_time": "2021-12-29T03:30:20.580Z"
   },
   {
    "duration": 7,
    "start_time": "2021-12-29T03:30:20.598Z"
   },
   {
    "duration": 3,
    "start_time": "2021-12-29T03:30:20.607Z"
   },
   {
    "duration": 12,
    "start_time": "2021-12-29T03:30:20.611Z"
   },
   {
    "duration": 285,
    "start_time": "2021-12-29T03:30:20.625Z"
   },
   {
    "duration": 894,
    "start_time": "2021-12-29T03:30:20.913Z"
   },
   {
    "duration": 10,
    "start_time": "2021-12-29T03:30:21.809Z"
   },
   {
    "duration": 36,
    "start_time": "2021-12-29T03:30:21.821Z"
   },
   {
    "duration": 16,
    "start_time": "2021-12-29T03:30:21.859Z"
   },
   {
    "duration": 2869,
    "start_time": "2021-12-29T03:30:21.877Z"
   },
   {
    "duration": 713,
    "start_time": "2021-12-29T03:30:24.748Z"
   },
   {
    "duration": 21,
    "start_time": "2021-12-29T03:30:25.463Z"
   },
   {
    "duration": 22,
    "start_time": "2021-12-29T03:30:25.485Z"
   },
   {
    "duration": 48,
    "start_time": "2021-12-29T03:30:25.508Z"
   },
   {
    "duration": 686,
    "start_time": "2021-12-29T03:30:25.558Z"
   },
   {
    "duration": 173,
    "start_time": "2021-12-29T03:30:26.246Z"
   },
   {
    "duration": 7,
    "start_time": "2021-12-29T03:30:26.420Z"
   },
   {
    "duration": 15,
    "start_time": "2021-12-29T03:30:26.429Z"
   },
   {
    "duration": 15,
    "start_time": "2021-12-29T03:30:26.446Z"
   },
   {
    "duration": 9,
    "start_time": "2021-12-29T03:30:26.463Z"
   },
   {
    "duration": 113,
    "start_time": "2021-12-29T03:30:26.473Z"
   },
   {
    "duration": 64,
    "start_time": "2021-12-29T03:30:26.587Z"
   },
   {
    "duration": 18,
    "start_time": "2021-12-29T03:30:26.653Z"
   },
   {
    "duration": 15,
    "start_time": "2021-12-29T03:30:26.673Z"
   },
   {
    "duration": 179,
    "start_time": "2021-12-29T03:30:26.690Z"
   },
   {
    "duration": 22,
    "start_time": "2021-12-29T03:30:26.870Z"
   },
   {
    "duration": 8,
    "start_time": "2021-12-29T03:30:26.894Z"
   },
   {
    "duration": 40,
    "start_time": "2021-12-29T03:30:26.903Z"
   },
   {
    "duration": 50,
    "start_time": "2021-12-29T03:30:26.944Z"
   },
   {
    "duration": 160,
    "start_time": "2021-12-29T03:54:50.889Z"
   },
   {
    "duration": 54,
    "start_time": "2021-12-29T04:01:25.387Z"
   },
   {
    "duration": 333,
    "start_time": "2021-12-29T04:05:25.565Z"
   },
   {
    "duration": 245,
    "start_time": "2021-12-29T04:07:44.167Z"
   },
   {
    "duration": 5,
    "start_time": "2021-12-29T04:08:04.350Z"
   },
   {
    "duration": 86,
    "start_time": "2021-12-29T04:08:11.779Z"
   },
   {
    "duration": 6576,
    "start_time": "2021-12-29T04:08:18.007Z"
   },
   {
    "duration": 234,
    "start_time": "2021-12-29T04:08:36.720Z"
   },
   {
    "duration": 9,
    "start_time": "2021-12-29T04:09:10.051Z"
   },
   {
    "duration": 10,
    "start_time": "2021-12-29T04:09:26.146Z"
   },
   {
    "duration": 966,
    "start_time": "2021-12-30T07:15:08.644Z"
   },
   {
    "duration": 419,
    "start_time": "2021-12-30T07:15:09.613Z"
   },
   {
    "duration": 6,
    "start_time": "2021-12-30T07:15:10.034Z"
   },
   {
    "duration": 13,
    "start_time": "2021-12-30T07:15:10.043Z"
   },
   {
    "duration": 17,
    "start_time": "2021-12-30T07:15:10.059Z"
   },
   {
    "duration": 40,
    "start_time": "2021-12-30T07:15:10.078Z"
   },
   {
    "duration": 723,
    "start_time": "2021-12-30T07:15:10.121Z"
   },
   {
    "duration": 301,
    "start_time": "2021-12-30T07:15:10.847Z"
   },
   {
    "duration": 735,
    "start_time": "2021-12-30T07:15:11.152Z"
   },
   {
    "duration": 9,
    "start_time": "2021-12-30T07:15:11.890Z"
   },
   {
    "duration": 19,
    "start_time": "2021-12-30T07:15:11.902Z"
   },
   {
    "duration": 937,
    "start_time": "2021-12-30T07:15:11.924Z"
   },
   {
    "duration": 4,
    "start_time": "2021-12-30T07:15:12.863Z"
   },
   {
    "duration": 17,
    "start_time": "2021-12-30T07:15:12.870Z"
   },
   {
    "duration": 53,
    "start_time": "2021-12-30T07:15:12.889Z"
   },
   {
    "duration": 14,
    "start_time": "2021-12-30T07:15:12.945Z"
   },
   {
    "duration": 22,
    "start_time": "2021-12-30T07:15:12.961Z"
   },
   {
    "duration": 50,
    "start_time": "2021-12-30T07:15:12.985Z"
   },
   {
    "duration": 11,
    "start_time": "2021-12-30T07:15:13.037Z"
   },
   {
    "duration": 4,
    "start_time": "2021-12-30T07:15:13.050Z"
   },
   {
    "duration": 17,
    "start_time": "2021-12-30T07:15:13.057Z"
   },
   {
    "duration": 432,
    "start_time": "2021-12-30T07:15:13.076Z"
   },
   {
    "duration": 1700,
    "start_time": "2021-12-30T07:15:13.517Z"
   },
   {
    "duration": 16,
    "start_time": "2021-12-30T07:15:15.219Z"
   },
   {
    "duration": 41,
    "start_time": "2021-12-30T07:15:15.237Z"
   },
   {
    "duration": 47,
    "start_time": "2021-12-30T07:15:15.280Z"
   },
   {
    "duration": 5113,
    "start_time": "2021-12-30T07:15:15.329Z"
   },
   {
    "duration": 1330,
    "start_time": "2021-12-30T07:15:20.444Z"
   },
   {
    "duration": 54,
    "start_time": "2021-12-30T07:15:21.777Z"
   },
   {
    "duration": 40,
    "start_time": "2021-12-30T07:15:21.834Z"
   },
   {
    "duration": 76,
    "start_time": "2021-12-30T07:15:21.877Z"
   },
   {
    "duration": 1302,
    "start_time": "2021-12-30T07:15:21.956Z"
   },
   {
    "duration": 332,
    "start_time": "2021-12-30T07:15:23.260Z"
   },
   {
    "duration": 28,
    "start_time": "2021-12-30T07:15:23.595Z"
   },
   {
    "duration": 8,
    "start_time": "2021-12-30T07:15:23.625Z"
   },
   {
    "duration": 317,
    "start_time": "2021-12-30T07:15:23.636Z"
   },
   {
    "duration": 15,
    "start_time": "2021-12-30T07:15:23.955Z"
   },
   {
    "duration": 57,
    "start_time": "2021-12-30T07:15:23.973Z"
   },
   {
    "duration": 106,
    "start_time": "2021-12-30T07:15:24.032Z"
   },
   {
    "duration": 33,
    "start_time": "2021-12-30T07:15:24.141Z"
   },
   {
    "duration": 49,
    "start_time": "2021-12-30T07:15:24.176Z"
   },
   {
    "duration": 312,
    "start_time": "2021-12-30T07:15:24.228Z"
   },
   {
    "duration": 34,
    "start_time": "2021-12-30T07:15:24.543Z"
   },
   {
    "duration": 39,
    "start_time": "2021-12-30T07:15:24.579Z"
   },
   {
    "duration": 34,
    "start_time": "2021-12-30T07:15:24.620Z"
   },
   {
    "duration": 179,
    "start_time": "2021-12-30T07:15:24.656Z"
   },
   {
    "duration": 26,
    "start_time": "2021-12-30T07:20:59.024Z"
   },
   {
    "duration": 222,
    "start_time": "2021-12-30T07:21:11.190Z"
   },
   {
    "duration": 313,
    "start_time": "2021-12-30T07:21:11.418Z"
   },
   {
    "duration": 6,
    "start_time": "2021-12-30T07:21:11.734Z"
   },
   {
    "duration": 12,
    "start_time": "2021-12-30T07:21:11.742Z"
   },
   {
    "duration": 57,
    "start_time": "2021-12-30T07:21:18.691Z"
   },
   {
    "duration": 386,
    "start_time": "2021-12-30T07:30:21.940Z"
   },
   {
    "duration": 358,
    "start_time": "2021-12-30T07:30:36.874Z"
   },
   {
    "duration": 7,
    "start_time": "2021-12-30T07:32:02.651Z"
   },
   {
    "duration": 19,
    "start_time": "2021-12-30T07:32:09.721Z"
   },
   {
    "duration": 20,
    "start_time": "2021-12-30T07:32:57.515Z"
   },
   {
    "duration": 4,
    "start_time": "2021-12-30T07:33:10.465Z"
   },
   {
    "duration": 26,
    "start_time": "2021-12-30T07:34:03.174Z"
   },
   {
    "duration": 41,
    "start_time": "2021-12-30T07:34:58.091Z"
   },
   {
    "duration": 17,
    "start_time": "2021-12-30T07:37:17.438Z"
   },
   {
    "duration": 37,
    "start_time": "2021-12-30T07:37:51.449Z"
   },
   {
    "duration": 698,
    "start_time": "2021-12-30T08:06:02.635Z"
   },
   {
    "duration": 667,
    "start_time": "2021-12-30T08:06:25.707Z"
   },
   {
    "duration": 752,
    "start_time": "2021-12-30T08:06:35.936Z"
   },
   {
    "duration": 754,
    "start_time": "2021-12-30T08:07:18.592Z"
   },
   {
    "duration": 220,
    "start_time": "2021-12-30T08:07:54.193Z"
   },
   {
    "duration": 317,
    "start_time": "2021-12-30T08:07:54.417Z"
   },
   {
    "duration": 6,
    "start_time": "2021-12-30T08:07:54.736Z"
   },
   {
    "duration": 11,
    "start_time": "2021-12-30T08:07:54.744Z"
   },
   {
    "duration": 62,
    "start_time": "2021-12-30T08:07:54.757Z"
   },
   {
    "duration": 389,
    "start_time": "2021-12-30T08:07:54.821Z"
   },
   {
    "duration": 13,
    "start_time": "2021-12-30T08:07:55.212Z"
   },
   {
    "duration": 731,
    "start_time": "2021-12-30T08:07:55.229Z"
   },
   {
    "duration": 328,
    "start_time": "2021-12-30T08:07:55.963Z"
   },
   {
    "duration": 708,
    "start_time": "2021-12-30T08:07:56.293Z"
   },
   {
    "duration": 18,
    "start_time": "2021-12-30T08:07:57.004Z"
   },
   {
    "duration": 19,
    "start_time": "2021-12-30T08:07:57.025Z"
   },
   {
    "duration": 853,
    "start_time": "2021-12-30T08:07:57.047Z"
   },
   {
    "duration": 4,
    "start_time": "2021-12-30T08:07:57.902Z"
   },
   {
    "duration": 49,
    "start_time": "2021-12-30T08:07:57.908Z"
   },
   {
    "duration": 16,
    "start_time": "2021-12-30T08:07:57.959Z"
   },
   {
    "duration": 58,
    "start_time": "2021-12-30T08:07:57.977Z"
   },
   {
    "duration": 703,
    "start_time": "2021-12-30T08:08:32.335Z"
   },
   {
    "duration": 24,
    "start_time": "2021-12-30T08:17:19.622Z"
   },
   {
    "duration": 21,
    "start_time": "2021-12-30T08:18:02.966Z"
   },
   {
    "duration": 6964,
    "start_time": "2021-12-30T08:21:59.958Z"
   },
   {
    "duration": 9337,
    "start_time": "2021-12-30T08:22:53.808Z"
   },
   {
    "duration": 6,
    "start_time": "2021-12-30T08:23:34.703Z"
   },
   {
    "duration": 5,
    "start_time": "2021-12-30T08:23:47.593Z"
   },
   {
    "duration": 224,
    "start_time": "2021-12-30T08:24:24.376Z"
   },
   {
    "duration": 324,
    "start_time": "2021-12-30T08:24:24.603Z"
   },
   {
    "duration": 6,
    "start_time": "2021-12-30T08:24:24.930Z"
   },
   {
    "duration": 11,
    "start_time": "2021-12-30T08:24:24.938Z"
   },
   {
    "duration": 66,
    "start_time": "2021-12-30T08:24:24.951Z"
   },
   {
    "duration": 391,
    "start_time": "2021-12-30T08:24:25.020Z"
   },
   {
    "duration": 13,
    "start_time": "2021-12-30T08:24:25.413Z"
   },
   {
    "duration": 708,
    "start_time": "2021-12-30T08:24:25.428Z"
   },
   {
    "duration": 385,
    "start_time": "2021-12-30T08:24:26.139Z"
   },
   {
    "duration": 673,
    "start_time": "2021-12-30T08:24:26.526Z"
   },
   {
    "duration": 8,
    "start_time": "2021-12-30T08:24:27.201Z"
   },
   {
    "duration": 11,
    "start_time": "2021-12-30T08:24:27.217Z"
   },
   {
    "duration": 749,
    "start_time": "2021-12-30T08:24:27.231Z"
   },
   {
    "duration": 5,
    "start_time": "2021-12-30T08:24:27.983Z"
   },
   {
    "duration": 52,
    "start_time": "2021-12-30T08:24:27.990Z"
   },
   {
    "duration": 17,
    "start_time": "2021-12-30T08:24:28.045Z"
   },
   {
    "duration": 62,
    "start_time": "2021-12-30T08:24:28.065Z"
   },
   {
    "duration": 22,
    "start_time": "2021-12-30T08:24:28.129Z"
   },
   {
    "duration": 7463,
    "start_time": "2021-12-30T08:24:33.393Z"
   },
   {
    "duration": 25,
    "start_time": "2021-12-30T08:24:53.285Z"
   },
   {
    "duration": 225,
    "start_time": "2021-12-30T08:25:52.152Z"
   },
   {
    "duration": 325,
    "start_time": "2021-12-30T08:25:52.379Z"
   },
   {
    "duration": 10,
    "start_time": "2021-12-30T08:25:52.707Z"
   },
   {
    "duration": 22,
    "start_time": "2021-12-30T08:25:52.719Z"
   },
   {
    "duration": 46,
    "start_time": "2021-12-30T08:25:52.743Z"
   },
   {
    "duration": 403,
    "start_time": "2021-12-30T08:25:52.791Z"
   },
   {
    "duration": 22,
    "start_time": "2021-12-30T08:25:53.196Z"
   },
   {
    "duration": 724,
    "start_time": "2021-12-30T08:25:53.221Z"
   },
   {
    "duration": 335,
    "start_time": "2021-12-30T08:25:53.947Z"
   },
   {
    "duration": 683,
    "start_time": "2021-12-30T08:25:54.284Z"
   },
   {
    "duration": 8,
    "start_time": "2021-12-30T08:25:54.970Z"
   },
   {
    "duration": 7,
    "start_time": "2021-12-30T08:25:54.981Z"
   },
   {
    "duration": 740,
    "start_time": "2021-12-30T08:25:54.990Z"
   },
   {
    "duration": 4,
    "start_time": "2021-12-30T08:25:55.733Z"
   },
   {
    "duration": 42,
    "start_time": "2021-12-30T08:25:55.739Z"
   },
   {
    "duration": 43,
    "start_time": "2021-12-30T08:25:55.783Z"
   },
   {
    "duration": 39,
    "start_time": "2021-12-30T08:25:55.828Z"
   },
   {
    "duration": 49,
    "start_time": "2021-12-30T08:25:55.870Z"
   },
   {
    "duration": 1709,
    "start_time": "2021-12-30T08:25:59.410Z"
   },
   {
    "duration": 394,
    "start_time": "2021-12-30T08:27:21.671Z"
   },
   {
    "duration": 20,
    "start_time": "2021-12-30T08:29:12.212Z"
   },
   {
    "duration": 227,
    "start_time": "2021-12-30T08:29:21.216Z"
   },
   {
    "duration": 325,
    "start_time": "2021-12-30T08:29:21.445Z"
   },
   {
    "duration": 6,
    "start_time": "2021-12-30T08:29:21.772Z"
   },
   {
    "duration": 20,
    "start_time": "2021-12-30T08:29:21.780Z"
   },
   {
    "duration": 51,
    "start_time": "2021-12-30T08:29:21.802Z"
   },
   {
    "duration": 486,
    "start_time": "2021-12-30T08:29:21.856Z"
   },
   {
    "duration": 10,
    "start_time": "2021-12-30T08:29:22.345Z"
   },
   {
    "duration": 786,
    "start_time": "2021-12-30T08:29:22.359Z"
   },
   {
    "duration": 321,
    "start_time": "2021-12-30T08:29:23.147Z"
   },
   {
    "duration": 789,
    "start_time": "2021-12-30T08:29:23.470Z"
   },
   {
    "duration": 9,
    "start_time": "2021-12-30T08:29:24.264Z"
   },
   {
    "duration": 19,
    "start_time": "2021-12-30T08:29:24.275Z"
   },
   {
    "duration": 824,
    "start_time": "2021-12-30T08:29:24.297Z"
   },
   {
    "duration": 5,
    "start_time": "2021-12-30T08:29:25.123Z"
   },
   {
    "duration": 44,
    "start_time": "2021-12-30T08:29:25.130Z"
   },
   {
    "duration": 42,
    "start_time": "2021-12-30T08:29:25.177Z"
   },
   {
    "duration": 38,
    "start_time": "2021-12-30T08:29:25.222Z"
   },
   {
    "duration": 21,
    "start_time": "2021-12-30T08:29:25.263Z"
   },
   {
    "duration": 1714,
    "start_time": "2021-12-30T08:29:29.371Z"
   },
   {
    "duration": 8352,
    "start_time": "2021-12-30T08:31:06.877Z"
   },
   {
    "duration": 9045,
    "start_time": "2021-12-30T08:31:28.388Z"
   },
   {
    "duration": 7294,
    "start_time": "2021-12-30T08:32:07.552Z"
   },
   {
    "duration": 6929,
    "start_time": "2021-12-30T08:32:26.029Z"
   },
   {
    "duration": 8580,
    "start_time": "2021-12-30T08:33:00.107Z"
   },
   {
    "duration": 7677,
    "start_time": "2021-12-30T08:33:18.620Z"
   },
   {
    "duration": 22,
    "start_time": "2021-12-30T08:33:35.247Z"
   },
   {
    "duration": 24,
    "start_time": "2021-12-30T08:34:00.410Z"
   },
   {
    "duration": 5,
    "start_time": "2021-12-30T08:34:00.436Z"
   },
   {
    "duration": 17,
    "start_time": "2021-12-30T08:34:00.443Z"
   },
   {
    "duration": 20,
    "start_time": "2021-12-30T08:34:00.463Z"
   },
   {
    "duration": 43,
    "start_time": "2021-12-30T08:34:00.485Z"
   },
   {
    "duration": 396,
    "start_time": "2021-12-30T08:34:00.530Z"
   },
   {
    "duration": 1038,
    "start_time": "2021-12-30T08:34:00.929Z"
   },
   {
    "duration": -116,
    "start_time": "2021-12-30T08:34:02.087Z"
   },
   {
    "duration": -123,
    "start_time": "2021-12-30T08:34:02.096Z"
   },
   {
    "duration": -125,
    "start_time": "2021-12-30T08:34:02.100Z"
   },
   {
    "duration": -127,
    "start_time": "2021-12-30T08:34:02.104Z"
   },
   {
    "duration": -130,
    "start_time": "2021-12-30T08:34:02.108Z"
   },
   {
    "duration": -140,
    "start_time": "2021-12-30T08:34:02.120Z"
   },
   {
    "duration": -147,
    "start_time": "2021-12-30T08:34:02.129Z"
   },
   {
    "duration": -160,
    "start_time": "2021-12-30T08:34:02.145Z"
   },
   {
    "duration": -170,
    "start_time": "2021-12-30T08:34:02.156Z"
   },
   {
    "duration": -177,
    "start_time": "2021-12-30T08:34:02.166Z"
   },
   {
    "duration": -190,
    "start_time": "2021-12-30T08:34:02.181Z"
   },
   {
    "duration": -208,
    "start_time": "2021-12-30T08:34:02.202Z"
   },
   {
    "duration": -210,
    "start_time": "2021-12-30T08:34:02.206Z"
   },
   {
    "duration": -216,
    "start_time": "2021-12-30T08:34:02.214Z"
   },
   {
    "duration": -220,
    "start_time": "2021-12-30T08:34:02.221Z"
   },
   {
    "duration": -224,
    "start_time": "2021-12-30T08:34:02.227Z"
   },
   {
    "duration": -227,
    "start_time": "2021-12-30T08:34:02.231Z"
   },
   {
    "duration": -229,
    "start_time": "2021-12-30T08:34:02.234Z"
   },
   {
    "duration": -231,
    "start_time": "2021-12-30T08:34:02.238Z"
   },
   {
    "duration": -228,
    "start_time": "2021-12-30T08:34:02.245Z"
   },
   {
    "duration": -231,
    "start_time": "2021-12-30T08:34:02.249Z"
   },
   {
    "duration": -234,
    "start_time": "2021-12-30T08:34:02.253Z"
   },
   {
    "duration": -237,
    "start_time": "2021-12-30T08:34:02.258Z"
   },
   {
    "duration": 223,
    "start_time": "2021-12-30T08:34:18.734Z"
   },
   {
    "duration": 331,
    "start_time": "2021-12-30T08:34:18.960Z"
   },
   {
    "duration": 6,
    "start_time": "2021-12-30T08:34:19.294Z"
   },
   {
    "duration": 23,
    "start_time": "2021-12-30T08:34:19.302Z"
   },
   {
    "duration": 43,
    "start_time": "2021-12-30T08:34:19.328Z"
   },
   {
    "duration": 403,
    "start_time": "2021-12-30T08:34:19.374Z"
   },
   {
    "duration": 12,
    "start_time": "2021-12-30T08:34:19.779Z"
   },
   {
    "duration": 754,
    "start_time": "2021-12-30T08:34:19.795Z"
   },
   {
    "duration": 329,
    "start_time": "2021-12-30T08:34:20.551Z"
   },
   {
    "duration": 755,
    "start_time": "2021-12-30T08:34:20.882Z"
   },
   {
    "duration": 7,
    "start_time": "2021-12-30T08:34:21.639Z"
   },
   {
    "duration": 10,
    "start_time": "2021-12-30T08:34:21.648Z"
   },
   {
    "duration": 744,
    "start_time": "2021-12-30T08:34:21.661Z"
   },
   {
    "duration": 12,
    "start_time": "2021-12-30T08:34:22.408Z"
   },
   {
    "duration": 46,
    "start_time": "2021-12-30T08:34:22.423Z"
   },
   {
    "duration": 17,
    "start_time": "2021-12-30T08:34:22.471Z"
   },
   {
    "duration": 60,
    "start_time": "2021-12-30T08:34:22.490Z"
   },
   {
    "duration": 24,
    "start_time": "2021-12-30T08:34:29.796Z"
   },
   {
    "duration": 227,
    "start_time": "2021-12-30T08:35:47.432Z"
   },
   {
    "duration": 332,
    "start_time": "2021-12-30T08:35:47.662Z"
   },
   {
    "duration": 7,
    "start_time": "2021-12-30T08:35:47.998Z"
   },
   {
    "duration": 11,
    "start_time": "2021-12-30T08:35:48.018Z"
   },
   {
    "duration": 39,
    "start_time": "2021-12-30T08:35:48.031Z"
   },
   {
    "duration": 404,
    "start_time": "2021-12-30T08:35:48.072Z"
   },
   {
    "duration": 12,
    "start_time": "2021-12-30T08:35:48.478Z"
   },
   {
    "duration": 710,
    "start_time": "2021-12-30T08:35:48.493Z"
   },
   {
    "duration": 318,
    "start_time": "2021-12-30T08:35:49.205Z"
   },
   {
    "duration": 732,
    "start_time": "2021-12-30T08:35:49.526Z"
   },
   {
    "duration": 8,
    "start_time": "2021-12-30T08:35:50.261Z"
   },
   {
    "duration": 17,
    "start_time": "2021-12-30T08:35:50.271Z"
   },
   {
    "duration": 727,
    "start_time": "2021-12-30T08:35:50.290Z"
   },
   {
    "duration": 4,
    "start_time": "2021-12-30T08:35:51.019Z"
   },
   {
    "duration": 49,
    "start_time": "2021-12-30T08:35:51.025Z"
   },
   {
    "duration": 8,
    "start_time": "2021-12-30T08:35:55.687Z"
   },
   {
    "duration": 19,
    "start_time": "2021-12-30T08:39:48.643Z"
   },
   {
    "duration": 221,
    "start_time": "2021-12-30T08:42:09.150Z"
   },
   {
    "duration": 328,
    "start_time": "2021-12-30T08:42:09.374Z"
   },
   {
    "duration": 15,
    "start_time": "2021-12-30T08:42:09.704Z"
   },
   {
    "duration": 15,
    "start_time": "2021-12-30T08:42:09.723Z"
   },
   {
    "duration": 42,
    "start_time": "2021-12-30T08:42:09.740Z"
   },
   {
    "duration": 448,
    "start_time": "2021-12-30T08:42:09.784Z"
   },
   {
    "duration": 14,
    "start_time": "2021-12-30T08:42:10.234Z"
   },
   {
    "duration": 736,
    "start_time": "2021-12-30T08:42:10.251Z"
   },
   {
    "duration": 334,
    "start_time": "2021-12-30T08:42:10.990Z"
   },
   {
    "duration": 730,
    "start_time": "2021-12-30T08:42:11.327Z"
   },
   {
    "duration": 10,
    "start_time": "2021-12-30T08:42:12.059Z"
   },
   {
    "duration": 9,
    "start_time": "2021-12-30T08:42:12.072Z"
   },
   {
    "duration": 752,
    "start_time": "2021-12-30T08:42:12.083Z"
   },
   {
    "duration": 6,
    "start_time": "2021-12-30T08:42:12.837Z"
   },
   {
    "duration": 42,
    "start_time": "2021-12-30T08:42:12.846Z"
   },
   {
    "duration": 31,
    "start_time": "2021-12-30T08:42:12.891Z"
   },
   {
    "duration": 354,
    "start_time": "2021-12-30T08:42:16.504Z"
   },
   {
    "duration": 226,
    "start_time": "2021-12-30T08:42:43.141Z"
   },
   {
    "duration": 313,
    "start_time": "2021-12-30T08:42:43.369Z"
   },
   {
    "duration": 5,
    "start_time": "2021-12-30T08:42:43.685Z"
   },
   {
    "duration": 28,
    "start_time": "2021-12-30T08:42:43.693Z"
   },
   {
    "duration": 39,
    "start_time": "2021-12-30T08:42:43.723Z"
   },
   {
    "duration": 396,
    "start_time": "2021-12-30T08:42:43.765Z"
   },
   {
    "duration": 10,
    "start_time": "2021-12-30T08:42:44.164Z"
   },
   {
    "duration": 740,
    "start_time": "2021-12-30T08:42:44.179Z"
   },
   {
    "duration": 323,
    "start_time": "2021-12-30T08:42:44.923Z"
   },
   {
    "duration": 689,
    "start_time": "2021-12-30T08:42:45.249Z"
   },
   {
    "duration": 9,
    "start_time": "2021-12-30T08:42:45.940Z"
   },
   {
    "duration": 9,
    "start_time": "2021-12-30T08:42:45.952Z"
   },
   {
    "duration": 749,
    "start_time": "2021-12-30T08:42:45.963Z"
   },
   {
    "duration": 4,
    "start_time": "2021-12-30T08:42:46.717Z"
   },
   {
    "duration": 57,
    "start_time": "2021-12-30T08:42:46.724Z"
   },
   {
    "duration": 7,
    "start_time": "2021-12-30T08:42:46.784Z"
   },
   {
    "duration": 23,
    "start_time": "2021-12-30T08:42:49.214Z"
   },
   {
    "duration": 22,
    "start_time": "2021-12-30T08:43:06.726Z"
   },
   {
    "duration": 50,
    "start_time": "2021-12-30T08:44:32.543Z"
   },
   {
    "duration": 41,
    "start_time": "2021-12-30T08:48:02.123Z"
   },
   {
    "duration": 335,
    "start_time": "2021-12-30T08:48:07.615Z"
   },
   {
    "duration": 292,
    "start_time": "2021-12-30T08:48:30.514Z"
   },
   {
    "duration": 278,
    "start_time": "2021-12-30T08:50:55.426Z"
   },
   {
    "duration": 136,
    "start_time": "2021-12-30T08:51:02.933Z"
   },
   {
    "duration": 287,
    "start_time": "2021-12-30T08:52:56.762Z"
   },
   {
    "duration": 341,
    "start_time": "2021-12-30T08:52:57.052Z"
   },
   {
    "duration": 21,
    "start_time": "2021-12-30T08:52:57.396Z"
   },
   {
    "duration": 11,
    "start_time": "2021-12-30T08:52:57.420Z"
   },
   {
    "duration": 40,
    "start_time": "2021-12-30T08:52:57.433Z"
   },
   {
    "duration": 408,
    "start_time": "2021-12-30T08:52:57.475Z"
   },
   {
    "duration": 11,
    "start_time": "2021-12-30T08:52:57.885Z"
   },
   {
    "duration": 771,
    "start_time": "2021-12-30T08:52:57.899Z"
   },
   {
    "duration": 327,
    "start_time": "2021-12-30T08:52:58.672Z"
   },
   {
    "duration": 678,
    "start_time": "2021-12-30T08:52:59.002Z"
   },
   {
    "duration": 9,
    "start_time": "2021-12-30T08:52:59.683Z"
   },
   {
    "duration": 23,
    "start_time": "2021-12-30T08:52:59.694Z"
   },
   {
    "duration": 768,
    "start_time": "2021-12-30T08:52:59.719Z"
   },
   {
    "duration": 4,
    "start_time": "2021-12-30T08:53:00.490Z"
   },
   {
    "duration": 54,
    "start_time": "2021-12-30T08:53:00.497Z"
   },
   {
    "duration": 6,
    "start_time": "2021-12-30T08:53:00.554Z"
   },
   {
    "duration": 25,
    "start_time": "2021-12-30T08:53:28.850Z"
   },
   {
    "duration": 56,
    "start_time": "2021-12-30T08:55:51.690Z"
   },
   {
    "duration": 239,
    "start_time": "2021-12-30T08:56:19.386Z"
   },
   {
    "duration": 341,
    "start_time": "2021-12-30T08:56:19.627Z"
   },
   {
    "duration": 6,
    "start_time": "2021-12-30T08:56:19.971Z"
   },
   {
    "duration": 19,
    "start_time": "2021-12-30T08:56:19.979Z"
   },
   {
    "duration": 54,
    "start_time": "2021-12-30T08:56:20.001Z"
   },
   {
    "duration": 410,
    "start_time": "2021-12-30T08:56:20.058Z"
   },
   {
    "duration": 13,
    "start_time": "2021-12-30T08:56:20.470Z"
   },
   {
    "duration": 729,
    "start_time": "2021-12-30T08:56:20.488Z"
   },
   {
    "duration": 312,
    "start_time": "2021-12-30T08:56:21.220Z"
   },
   {
    "duration": 720,
    "start_time": "2021-12-30T08:56:21.534Z"
   },
   {
    "duration": 8,
    "start_time": "2021-12-30T08:56:22.256Z"
   },
   {
    "duration": 7,
    "start_time": "2021-12-30T08:56:22.267Z"
   },
   {
    "duration": 759,
    "start_time": "2021-12-30T08:56:22.277Z"
   },
   {
    "duration": 5,
    "start_time": "2021-12-30T08:56:23.038Z"
   },
   {
    "duration": 43,
    "start_time": "2021-12-30T08:56:23.045Z"
   },
   {
    "duration": 6,
    "start_time": "2021-12-30T08:56:23.090Z"
   },
   {
    "duration": 25,
    "start_time": "2021-12-30T08:56:23.117Z"
   },
   {
    "duration": 395,
    "start_time": "2021-12-30T08:58:56.676Z"
   },
   {
    "duration": 60,
    "start_time": "2021-12-30T08:59:33.490Z"
   },
   {
    "duration": 30,
    "start_time": "2021-12-30T09:00:00.059Z"
   },
   {
    "duration": 31,
    "start_time": "2021-12-30T09:00:09.974Z"
   },
   {
    "duration": 154,
    "start_time": "2021-12-30T09:02:42.583Z"
   },
   {
    "duration": 1055,
    "start_time": "2021-12-31T08:27:29.229Z"
   },
   {
    "duration": 430,
    "start_time": "2021-12-31T08:27:30.286Z"
   },
   {
    "duration": 6,
    "start_time": "2021-12-31T08:27:30.719Z"
   },
   {
    "duration": 20,
    "start_time": "2021-12-31T08:27:30.727Z"
   },
   {
    "duration": 54,
    "start_time": "2021-12-31T08:27:30.750Z"
   },
   {
    "duration": 390,
    "start_time": "2021-12-31T08:27:30.806Z"
   },
   {
    "duration": 11,
    "start_time": "2021-12-31T08:27:31.199Z"
   },
   {
    "duration": 751,
    "start_time": "2021-12-31T08:27:31.212Z"
   },
   {
    "duration": 319,
    "start_time": "2021-12-31T08:27:31.969Z"
   },
   {
    "duration": 835,
    "start_time": "2021-12-31T08:27:32.290Z"
   },
   {
    "duration": 9,
    "start_time": "2021-12-31T08:27:33.128Z"
   },
   {
    "duration": 27,
    "start_time": "2021-12-31T08:27:33.140Z"
   },
   {
    "duration": 730,
    "start_time": "2021-12-31T08:27:33.170Z"
   },
   {
    "duration": 4,
    "start_time": "2021-12-31T08:27:33.903Z"
   },
   {
    "duration": 60,
    "start_time": "2021-12-31T08:27:33.909Z"
   },
   {
    "duration": 6,
    "start_time": "2021-12-31T08:27:33.971Z"
   },
   {
    "duration": 29,
    "start_time": "2021-12-31T08:27:33.979Z"
   },
   {
    "duration": 98,
    "start_time": "2021-12-31T08:27:34.010Z"
   },
   {
    "duration": 9,
    "start_time": "2021-12-31T08:29:24.748Z"
   },
   {
    "duration": 24,
    "start_time": "2021-12-31T08:29:57.908Z"
   },
   {
    "duration": 23,
    "start_time": "2021-12-31T08:30:40.878Z"
   },
   {
    "duration": 234,
    "start_time": "2021-12-31T08:30:59.801Z"
   },
   {
    "duration": 347,
    "start_time": "2021-12-31T08:31:00.038Z"
   },
   {
    "duration": 6,
    "start_time": "2021-12-31T08:31:00.388Z"
   },
   {
    "duration": 21,
    "start_time": "2021-12-31T08:31:00.397Z"
   },
   {
    "duration": 57,
    "start_time": "2021-12-31T08:31:00.420Z"
   },
   {
    "duration": 394,
    "start_time": "2021-12-31T08:31:00.480Z"
   },
   {
    "duration": 12,
    "start_time": "2021-12-31T08:31:00.877Z"
   },
   {
    "duration": 727,
    "start_time": "2021-12-31T08:31:00.893Z"
   },
   {
    "duration": 340,
    "start_time": "2021-12-31T08:31:01.622Z"
   },
   {
    "duration": 693,
    "start_time": "2021-12-31T08:31:01.966Z"
   },
   {
    "duration": 8,
    "start_time": "2021-12-31T08:31:02.662Z"
   },
   {
    "duration": 18,
    "start_time": "2021-12-31T08:31:02.672Z"
   },
   {
    "duration": 736,
    "start_time": "2021-12-31T08:31:02.693Z"
   },
   {
    "duration": 5,
    "start_time": "2021-12-31T08:31:03.431Z"
   },
   {
    "duration": 63,
    "start_time": "2021-12-31T08:31:03.438Z"
   },
   {
    "duration": 6,
    "start_time": "2021-12-31T08:31:03.503Z"
   },
   {
    "duration": 27,
    "start_time": "2021-12-31T08:31:03.511Z"
   },
   {
    "duration": 90,
    "start_time": "2021-12-31T08:31:03.541Z"
   },
   {
    "duration": 23,
    "start_time": "2021-12-31T08:31:07.366Z"
   },
   {
    "duration": 22,
    "start_time": "2021-12-31T08:32:20.869Z"
   },
   {
    "duration": 7591,
    "start_time": "2021-12-31T08:38:24.161Z"
   },
   {
    "duration": 7276,
    "start_time": "2021-12-31T08:38:52.362Z"
   },
   {
    "duration": 7255,
    "start_time": "2021-12-31T08:39:22.868Z"
   },
   {
    "duration": 7605,
    "start_time": "2021-12-31T08:40:13.618Z"
   },
   {
    "duration": 251,
    "start_time": "2021-12-31T08:42:41.467Z"
   },
   {
    "duration": 334,
    "start_time": "2021-12-31T08:42:41.721Z"
   },
   {
    "duration": 11,
    "start_time": "2021-12-31T08:42:42.058Z"
   },
   {
    "duration": 11,
    "start_time": "2021-12-31T08:42:42.072Z"
   },
   {
    "duration": 42,
    "start_time": "2021-12-31T08:42:42.085Z"
   },
   {
    "duration": 415,
    "start_time": "2021-12-31T08:42:42.129Z"
   },
   {
    "duration": 22,
    "start_time": "2021-12-31T08:42:42.547Z"
   },
   {
    "duration": 721,
    "start_time": "2021-12-31T08:42:42.573Z"
   },
   {
    "duration": 393,
    "start_time": "2021-12-31T08:42:43.296Z"
   },
   {
    "duration": 782,
    "start_time": "2021-12-31T08:42:43.692Z"
   },
   {
    "duration": 9,
    "start_time": "2021-12-31T08:42:44.476Z"
   },
   {
    "duration": 7,
    "start_time": "2021-12-31T08:42:44.488Z"
   },
   {
    "duration": 756,
    "start_time": "2021-12-31T08:42:44.498Z"
   },
   {
    "duration": 5,
    "start_time": "2021-12-31T08:42:45.256Z"
   },
   {
    "duration": 45,
    "start_time": "2021-12-31T08:42:45.266Z"
   },
   {
    "duration": 6,
    "start_time": "2021-12-31T08:42:45.313Z"
   },
   {
    "duration": 47,
    "start_time": "2021-12-31T08:42:45.322Z"
   },
   {
    "duration": 333,
    "start_time": "2021-12-31T08:42:56.887Z"
   },
   {
    "duration": 525,
    "start_time": "2021-12-31T08:43:14.802Z"
   },
   {
    "duration": 293,
    "start_time": "2021-12-31T08:43:23.612Z"
   },
   {
    "duration": 410,
    "start_time": "2021-12-31T08:45:21.801Z"
   },
   {
    "duration": 60,
    "start_time": "2021-12-31T08:46:21.010Z"
   },
   {
    "duration": 330,
    "start_time": "2021-12-31T08:46:43.458Z"
   },
   {
    "duration": 239,
    "start_time": "2021-12-31T08:46:48.632Z"
   },
   {
    "duration": 330,
    "start_time": "2021-12-31T08:46:48.874Z"
   },
   {
    "duration": 5,
    "start_time": "2021-12-31T08:46:49.207Z"
   },
   {
    "duration": 12,
    "start_time": "2021-12-31T08:46:49.215Z"
   },
   {
    "duration": 64,
    "start_time": "2021-12-31T08:46:49.229Z"
   },
   {
    "duration": 503,
    "start_time": "2021-12-31T08:46:49.296Z"
   },
   {
    "duration": 11,
    "start_time": "2021-12-31T08:46:49.801Z"
   },
   {
    "duration": 705,
    "start_time": "2021-12-31T08:46:49.815Z"
   },
   {
    "duration": 325,
    "start_time": "2021-12-31T08:46:50.523Z"
   },
   {
    "duration": 677,
    "start_time": "2021-12-31T08:46:50.850Z"
   },
   {
    "duration": 7,
    "start_time": "2021-12-31T08:46:51.530Z"
   },
   {
    "duration": 28,
    "start_time": "2021-12-31T08:46:51.539Z"
   },
   {
    "duration": 723,
    "start_time": "2021-12-31T08:46:51.570Z"
   },
   {
    "duration": 5,
    "start_time": "2021-12-31T08:46:52.295Z"
   },
   {
    "duration": 43,
    "start_time": "2021-12-31T08:46:52.302Z"
   },
   {
    "duration": 6,
    "start_time": "2021-12-31T08:46:52.367Z"
   },
   {
    "duration": 25,
    "start_time": "2021-12-31T08:46:52.375Z"
   },
   {
    "duration": 331,
    "start_time": "2021-12-31T08:47:27.107Z"
   },
   {
    "duration": 308,
    "start_time": "2021-12-31T08:48:01.089Z"
   },
   {
    "duration": 73,
    "start_time": "2021-12-31T08:48:48.649Z"
   },
   {
    "duration": 232,
    "start_time": "2021-12-31T08:49:18.299Z"
   },
   {
    "duration": 329,
    "start_time": "2021-12-31T08:49:18.533Z"
   },
   {
    "duration": 7,
    "start_time": "2021-12-31T08:49:18.865Z"
   },
   {
    "duration": 13,
    "start_time": "2021-12-31T08:49:18.874Z"
   },
   {
    "duration": 43,
    "start_time": "2021-12-31T08:49:18.889Z"
   },
   {
    "duration": 380,
    "start_time": "2021-12-31T08:49:18.967Z"
   },
   {
    "duration": 18,
    "start_time": "2021-12-31T08:49:19.350Z"
   },
   {
    "duration": 748,
    "start_time": "2021-12-31T08:49:19.371Z"
   },
   {
    "duration": 332,
    "start_time": "2021-12-31T08:49:20.123Z"
   },
   {
    "duration": 731,
    "start_time": "2021-12-31T08:49:20.457Z"
   },
   {
    "duration": 9,
    "start_time": "2021-12-31T08:49:21.191Z"
   },
   {
    "duration": 8,
    "start_time": "2021-12-31T08:49:21.202Z"
   },
   {
    "duration": 760,
    "start_time": "2021-12-31T08:49:21.212Z"
   },
   {
    "duration": 5,
    "start_time": "2021-12-31T08:49:21.974Z"
   },
   {
    "duration": 44,
    "start_time": "2021-12-31T08:49:21.981Z"
   },
   {
    "duration": 6,
    "start_time": "2021-12-31T08:49:22.027Z"
   },
   {
    "duration": 50,
    "start_time": "2021-12-31T08:49:22.036Z"
   },
   {
    "duration": 67,
    "start_time": "2021-12-31T08:49:26.370Z"
   },
   {
    "duration": 233,
    "start_time": "2021-12-31T08:51:41.197Z"
   },
   {
    "duration": 334,
    "start_time": "2021-12-31T08:51:41.433Z"
   },
   {
    "duration": 6,
    "start_time": "2021-12-31T08:51:41.770Z"
   },
   {
    "duration": 12,
    "start_time": "2021-12-31T08:51:41.779Z"
   },
   {
    "duration": 39,
    "start_time": "2021-12-31T08:51:41.793Z"
   },
   {
    "duration": 403,
    "start_time": "2021-12-31T08:51:41.867Z"
   },
   {
    "duration": 11,
    "start_time": "2021-12-31T08:51:42.272Z"
   },
   {
    "duration": 738,
    "start_time": "2021-12-31T08:51:42.287Z"
   },
   {
    "duration": 335,
    "start_time": "2021-12-31T08:51:43.027Z"
   },
   {
    "duration": 669,
    "start_time": "2021-12-31T08:51:43.366Z"
   },
   {
    "duration": 8,
    "start_time": "2021-12-31T08:51:44.037Z"
   },
   {
    "duration": 20,
    "start_time": "2021-12-31T08:51:44.048Z"
   },
   {
    "duration": 776,
    "start_time": "2021-12-31T08:51:44.071Z"
   },
   {
    "duration": 4,
    "start_time": "2021-12-31T08:51:44.849Z"
   },
   {
    "duration": 43,
    "start_time": "2021-12-31T08:51:44.867Z"
   },
   {
    "duration": 6,
    "start_time": "2021-12-31T08:51:44.912Z"
   },
   {
    "duration": 52,
    "start_time": "2021-12-31T08:51:44.920Z"
   },
   {
    "duration": 56,
    "start_time": "2021-12-31T08:51:49.192Z"
   },
   {
    "duration": 228,
    "start_time": "2021-12-31T08:53:53.689Z"
   },
   {
    "duration": 320,
    "start_time": "2021-12-31T08:53:53.920Z"
   },
   {
    "duration": 5,
    "start_time": "2021-12-31T08:53:54.243Z"
   },
   {
    "duration": 25,
    "start_time": "2021-12-31T08:53:54.251Z"
   },
   {
    "duration": 39,
    "start_time": "2021-12-31T08:53:54.279Z"
   },
   {
    "duration": 414,
    "start_time": "2021-12-31T08:53:54.321Z"
   },
   {
    "duration": 13,
    "start_time": "2021-12-31T08:53:54.737Z"
   },
   {
    "duration": 753,
    "start_time": "2021-12-31T08:53:54.767Z"
   },
   {
    "duration": 385,
    "start_time": "2021-12-31T08:53:55.523Z"
   },
   {
    "duration": 734,
    "start_time": "2021-12-31T08:53:55.911Z"
   },
   {
    "duration": 10,
    "start_time": "2021-12-31T08:53:56.647Z"
   },
   {
    "duration": 6,
    "start_time": "2021-12-31T08:53:56.667Z"
   },
   {
    "duration": 741,
    "start_time": "2021-12-31T08:53:56.676Z"
   },
   {
    "duration": 5,
    "start_time": "2021-12-31T08:53:57.419Z"
   },
   {
    "duration": 60,
    "start_time": "2021-12-31T08:53:57.426Z"
   },
   {
    "duration": 8,
    "start_time": "2021-12-31T08:53:57.488Z"
   },
   {
    "duration": 36,
    "start_time": "2021-12-31T08:53:57.499Z"
   },
   {
    "duration": 72,
    "start_time": "2021-12-31T08:54:01.128Z"
   },
   {
    "duration": 243,
    "start_time": "2021-12-31T08:56:48.455Z"
   },
   {
    "duration": 346,
    "start_time": "2021-12-31T08:56:48.701Z"
   },
   {
    "duration": 16,
    "start_time": "2021-12-31T08:56:49.051Z"
   },
   {
    "duration": 14,
    "start_time": "2021-12-31T08:56:49.070Z"
   },
   {
    "duration": 44,
    "start_time": "2021-12-31T08:56:49.087Z"
   },
   {
    "duration": 420,
    "start_time": "2021-12-31T08:56:49.133Z"
   },
   {
    "duration": 16,
    "start_time": "2021-12-31T08:56:49.556Z"
   },
   {
    "duration": 729,
    "start_time": "2021-12-31T08:56:49.576Z"
   },
   {
    "duration": 332,
    "start_time": "2021-12-31T08:56:50.307Z"
   },
   {
    "duration": 669,
    "start_time": "2021-12-31T08:56:50.641Z"
   },
   {
    "duration": 9,
    "start_time": "2021-12-31T08:56:51.312Z"
   },
   {
    "duration": 8,
    "start_time": "2021-12-31T08:56:51.324Z"
   },
   {
    "duration": 750,
    "start_time": "2021-12-31T08:56:51.334Z"
   },
   {
    "duration": 4,
    "start_time": "2021-12-31T08:56:52.086Z"
   },
   {
    "duration": 54,
    "start_time": "2021-12-31T08:56:52.093Z"
   },
   {
    "duration": 19,
    "start_time": "2021-12-31T08:56:52.150Z"
   },
   {
    "duration": 31,
    "start_time": "2021-12-31T08:56:52.172Z"
   },
   {
    "duration": 81,
    "start_time": "2021-12-31T08:56:55.285Z"
   },
   {
    "duration": 66,
    "start_time": "2021-12-31T08:57:03.783Z"
   },
   {
    "duration": 265,
    "start_time": "2021-12-31T09:01:27.228Z"
   },
   {
    "duration": 313,
    "start_time": "2021-12-31T09:01:43.264Z"
   },
   {
    "duration": 432,
    "start_time": "2021-12-31T09:01:51.650Z"
   },
   {
    "duration": 5,
    "start_time": "2021-12-31T09:02:04.092Z"
   },
   {
    "duration": 7,
    "start_time": "2021-12-31T09:03:35.260Z"
   },
   {
    "duration": 7,
    "start_time": "2021-12-31T09:05:03.588Z"
   },
   {
    "duration": 6,
    "start_time": "2021-12-31T09:05:29.790Z"
   },
   {
    "duration": 8,
    "start_time": "2021-12-31T09:06:07.189Z"
   },
   {
    "duration": 6,
    "start_time": "2021-12-31T09:08:00.071Z"
   },
   {
    "duration": 280,
    "start_time": "2021-12-31T09:08:40.686Z"
   },
   {
    "duration": 321,
    "start_time": "2021-12-31T09:12:19.241Z"
   },
   {
    "duration": 6,
    "start_time": "2021-12-31T09:12:29.292Z"
   },
   {
    "duration": 6,
    "start_time": "2021-12-31T09:13:29.479Z"
   },
   {
    "duration": 708,
    "start_time": "2021-12-31T09:18:17.766Z"
   },
   {
    "duration": 6,
    "start_time": "2021-12-31T09:18:58.829Z"
   },
   {
    "duration": 279,
    "start_time": "2021-12-31T09:20:12.851Z"
   },
   {
    "duration": 5,
    "start_time": "2021-12-31T09:24:22.530Z"
   },
   {
    "duration": 6,
    "start_time": "2021-12-31T09:25:29.894Z"
   },
   {
    "duration": 6,
    "start_time": "2021-12-31T09:25:52.977Z"
   },
   {
    "duration": 256,
    "start_time": "2021-12-31T09:27:41.466Z"
   },
   {
    "duration": 6,
    "start_time": "2021-12-31T09:29:11.889Z"
   },
   {
    "duration": 151,
    "start_time": "2021-12-31T09:30:35.010Z"
   },
   {
    "duration": 232,
    "start_time": "2021-12-31T09:31:17.663Z"
   },
   {
    "duration": 333,
    "start_time": "2021-12-31T09:31:17.898Z"
   },
   {
    "duration": 6,
    "start_time": "2021-12-31T09:31:18.236Z"
   },
   {
    "duration": 30,
    "start_time": "2021-12-31T09:31:18.246Z"
   },
   {
    "duration": 42,
    "start_time": "2021-12-31T09:31:18.279Z"
   },
   {
    "duration": 416,
    "start_time": "2021-12-31T09:31:18.324Z"
   },
   {
    "duration": 13,
    "start_time": "2021-12-31T09:31:18.743Z"
   },
   {
    "duration": 733,
    "start_time": "2021-12-31T09:31:18.768Z"
   },
   {
    "duration": 349,
    "start_time": "2021-12-31T09:31:19.504Z"
   },
   {
    "duration": 694,
    "start_time": "2021-12-31T09:31:19.855Z"
   },
   {
    "duration": 8,
    "start_time": "2021-12-31T09:31:20.552Z"
   },
   {
    "duration": 7,
    "start_time": "2021-12-31T09:31:20.567Z"
   },
   {
    "duration": 754,
    "start_time": "2021-12-31T09:31:20.576Z"
   },
   {
    "duration": 5,
    "start_time": "2021-12-31T09:31:21.333Z"
   },
   {
    "duration": 57,
    "start_time": "2021-12-31T09:31:21.340Z"
   },
   {
    "duration": 7,
    "start_time": "2021-12-31T09:31:21.399Z"
   },
   {
    "duration": 33,
    "start_time": "2021-12-31T09:31:21.409Z"
   },
   {
    "duration": 84,
    "start_time": "2021-12-31T09:31:26.770Z"
   },
   {
    "duration": 341,
    "start_time": "2021-12-31T09:33:06.691Z"
   },
   {
    "duration": 4,
    "start_time": "2021-12-31T09:33:19.662Z"
   },
   {
    "duration": 6,
    "start_time": "2021-12-31T09:34:01.356Z"
   },
   {
    "duration": 90,
    "start_time": "2021-12-31T09:35:09.691Z"
   },
   {
    "duration": 144,
    "start_time": "2021-12-31T09:37:39.062Z"
   },
   {
    "duration": 261,
    "start_time": "2021-12-31T09:38:09.408Z"
   },
   {
    "duration": 125,
    "start_time": "2021-12-31T09:38:25.123Z"
   },
   {
    "duration": 265,
    "start_time": "2021-12-31T09:41:49.897Z"
   },
   {
    "duration": 5,
    "start_time": "2021-12-31T09:42:32.663Z"
   },
   {
    "duration": 5,
    "start_time": "2021-12-31T09:42:40.964Z"
   },
   {
    "duration": 285,
    "start_time": "2021-12-31T09:42:53.523Z"
   },
   {
    "duration": 902,
    "start_time": "2021-12-31T09:43:18.742Z"
   },
   {
    "duration": 107,
    "start_time": "2021-12-31T09:44:09.531Z"
   },
   {
    "duration": 1908,
    "start_time": "2021-12-31T09:45:40.687Z"
   },
   {
    "duration": 265,
    "start_time": "2021-12-31T09:46:11.590Z"
   },
   {
    "duration": 97,
    "start_time": "2021-12-31T09:47:26.858Z"
   },
   {
    "duration": 87,
    "start_time": "2021-12-31T09:47:39.018Z"
   },
   {
    "duration": 302,
    "start_time": "2021-12-31T09:47:52.504Z"
   },
   {
    "duration": 128,
    "start_time": "2021-12-31T09:47:58.382Z"
   },
   {
    "duration": 7792,
    "start_time": "2021-12-31T09:50:13.363Z"
   },
   {
    "duration": 7947,
    "start_time": "2021-12-31T09:51:02.262Z"
   },
   {
    "duration": 7742,
    "start_time": "2021-12-31T09:54:14.723Z"
   },
   {
    "duration": 7849,
    "start_time": "2021-12-31T09:55:12.491Z"
   },
   {
    "duration": 273,
    "start_time": "2021-12-31T09:56:26.995Z"
   },
   {
    "duration": 265,
    "start_time": "2021-12-31T09:56:37.022Z"
   },
   {
    "duration": 286,
    "start_time": "2021-12-31T09:56:40.691Z"
   },
   {
    "duration": 14930,
    "start_time": "2021-12-31T10:00:11.061Z"
   },
   {
    "duration": 15938,
    "start_time": "2021-12-31T10:01:21.523Z"
   },
   {
    "duration": 235,
    "start_time": "2021-12-31T10:02:25.115Z"
   },
   {
    "duration": 327,
    "start_time": "2021-12-31T10:02:25.352Z"
   },
   {
    "duration": 6,
    "start_time": "2021-12-31T10:02:25.682Z"
   },
   {
    "duration": 13,
    "start_time": "2021-12-31T10:02:25.691Z"
   },
   {
    "duration": 68,
    "start_time": "2021-12-31T10:02:25.706Z"
   },
   {
    "duration": 398,
    "start_time": "2021-12-31T10:02:25.777Z"
   },
   {
    "duration": 11,
    "start_time": "2021-12-31T10:02:26.178Z"
   },
   {
    "duration": 708,
    "start_time": "2021-12-31T10:02:26.193Z"
   },
   {
    "duration": 348,
    "start_time": "2021-12-31T10:02:26.904Z"
   },
   {
    "duration": 685,
    "start_time": "2021-12-31T10:02:27.254Z"
   },
   {
    "duration": 9,
    "start_time": "2021-12-31T10:02:27.942Z"
   },
   {
    "duration": 6,
    "start_time": "2021-12-31T10:02:27.968Z"
   },
   {
    "duration": 736,
    "start_time": "2021-12-31T10:02:27.976Z"
   },
   {
    "duration": 4,
    "start_time": "2021-12-31T10:02:28.714Z"
   },
   {
    "duration": 59,
    "start_time": "2021-12-31T10:02:28.720Z"
   },
   {
    "duration": 6,
    "start_time": "2021-12-31T10:02:28.782Z"
   },
   {
    "duration": 26,
    "start_time": "2021-12-31T10:02:28.790Z"
   },
   {
    "duration": 14318,
    "start_time": "2021-12-31T10:02:28.818Z"
   },
   {
    "duration": 3,
    "start_time": "2021-12-31T10:02:43.139Z"
   },
   {
    "duration": 58,
    "start_time": "2021-12-31T10:02:43.144Z"
   },
   {
    "duration": 27,
    "start_time": "2021-12-31T10:03:08.282Z"
   },
   {
    "duration": 6647,
    "start_time": "2021-12-31T10:03:53.155Z"
   },
   {
    "duration": 1945,
    "start_time": "2021-12-31T10:04:37.452Z"
   },
   {
    "duration": 405,
    "start_time": "2021-12-31T10:05:16.952Z"
   },
   {
    "duration": 251,
    "start_time": "2021-12-31T10:06:04.764Z"
   },
   {
    "duration": 333,
    "start_time": "2021-12-31T10:06:05.019Z"
   },
   {
    "duration": 15,
    "start_time": "2021-12-31T10:06:05.357Z"
   },
   {
    "duration": 18,
    "start_time": "2021-12-31T10:06:05.375Z"
   },
   {
    "duration": 39,
    "start_time": "2021-12-31T10:06:05.395Z"
   },
   {
    "duration": 511,
    "start_time": "2021-12-31T10:06:05.437Z"
   },
   {
    "duration": 25,
    "start_time": "2021-12-31T10:06:05.951Z"
   },
   {
    "duration": 718,
    "start_time": "2021-12-31T10:06:05.979Z"
   },
   {
    "duration": 328,
    "start_time": "2021-12-31T10:06:06.703Z"
   },
   {
    "duration": 650,
    "start_time": "2021-12-31T10:06:07.034Z"
   },
   {
    "duration": 8,
    "start_time": "2021-12-31T10:06:07.686Z"
   },
   {
    "duration": 7,
    "start_time": "2021-12-31T10:06:07.697Z"
   },
   {
    "duration": 722,
    "start_time": "2021-12-31T10:06:07.706Z"
   },
   {
    "duration": 4,
    "start_time": "2021-12-31T10:06:08.431Z"
   },
   {
    "duration": 55,
    "start_time": "2021-12-31T10:06:08.437Z"
   },
   {
    "duration": 6,
    "start_time": "2021-12-31T10:06:08.495Z"
   },
   {
    "duration": 30,
    "start_time": "2021-12-31T10:06:08.503Z"
   },
   {
    "duration": 14939,
    "start_time": "2021-12-31T10:06:08.536Z"
   },
   {
    "duration": 45,
    "start_time": "2021-12-31T10:06:23.478Z"
   },
   {
    "duration": 55,
    "start_time": "2021-12-31T10:06:23.526Z"
   },
   {
    "duration": 1972,
    "start_time": "2021-12-31T10:06:23.584Z"
   },
   {
    "duration": 19,
    "start_time": "2021-12-31T10:06:25.558Z"
   },
   {
    "duration": 4,
    "start_time": "2021-12-31T10:06:25.580Z"
   },
   {
    "duration": 16,
    "start_time": "2021-12-31T10:06:25.586Z"
   },
   {
    "duration": 423,
    "start_time": "2021-12-31T10:06:25.604Z"
   },
   {
    "duration": 297,
    "start_time": "2021-12-31T10:06:26.030Z"
   },
   {
    "duration": -378,
    "start_time": "2021-12-31T10:06:26.708Z"
   },
   {
    "duration": 238,
    "start_time": "2021-12-31T10:08:23.651Z"
   },
   {
    "duration": 336,
    "start_time": "2021-12-31T10:08:23.891Z"
   },
   {
    "duration": 6,
    "start_time": "2021-12-31T10:08:24.230Z"
   },
   {
    "duration": 29,
    "start_time": "2021-12-31T10:08:24.239Z"
   },
   {
    "duration": 40,
    "start_time": "2021-12-31T10:08:24.271Z"
   },
   {
    "duration": 415,
    "start_time": "2021-12-31T10:08:24.314Z"
   },
   {
    "duration": 14,
    "start_time": "2021-12-31T10:08:24.732Z"
   },
   {
    "duration": 784,
    "start_time": "2021-12-31T10:08:24.748Z"
   },
   {
    "duration": 335,
    "start_time": "2021-12-31T10:08:25.535Z"
   },
   {
    "duration": 667,
    "start_time": "2021-12-31T10:08:25.872Z"
   },
   {
    "duration": 8,
    "start_time": "2021-12-31T10:08:26.542Z"
   },
   {
    "duration": 19,
    "start_time": "2021-12-31T10:08:26.552Z"
   },
   {
    "duration": 724,
    "start_time": "2021-12-31T10:08:26.574Z"
   },
   {
    "duration": 4,
    "start_time": "2021-12-31T10:08:27.300Z"
   },
   {
    "duration": 60,
    "start_time": "2021-12-31T10:08:27.307Z"
   },
   {
    "duration": 6,
    "start_time": "2021-12-31T10:08:27.370Z"
   },
   {
    "duration": 27,
    "start_time": "2021-12-31T10:08:27.378Z"
   },
   {
    "duration": 14912,
    "start_time": "2021-12-31T10:08:27.408Z"
   },
   {
    "duration": 57,
    "start_time": "2021-12-31T10:08:42.323Z"
   },
   {
    "duration": 26,
    "start_time": "2021-12-31T10:08:42.382Z"
   },
   {
    "duration": 2048,
    "start_time": "2021-12-31T10:08:42.410Z"
   },
   {
    "duration": 18,
    "start_time": "2021-12-31T10:08:44.460Z"
   },
   {
    "duration": 19,
    "start_time": "2021-12-31T10:08:44.480Z"
   },
   {
    "duration": 18,
    "start_time": "2021-12-31T10:13:00.052Z"
   },
   {
    "duration": 1914,
    "start_time": "2021-12-31T10:14:01.311Z"
   },
   {
    "duration": 15,
    "start_time": "2021-12-31T10:14:29.642Z"
   },
   {
    "duration": 223,
    "start_time": "2021-12-31T10:14:39.062Z"
   },
   {
    "duration": 334,
    "start_time": "2021-12-31T10:14:39.288Z"
   },
   {
    "duration": 6,
    "start_time": "2021-12-31T10:14:39.624Z"
   },
   {
    "duration": 36,
    "start_time": "2021-12-31T10:14:39.633Z"
   },
   {
    "duration": 39,
    "start_time": "2021-12-31T10:14:39.671Z"
   },
   {
    "duration": 405,
    "start_time": "2021-12-31T10:14:39.712Z"
   },
   {
    "duration": 11,
    "start_time": "2021-12-31T10:14:40.120Z"
   },
   {
    "duration": 758,
    "start_time": "2021-12-31T10:14:40.134Z"
   },
   {
    "duration": 512,
    "start_time": "2021-12-31T10:14:40.896Z"
   },
   {
    "duration": 657,
    "start_time": "2021-12-31T10:14:41.410Z"
   },
   {
    "duration": 9,
    "start_time": "2021-12-31T10:14:42.069Z"
   },
   {
    "duration": 8,
    "start_time": "2021-12-31T10:14:42.080Z"
   },
   {
    "duration": 758,
    "start_time": "2021-12-31T10:14:42.090Z"
   },
   {
    "duration": 4,
    "start_time": "2021-12-31T10:14:42.852Z"
   },
   {
    "duration": 50,
    "start_time": "2021-12-31T10:14:42.858Z"
   },
   {
    "duration": 8,
    "start_time": "2021-12-31T10:14:42.911Z"
   },
   {
    "duration": 59,
    "start_time": "2021-12-31T10:14:42.921Z"
   },
   {
    "duration": 15917,
    "start_time": "2021-12-31T10:14:42.983Z"
   },
   {
    "duration": 64,
    "start_time": "2021-12-31T10:14:58.903Z"
   },
   {
    "duration": 26,
    "start_time": "2021-12-31T10:14:58.971Z"
   },
   {
    "duration": 2014,
    "start_time": "2021-12-31T10:14:59.000Z"
   },
   {
    "duration": 20,
    "start_time": "2021-12-31T10:15:01.017Z"
   },
   {
    "duration": 1933,
    "start_time": "2021-12-31T10:15:01.043Z"
   },
   {
    "duration": 13,
    "start_time": "2021-12-31T10:15:33.273Z"
   },
   {
    "duration": 20,
    "start_time": "2021-12-31T10:15:42.848Z"
   },
   {
    "duration": 20,
    "start_time": "2021-12-31T10:15:59.312Z"
   },
   {
    "duration": 21,
    "start_time": "2021-12-31T10:19:22.567Z"
   },
   {
    "duration": 16,
    "start_time": "2021-12-31T10:19:37.791Z"
   },
   {
    "duration": 386,
    "start_time": "2021-12-31T10:20:12.037Z"
   },
   {
    "duration": 290,
    "start_time": "2021-12-31T10:20:51.576Z"
   },
   {
    "duration": 45,
    "start_time": "2021-12-31T10:24:22.112Z"
   },
   {
    "duration": 11,
    "start_time": "2021-12-31T10:25:22.404Z"
   },
   {
    "duration": 254,
    "start_time": "2021-12-31T10:26:12.353Z"
   },
   {
    "duration": 339,
    "start_time": "2021-12-31T10:26:12.610Z"
   },
   {
    "duration": 14,
    "start_time": "2021-12-31T10:26:12.953Z"
   },
   {
    "duration": 13,
    "start_time": "2021-12-31T10:26:12.970Z"
   },
   {
    "duration": 42,
    "start_time": "2021-12-31T10:26:12.985Z"
   },
   {
    "duration": 408,
    "start_time": "2021-12-31T10:26:13.030Z"
   },
   {
    "duration": 26,
    "start_time": "2021-12-31T10:26:13.441Z"
   },
   {
    "duration": 725,
    "start_time": "2021-12-31T10:26:13.469Z"
   },
   {
    "duration": 347,
    "start_time": "2021-12-31T10:26:14.200Z"
   },
   {
    "duration": 675,
    "start_time": "2021-12-31T10:26:14.551Z"
   },
   {
    "duration": 8,
    "start_time": "2021-12-31T10:26:15.229Z"
   },
   {
    "duration": 9,
    "start_time": "2021-12-31T10:26:15.239Z"
   },
   {
    "duration": 749,
    "start_time": "2021-12-31T10:26:15.266Z"
   },
   {
    "duration": 5,
    "start_time": "2021-12-31T10:26:16.017Z"
   },
   {
    "duration": 60,
    "start_time": "2021-12-31T10:26:16.024Z"
   },
   {
    "duration": 7,
    "start_time": "2021-12-31T10:26:16.087Z"
   },
   {
    "duration": 28,
    "start_time": "2021-12-31T10:26:16.097Z"
   },
   {
    "duration": 15320,
    "start_time": "2021-12-31T10:26:16.129Z"
   },
   {
    "duration": 53,
    "start_time": "2021-12-31T10:26:31.452Z"
   },
   {
    "duration": 25,
    "start_time": "2021-12-31T10:26:31.508Z"
   },
   {
    "duration": 2046,
    "start_time": "2021-12-31T10:26:31.535Z"
   },
   {
    "duration": 16,
    "start_time": "2021-12-31T10:26:33.584Z"
   },
   {
    "duration": 1940,
    "start_time": "2021-12-31T10:26:33.602Z"
   },
   {
    "duration": 28,
    "start_time": "2021-12-31T10:26:35.545Z"
   },
   {
    "duration": 21,
    "start_time": "2021-12-31T10:26:35.576Z"
   },
   {
    "duration": 21,
    "start_time": "2021-12-31T10:26:35.599Z"
   },
   {
    "duration": 45,
    "start_time": "2021-12-31T10:26:35.624Z"
   },
   {
    "duration": 21,
    "start_time": "2021-12-31T10:29:50.791Z"
   },
   {
    "duration": 17,
    "start_time": "2021-12-31T10:29:58.716Z"
   },
   {
    "duration": 391,
    "start_time": "2021-12-31T10:30:02.111Z"
   },
   {
    "duration": 2525,
    "start_time": "2021-12-31T10:30:08.332Z"
   },
   {
    "duration": 23,
    "start_time": "2021-12-31T10:30:37.099Z"
   },
   {
    "duration": 245,
    "start_time": "2021-12-31T10:32:52.041Z"
   },
   {
    "duration": 331,
    "start_time": "2021-12-31T10:32:52.289Z"
   },
   {
    "duration": 6,
    "start_time": "2021-12-31T10:32:52.623Z"
   },
   {
    "duration": 12,
    "start_time": "2021-12-31T10:32:52.631Z"
   },
   {
    "duration": 40,
    "start_time": "2021-12-31T10:32:52.668Z"
   },
   {
    "duration": 404,
    "start_time": "2021-12-31T10:32:52.711Z"
   },
   {
    "duration": 11,
    "start_time": "2021-12-31T10:32:53.118Z"
   },
   {
    "duration": 767,
    "start_time": "2021-12-31T10:32:53.131Z"
   },
   {
    "duration": 333,
    "start_time": "2021-12-31T10:32:53.902Z"
   },
   {
    "duration": 673,
    "start_time": "2021-12-31T10:32:54.239Z"
   },
   {
    "duration": 9,
    "start_time": "2021-12-31T10:32:54.914Z"
   },
   {
    "duration": 10,
    "start_time": "2021-12-31T10:32:54.925Z"
   },
   {
    "duration": 831,
    "start_time": "2021-12-31T10:32:54.938Z"
   },
   {
    "duration": 4,
    "start_time": "2021-12-31T10:32:55.772Z"
   },
   {
    "duration": 45,
    "start_time": "2021-12-31T10:32:55.778Z"
   },
   {
    "duration": 6,
    "start_time": "2021-12-31T10:32:55.825Z"
   },
   {
    "duration": 52,
    "start_time": "2021-12-31T10:32:55.834Z"
   },
   {
    "duration": 15505,
    "start_time": "2021-12-31T10:32:55.888Z"
   },
   {
    "duration": 42,
    "start_time": "2021-12-31T10:33:11.396Z"
   },
   {
    "duration": 47,
    "start_time": "2021-12-31T10:33:11.440Z"
   },
   {
    "duration": 1880,
    "start_time": "2021-12-31T10:33:11.489Z"
   },
   {
    "duration": 16,
    "start_time": "2021-12-31T10:33:13.372Z"
   },
   {
    "duration": 1918,
    "start_time": "2021-12-31T10:33:13.390Z"
   },
   {
    "duration": 15,
    "start_time": "2021-12-31T10:33:15.310Z"
   },
   {
    "duration": 4,
    "start_time": "2021-12-31T10:33:15.328Z"
   },
   {
    "duration": 33,
    "start_time": "2021-12-31T10:33:15.335Z"
   },
   {
    "duration": 13,
    "start_time": "2021-12-31T10:33:15.373Z"
   },
   {
    "duration": 4,
    "start_time": "2021-12-31T10:33:15.389Z"
   },
   {
    "duration": 22,
    "start_time": "2021-12-31T10:33:15.396Z"
   },
   {
    "duration": 415,
    "start_time": "2021-12-31T10:33:15.421Z"
   },
   {
    "duration": 2519,
    "start_time": "2021-12-31T10:33:15.838Z"
   },
   {
    "duration": 23,
    "start_time": "2021-12-31T10:33:18.359Z"
   },
   {
    "duration": 1833,
    "start_time": "2021-12-31T10:34:06.911Z"
   },
   {
    "duration": 1857,
    "start_time": "2021-12-31T10:35:25.811Z"
   },
   {
    "duration": 2110,
    "start_time": "2021-12-31T10:35:56.440Z"
   },
   {
    "duration": 1974,
    "start_time": "2021-12-31T10:36:03.738Z"
   },
   {
    "duration": 2139,
    "start_time": "2021-12-31T10:37:00.764Z"
   },
   {
    "duration": 269,
    "start_time": "2021-12-31T10:38:41.865Z"
   },
   {
    "duration": 1890,
    "start_time": "2021-12-31T10:38:50.391Z"
   },
   {
    "duration": 1854,
    "start_time": "2021-12-31T10:39:03.344Z"
   },
   {
    "duration": 231,
    "start_time": "2021-12-31T10:39:42.083Z"
   },
   {
    "duration": 338,
    "start_time": "2021-12-31T10:39:42.317Z"
   },
   {
    "duration": 10,
    "start_time": "2021-12-31T10:39:42.657Z"
   },
   {
    "duration": 11,
    "start_time": "2021-12-31T10:39:42.670Z"
   },
   {
    "duration": 42,
    "start_time": "2021-12-31T10:39:42.683Z"
   },
   {
    "duration": 438,
    "start_time": "2021-12-31T10:39:42.728Z"
   },
   {
    "duration": 14,
    "start_time": "2021-12-31T10:39:43.169Z"
   },
   {
    "duration": 718,
    "start_time": "2021-12-31T10:39:43.188Z"
   },
   {
    "duration": 333,
    "start_time": "2021-12-31T10:39:43.909Z"
   },
   {
    "duration": 778,
    "start_time": "2021-12-31T10:39:44.244Z"
   },
   {
    "duration": 9,
    "start_time": "2021-12-31T10:39:45.024Z"
   },
   {
    "duration": 17,
    "start_time": "2021-12-31T10:39:45.035Z"
   },
   {
    "duration": 772,
    "start_time": "2021-12-31T10:39:45.054Z"
   },
   {
    "duration": 5,
    "start_time": "2021-12-31T10:39:45.828Z"
   },
   {
    "duration": 56,
    "start_time": "2021-12-31T10:39:45.836Z"
   },
   {
    "duration": 6,
    "start_time": "2021-12-31T10:39:45.895Z"
   },
   {
    "duration": 30,
    "start_time": "2021-12-31T10:39:45.903Z"
   },
   {
    "duration": 15577,
    "start_time": "2021-12-31T10:39:45.935Z"
   },
   {
    "duration": 55,
    "start_time": "2021-12-31T10:40:01.514Z"
   },
   {
    "duration": 26,
    "start_time": "2021-12-31T10:40:01.571Z"
   },
   {
    "duration": 1888,
    "start_time": "2021-12-31T10:40:01.599Z"
   },
   {
    "duration": 17,
    "start_time": "2021-12-31T10:40:03.489Z"
   },
   {
    "duration": 1894,
    "start_time": "2021-12-31T10:40:03.511Z"
   },
   {
    "duration": 15,
    "start_time": "2021-12-31T10:40:05.407Z"
   },
   {
    "duration": 5,
    "start_time": "2021-12-31T10:40:05.425Z"
   },
   {
    "duration": 7,
    "start_time": "2021-12-31T10:40:05.432Z"
   },
   {
    "duration": 13,
    "start_time": "2021-12-31T10:40:05.468Z"
   },
   {
    "duration": 5,
    "start_time": "2021-12-31T10:40:05.483Z"
   },
   {
    "duration": 20,
    "start_time": "2021-12-31T10:40:05.491Z"
   },
   {
    "duration": 436,
    "start_time": "2021-12-31T10:40:05.514Z"
   },
   {
    "duration": 2590,
    "start_time": "2021-12-31T10:40:05.953Z"
   },
   {
    "duration": 30,
    "start_time": "2021-12-31T10:40:08.545Z"
   },
   {
    "duration": 2361,
    "start_time": "2021-12-31T10:40:15.131Z"
   },
   {
    "duration": 2161,
    "start_time": "2021-12-31T10:40:24.825Z"
   },
   {
    "duration": 39,
    "start_time": "2021-12-31T10:40:38.263Z"
   },
   {
    "duration": 230,
    "start_time": "2021-12-31T10:43:22.391Z"
   },
   {
    "duration": 329,
    "start_time": "2021-12-31T10:43:22.623Z"
   },
   {
    "duration": 15,
    "start_time": "2021-12-31T10:43:22.954Z"
   },
   {
    "duration": 12,
    "start_time": "2021-12-31T10:43:22.972Z"
   },
   {
    "duration": 40,
    "start_time": "2021-12-31T10:43:22.986Z"
   },
   {
    "duration": 422,
    "start_time": "2021-12-31T10:43:23.029Z"
   },
   {
    "duration": 22,
    "start_time": "2021-12-31T10:43:23.453Z"
   },
   {
    "duration": 717,
    "start_time": "2021-12-31T10:43:23.478Z"
   },
   {
    "duration": 343,
    "start_time": "2021-12-31T10:43:24.200Z"
   },
   {
    "duration": 687,
    "start_time": "2021-12-31T10:43:24.546Z"
   },
   {
    "duration": 8,
    "start_time": "2021-12-31T10:43:25.235Z"
   },
   {
    "duration": 23,
    "start_time": "2021-12-31T10:43:25.246Z"
   },
   {
    "duration": 717,
    "start_time": "2021-12-31T10:43:25.271Z"
   },
   {
    "duration": 4,
    "start_time": "2021-12-31T10:43:25.991Z"
   },
   {
    "duration": 44,
    "start_time": "2021-12-31T10:43:25.998Z"
   },
   {
    "duration": 6,
    "start_time": "2021-12-31T10:43:26.067Z"
   },
   {
    "duration": 26,
    "start_time": "2021-12-31T10:43:26.076Z"
   },
   {
    "duration": 15284,
    "start_time": "2021-12-31T10:43:26.104Z"
   },
   {
    "duration": 45,
    "start_time": "2021-12-31T10:43:41.390Z"
   },
   {
    "duration": 42,
    "start_time": "2021-12-31T10:43:41.437Z"
   },
   {
    "duration": 1936,
    "start_time": "2021-12-31T10:43:41.481Z"
   },
   {
    "duration": 16,
    "start_time": "2021-12-31T10:43:43.419Z"
   },
   {
    "duration": 1982,
    "start_time": "2021-12-31T10:43:43.440Z"
   },
   {
    "duration": 13,
    "start_time": "2021-12-31T10:43:45.424Z"
   },
   {
    "duration": 4,
    "start_time": "2021-12-31T10:43:45.440Z"
   },
   {
    "duration": 24,
    "start_time": "2021-12-31T10:43:45.446Z"
   },
   {
    "duration": 19,
    "start_time": "2021-12-31T10:43:45.472Z"
   },
   {
    "duration": 5,
    "start_time": "2021-12-31T10:43:45.493Z"
   },
   {
    "duration": 17,
    "start_time": "2021-12-31T10:43:45.500Z"
   },
   {
    "duration": 412,
    "start_time": "2021-12-31T10:43:45.520Z"
   },
   {
    "duration": 2508,
    "start_time": "2021-12-31T10:43:45.935Z"
   },
   {
    "duration": 27,
    "start_time": "2021-12-31T10:43:48.445Z"
   },
   {
    "duration": 37,
    "start_time": "2021-12-31T10:44:36.111Z"
   },
   {
    "duration": 33,
    "start_time": "2021-12-31T10:45:29.731Z"
   },
   {
    "duration": 12,
    "start_time": "2021-12-31T10:47:15.650Z"
   },
   {
    "duration": 24,
    "start_time": "2021-12-31T11:03:31.351Z"
   },
   {
    "duration": 338,
    "start_time": "2021-12-31T11:04:57.154Z"
   },
   {
    "duration": 332,
    "start_time": "2021-12-31T11:04:57.494Z"
   },
   {
    "duration": 7,
    "start_time": "2021-12-31T11:04:57.829Z"
   },
   {
    "duration": 30,
    "start_time": "2021-12-31T11:04:57.838Z"
   },
   {
    "duration": 40,
    "start_time": "2021-12-31T11:04:57.871Z"
   },
   {
    "duration": 411,
    "start_time": "2021-12-31T11:04:57.913Z"
   },
   {
    "duration": 12,
    "start_time": "2021-12-31T11:04:58.326Z"
   },
   {
    "duration": 731,
    "start_time": "2021-12-31T11:04:58.340Z"
   },
   {
    "duration": 347,
    "start_time": "2021-12-31T11:04:59.075Z"
   },
   {
    "duration": 696,
    "start_time": "2021-12-31T11:04:59.426Z"
   },
   {
    "duration": 9,
    "start_time": "2021-12-31T11:05:00.125Z"
   },
   {
    "duration": 14,
    "start_time": "2021-12-31T11:05:00.136Z"
   },
   {
    "duration": 778,
    "start_time": "2021-12-31T11:05:00.152Z"
   },
   {
    "duration": 5,
    "start_time": "2021-12-31T11:05:00.932Z"
   },
   {
    "duration": 58,
    "start_time": "2021-12-31T11:05:00.940Z"
   },
   {
    "duration": 6,
    "start_time": "2021-12-31T11:05:01.000Z"
   },
   {
    "duration": 28,
    "start_time": "2021-12-31T11:05:01.009Z"
   },
   {
    "duration": 15671,
    "start_time": "2021-12-31T11:05:01.040Z"
   },
   {
    "duration": 53,
    "start_time": "2021-12-31T11:05:16.714Z"
   },
   {
    "duration": 25,
    "start_time": "2021-12-31T11:05:16.770Z"
   },
   {
    "duration": 1900,
    "start_time": "2021-12-31T11:05:16.797Z"
   },
   {
    "duration": 17,
    "start_time": "2021-12-31T11:05:18.700Z"
   },
   {
    "duration": 1937,
    "start_time": "2021-12-31T11:05:18.719Z"
   },
   {
    "duration": 16,
    "start_time": "2021-12-31T11:05:20.659Z"
   },
   {
    "duration": 4,
    "start_time": "2021-12-31T11:05:20.678Z"
   },
   {
    "duration": 9,
    "start_time": "2021-12-31T11:05:20.684Z"
   },
   {
    "duration": 12,
    "start_time": "2021-12-31T11:05:20.698Z"
   },
   {
    "duration": 4,
    "start_time": "2021-12-31T11:05:20.713Z"
   },
   {
    "duration": 57,
    "start_time": "2021-12-31T11:05:20.719Z"
   },
   {
    "duration": 392,
    "start_time": "2021-12-31T11:05:20.778Z"
   },
   {
    "duration": 2562,
    "start_time": "2021-12-31T11:05:21.173Z"
   },
   {
    "duration": 33,
    "start_time": "2021-12-31T11:05:23.737Z"
   },
   {
    "duration": 37,
    "start_time": "2021-12-31T11:05:23.772Z"
   },
   {
    "duration": 56,
    "start_time": "2021-12-31T11:05:23.811Z"
   },
   {
    "duration": 7708,
    "start_time": "2021-12-31T11:05:39.477Z"
   },
   {
    "duration": 2680,
    "start_time": "2021-12-31T11:06:03.394Z"
   },
   {
    "duration": 38,
    "start_time": "2021-12-31T11:06:36.804Z"
   },
   {
    "duration": 37,
    "start_time": "2021-12-31T11:09:22.801Z"
   },
   {
    "duration": 18,
    "start_time": "2021-12-31T11:12:51.706Z"
   },
   {
    "duration": 92,
    "start_time": "2021-12-31T11:13:38.612Z"
   },
   {
    "duration": 101,
    "start_time": "2021-12-31T11:14:09.851Z"
   },
   {
    "duration": 90,
    "start_time": "2021-12-31T11:14:37.762Z"
   },
   {
    "duration": 11,
    "start_time": "2021-12-31T11:15:29.792Z"
   },
   {
    "duration": 10,
    "start_time": "2021-12-31T11:16:00.764Z"
   },
   {
    "duration": 11,
    "start_time": "2021-12-31T11:16:09.091Z"
   },
   {
    "duration": 17,
    "start_time": "2021-12-31T11:20:31.880Z"
   },
   {
    "duration": 85,
    "start_time": "2021-12-31T11:21:28.193Z"
   },
   {
    "duration": 84,
    "start_time": "2021-12-31T11:21:48.801Z"
   },
   {
    "duration": 19,
    "start_time": "2021-12-31T11:21:57.559Z"
   },
   {
    "duration": 107,
    "start_time": "2021-12-31T11:22:19.752Z"
   },
   {
    "duration": 20,
    "start_time": "2021-12-31T11:22:46.363Z"
   },
   {
    "duration": 6,
    "start_time": "2021-12-31T11:24:36.701Z"
   },
   {
    "duration": 19,
    "start_time": "2021-12-31T11:25:17.593Z"
   },
   {
    "duration": 20,
    "start_time": "2021-12-31T11:25:24.056Z"
   },
   {
    "duration": 19,
    "start_time": "2021-12-31T11:25:30.413Z"
   },
   {
    "duration": 19,
    "start_time": "2021-12-31T11:27:57.871Z"
   },
   {
    "duration": 18,
    "start_time": "2021-12-31T11:28:38.572Z"
   },
   {
    "duration": 37,
    "start_time": "2021-12-31T11:30:32.369Z"
   },
   {
    "duration": 261,
    "start_time": "2021-12-31T11:31:45.242Z"
   },
   {
    "duration": 329,
    "start_time": "2021-12-31T11:31:45.506Z"
   },
   {
    "duration": 6,
    "start_time": "2021-12-31T11:31:45.838Z"
   },
   {
    "duration": 24,
    "start_time": "2021-12-31T11:31:45.847Z"
   },
   {
    "duration": 40,
    "start_time": "2021-12-31T11:31:45.874Z"
   },
   {
    "duration": 412,
    "start_time": "2021-12-31T11:31:45.917Z"
   },
   {
    "duration": 13,
    "start_time": "2021-12-31T11:31:46.332Z"
   },
   {
    "duration": 756,
    "start_time": "2021-12-31T11:31:46.347Z"
   },
   {
    "duration": 340,
    "start_time": "2021-12-31T11:31:47.109Z"
   },
   {
    "duration": 672,
    "start_time": "2021-12-31T11:31:47.453Z"
   },
   {
    "duration": 8,
    "start_time": "2021-12-31T11:31:48.128Z"
   },
   {
    "duration": 9,
    "start_time": "2021-12-31T11:31:48.138Z"
   },
   {
    "duration": 752,
    "start_time": "2021-12-31T11:31:48.149Z"
   },
   {
    "duration": 4,
    "start_time": "2021-12-31T11:31:48.903Z"
   },
   {
    "duration": 59,
    "start_time": "2021-12-31T11:31:48.910Z"
   },
   {
    "duration": 6,
    "start_time": "2021-12-31T11:31:48.971Z"
   },
   {
    "duration": 26,
    "start_time": "2021-12-31T11:31:48.980Z"
   },
   {
    "duration": 14973,
    "start_time": "2021-12-31T11:31:49.008Z"
   },
   {
    "duration": 41,
    "start_time": "2021-12-31T11:32:03.984Z"
   },
   {
    "duration": 45,
    "start_time": "2021-12-31T11:32:04.028Z"
   },
   {
    "duration": 1962,
    "start_time": "2021-12-31T11:32:04.076Z"
   },
   {
    "duration": 27,
    "start_time": "2021-12-31T11:32:06.040Z"
   },
   {
    "duration": 1902,
    "start_time": "2021-12-31T11:32:06.069Z"
   },
   {
    "duration": 13,
    "start_time": "2021-12-31T11:32:07.973Z"
   },
   {
    "duration": 4,
    "start_time": "2021-12-31T11:32:07.989Z"
   },
   {
    "duration": 8,
    "start_time": "2021-12-31T11:32:07.996Z"
   },
   {
    "duration": 12,
    "start_time": "2021-12-31T11:32:08.011Z"
   },
   {
    "duration": 43,
    "start_time": "2021-12-31T11:32:08.026Z"
   },
   {
    "duration": 18,
    "start_time": "2021-12-31T11:32:08.071Z"
   },
   {
    "duration": 417,
    "start_time": "2021-12-31T11:32:08.091Z"
   },
   {
    "duration": 2597,
    "start_time": "2021-12-31T11:32:08.510Z"
   },
   {
    "duration": 20,
    "start_time": "2021-12-31T11:32:11.109Z"
   },
   {
    "duration": 56,
    "start_time": "2021-12-31T11:32:11.132Z"
   },
   {
    "duration": 32,
    "start_time": "2021-12-31T11:32:11.191Z"
   },
   {
    "duration": 7387,
    "start_time": "2021-12-31T11:32:11.226Z"
   },
   {
    "duration": 2652,
    "start_time": "2021-12-31T11:32:18.615Z"
   },
   {
    "duration": 37,
    "start_time": "2021-12-31T11:32:21.270Z"
   },
   {
    "duration": 67,
    "start_time": "2021-12-31T11:32:21.309Z"
   },
   {
    "duration": 19,
    "start_time": "2021-12-31T11:32:21.379Z"
   },
   {
    "duration": 38,
    "start_time": "2021-12-31T11:32:29.325Z"
   },
   {
    "duration": 110,
    "start_time": "2021-12-31T11:33:32.061Z"
   },
   {
    "duration": 20,
    "start_time": "2021-12-31T11:34:05.491Z"
   },
   {
    "duration": 19,
    "start_time": "2021-12-31T11:34:53.945Z"
   },
   {
    "duration": 357,
    "start_time": "2021-12-31T11:37:12.932Z"
   },
   {
    "duration": 272,
    "start_time": "2021-12-31T11:37:27.013Z"
   },
   {
    "duration": 250,
    "start_time": "2021-12-31T11:37:58.851Z"
   },
   {
    "duration": 269,
    "start_time": "2021-12-31T11:38:08.102Z"
   },
   {
    "duration": 254,
    "start_time": "2021-12-31T11:38:15.771Z"
   },
   {
    "duration": 339,
    "start_time": "2021-12-31T11:38:16.029Z"
   },
   {
    "duration": 6,
    "start_time": "2021-12-31T11:38:16.371Z"
   },
   {
    "duration": 16,
    "start_time": "2021-12-31T11:38:16.379Z"
   },
   {
    "duration": 41,
    "start_time": "2021-12-31T11:38:16.397Z"
   },
   {
    "duration": 385,
    "start_time": "2021-12-31T11:38:16.468Z"
   },
   {
    "duration": 16,
    "start_time": "2021-12-31T11:38:16.856Z"
   },
   {
    "duration": 716,
    "start_time": "2021-12-31T11:38:16.876Z"
   },
   {
    "duration": 325,
    "start_time": "2021-12-31T11:38:17.596Z"
   },
   {
    "duration": 683,
    "start_time": "2021-12-31T11:38:17.924Z"
   },
   {
    "duration": 8,
    "start_time": "2021-12-31T11:38:18.609Z"
   },
   {
    "duration": 9,
    "start_time": "2021-12-31T11:38:18.622Z"
   },
   {
    "duration": 733,
    "start_time": "2021-12-31T11:38:18.634Z"
   },
   {
    "duration": 6,
    "start_time": "2021-12-31T11:38:19.369Z"
   },
   {
    "duration": 42,
    "start_time": "2021-12-31T11:38:19.378Z"
   },
   {
    "duration": 8,
    "start_time": "2021-12-31T11:38:19.423Z"
   },
   {
    "duration": 27,
    "start_time": "2021-12-31T11:38:19.468Z"
   },
   {
    "duration": 15014,
    "start_time": "2021-12-31T11:38:19.499Z"
   },
   {
    "duration": 61,
    "start_time": "2021-12-31T11:38:34.516Z"
   },
   {
    "duration": 26,
    "start_time": "2021-12-31T11:38:34.580Z"
   },
   {
    "duration": 2033,
    "start_time": "2021-12-31T11:38:34.609Z"
   },
   {
    "duration": 29,
    "start_time": "2021-12-31T11:38:36.644Z"
   },
   {
    "duration": 1937,
    "start_time": "2021-12-31T11:38:36.678Z"
   },
   {
    "duration": 15,
    "start_time": "2021-12-31T11:38:38.617Z"
   },
   {
    "duration": 5,
    "start_time": "2021-12-31T11:38:38.635Z"
   },
   {
    "duration": 24,
    "start_time": "2021-12-31T11:38:38.643Z"
   },
   {
    "duration": 18,
    "start_time": "2021-12-31T11:38:38.670Z"
   },
   {
    "duration": 5,
    "start_time": "2021-12-31T11:38:38.691Z"
   },
   {
    "duration": 21,
    "start_time": "2021-12-31T11:38:38.699Z"
   },
   {
    "duration": 417,
    "start_time": "2021-12-31T11:38:38.723Z"
   },
   {
    "duration": 2580,
    "start_time": "2021-12-31T11:38:39.143Z"
   },
   {
    "duration": 20,
    "start_time": "2021-12-31T11:38:41.725Z"
   },
   {
    "duration": 177,
    "start_time": "2021-12-31T11:38:41.747Z"
   },
   {
    "duration": 52,
    "start_time": "2021-12-31T11:38:41.927Z"
   },
   {
    "duration": 7446,
    "start_time": "2021-12-31T11:38:41.981Z"
   },
   {
    "duration": 2530,
    "start_time": "2021-12-31T11:38:49.429Z"
   },
   {
    "duration": 35,
    "start_time": "2021-12-31T11:38:51.962Z"
   },
   {
    "duration": 37,
    "start_time": "2021-12-31T11:38:51.999Z"
   },
   {
    "duration": 20,
    "start_time": "2021-12-31T11:38:52.067Z"
   },
   {
    "duration": 20,
    "start_time": "2021-12-31T11:38:57.581Z"
   },
   {
    "duration": 17,
    "start_time": "2021-12-31T11:39:06.241Z"
   },
   {
    "duration": 261,
    "start_time": "2021-12-31T11:39:30.131Z"
   },
   {
    "duration": 329,
    "start_time": "2021-12-31T11:39:30.394Z"
   },
   {
    "duration": 6,
    "start_time": "2021-12-31T11:39:30.726Z"
   },
   {
    "duration": 32,
    "start_time": "2021-12-31T11:39:30.735Z"
   },
   {
    "duration": 39,
    "start_time": "2021-12-31T11:39:30.770Z"
   },
   {
    "duration": 410,
    "start_time": "2021-12-31T11:39:30.811Z"
   },
   {
    "duration": 11,
    "start_time": "2021-12-31T11:39:31.224Z"
   },
   {
    "duration": 755,
    "start_time": "2021-12-31T11:39:31.240Z"
   },
   {
    "duration": 341,
    "start_time": "2021-12-31T11:39:31.999Z"
   },
   {
    "duration": 673,
    "start_time": "2021-12-31T11:39:32.342Z"
   },
   {
    "duration": 9,
    "start_time": "2021-12-31T11:39:33.018Z"
   },
   {
    "duration": 11,
    "start_time": "2021-12-31T11:39:33.029Z"
   },
   {
    "duration": 733,
    "start_time": "2021-12-31T11:39:33.043Z"
   },
   {
    "duration": 5,
    "start_time": "2021-12-31T11:39:33.778Z"
   },
   {
    "duration": 43,
    "start_time": "2021-12-31T11:39:33.785Z"
   },
   {
    "duration": 7,
    "start_time": "2021-12-31T11:39:33.830Z"
   },
   {
    "duration": 51,
    "start_time": "2021-12-31T11:39:33.839Z"
   },
   {
    "duration": 15613,
    "start_time": "2021-12-31T11:39:33.893Z"
   },
   {
    "duration": 40,
    "start_time": "2021-12-31T11:39:49.509Z"
   },
   {
    "duration": 25,
    "start_time": "2021-12-31T11:39:49.567Z"
   },
   {
    "duration": 1978,
    "start_time": "2021-12-31T11:39:49.595Z"
   },
   {
    "duration": 18,
    "start_time": "2021-12-31T11:39:51.575Z"
   },
   {
    "duration": 1884,
    "start_time": "2021-12-31T11:39:51.598Z"
   },
   {
    "duration": 15,
    "start_time": "2021-12-31T11:39:53.485Z"
   },
   {
    "duration": 5,
    "start_time": "2021-12-31T11:39:53.503Z"
   },
   {
    "duration": 6,
    "start_time": "2021-12-31T11:39:53.510Z"
   },
   {
    "duration": 13,
    "start_time": "2021-12-31T11:39:53.519Z"
   },
   {
    "duration": 5,
    "start_time": "2021-12-31T11:39:53.568Z"
   },
   {
    "duration": 18,
    "start_time": "2021-12-31T11:39:53.575Z"
   },
   {
    "duration": 426,
    "start_time": "2021-12-31T11:39:53.595Z"
   },
   {
    "duration": 2552,
    "start_time": "2021-12-31T11:39:54.023Z"
   },
   {
    "duration": 20,
    "start_time": "2021-12-31T11:39:56.578Z"
   },
   {
    "duration": 39,
    "start_time": "2021-12-31T11:39:56.600Z"
   },
   {
    "duration": 56,
    "start_time": "2021-12-31T11:39:56.642Z"
   },
   {
    "duration": 7355,
    "start_time": "2021-12-31T11:39:56.701Z"
   },
   {
    "duration": 2528,
    "start_time": "2021-12-31T11:40:04.058Z"
   },
   {
    "duration": 36,
    "start_time": "2021-12-31T11:40:06.589Z"
   },
   {
    "duration": 63,
    "start_time": "2021-12-31T11:40:06.627Z"
   },
   {
    "duration": 19,
    "start_time": "2021-12-31T11:40:06.693Z"
   },
   {
    "duration": 18,
    "start_time": "2021-12-31T11:40:15.643Z"
   },
   {
    "duration": 19,
    "start_time": "2021-12-31T11:42:03.254Z"
   },
   {
    "duration": 51,
    "start_time": "2021-12-31T11:42:26.361Z"
   },
   {
    "duration": 54,
    "start_time": "2021-12-31T11:43:52.429Z"
   },
   {
    "duration": 22,
    "start_time": "2021-12-31T11:44:01.511Z"
   },
   {
    "duration": 22,
    "start_time": "2021-12-31T11:44:15.920Z"
   },
   {
    "duration": 247,
    "start_time": "2021-12-31T11:44:41.471Z"
   },
   {
    "duration": 336,
    "start_time": "2021-12-31T11:44:41.721Z"
   },
   {
    "duration": 11,
    "start_time": "2021-12-31T11:44:42.060Z"
   },
   {
    "duration": 15,
    "start_time": "2021-12-31T11:44:42.073Z"
   },
   {
    "duration": 39,
    "start_time": "2021-12-31T11:44:42.090Z"
   },
   {
    "duration": 420,
    "start_time": "2021-12-31T11:44:42.131Z"
   },
   {
    "duration": 16,
    "start_time": "2021-12-31T11:44:42.554Z"
   },
   {
    "duration": 727,
    "start_time": "2021-12-31T11:44:42.572Z"
   },
   {
    "duration": 421,
    "start_time": "2021-12-31T11:44:43.304Z"
   },
   {
    "duration": 689,
    "start_time": "2021-12-31T11:44:43.730Z"
   },
   {
    "duration": 10,
    "start_time": "2021-12-31T11:44:44.422Z"
   },
   {
    "duration": 32,
    "start_time": "2021-12-31T11:44:44.435Z"
   },
   {
    "duration": 856,
    "start_time": "2021-12-31T11:44:44.470Z"
   },
   {
    "duration": 5,
    "start_time": "2021-12-31T11:44:45.328Z"
   },
   {
    "duration": 58,
    "start_time": "2021-12-31T11:44:45.335Z"
   },
   {
    "duration": 6,
    "start_time": "2021-12-31T11:44:45.395Z"
   },
   {
    "duration": 30,
    "start_time": "2021-12-31T11:44:45.403Z"
   },
   {
    "duration": 15444,
    "start_time": "2021-12-31T11:44:45.435Z"
   },
   {
    "duration": 39,
    "start_time": "2021-12-31T11:45:00.881Z"
   },
   {
    "duration": 52,
    "start_time": "2021-12-31T11:45:00.922Z"
   },
   {
    "duration": 1934,
    "start_time": "2021-12-31T11:45:00.976Z"
   },
   {
    "duration": 16,
    "start_time": "2021-12-31T11:45:02.912Z"
   },
   {
    "duration": 1913,
    "start_time": "2021-12-31T11:45:02.930Z"
   },
   {
    "duration": 27,
    "start_time": "2021-12-31T11:45:04.846Z"
   },
   {
    "duration": 6,
    "start_time": "2021-12-31T11:45:04.876Z"
   },
   {
    "duration": 10,
    "start_time": "2021-12-31T11:45:04.884Z"
   },
   {
    "duration": 12,
    "start_time": "2021-12-31T11:45:04.899Z"
   },
   {
    "duration": 5,
    "start_time": "2021-12-31T11:45:04.914Z"
   },
   {
    "duration": 51,
    "start_time": "2021-12-31T11:45:04.921Z"
   },
   {
    "duration": 537,
    "start_time": "2021-12-31T11:45:04.975Z"
   },
   {
    "duration": 3580,
    "start_time": "2021-12-31T11:45:05.515Z"
   },
   {
    "duration": 20,
    "start_time": "2021-12-31T11:45:09.097Z"
   },
   {
    "duration": 60,
    "start_time": "2021-12-31T11:45:09.119Z"
   },
   {
    "duration": 35,
    "start_time": "2021-12-31T11:45:09.181Z"
   },
   {
    "duration": 7862,
    "start_time": "2021-12-31T11:45:09.218Z"
   },
   {
    "duration": 2544,
    "start_time": "2021-12-31T11:45:17.083Z"
   },
   {
    "duration": 50,
    "start_time": "2021-12-31T11:45:19.630Z"
   },
   {
    "duration": 136,
    "start_time": "2021-12-31T11:45:19.682Z"
   },
   {
    "duration": 18,
    "start_time": "2021-12-31T11:45:19.820Z"
   },
   {
    "duration": 44,
    "start_time": "2021-12-31T11:45:19.840Z"
   },
   {
    "duration": 1351,
    "start_time": "2021-12-31T11:45:19.886Z"
   },
   {
    "duration": 325,
    "start_time": "2021-12-31T11:46:13.372Z"
   },
   {
    "duration": 12,
    "start_time": "2021-12-31T11:46:18.127Z"
   },
   {
    "duration": 11,
    "start_time": "2021-12-31T11:47:07.959Z"
   },
   {
    "duration": 311,
    "start_time": "2021-12-31T11:47:48.979Z"
   },
   {
    "duration": 6,
    "start_time": "2021-12-31T11:48:31.513Z"
   },
   {
    "duration": 5,
    "start_time": "2021-12-31T11:49:43.743Z"
   },
   {
    "duration": 4,
    "start_time": "2021-12-31T11:49:55.754Z"
   },
   {
    "duration": 3,
    "start_time": "2021-12-31T11:50:03.167Z"
   },
   {
    "duration": 4,
    "start_time": "2021-12-31T11:50:40.835Z"
   },
   {
    "duration": 16,
    "start_time": "2021-12-31T11:51:13.201Z"
   },
   {
    "duration": 38,
    "start_time": "2021-12-31T11:51:33.541Z"
   },
   {
    "duration": 116,
    "start_time": "2021-12-31T11:52:59.669Z"
   },
   {
    "duration": 318,
    "start_time": "2021-12-31T11:54:56.182Z"
   },
   {
    "duration": 902,
    "start_time": "2021-12-31T11:56:47.033Z"
   },
   {
    "duration": 40,
    "start_time": "2021-12-31T11:58:15.681Z"
   },
   {
    "duration": 45,
    "start_time": "2021-12-31T11:58:51.162Z"
   },
   {
    "duration": 42,
    "start_time": "2021-12-31T11:58:58.749Z"
   },
   {
    "duration": 21,
    "start_time": "2021-12-31T11:59:41.678Z"
   },
   {
    "duration": 26,
    "start_time": "2021-12-31T12:00:05.837Z"
   },
   {
    "duration": 300,
    "start_time": "2021-12-31T12:00:12.476Z"
   },
   {
    "duration": 314,
    "start_time": "2021-12-31T12:00:27.755Z"
   },
   {
    "duration": 35,
    "start_time": "2021-12-31T12:00:48.878Z"
   },
   {
    "duration": 15,
    "start_time": "2021-12-31T12:01:00.240Z"
   },
   {
    "duration": 35,
    "start_time": "2021-12-31T12:01:10.953Z"
   },
   {
    "duration": 362,
    "start_time": "2021-12-31T12:02:29.311Z"
   },
   {
    "duration": 383,
    "start_time": "2021-12-31T12:02:48.410Z"
   },
   {
    "duration": 897,
    "start_time": "2021-12-31T12:03:54.795Z"
   },
   {
    "duration": 296,
    "start_time": "2021-12-31T12:08:27.221Z"
   },
   {
    "duration": 340,
    "start_time": "2021-12-31T12:08:27.520Z"
   },
   {
    "duration": 8,
    "start_time": "2021-12-31T12:08:27.868Z"
   },
   {
    "duration": 13,
    "start_time": "2021-12-31T12:08:27.879Z"
   },
   {
    "duration": 74,
    "start_time": "2021-12-31T12:08:27.895Z"
   },
   {
    "duration": 396,
    "start_time": "2021-12-31T12:08:27.972Z"
   },
   {
    "duration": 14,
    "start_time": "2021-12-31T12:08:28.370Z"
   },
   {
    "duration": 740,
    "start_time": "2021-12-31T12:08:28.390Z"
   },
   {
    "duration": 327,
    "start_time": "2021-12-31T12:08:29.134Z"
   },
   {
    "duration": 706,
    "start_time": "2021-12-31T12:08:29.467Z"
   },
   {
    "duration": 12,
    "start_time": "2021-12-31T12:08:30.177Z"
   },
   {
    "duration": 12,
    "start_time": "2021-12-31T12:08:30.192Z"
   },
   {
    "duration": 741,
    "start_time": "2021-12-31T12:08:30.207Z"
   },
   {
    "duration": 16,
    "start_time": "2021-12-31T12:08:30.951Z"
   },
   {
    "duration": 44,
    "start_time": "2021-12-31T12:08:30.970Z"
   },
   {
    "duration": 17,
    "start_time": "2021-12-31T12:08:31.018Z"
   },
   {
    "duration": 47,
    "start_time": "2021-12-31T12:08:31.038Z"
   },
   {
    "duration": 15260,
    "start_time": "2021-12-31T12:08:31.088Z"
   },
   {
    "duration": 49,
    "start_time": "2021-12-31T12:08:46.350Z"
   },
   {
    "duration": 25,
    "start_time": "2021-12-31T12:08:46.402Z"
   },
   {
    "duration": 2022,
    "start_time": "2021-12-31T12:08:46.429Z"
   },
   {
    "duration": 20,
    "start_time": "2021-12-31T12:08:48.453Z"
   },
   {
    "duration": 1870,
    "start_time": "2021-12-31T12:08:48.479Z"
   },
   {
    "duration": 23,
    "start_time": "2021-12-31T12:08:50.352Z"
   },
   {
    "duration": 4,
    "start_time": "2021-12-31T12:08:50.377Z"
   },
   {
    "duration": 7,
    "start_time": "2021-12-31T12:08:50.383Z"
   },
   {
    "duration": 11,
    "start_time": "2021-12-31T12:08:50.392Z"
   },
   {
    "duration": 4,
    "start_time": "2021-12-31T12:08:50.406Z"
   },
   {
    "duration": 19,
    "start_time": "2021-12-31T12:08:50.412Z"
   },
   {
    "duration": 413,
    "start_time": "2021-12-31T12:08:50.468Z"
   },
   {
    "duration": 2545,
    "start_time": "2021-12-31T12:08:50.883Z"
   },
   {
    "duration": 19,
    "start_time": "2021-12-31T12:08:53.431Z"
   },
   {
    "duration": 51,
    "start_time": "2021-12-31T12:08:53.453Z"
   },
   {
    "duration": 34,
    "start_time": "2021-12-31T12:08:53.507Z"
   },
   {
    "duration": 7438,
    "start_time": "2021-12-31T12:08:53.568Z"
   },
   {
    "duration": 2671,
    "start_time": "2021-12-31T12:09:01.008Z"
   },
   {
    "duration": 36,
    "start_time": "2021-12-31T12:09:03.681Z"
   },
   {
    "duration": 66,
    "start_time": "2021-12-31T12:09:03.720Z"
   },
   {
    "duration": 18,
    "start_time": "2021-12-31T12:09:03.789Z"
   },
   {
    "duration": 19,
    "start_time": "2021-12-31T12:09:03.809Z"
   },
   {
    "duration": 1471,
    "start_time": "2021-12-31T12:09:03.830Z"
   },
   {
    "duration": 347,
    "start_time": "2021-12-31T12:09:05.303Z"
   },
   {
    "duration": 23,
    "start_time": "2021-12-31T12:09:05.653Z"
   },
   {
    "duration": 10,
    "start_time": "2021-12-31T12:09:05.679Z"
   },
   {
    "duration": 345,
    "start_time": "2021-12-31T12:09:05.692Z"
   },
   {
    "duration": 4,
    "start_time": "2021-12-31T12:09:06.040Z"
   },
   {
    "duration": 30,
    "start_time": "2021-12-31T12:09:06.047Z"
   },
   {
    "duration": 40,
    "start_time": "2021-12-31T12:09:06.080Z"
   },
   {
    "duration": 1057,
    "start_time": "2021-12-31T12:09:06.123Z"
   },
   {
    "duration": 46,
    "start_time": "2021-12-31T12:09:07.182Z"
   },
   {
    "duration": 51,
    "start_time": "2021-12-31T12:09:07.230Z"
   },
   {
    "duration": 309,
    "start_time": "2021-12-31T12:09:07.284Z"
   },
   {
    "duration": 39,
    "start_time": "2021-12-31T12:09:07.595Z"
   },
   {
    "duration": 36,
    "start_time": "2021-12-31T12:09:07.636Z"
   },
   {
    "duration": 35,
    "start_time": "2021-12-31T12:09:07.674Z"
   },
   {
    "duration": 937,
    "start_time": "2021-12-31T12:09:07.712Z"
   },
   {
    "duration": 28,
    "start_time": "2021-12-31T12:12:14.341Z"
   },
   {
    "duration": 263,
    "start_time": "2021-12-31T12:15:20.541Z"
   },
   {
    "duration": 335,
    "start_time": "2021-12-31T12:15:20.807Z"
   },
   {
    "duration": 6,
    "start_time": "2021-12-31T12:15:21.145Z"
   },
   {
    "duration": 23,
    "start_time": "2021-12-31T12:15:21.154Z"
   },
   {
    "duration": 42,
    "start_time": "2021-12-31T12:15:21.179Z"
   },
   {
    "duration": 406,
    "start_time": "2021-12-31T12:15:21.223Z"
   },
   {
    "duration": 12,
    "start_time": "2021-12-31T12:15:21.631Z"
   },
   {
    "duration": 771,
    "start_time": "2021-12-31T12:15:21.646Z"
   },
   {
    "duration": 324,
    "start_time": "2021-12-31T12:15:22.421Z"
   },
   {
    "duration": 673,
    "start_time": "2021-12-31T12:15:22.748Z"
   },
   {
    "duration": 9,
    "start_time": "2021-12-31T12:15:23.423Z"
   },
   {
    "duration": 7,
    "start_time": "2021-12-31T12:15:23.435Z"
   },
   {
    "duration": 747,
    "start_time": "2021-12-31T12:15:23.445Z"
   },
   {
    "duration": 5,
    "start_time": "2021-12-31T12:15:24.194Z"
   },
   {
    "duration": 43,
    "start_time": "2021-12-31T12:15:24.201Z"
   },
   {
    "duration": 24,
    "start_time": "2021-12-31T12:15:24.247Z"
   },
   {
    "duration": 26,
    "start_time": "2021-12-31T12:15:24.274Z"
   },
   {
    "duration": 15542,
    "start_time": "2021-12-31T12:15:24.302Z"
   },
   {
    "duration": 45,
    "start_time": "2021-12-31T12:15:39.846Z"
   },
   {
    "duration": 28,
    "start_time": "2021-12-31T12:15:39.893Z"
   },
   {
    "duration": 2179,
    "start_time": "2021-12-31T12:15:39.923Z"
   },
   {
    "duration": 21,
    "start_time": "2021-12-31T12:15:42.104Z"
   },
   {
    "duration": 1892,
    "start_time": "2021-12-31T12:15:42.128Z"
   },
   {
    "duration": 16,
    "start_time": "2021-12-31T12:15:44.022Z"
   },
   {
    "duration": 28,
    "start_time": "2021-12-31T12:15:44.041Z"
   },
   {
    "duration": 7,
    "start_time": "2021-12-31T12:15:44.072Z"
   },
   {
    "duration": 13,
    "start_time": "2021-12-31T12:15:44.085Z"
   },
   {
    "duration": 4,
    "start_time": "2021-12-31T12:15:44.102Z"
   },
   {
    "duration": 15,
    "start_time": "2021-12-31T12:15:44.109Z"
   },
   {
    "duration": 451,
    "start_time": "2021-12-31T12:15:44.127Z"
   },
   {
    "duration": 2550,
    "start_time": "2021-12-31T12:15:44.580Z"
   },
   {
    "duration": 20,
    "start_time": "2021-12-31T12:15:47.132Z"
   },
   {
    "duration": 152,
    "start_time": "2021-12-31T12:15:47.154Z"
   },
   {
    "duration": 35,
    "start_time": "2021-12-31T12:15:47.309Z"
   },
   {
    "duration": 7413,
    "start_time": "2021-12-31T12:15:47.346Z"
   },
   {
    "duration": 2511,
    "start_time": "2021-12-31T12:15:54.766Z"
   },
   {
    "duration": 36,
    "start_time": "2021-12-31T12:15:57.279Z"
   },
   {
    "duration": 65,
    "start_time": "2021-12-31T12:15:57.317Z"
   },
   {
    "duration": 18,
    "start_time": "2021-12-31T12:15:57.385Z"
   },
   {
    "duration": 19,
    "start_time": "2021-12-31T12:15:57.405Z"
   },
   {
    "duration": 1357,
    "start_time": "2021-12-31T12:15:57.426Z"
   },
   {
    "duration": 343,
    "start_time": "2021-12-31T12:15:58.786Z"
   },
   {
    "duration": 11,
    "start_time": "2021-12-31T12:15:59.132Z"
   },
   {
    "duration": 29,
    "start_time": "2021-12-31T12:15:59.145Z"
   },
   {
    "duration": 321,
    "start_time": "2021-12-31T12:15:59.177Z"
   },
   {
    "duration": 5,
    "start_time": "2021-12-31T12:15:59.501Z"
   },
   {
    "duration": 21,
    "start_time": "2021-12-31T12:15:59.508Z"
   },
   {
    "duration": 78,
    "start_time": "2021-12-31T12:15:59.531Z"
   },
   {
    "duration": 1031,
    "start_time": "2021-12-31T12:15:59.612Z"
   },
   {
    "duration": 54,
    "start_time": "2021-12-31T12:16:00.645Z"
   },
   {
    "duration": 30,
    "start_time": "2021-12-31T12:16:00.701Z"
   },
   {
    "duration": 342,
    "start_time": "2021-12-31T12:16:00.734Z"
   },
   {
    "duration": 39,
    "start_time": "2021-12-31T12:16:01.080Z"
   },
   {
    "duration": 46,
    "start_time": "2021-12-31T12:16:01.122Z"
   },
   {
    "duration": 41,
    "start_time": "2021-12-31T12:16:01.171Z"
   },
   {
    "duration": 960,
    "start_time": "2021-12-31T12:16:01.215Z"
   },
   {
    "duration": 12,
    "start_time": "2021-12-31T13:00:23.140Z"
   }
  ],
  "kernelspec": {
   "display_name": "Python 3",
   "language": "python",
   "name": "python3"
  },
  "language_info": {
   "codemirror_mode": {
    "name": "ipython",
    "version": 3
   },
   "file_extension": ".py",
   "mimetype": "text/x-python",
   "name": "python",
   "nbconvert_exporter": "python",
   "pygments_lexer": "ipython3",
   "version": "3.7.13"
  },
  "toc": {
   "base_numbering": 1,
   "nav_menu": {},
   "number_sections": true,
   "sideBar": true,
   "skip_h1_title": true,
   "title_cell": "Содержание",
   "title_sidebar": "Contents",
   "toc_cell": true,
   "toc_position": {},
   "toc_section_display": true,
   "toc_window_display": true
  }
 },
 "nbformat": 4,
 "nbformat_minor": 2
}
