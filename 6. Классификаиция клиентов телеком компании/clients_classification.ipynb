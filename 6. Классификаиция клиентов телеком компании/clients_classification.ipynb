{
 "cells": [
  {
   "cell_type": "markdown",
   "metadata": {},
   "source": [
    "# Рекомендация тарифов"
   ]
  },
  {
   "cell_type": "markdown",
   "metadata": {},
   "source": [
    "В вашем распоряжении данные о поведении клиентов, которые уже перешли на эти тарифы (из проекта курса «Статистический анализ данных»). Нужно построить модель для задачи классификации, которая выберет подходящий тариф. Предобработка данных не понадобится — вы её уже сделали.\n",
    "\n",
    "Постройте модель с максимально большим значением *accuracy*. Чтобы сдать проект успешно, нужно довести долю правильных ответов по крайней мере до 0.75. Проверьте *accuracy* на тестовой выборке самостоятельно."
   ]
  },
  {
   "cell_type": "markdown",
   "metadata": {},
   "source": [
    "## Откройте и изучите файл"
   ]
  },
  {
   "cell_type": "code",
   "execution_count": 22,
   "metadata": {},
   "outputs": [
    {
     "name": "stdout",
     "output_type": "stream",
     "text": [
      "<class 'pandas.core.frame.DataFrame'>\n",
      "RangeIndex: 3214 entries, 0 to 3213\n",
      "Data columns (total 5 columns):\n",
      "calls       3214 non-null float64\n",
      "minutes     3214 non-null float64\n",
      "messages    3214 non-null float64\n",
      "mb_used     3214 non-null float64\n",
      "is_ultra    3214 non-null int64\n",
      "dtypes: float64(4), int64(1)\n",
      "memory usage: 125.7 KB\n"
     ]
    }
   ],
   "source": [
    "import pandas as pd\n",
    "import warnings\n",
    "warnings.filterwarnings('ignore')\n",
    "from sklearn.model_selection import train_test_split\n",
    "from sklearn.tree import DecisionTreeClassifier\n",
    "from sklearn.ensemble import RandomForestClassifier\n",
    "from sklearn.linear_model import LogisticRegression\n",
    "from sklearn.metrics import accuracy_score\n",
    "\n",
    "df = pd.read_csv('/datasets/users_behavior.csv')\n",
    "df.info()"
   ]
  },
  {
   "cell_type": "markdown",
   "metadata": {},
   "source": [
    "**Вывод**   \n",
    "Датасет содержит 3214 наблюдений, все переменные приведены к корректным типам."
   ]
  },
  {
   "cell_type": "markdown",
   "metadata": {},
   "source": [
    "Проверим данные на мультиколлинеарность факторов. Для этого рассчитаем попарные коэффиценты корреляций."
   ]
  },
  {
   "cell_type": "code",
   "execution_count": 23,
   "metadata": {},
   "outputs": [
    {
     "data": {
      "text/html": [
       "<div>\n",
       "<style scoped>\n",
       "    .dataframe tbody tr th:only-of-type {\n",
       "        vertical-align: middle;\n",
       "    }\n",
       "\n",
       "    .dataframe tbody tr th {\n",
       "        vertical-align: top;\n",
       "    }\n",
       "\n",
       "    .dataframe thead th {\n",
       "        text-align: right;\n",
       "    }\n",
       "</style>\n",
       "<table border=\"1\" class=\"dataframe\">\n",
       "  <thead>\n",
       "    <tr style=\"text-align: right;\">\n",
       "      <th></th>\n",
       "      <th>calls</th>\n",
       "      <th>minutes</th>\n",
       "      <th>messages</th>\n",
       "      <th>mb_used</th>\n",
       "      <th>is_ultra</th>\n",
       "    </tr>\n",
       "  </thead>\n",
       "  <tbody>\n",
       "    <tr>\n",
       "      <td>calls</td>\n",
       "      <td>1.000000</td>\n",
       "      <td>0.982083</td>\n",
       "      <td>0.177385</td>\n",
       "      <td>0.286442</td>\n",
       "      <td>0.207122</td>\n",
       "    </tr>\n",
       "    <tr>\n",
       "      <td>minutes</td>\n",
       "      <td>0.982083</td>\n",
       "      <td>1.000000</td>\n",
       "      <td>0.173110</td>\n",
       "      <td>0.280967</td>\n",
       "      <td>0.206955</td>\n",
       "    </tr>\n",
       "    <tr>\n",
       "      <td>messages</td>\n",
       "      <td>0.177385</td>\n",
       "      <td>0.173110</td>\n",
       "      <td>1.000000</td>\n",
       "      <td>0.195721</td>\n",
       "      <td>0.203830</td>\n",
       "    </tr>\n",
       "    <tr>\n",
       "      <td>mb_used</td>\n",
       "      <td>0.286442</td>\n",
       "      <td>0.280967</td>\n",
       "      <td>0.195721</td>\n",
       "      <td>1.000000</td>\n",
       "      <td>0.198568</td>\n",
       "    </tr>\n",
       "    <tr>\n",
       "      <td>is_ultra</td>\n",
       "      <td>0.207122</td>\n",
       "      <td>0.206955</td>\n",
       "      <td>0.203830</td>\n",
       "      <td>0.198568</td>\n",
       "      <td>1.000000</td>\n",
       "    </tr>\n",
       "  </tbody>\n",
       "</table>\n",
       "</div>"
      ],
      "text/plain": [
       "             calls   minutes  messages   mb_used  is_ultra\n",
       "calls     1.000000  0.982083  0.177385  0.286442  0.207122\n",
       "minutes   0.982083  1.000000  0.173110  0.280967  0.206955\n",
       "messages  0.177385  0.173110  1.000000  0.195721  0.203830\n",
       "mb_used   0.286442  0.280967  0.195721  1.000000  0.198568\n",
       "is_ultra  0.207122  0.206955  0.203830  0.198568  1.000000"
      ]
     },
     "execution_count": 23,
     "metadata": {},
     "output_type": "execute_result"
    }
   ],
   "source": [
    "df.corr()"
   ]
  },
  {
   "cell_type": "markdown",
   "metadata": {},
   "source": [
    "Из таблицы видно, что между переменными calls и minutes существует высокая степень зависимости (коэффициент корреляции по модулю очень близок к 1). Убедимся в прямой зависимости, также построив график."
   ]
  },
  {
   "cell_type": "code",
   "execution_count": 25,
   "metadata": {},
   "outputs": [
    {
     "data": {
      "image/png": "[encoded data removed]",
      "text/plain": [
       "<Figure size 432x288 with 1 Axes>"
      ]
     },
     "metadata": {
      "needs_background": "light"
     },
     "output_type": "display_data"
    }
   ],
   "source": [
    "df.plot(kind='scatter', x='calls', y='minutes', alpha=0.5);"
   ]
  },
  {
   "cell_type": "markdown",
   "metadata": {},
   "source": [
    "Зависимость подтверждается и графически => исключим один из факторов (calls) в дальнейшем анализе."
   ]
  },
  {
   "cell_type": "markdown",
   "metadata": {},
   "source": [
    "## Разбейте данные на выборки"
   ]
  },
  {
   "cell_type": "markdown",
   "metadata": {},
   "source": [
    "Поскольку нет спрятанной тестовой выборки, разделим основную на:\n",
    "1. Обучающую - 60% наблюдений\n",
    "2. Валидационную - 20% наблюдений\n",
    "3. Тестовую - 20% наблюдений"
   ]
  },
  {
   "cell_type": "code",
   "execution_count": 26,
   "metadata": {},
   "outputs": [],
   "source": [
    "df_train, df_valid = train_test_split(df, test_size=0.4, random_state=12345)\n",
    "df_valid, df_test = train_test_split(df_valid, test_size=0.5, random_state=12345)"
   ]
  },
  {
   "cell_type": "markdown",
   "metadata": {},
   "source": [
    "Выделим в каждой выборке target (категорийная переменная с тарифом) и features (набор параметров, представленный остальными переменными)"
   ]
  },
  {
   "cell_type": "code",
   "execution_count": 27,
   "metadata": {},
   "outputs": [],
   "source": [
    "df_train_target = df_train['is_ultra']\n",
    "df_train_features = df_train.drop(['is_ultra','calls'], axis=1)\n",
    "\n",
    "df_valid_target = df_valid['is_ultra']\n",
    "df_valid_features = df_valid.drop(['is_ultra','calls'], axis=1)\n",
    "\n",
    "df_test_target = df_test['is_ultra']\n",
    "df_test_features = df_test.drop(['is_ultra','calls'], axis=1)"
   ]
  },
  {
   "cell_type": "markdown",
   "metadata": {},
   "source": [
    "## Исследуйте модели"
   ]
  },
  {
   "cell_type": "markdown",
   "metadata": {},
   "source": [
    "Для задачи классификации оценим 3 типа моделей:\n",
    "1. Решающее дерево (с глубиной от 2 до 10)\n",
    "2. Случайный лес (с глубиной от 2 до 10, количеством независимых деревьев от 2 до 10)\n",
    "3. Логистическая регрессия"
   ]
  },
  {
   "cell_type": "markdown",
   "metadata": {},
   "source": [
    "### Решающее дерево"
   ]
  },
  {
   "cell_type": "code",
   "execution_count": 28,
   "metadata": {},
   "outputs": [
    {
     "name": "stdout",
     "output_type": "stream",
     "text": [
      "Лучшая глубина - 4. Лучшая точность - 0.788\n"
     ]
    }
   ],
   "source": [
    "best_depth_tree = 0\n",
    "best_accuracy_tree = 0\n",
    "\n",
    "for depth in range(2, 11):\n",
    "    model = DecisionTreeClassifier(random_state=12345, max_depth=depth)\n",
    "    model.fit(df_train_features, df_train_target)\n",
    "    prediction = model.predict(df_valid_features)\n",
    "    accuracy = accuracy_score(prediction, df_valid_target)\n",
    "    if accuracy > best_accuracy_tree:\n",
    "        best_depth_tree = depth\n",
    "        best_accuracy_tree = accuracy\n",
    "\n",
    "print(f'Лучшая глубина - {best_depth_tree}. Лучшая точность - {best_accuracy_tree:.3f}')"
   ]
  },
  {
   "cell_type": "markdown",
   "metadata": {},
   "source": [
    "### Случайный лес"
   ]
  },
  {
   "cell_type": "code",
   "execution_count": 29,
   "metadata": {},
   "outputs": [
    {
     "name": "stdout",
     "output_type": "stream",
     "text": [
      "Лучшая глубина - 7, количество деревьев - 9. Лучшая точность - 0.796\n"
     ]
    }
   ],
   "source": [
    "best_depth_forest = 0\n",
    "best_estimator_forest = 0\n",
    "best_accuracy_forest = 0\n",
    "\n",
    "for depth in range(2, 11):\n",
    "    for estimator in range(2,11):\n",
    "        model = RandomForestClassifier(random_state=12345, max_depth=depth, n_estimators = estimator)\n",
    "        model.fit(df_train_features, df_train_target)\n",
    "        prediction = model.predict(df_valid_features)\n",
    "        accuracy = accuracy_score(prediction, df_valid_target)\n",
    "        if accuracy > best_accuracy_forest:\n",
    "            best_depth_forest = depth\n",
    "            best_estimator_forest = estimator\n",
    "            best_accuracy_forest = accuracy\n",
    "\n",
    "print(f'Лучшая глубина - {best_depth_forest}, количество деревьев - {best_estimator_forest}. Лучшая точность - {best_accuracy_forest:.3f}')"
   ]
  },
  {
   "cell_type": "markdown",
   "metadata": {},
   "source": [
    "### Логистическая регрессия"
   ]
  },
  {
   "cell_type": "code",
   "execution_count": 30,
   "metadata": {},
   "outputs": [
    {
     "name": "stdout",
     "output_type": "stream",
     "text": [
      "Точность - 0.708\n"
     ]
    }
   ],
   "source": [
    "model = LogisticRegression()\n",
    "model.fit(df_train_features, df_train_target)\n",
    "prediction = model.predict(df_valid_features)\n",
    "accuracy = accuracy_score(prediction, df_valid_target)\n",
    "print(f'Точность - {accuracy:.3f}')"
   ]
  },
  {
   "cell_type": "markdown",
   "metadata": {},
   "source": [
    "**Вывод**   \n",
    "На валидационной выборке наилучшие результаты показала модель случайного леса с 9 деревьями и глубиной равной 7. Проверим ее качество на тестовой выборке."
   ]
  },
  {
   "cell_type": "markdown",
   "metadata": {},
   "source": [
    "## Проверьте модель на тестовой выборке"
   ]
  },
  {
   "cell_type": "code",
   "execution_count": 31,
   "metadata": {},
   "outputs": [
    {
     "name": "stdout",
     "output_type": "stream",
     "text": [
      "Точность модели составила - 0.804\n"
     ]
    }
   ],
   "source": [
    "model = RandomForestClassifier(random_state=12345, max_depth=best_depth_forest, n_estimators = best_estimator_forest)\n",
    "model.fit(df_train_features, df_train_target)\n",
    "prediction = model.predict(df_test_features)\n",
    "accuracy = accuracy_score(prediction, df_test_target)\n",
    "print(f'Точность модели составила - {accuracy:.3f}')"
   ]
  },
  {
   "cell_type": "markdown",
   "metadata": {},
   "source": [
    "**Вывод**   \n",
    "Точность по-прежнему выше 0.75 => можно остановиться на данной модели."
   ]
  },
  {
   "cell_type": "markdown",
   "metadata": {},
   "source": [
    "## Чек-лист готовности проекта"
   ]
  },
  {
   "cell_type": "markdown",
   "metadata": {},
   "source": [
    "Поставьте 'x' в выполненных пунктах. Далее нажмите Shift+Enter."
   ]
  },
  {
   "cell_type": "markdown",
   "metadata": {},
   "source": [
    "- [x] Jupyter Notebook открыт\n",
    "- [x] Весь код исполняется без ошибок\n",
    "- [x] Ячейки с кодом расположены в порядке исполнения\n",
    "- [x] Выполнено задание 1: данные загружены и изучены\n",
    "- [x] Выполнено задание 2: данные разбиты на три выборки\n",
    "- [x] Выполнено задание 3: проведено исследование моделей\n",
    "    - [x] Рассмотрено больше одной модели\n",
    "    - [x] Рассмотрено хотя бы 3 значения гипепараметров для какой-нибудь модели\n",
    "    - [x] Написаны выводы по результатам исследования\n",
    "- [x] Выполнено задание 3: Проведено тестирование\n",
    "- [x] Удалось достичь accuracy не меньше 0.75\n"
   ]
  },
  {
   "cell_type": "code",
   "execution_count": null,
   "metadata": {},
   "outputs": [],
   "source": []
  }
 ],
 "metadata": {
  "ExecuteTimeLog": [
   {
    "duration": 787,
    "start_time": "2022-02-15T14:28:07.968Z"
   },
   {
    "duration": 393,
    "start_time": "2022-02-15T14:37:01.205Z"
   },
   {
    "duration": 647,
    "start_time": "2022-02-15T14:37:06.337Z"
   },
   {
    "duration": 12,
    "start_time": "2022-02-15T14:37:09.886Z"
   },
   {
    "duration": 9,
    "start_time": "2022-02-15T14:40:45.109Z"
   },
   {
    "duration": 9,
    "start_time": "2022-02-15T14:58:42.483Z"
   },
   {
    "duration": 74,
    "start_time": "2022-02-15T15:53:05.507Z"
   },
   {
    "duration": 1891,
    "start_time": "2022-02-15T15:57:22.112Z"
   },
   {
    "duration": 32,
    "start_time": "2022-02-15T16:00:04.315Z"
   },
   {
    "duration": 40,
    "start_time": "2022-02-15T16:03:49.289Z"
   },
   {
    "duration": 20,
    "start_time": "2022-02-15T16:08:04.655Z"
   },
   {
    "duration": 8,
    "start_time": "2022-02-15T16:08:04.678Z"
   },
   {
    "duration": 8,
    "start_time": "2022-02-15T16:08:04.689Z"
   },
   {
    "duration": 74,
    "start_time": "2022-02-15T16:08:04.699Z"
   },
   {
    "duration": 1899,
    "start_time": "2022-02-15T16:08:04.776Z"
   },
   {
    "duration": 27,
    "start_time": "2022-02-15T16:08:06.678Z"
   },
   {
    "duration": 42,
    "start_time": "2022-02-15T16:08:06.723Z"
   },
   {
    "duration": 1350,
    "start_time": "2022-02-15T19:59:56.155Z"
   },
   {
    "duration": 10,
    "start_time": "2022-02-15T20:01:29.484Z"
   },
   {
    "duration": 12,
    "start_time": "2022-02-15T20:01:30.573Z"
   },
   {
    "duration": 76,
    "start_time": "2022-02-15T20:03:46.021Z"
   },
   {
    "duration": 1911,
    "start_time": "2022-02-15T20:06:38.967Z"
   },
   {
    "duration": 33,
    "start_time": "2022-02-15T20:07:26.890Z"
   },
   {
    "duration": 1382,
    "start_time": "2022-02-15T20:12:44.694Z"
   },
   {
    "duration": 9,
    "start_time": "2022-02-15T20:12:53.692Z"
   },
   {
    "duration": 8,
    "start_time": "2022-02-15T20:12:55.500Z"
   },
   {
    "duration": 72,
    "start_time": "2022-02-15T20:12:58.639Z"
   },
   {
    "duration": 1867,
    "start_time": "2022-02-15T20:12:59.569Z"
   },
   {
    "duration": 25,
    "start_time": "2022-02-15T20:13:01.438Z"
   },
   {
    "duration": 64,
    "start_time": "2022-02-15T20:13:01.466Z"
   },
   {
    "duration": 1515,
    "start_time": "2022-02-16T11:38:51.015Z"
   },
   {
    "duration": 32,
    "start_time": "2022-02-16T11:38:54.461Z"
   },
   {
    "duration": 8546,
    "start_time": "2022-02-16T11:41:30.534Z"
   },
   {
    "duration": 488,
    "start_time": "2022-02-16T11:41:47.185Z"
   },
   {
    "duration": 447,
    "start_time": "2022-02-16T11:42:13.583Z"
   },
   {
    "duration": 420,
    "start_time": "2022-02-16T11:42:23.482Z"
   },
   {
    "duration": 27,
    "start_time": "2022-02-16T11:43:53.386Z"
   },
   {
    "duration": 13,
    "start_time": "2022-02-16T11:43:53.416Z"
   },
   {
    "duration": 552,
    "start_time": "2022-02-16T11:43:53.432Z"
   },
   {
    "duration": 9,
    "start_time": "2022-02-16T11:43:53.987Z"
   },
   {
    "duration": 278,
    "start_time": "2022-02-16T11:44:16.505Z"
   },
   {
    "duration": 11,
    "start_time": "2022-02-16T11:44:23.257Z"
   },
   {
    "duration": 20,
    "start_time": "2022-02-16T11:45:11.211Z"
   },
   {
    "duration": 13,
    "start_time": "2022-02-16T11:45:11.234Z"
   },
   {
    "duration": 525,
    "start_time": "2022-02-16T11:45:11.251Z"
   },
   {
    "duration": 9,
    "start_time": "2022-02-16T11:45:11.779Z"
   },
   {
    "duration": 15,
    "start_time": "2022-02-16T11:45:11.790Z"
   },
   {
    "duration": 70,
    "start_time": "2022-02-16T11:45:20.833Z"
   },
   {
    "duration": 2484,
    "start_time": "2022-02-16T11:45:27.294Z"
   },
   {
    "duration": 15,
    "start_time": "2022-02-16T11:45:37.152Z"
   },
   {
    "duration": 40,
    "start_time": "2022-02-16T11:45:47.158Z"
   },
   {
    "duration": 23,
    "start_time": "2022-02-16T11:46:59.337Z"
   },
   {
    "duration": 14,
    "start_time": "2022-02-16T11:47:04.077Z"
   },
   {
    "duration": 433,
    "start_time": "2022-02-16T11:47:06.897Z"
   },
   {
    "duration": 487,
    "start_time": "2022-02-16T11:47:11.113Z"
   },
   {
    "duration": 10,
    "start_time": "2022-02-16T11:47:22.560Z"
   },
   {
    "duration": 8,
    "start_time": "2022-02-16T11:47:24.657Z"
   },
   {
    "duration": 72,
    "start_time": "2022-02-16T11:47:29.314Z"
   },
   {
    "duration": 1703,
    "start_time": "2022-02-16T11:47:32.456Z"
   },
   {
    "duration": 14,
    "start_time": "2022-02-16T11:47:39.210Z"
   },
   {
    "duration": 37,
    "start_time": "2022-02-16T11:47:43.114Z"
   }
  ],
  "kernelspec": {
   "display_name": "Python 3",
   "language": "python",
   "name": "python3"
  },
  "language_info": {
   "codemirror_mode": {
    "name": "ipython",
    "version": 3
   },
   "file_extension": ".py",
   "mimetype": "text/x-python",
   "name": "python",
   "nbconvert_exporter": "python",
   "pygments_lexer": "ipython3",
   "version": "3.7.13"
  },
  "toc": {
   "base_numbering": 1,
   "nav_menu": {},
   "number_sections": true,
   "sideBar": true,
   "skip_h1_title": true,
   "title_cell": "Table of Contents",
   "title_sidebar": "Contents",
   "toc_cell": false,
   "toc_position": {},
   "toc_section_display": true,
   "toc_window_display": false
  }
 },
 "nbformat": 4,
 "nbformat_minor": 2
}
