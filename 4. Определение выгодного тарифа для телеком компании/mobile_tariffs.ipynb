{
 "cells": [
  {
   "cell_type": "markdown",
   "metadata": {},
   "source": [
    "# Оглавление\n",
    "[1. Первичный анализ и предобработка данных](#Первичный-анализ)<br>\n",
    "&emsp;[1.1 Calls](#calls)<br>\n",
    "&emsp;[1.2 Internet](#internet)<br>\n",
    "&emsp;[1.3 Messages](#messages)<br>\n",
    "&emsp;[1.4 Users](#users)<br>\n",
    "[2. Расчет показателей по месяцам](#calc)<br>\n",
    "[3. Расчет выручки](#revenue)<br>\n",
    "[4. Анализ поведения абонентов](#behaviour)<br>\n",
    "[5. Проверка гипотез](#hypothesis)<br>\n",
    "&emsp;[5.1 Выручка по тарифам](#tariffs)<br>\n",
    "&emsp;[5.2 Выручка по городам](#cities)<br>\n",
    "[6. Выводы](#summary)<br>"
   ]
  },
  {
   "cell_type": "markdown",
   "metadata": {},
   "source": [
    "<a id='Первичный-анализ'></a>\n",
    "## Первичный анализ и предобработка данных\n",
    "Проанализируем каждый датасет на наличие пропусков, дубликатов и выбросов."
   ]
  },
  {
   "cell_type": "markdown",
   "metadata": {},
   "source": [
    "<a id='calls'></a>\n",
    "### Calls"
   ]
  },
  {
   "cell_type": "code",
   "execution_count": 102,
   "metadata": {
    "scrolled": false
   },
   "outputs": [
    {
     "name": "stdout",
     "output_type": "stream",
     "text": [
      "<class 'pandas.core.frame.DataFrame'>\n",
      "RangeIndex: 202607 entries, 0 to 202606\n",
      "Data columns (total 4 columns):\n",
      "id           202607 non-null object\n",
      "call_date    202607 non-null object\n",
      "duration     202607 non-null float64\n",
      "user_id      202607 non-null int64\n",
      "dtypes: float64(1), int64(1), object(2)\n",
      "memory usage: 6.2+ MB\n",
      "Всего дубликатов: 0\n"
     ]
    }
   ],
   "source": [
    "import pandas as pd\n",
    "import numpy as np\n",
    "from scipy import stats as st\n",
    "import warnings\n",
    "warnings.filterwarnings('ignore')\n",
    "\n",
    "df_calls = pd.read_csv('/datasets/calls.csv')\n",
    "df_internet = pd.read_csv('/datasets/internet.csv')\n",
    "df_messages = pd.read_csv('/datasets/messages.csv')\n",
    "df_tariffs = pd.read_csv('/datasets/tariffs.csv')\n",
    "df_users = pd.read_csv('/datasets/users.csv')\n",
    "\n",
    "df_calls.info()\n",
    "print('Всего дубликатов:', df_calls.duplicated().sum())"
   ]
  },
  {
   "cell_type": "markdown",
   "metadata": {},
   "source": [
    "Таблица содержит 202607 наблюдений, пропуски и дубликаты отсутствуют.   \n",
    "Также можно заметить, что дата звонка представлена в формате \"object\", а должна быть в формате date. Исправим это."
   ]
  },
  {
   "cell_type": "code",
   "execution_count": 103,
   "metadata": {},
   "outputs": [],
   "source": [
    "df_calls['call_date'] = pd.to_datetime(df_calls['call_date'], format='%Y-%m-%d')"
   ]
  },
  {
   "cell_type": "markdown",
   "metadata": {},
   "source": [
    "Далее рассмотрим числовой показатель - продолжительность звонка, а также построим гистограмму."
   ]
  },
  {
   "cell_type": "code",
   "execution_count": 104,
   "metadata": {},
   "outputs": [
    {
     "data": {
      "text/plain": [
       "count    202607.000000\n",
       "mean          6.755887\n",
       "std           5.843365\n",
       "min           0.000000\n",
       "25%           1.300000\n",
       "50%           6.000000\n",
       "75%          10.700000\n",
       "max          38.000000\n",
       "Name: duration, dtype: float64"
      ]
     },
     "execution_count": 104,
     "metadata": {},
     "output_type": "execute_result"
    }
   ],
   "source": [
    "df_calls['duration'].describe()"
   ]
  },
  {
   "cell_type": "code",
   "execution_count": 105,
   "metadata": {
    "scrolled": true
   },
   "outputs": [
    {
     "data": {
      "text/plain": [
       "<matplotlib.axes._subplots.AxesSubplot at 0x7f72de2d2090>"
      ]
     },
     "execution_count": 105,
     "metadata": {},
     "output_type": "execute_result"
    },
    {
     "data": {
      "image/png": "[encoded data removed]",
      "text/plain": [
       "<Figure size 432x288 with 1 Axes>"
      ]
     },
     "metadata": {
      "needs_background": "light"
     },
     "output_type": "display_data"
    }
   ],
   "source": [
    "df_calls['duration'].hist()"
   ]
  },
  {
   "cell_type": "markdown",
   "metadata": {},
   "source": [
    "Медианное значение звонка - 6 минут, минимальное значение (0) соответствует входящим звонкам. Аномальных значений в выборке нет."
   ]
  },
  {
   "cell_type": "markdown",
   "metadata": {},
   "source": [
    "<a id='internet'></a>\n",
    "### Internet"
   ]
  },
  {
   "cell_type": "code",
   "execution_count": 106,
   "metadata": {},
   "outputs": [
    {
     "name": "stdout",
     "output_type": "stream",
     "text": [
      "<class 'pandas.core.frame.DataFrame'>\n",
      "RangeIndex: 149396 entries, 0 to 149395\n",
      "Data columns (total 5 columns):\n",
      "Unnamed: 0      149396 non-null int64\n",
      "id              149396 non-null object\n",
      "mb_used         149396 non-null float64\n",
      "session_date    149396 non-null object\n",
      "user_id         149396 non-null int64\n",
      "dtypes: float64(1), int64(2), object(2)\n",
      "memory usage: 5.7+ MB\n",
      "Всего дубликатов: 0\n"
     ]
    }
   ],
   "source": [
    "df_internet.info()\n",
    "print('Всего дубликатов:', df_internet.duplicated().sum())"
   ]
  },
  {
   "cell_type": "markdown",
   "metadata": {},
   "source": [
    "Аналогично, нет ни пропусков, ни дубликатов, формат даты также нужно поменять."
   ]
  },
  {
   "cell_type": "code",
   "execution_count": 107,
   "metadata": {},
   "outputs": [],
   "source": [
    "df_internet['session_date'] = pd.to_datetime(df_internet['session_date'], format='%Y-%m-%d')"
   ]
  },
  {
   "cell_type": "markdown",
   "metadata": {},
   "source": [
    "Рассмотрим распределение интернет-траффика."
   ]
  },
  {
   "cell_type": "code",
   "execution_count": 108,
   "metadata": {},
   "outputs": [
    {
     "data": {
      "text/plain": [
       "count    149396.000000\n",
       "mean        370.192426\n",
       "std         278.300951\n",
       "min           0.000000\n",
       "25%         138.187500\n",
       "50%         348.015000\n",
       "75%         559.552500\n",
       "max        1724.830000\n",
       "Name: mb_used, dtype: float64"
      ]
     },
     "execution_count": 108,
     "metadata": {},
     "output_type": "execute_result"
    }
   ],
   "source": [
    "df_internet['mb_used'].describe()"
   ]
  },
  {
   "cell_type": "code",
   "execution_count": 109,
   "metadata": {},
   "outputs": [
    {
     "data": {
      "text/plain": [
       "<matplotlib.axes._subplots.AxesSubplot at 0x7f72deb40a50>"
      ]
     },
     "execution_count": 109,
     "metadata": {},
     "output_type": "execute_result"
    },
    {
     "data": {
      "image/png": "[encoded data removed]",
      "text/plain": [
       "<Figure size 432x288 with 1 Axes>"
      ]
     },
     "metadata": {
      "needs_background": "light"
     },
     "output_type": "display_data"
    }
   ],
   "source": [
    "df_internet['mb_used'].hist()"
   ]
  },
  {
   "cell_type": "markdown",
   "metadata": {},
   "source": [
    "Медианное значение - 348 мб, при этом в выборке присутствуют дни, когда абонент не пользовался интернетом вовсе. Максимальный траффик - 1724 мб, что также вполне реально. Таким образом, аномальных значений нет."
   ]
  },
  {
   "cell_type": "markdown",
   "metadata": {},
   "source": [
    "<a id='messages'></a>\n",
    "### Messages"
   ]
  },
  {
   "cell_type": "code",
   "execution_count": 110,
   "metadata": {
    "scrolled": true
   },
   "outputs": [
    {
     "name": "stdout",
     "output_type": "stream",
     "text": [
      "<class 'pandas.core.frame.DataFrame'>\n",
      "RangeIndex: 123036 entries, 0 to 123035\n",
      "Data columns (total 3 columns):\n",
      "id              123036 non-null object\n",
      "message_date    123036 non-null object\n",
      "user_id         123036 non-null int64\n",
      "dtypes: int64(1), object(2)\n",
      "memory usage: 2.8+ MB\n",
      "Всего дубликатов: 0\n"
     ]
    }
   ],
   "source": [
    "df_messages.info()\n",
    "print('Всего дубликатов:', df_messages.duplicated().sum())"
   ]
  },
  {
   "cell_type": "markdown",
   "metadata": {},
   "source": [
    "Поменяем тип данных у столбца message_date."
   ]
  },
  {
   "cell_type": "code",
   "execution_count": 111,
   "metadata": {},
   "outputs": [],
   "source": [
    "df_messages['message_date'] = pd.to_datetime(df_messages['message_date'], format='%Y-%m-%d')"
   ]
  },
  {
   "cell_type": "markdown",
   "metadata": {},
   "source": [
    "<a id='users'></a>\n",
    "### Users"
   ]
  },
  {
   "cell_type": "code",
   "execution_count": 112,
   "metadata": {},
   "outputs": [
    {
     "name": "stdout",
     "output_type": "stream",
     "text": [
      "<class 'pandas.core.frame.DataFrame'>\n",
      "RangeIndex: 500 entries, 0 to 499\n",
      "Data columns (total 8 columns):\n",
      "user_id       500 non-null int64\n",
      "age           500 non-null int64\n",
      "churn_date    38 non-null object\n",
      "city          500 non-null object\n",
      "first_name    500 non-null object\n",
      "last_name     500 non-null object\n",
      "reg_date      500 non-null object\n",
      "tariff        500 non-null object\n",
      "dtypes: int64(2), object(6)\n",
      "memory usage: 31.4+ KB\n",
      "Всего дубликатов: 0\n"
     ]
    }
   ],
   "source": [
    "df_users.info()\n",
    "print('Всего дубликатов:', df_users.duplicated().sum())"
   ]
  },
  {
   "cell_type": "markdown",
   "metadata": {},
   "source": [
    "В данных об абонентах нет пропусков за исключением столбца churn date. Предполагаем, что если дата не указана, то абонент еще пользуется услугами. Изменим тип данных у полей с датами."
   ]
  },
  {
   "cell_type": "code",
   "execution_count": 113,
   "metadata": {},
   "outputs": [
    {
     "name": "stdout",
     "output_type": "stream",
     "text": [
      "<class 'pandas.core.frame.DataFrame'>\n",
      "RangeIndex: 500 entries, 0 to 499\n",
      "Data columns (total 8 columns):\n",
      "user_id       500 non-null int64\n",
      "age           500 non-null int64\n",
      "churn_date    38 non-null datetime64[ns]\n",
      "city          500 non-null object\n",
      "first_name    500 non-null object\n",
      "last_name     500 non-null object\n",
      "reg_date      500 non-null datetime64[ns]\n",
      "tariff        500 non-null object\n",
      "dtypes: datetime64[ns](2), int64(2), object(4)\n",
      "memory usage: 31.4+ KB\n"
     ]
    }
   ],
   "source": [
    "df_users['churn_date'] = pd.to_datetime(df_users['churn_date'], format='%Y-%m-%d')\n",
    "df_users['reg_date'] = pd.to_datetime(df_users['reg_date'], format='%Y-%m-%d')\n",
    "df_users.info()"
   ]
  },
  {
   "cell_type": "markdown",
   "metadata": {},
   "source": [
    "Проанализируем данные по возрасту."
   ]
  },
  {
   "cell_type": "code",
   "execution_count": 114,
   "metadata": {},
   "outputs": [
    {
     "data": {
      "text/plain": [
       "count    500.00000\n",
       "mean      46.58800\n",
       "std       16.66763\n",
       "min       18.00000\n",
       "25%       32.00000\n",
       "50%       46.00000\n",
       "75%       62.00000\n",
       "max       75.00000\n",
       "Name: age, dtype: float64"
      ]
     },
     "execution_count": 114,
     "metadata": {},
     "output_type": "execute_result"
    }
   ],
   "source": [
    "df_users['age'].describe()"
   ]
  },
  {
   "cell_type": "code",
   "execution_count": 115,
   "metadata": {},
   "outputs": [
    {
     "data": {
      "text/plain": [
       "<matplotlib.axes._subplots.AxesSubplot at 0x7f72de6f0f90>"
      ]
     },
     "execution_count": 115,
     "metadata": {},
     "output_type": "execute_result"
    },
    {
     "data": {
      "image/png": "[encoded data removed]",
      "text/plain": [
       "<Figure size 432x288 with 1 Axes>"
      ]
     },
     "metadata": {
      "needs_background": "light"
     },
     "output_type": "display_data"
    }
   ],
   "source": [
    "df_users['age'].hist()"
   ]
  },
  {
   "cell_type": "markdown",
   "metadata": {},
   "source": [
    "Минимальный возраст - 18, максимальный - 75. Аномальных значений не обнаружено."
   ]
  },
  {
   "cell_type": "markdown",
   "metadata": {},
   "source": [
    "<a id='calc'></a>\n",
    "## Расчет показателей по месяцам\n",
    "По условиям задачи, все звонки округляются в бОльшую сторону. Произведем соответствующие расчеты и изменим тип на целочисленный. Также для дальнейшего анализа нам необходимо получить таблицу, содержащую данные абонентов и их ежемесячное использование услуг связи. Для этого с каждым из датасетов проделаем следующие шаги:\n",
    "1. Выделим год и месяц\n",
    "2. Сгруппируем числовые данные по id -> год -> месяц"
   ]
  },
  {
   "cell_type": "code",
   "execution_count": 116,
   "metadata": {},
   "outputs": [],
   "source": [
    "#calls\n",
    "df_calls['duration'] = df_calls['duration'].apply(np.ceil)\n",
    "df_calls['duration'] = df_calls['duration'].astype('int')\n",
    "df_calls['year'] = pd.DatetimeIndex(df_calls['call_date']).year\n",
    "df_calls['month'] = pd.DatetimeIndex(df_calls['call_date']).month\n",
    "df_calls_pivot = df_calls.pivot_table(index=['user_id', 'year', 'month'], values='duration', aggfunc='sum')\n",
    "\n",
    "#internet\n",
    "df_internet['year'] = pd.DatetimeIndex(df_internet['session_date']).year\n",
    "df_internet['month'] = pd.DatetimeIndex(df_internet['session_date']).month\n",
    "df_internet_pivot = df_internet.pivot_table(index=['user_id', 'year', 'month'], values='mb_used', aggfunc='sum')\n",
    "\n",
    "#messages\n",
    "df_messages['year'] = pd.DatetimeIndex(df_messages['message_date']).year\n",
    "df_messages['month'] = pd.DatetimeIndex(df_messages['message_date']).month\n",
    "df_messages_pivot = df_messages.pivot_table(index=['user_id', 'year', 'month'], values='id', aggfunc='count')"
   ]
  },
  {
   "cell_type": "markdown",
   "metadata": {},
   "source": [
    "Объединим таблицы в одну, содержащую объем использованных услуг по месяцам."
   ]
  },
  {
   "cell_type": "code",
   "execution_count": 117,
   "metadata": {
    "scrolled": true
   },
   "outputs": [],
   "source": [
    "df_activities_by_month = df_calls_pivot.merge(df_internet_pivot['mb_used'], on=['user_id', 'year', 'month'], how='outer')\n",
    "df_activities_by_month = df_activities_by_month.merge(df_messages_pivot['id'], on=['user_id', 'year', 'month'], how='outer')\n",
    "df_activities_by_month.columns = ['calls_min', 'internet_mb', 'messages']"
   ]
  },
  {
   "cell_type": "markdown",
   "metadata": {},
   "source": [
    "Проанализируем получившийся датасет на предмет пропусков и дубликатов."
   ]
  },
  {
   "cell_type": "code",
   "execution_count": 118,
   "metadata": {},
   "outputs": [
    {
     "name": "stdout",
     "output_type": "stream",
     "text": [
      "<class 'pandas.core.frame.DataFrame'>\n",
      "MultiIndex: 3214 entries, (1000, 2018, 5) to (1489, 2018, 12)\n",
      "Data columns (total 3 columns):\n",
      "calls_min      3174 non-null float64\n",
      "internet_mb    3203 non-null float64\n",
      "messages       2717 non-null float64\n",
      "dtypes: float64(3)\n",
      "memory usage: 92.0 KB\n",
      "Всего дубликатов: 0\n"
     ]
    }
   ],
   "source": [
    "df_activities_by_month.info()\n",
    "print('Всего дубликатов:', df_messages.duplicated().sum())"
   ]
  },
  {
   "cell_type": "markdown",
   "metadata": {},
   "source": [
    "Как можно заметить, для части пользователей отсутствуют данные по сообщениям и интернет-траффику. Взглянем на них подробнее."
   ]
  },
  {
   "cell_type": "code",
   "execution_count": 119,
   "metadata": {
    "scrolled": false
   },
   "outputs": [
    {
     "data": {
      "text/html": [
       "<div>\n",
       "<style scoped>\n",
       "    .dataframe tbody tr th:only-of-type {\n",
       "        vertical-align: middle;\n",
       "    }\n",
       "\n",
       "    .dataframe tbody tr th {\n",
       "        vertical-align: top;\n",
       "    }\n",
       "\n",
       "    .dataframe thead th {\n",
       "        text-align: right;\n",
       "    }\n",
       "</style>\n",
       "<table border=\"1\" class=\"dataframe\">\n",
       "  <thead>\n",
       "    <tr style=\"text-align: right;\">\n",
       "      <th></th>\n",
       "      <th></th>\n",
       "      <th></th>\n",
       "      <th>calls_min</th>\n",
       "      <th>internet_mb</th>\n",
       "      <th>messages</th>\n",
       "    </tr>\n",
       "    <tr>\n",
       "      <th>user_id</th>\n",
       "      <th>year</th>\n",
       "      <th>month</th>\n",
       "      <th></th>\n",
       "      <th></th>\n",
       "      <th></th>\n",
       "    </tr>\n",
       "  </thead>\n",
       "  <tbody>\n",
       "    <tr>\n",
       "      <td rowspan=\"8\" valign=\"top\">1273</td>\n",
       "      <td rowspan=\"8\" valign=\"top\">2018</td>\n",
       "      <td>5</td>\n",
       "      <td>220.0</td>\n",
       "      <td>NaN</td>\n",
       "      <td>21.0</td>\n",
       "    </tr>\n",
       "    <tr>\n",
       "      <td>6</td>\n",
       "      <td>230.0</td>\n",
       "      <td>NaN</td>\n",
       "      <td>38.0</td>\n",
       "    </tr>\n",
       "    <tr>\n",
       "      <td>7</td>\n",
       "      <td>253.0</td>\n",
       "      <td>NaN</td>\n",
       "      <td>37.0</td>\n",
       "    </tr>\n",
       "    <tr>\n",
       "      <td>8</td>\n",
       "      <td>253.0</td>\n",
       "      <td>NaN</td>\n",
       "      <td>41.0</td>\n",
       "    </tr>\n",
       "    <tr>\n",
       "      <td>9</td>\n",
       "      <td>223.0</td>\n",
       "      <td>NaN</td>\n",
       "      <td>32.0</td>\n",
       "    </tr>\n",
       "    <tr>\n",
       "      <td>10</td>\n",
       "      <td>315.0</td>\n",
       "      <td>NaN</td>\n",
       "      <td>35.0</td>\n",
       "    </tr>\n",
       "    <tr>\n",
       "      <td>11</td>\n",
       "      <td>272.0</td>\n",
       "      <td>NaN</td>\n",
       "      <td>29.0</td>\n",
       "    </tr>\n",
       "    <tr>\n",
       "      <td>12</td>\n",
       "      <td>260.0</td>\n",
       "      <td>NaN</td>\n",
       "      <td>39.0</td>\n",
       "    </tr>\n",
       "    <tr>\n",
       "      <td>1377</td>\n",
       "      <td>2018</td>\n",
       "      <td>2</td>\n",
       "      <td>179.0</td>\n",
       "      <td>NaN</td>\n",
       "      <td>2.0</td>\n",
       "    </tr>\n",
       "    <tr>\n",
       "      <td>1392</td>\n",
       "      <td>2018</td>\n",
       "      <td>2</td>\n",
       "      <td>13.0</td>\n",
       "      <td>NaN</td>\n",
       "      <td>3.0</td>\n",
       "    </tr>\n",
       "    <tr>\n",
       "      <td>1446</td>\n",
       "      <td>2018</td>\n",
       "      <td>8</td>\n",
       "      <td>50.0</td>\n",
       "      <td>NaN</td>\n",
       "      <td>1.0</td>\n",
       "    </tr>\n",
       "  </tbody>\n",
       "</table>\n",
       "</div>"
      ],
      "text/plain": [
       "                    calls_min  internet_mb  messages\n",
       "user_id year month                                  \n",
       "1273    2018 5          220.0          NaN      21.0\n",
       "             6          230.0          NaN      38.0\n",
       "             7          253.0          NaN      37.0\n",
       "             8          253.0          NaN      41.0\n",
       "             9          223.0          NaN      32.0\n",
       "             10         315.0          NaN      35.0\n",
       "             11         272.0          NaN      29.0\n",
       "             12         260.0          NaN      39.0\n",
       "1377    2018 2          179.0          NaN       2.0\n",
       "1392    2018 2           13.0          NaN       3.0\n",
       "1446    2018 8           50.0          NaN       1.0"
      ]
     },
     "metadata": {},
     "output_type": "display_data"
    }
   ],
   "source": [
    "display(df_activities_by_month.query('internet_mb != internet_mb'))"
   ]
  },
  {
   "cell_type": "markdown",
   "metadata": {},
   "source": [
    "- Данные по интернет-траффику отсутствуют целиком для одного абонента и для трех по 1 месяцу. Поскольку 11 пропусков составляют 0.3% выборки, ими можно пренебречь.  \n",
    "- Сообщения фиксируются в системе только по факту отправки => пропуски будем считать за 0."
   ]
  },
  {
   "cell_type": "code",
   "execution_count": 120,
   "metadata": {},
   "outputs": [
    {
     "name": "stdout",
     "output_type": "stream",
     "text": [
      "<class 'pandas.core.frame.DataFrame'>\n",
      "MultiIndex: 3163 entries, (1000, 2018, 5) to (1499, 2018, 12)\n",
      "Data columns (total 3 columns):\n",
      "calls_min      3163 non-null float64\n",
      "internet_mb    3163 non-null float64\n",
      "messages       3163 non-null float64\n",
      "dtypes: float64(3)\n",
      "memory usage: 90.6 KB\n"
     ]
    }
   ],
   "source": [
    "df_activities_by_month['messages'] = df_activities_by_month['messages'].fillna(0)\n",
    "df_activities_by_month = df_activities_by_month.dropna()\n",
    "df_activities_by_month.info()"
   ]
  },
  {
   "cell_type": "markdown",
   "metadata": {},
   "source": [
    "По условиям тарифа, кол-во гигабайт в месяц также округляется вверх - сделаем это."
   ]
  },
  {
   "cell_type": "code",
   "execution_count": 121,
   "metadata": {
    "scrolled": false
   },
   "outputs": [
    {
     "name": "stdout",
     "output_type": "stream",
     "text": [
      "<class 'pandas.core.frame.DataFrame'>\n",
      "RangeIndex: 3163 entries, 0 to 3162\n",
      "Data columns (total 6 columns):\n",
      "user_id        3163 non-null int64\n",
      "year           3163 non-null int64\n",
      "month          3163 non-null int64\n",
      "calls_min      3163 non-null float64\n",
      "messages       3163 non-null int64\n",
      "internet_gb    3163 non-null int64\n",
      "dtypes: float64(1), int64(5)\n",
      "memory usage: 148.4 KB\n"
     ]
    },
    {
     "data": {
      "text/html": [
       "<div>\n",
       "<style scoped>\n",
       "    .dataframe tbody tr th:only-of-type {\n",
       "        vertical-align: middle;\n",
       "    }\n",
       "\n",
       "    .dataframe tbody tr th {\n",
       "        vertical-align: top;\n",
       "    }\n",
       "\n",
       "    .dataframe thead th {\n",
       "        text-align: right;\n",
       "    }\n",
       "</style>\n",
       "<table border=\"1\" class=\"dataframe\">\n",
       "  <thead>\n",
       "    <tr style=\"text-align: right;\">\n",
       "      <th></th>\n",
       "      <th>user_id</th>\n",
       "      <th>year</th>\n",
       "      <th>month</th>\n",
       "      <th>calls_min</th>\n",
       "      <th>messages</th>\n",
       "      <th>internet_gb</th>\n",
       "    </tr>\n",
       "  </thead>\n",
       "  <tbody>\n",
       "    <tr>\n",
       "      <td>0</td>\n",
       "      <td>1000</td>\n",
       "      <td>2018</td>\n",
       "      <td>5</td>\n",
       "      <td>159.0</td>\n",
       "      <td>22</td>\n",
       "      <td>3</td>\n",
       "    </tr>\n",
       "    <tr>\n",
       "      <td>1</td>\n",
       "      <td>1000</td>\n",
       "      <td>2018</td>\n",
       "      <td>6</td>\n",
       "      <td>172.0</td>\n",
       "      <td>60</td>\n",
       "      <td>23</td>\n",
       "    </tr>\n",
       "    <tr>\n",
       "      <td>2</td>\n",
       "      <td>1000</td>\n",
       "      <td>2018</td>\n",
       "      <td>7</td>\n",
       "      <td>340.0</td>\n",
       "      <td>75</td>\n",
       "      <td>14</td>\n",
       "    </tr>\n",
       "    <tr>\n",
       "      <td>3</td>\n",
       "      <td>1000</td>\n",
       "      <td>2018</td>\n",
       "      <td>8</td>\n",
       "      <td>408.0</td>\n",
       "      <td>81</td>\n",
       "      <td>14</td>\n",
       "    </tr>\n",
       "    <tr>\n",
       "      <td>4</td>\n",
       "      <td>1000</td>\n",
       "      <td>2018</td>\n",
       "      <td>9</td>\n",
       "      <td>466.0</td>\n",
       "      <td>57</td>\n",
       "      <td>15</td>\n",
       "    </tr>\n",
       "    <tr>\n",
       "      <td>5</td>\n",
       "      <td>1000</td>\n",
       "      <td>2018</td>\n",
       "      <td>10</td>\n",
       "      <td>350.0</td>\n",
       "      <td>73</td>\n",
       "      <td>15</td>\n",
       "    </tr>\n",
       "    <tr>\n",
       "      <td>6</td>\n",
       "      <td>1000</td>\n",
       "      <td>2018</td>\n",
       "      <td>11</td>\n",
       "      <td>338.0</td>\n",
       "      <td>58</td>\n",
       "      <td>15</td>\n",
       "    </tr>\n",
       "    <tr>\n",
       "      <td>7</td>\n",
       "      <td>1000</td>\n",
       "      <td>2018</td>\n",
       "      <td>12</td>\n",
       "      <td>333.0</td>\n",
       "      <td>70</td>\n",
       "      <td>10</td>\n",
       "    </tr>\n",
       "  </tbody>\n",
       "</table>\n",
       "</div>"
      ],
      "text/plain": [
       "   user_id  year  month  calls_min  messages  internet_gb\n",
       "0     1000  2018      5      159.0        22            3\n",
       "1     1000  2018      6      172.0        60           23\n",
       "2     1000  2018      7      340.0        75           14\n",
       "3     1000  2018      8      408.0        81           14\n",
       "4     1000  2018      9      466.0        57           15\n",
       "5     1000  2018     10      350.0        73           15\n",
       "6     1000  2018     11      338.0        58           15\n",
       "7     1000  2018     12      333.0        70           10"
      ]
     },
     "metadata": {},
     "output_type": "display_data"
    }
   ],
   "source": [
    "df_activities_by_month['internet_gb'] = df_activities_by_month['internet_mb'] / 1024\n",
    "df_activities_by_month['internet_gb'] = df_activities_by_month['internet_gb'].apply(np.ceil)\n",
    "df_activities_by_month['internet_gb'] = df_activities_by_month['internet_gb'].astype('int')\n",
    "df_activities_by_month = df_activities_by_month.drop('internet_mb', 1)\n",
    "df_activities_by_month['messages'] = df_activities_by_month['messages'].astype('int')\n",
    "\n",
    "#проверим данные для одного из абонентов\n",
    "df_activities_by_month = df_activities_by_month.reset_index()\n",
    "df_activities_by_month.info()\n",
    "display(df_activities_by_month.query('user_id == 1000'))"
   ]
  },
  {
   "cell_type": "markdown",
   "metadata": {},
   "source": [
    "<a id='revenue'></a>\n",
    "## Расчет выручки"
   ]
  },
  {
   "cell_type": "markdown",
   "metadata": {},
   "source": [
    "Далее к каждой записи подтянем данные, необходимые для дальнейшего анализа:\n",
    "- users. city, tariff\n",
    "- tariffs. таблица целиком"
   ]
  },
  {
   "cell_type": "code",
   "execution_count": 122,
   "metadata": {
    "scrolled": false
   },
   "outputs": [],
   "source": [
    "#подтянем город и тариф абонентов\n",
    "df_activities_by_month = pd.merge(df_activities_by_month, df_users, on=['user_id'], how='left')\n",
    "df_activities_by_month = df_activities_by_month.drop(['age', 'churn_date', 'first_name', 'last_name', 'reg_date'],1)\n",
    "\n",
    "#подтянем данные по тарифу\n",
    "df_activities_by_month.rename(columns={'tariff':'tariff_name'}, inplace=True)\n",
    "df_activities_by_month = pd.merge(df_activities_by_month, df_tariffs, on='tariff_name', how='left')"
   ]
  },
  {
   "cell_type": "markdown",
   "metadata": {},
   "source": [
    "Переведем mb_per_month_included в gb."
   ]
  },
  {
   "cell_type": "code",
   "execution_count": 123,
   "metadata": {},
   "outputs": [],
   "source": [
    "df_activities_by_month['gb_per_month_included'] = (df_activities_by_month['mb_per_month_included'] / 1024).astype('int')\n",
    "df_activities_by_month = df_activities_by_month.drop('mb_per_month_included', 1)"
   ]
  },
  {
   "cell_type": "markdown",
   "metadata": {},
   "source": [
    "Далее посчитаем выручку."
   ]
  },
  {
   "cell_type": "code",
   "execution_count": 124,
   "metadata": {},
   "outputs": [
    {
     "data": {
      "text/html": [
       "<div>\n",
       "<style scoped>\n",
       "    .dataframe tbody tr th:only-of-type {\n",
       "        vertical-align: middle;\n",
       "    }\n",
       "\n",
       "    .dataframe tbody tr th {\n",
       "        vertical-align: top;\n",
       "    }\n",
       "\n",
       "    .dataframe thead th {\n",
       "        text-align: right;\n",
       "    }\n",
       "</style>\n",
       "<table border=\"1\" class=\"dataframe\">\n",
       "  <thead>\n",
       "    <tr style=\"text-align: right;\">\n",
       "      <th></th>\n",
       "      <th>user_id</th>\n",
       "      <th>year</th>\n",
       "      <th>month</th>\n",
       "      <th>calls_min</th>\n",
       "      <th>messages</th>\n",
       "      <th>internet_gb</th>\n",
       "      <th>city</th>\n",
       "      <th>tariff_name</th>\n",
       "      <th>messages_included</th>\n",
       "      <th>minutes_included</th>\n",
       "      <th>rub_monthly_fee</th>\n",
       "      <th>rub_per_gb</th>\n",
       "      <th>rub_per_message</th>\n",
       "      <th>rub_per_minute</th>\n",
       "      <th>gb_per_month_included</th>\n",
       "      <th>revenue</th>\n",
       "    </tr>\n",
       "  </thead>\n",
       "  <tbody>\n",
       "    <tr>\n",
       "      <td>0</td>\n",
       "      <td>1000</td>\n",
       "      <td>2018</td>\n",
       "      <td>5</td>\n",
       "      <td>159.0</td>\n",
       "      <td>22</td>\n",
       "      <td>3</td>\n",
       "      <td>Краснодар</td>\n",
       "      <td>ultra</td>\n",
       "      <td>1000</td>\n",
       "      <td>3000</td>\n",
       "      <td>1950</td>\n",
       "      <td>150</td>\n",
       "      <td>1</td>\n",
       "      <td>1</td>\n",
       "      <td>30</td>\n",
       "      <td>1950</td>\n",
       "    </tr>\n",
       "    <tr>\n",
       "      <td>1</td>\n",
       "      <td>1000</td>\n",
       "      <td>2018</td>\n",
       "      <td>6</td>\n",
       "      <td>172.0</td>\n",
       "      <td>60</td>\n",
       "      <td>23</td>\n",
       "      <td>Краснодар</td>\n",
       "      <td>ultra</td>\n",
       "      <td>1000</td>\n",
       "      <td>3000</td>\n",
       "      <td>1950</td>\n",
       "      <td>150</td>\n",
       "      <td>1</td>\n",
       "      <td>1</td>\n",
       "      <td>30</td>\n",
       "      <td>1950</td>\n",
       "    </tr>\n",
       "    <tr>\n",
       "      <td>2</td>\n",
       "      <td>1000</td>\n",
       "      <td>2018</td>\n",
       "      <td>7</td>\n",
       "      <td>340.0</td>\n",
       "      <td>75</td>\n",
       "      <td>14</td>\n",
       "      <td>Краснодар</td>\n",
       "      <td>ultra</td>\n",
       "      <td>1000</td>\n",
       "      <td>3000</td>\n",
       "      <td>1950</td>\n",
       "      <td>150</td>\n",
       "      <td>1</td>\n",
       "      <td>1</td>\n",
       "      <td>30</td>\n",
       "      <td>1950</td>\n",
       "    </tr>\n",
       "    <tr>\n",
       "      <td>3</td>\n",
       "      <td>1000</td>\n",
       "      <td>2018</td>\n",
       "      <td>8</td>\n",
       "      <td>408.0</td>\n",
       "      <td>81</td>\n",
       "      <td>14</td>\n",
       "      <td>Краснодар</td>\n",
       "      <td>ultra</td>\n",
       "      <td>1000</td>\n",
       "      <td>3000</td>\n",
       "      <td>1950</td>\n",
       "      <td>150</td>\n",
       "      <td>1</td>\n",
       "      <td>1</td>\n",
       "      <td>30</td>\n",
       "      <td>1950</td>\n",
       "    </tr>\n",
       "    <tr>\n",
       "      <td>4</td>\n",
       "      <td>1000</td>\n",
       "      <td>2018</td>\n",
       "      <td>9</td>\n",
       "      <td>466.0</td>\n",
       "      <td>57</td>\n",
       "      <td>15</td>\n",
       "      <td>Краснодар</td>\n",
       "      <td>ultra</td>\n",
       "      <td>1000</td>\n",
       "      <td>3000</td>\n",
       "      <td>1950</td>\n",
       "      <td>150</td>\n",
       "      <td>1</td>\n",
       "      <td>1</td>\n",
       "      <td>30</td>\n",
       "      <td>1950</td>\n",
       "    </tr>\n",
       "    <tr>\n",
       "      <td>5</td>\n",
       "      <td>1000</td>\n",
       "      <td>2018</td>\n",
       "      <td>10</td>\n",
       "      <td>350.0</td>\n",
       "      <td>73</td>\n",
       "      <td>15</td>\n",
       "      <td>Краснодар</td>\n",
       "      <td>ultra</td>\n",
       "      <td>1000</td>\n",
       "      <td>3000</td>\n",
       "      <td>1950</td>\n",
       "      <td>150</td>\n",
       "      <td>1</td>\n",
       "      <td>1</td>\n",
       "      <td>30</td>\n",
       "      <td>1950</td>\n",
       "    </tr>\n",
       "    <tr>\n",
       "      <td>6</td>\n",
       "      <td>1000</td>\n",
       "      <td>2018</td>\n",
       "      <td>11</td>\n",
       "      <td>338.0</td>\n",
       "      <td>58</td>\n",
       "      <td>15</td>\n",
       "      <td>Краснодар</td>\n",
       "      <td>ultra</td>\n",
       "      <td>1000</td>\n",
       "      <td>3000</td>\n",
       "      <td>1950</td>\n",
       "      <td>150</td>\n",
       "      <td>1</td>\n",
       "      <td>1</td>\n",
       "      <td>30</td>\n",
       "      <td>1950</td>\n",
       "    </tr>\n",
       "    <tr>\n",
       "      <td>7</td>\n",
       "      <td>1000</td>\n",
       "      <td>2018</td>\n",
       "      <td>12</td>\n",
       "      <td>333.0</td>\n",
       "      <td>70</td>\n",
       "      <td>10</td>\n",
       "      <td>Краснодар</td>\n",
       "      <td>ultra</td>\n",
       "      <td>1000</td>\n",
       "      <td>3000</td>\n",
       "      <td>1950</td>\n",
       "      <td>150</td>\n",
       "      <td>1</td>\n",
       "      <td>1</td>\n",
       "      <td>30</td>\n",
       "      <td>1950</td>\n",
       "    </tr>\n",
       "  </tbody>\n",
       "</table>\n",
       "</div>"
      ],
      "text/plain": [
       "   user_id  year  month  calls_min  messages  internet_gb       city  \\\n",
       "0     1000  2018      5      159.0        22            3  Краснодар   \n",
       "1     1000  2018      6      172.0        60           23  Краснодар   \n",
       "2     1000  2018      7      340.0        75           14  Краснодар   \n",
       "3     1000  2018      8      408.0        81           14  Краснодар   \n",
       "4     1000  2018      9      466.0        57           15  Краснодар   \n",
       "5     1000  2018     10      350.0        73           15  Краснодар   \n",
       "6     1000  2018     11      338.0        58           15  Краснодар   \n",
       "7     1000  2018     12      333.0        70           10  Краснодар   \n",
       "\n",
       "  tariff_name  messages_included  minutes_included  rub_monthly_fee  \\\n",
       "0       ultra               1000              3000             1950   \n",
       "1       ultra               1000              3000             1950   \n",
       "2       ultra               1000              3000             1950   \n",
       "3       ultra               1000              3000             1950   \n",
       "4       ultra               1000              3000             1950   \n",
       "5       ultra               1000              3000             1950   \n",
       "6       ultra               1000              3000             1950   \n",
       "7       ultra               1000              3000             1950   \n",
       "\n",
       "   rub_per_gb  rub_per_message  rub_per_minute  gb_per_month_included  revenue  \n",
       "0         150                1               1                     30     1950  \n",
       "1         150                1               1                     30     1950  \n",
       "2         150                1               1                     30     1950  \n",
       "3         150                1               1                     30     1950  \n",
       "4         150                1               1                     30     1950  \n",
       "5         150                1               1                     30     1950  \n",
       "6         150                1               1                     30     1950  \n",
       "7         150                1               1                     30     1950  "
      ]
     },
     "metadata": {},
     "output_type": "display_data"
    }
   ],
   "source": [
    "df = df_activities_by_month\n",
    "df['revenue'] = 0\n",
    "for index in range(len(df)):\n",
    "    df['revenue'][index] = (df['rub_monthly_fee'][index] + \n",
    "    max(0, (df['calls_min'][index] - df['minutes_included'][index])) * df['rub_per_minute'][index] +\n",
    "    max(0, (df['messages'][index] - df['messages_included'][index])) * df['rub_per_message'][index] +\n",
    "    max(0, (df['internet_gb'][index] - df['gb_per_month_included'][index])) * df['rub_per_gb'][index])\n",
    "\n",
    "#проверим датасет для одного абонента\n",
    "display(df_activities_by_month.query('user_id == 1000'))"
   ]
  },
  {
   "cell_type": "markdown",
   "metadata": {},
   "source": [
    "<a id='behaviour'></a>\n",
    "## Анализ поведения абонентов"
   ]
  },
  {
   "cell_type": "markdown",
   "metadata": {},
   "source": [
    "1. Разделим выборку на две: тарифы \"Smart\" и \"Ultra\". \n",
    "2. Посчитаем среднее, дисперсию и стандартное отклонение для каждого из показателей."
   ]
  },
  {
   "cell_type": "code",
   "execution_count": 125,
   "metadata": {},
   "outputs": [],
   "source": [
    "df_smart = df.query('tariff_name == \"smart\"')\n",
    "df_smart.name = 'Smart'\n",
    "df_ultra = df.query('tariff_name == \"ultra\"')\n",
    "df_ultra.name = 'Ultra'"
   ]
  },
  {
   "cell_type": "code",
   "execution_count": 126,
   "metadata": {
    "scrolled": false
   },
   "outputs": [
    {
     "name": "stdout",
     "output_type": "stream",
     "text": [
      "Smart\n"
     ]
    },
    {
     "data": {
      "text/html": [
       "<div>\n",
       "<style scoped>\n",
       "    .dataframe tbody tr th:only-of-type {\n",
       "        vertical-align: middle;\n",
       "    }\n",
       "\n",
       "    .dataframe tbody tr th {\n",
       "        vertical-align: top;\n",
       "    }\n",
       "\n",
       "    .dataframe thead th {\n",
       "        text-align: right;\n",
       "    }\n",
       "</style>\n",
       "<table border=\"1\" class=\"dataframe\">\n",
       "  <thead>\n",
       "    <tr style=\"text-align: right;\">\n",
       "      <th></th>\n",
       "      <th>calls_min</th>\n",
       "      <th>messages</th>\n",
       "      <th>internet_gb</th>\n",
       "    </tr>\n",
       "  </thead>\n",
       "  <tbody>\n",
       "    <tr>\n",
       "      <td>count</td>\n",
       "      <td>2222.000000</td>\n",
       "      <td>2222.000000</td>\n",
       "      <td>2222.000000</td>\n",
       "    </tr>\n",
       "    <tr>\n",
       "      <td>mean</td>\n",
       "      <td>419.229073</td>\n",
       "      <td>33.410891</td>\n",
       "      <td>16.337084</td>\n",
       "    </tr>\n",
       "    <tr>\n",
       "      <td>std</td>\n",
       "      <td>189.206167</td>\n",
       "      <td>28.257434</td>\n",
       "      <td>5.743447</td>\n",
       "    </tr>\n",
       "    <tr>\n",
       "      <td>min</td>\n",
       "      <td>0.000000</td>\n",
       "      <td>0.000000</td>\n",
       "      <td>0.000000</td>\n",
       "    </tr>\n",
       "    <tr>\n",
       "      <td>25%</td>\n",
       "      <td>285.000000</td>\n",
       "      <td>10.000000</td>\n",
       "      <td>13.000000</td>\n",
       "    </tr>\n",
       "    <tr>\n",
       "      <td>50%</td>\n",
       "      <td>423.000000</td>\n",
       "      <td>28.000000</td>\n",
       "      <td>17.000000</td>\n",
       "    </tr>\n",
       "    <tr>\n",
       "      <td>75%</td>\n",
       "      <td>545.750000</td>\n",
       "      <td>51.000000</td>\n",
       "      <td>20.000000</td>\n",
       "    </tr>\n",
       "    <tr>\n",
       "      <td>max</td>\n",
       "      <td>1435.000000</td>\n",
       "      <td>143.000000</td>\n",
       "      <td>38.000000</td>\n",
       "    </tr>\n",
       "  </tbody>\n",
       "</table>\n",
       "</div>"
      ],
      "text/plain": [
       "         calls_min     messages  internet_gb\n",
       "count  2222.000000  2222.000000  2222.000000\n",
       "mean    419.229073    33.410891    16.337084\n",
       "std     189.206167    28.257434     5.743447\n",
       "min       0.000000     0.000000     0.000000\n",
       "25%     285.000000    10.000000    13.000000\n",
       "50%     423.000000    28.000000    17.000000\n",
       "75%     545.750000    51.000000    20.000000\n",
       "max    1435.000000   143.000000    38.000000"
      ]
     },
     "metadata": {},
     "output_type": "display_data"
    },
    {
     "name": "stdout",
     "output_type": "stream",
     "text": [
      "Дисперсия calls_min равна 35782.9\n",
      "Дисперсия messages равна 798.1\n",
      "Дисперсия internet_gb равна 33.0\n",
      "\n",
      "Ultra\n"
     ]
    },
    {
     "data": {
      "text/html": [
       "<div>\n",
       "<style scoped>\n",
       "    .dataframe tbody tr th:only-of-type {\n",
       "        vertical-align: middle;\n",
       "    }\n",
       "\n",
       "    .dataframe tbody tr th {\n",
       "        vertical-align: top;\n",
       "    }\n",
       "\n",
       "    .dataframe thead th {\n",
       "        text-align: right;\n",
       "    }\n",
       "</style>\n",
       "<table border=\"1\" class=\"dataframe\">\n",
       "  <thead>\n",
       "    <tr style=\"text-align: right;\">\n",
       "      <th></th>\n",
       "      <th>calls_min</th>\n",
       "      <th>messages</th>\n",
       "      <th>internet_gb</th>\n",
       "    </tr>\n",
       "  </thead>\n",
       "  <tbody>\n",
       "    <tr>\n",
       "      <td>count</td>\n",
       "      <td>941.000000</td>\n",
       "      <td>941.000000</td>\n",
       "      <td>941.000000</td>\n",
       "    </tr>\n",
       "    <tr>\n",
       "      <td>mean</td>\n",
       "      <td>548.890542</td>\n",
       "      <td>49.260361</td>\n",
       "      <td>19.695005</td>\n",
       "    </tr>\n",
       "    <tr>\n",
       "      <td>std</td>\n",
       "      <td>306.619353</td>\n",
       "      <td>47.066174</td>\n",
       "      <td>9.735407</td>\n",
       "    </tr>\n",
       "    <tr>\n",
       "      <td>min</td>\n",
       "      <td>0.000000</td>\n",
       "      <td>0.000000</td>\n",
       "      <td>0.000000</td>\n",
       "    </tr>\n",
       "    <tr>\n",
       "      <td>25%</td>\n",
       "      <td>315.000000</td>\n",
       "      <td>5.000000</td>\n",
       "      <td>12.000000</td>\n",
       "    </tr>\n",
       "    <tr>\n",
       "      <td>50%</td>\n",
       "      <td>531.000000</td>\n",
       "      <td>40.000000</td>\n",
       "      <td>19.000000</td>\n",
       "    </tr>\n",
       "    <tr>\n",
       "      <td>75%</td>\n",
       "      <td>760.000000</td>\n",
       "      <td>79.000000</td>\n",
       "      <td>27.000000</td>\n",
       "    </tr>\n",
       "    <tr>\n",
       "      <td>max</td>\n",
       "      <td>1673.000000</td>\n",
       "      <td>224.000000</td>\n",
       "      <td>49.000000</td>\n",
       "    </tr>\n",
       "  </tbody>\n",
       "</table>\n",
       "</div>"
      ],
      "text/plain": [
       "         calls_min    messages  internet_gb\n",
       "count   941.000000  941.000000   941.000000\n",
       "mean    548.890542   49.260361    19.695005\n",
       "std     306.619353   47.066174     9.735407\n",
       "min       0.000000    0.000000     0.000000\n",
       "25%     315.000000    5.000000    12.000000\n",
       "50%     531.000000   40.000000    19.000000\n",
       "75%     760.000000   79.000000    27.000000\n",
       "max    1673.000000  224.000000    49.000000"
      ]
     },
     "metadata": {},
     "output_type": "display_data"
    },
    {
     "name": "stdout",
     "output_type": "stream",
     "text": [
      "Дисперсия calls_min равна 93915.5\n",
      "Дисперсия messages равна 2212.9\n",
      "Дисперсия internet_gb равна 94.7\n",
      "\n"
     ]
    }
   ],
   "source": [
    "lst_df = [df_smart, df_ultra]\n",
    "lst_metrics = ['calls_min', 'messages', 'internet_gb']\n",
    "\n",
    "for df in lst_df:\n",
    "    var = 0\n",
    "    print(df.name)\n",
    "    display(df[lst_metrics].describe())\n",
    "    for element in lst_metrics:\n",
    "        var = np.var(df[element])\n",
    "        print(f'Дисперсия {element} равна {var:.1f}')\n",
    "    print()"
   ]
  },
  {
   "cell_type": "markdown",
   "metadata": {},
   "source": [
    "В выборку тарифа Smart попали 2222 абонента, в Ultra - 941. Средние значения метрик для тарифа Ultra ожидаемо выше и имеют больший разброс в виде болле высоких значений стандартного отклонения. Поочередно построим гистограммы, чтобы проанализировать распределения на графике."
   ]
  },
  {
   "cell_type": "code",
   "execution_count": 127,
   "metadata": {},
   "outputs": [
    {
     "data": {
      "text/plain": [
       "<matplotlib.axes._subplots.AxesSubplot at 0x7f72df0ec290>"
      ]
     },
     "execution_count": 127,
     "metadata": {},
     "output_type": "execute_result"
    },
    {
     "data": {
      "image/png": "[encoded data removed]",
      "text/plain": [
       "<Figure size 432x288 with 1 Axes>"
      ]
     },
     "metadata": {
      "needs_background": "light"
     },
     "output_type": "display_data"
    }
   ],
   "source": [
    "df_smart['calls_min'].hist()\n",
    "df_ultra['calls_min'].hist()"
   ]
  },
  {
   "cell_type": "markdown",
   "metadata": {},
   "source": [
    "Оба распределения - нормальные и скошены вправо, при этом для абонентов тарифа Ultra характера бОльшая вариативность в минутах, в то время как большинство абонентов тарифа Smart тратят количество минут, близкое к ограничению по тарифу (500 мин)."
   ]
  },
  {
   "cell_type": "code",
   "execution_count": 128,
   "metadata": {},
   "outputs": [
    {
     "data": {
      "text/plain": [
       "<matplotlib.axes._subplots.AxesSubplot at 0x7f72e103de50>"
      ]
     },
     "execution_count": 128,
     "metadata": {},
     "output_type": "execute_result"
    },
    {
     "data": {
      "image/png": "[encoded data removed]",
      "text/plain": [
       "<Figure size 432x288 with 1 Axes>"
      ]
     },
     "metadata": {
      "needs_background": "light"
     },
     "output_type": "display_data"
    }
   ],
   "source": [
    "df_smart['messages'].hist()\n",
    "df_ultra['messages'].hist()"
   ]
  },
  {
   "cell_type": "markdown",
   "metadata": {},
   "source": [
    "Распределения по отправленным сообщениям очень похожи и имеют распределение Пуассона, высота столбцов отличается только засчет разного количества наблюдений в выборках. Большинство абонентов отправляет не более 50 SMS в месяц."
   ]
  },
  {
   "cell_type": "code",
   "execution_count": 129,
   "metadata": {},
   "outputs": [
    {
     "data": {
      "text/plain": [
       "<matplotlib.axes._subplots.AxesSubplot at 0x7f72e0f665d0>"
      ]
     },
     "execution_count": 129,
     "metadata": {},
     "output_type": "execute_result"
    },
    {
     "data": {
      "image/png": "[encoded data removed]",
      "text/plain": [
       "<Figure size 432x288 with 1 Axes>"
      ]
     },
     "metadata": {
      "needs_background": "light"
     },
     "output_type": "display_data"
    }
   ],
   "source": [
    "df_smart['internet_gb'].hist()\n",
    "df_ultra['internet_gb'].hist()"
   ]
  },
  {
   "cell_type": "markdown",
   "metadata": {},
   "source": [
    "Распределения использованных gb очень напоминает нормальное с медианой для обоих тарифов в районе 17-19 gb."
   ]
  },
  {
   "cell_type": "markdown",
   "metadata": {},
   "source": [
    "<a id='hypothesis'></a>\n",
    "## Проверка гипотез"
   ]
  },
  {
   "cell_type": "markdown",
   "metadata": {},
   "source": [
    "<a id='tariffs'></a>\n",
    "### Выручка по тарифам"
   ]
  },
  {
   "cell_type": "code",
   "execution_count": 130,
   "metadata": {
    "scrolled": true
   },
   "outputs": [
    {
     "name": "stdout",
     "output_type": "stream",
     "text": [
      "count    2222.000000\n",
      "mean     1291.224572\n",
      "std       819.153324\n",
      "min       550.000000\n",
      "25%       550.000000\n",
      "50%      1032.000000\n",
      "75%      1750.000000\n",
      "max      6770.000000\n",
      "Name: revenue, dtype: float64\n",
      "\n",
      "count     941.000000\n",
      "mean     2072.263549\n",
      "std       381.229923\n",
      "min      1950.000000\n",
      "25%      1950.000000\n",
      "50%      1950.000000\n",
      "75%      1950.000000\n",
      "max      4800.000000\n",
      "Name: revenue, dtype: float64\n"
     ]
    }
   ],
   "source": [
    "print(df_smart['revenue'].describe())\n",
    "print()\n",
    "print(df_ultra['revenue'].describe())"
   ]
  },
  {
   "cell_type": "markdown",
   "metadata": {},
   "source": [
    "Сформулируем гипотезы:   \n",
    "- H0: Средняя выручка тарифа Smart равна средней выручке тарифа Ultra.\n",
    "- H1: Средние выручки не равны.   \n",
    "<br>\n",
    "Для проверки гипотезы будем использовать t-тест для проверки равенства средних генеральных совокупностей с неравными дисперсиями, так как первичный анализ показал, что стандартные отклонения сильно отличаются по тарифам: разброс в тарифе Ultra значительно ниже.   \n",
    "Критический уровень установим в 5%"
   ]
  },
  {
   "cell_type": "code",
   "execution_count": 131,
   "metadata": {},
   "outputs": [
    {
     "name": "stdout",
     "output_type": "stream",
     "text": [
      "p-value равно 0.000\n",
      "Отвергаем нулевую гипотезу. Средние не равны\n"
     ]
    }
   ],
   "source": [
    "result_tariffs = st.ttest_ind(df_smart['revenue'], df_ultra['revenue'], equal_var = False)\n",
    "alpha = 0.05\n",
    "print(f'p-value равно {result_tariffs.pvalue:.3f}')\n",
    "\n",
    "if result_tariffs.pvalue > alpha:\n",
    "    print('Принимаем нулевую гипотезу. Средние равны')\n",
    "else:\n",
    "    print('Отвергаем нулевую гипотезу. Средние не равны')"
   ]
  },
  {
   "cell_type": "markdown",
   "metadata": {},
   "source": [
    "<a id='cities'></a>\n",
    "### Выручка по городам"
   ]
  },
  {
   "cell_type": "code",
   "execution_count": 132,
   "metadata": {
    "scrolled": true
   },
   "outputs": [
    {
     "name": "stdout",
     "output_type": "stream",
     "text": [
      "count     610.000000\n",
      "mean     1546.052459\n",
      "std       752.527584\n",
      "min       550.000000\n",
      "25%       778.750000\n",
      "50%      1750.000000\n",
      "75%      1950.000000\n",
      "max      5321.000000\n",
      "Name: revenue, dtype: float64\n",
      "\n",
      "count    2553.000000\n",
      "mean     1518.217391\n",
      "std       812.551523\n",
      "min       550.000000\n",
      "25%       750.000000\n",
      "50%      1550.000000\n",
      "75%      1950.000000\n",
      "max      6770.000000\n",
      "Name: revenue, dtype: float64\n"
     ]
    }
   ],
   "source": [
    "df = df_activities_by_month\n",
    "print(df.query('city == \"Москва\"')['revenue'].describe())\n",
    "print()\n",
    "print(df.query('city != \"Москва\"')['revenue'].describe())"
   ]
  },
  {
   "cell_type": "markdown",
   "metadata": {},
   "source": [
    "Стандартные отклонения достаточно близки, поэтому будем использовать тест с равенством дисперсий."
   ]
  },
  {
   "cell_type": "code",
   "execution_count": 133,
   "metadata": {},
   "outputs": [
    {
     "name": "stdout",
     "output_type": "stream",
     "text": [
      "p-value равно 0.441\n",
      "Не отвергаем нулевую гипотезу. Средние равны\n"
     ]
    }
   ],
   "source": [
    "result_cities = st.ttest_ind(df.query('city == \"Москва\"')['revenue'], df.query('city != \"Москва\"')['revenue'], equal_var = True)\n",
    "alpha = 0.05\n",
    "print(f'p-value равно {result_cities.pvalue:.3f}')\n",
    "\n",
    "if result_cities.pvalue > alpha:\n",
    "    print('Не отвергаем нулевую гипотезу. Средние равны')\n",
    "else:\n",
    "    print('Отвергаем нулевую гипотезу. Средние не равны')"
   ]
  },
  {
   "cell_type": "markdown",
   "metadata": {},
   "source": [
    "<a id='summary'></a>\n",
    "## Выводы"
   ]
  },
  {
   "cell_type": "markdown",
   "metadata": {},
   "source": [
    "1. Поведение абонентов разных тарифов отличается: кол-во потраченных минут на тарифе Ultra более вариативно, на тарифе Smart сосредоточено возле ограничения тарифа в 500 минут.\n",
    "2. Все абоненты отправляют мало сообщений вне зависимости от тарифа.\n",
    "3. Среднее потребление интернет-траффика также очень похоже для абонентов обоих тарифов.\n",
    "4. Средняя выручка тарифов статистически различается.\n",
    "5. Средняя выручка в Москве статистически равна средней выручке в остальных городах."
   ]
  }
 ],
 "metadata": {
  "ExecuteTimeLog": [
   {
    "duration": 3692,
    "start_time": "2022-01-22T09:08:13.812Z"
   },
   {
    "duration": -105,
    "start_time": "2022-01-22T09:08:17.614Z"
   },
   {
    "duration": -107,
    "start_time": "2022-01-22T09:08:17.617Z"
   },
   {
    "duration": -108,
    "start_time": "2022-01-22T09:08:17.620Z"
   },
   {
    "duration": -108,
    "start_time": "2022-01-22T09:08:17.622Z"
   },
   {
    "duration": -109,
    "start_time": "2022-01-22T09:08:17.624Z"
   },
   {
    "duration": -109,
    "start_time": "2022-01-22T09:08:17.626Z"
   },
   {
    "duration": -110,
    "start_time": "2022-01-22T09:08:17.628Z"
   },
   {
    "duration": -109,
    "start_time": "2022-01-22T09:08:17.629Z"
   },
   {
    "duration": -110,
    "start_time": "2022-01-22T09:08:17.631Z"
   },
   {
    "duration": -110,
    "start_time": "2022-01-22T09:08:17.633Z"
   },
   {
    "duration": -111,
    "start_time": "2022-01-22T09:08:17.635Z"
   },
   {
    "duration": -112,
    "start_time": "2022-01-22T09:08:17.637Z"
   },
   {
    "duration": -113,
    "start_time": "2022-01-22T09:08:17.640Z"
   },
   {
    "duration": -114,
    "start_time": "2022-01-22T09:08:17.642Z"
   },
   {
    "duration": -115,
    "start_time": "2022-01-22T09:08:17.645Z"
   },
   {
    "duration": -116,
    "start_time": "2022-01-22T09:08:17.647Z"
   },
   {
    "duration": -118,
    "start_time": "2022-01-22T09:08:17.650Z"
   },
   {
    "duration": -117,
    "start_time": "2022-01-22T09:08:17.651Z"
   },
   {
    "duration": -118,
    "start_time": "2022-01-22T09:08:17.653Z"
   },
   {
    "duration": -118,
    "start_time": "2022-01-22T09:08:17.655Z"
   },
   {
    "duration": -119,
    "start_time": "2022-01-22T09:08:17.657Z"
   },
   {
    "duration": -120,
    "start_time": "2022-01-22T09:08:17.659Z"
   },
   {
    "duration": -120,
    "start_time": "2022-01-22T09:08:17.661Z"
   },
   {
    "duration": -120,
    "start_time": "2022-01-22T09:08:17.662Z"
   },
   {
    "duration": -120,
    "start_time": "2022-01-22T09:08:17.664Z"
   },
   {
    "duration": -121,
    "start_time": "2022-01-22T09:08:17.666Z"
   },
   {
    "duration": -122,
    "start_time": "2022-01-22T09:08:17.668Z"
   },
   {
    "duration": -123,
    "start_time": "2022-01-22T09:08:17.670Z"
   },
   {
    "duration": -122,
    "start_time": "2022-01-22T09:08:17.671Z"
   },
   {
    "duration": -122,
    "start_time": "2022-01-22T09:08:17.673Z"
   },
   {
    "duration": -123,
    "start_time": "2022-01-22T09:08:17.675Z"
   },
   {
    "duration": 632,
    "start_time": "2022-01-22T09:10:07.304Z"
   },
   {
    "duration": 70,
    "start_time": "2022-01-22T09:10:12.226Z"
   },
   {
    "duration": 70,
    "start_time": "2022-01-22T09:10:12.300Z"
   },
   {
    "duration": 686,
    "start_time": "2022-01-22T09:10:12.375Z"
   },
   {
    "duration": 166,
    "start_time": "2022-01-22T09:10:13.066Z"
   },
   {
    "duration": 48,
    "start_time": "2022-01-22T09:10:13.235Z"
   },
   {
    "duration": 23,
    "start_time": "2022-01-22T09:10:13.287Z"
   },
   {
    "duration": 467,
    "start_time": "2022-01-22T09:10:13.333Z"
   },
   {
    "duration": 90,
    "start_time": "2022-01-22T09:10:13.803Z"
   },
   {
    "duration": 46,
    "start_time": "2022-01-22T09:10:13.897Z"
   },
   {
    "duration": 19,
    "start_time": "2022-01-22T09:10:13.947Z"
   },
   {
    "duration": 14,
    "start_time": "2022-01-22T09:10:13.969Z"
   },
   {
    "duration": 14,
    "start_time": "2022-01-22T09:10:13.985Z"
   },
   {
    "duration": 333,
    "start_time": "2022-01-22T09:10:14.002Z"
   },
   {
    "duration": 279,
    "start_time": "2022-01-22T09:10:14.337Z"
   },
   {
    "duration": 56,
    "start_time": "2022-01-22T09:10:14.619Z"
   },
   {
    "duration": 88,
    "start_time": "2022-01-22T09:10:14.678Z"
   },
   {
    "duration": 30,
    "start_time": "2022-01-22T09:10:14.769Z"
   },
   {
    "duration": 40,
    "start_time": "2022-01-22T09:10:14.802Z"
   },
   {
    "duration": 42,
    "start_time": "2022-01-22T09:10:14.845Z"
   },
   {
    "duration": 53,
    "start_time": "2022-01-22T09:10:14.890Z"
   },
   {
    "duration": 10,
    "start_time": "2022-01-22T09:10:14.947Z"
   },
   {
    "duration": 1794,
    "start_time": "2022-01-22T09:10:14.960Z"
   },
   {
    "duration": 10,
    "start_time": "2022-01-22T09:10:16.757Z"
   },
   {
    "duration": 79,
    "start_time": "2022-01-22T09:10:16.769Z"
   },
   {
    "duration": 352,
    "start_time": "2022-01-22T09:10:16.850Z"
   },
   {
    "duration": 351,
    "start_time": "2022-01-22T09:10:17.205Z"
   },
   {
    "duration": 325,
    "start_time": "2022-01-22T09:10:17.561Z"
   },
   {
    "duration": 15,
    "start_time": "2022-01-22T09:10:17.889Z"
   },
   {
    "duration": 29,
    "start_time": "2022-01-22T09:10:17.906Z"
   },
   {
    "duration": 31,
    "start_time": "2022-01-22T09:10:17.937Z"
   },
   {
    "duration": 12,
    "start_time": "2022-01-22T09:10:17.970Z"
   },
   {
    "duration": 4556,
    "start_time": "2022-01-28T15:36:41.826Z"
   },
   {
    "duration": -195,
    "start_time": "2022-01-28T15:36:46.583Z"
   },
   {
    "duration": -198,
    "start_time": "2022-01-28T15:36:46.588Z"
   },
   {
    "duration": -199,
    "start_time": "2022-01-28T15:36:46.591Z"
   },
   {
    "duration": -237,
    "start_time": "2022-01-28T15:36:46.632Z"
   },
   {
    "duration": -248,
    "start_time": "2022-01-28T15:36:46.644Z"
   },
   {
    "duration": -247,
    "start_time": "2022-01-28T15:36:46.645Z"
   },
   {
    "duration": -256,
    "start_time": "2022-01-28T15:36:46.656Z"
   },
   {
    "duration": -268,
    "start_time": "2022-01-28T15:36:46.670Z"
   },
   {
    "duration": -313,
    "start_time": "2022-01-28T15:36:46.717Z"
   },
   {
    "duration": -343,
    "start_time": "2022-01-28T15:36:46.748Z"
   },
   {
    "duration": -344,
    "start_time": "2022-01-28T15:36:46.751Z"
   },
   {
    "duration": -343,
    "start_time": "2022-01-28T15:36:46.752Z"
   },
   {
    "duration": -348,
    "start_time": "2022-01-28T15:36:46.758Z"
   },
   {
    "duration": -350,
    "start_time": "2022-01-28T15:36:46.762Z"
   },
   {
    "duration": -352,
    "start_time": "2022-01-28T15:36:46.766Z"
   },
   {
    "duration": -354,
    "start_time": "2022-01-28T15:36:46.769Z"
   },
   {
    "duration": -356,
    "start_time": "2022-01-28T15:36:46.772Z"
   },
   {
    "duration": -357,
    "start_time": "2022-01-28T15:36:46.775Z"
   },
   {
    "duration": -356,
    "start_time": "2022-01-28T15:36:46.776Z"
   },
   {
    "duration": -361,
    "start_time": "2022-01-28T15:36:46.782Z"
   },
   {
    "duration": -361,
    "start_time": "2022-01-28T15:36:46.784Z"
   },
   {
    "duration": -375,
    "start_time": "2022-01-28T15:36:46.799Z"
   },
   {
    "duration": -377,
    "start_time": "2022-01-28T15:36:46.803Z"
   },
   {
    "duration": -377,
    "start_time": "2022-01-28T15:36:46.805Z"
   },
   {
    "duration": -376,
    "start_time": "2022-01-28T15:36:46.806Z"
   },
   {
    "duration": -378,
    "start_time": "2022-01-28T15:36:46.810Z"
   },
   {
    "duration": -380,
    "start_time": "2022-01-28T15:36:46.813Z"
   },
   {
    "duration": -379,
    "start_time": "2022-01-28T15:36:46.814Z"
   },
   {
    "duration": -379,
    "start_time": "2022-01-28T15:36:46.815Z"
   },
   {
    "duration": -379,
    "start_time": "2022-01-28T15:36:46.817Z"
   },
   {
    "duration": -382,
    "start_time": "2022-01-28T15:36:46.822Z"
   },
   {
    "duration": -381,
    "start_time": "2022-01-28T15:36:46.823Z"
   },
   {
    "duration": 3030,
    "start_time": "2022-01-28T15:37:06.890Z"
   },
   {
    "duration": 647,
    "start_time": "2022-01-28T15:38:15.223Z"
   },
   {
    "duration": 645,
    "start_time": "2022-01-28T15:40:23.156Z"
   },
   {
    "duration": 47,
    "start_time": "2022-01-28T15:40:23.804Z"
   },
   {
    "duration": 29,
    "start_time": "2022-01-28T15:40:23.854Z"
   },
   {
    "duration": 512,
    "start_time": "2022-01-28T15:40:23.887Z"
   },
   {
    "duration": 125,
    "start_time": "2022-01-28T15:40:24.401Z"
   },
   {
    "duration": 32,
    "start_time": "2022-01-28T15:40:24.528Z"
   },
   {
    "duration": 16,
    "start_time": "2022-01-28T15:40:24.563Z"
   },
   {
    "duration": 365,
    "start_time": "2022-01-28T15:40:24.583Z"
   },
   {
    "duration": 85,
    "start_time": "2022-01-28T15:40:24.952Z"
   },
   {
    "duration": 28,
    "start_time": "2022-01-28T15:40:25.040Z"
   },
   {
    "duration": 16,
    "start_time": "2022-01-28T15:40:25.070Z"
   },
   {
    "duration": 45,
    "start_time": "2022-01-28T15:40:25.089Z"
   },
   {
    "duration": 13,
    "start_time": "2022-01-28T15:40:25.137Z"
   },
   {
    "duration": 324,
    "start_time": "2022-01-28T15:40:25.152Z"
   },
   {
    "duration": 250,
    "start_time": "2022-01-28T15:40:25.479Z"
   },
   {
    "duration": 34,
    "start_time": "2022-01-28T15:40:25.732Z"
   },
   {
    "duration": 81,
    "start_time": "2022-01-28T15:40:25.769Z"
   },
   {
    "duration": 25,
    "start_time": "2022-01-28T15:40:25.852Z"
   },
   {
    "duration": 12,
    "start_time": "2022-01-28T15:40:25.880Z"
   },
   {
    "duration": 49,
    "start_time": "2022-01-28T15:40:25.894Z"
   },
   {
    "duration": 30,
    "start_time": "2022-01-28T15:40:25.946Z"
   },
   {
    "duration": 8,
    "start_time": "2022-01-28T15:40:25.978Z"
   },
   {
    "duration": 1037,
    "start_time": "2022-01-28T15:40:25.991Z"
   },
   {
    "duration": 11,
    "start_time": "2022-01-28T15:40:27.031Z"
   },
   {
    "duration": 89,
    "start_time": "2022-01-28T15:40:27.045Z"
   },
   {
    "duration": 373,
    "start_time": "2022-01-28T15:40:27.136Z"
   },
   {
    "duration": 365,
    "start_time": "2022-01-28T15:40:27.511Z"
   },
   {
    "duration": 386,
    "start_time": "2022-01-28T15:40:27.879Z"
   },
   {
    "duration": 17,
    "start_time": "2022-01-28T15:40:28.268Z"
   },
   {
    "duration": 9,
    "start_time": "2022-01-28T15:40:28.287Z"
   },
   {
    "duration": 34,
    "start_time": "2022-01-28T15:40:28.299Z"
   },
   {
    "duration": 19,
    "start_time": "2022-01-28T15:40:28.336Z"
   },
   {
    "duration": 40,
    "start_time": "2022-01-28T15:41:32.849Z"
   },
   {
    "duration": 659,
    "start_time": "2022-01-28T15:42:00.337Z"
   },
   {
    "duration": 48,
    "start_time": "2022-01-28T15:42:00.999Z"
   },
   {
    "duration": 20,
    "start_time": "2022-01-28T15:42:01.050Z"
   },
   {
    "duration": 354,
    "start_time": "2022-01-28T15:42:01.072Z"
   },
   {
    "duration": 137,
    "start_time": "2022-01-28T15:42:01.428Z"
   },
   {
    "duration": 34,
    "start_time": "2022-01-28T15:42:01.568Z"
   },
   {
    "duration": 38,
    "start_time": "2022-01-28T15:42:01.604Z"
   },
   {
    "duration": 347,
    "start_time": "2022-01-28T15:42:01.645Z"
   },
   {
    "duration": 76,
    "start_time": "2022-01-28T15:42:01.996Z"
   },
   {
    "duration": 25,
    "start_time": "2022-01-28T15:42:02.075Z"
   },
   {
    "duration": 30,
    "start_time": "2022-01-28T15:42:02.103Z"
   },
   {
    "duration": 19,
    "start_time": "2022-01-28T15:42:02.136Z"
   },
   {
    "duration": 14,
    "start_time": "2022-01-28T15:42:02.157Z"
   },
   {
    "duration": 401,
    "start_time": "2022-01-28T15:42:02.173Z"
   },
   {
    "duration": 247,
    "start_time": "2022-01-28T15:42:02.578Z"
   },
   {
    "duration": 33,
    "start_time": "2022-01-28T15:42:02.827Z"
   },
   {
    "duration": 101,
    "start_time": "2022-01-28T15:42:02.863Z"
   },
   {
    "duration": 25,
    "start_time": "2022-01-28T15:42:02.967Z"
   },
   {
    "duration": 38,
    "start_time": "2022-01-28T15:42:02.995Z"
   },
   {
    "duration": 43,
    "start_time": "2022-01-28T15:42:03.036Z"
   },
   {
    "duration": 50,
    "start_time": "2022-01-28T15:42:03.081Z"
   },
   {
    "duration": 8,
    "start_time": "2022-01-28T15:42:03.134Z"
   },
   {
    "duration": 1118,
    "start_time": "2022-01-28T15:42:03.144Z"
   },
   {
    "duration": 11,
    "start_time": "2022-01-28T15:42:04.264Z"
   },
   {
    "duration": 80,
    "start_time": "2022-01-28T15:42:04.277Z"
   },
   {
    "duration": 369,
    "start_time": "2022-01-28T15:42:04.359Z"
   },
   {
    "duration": 333,
    "start_time": "2022-01-28T15:42:04.735Z"
   },
   {
    "duration": 337,
    "start_time": "2022-01-28T15:42:05.070Z"
   },
   {
    "duration": 22,
    "start_time": "2022-01-28T15:42:05.410Z"
   },
   {
    "duration": 7,
    "start_time": "2022-01-28T15:42:05.435Z"
   },
   {
    "duration": 22,
    "start_time": "2022-01-28T15:42:05.444Z"
   },
   {
    "duration": 14,
    "start_time": "2022-01-28T15:42:05.469Z"
   },
   {
    "duration": 2330,
    "start_time": "2022-01-28T15:44:32.166Z"
   },
   {
    "duration": 54,
    "start_time": "2022-01-28T15:44:34.500Z"
   },
   {
    "duration": 20,
    "start_time": "2022-01-28T15:44:34.558Z"
   },
   {
    "duration": 402,
    "start_time": "2022-01-28T15:44:34.581Z"
   },
   {
    "duration": 145,
    "start_time": "2022-01-28T15:44:34.987Z"
   },
   {
    "duration": 50,
    "start_time": "2022-01-28T15:44:35.136Z"
   },
   {
    "duration": 39,
    "start_time": "2022-01-28T15:44:35.189Z"
   },
   {
    "duration": 353,
    "start_time": "2022-01-28T15:44:35.233Z"
   },
   {
    "duration": 85,
    "start_time": "2022-01-28T15:44:35.590Z"
   },
   {
    "duration": 50,
    "start_time": "2022-01-28T15:44:35.678Z"
   },
   {
    "duration": 17,
    "start_time": "2022-01-28T15:44:35.730Z"
   },
   {
    "duration": 16,
    "start_time": "2022-01-28T15:44:35.750Z"
   },
   {
    "duration": 20,
    "start_time": "2022-01-28T15:44:35.769Z"
   },
   {
    "duration": 492,
    "start_time": "2022-01-28T15:44:35.792Z"
   },
   {
    "duration": 320,
    "start_time": "2022-01-28T15:44:36.288Z"
   },
   {
    "duration": 41,
    "start_time": "2022-01-28T15:44:36.611Z"
   },
   {
    "duration": 73,
    "start_time": "2022-01-28T15:44:36.655Z"
   },
   {
    "duration": 21,
    "start_time": "2022-01-28T15:44:36.731Z"
   },
   {
    "duration": 14,
    "start_time": "2022-01-28T15:44:36.755Z"
   },
   {
    "duration": 68,
    "start_time": "2022-01-28T15:44:36.772Z"
   },
   {
    "duration": 22,
    "start_time": "2022-01-28T15:44:36.842Z"
   },
   {
    "duration": 9,
    "start_time": "2022-01-28T15:44:36.867Z"
   },
   {
    "duration": 1099,
    "start_time": "2022-01-28T15:44:36.882Z"
   },
   {
    "duration": 12,
    "start_time": "2022-01-28T15:44:37.984Z"
   },
   {
    "duration": 88,
    "start_time": "2022-01-28T15:44:37.998Z"
   },
   {
    "duration": 520,
    "start_time": "2022-01-28T15:44:38.088Z"
   },
   {
    "duration": 367,
    "start_time": "2022-01-28T15:44:38.611Z"
   },
   {
    "duration": 358,
    "start_time": "2022-01-28T15:44:38.981Z"
   },
   {
    "duration": 21,
    "start_time": "2022-01-28T15:44:39.342Z"
   },
   {
    "duration": 12,
    "start_time": "2022-01-28T15:44:39.366Z"
   },
   {
    "duration": 58,
    "start_time": "2022-01-28T15:44:39.382Z"
   },
   {
    "duration": 17,
    "start_time": "2022-01-28T15:44:39.443Z"
   },
   {
    "duration": 18,
    "start_time": "2022-01-28T15:47:43.292Z"
   },
   {
    "duration": 629,
    "start_time": "2022-01-28T15:48:09.104Z"
   },
   {
    "duration": 40,
    "start_time": "2022-01-28T15:48:09.735Z"
   },
   {
    "duration": 46,
    "start_time": "2022-01-28T15:48:09.778Z"
   },
   {
    "duration": 472,
    "start_time": "2022-01-28T15:48:09.828Z"
   },
   {
    "duration": 154,
    "start_time": "2022-01-28T15:48:10.303Z"
   },
   {
    "duration": 30,
    "start_time": "2022-01-28T15:48:10.459Z"
   },
   {
    "duration": 33,
    "start_time": "2022-01-28T15:48:10.492Z"
   },
   {
    "duration": 424,
    "start_time": "2022-01-28T15:48:10.528Z"
   },
   {
    "duration": 87,
    "start_time": "2022-01-28T15:48:10.956Z"
   },
   {
    "duration": 28,
    "start_time": "2022-01-28T15:48:11.046Z"
   },
   {
    "duration": 14,
    "start_time": "2022-01-28T15:48:11.076Z"
   },
   {
    "duration": 36,
    "start_time": "2022-01-28T15:48:11.093Z"
   },
   {
    "duration": 17,
    "start_time": "2022-01-28T15:48:11.132Z"
   },
   {
    "duration": 323,
    "start_time": "2022-01-28T15:48:11.151Z"
   },
   {
    "duration": 246,
    "start_time": "2022-01-28T15:48:11.477Z"
   },
   {
    "duration": 34,
    "start_time": "2022-01-28T15:48:11.726Z"
   },
   {
    "duration": 76,
    "start_time": "2022-01-28T15:48:11.763Z"
   },
   {
    "duration": 24,
    "start_time": "2022-01-28T15:48:11.842Z"
   },
   {
    "duration": 25,
    "start_time": "2022-01-28T15:48:11.868Z"
   },
   {
    "duration": 46,
    "start_time": "2022-01-28T15:48:11.896Z"
   },
   {
    "duration": 20,
    "start_time": "2022-01-28T15:48:11.944Z"
   },
   {
    "duration": 8,
    "start_time": "2022-01-28T15:48:11.966Z"
   },
   {
    "duration": 1036,
    "start_time": "2022-01-28T15:48:11.979Z"
   },
   {
    "duration": 10,
    "start_time": "2022-01-28T15:48:13.023Z"
   },
   {
    "duration": 58,
    "start_time": "2022-01-28T15:48:13.035Z"
   },
   {
    "duration": 384,
    "start_time": "2022-01-28T15:48:13.096Z"
   },
   {
    "duration": 359,
    "start_time": "2022-01-28T15:48:13.482Z"
   },
   {
    "duration": 337,
    "start_time": "2022-01-28T15:48:13.843Z"
   },
   {
    "duration": 18,
    "start_time": "2022-01-28T15:48:14.182Z"
   },
   {
    "duration": 24,
    "start_time": "2022-01-28T15:48:14.203Z"
   },
   {
    "duration": 24,
    "start_time": "2022-01-28T15:48:14.229Z"
   },
   {
    "duration": 14,
    "start_time": "2022-01-28T15:48:14.255Z"
   }
  ],
  "kernelspec": {
   "display_name": "Python 3",
   "language": "python",
   "name": "python3"
  },
  "language_info": {
   "codemirror_mode": {
    "name": "ipython",
    "version": 3
   },
   "file_extension": ".py",
   "mimetype": "text/x-python",
   "name": "python",
   "nbconvert_exporter": "python",
   "pygments_lexer": "ipython3",
   "version": "3.7.13"
  },
  "toc": {
   "base_numbering": 1,
   "nav_menu": {},
   "number_sections": true,
   "sideBar": true,
   "skip_h1_title": true,
   "title_cell": "Table of Contents",
   "title_sidebar": "Contents",
   "toc_cell": false,
   "toc_position": {},
   "toc_section_display": true,
   "toc_window_display": false
  }
 },
 "nbformat": 4,
 "nbformat_minor": 2
}
