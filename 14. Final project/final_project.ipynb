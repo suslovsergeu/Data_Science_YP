{
 "cells": [
  {
   "cell_type": "markdown",
   "id": "ded260e0",
   "metadata": {
    "toc": true
   },
   "source": [
    "<h1>Table of Contents<span class=\"tocSkip\"></span></h1>\n",
    "<div class=\"toc\"><ul class=\"toc-item\"><li><span><a href=\"#Описание-проекта\" data-toc-modified-id=\"Описание-проекта-1\"><span class=\"toc-item-num\">1&nbsp;&nbsp;</span>Описание проекта</a></span><ul class=\"toc-item\"><li><span><a href=\"#Контекст\" data-toc-modified-id=\"Контекст-1.1\"><span class=\"toc-item-num\">1.1&nbsp;&nbsp;</span>Контекст</a></span></li><li><span><a href=\"#Методология\" data-toc-modified-id=\"Методология-1.2\"><span class=\"toc-item-num\">1.2&nbsp;&nbsp;</span>Методология</a></span></li></ul></li><li><span><a href=\"#Исследовательский-анализ-данных\" data-toc-modified-id=\"Исследовательский-анализ-данных-2\"><span class=\"toc-item-num\">2&nbsp;&nbsp;</span>Исследовательский анализ данных</a></span><ul class=\"toc-item\"><li><span><a href=\"#Обработка-данных\" data-toc-modified-id=\"Обработка-данных-2.1\"><span class=\"toc-item-num\">2.1&nbsp;&nbsp;</span>Обработка данных</a></span></li><li><span><a href=\"#Первичный-анализ-данных\" data-toc-modified-id=\"Первичный-анализ-данных-2.2\"><span class=\"toc-item-num\">2.2&nbsp;&nbsp;</span>Первичный анализ данных</a></span></li></ul></li><li><span><a href=\"#Выбор-модели\" data-toc-modified-id=\"Выбор-модели-3\"><span class=\"toc-item-num\">3&nbsp;&nbsp;</span>Выбор модели</a></span></li><li><span><a href=\"#Тест-модели-и-выводы\" data-toc-modified-id=\"Тест-модели-и-выводы-4\"><span class=\"toc-item-num\">4&nbsp;&nbsp;</span>Тест модели и выводы</a></span></li><li><span><a href=\"#Отчет-по-проекту\" data-toc-modified-id=\"Отчет-по-проекту-5\"><span class=\"toc-item-num\">5&nbsp;&nbsp;</span>Отчет по проекту</a></span></li></ul></div>"
   ]
  },
  {
   "cell_type": "markdown",
   "id": "847252f8",
   "metadata": {},
   "source": [
    "## Описание проекта"
   ]
  },
  {
   "cell_type": "markdown",
   "id": "89502322",
   "metadata": {},
   "source": [
    "### Контекст"
   ]
  },
  {
   "cell_type": "markdown",
   "id": "e2258cd0",
   "metadata": {},
   "source": [
    "**Бизнес-задача:** минимизация издержек производства стали, путем снижения потребления электроэнергии.   "
   ]
  },
  {
   "cell_type": "markdown",
   "id": "ceb66cfb",
   "metadata": {},
   "source": [
    "**Процесс производства**   \n",
    "Сталь обрабатывают в металлическом ковше вместимостью около 100 тонн. Чтобы ковш выдерживал высокие температуры, изнутри его облицовывают огнеупорным кирпичом. Расплавленную сталь заливают в ковш и подогревают до нужной температуры графитовыми электродами. Они установлены в крышке ковша. \n",
    "\n",
    "Из сплава выводится сера (десульфурация), добавлением примесей корректируется химический состав и отбираются пробы. Сталь легируют — изменяют её состав — подавая куски сплава из бункера для сыпучих материалов или проволоку через специальный трайб-аппарат (англ. tribe, «масса»).\n",
    "\n",
    "Перед тем как первый раз ввести легирующие добавки, измеряют температуру стали и производят её химический анализ. Потом температуру на несколько минут повышают, добавляют легирующие материалы и продувают сплав инертным газом. Затем его перемешивают и снова проводят измерения. Такой цикл повторяется до достижения целевого химического состава и оптимальной температуры плавки.\n",
    "\n",
    "Тогда расплавленная сталь отправляется на доводку металла или поступает в машину непрерывной разливки. Оттуда готовый продукт выходит в виде заготовок-слябов (англ. *slab*, «плита»)."
   ]
  },
  {
   "cell_type": "markdown",
   "id": "4d4a82ff",
   "metadata": {},
   "source": [
    "**Описание данных**   \n",
    "Данные состоят из файлов, полученных из разных источников:\n",
    "\n",
    "- `data_arc.csv` — данные об электродах;\n",
    "- `data_bulk.csv` — данные о подаче сыпучих материалов (объём);\n",
    "- `data_bulk_time.csv` — данные о подаче сыпучих материалов (время);\n",
    "- `data_gas.csv` — данные о продувке сплава газом;\n",
    "- `data_temp.csv` — результаты измерения температуры;\n",
    "- `data_wire.csv` — данные о проволочных материалах (объём);\n",
    "- `data_wire_time.csv` — данные о проволочных материалах (время).\n",
    "\n",
    "Во всех файлах столбец `key` содержит номер партии. В файлах может быть несколько строк с одинаковым значением `key`: они соответствуют разным итерациям обработки."
   ]
  },
  {
   "cell_type": "markdown",
   "id": "d220bc45",
   "metadata": {},
   "source": [
    "### Методология"
   ]
  },
  {
   "cell_type": "markdown",
   "id": "6dfbd440",
   "metadata": {},
   "source": [
    "**Цель проекта:** построить модель, предсказывающую температуру стали."
   ]
  },
  {
   "cell_type": "markdown",
   "id": "3dc91535",
   "metadata": {},
   "source": [
    "**Предположения**   \n",
    "Что влияет на температуру:\n",
    "1. Первичное значение измерения.\n",
    "2. Как долго шел нагрев и с какой мощностью.\n",
    "3. Что добавлялось из материалов, проволоки и в каких объемах.\n",
    "4. Объем газа при продувке"
   ]
  },
  {
   "cell_type": "markdown",
   "id": "e0d8bb6a",
   "metadata": {},
   "source": [
    "**План действий**   \n",
    "1. Агрегировать данные по материалам, проволоке и нагреву в разрезе партий, суммируя значения.\n",
    "2. Для каждой партии рассчитать начальное и конечное значения измерения температуры.\n",
    "3. Оставить в датасете только те наблюдения, которые содержат как начальное измерение, так и конечное в силу отсутствия достоверных данных по первичному состоянию.\n",
    "4. Провести первичный анализ данных на соответствие типам данных, дубликаты, пропуски, очистить от выбросов.\n",
    "5. Провести корреляционный анализ и убрать зависимые факторы.\n",
    "6. Подобрать наилучшую модель, исходя из выбранных метрик."
   ]
  },
  {
   "cell_type": "markdown",
   "id": "b4dbfd36",
   "metadata": {},
   "source": [
    "**Используемые методы**   \n",
    "Модели:\n",
    "1. Линейная регрессия\n",
    "2. Полиномиальная регрессия\n",
    "3. Случайный лес с подбором гиперпараметров\n",
    "4. KNN"
   ]
  },
  {
   "cell_type": "markdown",
   "id": "6bcee841",
   "metadata": {},
   "source": [
    "Метрики:   \n",
    "- MAE с референтным значением - 6.8\n",
    "- R$^2$"
   ]
  },
  {
   "cell_type": "markdown",
   "id": "7c4803cf",
   "metadata": {},
   "source": [
    "## Исследовательский анализ данных"
   ]
  },
  {
   "cell_type": "markdown",
   "id": "eea95095",
   "metadata": {},
   "source": [
    "### Обработка данных"
   ]
  },
  {
   "cell_type": "markdown",
   "id": "5630948a",
   "metadata": {},
   "source": [
    "Импортируем все необходимые библиотеки для дальнейшей работы и считаем данные."
   ]
  },
  {
   "cell_type": "code",
   "execution_count": 1,
   "id": "a574909c",
   "metadata": {},
   "outputs": [],
   "source": [
    "import warnings\n",
    "warnings.filterwarnings('ignore')\n",
    "import pandas as pd\n",
    "import numpy as np\n",
    "import seaborn as sns\n",
    "import matplotlib.pyplot as plt\n",
    "from matplotlib.gridspec import GridSpec\n",
    "\n",
    "from sklearn.model_selection import train_test_split, cross_val_score\n",
    "from sklearn.linear_model import LinearRegression\n",
    "from sklearn.ensemble import RandomForestRegressor\n",
    "from sklearn.metrics import r2_score, mean_absolute_error\n",
    "from sklearn.neighbors import KNeighborsRegressor\n",
    "from sklearn.preprocessing import StandardScaler"
   ]
  },
  {
   "cell_type": "code",
   "execution_count": 2,
   "id": "cc727090",
   "metadata": {},
   "outputs": [],
   "source": [
    "try:\n",
    "    data_arc = pd.read_csv('/datasets/final_steel/data_arc.csv')\n",
    "    data_bulk = pd.read_csv('/datasets/final_steel/data_bulk.csv')\n",
    "    data_bulk_time = pd.read_csv('/datasets/final_steel/data_bulk_time.csv')\n",
    "    data_gas = pd.read_csv('/datasets/final_steel/data_gas.csv')\n",
    "    data_temp = pd.read_csv('/datasets/final_steel/data_temp.csv')\n",
    "    data_wire = pd.read_csv('/datasets/final_steel/data_wire.csv')\n",
    "    data_wire_time = pd.read_csv('/datasets/final_steel/data_wire_time.csv')\n",
    "except:\n",
    "    data_arc = pd.read_csv('datasets/final_steel/data_arc.csv')\n",
    "    data_bulk = pd.read_csv('datasets/final_steel/data_bulk.csv')\n",
    "    data_bulk_time = pd.read_csv('datasets/final_steel/data_bulk_time.csv')\n",
    "    data_gas = pd.read_csv('datasets/final_steel/data_gas.csv')\n",
    "    data_temp = pd.read_csv('datasets/final_steel/data_temp.csv')\n",
    "    data_wire = pd.read_csv('datasets/final_steel/data_wire.csv')\n",
    "    data_wire_time = pd.read_csv('datasets/final_steel/data_wire_time.csv')"
   ]
  },
  {
   "cell_type": "markdown",
   "id": "1a0ee45b",
   "metadata": {},
   "source": [
    "**data_bulk & data_bulk_time**"
   ]
  },
  {
   "cell_type": "markdown",
   "id": "0b6f8f80",
   "metadata": {},
   "source": [
    "Датасеты содержат информацию об использованных материалах в разрезе партий: первый о количестве, второй о времени. Поскольку нас интересует суммарный объем использованных материалов в разрезе партий, а не время их применения, data_bulk_time можно убрать из анализа."
   ]
  },
  {
   "cell_type": "code",
   "execution_count": 3,
   "id": "3ff32613",
   "metadata": {},
   "outputs": [
    {
     "data": {
      "text/plain": [
       "Bulk 14    2806\n",
       "Bulk 12    2450\n",
       "Bulk 15    2248\n",
       "Bulk 3     1298\n",
       "Bulk 4     1014\n",
       "Bulk 6      576\n",
       "Bulk 1      252\n",
       "Bulk 11     177\n",
       "Bulk 10     176\n",
       "Bulk 5       77\n",
       "Bulk 7       25\n",
       "Bulk 2       22\n",
       "Bulk 9       19\n",
       "Bulk 13      18\n",
       "Bulk 8        1\n",
       "Name: bulk, dtype: int64"
      ]
     },
     "execution_count": 3,
     "metadata": {},
     "output_type": "execute_result"
    }
   ],
   "source": [
    "#создадим список всех наименований материалов\n",
    "ls = []\n",
    "for i in range(1, 16):\n",
    "    txt = 'Bulk ' + str(i)\n",
    "    ls.append(txt)\n",
    "\n",
    "#приведем data_bulk к табличному виду\n",
    "data_bulk_main = pd.melt(\n",
    "    data_bulk, \n",
    "    id_vars=['key'], \n",
    "    value_vars=ls\n",
    ").dropna().sort_values(by=['key', 'variable']).reset_index(drop=True)\n",
    "\n",
    "data_bulk_main.columns = ['key', 'bulk', 'bulk_amount']\n",
    "data_bulk_main['bulk'].value_counts()"
   ]
  },
  {
   "cell_type": "markdown",
   "id": "4e018c18",
   "metadata": {},
   "source": [
    "Можно заметить, что есть большое кол-во категорий, которые использовались менее 500 раз. Для получения более устойчивых оценок параметров заменим эти категории на 'bulk_other'"
   ]
  },
  {
   "cell_type": "code",
   "execution_count": 4,
   "id": "ac176487",
   "metadata": {
    "scrolled": false
   },
   "outputs": [
    {
     "data": {
      "text/plain": [
       "Bulk 14       2806\n",
       "Bulk 12       2450\n",
       "Bulk 15       2248\n",
       "Bulk 3        1298\n",
       "Bulk 4        1014\n",
       "bulk_other     767\n",
       "Bulk 6         576\n",
       "Name: bulk, dtype: int64"
      ]
     },
     "execution_count": 4,
     "metadata": {},
     "output_type": "execute_result"
    }
   ],
   "source": [
    "ls = data_bulk_main['bulk'].value_counts().head(6).index\n",
    "for i in range(len(data_bulk_main)):\n",
    "    if data_bulk_main['bulk'][i] not in ls:\n",
    "        data_bulk_main['bulk'][i] = 'bulk_other'\n",
    "data_bulk_main['bulk'].value_counts()"
   ]
  },
  {
   "cell_type": "markdown",
   "id": "c7b3e145",
   "metadata": {},
   "source": [
    "Далее приведем к табличному виду, чтобы категории материалов можно было в дальнейшем рассматривать как факторы."
   ]
  },
  {
   "cell_type": "code",
   "execution_count": 5,
   "id": "a3fa727f",
   "metadata": {},
   "outputs": [],
   "source": [
    "data_bulk_main = data_bulk_main.pivot_table(\n",
    "    index=['key'], \n",
    "    columns=['bulk'],\n",
    "    values=['bulk_amount'], \n",
    "    aggfunc='sum'\n",
    ").reset_index().fillna(0)\n",
    "data_bulk_main.columns = ['key', 'bulk_12', 'bulk_14', 'bulk_15', 'bulk_3', 'bulk_4', 'bulk_6', 'bulk_oth']"
   ]
  },
  {
   "cell_type": "markdown",
   "id": "0dc6c5a0",
   "metadata": {},
   "source": [
    "<code style=\"background:green;color:white\">Итоговый вид</code>"
   ]
  },
  {
   "cell_type": "code",
   "execution_count": 6,
   "id": "0de40332",
   "metadata": {},
   "outputs": [
    {
     "data": {
      "text/html": [
       "<div>\n",
       "<style scoped>\n",
       "    .dataframe tbody tr th:only-of-type {\n",
       "        vertical-align: middle;\n",
       "    }\n",
       "\n",
       "    .dataframe tbody tr th {\n",
       "        vertical-align: top;\n",
       "    }\n",
       "\n",
       "    .dataframe thead th {\n",
       "        text-align: right;\n",
       "    }\n",
       "</style>\n",
       "<table border=\"1\" class=\"dataframe\">\n",
       "  <thead>\n",
       "    <tr style=\"text-align: right;\">\n",
       "      <th></th>\n",
       "      <th>key</th>\n",
       "      <th>bulk_12</th>\n",
       "      <th>bulk_14</th>\n",
       "      <th>bulk_15</th>\n",
       "      <th>bulk_3</th>\n",
       "      <th>bulk_4</th>\n",
       "      <th>bulk_6</th>\n",
       "      <th>bulk_oth</th>\n",
       "    </tr>\n",
       "  </thead>\n",
       "  <tbody>\n",
       "    <tr>\n",
       "      <th>0</th>\n",
       "      <td>1</td>\n",
       "      <td>206.0</td>\n",
       "      <td>150.0</td>\n",
       "      <td>154.0</td>\n",
       "      <td>0.0</td>\n",
       "      <td>43.0</td>\n",
       "      <td>0.0</td>\n",
       "      <td>0.0</td>\n",
       "    </tr>\n",
       "    <tr>\n",
       "      <th>1</th>\n",
       "      <td>2</td>\n",
       "      <td>206.0</td>\n",
       "      <td>149.0</td>\n",
       "      <td>154.0</td>\n",
       "      <td>0.0</td>\n",
       "      <td>73.0</td>\n",
       "      <td>0.0</td>\n",
       "      <td>0.0</td>\n",
       "    </tr>\n",
       "    <tr>\n",
       "      <th>2</th>\n",
       "      <td>3</td>\n",
       "      <td>205.0</td>\n",
       "      <td>152.0</td>\n",
       "      <td>153.0</td>\n",
       "      <td>0.0</td>\n",
       "      <td>34.0</td>\n",
       "      <td>0.0</td>\n",
       "      <td>0.0</td>\n",
       "    </tr>\n",
       "    <tr>\n",
       "      <th>3</th>\n",
       "      <td>4</td>\n",
       "      <td>207.0</td>\n",
       "      <td>153.0</td>\n",
       "      <td>154.0</td>\n",
       "      <td>0.0</td>\n",
       "      <td>81.0</td>\n",
       "      <td>0.0</td>\n",
       "      <td>0.0</td>\n",
       "    </tr>\n",
       "    <tr>\n",
       "      <th>4</th>\n",
       "      <td>5</td>\n",
       "      <td>203.0</td>\n",
       "      <td>151.0</td>\n",
       "      <td>152.0</td>\n",
       "      <td>0.0</td>\n",
       "      <td>78.0</td>\n",
       "      <td>0.0</td>\n",
       "      <td>0.0</td>\n",
       "    </tr>\n",
       "  </tbody>\n",
       "</table>\n",
       "</div>"
      ],
      "text/plain": [
       "   key  bulk_12  bulk_14  bulk_15  bulk_3  bulk_4  bulk_6  bulk_oth\n",
       "0    1    206.0    150.0    154.0     0.0    43.0     0.0       0.0\n",
       "1    2    206.0    149.0    154.0     0.0    73.0     0.0       0.0\n",
       "2    3    205.0    152.0    153.0     0.0    34.0     0.0       0.0\n",
       "3    4    207.0    153.0    154.0     0.0    81.0     0.0       0.0\n",
       "4    5    203.0    151.0    152.0     0.0    78.0     0.0       0.0"
      ]
     },
     "execution_count": 6,
     "metadata": {},
     "output_type": "execute_result"
    }
   ],
   "source": [
    "data_bulk_main.head()"
   ]
  },
  {
   "cell_type": "markdown",
   "id": "37b1aecb",
   "metadata": {},
   "source": [
    "**data_wire & data_wire_time**"
   ]
  },
  {
   "cell_type": "markdown",
   "id": "1b1495e6",
   "metadata": {},
   "source": [
    "Аналогично data_bulk приведем данные к табличному виду."
   ]
  },
  {
   "cell_type": "code",
   "execution_count": 7,
   "id": "88ca4f49",
   "metadata": {},
   "outputs": [
    {
     "data": {
      "text/plain": [
       "Wire 1    3055\n",
       "Wire 2    1079\n",
       "Wire 6      73\n",
       "Wire 3      63\n",
       "Wire 9      29\n",
       "Wire 8      19\n",
       "Wire 4      14\n",
       "Wire 7      11\n",
       "Wire 5       1\n",
       "Name: wire, dtype: int64"
      ]
     },
     "execution_count": 7,
     "metadata": {},
     "output_type": "execute_result"
    }
   ],
   "source": [
    "#создадим список всех наименований материалов\n",
    "ls = []\n",
    "for i in range(1, 10):\n",
    "    txt = 'Wire ' + str(i)\n",
    "    ls.append(txt)\n",
    "\n",
    "#приведем data_wire к табличному виду\n",
    "data_wire_main = pd.melt(\n",
    "    data_wire, \n",
    "    id_vars=['key'], \n",
    "    value_vars=ls\n",
    ").dropna().sort_values(by=['key', 'variable']).reset_index(drop=True)\n",
    "\n",
    "data_wire_main.columns = ['key', 'wire', 'wire_amount']\n",
    "data_wire_main['wire'].value_counts()"
   ]
  },
  {
   "cell_type": "markdown",
   "id": "6b3fff0f",
   "metadata": {},
   "source": [
    "Абсолютно по той же логике заменим все категории, кроме 'Wire 1' и 'Wire 2', на 'wire_other'."
   ]
  },
  {
   "cell_type": "code",
   "execution_count": 8,
   "id": "34b4205d",
   "metadata": {
    "scrolled": false
   },
   "outputs": [
    {
     "data": {
      "text/plain": [
       "Wire 1        3055\n",
       "Wire 2        1079\n",
       "wire_other     210\n",
       "Name: wire, dtype: int64"
      ]
     },
     "execution_count": 8,
     "metadata": {},
     "output_type": "execute_result"
    }
   ],
   "source": [
    "ls = data_wire_main['wire'].value_counts().head(2).index\n",
    "for i in range(len(data_wire_main)):\n",
    "    if data_wire_main['wire'][i] not in ls:\n",
    "        data_wire_main['wire'][i] = 'wire_other'\n",
    "data_wire_main['wire'].value_counts()"
   ]
  },
  {
   "cell_type": "markdown",
   "id": "1ad78dd1",
   "metadata": {},
   "source": [
    "Далее приведем к табличному виду, чтобы категории проволоки можно было в дальнейшем рассматривать как факторы."
   ]
  },
  {
   "cell_type": "code",
   "execution_count": 9,
   "id": "71c5e2b3",
   "metadata": {},
   "outputs": [],
   "source": [
    "data_wire_main = data_wire_main.pivot_table(\n",
    "    index=['key'], \n",
    "    columns=['wire'],\n",
    "    values=['wire_amount'], \n",
    "    aggfunc='sum'\n",
    ").reset_index().fillna(0)\n",
    "data_wire_main.columns = ['key', 'wire_1', 'wire_2', 'wire_oth']"
   ]
  },
  {
   "cell_type": "markdown",
   "id": "9975e421",
   "metadata": {},
   "source": [
    "<code style=\"background:green;color:white\">Итоговый вид</code>"
   ]
  },
  {
   "cell_type": "code",
   "execution_count": 10,
   "id": "fcfcec11",
   "metadata": {},
   "outputs": [
    {
     "data": {
      "text/html": [
       "<div>\n",
       "<style scoped>\n",
       "    .dataframe tbody tr th:only-of-type {\n",
       "        vertical-align: middle;\n",
       "    }\n",
       "\n",
       "    .dataframe tbody tr th {\n",
       "        vertical-align: top;\n",
       "    }\n",
       "\n",
       "    .dataframe thead th {\n",
       "        text-align: right;\n",
       "    }\n",
       "</style>\n",
       "<table border=\"1\" class=\"dataframe\">\n",
       "  <thead>\n",
       "    <tr style=\"text-align: right;\">\n",
       "      <th></th>\n",
       "      <th>key</th>\n",
       "      <th>wire_1</th>\n",
       "      <th>wire_2</th>\n",
       "      <th>wire_oth</th>\n",
       "    </tr>\n",
       "  </thead>\n",
       "  <tbody>\n",
       "    <tr>\n",
       "      <th>0</th>\n",
       "      <td>1</td>\n",
       "      <td>60.059998</td>\n",
       "      <td>0.00000</td>\n",
       "      <td>0.0</td>\n",
       "    </tr>\n",
       "    <tr>\n",
       "      <th>1</th>\n",
       "      <td>2</td>\n",
       "      <td>96.052315</td>\n",
       "      <td>0.00000</td>\n",
       "      <td>0.0</td>\n",
       "    </tr>\n",
       "    <tr>\n",
       "      <th>2</th>\n",
       "      <td>3</td>\n",
       "      <td>91.160157</td>\n",
       "      <td>0.00000</td>\n",
       "      <td>0.0</td>\n",
       "    </tr>\n",
       "    <tr>\n",
       "      <th>3</th>\n",
       "      <td>4</td>\n",
       "      <td>89.063515</td>\n",
       "      <td>0.00000</td>\n",
       "      <td>0.0</td>\n",
       "    </tr>\n",
       "    <tr>\n",
       "      <th>4</th>\n",
       "      <td>5</td>\n",
       "      <td>89.238236</td>\n",
       "      <td>9.11456</td>\n",
       "      <td>0.0</td>\n",
       "    </tr>\n",
       "  </tbody>\n",
       "</table>\n",
       "</div>"
      ],
      "text/plain": [
       "   key     wire_1   wire_2  wire_oth\n",
       "0    1  60.059998  0.00000       0.0\n",
       "1    2  96.052315  0.00000       0.0\n",
       "2    3  91.160157  0.00000       0.0\n",
       "3    4  89.063515  0.00000       0.0\n",
       "4    5  89.238236  9.11456       0.0"
      ]
     },
     "execution_count": 10,
     "metadata": {},
     "output_type": "execute_result"
    }
   ],
   "source": [
    "data_wire_main.head()"
   ]
  },
  {
   "cell_type": "markdown",
   "id": "b43a785a",
   "metadata": {},
   "source": [
    "**data_arc**"
   ]
  },
  {
   "cell_type": "markdown",
   "id": "f6273c74",
   "metadata": {},
   "source": [
    "Переименуем столбцы, а также рассчитаем длительность нагрева."
   ]
  },
  {
   "cell_type": "code",
   "execution_count": 11,
   "id": "52b0f5ec",
   "metadata": {},
   "outputs": [],
   "source": [
    "# data_arc\n",
    "data_arc_main = data_arc.copy()\n",
    "data_arc_main.columns = ['key', 'time', 'arc_time_end', 'act_power', 'react_power']\n",
    "data_arc_main['time'] = pd.to_datetime(\n",
    "    data_arc_main['time'], \n",
    "    format='%Y-%m-%d %H:%M:%S'\n",
    ")\n",
    "data_arc_main['arc_time_end'] = pd.to_datetime(\n",
    "    data_arc_main['arc_time_end'], \n",
    "    format='%Y-%m-%d %H:%M:%S'\n",
    ")\n",
    "data_arc_main['duration_sec'] = (\n",
    "    (data_arc_main['arc_time_end'] - data_arc_main['time'])/ np.timedelta64(1, 's')\n",
    ")"
   ]
  },
  {
   "cell_type": "markdown",
   "id": "5f4c038b",
   "metadata": {},
   "source": [
    "Агрегируем данные в разрезе партий."
   ]
  },
  {
   "cell_type": "code",
   "execution_count": 12,
   "id": "9be77df2",
   "metadata": {},
   "outputs": [],
   "source": [
    "data_arc_main = data_arc_main.pivot_table(\n",
    "    index='key', \n",
    "    values=['act_power', 'react_power', 'duration_sec'], \n",
    "    aggfunc='sum'\n",
    ").reset_index()"
   ]
  },
  {
   "cell_type": "markdown",
   "id": "d36e177b",
   "metadata": {},
   "source": [
    "<code style=\"background:green;color:white\">Итоговый вид</code>"
   ]
  },
  {
   "cell_type": "code",
   "execution_count": 13,
   "id": "d9caf0fd",
   "metadata": {},
   "outputs": [
    {
     "data": {
      "text/html": [
       "<div>\n",
       "<style scoped>\n",
       "    .dataframe tbody tr th:only-of-type {\n",
       "        vertical-align: middle;\n",
       "    }\n",
       "\n",
       "    .dataframe tbody tr th {\n",
       "        vertical-align: top;\n",
       "    }\n",
       "\n",
       "    .dataframe thead th {\n",
       "        text-align: right;\n",
       "    }\n",
       "</style>\n",
       "<table border=\"1\" class=\"dataframe\">\n",
       "  <thead>\n",
       "    <tr style=\"text-align: right;\">\n",
       "      <th></th>\n",
       "      <th>key</th>\n",
       "      <th>act_power</th>\n",
       "      <th>duration_sec</th>\n",
       "      <th>react_power</th>\n",
       "    </tr>\n",
       "  </thead>\n",
       "  <tbody>\n",
       "    <tr>\n",
       "      <th>0</th>\n",
       "      <td>1</td>\n",
       "      <td>4.878147</td>\n",
       "      <td>1098.0</td>\n",
       "      <td>3.183241</td>\n",
       "    </tr>\n",
       "    <tr>\n",
       "      <th>1</th>\n",
       "      <td>2</td>\n",
       "      <td>3.052598</td>\n",
       "      <td>811.0</td>\n",
       "      <td>1.998112</td>\n",
       "    </tr>\n",
       "    <tr>\n",
       "      <th>2</th>\n",
       "      <td>3</td>\n",
       "      <td>2.525882</td>\n",
       "      <td>655.0</td>\n",
       "      <td>1.599076</td>\n",
       "    </tr>\n",
       "    <tr>\n",
       "      <th>3</th>\n",
       "      <td>4</td>\n",
       "      <td>3.209250</td>\n",
       "      <td>741.0</td>\n",
       "      <td>2.060298</td>\n",
       "    </tr>\n",
       "    <tr>\n",
       "      <th>4</th>\n",
       "      <td>5</td>\n",
       "      <td>3.347173</td>\n",
       "      <td>869.0</td>\n",
       "      <td>2.252643</td>\n",
       "    </tr>\n",
       "  </tbody>\n",
       "</table>\n",
       "</div>"
      ],
      "text/plain": [
       "   key  act_power  duration_sec  react_power\n",
       "0    1   4.878147        1098.0     3.183241\n",
       "1    2   3.052598         811.0     1.998112\n",
       "2    3   2.525882         655.0     1.599076\n",
       "3    4   3.209250         741.0     2.060298\n",
       "4    5   3.347173         869.0     2.252643"
      ]
     },
     "metadata": {},
     "output_type": "display_data"
    }
   ],
   "source": [
    "display(data_arc_main.head())"
   ]
  },
  {
   "cell_type": "markdown",
   "id": "0828b531",
   "metadata": {},
   "source": [
    "**data_gas**"
   ]
  },
  {
   "cell_type": "markdown",
   "id": "00a14f7d",
   "metadata": {},
   "source": [
    "Переименуем столбцы для дальнейшей работы."
   ]
  },
  {
   "cell_type": "code",
   "execution_count": 14,
   "id": "ac3e464d",
   "metadata": {},
   "outputs": [],
   "source": [
    "data_gas_main = data_gas.copy()\n",
    "data_gas_main.columns = ['key', 'gas']"
   ]
  },
  {
   "cell_type": "markdown",
   "id": "fa33351d",
   "metadata": {},
   "source": [
    "<code style=\"background:green;color:white\">Итоговый вид</code>"
   ]
  },
  {
   "cell_type": "code",
   "execution_count": 15,
   "id": "836f3482",
   "metadata": {},
   "outputs": [
    {
     "data": {
      "text/html": [
       "<div>\n",
       "<style scoped>\n",
       "    .dataframe tbody tr th:only-of-type {\n",
       "        vertical-align: middle;\n",
       "    }\n",
       "\n",
       "    .dataframe tbody tr th {\n",
       "        vertical-align: top;\n",
       "    }\n",
       "\n",
       "    .dataframe thead th {\n",
       "        text-align: right;\n",
       "    }\n",
       "</style>\n",
       "<table border=\"1\" class=\"dataframe\">\n",
       "  <thead>\n",
       "    <tr style=\"text-align: right;\">\n",
       "      <th></th>\n",
       "      <th>key</th>\n",
       "      <th>gas</th>\n",
       "    </tr>\n",
       "  </thead>\n",
       "  <tbody>\n",
       "    <tr>\n",
       "      <th>0</th>\n",
       "      <td>1</td>\n",
       "      <td>29.749986</td>\n",
       "    </tr>\n",
       "    <tr>\n",
       "      <th>1</th>\n",
       "      <td>2</td>\n",
       "      <td>12.555561</td>\n",
       "    </tr>\n",
       "    <tr>\n",
       "      <th>2</th>\n",
       "      <td>3</td>\n",
       "      <td>28.554793</td>\n",
       "    </tr>\n",
       "    <tr>\n",
       "      <th>3</th>\n",
       "      <td>4</td>\n",
       "      <td>18.841219</td>\n",
       "    </tr>\n",
       "    <tr>\n",
       "      <th>4</th>\n",
       "      <td>5</td>\n",
       "      <td>5.413692</td>\n",
       "    </tr>\n",
       "  </tbody>\n",
       "</table>\n",
       "</div>"
      ],
      "text/plain": [
       "   key        gas\n",
       "0    1  29.749986\n",
       "1    2  12.555561\n",
       "2    3  28.554793\n",
       "3    4  18.841219\n",
       "4    5   5.413692"
      ]
     },
     "execution_count": 15,
     "metadata": {},
     "output_type": "execute_result"
    }
   ],
   "source": [
    "data_gas_main.head()"
   ]
  },
  {
   "cell_type": "markdown",
   "id": "0459933f",
   "metadata": {},
   "source": [
    "**data_temp**"
   ]
  },
  {
   "cell_type": "markdown",
   "id": "9ef3e98c",
   "metadata": {},
   "source": [
    "В датасете присутствует 2 категории наблюдений, которые не вписываются в предлагаемую модель:\n",
    "1. Партии, для которых есть всего 1 измерение температуры\n",
    "2. Партии, у которых проводились измерения температуры, но по какой-то причине не были зафиксированы."
   ]
  },
  {
   "cell_type": "markdown",
   "id": "e079e335",
   "metadata": {},
   "source": [
    "Соответственно, для дальнейшей модели оставим только те наблюдения, которые имеют измерение температуры на входе и на выходе. Таким образом, модель будет способна предсказать температуру после первичного измерения и предполагаемого вмешательства в виде подогрева и добавления материалов."
   ]
  },
  {
   "cell_type": "code",
   "execution_count": 16,
   "id": "7c64f1a7",
   "metadata": {},
   "outputs": [
    {
     "name": "stdout",
     "output_type": "stream",
     "text": [
      "Доля партий с пропусками: 23.0%\n"
     ]
    }
   ],
   "source": [
    "#список партий с пропущенными значениями\n",
    "ls_missed = data_temp[data_temp['Температура'] != data_temp['Температура']]['key'].value_counts().index\n",
    "ls_ttl = data_temp['key'].value_counts().index\n",
    "print(f'Доля партий с пропусками: {(len(ls_missed) / len(ls_ttl)):.1%}')"
   ]
  },
  {
   "cell_type": "code",
   "execution_count": 17,
   "id": "fe5c697a",
   "metadata": {},
   "outputs": [
    {
     "name": "stdout",
     "output_type": "stream",
     "text": [
      "Доля партий с единственным измерением: 0.1%\n"
     ]
    }
   ],
   "source": [
    "#список партий с единственным измерением\n",
    "ls_one = data_temp['key'].value_counts()[data_temp['key'].value_counts() == 1].index\n",
    "print(f'Доля партий с единственным измерением: {(len(ls_one) / len(ls_ttl)):.1%}')"
   ]
  },
  {
   "cell_type": "code",
   "execution_count": 18,
   "id": "25434e14",
   "metadata": {},
   "outputs": [],
   "source": [
    "#очистим датасет\n",
    "data_temp = data_temp[~data_temp['key'].isin(ls_missed)]\n",
    "data_temp = data_temp[~data_temp['key'].isin(ls_one)]"
   ]
  },
  {
   "cell_type": "markdown",
   "id": "dc1014ea",
   "metadata": {},
   "source": [
    "Для каждой партии найдем начальное и конечное измерение температуры."
   ]
  },
  {
   "cell_type": "code",
   "execution_count": 19,
   "id": "44b0caed",
   "metadata": {},
   "outputs": [],
   "source": [
    "data_temp.columns = ['key', 'time', 'temp']\n",
    "data_temp['time'] = pd.to_datetime(data_temp['time'], format='%Y-%m-%d %H:%M:%S')\n",
    "\n",
    "data_temp_pivot = data_temp.pivot_table(\n",
    "    index=['key'], \n",
    "    values=['time'],\n",
    "    aggfunc=['min', 'max']\n",
    ").reset_index()\n",
    "\n",
    "data_temp_pivot.columns = ['key', 'time', 'last']\n",
    "data_temp_pivot = pd.merge(data_temp_pivot, data_temp, on=['key', 'time'])\n",
    "\n",
    "data_temp_pivot.columns = ['key', 'first', 'time', 'first_temp']\n",
    "data_temp_pivot = pd.merge(data_temp_pivot, data_temp, on=['key', 'time'])\n",
    "\n",
    "data_temp_main = data_temp_pivot.drop(['first', 'time'], axis=1)\n",
    "data_temp_main.columns = ['key', 'first_temp', 'last_temp']"
   ]
  },
  {
   "cell_type": "markdown",
   "id": "d0fa6972",
   "metadata": {},
   "source": [
    "<code style=\"background:green;color:white\">Итоговый вид</code>"
   ]
  },
  {
   "cell_type": "code",
   "execution_count": 20,
   "id": "22cfb5b4",
   "metadata": {},
   "outputs": [
    {
     "data": {
      "text/html": [
       "<div>\n",
       "<style scoped>\n",
       "    .dataframe tbody tr th:only-of-type {\n",
       "        vertical-align: middle;\n",
       "    }\n",
       "\n",
       "    .dataframe tbody tr th {\n",
       "        vertical-align: top;\n",
       "    }\n",
       "\n",
       "    .dataframe thead th {\n",
       "        text-align: right;\n",
       "    }\n",
       "</style>\n",
       "<table border=\"1\" class=\"dataframe\">\n",
       "  <thead>\n",
       "    <tr style=\"text-align: right;\">\n",
       "      <th></th>\n",
       "      <th>key</th>\n",
       "      <th>first_temp</th>\n",
       "      <th>last_temp</th>\n",
       "    </tr>\n",
       "  </thead>\n",
       "  <tbody>\n",
       "    <tr>\n",
       "      <th>0</th>\n",
       "      <td>1</td>\n",
       "      <td>1571.0</td>\n",
       "      <td>1613.0</td>\n",
       "    </tr>\n",
       "    <tr>\n",
       "      <th>1</th>\n",
       "      <td>2</td>\n",
       "      <td>1581.0</td>\n",
       "      <td>1602.0</td>\n",
       "    </tr>\n",
       "    <tr>\n",
       "      <th>2</th>\n",
       "      <td>3</td>\n",
       "      <td>1596.0</td>\n",
       "      <td>1599.0</td>\n",
       "    </tr>\n",
       "    <tr>\n",
       "      <th>3</th>\n",
       "      <td>4</td>\n",
       "      <td>1601.0</td>\n",
       "      <td>1625.0</td>\n",
       "    </tr>\n",
       "    <tr>\n",
       "      <th>4</th>\n",
       "      <td>5</td>\n",
       "      <td>1576.0</td>\n",
       "      <td>1602.0</td>\n",
       "    </tr>\n",
       "  </tbody>\n",
       "</table>\n",
       "</div>"
      ],
      "text/plain": [
       "   key  first_temp  last_temp\n",
       "0    1      1571.0     1613.0\n",
       "1    2      1581.0     1602.0\n",
       "2    3      1596.0     1599.0\n",
       "3    4      1601.0     1625.0\n",
       "4    5      1576.0     1602.0"
      ]
     },
     "execution_count": 20,
     "metadata": {},
     "output_type": "execute_result"
    }
   ],
   "source": [
    "data_temp_main.head()"
   ]
  },
  {
   "cell_type": "markdown",
   "id": "8afb662d",
   "metadata": {},
   "source": [
    "**Сведение всех действий в единый датасет**"
   ]
  },
  {
   "cell_type": "markdown",
   "id": "5cdd5fb8",
   "metadata": {},
   "source": [
    "Теперь соберем все полученные таблицы в единый датасет."
   ]
  },
  {
   "cell_type": "code",
   "execution_count": 21,
   "id": "985fcd93",
   "metadata": {
    "scrolled": false
   },
   "outputs": [],
   "source": [
    "df = pd.merge(data_temp_main, data_bulk_main, on=['key'], how='left').merge(\n",
    "    data_wire_main, on=['key'], how='left').merge(\n",
    "    data_arc_main, on=['key'], how='left').merge(\n",
    "    data_gas_main, on=['key'], how='left')"
   ]
  },
  {
   "cell_type": "markdown",
   "id": "7f8cce5b",
   "metadata": {},
   "source": [
    "<code style=\"background:green;color:white\">Итоговый вид</code>"
   ]
  },
  {
   "cell_type": "code",
   "execution_count": 22,
   "id": "356ada48",
   "metadata": {},
   "outputs": [
    {
     "data": {
      "text/html": [
       "<div>\n",
       "<style scoped>\n",
       "    .dataframe tbody tr th:only-of-type {\n",
       "        vertical-align: middle;\n",
       "    }\n",
       "\n",
       "    .dataframe tbody tr th {\n",
       "        vertical-align: top;\n",
       "    }\n",
       "\n",
       "    .dataframe thead th {\n",
       "        text-align: right;\n",
       "    }\n",
       "</style>\n",
       "<table border=\"1\" class=\"dataframe\">\n",
       "  <thead>\n",
       "    <tr style=\"text-align: right;\">\n",
       "      <th></th>\n",
       "      <th>key</th>\n",
       "      <th>first_temp</th>\n",
       "      <th>last_temp</th>\n",
       "      <th>bulk_12</th>\n",
       "      <th>bulk_14</th>\n",
       "      <th>bulk_15</th>\n",
       "      <th>bulk_3</th>\n",
       "      <th>bulk_4</th>\n",
       "      <th>bulk_6</th>\n",
       "      <th>bulk_oth</th>\n",
       "      <th>wire_1</th>\n",
       "      <th>wire_2</th>\n",
       "      <th>wire_oth</th>\n",
       "      <th>act_power</th>\n",
       "      <th>duration_sec</th>\n",
       "      <th>react_power</th>\n",
       "      <th>gas</th>\n",
       "    </tr>\n",
       "  </thead>\n",
       "  <tbody>\n",
       "    <tr>\n",
       "      <th>0</th>\n",
       "      <td>1</td>\n",
       "      <td>1571.0</td>\n",
       "      <td>1613.0</td>\n",
       "      <td>206.0</td>\n",
       "      <td>150.0</td>\n",
       "      <td>154.0</td>\n",
       "      <td>0.0</td>\n",
       "      <td>43.0</td>\n",
       "      <td>0.0</td>\n",
       "      <td>0.0</td>\n",
       "      <td>60.059998</td>\n",
       "      <td>0.00000</td>\n",
       "      <td>0.0</td>\n",
       "      <td>4.878147</td>\n",
       "      <td>1098.0</td>\n",
       "      <td>3.183241</td>\n",
       "      <td>29.749986</td>\n",
       "    </tr>\n",
       "    <tr>\n",
       "      <th>1</th>\n",
       "      <td>2</td>\n",
       "      <td>1581.0</td>\n",
       "      <td>1602.0</td>\n",
       "      <td>206.0</td>\n",
       "      <td>149.0</td>\n",
       "      <td>154.0</td>\n",
       "      <td>0.0</td>\n",
       "      <td>73.0</td>\n",
       "      <td>0.0</td>\n",
       "      <td>0.0</td>\n",
       "      <td>96.052315</td>\n",
       "      <td>0.00000</td>\n",
       "      <td>0.0</td>\n",
       "      <td>3.052598</td>\n",
       "      <td>811.0</td>\n",
       "      <td>1.998112</td>\n",
       "      <td>12.555561</td>\n",
       "    </tr>\n",
       "    <tr>\n",
       "      <th>2</th>\n",
       "      <td>3</td>\n",
       "      <td>1596.0</td>\n",
       "      <td>1599.0</td>\n",
       "      <td>205.0</td>\n",
       "      <td>152.0</td>\n",
       "      <td>153.0</td>\n",
       "      <td>0.0</td>\n",
       "      <td>34.0</td>\n",
       "      <td>0.0</td>\n",
       "      <td>0.0</td>\n",
       "      <td>91.160157</td>\n",
       "      <td>0.00000</td>\n",
       "      <td>0.0</td>\n",
       "      <td>2.525882</td>\n",
       "      <td>655.0</td>\n",
       "      <td>1.599076</td>\n",
       "      <td>28.554793</td>\n",
       "    </tr>\n",
       "    <tr>\n",
       "      <th>3</th>\n",
       "      <td>4</td>\n",
       "      <td>1601.0</td>\n",
       "      <td>1625.0</td>\n",
       "      <td>207.0</td>\n",
       "      <td>153.0</td>\n",
       "      <td>154.0</td>\n",
       "      <td>0.0</td>\n",
       "      <td>81.0</td>\n",
       "      <td>0.0</td>\n",
       "      <td>0.0</td>\n",
       "      <td>89.063515</td>\n",
       "      <td>0.00000</td>\n",
       "      <td>0.0</td>\n",
       "      <td>3.209250</td>\n",
       "      <td>741.0</td>\n",
       "      <td>2.060298</td>\n",
       "      <td>18.841219</td>\n",
       "    </tr>\n",
       "    <tr>\n",
       "      <th>4</th>\n",
       "      <td>5</td>\n",
       "      <td>1576.0</td>\n",
       "      <td>1602.0</td>\n",
       "      <td>203.0</td>\n",
       "      <td>151.0</td>\n",
       "      <td>152.0</td>\n",
       "      <td>0.0</td>\n",
       "      <td>78.0</td>\n",
       "      <td>0.0</td>\n",
       "      <td>0.0</td>\n",
       "      <td>89.238236</td>\n",
       "      <td>9.11456</td>\n",
       "      <td>0.0</td>\n",
       "      <td>3.347173</td>\n",
       "      <td>869.0</td>\n",
       "      <td>2.252643</td>\n",
       "      <td>5.413692</td>\n",
       "    </tr>\n",
       "  </tbody>\n",
       "</table>\n",
       "</div>"
      ],
      "text/plain": [
       "   key  first_temp  last_temp  bulk_12  bulk_14  bulk_15  bulk_3  bulk_4  \\\n",
       "0    1      1571.0     1613.0    206.0    150.0    154.0     0.0    43.0   \n",
       "1    2      1581.0     1602.0    206.0    149.0    154.0     0.0    73.0   \n",
       "2    3      1596.0     1599.0    205.0    152.0    153.0     0.0    34.0   \n",
       "3    4      1601.0     1625.0    207.0    153.0    154.0     0.0    81.0   \n",
       "4    5      1576.0     1602.0    203.0    151.0    152.0     0.0    78.0   \n",
       "\n",
       "   bulk_6  bulk_oth     wire_1   wire_2  wire_oth  act_power  duration_sec  \\\n",
       "0     0.0       0.0  60.059998  0.00000       0.0   4.878147        1098.0   \n",
       "1     0.0       0.0  96.052315  0.00000       0.0   3.052598         811.0   \n",
       "2     0.0       0.0  91.160157  0.00000       0.0   2.525882         655.0   \n",
       "3     0.0       0.0  89.063515  0.00000       0.0   3.209250         741.0   \n",
       "4     0.0       0.0  89.238236  9.11456       0.0   3.347173         869.0   \n",
       "\n",
       "   react_power        gas  \n",
       "0     3.183241  29.749986  \n",
       "1     1.998112  12.555561  \n",
       "2     1.599076  28.554793  \n",
       "3     2.060298  18.841219  \n",
       "4     2.252643   5.413692  "
      ]
     },
     "execution_count": 22,
     "metadata": {},
     "output_type": "execute_result"
    }
   ],
   "source": [
    "df.head()"
   ]
  },
  {
   "cell_type": "markdown",
   "id": "4bd1662f",
   "metadata": {},
   "source": [
    "### Первичный анализ данных"
   ]
  },
  {
   "cell_type": "code",
   "execution_count": 23,
   "id": "ee3ab5bb",
   "metadata": {},
   "outputs": [
    {
     "name": "stdout",
     "output_type": "stream",
     "text": [
      "<class 'pandas.core.frame.DataFrame'>\n",
      "Int64Index: 2475 entries, 0 to 2474\n",
      "Data columns (total 16 columns):\n",
      " #   Column        Non-Null Count  Dtype  \n",
      "---  ------        --------------  -----  \n",
      " 0   first_temp    2475 non-null   float64\n",
      " 1   last_temp     2475 non-null   float64\n",
      " 2   bulk_12       2407 non-null   float64\n",
      " 3   bulk_14       2407 non-null   float64\n",
      " 4   bulk_15       2407 non-null   float64\n",
      " 5   bulk_3        2407 non-null   float64\n",
      " 6   bulk_4        2407 non-null   float64\n",
      " 7   bulk_6        2407 non-null   float64\n",
      " 8   bulk_oth      2407 non-null   float64\n",
      " 9   wire_1        2372 non-null   float64\n",
      " 10  wire_2        2372 non-null   float64\n",
      " 11  wire_oth      2372 non-null   float64\n",
      " 12  act_power     2475 non-null   float64\n",
      " 13  duration_sec  2475 non-null   float64\n",
      " 14  react_power   2475 non-null   float64\n",
      " 15  gas           2473 non-null   float64\n",
      "dtypes: float64(16)\n",
      "memory usage: 328.7 KB\n"
     ]
    }
   ],
   "source": [
    "df = df.drop(['key'], axis=1)\n",
    "df.info()"
   ]
  },
  {
   "cell_type": "code",
   "execution_count": 24,
   "id": "de022b50",
   "metadata": {},
   "outputs": [
    {
     "data": {
      "text/plain": [
       "0"
      ]
     },
     "execution_count": 24,
     "metadata": {},
     "output_type": "execute_result"
    }
   ],
   "source": [
    "df.duplicated().sum()"
   ]
  },
  {
   "cell_type": "markdown",
   "id": "6b27bbc3",
   "metadata": {},
   "source": [
    "**Вывод:**   \n",
    "1. Показатели first_temp, last_temp, duration_sec необходимо привести к типу integer.\n",
    "2. Дубликатов нет.\n",
    "3. Все пропуски в переменных bulk, wire, gas означают отсутствие вещества в партии -> их можно заменить на 0."
   ]
  },
  {
   "cell_type": "code",
   "execution_count": 25,
   "id": "ddd03722",
   "metadata": {},
   "outputs": [],
   "source": [
    "df['duration_sec'] = df['duration_sec'].astype(int)\n",
    "df['first_temp'] = df['first_temp'].astype(int)\n",
    "df['last_temp'] = df['last_temp'].astype(int)\n",
    "df = df.fillna(0)"
   ]
  },
  {
   "cell_type": "markdown",
   "id": "66475da2",
   "metadata": {},
   "source": [
    "**Распределения и выбросы**"
   ]
  },
  {
   "cell_type": "markdown",
   "id": "83e0e46b",
   "metadata": {},
   "source": [
    "Проанализируем наличие выбросов с помощью графика boxplot."
   ]
  },
  {
   "cell_type": "code",
   "execution_count": 26,
   "id": "4790521c",
   "metadata": {
    "scrolled": false
   },
   "outputs": [
    {
     "data": {
      "image/png": "[encoded data removed]",
      "text/plain": [
       "<Figure size 1440x1080 with 16 Axes>"
      ]
     },
     "metadata": {
      "needs_background": "light"
     },
     "output_type": "display_data"
    }
   ],
   "source": [
    "ls = df.columns.values\n",
    "fig = plt.figure(figsize=(20, 15))\n",
    "\n",
    "for i in range(len(ls)):\n",
    "    el = ls[i]\n",
    "    i += 1\n",
    "    fig.add_subplot(4, 4, i)\n",
    "    plt.boxplot(df[el])\n",
    "    plt.title(el)\n",
    "plt.show()"
   ]
  },
  {
   "cell_type": "markdown",
   "id": "b0b0d7ac",
   "metadata": {},
   "source": [
    "Как видно, по каждому из параметров присутствуют выбросы. Оценим долю выбросов в каждом из показателей."
   ]
  },
  {
   "cell_type": "code",
   "execution_count": 27,
   "id": "427ad404",
   "metadata": {},
   "outputs": [
    {
     "name": "stdout",
     "output_type": "stream",
     "text": [
      "first_temp: 0.8%\n",
      "last_temp: 7.9%\n",
      "bulk_12: 1.4%\n",
      "bulk_14: 1.3%\n",
      "bulk_15: 0.0%\n",
      "bulk_3: 6.8%\n",
      "bulk_4: 2.4%\n",
      "bulk_6: 17.9%\n",
      "bulk_oth: 21.5%\n",
      "wire_1: 1.1%\n",
      "wire_2: 13.0%\n",
      "wire_oth: 4.5%\n",
      "act_power: 1.7%\n",
      "duration_sec: 1.7%\n",
      "react_power: 2.0%\n",
      "gas: 4.2%\n"
     ]
    }
   ],
   "source": [
    "for el in ls:\n",
    "    boxplot = plt.boxplot(df[el])\n",
    "    outliers = list(boxplot['fliers'][0].get_data()[1])\n",
    "    print(f'{el}: {(len(outliers) / len(df)):.1%}')\n",
    "    plt.close()"
   ]
  },
  {
   "cell_type": "markdown",
   "id": "b26271e6",
   "metadata": {},
   "source": [
    "**Вывод**   \n",
    "Для большинства наблюдений не свойственны добавления материалов, что приводит к смещению медианы к нулю, однако данные факторы важны для дальнейшего анализа => от этих выбросов мы избавляться не будем (переменные bulk, wire). Для остальных параметров выбросы целесообразно исключить."
   ]
  },
  {
   "cell_type": "code",
   "execution_count": 28,
   "id": "ce5eb917",
   "metadata": {},
   "outputs": [
    {
     "name": "stdout",
     "output_type": "stream",
     "text": [
      "<class 'pandas.core.frame.DataFrame'>\n",
      "Int64Index: 2121 entries, 1 to 2474\n",
      "Data columns (total 16 columns):\n",
      " #   Column        Non-Null Count  Dtype  \n",
      "---  ------        --------------  -----  \n",
      " 0   first_temp    2121 non-null   int64  \n",
      " 1   last_temp     2121 non-null   int64  \n",
      " 2   bulk_12       2121 non-null   float64\n",
      " 3   bulk_14       2121 non-null   float64\n",
      " 4   bulk_15       2121 non-null   float64\n",
      " 5   bulk_3        2121 non-null   float64\n",
      " 6   bulk_4        2121 non-null   float64\n",
      " 7   bulk_6        2121 non-null   float64\n",
      " 8   bulk_oth      2121 non-null   float64\n",
      " 9   wire_1        2121 non-null   float64\n",
      " 10  wire_2        2121 non-null   float64\n",
      " 11  wire_oth      2121 non-null   float64\n",
      " 12  act_power     2121 non-null   float64\n",
      " 13  duration_sec  2121 non-null   int64  \n",
      " 14  react_power   2121 non-null   float64\n",
      " 15  gas           2121 non-null   float64\n",
      "dtypes: float64(13), int64(3)\n",
      "memory usage: 281.7 KB\n"
     ]
    }
   ],
   "source": [
    "ls = ['first_temp', 'last_temp', 'duration_sec', 'act_power', 'react_power', 'gas']\n",
    "for el in ls:\n",
    "    boxplot = plt.boxplot(df[el])\n",
    "    outliers = list(boxplot['fliers'][0].get_data()[1])\n",
    "    df = df[~df[el].isin(outliers)]\n",
    "    plt.close()\n",
    "df.info()"
   ]
  },
  {
   "cell_type": "markdown",
   "id": "cae6a242",
   "metadata": {},
   "source": [
    "**Матрица корреляции**"
   ]
  },
  {
   "cell_type": "code",
   "execution_count": 31,
   "id": "0c5efa10",
   "metadata": {},
   "outputs": [
    {
     "data": {
      "image/png": "[encoded data removed]",
      "text/plain": [
       "<Figure size 576x504 with 2 Axes>"
      ]
     },
     "metadata": {
      "needs_background": "light"
     },
     "output_type": "display_data"
    }
   ],
   "source": [
    "plt.figure(figsize=(8, 7))\n",
    "cm = df.corr()\n",
    "cm = np.round(cm, 1)\n",
    "cm[np.abs(cm) < 0.3] = 0\n",
    "\n",
    "fig.add_subplot(1, 2, 1)\n",
    "sns.heatmap(cm, annot=True, cmap='coolwarm')\n",
    "plt.title('Correlation matrix before');"
   ]
  },
  {
   "cell_type": "markdown",
   "id": "df2bd776",
   "metadata": {},
   "source": [
    "**Вывод**   \n",
    "1. Показатели act_power, react_power, duration_sec сильно зависимы между собой => оставим только act_power\n",
    "2. bulk_12 зависима с bulk_14 и bulk_15. Оставим bulk_14, так как имеет больше всех ненулевых наблюдений."
   ]
  },
  {
   "cell_type": "code",
   "execution_count": 30,
   "id": "239e3282",
   "metadata": {
    "scrolled": false
   },
   "outputs": [
    {
     "data": {
      "text/plain": [
       "((2121,), (2121, 11))"
      ]
     },
     "execution_count": 30,
     "metadata": {},
     "output_type": "execute_result"
    }
   ],
   "source": [
    "y = df['last_temp']\n",
    "X = df.drop(['last_temp', 'react_power', 'duration_sec', 'bulk_12', 'bulk_15'], axis=1)\n",
    "y.shape, X.shape"
   ]
  },
  {
   "cell_type": "markdown",
   "id": "3881f593",
   "metadata": {},
   "source": [
    "Данные готовы к дальнейшему анализу и подбору модели."
   ]
  },
  {
   "cell_type": "markdown",
   "id": "b3368a4c",
   "metadata": {},
   "source": [
    "## Выбор модели"
   ]
  },
  {
   "cell_type": "markdown",
   "id": "a6b81dd4",
   "metadata": {},
   "source": [
    "В задачах регрессии выделяют следующие основные подходы:\n",
    "1. Линейная регрессия (лин.зависимость).\n",
    "2. Полиномиальная регрессия (нелин.зависимость).\n",
    "3. Гребневая регрессия (высокая коллинеарность).\n",
    "4. По методу лассо (высокая коллинеарность).\n",
    "5. Эластичная сеть (высокая коллинеарность)."
   ]
  },
  {
   "cell_type": "markdown",
   "id": "ffe5e4ff",
   "metadata": {},
   "source": [
    "Поскольку в данных не наблюдается высокая коллинеарность, методы 3-5 оставим за скобками. К оставшимся базовым также добавим следующие модели:\n",
    "1. Случайный лес с подбором гиперпараметров\n",
    "2. KNN"
   ]
  },
  {
   "cell_type": "markdown",
   "id": "80230903",
   "metadata": {},
   "source": [
    "Модель с наименьшей метрикой MAE будет выбрана для проверки на тестовой выборке."
   ]
  },
  {
   "cell_type": "code",
   "execution_count": 31,
   "id": "6d017c18",
   "metadata": {},
   "outputs": [],
   "source": [
    "#разделим выборку на обучающую и тестовую\n",
    "X_train, X_test, y_train, y_test = train_test_split(X, y, test_size=0.25, random_state=17)\n",
    "\n",
    "#масштабируем переменные\n",
    "scaler = StandardScaler()\n",
    "X_train = pd.DataFrame(scaler.fit_transform(X_train), columns=X_train.columns)\n",
    "X_test = pd.DataFrame(scaler.transform(X_test), columns=X_test.columns)"
   ]
  },
  {
   "cell_type": "markdown",
   "id": "d826df8f",
   "metadata": {},
   "source": [
    "**Линейная регрессия**"
   ]
  },
  {
   "cell_type": "code",
   "execution_count": 32,
   "id": "27a7658e",
   "metadata": {},
   "outputs": [
    {
     "name": "stdout",
     "output_type": "stream",
     "text": [
      "mae - 5.44, r2 - 0.38\n",
      "CPU times: user 114 ms, sys: 34.6 ms, total: 149 ms\n",
      "Wall time: 25.3 ms\n"
     ]
    }
   ],
   "source": [
    "%%time\n",
    "model = LinearRegression()\n",
    "mae_lr = cross_val_score(model, X_train, y_train, cv=5, scoring='neg_mean_absolute_error').mean() * -1\n",
    "r2_lr = cross_val_score(model, X_train, y_train, cv=5, scoring='r2').mean()\n",
    "print(f'mae - {mae_lr:.2f}, r2 - {r2_lr:.2f}')"
   ]
  },
  {
   "cell_type": "markdown",
   "id": "6f1c92fb",
   "metadata": {},
   "source": [
    "**Полиномиальная регрессия**"
   ]
  },
  {
   "cell_type": "code",
   "execution_count": 33,
   "id": "0b5b356d",
   "metadata": {},
   "outputs": [],
   "source": [
    "def poly(X, degree):\n",
    "    M = np.array([X ** n for n in range(1, degree + 1)]).transpose(1, 0, 2).reshape(len(X), -1)\n",
    "    return pd.DataFrame(M, index=X.index)"
   ]
  },
  {
   "cell_type": "code",
   "execution_count": 34,
   "id": "aeb792bd",
   "metadata": {},
   "outputs": [
    {
     "name": "stdout",
     "output_type": "stream",
     "text": [
      "best degree - 2: mae - 5.29, r2 - 0.39\n",
      "CPU times: user 2.62 s, sys: 527 ms, total: 3.14 s\n",
      "Wall time: 412 ms\n"
     ]
    }
   ],
   "source": [
    "%%time\n",
    "model = LinearRegression()\n",
    "mae_pr = 100\n",
    "best_degree = 0\n",
    "for i in range(1, 11):\n",
    "    X_poly = poly(X_train, i)\n",
    "    mae = cross_val_score(model, X_poly, y_train, cv=5, scoring='neg_mean_absolute_error').mean() * -1\n",
    "    r2 = cross_val_score(model, X_poly, y_train, cv=5, scoring='r2').mean()\n",
    "    if mae < mae_pr:\n",
    "        mae_pr = mae\n",
    "        r2_pr = r2\n",
    "        best_degree = i\n",
    "print(f'best degree - {best_degree}: mae - {mae_pr:.2f}, r2 - {r2_pr:.2f}')"
   ]
  },
  {
   "cell_type": "markdown",
   "id": "fa1b4079",
   "metadata": {},
   "source": [
    "**Случайный лес**"
   ]
  },
  {
   "cell_type": "code",
   "execution_count": 35,
   "id": "bbaf8422",
   "metadata": {},
   "outputs": [
    {
     "name": "stdout",
     "output_type": "stream",
     "text": [
      "Количество деревьев - 20, глубина - 9, max_features - 9\n",
      "mae - 5.36, r2 - 0.38\n",
      "CPU times: user 17min 10s, sys: 4.34 s, total: 17min 14s\n",
      "Wall time: 17min 13s\n"
     ]
    }
   ],
   "source": [
    "%%time\n",
    "best_n = 0\n",
    "best_depth = 0\n",
    "mae_rf = 100\n",
    "for n in range(1, 21):\n",
    "    for d in range(1, 21):\n",
    "        for f in range(1, X_train.shape[1] + 1):\n",
    "            model = RandomForestRegressor(n_estimators=n, max_depth=d, random_state=17, max_features=f)\n",
    "            mae = cross_val_score(model, X_train, y_train, cv=5, scoring='neg_mean_absolute_error').mean() * -1\n",
    "            r2 = cross_val_score(model, X_train, y_train, cv=5, scoring='r2').mean()\n",
    "            if mae < mae_rf:\n",
    "                best_n = n\n",
    "                best_depth = d\n",
    "                best_features = f\n",
    "                mae_rf = mae\n",
    "                r2_rf = r2\n",
    "print(f'Количество деревьев - {best_n}, глубина - {best_depth}, max_features - {best_features}')\n",
    "print(f'mae - {mae_rf:.2f}, r2 - {r2_rf:.2f}')"
   ]
  },
  {
   "cell_type": "markdown",
   "id": "f13209b5",
   "metadata": {},
   "source": [
    "**KNN**"
   ]
  },
  {
   "cell_type": "code",
   "execution_count": 36,
   "id": "d9d75020",
   "metadata": {
    "scrolled": true
   },
   "outputs": [
    {
     "name": "stdout",
     "output_type": "stream",
     "text": [
      "best_n = 8, mae - 5.83, r2 - 0.29\n",
      "CPU times: user 732 ms, sys: 2.48 ms, total: 734 ms\n",
      "Wall time: 733 ms\n"
     ]
    }
   ],
   "source": [
    "%%time\n",
    "mae_knn = 100\n",
    "r2_knn = 0\n",
    "best_n = 0\n",
    "for n in range(1, 11):\n",
    "    model = KNeighborsRegressor(n_neighbors=n, weights='distance')\n",
    "    mae = cross_val_score(model, X_train, y_train, cv=5, scoring='neg_mean_absolute_error').mean() * -1\n",
    "    r2 = cross_val_score(model, X_train, y_train, cv=5, scoring='r2').mean()\n",
    "    if mae < mae_knn:\n",
    "        best_n = n\n",
    "        mae_knn = mae\n",
    "        r2_knn = r2\n",
    "print(f'best_n = {best_n}, mae - {mae_knn:.2f}, r2 - {r2_knn:.2f}')"
   ]
  },
  {
   "cell_type": "markdown",
   "id": "c0937966",
   "metadata": {},
   "source": [
    "Сведем все результаты в единую таблицу."
   ]
  },
  {
   "cell_type": "code",
   "execution_count": 37,
   "id": "55e3fbf1",
   "metadata": {},
   "outputs": [
    {
     "data": {
      "text/html": [
       "<div>\n",
       "<style scoped>\n",
       "    .dataframe tbody tr th:only-of-type {\n",
       "        vertical-align: middle;\n",
       "    }\n",
       "\n",
       "    .dataframe tbody tr th {\n",
       "        vertical-align: top;\n",
       "    }\n",
       "\n",
       "    .dataframe thead th {\n",
       "        text-align: right;\n",
       "    }\n",
       "</style>\n",
       "<table border=\"1\" class=\"dataframe\">\n",
       "  <thead>\n",
       "    <tr style=\"text-align: right;\">\n",
       "      <th></th>\n",
       "      <th>MAE</th>\n",
       "      <th>R2</th>\n",
       "    </tr>\n",
       "  </thead>\n",
       "  <tbody>\n",
       "    <tr>\n",
       "      <th>Linear</th>\n",
       "      <td>5.44</td>\n",
       "      <td>0.38</td>\n",
       "    </tr>\n",
       "    <tr>\n",
       "      <th>Polynom</th>\n",
       "      <td>5.29</td>\n",
       "      <td>0.39</td>\n",
       "    </tr>\n",
       "    <tr>\n",
       "      <th>RandomForest</th>\n",
       "      <td>5.36</td>\n",
       "      <td>0.38</td>\n",
       "    </tr>\n",
       "    <tr>\n",
       "      <th>KNN</th>\n",
       "      <td>5.83</td>\n",
       "      <td>0.29</td>\n",
       "    </tr>\n",
       "  </tbody>\n",
       "</table>\n",
       "</div>"
      ],
      "text/plain": [
       "               MAE    R2\n",
       "Linear        5.44  0.38\n",
       "Polynom       5.29  0.39\n",
       "RandomForest  5.36  0.38\n",
       "KNN           5.83  0.29"
      ]
     },
     "execution_count": 37,
     "metadata": {},
     "output_type": "execute_result"
    }
   ],
   "source": [
    "index = ['Linear',\n",
    "         'Polynom',\n",
    "         'RandomForest',\n",
    "         'KNN']\n",
    "data = {'MAE':np.round([mae_lr,\n",
    "               mae_pr,\n",
    "               mae_rf,\n",
    "               mae_knn],2),\n",
    "       'R2':np.round([r2_lr,\n",
    "             r2_pr,\n",
    "             r2_rf,\n",
    "             r2_knn],2)}\n",
    "scores_data = pd.DataFrame(data=data, index=index)\n",
    "scores_data"
   ]
  },
  {
   "cell_type": "markdown",
   "id": "e246fde4",
   "metadata": {},
   "source": [
    "**Вывод**   \n",
    "Наименьшее отклонение на обучающих данных показала модель полиномиальной регрессии второго порядка. Протестируем выбранную модель."
   ]
  },
  {
   "cell_type": "markdown",
   "id": "c2c064e6",
   "metadata": {},
   "source": [
    "## Тест модели и выводы"
   ]
  },
  {
   "cell_type": "code",
   "execution_count": 38,
   "id": "fa7d4af1",
   "metadata": {
    "scrolled": true
   },
   "outputs": [
    {
     "name": "stdout",
     "output_type": "stream",
     "text": [
      "mae - 5.09, r2 - 0.44\n"
     ]
    }
   ],
   "source": [
    "#сгенерируем названия новых столбцов\n",
    "ls = list(X_train.columns)\n",
    "ls2 = []\n",
    "for el in ls:\n",
    "    ls2.append(el + '_2')\n",
    "ls.extend(ls2)\n",
    "\n",
    "#приведем признаки к полиномам второго порядка\n",
    "X_train = poly(X_train, 2).reset_index(drop=True)\n",
    "X_test = poly(X_test, 2).reset_index(drop=True)\n",
    "y_train = y_train.reset_index(drop=True)\n",
    "y_test = y_test.reset_index(drop=True)\n",
    "\n",
    "#корректно назовем столбцы\n",
    "X_train.columns = ls\n",
    "X_test.columns = ls\n",
    "\n",
    "#оценим модель\n",
    "model = LinearRegression()\n",
    "model.fit(X_train, y_train)\n",
    "predicted = model.predict(X_test)\n",
    "mae = mean_absolute_error(y_test, predicted)\n",
    "r2 = r2_score(y_test, predicted)\n",
    "print(f'mae - {mae:.2f}, r2 - {r2:.2f}')"
   ]
  },
  {
   "cell_type": "markdown",
   "id": "6a3f78aa",
   "metadata": {},
   "source": [
    "Модель оказалась устойчива и на тестовой выборке: показатель mae находится ниже референтного значения в 6.8   \n",
    "Далее также взглянем на значимость факторов."
   ]
  },
  {
   "cell_type": "code",
   "execution_count": 39,
   "id": "2eb5bb78",
   "metadata": {},
   "outputs": [],
   "source": [
    "model_importances = pd.concat(\n",
    "    [pd.DataFrame(X_train.columns),\n",
    "     np.round(pd.DataFrame(abs(np.transpose(model.coef_))),2)],\n",
    "     axis = 1\n",
    ")\n",
    "model_importances.columns = ['feature', 'importance']\n",
    "model_importances = model_importances.sort_values(by='importance', ascending=True)"
   ]
  },
  {
   "cell_type": "code",
   "execution_count": 40,
   "id": "3406cdd9",
   "metadata": {},
   "outputs": [
    {
     "data": {
      "image/png": "[encoded data removed]",
      "text/plain": [
       "<Figure size 1224x432 with 1 Axes>"
      ]
     },
     "metadata": {
      "needs_background": "light"
     },
     "output_type": "display_data"
    }
   ],
   "source": [
    "fig = plt.figure(figsize=(17, 6))\n",
    "ax = fig.add_axes([0,0,1,1])\n",
    "plt.barh(model_importances['feature'], \n",
    "         model_importances['importance'], \n",
    "         alpha=0.5,\n",
    "         color='green',\n",
    "         edgecolor='green')\n",
    "plt.xticks([])\n",
    "plt.title('Features importance')\n",
    "ax.spines['top'].set_visible(False)\n",
    "ax.spines['right'].set_visible(False)\n",
    "ax.spines['bottom'].set_linewidth(False)\n",
    "ax.spines['left'].set_linewidth(False)\n",
    "plt.show()"
   ]
  },
  {
   "cell_type": "markdown",
   "id": "b926ed94",
   "metadata": {},
   "source": [
    "**Выводы**   \n",
    "1. В показателях измерений температуры находится много пропусков - эту проблему необходимо адресовать.\n",
    "2. Наилучшая модель из оцененных - полиномиальная регрессия второго порядка.\n",
    "3. Наиболее значимые факторы - первоначальная температура нагрева и приложенная к нагреву мощность.\n",
    "4. Ожидаемое абсолютное отклонение прогноза составляет 5 градусов.\n",
    "5. Модель позволяет предсказать температуру стали на разных стадиях производства, что приведет к снижению потребления электроэнергии и соответствующих издержек."
   ]
  }
 ],
 "metadata": {
  "ExecuteTimeLog": [
   {
    "duration": 1617,
    "start_time": "2022-07-15T04:00:26.440Z"
   },
   {
    "duration": 493,
    "start_time": "2022-07-15T04:00:37.748Z"
   },
   {
    "duration": 51,
    "start_time": "2022-07-15T04:01:07.697Z"
   },
   {
    "duration": 7,
    "start_time": "2022-07-15T04:01:08.879Z"
   },
   {
    "duration": 444,
    "start_time": "2022-07-15T04:01:14.128Z"
   },
   {
    "duration": 28,
    "start_time": "2022-07-15T04:01:15.306Z"
   },
   {
    "duration": 14,
    "start_time": "2022-07-15T04:01:23.511Z"
   },
   {
    "duration": 34,
    "start_time": "2022-07-15T04:02:21.864Z"
   },
   {
    "duration": 6,
    "start_time": "2022-07-15T04:02:22.899Z"
   },
   {
    "duration": 120,
    "start_time": "2022-07-15T04:02:24.337Z"
   },
   {
    "duration": 16,
    "start_time": "2022-07-15T04:02:24.713Z"
   },
   {
    "duration": 9,
    "start_time": "2022-07-15T04:02:25.966Z"
   },
   {
    "duration": 14,
    "start_time": "2022-07-15T04:02:27.144Z"
   },
   {
    "duration": 12,
    "start_time": "2022-07-15T04:02:28.342Z"
   },
   {
    "duration": 3,
    "start_time": "2022-07-15T04:02:28.884Z"
   },
   {
    "duration": 6,
    "start_time": "2022-07-15T04:02:29.239Z"
   },
   {
    "duration": 9,
    "start_time": "2022-07-15T04:02:29.740Z"
   },
   {
    "duration": 9,
    "start_time": "2022-07-15T04:02:30.081Z"
   },
   {
    "duration": 40,
    "start_time": "2022-07-15T04:02:30.558Z"
   },
   {
    "duration": 62,
    "start_time": "2022-07-15T04:02:30.904Z"
   },
   {
    "duration": 6520,
    "start_time": "2022-07-15T04:02:31.271Z"
   },
   {
    "duration": 30,
    "start_time": "2022-07-15T04:02:37.793Z"
   },
   {
    "duration": 24,
    "start_time": "2022-07-15T04:02:37.824Z"
   },
   {
    "duration": 52,
    "start_time": "2022-07-15T04:02:37.849Z"
   },
   {
    "duration": 14,
    "start_time": "2022-07-15T04:02:37.903Z"
   },
   {
    "duration": 1105,
    "start_time": "2022-07-15T04:02:37.918Z"
   },
   {
    "duration": 1484,
    "start_time": "2022-07-15T04:02:39.025Z"
   },
   {
    "duration": 19,
    "start_time": "2022-07-15T04:02:40.510Z"
   },
   {
    "duration": 4,
    "start_time": "2022-07-15T04:02:40.531Z"
   },
   {
    "duration": 13,
    "start_time": "2022-07-15T04:02:40.537Z"
   },
   {
    "duration": 10,
    "start_time": "2022-07-15T04:02:40.552Z"
   },
   {
    "duration": 38,
    "start_time": "2022-07-15T04:02:40.563Z"
   },
   {
    "duration": 1094,
    "start_time": "2022-07-15T04:02:40.602Z"
   },
   {
    "duration": 285,
    "start_time": "2022-07-15T04:02:41.698Z"
   },
   {
    "duration": 207,
    "start_time": "2022-07-15T04:02:41.985Z"
   },
   {
    "duration": 1413,
    "start_time": "2022-07-15T04:02:42.200Z"
   },
   {
    "duration": 5,
    "start_time": "2022-07-15T04:02:43.615Z"
   },
   {
    "duration": 25,
    "start_time": "2022-07-15T04:06:06.166Z"
   },
   {
    "duration": 174,
    "start_time": "2022-07-15T04:08:58.002Z"
   },
   {
    "duration": 50,
    "start_time": "2022-07-15T04:08:59.250Z"
   },
   {
    "duration": 7,
    "start_time": "2022-07-15T04:08:59.424Z"
   },
   {
    "duration": 412,
    "start_time": "2022-07-15T04:08:59.916Z"
   },
   {
    "duration": 19,
    "start_time": "2022-07-15T04:09:00.330Z"
   },
   {
    "duration": 13,
    "start_time": "2022-07-15T04:09:00.888Z"
   },
   {
    "duration": 35,
    "start_time": "2022-07-15T04:09:01.397Z"
   },
   {
    "duration": 5,
    "start_time": "2022-07-15T04:09:01.577Z"
   },
   {
    "duration": 114,
    "start_time": "2022-07-15T04:09:02.338Z"
   },
   {
    "duration": 17,
    "start_time": "2022-07-15T04:09:03.094Z"
   },
   {
    "duration": 10,
    "start_time": "2022-07-15T04:09:03.589Z"
   },
   {
    "duration": 14,
    "start_time": "2022-07-15T04:09:06.057Z"
   },
   {
    "duration": 11,
    "start_time": "2022-07-15T04:09:06.941Z"
   },
   {
    "duration": 3,
    "start_time": "2022-07-15T04:09:08.167Z"
   },
   {
    "duration": 7,
    "start_time": "2022-07-15T04:09:08.755Z"
   },
   {
    "duration": 7,
    "start_time": "2022-07-15T04:09:09.550Z"
   },
   {
    "duration": 8,
    "start_time": "2022-07-15T04:09:09.966Z"
   },
   {
    "duration": 34,
    "start_time": "2022-07-15T04:09:11.430Z"
   },
   {
    "duration": 11,
    "start_time": "2022-07-15T04:09:11.628Z"
   },
   {
    "duration": 59,
    "start_time": "2022-07-15T04:09:19.164Z"
   },
   {
    "duration": 23,
    "start_time": "2022-07-15T04:09:19.661Z"
   },
   {
    "duration": 6069,
    "start_time": "2022-07-15T04:09:27.033Z"
   },
   {
    "duration": 26,
    "start_time": "2022-07-15T04:09:33.104Z"
   },
   {
    "duration": 21,
    "start_time": "2022-07-15T04:11:13.237Z"
   },
   {
    "duration": 36,
    "start_time": "2022-07-15T04:11:16.051Z"
   },
   {
    "duration": 50,
    "start_time": "2022-07-15T04:56:04.613Z"
   },
   {
    "duration": 1482,
    "start_time": "2022-07-15T04:56:09.574Z"
   },
   {
    "duration": 447,
    "start_time": "2022-07-15T04:56:11.058Z"
   },
   {
    "duration": 29,
    "start_time": "2022-07-15T04:56:11.506Z"
   },
   {
    "duration": 3,
    "start_time": "2022-07-15T04:57:55.919Z"
   },
   {
    "duration": 204,
    "start_time": "2022-07-15T04:57:55.924Z"
   },
   {
    "duration": 21,
    "start_time": "2022-07-15T04:57:56.129Z"
   },
   {
    "duration": 4,
    "start_time": "2022-07-15T05:00:30.111Z"
   },
   {
    "duration": 201,
    "start_time": "2022-07-15T05:00:30.116Z"
   },
   {
    "duration": 19,
    "start_time": "2022-07-15T05:00:30.319Z"
   },
   {
    "duration": 1018,
    "start_time": "2022-07-15T05:00:30.339Z"
   },
   {
    "duration": 0,
    "start_time": "2022-07-15T05:00:31.359Z"
   },
   {
    "duration": 0,
    "start_time": "2022-07-15T05:00:31.360Z"
   },
   {
    "duration": 781,
    "start_time": "2022-07-15T05:01:25.983Z"
   },
   {
    "duration": 11,
    "start_time": "2022-07-15T05:03:30.221Z"
   },
   {
    "duration": 3,
    "start_time": "2022-07-15T05:04:26.631Z"
   },
   {
    "duration": 200,
    "start_time": "2022-07-15T05:04:26.636Z"
   },
   {
    "duration": 226,
    "start_time": "2022-07-15T05:04:26.838Z"
   },
   {
    "duration": 0,
    "start_time": "2022-07-15T05:04:27.065Z"
   },
   {
    "duration": 21,
    "start_time": "2022-07-15T05:05:06.567Z"
   },
   {
    "duration": 8,
    "start_time": "2022-07-15T05:05:10.461Z"
   },
   {
    "duration": 383,
    "start_time": "2022-07-15T05:05:15.655Z"
   },
   {
    "duration": 216,
    "start_time": "2022-07-15T05:05:36.787Z"
   },
   {
    "duration": 22,
    "start_time": "2022-07-15T05:05:57.698Z"
   },
   {
    "duration": 12,
    "start_time": "2022-07-15T05:06:30.413Z"
   },
   {
    "duration": 3,
    "start_time": "2022-07-15T05:06:55.527Z"
   },
   {
    "duration": 192,
    "start_time": "2022-07-15T05:06:55.533Z"
   },
   {
    "duration": 20,
    "start_time": "2022-07-15T05:06:55.726Z"
   },
   {
    "duration": 390,
    "start_time": "2022-07-15T05:06:55.748Z"
   },
   {
    "duration": 7,
    "start_time": "2022-07-15T05:06:56.139Z"
   },
   {
    "duration": 26,
    "start_time": "2022-07-15T05:07:39.260Z"
   },
   {
    "duration": 4,
    "start_time": "2022-07-15T05:08:35.521Z"
   },
   {
    "duration": 202,
    "start_time": "2022-07-15T05:08:35.527Z"
   },
   {
    "duration": 20,
    "start_time": "2022-07-15T05:08:35.731Z"
   },
   {
    "duration": 368,
    "start_time": "2022-07-15T05:08:35.753Z"
   },
   {
    "duration": 6,
    "start_time": "2022-07-15T05:08:36.123Z"
   },
   {
    "duration": 45,
    "start_time": "2022-07-15T05:08:36.130Z"
   },
   {
    "duration": 3,
    "start_time": "2022-07-15T05:09:10.631Z"
   },
   {
    "duration": 198,
    "start_time": "2022-07-15T05:09:10.636Z"
   },
   {
    "duration": 21,
    "start_time": "2022-07-15T05:09:10.836Z"
   },
   {
    "duration": 407,
    "start_time": "2022-07-15T05:09:10.858Z"
   },
   {
    "duration": 17,
    "start_time": "2022-07-15T05:09:11.267Z"
   },
   {
    "duration": 33,
    "start_time": "2022-07-15T05:09:11.285Z"
   },
   {
    "duration": 13,
    "start_time": "2022-07-15T05:09:11.320Z"
   },
   {
    "duration": 887,
    "start_time": "2022-07-15T05:11:49.999Z"
   },
   {
    "duration": 18,
    "start_time": "2022-07-15T05:12:03.898Z"
   },
   {
    "duration": 871,
    "start_time": "2022-07-15T05:14:19.151Z"
   },
   {
    "duration": 109,
    "start_time": "2022-07-15T05:14:39.572Z"
   },
   {
    "duration": 7,
    "start_time": "2022-07-15T05:14:57.458Z"
   },
   {
    "duration": 20,
    "start_time": "2022-07-15T05:16:07.152Z"
   },
   {
    "duration": 3,
    "start_time": "2022-07-15T05:16:27.539Z"
   },
   {
    "duration": 190,
    "start_time": "2022-07-15T05:16:27.544Z"
   },
   {
    "duration": 20,
    "start_time": "2022-07-15T05:16:27.735Z"
   },
   {
    "duration": 355,
    "start_time": "2022-07-15T05:16:27.756Z"
   },
   {
    "duration": 7,
    "start_time": "2022-07-15T05:16:28.113Z"
   },
   {
    "duration": 19,
    "start_time": "2022-07-15T05:16:28.122Z"
   },
   {
    "duration": 19,
    "start_time": "2022-07-15T05:16:28.143Z"
   },
   {
    "duration": 14,
    "start_time": "2022-07-15T05:16:28.164Z"
   },
   {
    "duration": 117,
    "start_time": "2022-07-15T05:16:28.180Z"
   },
   {
    "duration": 15,
    "start_time": "2022-07-15T05:16:28.299Z"
   },
   {
    "duration": 8,
    "start_time": "2022-07-15T05:16:28.315Z"
   },
   {
    "duration": 10,
    "start_time": "2022-07-15T05:21:46.776Z"
   },
   {
    "duration": 4,
    "start_time": "2022-07-15T05:21:56.982Z"
   },
   {
    "duration": 191,
    "start_time": "2022-07-15T05:21:56.988Z"
   },
   {
    "duration": 20,
    "start_time": "2022-07-15T05:21:57.181Z"
   },
   {
    "duration": 374,
    "start_time": "2022-07-15T05:21:57.202Z"
   },
   {
    "duration": 15,
    "start_time": "2022-07-15T05:21:57.578Z"
   },
   {
    "duration": 11,
    "start_time": "2022-07-15T05:21:57.595Z"
   },
   {
    "duration": 20,
    "start_time": "2022-07-15T05:21:57.608Z"
   },
   {
    "duration": 141,
    "start_time": "2022-07-15T05:21:57.629Z"
   },
   {
    "duration": 14,
    "start_time": "2022-07-15T05:21:57.772Z"
   },
   {
    "duration": 7,
    "start_time": "2022-07-15T05:21:57.788Z"
   },
   {
    "duration": 19,
    "start_time": "2022-07-15T05:21:57.797Z"
   },
   {
    "duration": 0,
    "start_time": "2022-07-15T05:21:57.817Z"
   },
   {
    "duration": 13,
    "start_time": "2022-07-15T05:23:04.050Z"
   },
   {
    "duration": 11,
    "start_time": "2022-07-15T05:23:06.943Z"
   },
   {
    "duration": 8,
    "start_time": "2022-07-15T05:23:09.467Z"
   },
   {
    "duration": 31,
    "start_time": "2022-07-15T05:27:47.977Z"
   },
   {
    "duration": 3,
    "start_time": "2022-07-15T05:28:31.616Z"
   },
   {
    "duration": 198,
    "start_time": "2022-07-15T05:28:31.621Z"
   },
   {
    "duration": 21,
    "start_time": "2022-07-15T05:28:31.821Z"
   },
   {
    "duration": 346,
    "start_time": "2022-07-15T05:28:31.844Z"
   },
   {
    "duration": 15,
    "start_time": "2022-07-15T05:28:32.192Z"
   },
   {
    "duration": 12,
    "start_time": "2022-07-15T05:28:32.209Z"
   },
   {
    "duration": 33,
    "start_time": "2022-07-15T05:28:32.222Z"
   },
   {
    "duration": 120,
    "start_time": "2022-07-15T05:28:32.257Z"
   },
   {
    "duration": 24,
    "start_time": "2022-07-15T05:28:32.378Z"
   },
   {
    "duration": 9,
    "start_time": "2022-07-15T05:28:32.404Z"
   },
   {
    "duration": 20,
    "start_time": "2022-07-15T05:28:32.414Z"
   },
   {
    "duration": 11,
    "start_time": "2022-07-15T05:28:32.436Z"
   },
   {
    "duration": 15,
    "start_time": "2022-07-15T05:28:32.448Z"
   },
   {
    "duration": 18,
    "start_time": "2022-07-15T05:28:32.466Z"
   },
   {
    "duration": 16,
    "start_time": "2022-07-15T05:28:32.485Z"
   },
   {
    "duration": 27,
    "start_time": "2022-07-15T05:28:32.502Z"
   },
   {
    "duration": 41,
    "start_time": "2022-07-15T05:30:16.158Z"
   },
   {
    "duration": 3,
    "start_time": "2022-07-15T05:31:20.160Z"
   },
   {
    "duration": 188,
    "start_time": "2022-07-15T05:31:20.166Z"
   },
   {
    "duration": 20,
    "start_time": "2022-07-15T05:31:20.357Z"
   },
   {
    "duration": 388,
    "start_time": "2022-07-15T05:31:20.378Z"
   },
   {
    "duration": 16,
    "start_time": "2022-07-15T05:31:20.768Z"
   },
   {
    "duration": 11,
    "start_time": "2022-07-15T05:31:20.785Z"
   },
   {
    "duration": 21,
    "start_time": "2022-07-15T05:31:20.797Z"
   },
   {
    "duration": 123,
    "start_time": "2022-07-15T05:31:20.819Z"
   },
   {
    "duration": 35,
    "start_time": "2022-07-15T05:31:20.943Z"
   },
   {
    "duration": 8,
    "start_time": "2022-07-15T05:31:20.979Z"
   },
   {
    "duration": 17,
    "start_time": "2022-07-15T05:31:20.989Z"
   },
   {
    "duration": 16,
    "start_time": "2022-07-15T05:31:21.008Z"
   },
   {
    "duration": 9,
    "start_time": "2022-07-15T05:31:21.025Z"
   },
   {
    "duration": 9,
    "start_time": "2022-07-15T05:31:21.035Z"
   },
   {
    "duration": 19,
    "start_time": "2022-07-15T05:31:21.046Z"
   },
   {
    "duration": 37,
    "start_time": "2022-07-15T05:31:21.067Z"
   },
   {
    "duration": 4,
    "start_time": "2022-07-15T05:33:06.508Z"
   },
   {
    "duration": 190,
    "start_time": "2022-07-15T05:33:06.513Z"
   },
   {
    "duration": 25,
    "start_time": "2022-07-15T05:33:06.705Z"
   },
   {
    "duration": 405,
    "start_time": "2022-07-15T05:33:06.732Z"
   },
   {
    "duration": 21,
    "start_time": "2022-07-15T05:33:07.139Z"
   },
   {
    "duration": 16,
    "start_time": "2022-07-15T05:33:07.162Z"
   },
   {
    "duration": 40,
    "start_time": "2022-07-15T05:33:07.179Z"
   },
   {
    "duration": 118,
    "start_time": "2022-07-15T05:33:07.220Z"
   },
   {
    "duration": 43,
    "start_time": "2022-07-15T05:33:07.339Z"
   },
   {
    "duration": 25,
    "start_time": "2022-07-15T05:33:07.383Z"
   },
   {
    "duration": 25,
    "start_time": "2022-07-15T05:33:07.410Z"
   },
   {
    "duration": 19,
    "start_time": "2022-07-15T05:33:07.437Z"
   },
   {
    "duration": 7,
    "start_time": "2022-07-15T05:33:07.457Z"
   },
   {
    "duration": 5,
    "start_time": "2022-07-15T05:33:07.466Z"
   },
   {
    "duration": 9,
    "start_time": "2022-07-15T05:33:07.473Z"
   },
   {
    "duration": 37,
    "start_time": "2022-07-15T05:33:07.483Z"
   },
   {
    "duration": 8,
    "start_time": "2022-07-15T05:33:07.521Z"
   },
   {
    "duration": 10,
    "start_time": "2022-07-15T05:37:45.988Z"
   },
   {
    "duration": 15,
    "start_time": "2022-07-15T06:38:35.118Z"
   },
   {
    "duration": 23,
    "start_time": "2022-07-15T06:38:38.131Z"
   },
   {
    "duration": 18,
    "start_time": "2022-07-15T06:39:05.118Z"
   },
   {
    "duration": 9,
    "start_time": "2022-07-15T06:42:24.747Z"
   },
   {
    "duration": 10,
    "start_time": "2022-07-15T06:44:33.178Z"
   },
   {
    "duration": 5,
    "start_time": "2022-07-15T06:46:47.228Z"
   },
   {
    "duration": 9,
    "start_time": "2022-07-15T06:47:32.369Z"
   },
   {
    "duration": 22,
    "start_time": "2022-07-15T06:47:42.697Z"
   },
   {
    "duration": 6,
    "start_time": "2022-07-15T06:53:47.304Z"
   },
   {
    "duration": 4,
    "start_time": "2022-07-15T06:54:16.274Z"
   },
   {
    "duration": 231,
    "start_time": "2022-07-15T06:54:16.281Z"
   },
   {
    "duration": 24,
    "start_time": "2022-07-15T06:54:16.515Z"
   },
   {
    "duration": 398,
    "start_time": "2022-07-15T06:54:16.541Z"
   },
   {
    "duration": 30,
    "start_time": "2022-07-15T06:54:16.941Z"
   },
   {
    "duration": 12,
    "start_time": "2022-07-15T06:54:16.972Z"
   },
   {
    "duration": 21,
    "start_time": "2022-07-15T06:54:16.986Z"
   },
   {
    "duration": 128,
    "start_time": "2022-07-15T06:54:17.008Z"
   },
   {
    "duration": 31,
    "start_time": "2022-07-15T06:54:17.137Z"
   },
   {
    "duration": 7,
    "start_time": "2022-07-15T06:54:17.169Z"
   },
   {
    "duration": 14,
    "start_time": "2022-07-15T06:54:17.177Z"
   },
   {
    "duration": 17,
    "start_time": "2022-07-15T06:54:17.192Z"
   },
   {
    "duration": 9,
    "start_time": "2022-07-15T06:54:17.210Z"
   },
   {
    "duration": 8,
    "start_time": "2022-07-15T06:54:17.222Z"
   },
   {
    "duration": 15,
    "start_time": "2022-07-15T06:54:17.232Z"
   },
   {
    "duration": 8,
    "start_time": "2022-07-15T06:54:17.261Z"
   },
   {
    "duration": 7,
    "start_time": "2022-07-15T06:54:36.252Z"
   },
   {
    "duration": 10,
    "start_time": "2022-07-15T06:56:41.263Z"
   },
   {
    "duration": 10,
    "start_time": "2022-07-15T06:57:35.223Z"
   },
   {
    "duration": 8,
    "start_time": "2022-07-15T06:57:50.589Z"
   },
   {
    "duration": 17,
    "start_time": "2022-07-15T06:59:27.064Z"
   },
   {
    "duration": 6,
    "start_time": "2022-07-15T07:01:49.083Z"
   },
   {
    "duration": 16,
    "start_time": "2022-07-15T07:03:10.502Z"
   },
   {
    "duration": 5,
    "start_time": "2022-07-15T07:03:25.183Z"
   },
   {
    "duration": 7,
    "start_time": "2022-07-15T07:03:38.873Z"
   },
   {
    "duration": 3,
    "start_time": "2022-07-15T07:05:44.406Z"
   },
   {
    "duration": 206,
    "start_time": "2022-07-15T07:05:44.411Z"
   },
   {
    "duration": 21,
    "start_time": "2022-07-15T07:05:44.619Z"
   },
   {
    "duration": 397,
    "start_time": "2022-07-15T07:05:44.642Z"
   },
   {
    "duration": 22,
    "start_time": "2022-07-15T07:05:45.041Z"
   },
   {
    "duration": 13,
    "start_time": "2022-07-15T07:05:45.069Z"
   },
   {
    "duration": 18,
    "start_time": "2022-07-15T07:05:45.084Z"
   },
   {
    "duration": 122,
    "start_time": "2022-07-15T07:05:45.103Z"
   },
   {
    "duration": 19,
    "start_time": "2022-07-15T07:05:45.227Z"
   },
   {
    "duration": 15,
    "start_time": "2022-07-15T07:05:45.248Z"
   },
   {
    "duration": 33,
    "start_time": "2022-07-15T07:05:45.264Z"
   },
   {
    "duration": 13,
    "start_time": "2022-07-15T07:05:45.298Z"
   },
   {
    "duration": 8,
    "start_time": "2022-07-15T07:05:45.313Z"
   },
   {
    "duration": 7,
    "start_time": "2022-07-15T07:05:45.323Z"
   },
   {
    "duration": 20,
    "start_time": "2022-07-15T07:05:45.332Z"
   },
   {
    "duration": 18,
    "start_time": "2022-07-15T07:05:45.354Z"
   },
   {
    "duration": 10,
    "start_time": "2022-07-15T07:05:45.374Z"
   },
   {
    "duration": 7,
    "start_time": "2022-07-15T07:05:45.386Z"
   },
   {
    "duration": 25,
    "start_time": "2022-07-15T07:05:45.395Z"
   },
   {
    "duration": 5,
    "start_time": "2022-07-15T07:05:45.422Z"
   },
   {
    "duration": 9,
    "start_time": "2022-07-15T07:05:45.428Z"
   },
   {
    "duration": 16,
    "start_time": "2022-07-15T07:05:45.439Z"
   },
   {
    "duration": 18,
    "start_time": "2022-07-15T07:05:45.460Z"
   },
   {
    "duration": 13,
    "start_time": "2022-07-15T07:05:59.270Z"
   },
   {
    "duration": 15,
    "start_time": "2022-07-15T07:06:52.729Z"
   },
   {
    "duration": 16,
    "start_time": "2022-07-15T07:06:57.056Z"
   },
   {
    "duration": 4,
    "start_time": "2022-07-15T07:32:02.234Z"
   },
   {
    "duration": 5,
    "start_time": "2022-07-15T07:32:52.081Z"
   },
   {
    "duration": 241,
    "start_time": "2022-07-15T07:32:52.089Z"
   },
   {
    "duration": 21,
    "start_time": "2022-07-15T07:32:52.332Z"
   },
   {
    "duration": 392,
    "start_time": "2022-07-15T07:32:52.355Z"
   },
   {
    "duration": 25,
    "start_time": "2022-07-15T07:32:52.748Z"
   },
   {
    "duration": 25,
    "start_time": "2022-07-15T07:32:52.774Z"
   },
   {
    "duration": 20,
    "start_time": "2022-07-15T07:32:52.801Z"
   },
   {
    "duration": 151,
    "start_time": "2022-07-15T07:32:52.823Z"
   },
   {
    "duration": 19,
    "start_time": "2022-07-15T07:32:52.979Z"
   },
   {
    "duration": 16,
    "start_time": "2022-07-15T07:32:53.001Z"
   },
   {
    "duration": 18,
    "start_time": "2022-07-15T07:32:53.019Z"
   },
   {
    "duration": 10,
    "start_time": "2022-07-15T07:32:53.039Z"
   },
   {
    "duration": 24,
    "start_time": "2022-07-15T07:32:53.050Z"
   },
   {
    "duration": 26,
    "start_time": "2022-07-15T07:32:53.079Z"
   },
   {
    "duration": 13,
    "start_time": "2022-07-15T07:32:53.107Z"
   },
   {
    "duration": 11,
    "start_time": "2022-07-15T07:32:53.122Z"
   },
   {
    "duration": 6,
    "start_time": "2022-07-15T07:32:53.135Z"
   },
   {
    "duration": 21,
    "start_time": "2022-07-15T07:32:53.143Z"
   },
   {
    "duration": 67,
    "start_time": "2022-07-15T07:32:53.166Z"
   },
   {
    "duration": 6,
    "start_time": "2022-07-15T07:32:53.235Z"
   },
   {
    "duration": 14,
    "start_time": "2022-07-15T07:32:53.243Z"
   },
   {
    "duration": 59,
    "start_time": "2022-07-15T07:32:53.258Z"
   },
   {
    "duration": 25,
    "start_time": "2022-07-15T07:32:53.319Z"
   },
   {
    "duration": 16,
    "start_time": "2022-07-15T07:32:53.346Z"
   },
   {
    "duration": 38,
    "start_time": "2022-07-15T07:32:53.364Z"
   },
   {
    "duration": 7,
    "start_time": "2022-07-15T07:32:53.404Z"
   },
   {
    "duration": 1232,
    "start_time": "2022-07-15T07:32:53.412Z"
   },
   {
    "duration": 1377,
    "start_time": "2022-07-15T07:33:37.643Z"
   },
   {
    "duration": 15,
    "start_time": "2022-07-15T07:34:24.192Z"
   },
   {
    "duration": 1530,
    "start_time": "2022-07-15T07:34:32.885Z"
   },
   {
    "duration": 524,
    "start_time": "2022-07-15T07:34:55.593Z"
   },
   {
    "duration": 162,
    "start_time": "2022-07-15T07:36:04.145Z"
   },
   {
    "duration": 1675,
    "start_time": "2022-07-15T07:36:14.047Z"
   },
   {
    "duration": 6,
    "start_time": "2022-07-15T07:37:47.691Z"
   },
   {
    "duration": 248,
    "start_time": "2022-07-15T07:37:47.700Z"
   },
   {
    "duration": 40,
    "start_time": "2022-07-15T07:37:47.949Z"
   },
   {
    "duration": 715,
    "start_time": "2022-07-15T07:37:47.997Z"
   },
   {
    "duration": 17,
    "start_time": "2022-07-15T07:37:48.715Z"
   },
   {
    "duration": 14,
    "start_time": "2022-07-15T07:37:48.733Z"
   },
   {
    "duration": 36,
    "start_time": "2022-07-15T07:37:48.749Z"
   },
   {
    "duration": 167,
    "start_time": "2022-07-15T07:37:48.789Z"
   },
   {
    "duration": 50,
    "start_time": "2022-07-15T07:37:48.958Z"
   },
   {
    "duration": 12,
    "start_time": "2022-07-15T07:37:49.010Z"
   },
   {
    "duration": 18,
    "start_time": "2022-07-15T07:37:49.024Z"
   },
   {
    "duration": 14,
    "start_time": "2022-07-15T07:37:49.044Z"
   },
   {
    "duration": 22,
    "start_time": "2022-07-15T07:37:49.064Z"
   },
   {
    "duration": 25,
    "start_time": "2022-07-15T07:37:49.089Z"
   },
   {
    "duration": 11,
    "start_time": "2022-07-15T07:37:49.116Z"
   },
   {
    "duration": 12,
    "start_time": "2022-07-15T07:37:49.129Z"
   },
   {
    "duration": 9,
    "start_time": "2022-07-15T07:37:49.143Z"
   },
   {
    "duration": 9,
    "start_time": "2022-07-15T07:37:49.154Z"
   },
   {
    "duration": 72,
    "start_time": "2022-07-15T07:37:49.164Z"
   },
   {
    "duration": 6,
    "start_time": "2022-07-15T07:37:49.239Z"
   },
   {
    "duration": 16,
    "start_time": "2022-07-15T07:37:49.247Z"
   },
   {
    "duration": 50,
    "start_time": "2022-07-15T07:37:49.265Z"
   },
   {
    "duration": 29,
    "start_time": "2022-07-15T07:37:49.317Z"
   },
   {
    "duration": 34,
    "start_time": "2022-07-15T07:37:49.348Z"
   },
   {
    "duration": 17,
    "start_time": "2022-07-15T07:37:49.392Z"
   },
   {
    "duration": 7,
    "start_time": "2022-07-15T07:37:49.411Z"
   },
   {
    "duration": 1375,
    "start_time": "2022-07-15T07:37:49.419Z"
   },
   {
    "duration": 510,
    "start_time": "2022-07-15T07:37:50.800Z"
   },
   {
    "duration": 155,
    "start_time": "2022-07-15T07:37:51.312Z"
   },
   {
    "duration": 1671,
    "start_time": "2022-07-15T07:37:51.469Z"
   },
   {
    "duration": 6,
    "start_time": "2022-07-15T07:37:53.142Z"
   },
   {
    "duration": 1775,
    "start_time": "2022-07-15T07:42:08.354Z"
   },
   {
    "duration": 3,
    "start_time": "2022-07-15T07:45:43.107Z"
   },
   {
    "duration": 211,
    "start_time": "2022-07-15T07:45:43.112Z"
   },
   {
    "duration": 20,
    "start_time": "2022-07-15T07:45:43.325Z"
   },
   {
    "duration": 348,
    "start_time": "2022-07-15T07:45:43.347Z"
   },
   {
    "duration": 15,
    "start_time": "2022-07-15T07:45:43.697Z"
   },
   {
    "duration": 25,
    "start_time": "2022-07-15T07:45:43.714Z"
   },
   {
    "duration": 46,
    "start_time": "2022-07-15T07:45:43.740Z"
   },
   {
    "duration": 122,
    "start_time": "2022-07-15T07:45:43.787Z"
   },
   {
    "duration": 37,
    "start_time": "2022-07-15T07:45:43.911Z"
   },
   {
    "duration": 35,
    "start_time": "2022-07-15T07:45:43.950Z"
   },
   {
    "duration": 33,
    "start_time": "2022-07-15T07:45:43.986Z"
   },
   {
    "duration": 24,
    "start_time": "2022-07-15T07:45:44.021Z"
   },
   {
    "duration": 48,
    "start_time": "2022-07-15T07:45:44.048Z"
   },
   {
    "duration": 27,
    "start_time": "2022-07-15T07:45:44.098Z"
   },
   {
    "duration": 26,
    "start_time": "2022-07-15T07:45:44.127Z"
   },
   {
    "duration": 37,
    "start_time": "2022-07-15T07:45:44.154Z"
   },
   {
    "duration": 27,
    "start_time": "2022-07-15T07:45:44.192Z"
   },
   {
    "duration": 18,
    "start_time": "2022-07-15T07:45:44.220Z"
   },
   {
    "duration": 63,
    "start_time": "2022-07-15T07:45:44.240Z"
   },
   {
    "duration": 8,
    "start_time": "2022-07-15T07:45:44.305Z"
   },
   {
    "duration": 31,
    "start_time": "2022-07-15T07:45:44.315Z"
   },
   {
    "duration": 42,
    "start_time": "2022-07-15T07:45:44.347Z"
   },
   {
    "duration": 65,
    "start_time": "2022-07-15T07:45:44.390Z"
   },
   {
    "duration": 58,
    "start_time": "2022-07-15T07:45:44.456Z"
   },
   {
    "duration": 26,
    "start_time": "2022-07-15T07:45:44.516Z"
   },
   {
    "duration": 36,
    "start_time": "2022-07-15T07:45:44.543Z"
   },
   {
    "duration": 1210,
    "start_time": "2022-07-15T07:45:44.581Z"
   },
   {
    "duration": 517,
    "start_time": "2022-07-15T07:45:45.793Z"
   },
   {
    "duration": 186,
    "start_time": "2022-07-15T07:45:46.313Z"
   },
   {
    "duration": 1551,
    "start_time": "2022-07-15T07:45:46.502Z"
   },
   {
    "duration": 16,
    "start_time": "2022-07-15T07:45:48.055Z"
   },
   {
    "duration": 236,
    "start_time": "2022-07-15T07:46:22.027Z"
   },
   {
    "duration": 4,
    "start_time": "2022-07-15T07:49:11.357Z"
   },
   {
    "duration": 215,
    "start_time": "2022-07-15T07:49:11.363Z"
   },
   {
    "duration": 19,
    "start_time": "2022-07-15T07:49:11.580Z"
   },
   {
    "duration": 374,
    "start_time": "2022-07-15T07:49:11.601Z"
   },
   {
    "duration": 16,
    "start_time": "2022-07-15T07:49:11.977Z"
   },
   {
    "duration": 11,
    "start_time": "2022-07-15T07:49:11.994Z"
   },
   {
    "duration": 22,
    "start_time": "2022-07-15T07:49:12.007Z"
   },
   {
    "duration": 150,
    "start_time": "2022-07-15T07:49:12.031Z"
   },
   {
    "duration": 15,
    "start_time": "2022-07-15T07:49:12.184Z"
   },
   {
    "duration": 8,
    "start_time": "2022-07-15T07:49:12.200Z"
   },
   {
    "duration": 18,
    "start_time": "2022-07-15T07:49:12.209Z"
   },
   {
    "duration": 11,
    "start_time": "2022-07-15T07:49:12.229Z"
   },
   {
    "duration": 32,
    "start_time": "2022-07-15T07:49:12.241Z"
   },
   {
    "duration": 3,
    "start_time": "2022-07-15T07:49:12.275Z"
   },
   {
    "duration": 14,
    "start_time": "2022-07-15T07:49:12.279Z"
   },
   {
    "duration": 12,
    "start_time": "2022-07-15T07:49:12.295Z"
   },
   {
    "duration": 9,
    "start_time": "2022-07-15T07:49:12.308Z"
   },
   {
    "duration": 6,
    "start_time": "2022-07-15T07:49:12.318Z"
   },
   {
    "duration": 27,
    "start_time": "2022-07-15T07:49:12.326Z"
   },
   {
    "duration": 20,
    "start_time": "2022-07-15T07:49:12.355Z"
   },
   {
    "duration": 16,
    "start_time": "2022-07-15T07:49:12.377Z"
   },
   {
    "duration": 16,
    "start_time": "2022-07-15T07:49:12.395Z"
   },
   {
    "duration": 10,
    "start_time": "2022-07-15T07:49:12.412Z"
   },
   {
    "duration": 6,
    "start_time": "2022-07-15T07:49:12.425Z"
   },
   {
    "duration": 5,
    "start_time": "2022-07-15T07:49:12.432Z"
   },
   {
    "duration": 1376,
    "start_time": "2022-07-15T07:49:12.439Z"
   },
   {
    "duration": 412,
    "start_time": "2022-07-15T07:49:13.817Z"
   },
   {
    "duration": 145,
    "start_time": "2022-07-15T07:49:14.230Z"
   },
   {
    "duration": 1498,
    "start_time": "2022-07-15T07:49:14.379Z"
   },
   {
    "duration": 6,
    "start_time": "2022-07-15T07:49:15.878Z"
   },
   {
    "duration": 3,
    "start_time": "2022-07-17T07:34:31.690Z"
   },
   {
    "duration": 252,
    "start_time": "2022-07-17T07:34:31.695Z"
   },
   {
    "duration": 22,
    "start_time": "2022-07-17T07:34:31.950Z"
   },
   {
    "duration": 381,
    "start_time": "2022-07-17T07:34:31.974Z"
   },
   {
    "duration": 17,
    "start_time": "2022-07-17T07:34:32.358Z"
   },
   {
    "duration": 46,
    "start_time": "2022-07-17T07:34:32.376Z"
   },
   {
    "duration": 22,
    "start_time": "2022-07-17T07:34:32.424Z"
   },
   {
    "duration": 113,
    "start_time": "2022-07-17T07:34:32.447Z"
   },
   {
    "duration": 15,
    "start_time": "2022-07-17T07:34:32.562Z"
   },
   {
    "duration": 42,
    "start_time": "2022-07-17T07:34:32.579Z"
   },
   {
    "duration": 19,
    "start_time": "2022-07-17T07:34:32.622Z"
   },
   {
    "duration": 12,
    "start_time": "2022-07-17T07:34:32.642Z"
   },
   {
    "duration": 8,
    "start_time": "2022-07-17T07:34:32.655Z"
   },
   {
    "duration": 19,
    "start_time": "2022-07-17T07:34:32.666Z"
   },
   {
    "duration": 12,
    "start_time": "2022-07-17T07:34:32.687Z"
   },
   {
    "duration": 30,
    "start_time": "2022-07-17T07:34:32.709Z"
   },
   {
    "duration": 6,
    "start_time": "2022-07-17T07:34:32.741Z"
   },
   {
    "duration": 13,
    "start_time": "2022-07-17T07:34:32.749Z"
   },
   {
    "duration": 34,
    "start_time": "2022-07-17T07:34:32.764Z"
   },
   {
    "duration": 22,
    "start_time": "2022-07-17T07:34:32.800Z"
   },
   {
    "duration": 50,
    "start_time": "2022-07-17T07:34:32.824Z"
   },
   {
    "duration": 31,
    "start_time": "2022-07-17T07:34:32.876Z"
   },
   {
    "duration": 42,
    "start_time": "2022-07-17T07:34:34.475Z"
   },
   {
    "duration": 32,
    "start_time": "2022-07-17T07:50:27.085Z"
   },
   {
    "duration": 18,
    "start_time": "2022-07-17T07:50:37.999Z"
   },
   {
    "duration": 1623,
    "start_time": "2022-07-17T08:08:37.851Z"
   },
   {
    "duration": 127,
    "start_time": "2022-07-17T08:10:01.871Z"
   },
   {
    "duration": 4,
    "start_time": "2022-07-17T08:10:11.120Z"
   },
   {
    "duration": 603,
    "start_time": "2022-07-17T08:10:11.126Z"
   },
   {
    "duration": 37,
    "start_time": "2022-07-17T08:10:11.731Z"
   },
   {
    "duration": 428,
    "start_time": "2022-07-17T08:10:11.771Z"
   },
   {
    "duration": 20,
    "start_time": "2022-07-17T08:10:12.201Z"
   },
   {
    "duration": 25,
    "start_time": "2022-07-17T08:10:12.222Z"
   },
   {
    "duration": 27,
    "start_time": "2022-07-17T08:10:12.249Z"
   },
   {
    "duration": 122,
    "start_time": "2022-07-17T08:10:12.278Z"
   },
   {
    "duration": 24,
    "start_time": "2022-07-17T08:10:12.402Z"
   },
   {
    "duration": 38,
    "start_time": "2022-07-17T08:10:12.427Z"
   },
   {
    "duration": 21,
    "start_time": "2022-07-17T08:10:12.467Z"
   },
   {
    "duration": 10,
    "start_time": "2022-07-17T08:10:12.490Z"
   },
   {
    "duration": 8,
    "start_time": "2022-07-17T08:10:12.501Z"
   },
   {
    "duration": 6,
    "start_time": "2022-07-17T08:10:12.512Z"
   },
   {
    "duration": 13,
    "start_time": "2022-07-17T08:10:12.520Z"
   },
   {
    "duration": 37,
    "start_time": "2022-07-17T08:10:12.534Z"
   },
   {
    "duration": 17,
    "start_time": "2022-07-17T08:10:12.573Z"
   },
   {
    "duration": 8,
    "start_time": "2022-07-17T08:10:12.592Z"
   },
   {
    "duration": 32,
    "start_time": "2022-07-17T08:10:12.602Z"
   },
   {
    "duration": 29,
    "start_time": "2022-07-17T08:10:12.635Z"
   },
   {
    "duration": 21,
    "start_time": "2022-07-17T08:10:12.667Z"
   },
   {
    "duration": 19,
    "start_time": "2022-07-17T08:10:12.690Z"
   },
   {
    "duration": 21,
    "start_time": "2022-07-17T08:10:12.711Z"
   },
   {
    "duration": 19,
    "start_time": "2022-07-17T08:10:12.734Z"
   },
   {
    "duration": 23,
    "start_time": "2022-07-17T08:10:12.758Z"
   },
   {
    "duration": 1656,
    "start_time": "2022-07-17T08:10:12.783Z"
   },
   {
    "duration": 384,
    "start_time": "2022-07-17T08:10:14.442Z"
   },
   {
    "duration": 295,
    "start_time": "2022-07-17T08:10:14.828Z"
   },
   {
    "duration": 1840,
    "start_time": "2022-07-17T08:10:15.125Z"
   },
   {
    "duration": 7,
    "start_time": "2022-07-17T08:10:16.967Z"
   },
   {
    "duration": 31,
    "start_time": "2022-07-17T08:10:16.976Z"
   },
   {
    "duration": 152,
    "start_time": "2022-07-17T08:11:02.627Z"
   },
   {
    "duration": 3,
    "start_time": "2022-07-17T08:11:08.966Z"
   },
   {
    "duration": 103,
    "start_time": "2022-07-17T08:11:14.777Z"
   },
   {
    "duration": 3,
    "start_time": "2022-07-17T08:11:53.157Z"
   },
   {
    "duration": 203,
    "start_time": "2022-07-17T08:11:53.162Z"
   },
   {
    "duration": 23,
    "start_time": "2022-07-17T08:11:53.366Z"
   },
   {
    "duration": 393,
    "start_time": "2022-07-17T08:11:53.391Z"
   },
   {
    "duration": 19,
    "start_time": "2022-07-17T08:11:53.786Z"
   },
   {
    "duration": 29,
    "start_time": "2022-07-17T08:11:53.807Z"
   },
   {
    "duration": 39,
    "start_time": "2022-07-17T08:11:53.838Z"
   },
   {
    "duration": 130,
    "start_time": "2022-07-17T08:11:53.878Z"
   },
   {
    "duration": 19,
    "start_time": "2022-07-17T08:11:54.010Z"
   },
   {
    "duration": 25,
    "start_time": "2022-07-17T08:11:54.031Z"
   },
   {
    "duration": 17,
    "start_time": "2022-07-17T08:11:54.058Z"
   },
   {
    "duration": 12,
    "start_time": "2022-07-17T08:11:54.076Z"
   },
   {
    "duration": 20,
    "start_time": "2022-07-17T08:11:54.090Z"
   },
   {
    "duration": 15,
    "start_time": "2022-07-17T08:11:54.113Z"
   },
   {
    "duration": 17,
    "start_time": "2022-07-17T08:11:54.130Z"
   },
   {
    "duration": 14,
    "start_time": "2022-07-17T08:11:54.149Z"
   },
   {
    "duration": 8,
    "start_time": "2022-07-17T08:11:54.165Z"
   },
   {
    "duration": 8,
    "start_time": "2022-07-17T08:11:54.174Z"
   },
   {
    "duration": 30,
    "start_time": "2022-07-17T08:11:54.183Z"
   },
   {
    "duration": 8,
    "start_time": "2022-07-17T08:11:54.215Z"
   },
   {
    "duration": 35,
    "start_time": "2022-07-17T08:11:54.225Z"
   },
   {
    "duration": 22,
    "start_time": "2022-07-17T08:11:54.261Z"
   },
   {
    "duration": 13,
    "start_time": "2022-07-17T08:11:54.285Z"
   },
   {
    "duration": 10,
    "start_time": "2022-07-17T08:11:54.301Z"
   },
   {
    "duration": 41,
    "start_time": "2022-07-17T08:11:54.314Z"
   },
   {
    "duration": 1579,
    "start_time": "2022-07-17T08:11:54.357Z"
   },
   {
    "duration": 486,
    "start_time": "2022-07-17T08:11:55.943Z"
   },
   {
    "duration": 166,
    "start_time": "2022-07-17T08:11:56.431Z"
   },
   {
    "duration": 1813,
    "start_time": "2022-07-17T08:11:56.599Z"
   },
   {
    "duration": 6,
    "start_time": "2022-07-17T08:11:58.414Z"
   },
   {
    "duration": 31,
    "start_time": "2022-07-17T08:11:58.422Z"
   },
   {
    "duration": 93,
    "start_time": "2022-07-17T08:11:58.455Z"
   },
   {
    "duration": 15,
    "start_time": "2022-07-17T08:11:58.550Z"
   },
   {
    "duration": 183,
    "start_time": "2022-07-17T08:11:58.568Z"
   },
   {
    "duration": 93832,
    "start_time": "2022-07-17T08:11:58.752Z"
   },
   {
    "duration": 1218,
    "start_time": "2022-07-17T08:13:32.586Z"
   },
   {
    "duration": 11,
    "start_time": "2022-07-17T08:13:33.807Z"
   },
   {
    "duration": 0,
    "start_time": "2022-07-17T08:13:33.820Z"
   },
   {
    "duration": 0,
    "start_time": "2022-07-17T08:13:33.821Z"
   },
   {
    "duration": 2740,
    "start_time": "2022-07-18T07:15:58.023Z"
   },
   {
    "duration": 453,
    "start_time": "2022-07-18T07:16:00.764Z"
   },
   {
    "duration": 34,
    "start_time": "2022-07-18T07:16:01.219Z"
   },
   {
    "duration": 487,
    "start_time": "2022-07-18T07:16:01.255Z"
   },
   {
    "duration": 17,
    "start_time": "2022-07-18T07:16:01.745Z"
   },
   {
    "duration": 29,
    "start_time": "2022-07-18T07:16:01.764Z"
   },
   {
    "duration": 29,
    "start_time": "2022-07-18T07:16:01.795Z"
   },
   {
    "duration": 157,
    "start_time": "2022-07-18T07:16:01.834Z"
   },
   {
    "duration": 56,
    "start_time": "2022-07-18T07:16:01.992Z"
   },
   {
    "duration": 48,
    "start_time": "2022-07-18T07:16:02.051Z"
   },
   {
    "duration": 69,
    "start_time": "2022-07-18T07:16:02.100Z"
   },
   {
    "duration": 47,
    "start_time": "2022-07-18T07:16:02.171Z"
   },
   {
    "duration": 36,
    "start_time": "2022-07-18T07:16:02.220Z"
   },
   {
    "duration": 39,
    "start_time": "2022-07-18T07:16:02.257Z"
   },
   {
    "duration": 18,
    "start_time": "2022-07-18T07:16:02.298Z"
   },
   {
    "duration": 37,
    "start_time": "2022-07-18T07:16:02.318Z"
   },
   {
    "duration": 17,
    "start_time": "2022-07-18T07:16:02.357Z"
   },
   {
    "duration": 13,
    "start_time": "2022-07-18T07:16:02.376Z"
   },
   {
    "duration": 56,
    "start_time": "2022-07-18T07:16:02.390Z"
   },
   {
    "duration": 8,
    "start_time": "2022-07-18T07:16:02.447Z"
   },
   {
    "duration": 31,
    "start_time": "2022-07-18T07:16:02.456Z"
   },
   {
    "duration": 21,
    "start_time": "2022-07-18T07:16:02.488Z"
   },
   {
    "duration": 29,
    "start_time": "2022-07-18T07:16:02.511Z"
   },
   {
    "duration": 27,
    "start_time": "2022-07-18T07:16:02.542Z"
   },
   {
    "duration": 16,
    "start_time": "2022-07-18T07:16:02.571Z"
   },
   {
    "duration": 1393,
    "start_time": "2022-07-18T07:16:02.588Z"
   },
   {
    "duration": 329,
    "start_time": "2022-07-18T07:16:03.982Z"
   },
   {
    "duration": 287,
    "start_time": "2022-07-18T07:16:04.316Z"
   },
   {
    "duration": 1678,
    "start_time": "2022-07-18T07:16:04.606Z"
   },
   {
    "duration": 6,
    "start_time": "2022-07-18T07:16:06.286Z"
   },
   {
    "duration": 20,
    "start_time": "2022-07-18T07:16:06.293Z"
   },
   {
    "duration": 213,
    "start_time": "2022-07-18T07:16:06.315Z"
   },
   {
    "duration": 5,
    "start_time": "2022-07-18T07:16:06.531Z"
   },
   {
    "duration": 25082,
    "start_time": "2022-07-18T07:16:06.544Z"
   },
   {
    "duration": 1602026,
    "start_time": "2022-07-18T07:16:31.629Z"
   },
   {
    "duration": 1278,
    "start_time": "2022-07-18T07:43:13.656Z"
   },
   {
    "duration": 9,
    "start_time": "2022-07-18T07:43:14.935Z"
   },
   {
    "duration": 84,
    "start_time": "2022-07-18T07:43:14.946Z"
   },
   {
    "duration": 94,
    "start_time": "2022-07-18T07:43:15.034Z"
   },
   {
    "duration": 310,
    "start_time": "2022-07-18T07:43:15.130Z"
   }
  ],
  "kernelspec": {
   "display_name": "Python 3",
   "language": "python",
   "name": "python3"
  },
  "language_info": {
   "codemirror_mode": {
    "name": "ipython",
    "version": 3
   },
   "file_extension": ".py",
   "mimetype": "text/x-python",
   "name": "python",
   "nbconvert_exporter": "python",
   "pygments_lexer": "ipython3",
   "version": "3.7.13"
  },
  "toc": {
   "base_numbering": 1,
   "nav_menu": {},
   "number_sections": true,
   "sideBar": true,
   "skip_h1_title": false,
   "title_cell": "Table of Contents",
   "title_sidebar": "Contents",
   "toc_cell": true,
   "toc_position": {},
   "toc_section_display": true,
   "toc_window_display": true
  }
 },
 "nbformat": 4,
 "nbformat_minor": 5
}
