{
 "cells": [
  {
   "cell_type": "markdown",
   "metadata": {
    "toc": true
   },
   "source": [
    "<h1>Содержание<span class=\"tocSkip\"></span></h1>\n",
    "<div class=\"toc\"><ul class=\"toc-item\"><li><span><a href=\"#Загрузка-данных\" data-toc-modified-id=\"Загрузка-данных-1\"><span class=\"toc-item-num\">1&nbsp;&nbsp;</span>Загрузка данных</a></span></li><li><span><a href=\"#Умножение-матриц\" data-toc-modified-id=\"Умножение-матриц-2\"><span class=\"toc-item-num\">2&nbsp;&nbsp;</span>Умножение матриц</a></span></li><li><span><a href=\"#Алгоритм-преобразования\" data-toc-modified-id=\"Алгоритм-преобразования-3\"><span class=\"toc-item-num\">3&nbsp;&nbsp;</span>Алгоритм преобразования</a></span></li><li><span><a href=\"#Проверка-алгоритма\" data-toc-modified-id=\"Проверка-алгоритма-4\"><span class=\"toc-item-num\">4&nbsp;&nbsp;</span>Проверка алгоритма</a></span><ul class=\"toc-item\"><li><span><a href=\"#Оценка-модели-до-преобразований\" data-toc-modified-id=\"Оценка-модели-до-преобразований-4.1\"><span class=\"toc-item-num\">4.1&nbsp;&nbsp;</span>Оценка модели до преобразований</a></span></li><li><span><a href=\"#Применение-алгоритма-и-оценка-после-преобразований\" data-toc-modified-id=\"Применение-алгоритма-и-оценка-после-преобразований-4.2\"><span class=\"toc-item-num\">4.2&nbsp;&nbsp;</span>Применение алгоритма и оценка после преобразований</a></span></li></ul></li><li><span><a href=\"#Чек-лист-проверки\" data-toc-modified-id=\"Чек-лист-проверки-5\"><span class=\"toc-item-num\">5&nbsp;&nbsp;</span>Чек-лист проверки</a></span></li></ul></div>"
   ]
  },
  {
   "cell_type": "markdown",
   "metadata": {},
   "source": [
    "# Защита персональных данных клиентов"
   ]
  },
  {
   "cell_type": "markdown",
   "metadata": {},
   "source": [
    "Вам нужно защитить данные клиентов страховой компании «Хоть потоп». Разработайте такой метод преобразования данных, чтобы по ним было сложно восстановить персональную информацию. Обоснуйте корректность его работы.\n",
    "\n",
    "Нужно защитить данные, чтобы при преобразовании качество моделей машинного обучения не ухудшилось. Подбирать наилучшую модель не требуется."
   ]
  },
  {
   "cell_type": "markdown",
   "metadata": {},
   "source": [
    "## Загрузка данных"
   ]
  },
  {
   "cell_type": "code",
   "execution_count": 20,
   "metadata": {},
   "outputs": [],
   "source": [
    "import pandas as pd\n",
    "import numpy as np\n",
    "import warnings\n",
    "warnings.filterwarnings(\"ignore\")\n",
    "from sklearn.model_selection import train_test_split\n",
    "from sklearn.linear_model import LinearRegression\n",
    "from sklearn.metrics import r2_score"
   ]
  },
  {
   "cell_type": "code",
   "execution_count": 21,
   "metadata": {},
   "outputs": [
    {
     "name": "stdout",
     "output_type": "stream",
     "text": [
      "<class 'pandas.core.frame.DataFrame'>\n",
      "RangeIndex: 5000 entries, 0 to 4999\n",
      "Data columns (total 5 columns):\n",
      " #   Column             Non-Null Count  Dtype  \n",
      "---  ------             --------------  -----  \n",
      " 0   Пол                5000 non-null   int64  \n",
      " 1   Возраст            5000 non-null   float64\n",
      " 2   Зарплата           5000 non-null   float64\n",
      " 3   Члены семьи        5000 non-null   int64  \n",
      " 4   Страховые выплаты  5000 non-null   int64  \n",
      "dtypes: float64(2), int64(3)\n",
      "memory usage: 195.4 KB\n"
     ]
    },
    {
     "data": {
      "text/html": [
       "<div>\n",
       "<style scoped>\n",
       "    .dataframe tbody tr th:only-of-type {\n",
       "        vertical-align: middle;\n",
       "    }\n",
       "\n",
       "    .dataframe tbody tr th {\n",
       "        vertical-align: top;\n",
       "    }\n",
       "\n",
       "    .dataframe thead th {\n",
       "        text-align: right;\n",
       "    }\n",
       "</style>\n",
       "<table border=\"1\" class=\"dataframe\">\n",
       "  <thead>\n",
       "    <tr style=\"text-align: right;\">\n",
       "      <th></th>\n",
       "      <th>Пол</th>\n",
       "      <th>Возраст</th>\n",
       "      <th>Зарплата</th>\n",
       "      <th>Члены семьи</th>\n",
       "      <th>Страховые выплаты</th>\n",
       "    </tr>\n",
       "  </thead>\n",
       "  <tbody>\n",
       "    <tr>\n",
       "      <th>0</th>\n",
       "      <td>1</td>\n",
       "      <td>41.0</td>\n",
       "      <td>49600.0</td>\n",
       "      <td>1</td>\n",
       "      <td>0</td>\n",
       "    </tr>\n",
       "    <tr>\n",
       "      <th>1</th>\n",
       "      <td>0</td>\n",
       "      <td>46.0</td>\n",
       "      <td>38000.0</td>\n",
       "      <td>1</td>\n",
       "      <td>1</td>\n",
       "    </tr>\n",
       "    <tr>\n",
       "      <th>2</th>\n",
       "      <td>0</td>\n",
       "      <td>29.0</td>\n",
       "      <td>21000.0</td>\n",
       "      <td>0</td>\n",
       "      <td>0</td>\n",
       "    </tr>\n",
       "    <tr>\n",
       "      <th>3</th>\n",
       "      <td>0</td>\n",
       "      <td>21.0</td>\n",
       "      <td>41700.0</td>\n",
       "      <td>2</td>\n",
       "      <td>0</td>\n",
       "    </tr>\n",
       "    <tr>\n",
       "      <th>4</th>\n",
       "      <td>1</td>\n",
       "      <td>28.0</td>\n",
       "      <td>26100.0</td>\n",
       "      <td>0</td>\n",
       "      <td>0</td>\n",
       "    </tr>\n",
       "  </tbody>\n",
       "</table>\n",
       "</div>"
      ],
      "text/plain": [
       "   Пол  Возраст  Зарплата  Члены семьи  Страховые выплаты\n",
       "0    1     41.0   49600.0            1                  0\n",
       "1    0     46.0   38000.0            1                  1\n",
       "2    0     29.0   21000.0            0                  0\n",
       "3    0     21.0   41700.0            2                  0\n",
       "4    1     28.0   26100.0            0                  0"
      ]
     },
     "metadata": {},
     "output_type": "display_data"
    },
    {
     "data": {
      "text/html": [
       "<div>\n",
       "<style scoped>\n",
       "    .dataframe tbody tr th:only-of-type {\n",
       "        vertical-align: middle;\n",
       "    }\n",
       "\n",
       "    .dataframe tbody tr th {\n",
       "        vertical-align: top;\n",
       "    }\n",
       "\n",
       "    .dataframe thead th {\n",
       "        text-align: right;\n",
       "    }\n",
       "</style>\n",
       "<table border=\"1\" class=\"dataframe\">\n",
       "  <thead>\n",
       "    <tr style=\"text-align: right;\">\n",
       "      <th></th>\n",
       "      <th>Пол</th>\n",
       "      <th>Возраст</th>\n",
       "      <th>Зарплата</th>\n",
       "      <th>Члены семьи</th>\n",
       "      <th>Страховые выплаты</th>\n",
       "    </tr>\n",
       "  </thead>\n",
       "  <tbody>\n",
       "    <tr>\n",
       "      <th>Пол</th>\n",
       "      <td>1.000000</td>\n",
       "      <td>0.002074</td>\n",
       "      <td>0.014910</td>\n",
       "      <td>-0.008991</td>\n",
       "      <td>0.010140</td>\n",
       "    </tr>\n",
       "    <tr>\n",
       "      <th>Возраст</th>\n",
       "      <td>0.002074</td>\n",
       "      <td>1.000000</td>\n",
       "      <td>-0.019093</td>\n",
       "      <td>-0.006692</td>\n",
       "      <td>0.651030</td>\n",
       "    </tr>\n",
       "    <tr>\n",
       "      <th>Зарплата</th>\n",
       "      <td>0.014910</td>\n",
       "      <td>-0.019093</td>\n",
       "      <td>1.000000</td>\n",
       "      <td>-0.030296</td>\n",
       "      <td>-0.014963</td>\n",
       "    </tr>\n",
       "    <tr>\n",
       "      <th>Члены семьи</th>\n",
       "      <td>-0.008991</td>\n",
       "      <td>-0.006692</td>\n",
       "      <td>-0.030296</td>\n",
       "      <td>1.000000</td>\n",
       "      <td>-0.036290</td>\n",
       "    </tr>\n",
       "    <tr>\n",
       "      <th>Страховые выплаты</th>\n",
       "      <td>0.010140</td>\n",
       "      <td>0.651030</td>\n",
       "      <td>-0.014963</td>\n",
       "      <td>-0.036290</td>\n",
       "      <td>1.000000</td>\n",
       "    </tr>\n",
       "  </tbody>\n",
       "</table>\n",
       "</div>"
      ],
      "text/plain": [
       "                        Пол   Возраст  Зарплата  Члены семьи  \\\n",
       "Пол                1.000000  0.002074  0.014910    -0.008991   \n",
       "Возраст            0.002074  1.000000 -0.019093    -0.006692   \n",
       "Зарплата           0.014910 -0.019093  1.000000    -0.030296   \n",
       "Члены семьи       -0.008991 -0.006692 -0.030296     1.000000   \n",
       "Страховые выплаты  0.010140  0.651030 -0.014963    -0.036290   \n",
       "\n",
       "                   Страховые выплаты  \n",
       "Пол                         0.010140  \n",
       "Возраст                     0.651030  \n",
       "Зарплата                   -0.014963  \n",
       "Члены семьи                -0.036290  \n",
       "Страховые выплаты           1.000000  "
      ]
     },
     "metadata": {},
     "output_type": "display_data"
    }
   ],
   "source": [
    "df = pd.read_csv('/datasets/insurance.csv')\n",
    "df.info()\n",
    "display(df.head())\n",
    "display(df.corr())"
   ]
  },
  {
   "cell_type": "markdown",
   "metadata": {},
   "source": [
    "**Вывод**   \n",
    "- датасет состоит из 5000 наблюдений.\n",
    "- пропусков нет.\n",
    "- названия столбцов нужно переименовать для дальнейшего анализа.\n",
    "- типы данных стоит изменить для возраста и зарплаты на integer, так как они содержат только целочисленные значения.\n",
    "- мультиколлинеарность факторов не обнаружена."
   ]
  },
  {
   "cell_type": "code",
   "execution_count": 22,
   "metadata": {},
   "outputs": [
    {
     "name": "stdout",
     "output_type": "stream",
     "text": [
      "<class 'pandas.core.frame.DataFrame'>\n",
      "RangeIndex: 5000 entries, 0 to 4999\n",
      "Data columns (total 5 columns):\n",
      " #   Column           Non-Null Count  Dtype\n",
      "---  ------           --------------  -----\n",
      " 0   gender           5000 non-null   int64\n",
      " 1   age              5000 non-null   int64\n",
      " 2   salary           5000 non-null   int64\n",
      " 3   family_members   5000 non-null   int64\n",
      " 4   insurance_cases  5000 non-null   int64\n",
      "dtypes: int64(5)\n",
      "memory usage: 195.4 KB\n"
     ]
    }
   ],
   "source": [
    "df.columns = ['gender', 'age', 'salary', 'family_members', 'insurance_cases']\n",
    "df['age'] = df['age'].astype('int')\n",
    "df['salary'] = df['salary'].astype('int')\n",
    "df.info()"
   ]
  },
  {
   "cell_type": "markdown",
   "metadata": {},
   "source": [
    "## Умножение матриц"
   ]
  },
  {
   "cell_type": "markdown",
   "metadata": {},
   "source": [
    "В этом задании вы можете записывать формулы в *Jupyter Notebook.*\n",
    "\n",
    "Чтобы записать формулу внутри текста, окружите её символами доллара \\\\$; если снаружи —  двойными символами \\\\$\\\\$. Эти формулы записываются на языке вёрстки *LaTeX.* \n",
    "\n",
    "Для примера мы записали формулы линейной регрессии. Можете их скопировать и отредактировать, чтобы решить задачу.\n",
    "\n",
    "Работать в *LaTeX* необязательно."
   ]
  },
  {
   "cell_type": "markdown",
   "metadata": {},
   "source": [
    "Обозначения:\n",
    "\n",
    "- $X$ — матрица признаков (нулевой столбец состоит из единиц)\n",
    "\n",
    "- $y$ — вектор целевого признака\n",
    "\n",
    "- $P$ — матрица, на которую умножаются признаки\n",
    "\n",
    "- $w$ — вектор весов линейной регрессии (нулевой элемент равен сдвигу)"
   ]
  },
  {
   "cell_type": "markdown",
   "metadata": {},
   "source": [
    "Предсказания:\n",
    "\n",
    "$$\n",
    "a = Xw\n",
    "$$\n",
    "\n",
    "Задача обучения:\n",
    "\n",
    "$$\n",
    "w = \\arg\\min_w MSE(Xw, y)\n",
    "$$\n",
    "\n",
    "Формула обучения:\n",
    "\n",
    "$$\n",
    "w = (X^T X)^{-1} X^T y\n",
    "$$"
   ]
  },
  {
   "cell_type": "markdown",
   "metadata": {},
   "source": [
    "**Ответ:** Не изменится\n",
    "\n",
    "**Обоснование:**   \n",
    "Докажем, что домножение на обратимую матрицу не влияет на получение прогнозных значений:    \n",
    "$$    \n",
    "a = Xw = X (X^T X)^{-1} X^T y\n",
    "$$\n",
    "Домножим матрицу факторов на матрицу P:\n",
    "$$\n",
    "a = XP ((XP)^T XP)^{-1} (XP)^T y\n",
    "$$\n",
    "*По свойтву умножения матриц:*\n",
    "$$\n",
    "(AB)^T = B^T A^T\n",
    "$$\n",
    "$$\n",
    "(AB)^{-1} = B^{-1} A^{-1}\n",
    "$$\n",
    "$$\n",
    "(A^T)^{-1} = (A^{-1})^T\n",
    "$$\n",
    "=> \n",
    "$$\n",
    "a = X P ((P^T (X^T X)) P)^{-1} P^T X^T y\n",
    "$$\n",
    "$$\n",
    "a = X P P^{-1} (P^T (X^T X))^{-1} P^T X^T y\n",
    "$$\n",
    "$$\n",
    "a = X P P^{-1} (X^T X)^{-1} (P^T)^{-1} P^T X^T y\n",
    "$$\n",
    "\n",
    "Поскольку матрица P обратима: \n",
    "$$\n",
    "P P^{-1} = E\n",
    "$$\n",
    "$$\n",
    "(P^T)^{-1} P^T = E\n",
    "$$\n",
    "тогда:   \n",
    "$$\n",
    "a = X (X^T X)^{-1} X^T y\n",
    "$$\n",
    "**ч.т.д.**"
   ]
  },
  {
   "cell_type": "markdown",
   "metadata": {},
   "source": [
    "## Алгоритм преобразования"
   ]
  },
  {
   "cell_type": "markdown",
   "metadata": {},
   "source": [
    "**Алгоритм**\n",
    "\n",
    "1. Определение размерности матрицы факторов X.\n",
    "2. Создание обратимой матрицы P в соответствии с размерностью из п.1\n",
    "3. Нахождение обратной матрицы $P^{-1}$\n",
    "4. Домножение матрицы X на $P^{-1}$"
   ]
  },
  {
   "cell_type": "markdown",
   "metadata": {},
   "source": [
    "**Обоснование**\n",
    "\n",
    "Данный алгоритм шифрования не повлияет на качество оценки, так как обратная матрица от обратимой является также обратимой => это преобразование, аналогичное пункту 2."
   ]
  },
  {
   "cell_type": "markdown",
   "metadata": {},
   "source": [
    "## Проверка алгоритма"
   ]
  },
  {
   "cell_type": "markdown",
   "metadata": {},
   "source": [
    "Подготовим датасет"
   ]
  },
  {
   "cell_type": "code",
   "execution_count": 23,
   "metadata": {},
   "outputs": [],
   "source": [
    "features = df.drop(['insurance_cases'], axis=1).values\n",
    "X = np.concatenate((np.ones((features.shape[0], 1)), features), axis=1)\n",
    "y = df['insurance_cases'].values"
   ]
  },
  {
   "cell_type": "markdown",
   "metadata": {},
   "source": [
    "### Оценка модели до преобразований"
   ]
  },
  {
   "cell_type": "markdown",
   "metadata": {},
   "source": [
    "Разобьем датасет на выборки и оценим модель с помощью линейной регрессии"
   ]
  },
  {
   "cell_type": "code",
   "execution_count": 24,
   "metadata": {},
   "outputs": [
    {
     "name": "stdout",
     "output_type": "stream",
     "text": [
      "R2: 0.44\n"
     ]
    }
   ],
   "source": [
    "X_train, X_valid, y_train, y_valid = train_test_split(X, y, test_size=0.25, random_state=12345)\n",
    "model = LinearRegression()\n",
    "model.fit(X_train, y_train)\n",
    "predicted = model.predict(X_valid)\n",
    "r2 = r2_score(y_valid, predicted)\n",
    "print(f'R2: {r2:.2f}')"
   ]
  },
  {
   "cell_type": "markdown",
   "metadata": {},
   "source": [
    "**Вывод**   \n",
    "Оценка модели путем коэффициента детерминации составила 0.44"
   ]
  },
  {
   "cell_type": "markdown",
   "metadata": {},
   "source": [
    "### Применение алгоритма и оценка после преобразований"
   ]
  },
  {
   "cell_type": "code",
   "execution_count": 25,
   "metadata": {},
   "outputs": [],
   "source": [
    "def crypto(X):\n",
    "    N = X.shape[1]\n",
    "    #если определитель матрицы будет равен 0, т.е. матрица не обратима, создастся новая\n",
    "    P = np.random.random((N, N))\n",
    "    while np.linalg.det == 0:\n",
    "        P = np.random.random((N, N))\n",
    "    P_inv = np.linalg.inv(P)\n",
    "    X = X @ P_inv\n",
    "    return X"
   ]
  },
  {
   "cell_type": "code",
   "execution_count": 26,
   "metadata": {},
   "outputs": [
    {
     "name": "stdout",
     "output_type": "stream",
     "text": [
      "До шифровки\n",
      "[[1.00e+00 1.00e+00 4.10e+01 4.96e+04 1.00e+00]\n",
      " [1.00e+00 0.00e+00 4.60e+01 3.80e+04 1.00e+00]\n",
      " [1.00e+00 0.00e+00 2.90e+01 2.10e+04 0.00e+00]\n",
      " ...\n",
      " [1.00e+00 0.00e+00 2.00e+01 3.39e+04 2.00e+00]\n",
      " [1.00e+00 1.00e+00 2.20e+01 3.27e+04 3.00e+00]\n",
      " [1.00e+00 1.00e+00 2.80e+01 4.06e+04 1.00e+00]]\n",
      "\n",
      "После\n",
      "[[-395071.62467857 -605245.91798506 -724016.56582819 1278765.86848914\n",
      "   531386.60028974]\n",
      " [-302555.14216397 -463536.42329873 -554564.54105772  979400.52484938\n",
      "   407004.656574  ]\n",
      " [-167153.0397591  -256100.5939744  -306408.99798392  541121.56583363\n",
      "   224874.65612828]\n",
      " ...\n",
      " [-270068.62125234 -413732.50742885 -494882.11896117  874110.46337364\n",
      "   363224.92178226]\n",
      " [-260515.84835102 -399095.2801673  -477382.6501595   843192.49521519\n",
      "   350380.33702559]\n",
      " [-323422.61626982 -495472.56806995 -592675.40937111 1046820.43256341\n",
      "   434995.49783393]]\n"
     ]
    }
   ],
   "source": [
    "#проверим шифровку факторов\n",
    "print('До шифровки')\n",
    "print(X)\n",
    "X = crypto(X)\n",
    "print()\n",
    "print('После')\n",
    "print(X)"
   ]
  },
  {
   "cell_type": "code",
   "execution_count": 27,
   "metadata": {},
   "outputs": [
    {
     "name": "stdout",
     "output_type": "stream",
     "text": [
      "R2: 0.44\n"
     ]
    }
   ],
   "source": [
    "X_train, X_valid, y_train, y_valid = train_test_split(X, y, test_size=0.25, random_state=12345)\n",
    "model = LinearRegression()\n",
    "model.fit(X_train, y_train)\n",
    "predicted = model.predict(X_valid)\n",
    "r2 = r2_score(y_valid, predicted)\n",
    "print(f'R2: {r2:.2f}')"
   ]
  },
  {
   "cell_type": "markdown",
   "metadata": {},
   "source": [
    "**Вывод**   \n",
    "Качество модели не изменилось - ч.т.д."
   ]
  },
  {
   "cell_type": "markdown",
   "metadata": {},
   "source": [
    "## Чек-лист проверки"
   ]
  },
  {
   "cell_type": "markdown",
   "metadata": {},
   "source": [
    "Поставьте 'x' в выполненных пунктах. Далее нажмите Shift+Enter."
   ]
  },
  {
   "cell_type": "markdown",
   "metadata": {},
   "source": [
    "- [x]  Jupyter Notebook открыт\n",
    "- [x]  Весь код выполняется без ошибок\n",
    "- [x]  Ячейки с кодом расположены в порядке исполнения\n",
    "- [x]  Выполнен шаг 1: данные загружены\n",
    "- [x]  Выполнен шаг 2: получен ответ на вопрос об умножении матриц\n",
    "    - [x]  Указан правильный вариант ответа\n",
    "    - [x]  Вариант обоснован\n",
    "- [x]  Выполнен шаг 3: предложен алгоритм преобразования\n",
    "    - [x]  Алгоритм описан\n",
    "    - [x]  Алгоритм обоснован\n",
    "- [x]  Выполнен шаг 4: алгоритм проверен\n",
    "    - [x]  Алгоритм реализован\n",
    "    - [x]  Проведено сравнение качества моделей до и после преобразования"
   ]
  }
 ],
 "metadata": {
  "ExecuteTimeLog": [
   {
    "duration": 17706,
    "start_time": "2022-04-11T17:02:51.870Z"
   },
   {
    "duration": 2004,
    "start_time": "2022-04-11T17:03:09.669Z"
   },
   {
    "duration": 4296,
    "start_time": "2022-04-11T17:36:43.572Z"
   },
   {
    "duration": 617,
    "start_time": "2022-04-11T17:36:47.871Z"
   },
   {
    "duration": 0,
    "start_time": "2022-04-11T17:36:48.492Z"
   },
   {
    "duration": 0,
    "start_time": "2022-04-11T17:36:48.495Z"
   },
   {
    "duration": 0,
    "start_time": "2022-04-11T17:36:48.497Z"
   },
   {
    "duration": 0,
    "start_time": "2022-04-11T17:36:48.569Z"
   },
   {
    "duration": 0,
    "start_time": "2022-04-11T17:36:48.571Z"
   },
   {
    "duration": 0,
    "start_time": "2022-04-11T17:36:48.572Z"
   },
   {
    "duration": 219,
    "start_time": "2022-04-11T17:37:07.969Z"
   },
   {
    "duration": 27,
    "start_time": "2022-04-11T17:37:11.772Z"
   },
   {
    "duration": 7,
    "start_time": "2022-04-11T17:37:16.168Z"
   },
   {
    "duration": 17,
    "start_time": "2022-04-11T17:37:17.859Z"
   },
   {
    "duration": 4,
    "start_time": "2022-04-11T17:37:21.381Z"
   },
   {
    "duration": 15,
    "start_time": "2022-04-11T17:37:23.070Z"
   },
   {
    "duration": 9,
    "start_time": "2022-04-11T17:37:25.989Z"
   },
   {
    "duration": 116,
    "start_time": "2022-04-11T17:37:32.366Z"
   },
   {
    "duration": 47,
    "start_time": "2022-04-12T07:23:55.646Z"
   },
   {
    "duration": 1075,
    "start_time": "2022-04-12T07:23:58.694Z"
   },
   {
    "duration": 42,
    "start_time": "2022-04-12T07:24:00.607Z"
   },
   {
    "duration": 3,
    "start_time": "2022-04-12T07:38:47.871Z"
   },
   {
    "duration": 36,
    "start_time": "2022-04-12T07:38:47.878Z"
   },
   {
    "duration": 11,
    "start_time": "2022-04-12T07:38:47.916Z"
   },
   {
    "duration": 9,
    "start_time": "2022-04-12T07:38:47.929Z"
   },
   {
    "duration": 63,
    "start_time": "2022-04-12T07:38:47.940Z"
   },
   {
    "duration": 4,
    "start_time": "2022-04-12T07:39:07.201Z"
   },
   {
    "duration": 32,
    "start_time": "2022-04-12T07:39:07.207Z"
   },
   {
    "duration": 11,
    "start_time": "2022-04-12T07:39:07.241Z"
   },
   {
    "duration": 6,
    "start_time": "2022-04-12T07:39:07.254Z"
   },
   {
    "duration": 11,
    "start_time": "2022-04-12T07:39:07.262Z"
   },
   {
    "duration": 9,
    "start_time": "2022-04-12T07:39:23.788Z"
   },
   {
    "duration": 3,
    "start_time": "2022-04-12T07:39:33.852Z"
   },
   {
    "duration": 32,
    "start_time": "2022-04-12T07:39:33.857Z"
   },
   {
    "duration": 12,
    "start_time": "2022-04-12T07:39:33.891Z"
   },
   {
    "duration": 4,
    "start_time": "2022-04-12T07:39:33.905Z"
   },
   {
    "duration": 9,
    "start_time": "2022-04-12T07:39:33.911Z"
   },
   {
    "duration": 3,
    "start_time": "2022-04-12T08:12:31.276Z"
   },
   {
    "duration": 59,
    "start_time": "2022-04-12T08:12:31.281Z"
   },
   {
    "duration": 12,
    "start_time": "2022-04-12T08:12:31.342Z"
   },
   {
    "duration": 5,
    "start_time": "2022-04-12T08:12:31.355Z"
   },
   {
    "duration": 13,
    "start_time": "2022-04-12T08:12:31.362Z"
   },
   {
    "duration": 10,
    "start_time": "2022-04-12T08:12:31.376Z"
   },
   {
    "duration": 23,
    "start_time": "2022-04-12T08:12:31.387Z"
   },
   {
    "duration": 39,
    "start_time": "2022-04-12T08:12:31.412Z"
   }
  ],
  "kernelspec": {
   "display_name": "Python 3",
   "language": "python",
   "name": "python3"
  },
  "language_info": {
   "codemirror_mode": {
    "name": "ipython",
    "version": 3
   },
   "file_extension": ".py",
   "mimetype": "text/x-python",
   "name": "python",
   "nbconvert_exporter": "python",
   "pygments_lexer": "ipython3",
   "version": "3.7.13"
  },
  "toc": {
   "base_numbering": 1,
   "nav_menu": {},
   "number_sections": true,
   "sideBar": true,
   "skip_h1_title": true,
   "title_cell": "Содержание",
   "title_sidebar": "Contents",
   "toc_cell": true,
   "toc_position": {},
   "toc_section_display": true,
   "toc_window_display": true
  }
 },
 "nbformat": 4,
 "nbformat_minor": 2
}
