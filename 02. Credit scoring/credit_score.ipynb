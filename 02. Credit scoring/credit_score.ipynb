{
 "cells": [
  {
   "cell_type": "markdown",
   "metadata": {},
   "source": [
    "# Исследование надёжности заёмщиков\n",
    "\n",
    "Заказчик — кредитный отдел банка. Нужно разобраться, влияет ли семейное положение и количество детей клиента на факт погашения кредита в срок. Входные данные от банка — статистика о платёжеспособности клиентов.\n",
    "\n",
    "Результаты исследования будут учтены при построении модели **кредитного скоринга** — специальной системы, которая оценивает способность потенциального заёмщика вернуть кредит банку."
   ]
  },
  {
   "cell_type": "markdown",
   "metadata": {},
   "source": [
    "## Шаг 1. Откройте файл с данными и изучите общую информацию"
   ]
  },
  {
   "cell_type": "code",
   "execution_count": 2,
   "metadata": {},
   "outputs": [
    {
     "name": "stdout",
     "output_type": "stream",
     "text": [
      "<class 'pandas.core.frame.DataFrame'>\n",
      "RangeIndex: 21525 entries, 0 to 21524\n",
      "Data columns (total 12 columns):\n",
      "children            21525 non-null int64\n",
      "days_employed       19351 non-null float64\n",
      "dob_years           21525 non-null int64\n",
      "education           21525 non-null object\n",
      "education_id        21525 non-null int64\n",
      "family_status       21525 non-null object\n",
      "family_status_id    21525 non-null int64\n",
      "gender              21525 non-null object\n",
      "income_type         21525 non-null object\n",
      "debt                21525 non-null int64\n",
      "total_income        19351 non-null float64\n",
      "purpose             21525 non-null object\n",
      "dtypes: float64(2), int64(5), object(5)\n",
      "memory usage: 2.0+ MB\n"
     ]
    }
   ],
   "source": [
    "import pandas as pd\n",
    "data = pd.read_csv('/datasets/data.csv')\n",
    "data.info()"
   ]
  },
  {
   "cell_type": "markdown",
   "metadata": {},
   "source": [
    "**Вывод**"
   ]
  },
  {
   "cell_type": "markdown",
   "metadata": {},
   "source": [
    "- Таблица состоит из 21525 строк и 12 столбцов: 2 типа float64, 5 int64 и 5 типа object.  \n",
    "- Все названия столбцов приведены к snake case.\n",
    "- 2 столбца (days_employed и total_income) содержат пропуски  \n",
    "- Есть подозрения относительно корректности типов данных: days_employed - float64 (ожидается int64), total_income - float64 (ожидается int64)"
   ]
  },
  {
   "cell_type": "markdown",
   "metadata": {},
   "source": [
    "Далее проанализируем каждый из столбцов с точки зрения  \n",
    "- mean, median;  \n",
    "- min / max;  \n",
    "- уникальных значений для нечисловых рядов. \n",
    "\n",
    "для первичной оценки качества данных."
   ]
  },
  {
   "cell_type": "code",
   "execution_count": 3,
   "metadata": {
    "scrolled": false
   },
   "outputs": [
    {
     "name": "stdout",
     "output_type": "stream",
     "text": [
      "children\n",
      "Всего наблюдений: 21525\n",
      "mean = 0.5389082462253194\n",
      "median = 0.0\n",
      "min = -1\n",
      "max = 20\n",
      "\n",
      "days_employed\n",
      "Всего наблюдений: 19351\n",
      "mean = 63046.49766147338\n",
      "median = -1203.369528770489\n",
      "min = -18388.949900568383\n",
      "max = 401755.40047533\n",
      "\n",
      "dob_years\n",
      "Всего наблюдений: 21525\n",
      "mean = 43.29337979094077\n",
      "median = 42.0\n",
      "min = 0\n",
      "max = 75\n",
      "\n",
      "education\n",
      "Всего наблюдений: 21525\n",
      "Нечисловое поле. Уникальные значения:\n",
      "education\n",
      "среднее                13750\n",
      "высшее                  4718\n",
      "СРЕДНЕЕ                  772\n",
      "Среднее                  711\n",
      "неоконченное высшее      668\n",
      "ВЫСШЕЕ                   274\n",
      "Высшее                   268\n",
      "начальное                250\n",
      "Неоконченное высшее       47\n",
      "НЕОКОНЧЕННОЕ ВЫСШЕЕ       29\n",
      "НАЧАЛЬНОЕ                 17\n",
      "Начальное                 15\n",
      "ученая степень             4\n",
      "Ученая степень             1\n",
      "УЧЕНАЯ СТЕПЕНЬ             1\n",
      "Name: education, dtype: int64\n",
      "\n",
      "education_id\n",
      "Всего наблюдений: 21525\n",
      "mean = 0.8172357723577236\n",
      "median = 1.0\n",
      "min = 0\n",
      "max = 4\n",
      "\n",
      "family_status\n",
      "Всего наблюдений: 21525\n",
      "Нечисловое поле. Уникальные значения:\n",
      "family_status\n",
      "женат / замужем          12380\n",
      "гражданский брак          4177\n",
      "Не женат / не замужем     2813\n",
      "в разводе                 1195\n",
      "вдовец / вдова             960\n",
      "Name: family_status, dtype: int64\n",
      "\n",
      "family_status_id\n",
      "Всего наблюдений: 21525\n",
      "mean = 0.9725435540069687\n",
      "median = 0.0\n",
      "min = 0\n",
      "max = 4\n",
      "\n",
      "gender\n",
      "Всего наблюдений: 21525\n",
      "Нечисловое поле. Уникальные значения:\n",
      "gender\n",
      "F      14236\n",
      "M       7288\n",
      "XNA        1\n",
      "Name: gender, dtype: int64\n",
      "\n",
      "income_type\n",
      "Всего наблюдений: 21525\n",
      "Нечисловое поле. Уникальные значения:\n",
      "income_type\n",
      "сотрудник          11119\n",
      "компаньон           5085\n",
      "пенсионер           3856\n",
      "госслужащий         1459\n",
      "предприниматель        2\n",
      "безработный            2\n",
      "студент                1\n",
      "в декрете              1\n",
      "Name: income_type, dtype: int64\n",
      "\n",
      "debt\n",
      "Всего наблюдений: 21525\n",
      "mean = 0.08088269454123112\n",
      "median = 0.0\n",
      "min = 0\n",
      "max = 1\n",
      "\n",
      "total_income\n",
      "Всего наблюдений: 19351\n",
      "mean = 167422.30220817294\n",
      "median = 145017.93753253992\n",
      "min = 20667.26379327158\n",
      "max = 2265604.028722744\n",
      "\n",
      "purpose\n",
      "Всего наблюдений: 21525\n",
      "Нечисловое поле. Уникальные значения:\n",
      "purpose\n",
      "свадьба                                   797\n",
      "на проведение свадьбы                     777\n",
      "сыграть свадьбу                           774\n",
      "операции с недвижимостью                  676\n",
      "покупка коммерческой недвижимости         664\n",
      "операции с жильем                         653\n",
      "покупка жилья для сдачи                   653\n",
      "операции с коммерческой недвижимостью     651\n",
      "жилье                                     647\n",
      "покупка жилья                             647\n",
      "покупка жилья для семьи                   641\n",
      "строительство собственной недвижимости    635\n",
      "недвижимость                              634\n",
      "операции со своей недвижимостью           630\n",
      "строительство жилой недвижимости          626\n",
      "покупка недвижимости                      624\n",
      "строительство недвижимости                620\n",
      "покупка своего жилья                      620\n",
      "ремонт жилью                              612\n",
      "покупка жилой недвижимости                607\n",
      "на покупку своего автомобиля              505\n",
      "заняться высшим образованием              496\n",
      "автомобиль                                495\n",
      "сделка с подержанным автомобилем          489\n",
      "свой автомобиль                           480\n",
      "на покупку подержанного автомобиля        479\n",
      "автомобили                                478\n",
      "на покупку автомобиля                     472\n",
      "дополнительное образование                462\n",
      "приобретение автомобиля                   462\n",
      "сделка с автомобилем                      455\n",
      "высшее образование                        453\n",
      "образование                               447\n",
      "получение дополнительного образования     447\n",
      "получение образования                     443\n",
      "профильное образование                    436\n",
      "получение высшего образования             426\n",
      "заняться образованием                     412\n",
      "Name: purpose, dtype: int64\n",
      "\n"
     ]
    }
   ],
   "source": [
    "#\n",
    "for column in data:\n",
    "    print(data[column].name)\n",
    "    print(f'Всего наблюдений: {data[column].count()}')\n",
    "    try:\n",
    "        print(f'mean = {data[column].mean()}')\n",
    "        print(f'median = {data[column].median()}')\n",
    "        print(f'min = {min(data[column])}')\n",
    "        print(f'max = {max(data[column])}')\n",
    "    except:\n",
    "        print('Нечисловое поле. Уникальные значения:')\n",
    "        print(data.groupby(column)[column].count().sort_values(ascending=False))\n",
    "    print()\n",
    "\n"
   ]
  },
  {
   "cell_type": "code",
   "execution_count": 4,
   "metadata": {},
   "outputs": [
    {
     "data": {
      "text/html": [
       "<div>\n",
       "<style scoped>\n",
       "    .dataframe tbody tr th:only-of-type {\n",
       "        vertical-align: middle;\n",
       "    }\n",
       "\n",
       "    .dataframe tbody tr th {\n",
       "        vertical-align: top;\n",
       "    }\n",
       "\n",
       "    .dataframe thead th {\n",
       "        text-align: right;\n",
       "    }\n",
       "</style>\n",
       "<table border=\"1\" class=\"dataframe\">\n",
       "  <thead>\n",
       "    <tr style=\"text-align: right;\">\n",
       "      <th></th>\n",
       "      <th>children</th>\n",
       "      <th>days_employed</th>\n",
       "      <th>dob_years</th>\n",
       "      <th>education</th>\n",
       "      <th>education_id</th>\n",
       "      <th>family_status</th>\n",
       "      <th>family_status_id</th>\n",
       "      <th>gender</th>\n",
       "      <th>income_type</th>\n",
       "      <th>debt</th>\n",
       "      <th>total_income</th>\n",
       "      <th>purpose</th>\n",
       "    </tr>\n",
       "  </thead>\n",
       "  <tbody>\n",
       "    <tr>\n",
       "      <td>count</td>\n",
       "      <td>21525.000000</td>\n",
       "      <td>19351.000000</td>\n",
       "      <td>21525.000000</td>\n",
       "      <td>21525</td>\n",
       "      <td>21525.000000</td>\n",
       "      <td>21525</td>\n",
       "      <td>21525.000000</td>\n",
       "      <td>21525</td>\n",
       "      <td>21525</td>\n",
       "      <td>21525.000000</td>\n",
       "      <td>1.935100e+04</td>\n",
       "      <td>21525</td>\n",
       "    </tr>\n",
       "    <tr>\n",
       "      <td>unique</td>\n",
       "      <td>NaN</td>\n",
       "      <td>NaN</td>\n",
       "      <td>NaN</td>\n",
       "      <td>15</td>\n",
       "      <td>NaN</td>\n",
       "      <td>5</td>\n",
       "      <td>NaN</td>\n",
       "      <td>3</td>\n",
       "      <td>8</td>\n",
       "      <td>NaN</td>\n",
       "      <td>NaN</td>\n",
       "      <td>38</td>\n",
       "    </tr>\n",
       "    <tr>\n",
       "      <td>top</td>\n",
       "      <td>NaN</td>\n",
       "      <td>NaN</td>\n",
       "      <td>NaN</td>\n",
       "      <td>среднее</td>\n",
       "      <td>NaN</td>\n",
       "      <td>женат / замужем</td>\n",
       "      <td>NaN</td>\n",
       "      <td>F</td>\n",
       "      <td>сотрудник</td>\n",
       "      <td>NaN</td>\n",
       "      <td>NaN</td>\n",
       "      <td>свадьба</td>\n",
       "    </tr>\n",
       "    <tr>\n",
       "      <td>freq</td>\n",
       "      <td>NaN</td>\n",
       "      <td>NaN</td>\n",
       "      <td>NaN</td>\n",
       "      <td>13750</td>\n",
       "      <td>NaN</td>\n",
       "      <td>12380</td>\n",
       "      <td>NaN</td>\n",
       "      <td>14236</td>\n",
       "      <td>11119</td>\n",
       "      <td>NaN</td>\n",
       "      <td>NaN</td>\n",
       "      <td>797</td>\n",
       "    </tr>\n",
       "    <tr>\n",
       "      <td>mean</td>\n",
       "      <td>0.538908</td>\n",
       "      <td>63046.497661</td>\n",
       "      <td>43.293380</td>\n",
       "      <td>NaN</td>\n",
       "      <td>0.817236</td>\n",
       "      <td>NaN</td>\n",
       "      <td>0.972544</td>\n",
       "      <td>NaN</td>\n",
       "      <td>NaN</td>\n",
       "      <td>0.080883</td>\n",
       "      <td>1.674223e+05</td>\n",
       "      <td>NaN</td>\n",
       "    </tr>\n",
       "    <tr>\n",
       "      <td>std</td>\n",
       "      <td>1.381587</td>\n",
       "      <td>140827.311974</td>\n",
       "      <td>12.574584</td>\n",
       "      <td>NaN</td>\n",
       "      <td>0.548138</td>\n",
       "      <td>NaN</td>\n",
       "      <td>1.420324</td>\n",
       "      <td>NaN</td>\n",
       "      <td>NaN</td>\n",
       "      <td>0.272661</td>\n",
       "      <td>1.029716e+05</td>\n",
       "      <td>NaN</td>\n",
       "    </tr>\n",
       "    <tr>\n",
       "      <td>min</td>\n",
       "      <td>-1.000000</td>\n",
       "      <td>-18388.949901</td>\n",
       "      <td>0.000000</td>\n",
       "      <td>NaN</td>\n",
       "      <td>0.000000</td>\n",
       "      <td>NaN</td>\n",
       "      <td>0.000000</td>\n",
       "      <td>NaN</td>\n",
       "      <td>NaN</td>\n",
       "      <td>0.000000</td>\n",
       "      <td>2.066726e+04</td>\n",
       "      <td>NaN</td>\n",
       "    </tr>\n",
       "    <tr>\n",
       "      <td>25%</td>\n",
       "      <td>0.000000</td>\n",
       "      <td>-2747.423625</td>\n",
       "      <td>33.000000</td>\n",
       "      <td>NaN</td>\n",
       "      <td>1.000000</td>\n",
       "      <td>NaN</td>\n",
       "      <td>0.000000</td>\n",
       "      <td>NaN</td>\n",
       "      <td>NaN</td>\n",
       "      <td>0.000000</td>\n",
       "      <td>1.030532e+05</td>\n",
       "      <td>NaN</td>\n",
       "    </tr>\n",
       "    <tr>\n",
       "      <td>50%</td>\n",
       "      <td>0.000000</td>\n",
       "      <td>-1203.369529</td>\n",
       "      <td>42.000000</td>\n",
       "      <td>NaN</td>\n",
       "      <td>1.000000</td>\n",
       "      <td>NaN</td>\n",
       "      <td>0.000000</td>\n",
       "      <td>NaN</td>\n",
       "      <td>NaN</td>\n",
       "      <td>0.000000</td>\n",
       "      <td>1.450179e+05</td>\n",
       "      <td>NaN</td>\n",
       "    </tr>\n",
       "    <tr>\n",
       "      <td>75%</td>\n",
       "      <td>1.000000</td>\n",
       "      <td>-291.095954</td>\n",
       "      <td>53.000000</td>\n",
       "      <td>NaN</td>\n",
       "      <td>1.000000</td>\n",
       "      <td>NaN</td>\n",
       "      <td>1.000000</td>\n",
       "      <td>NaN</td>\n",
       "      <td>NaN</td>\n",
       "      <td>0.000000</td>\n",
       "      <td>2.034351e+05</td>\n",
       "      <td>NaN</td>\n",
       "    </tr>\n",
       "    <tr>\n",
       "      <td>max</td>\n",
       "      <td>20.000000</td>\n",
       "      <td>401755.400475</td>\n",
       "      <td>75.000000</td>\n",
       "      <td>NaN</td>\n",
       "      <td>4.000000</td>\n",
       "      <td>NaN</td>\n",
       "      <td>4.000000</td>\n",
       "      <td>NaN</td>\n",
       "      <td>NaN</td>\n",
       "      <td>1.000000</td>\n",
       "      <td>2.265604e+06</td>\n",
       "      <td>NaN</td>\n",
       "    </tr>\n",
       "  </tbody>\n",
       "</table>\n",
       "</div>"
      ],
      "text/plain": [
       "            children  days_employed     dob_years education  education_id  \\\n",
       "count   21525.000000   19351.000000  21525.000000     21525  21525.000000   \n",
       "unique           NaN            NaN           NaN        15           NaN   \n",
       "top              NaN            NaN           NaN   среднее           NaN   \n",
       "freq             NaN            NaN           NaN     13750           NaN   \n",
       "mean        0.538908   63046.497661     43.293380       NaN      0.817236   \n",
       "std         1.381587  140827.311974     12.574584       NaN      0.548138   \n",
       "min        -1.000000  -18388.949901      0.000000       NaN      0.000000   \n",
       "25%         0.000000   -2747.423625     33.000000       NaN      1.000000   \n",
       "50%         0.000000   -1203.369529     42.000000       NaN      1.000000   \n",
       "75%         1.000000    -291.095954     53.000000       NaN      1.000000   \n",
       "max        20.000000  401755.400475     75.000000       NaN      4.000000   \n",
       "\n",
       "          family_status  family_status_id gender income_type          debt  \\\n",
       "count             21525      21525.000000  21525       21525  21525.000000   \n",
       "unique                5               NaN      3           8           NaN   \n",
       "top     женат / замужем               NaN      F   сотрудник           NaN   \n",
       "freq              12380               NaN  14236       11119           NaN   \n",
       "mean                NaN          0.972544    NaN         NaN      0.080883   \n",
       "std                 NaN          1.420324    NaN         NaN      0.272661   \n",
       "min                 NaN          0.000000    NaN         NaN      0.000000   \n",
       "25%                 NaN          0.000000    NaN         NaN      0.000000   \n",
       "50%                 NaN          0.000000    NaN         NaN      0.000000   \n",
       "75%                 NaN          1.000000    NaN         NaN      0.000000   \n",
       "max                 NaN          4.000000    NaN         NaN      1.000000   \n",
       "\n",
       "        total_income  purpose  \n",
       "count   1.935100e+04    21525  \n",
       "unique           NaN       38  \n",
       "top              NaN  свадьба  \n",
       "freq             NaN      797  \n",
       "mean    1.674223e+05      NaN  \n",
       "std     1.029716e+05      NaN  \n",
       "min     2.066726e+04      NaN  \n",
       "25%     1.030532e+05      NaN  \n",
       "50%     1.450179e+05      NaN  \n",
       "75%     2.034351e+05      NaN  \n",
       "max     2.265604e+06      NaN  "
      ]
     },
     "execution_count": 4,
     "metadata": {},
     "output_type": "execute_result"
    }
   ],
   "source": [
    "# Код реьвюера\n",
    "data.describe(include='all')"
   ]
  },
  {
   "cell_type": "markdown",
   "metadata": {},
   "source": [
    "**Возможные проблемы в данных**  \n",
    "\n",
    "*children*\n",
    "- есть отрицательные значения\n",
    "- есть аномально высокие (max = 20)\n",
    "\n",
    "*days_employed*\n",
    "- есть пропуски\n",
    "- есть отрицательные значения\n",
    "- есть аномально высокие (max = 401755)\n",
    "- медиана < 0\n",
    "\n",
    "*dob_years*\n",
    "- есть наблюдения со значением 0\n",
    "\n",
    "*education*\n",
    "- наличие дубликатов\n",
    "\n",
    "*gender*\n",
    "- наблюдение со значением XNA\n",
    "\n",
    "*total_income*\n",
    "- есть пропуски\n",
    "\n",
    "*purpose*\n",
    "- есть неявные дубликаты целей"
   ]
  },
  {
   "cell_type": "markdown",
   "metadata": {},
   "source": [
    "**Следующие шаги**  \n",
    "<br>\n",
    "Для дальнейшей работы будем использовать следующую логику: поскольку пропуски будем заменять средними значениями по категориям, необходима первичная предобработка данных:  \n",
    "1. Разберем переменные с подозрительными значениями: children, dob_years, gender\n",
    "2. Удалим неявные дубликаты в переменной education\n",
    "3. Удалим явные дубликаты\n",
    "4. Заполним пропуски в days_employed и total_income\n",
    "5. Изменим тип данных переменных days_employed и total_income\n",
    "6. Лемматизируем столбец purpose\n",
    "7. Категоризуем переменные\n",
    "8. Проведем необходимый анализ"
   ]
  },
  {
   "cell_type": "markdown",
   "metadata": {},
   "source": [
    "## Шаг 2. Предобработка данных"
   ]
  },
  {
   "cell_type": "markdown",
   "metadata": {},
   "source": [
    "### Обработка переменных с подозрительными данными"
   ]
  },
  {
   "cell_type": "markdown",
   "metadata": {},
   "source": [
    "Разберем переменные children, dob_years, gender  \n",
    "  \n",
    "**children**"
   ]
  },
  {
   "cell_type": "code",
   "execution_count": 5,
   "metadata": {},
   "outputs": [
    {
     "name": "stdout",
     "output_type": "stream",
     "text": [
      "children\n",
      "-1        47\n",
      " 0     14149\n",
      " 1      4818\n",
      " 2      2055\n",
      " 3       330\n",
      " 4        41\n",
      " 5         9\n",
      " 20       76\n",
      "Name: education, dtype: int64\n"
     ]
    }
   ],
   "source": [
    "print(data.groupby('children')['education'].count())"
   ]
  },
  {
   "cell_type": "markdown",
   "metadata": {},
   "source": [
    "Можно заметить, что в датасете есть 47 наблюдений со значением \"-1\" и 76 наблюдений со значением \"20\". Взглянем на них поочередно"
   ]
  },
  {
   "cell_type": "code",
   "execution_count": 6,
   "metadata": {
    "scrolled": false
   },
   "outputs": [
    {
     "data": {
      "text/html": [
       "<div>\n",
       "<style scoped>\n",
       "    .dataframe tbody tr th:only-of-type {\n",
       "        vertical-align: middle;\n",
       "    }\n",
       "\n",
       "    .dataframe tbody tr th {\n",
       "        vertical-align: top;\n",
       "    }\n",
       "\n",
       "    .dataframe thead th {\n",
       "        text-align: right;\n",
       "    }\n",
       "</style>\n",
       "<table border=\"1\" class=\"dataframe\">\n",
       "  <thead>\n",
       "    <tr style=\"text-align: right;\">\n",
       "      <th></th>\n",
       "      <th>children</th>\n",
       "      <th>days_employed</th>\n",
       "      <th>dob_years</th>\n",
       "      <th>education</th>\n",
       "      <th>education_id</th>\n",
       "      <th>family_status</th>\n",
       "      <th>family_status_id</th>\n",
       "      <th>gender</th>\n",
       "      <th>income_type</th>\n",
       "      <th>debt</th>\n",
       "      <th>total_income</th>\n",
       "      <th>purpose</th>\n",
       "    </tr>\n",
       "  </thead>\n",
       "  <tbody>\n",
       "    <tr>\n",
       "      <td>291</td>\n",
       "      <td>-1</td>\n",
       "      <td>-4417.703588</td>\n",
       "      <td>46</td>\n",
       "      <td>среднее</td>\n",
       "      <td>1</td>\n",
       "      <td>гражданский брак</td>\n",
       "      <td>1</td>\n",
       "      <td>F</td>\n",
       "      <td>сотрудник</td>\n",
       "      <td>0</td>\n",
       "      <td>102816.346412</td>\n",
       "      <td>профильное образование</td>\n",
       "    </tr>\n",
       "    <tr>\n",
       "      <td>705</td>\n",
       "      <td>-1</td>\n",
       "      <td>-902.084528</td>\n",
       "      <td>50</td>\n",
       "      <td>среднее</td>\n",
       "      <td>1</td>\n",
       "      <td>женат / замужем</td>\n",
       "      <td>0</td>\n",
       "      <td>F</td>\n",
       "      <td>госслужащий</td>\n",
       "      <td>0</td>\n",
       "      <td>137882.899271</td>\n",
       "      <td>приобретение автомобиля</td>\n",
       "    </tr>\n",
       "    <tr>\n",
       "      <td>742</td>\n",
       "      <td>-1</td>\n",
       "      <td>-3174.456205</td>\n",
       "      <td>57</td>\n",
       "      <td>среднее</td>\n",
       "      <td>1</td>\n",
       "      <td>женат / замужем</td>\n",
       "      <td>0</td>\n",
       "      <td>F</td>\n",
       "      <td>сотрудник</td>\n",
       "      <td>0</td>\n",
       "      <td>64268.044444</td>\n",
       "      <td>дополнительное образование</td>\n",
       "    </tr>\n",
       "    <tr>\n",
       "      <td>800</td>\n",
       "      <td>-1</td>\n",
       "      <td>349987.852217</td>\n",
       "      <td>54</td>\n",
       "      <td>среднее</td>\n",
       "      <td>1</td>\n",
       "      <td>Не женат / не замужем</td>\n",
       "      <td>4</td>\n",
       "      <td>F</td>\n",
       "      <td>пенсионер</td>\n",
       "      <td>0</td>\n",
       "      <td>86293.724153</td>\n",
       "      <td>дополнительное образование</td>\n",
       "    </tr>\n",
       "    <tr>\n",
       "      <td>941</td>\n",
       "      <td>-1</td>\n",
       "      <td>NaN</td>\n",
       "      <td>57</td>\n",
       "      <td>Среднее</td>\n",
       "      <td>1</td>\n",
       "      <td>женат / замужем</td>\n",
       "      <td>0</td>\n",
       "      <td>F</td>\n",
       "      <td>пенсионер</td>\n",
       "      <td>0</td>\n",
       "      <td>NaN</td>\n",
       "      <td>на покупку своего автомобиля</td>\n",
       "    </tr>\n",
       "    <tr>\n",
       "      <td>1363</td>\n",
       "      <td>-1</td>\n",
       "      <td>-1195.264956</td>\n",
       "      <td>55</td>\n",
       "      <td>СРЕДНЕЕ</td>\n",
       "      <td>1</td>\n",
       "      <td>женат / замужем</td>\n",
       "      <td>0</td>\n",
       "      <td>F</td>\n",
       "      <td>компаньон</td>\n",
       "      <td>0</td>\n",
       "      <td>69550.699692</td>\n",
       "      <td>профильное образование</td>\n",
       "    </tr>\n",
       "    <tr>\n",
       "      <td>1929</td>\n",
       "      <td>-1</td>\n",
       "      <td>-1461.303336</td>\n",
       "      <td>38</td>\n",
       "      <td>среднее</td>\n",
       "      <td>1</td>\n",
       "      <td>Не женат / не замужем</td>\n",
       "      <td>4</td>\n",
       "      <td>M</td>\n",
       "      <td>сотрудник</td>\n",
       "      <td>0</td>\n",
       "      <td>109121.569013</td>\n",
       "      <td>покупка жилья</td>\n",
       "    </tr>\n",
       "    <tr>\n",
       "      <td>2073</td>\n",
       "      <td>-1</td>\n",
       "      <td>-2539.761232</td>\n",
       "      <td>42</td>\n",
       "      <td>среднее</td>\n",
       "      <td>1</td>\n",
       "      <td>в разводе</td>\n",
       "      <td>3</td>\n",
       "      <td>F</td>\n",
       "      <td>компаньон</td>\n",
       "      <td>0</td>\n",
       "      <td>162638.609373</td>\n",
       "      <td>покупка жилья</td>\n",
       "    </tr>\n",
       "    <tr>\n",
       "      <td>3814</td>\n",
       "      <td>-1</td>\n",
       "      <td>-3045.290443</td>\n",
       "      <td>26</td>\n",
       "      <td>Среднее</td>\n",
       "      <td>1</td>\n",
       "      <td>гражданский брак</td>\n",
       "      <td>1</td>\n",
       "      <td>F</td>\n",
       "      <td>госслужащий</td>\n",
       "      <td>0</td>\n",
       "      <td>131892.785435</td>\n",
       "      <td>на проведение свадьбы</td>\n",
       "    </tr>\n",
       "    <tr>\n",
       "      <td>4201</td>\n",
       "      <td>-1</td>\n",
       "      <td>-901.101738</td>\n",
       "      <td>41</td>\n",
       "      <td>среднее</td>\n",
       "      <td>1</td>\n",
       "      <td>женат / замужем</td>\n",
       "      <td>0</td>\n",
       "      <td>F</td>\n",
       "      <td>госслужащий</td>\n",
       "      <td>0</td>\n",
       "      <td>226375.766751</td>\n",
       "      <td>операции со своей недвижимостью</td>\n",
       "    </tr>\n",
       "  </tbody>\n",
       "</table>\n",
       "</div>"
      ],
      "text/plain": [
       "      children  days_employed  dob_years education  education_id  \\\n",
       "291         -1   -4417.703588         46   среднее             1   \n",
       "705         -1    -902.084528         50   среднее             1   \n",
       "742         -1   -3174.456205         57   среднее             1   \n",
       "800         -1  349987.852217         54   среднее             1   \n",
       "941         -1            NaN         57   Среднее             1   \n",
       "1363        -1   -1195.264956         55   СРЕДНЕЕ             1   \n",
       "1929        -1   -1461.303336         38   среднее             1   \n",
       "2073        -1   -2539.761232         42   среднее             1   \n",
       "3814        -1   -3045.290443         26   Среднее             1   \n",
       "4201        -1    -901.101738         41   среднее             1   \n",
       "\n",
       "              family_status  family_status_id gender  income_type  debt  \\\n",
       "291        гражданский брак                 1      F    сотрудник     0   \n",
       "705         женат / замужем                 0      F  госслужащий     0   \n",
       "742         женат / замужем                 0      F    сотрудник     0   \n",
       "800   Не женат / не замужем                 4      F    пенсионер     0   \n",
       "941         женат / замужем                 0      F    пенсионер     0   \n",
       "1363        женат / замужем                 0      F    компаньон     0   \n",
       "1929  Не женат / не замужем                 4      M    сотрудник     0   \n",
       "2073              в разводе                 3      F    компаньон     0   \n",
       "3814       гражданский брак                 1      F  госслужащий     0   \n",
       "4201        женат / замужем                 0      F  госслужащий     0   \n",
       "\n",
       "       total_income                          purpose  \n",
       "291   102816.346412           профильное образование  \n",
       "705   137882.899271          приобретение автомобиля  \n",
       "742    64268.044444       дополнительное образование  \n",
       "800    86293.724153       дополнительное образование  \n",
       "941             NaN     на покупку своего автомобиля  \n",
       "1363   69550.699692           профильное образование  \n",
       "1929  109121.569013                    покупка жилья  \n",
       "2073  162638.609373                    покупка жилья  \n",
       "3814  131892.785435            на проведение свадьбы  \n",
       "4201  226375.766751  операции со своей недвижимостью  "
      ]
     },
     "metadata": {},
     "output_type": "display_data"
    }
   ],
   "source": [
    "display(data[data['children'] == -1].head(10))"
   ]
  },
  {
   "cell_type": "markdown",
   "metadata": {},
   "source": [
    "Явной зависимости не наблюдается, будем считать, что вместо \"-1\" должно стоять значение \"1\". Перед заменой проанализируем строки со значением \"20\""
   ]
  },
  {
   "cell_type": "code",
   "execution_count": 7,
   "metadata": {
    "scrolled": true
   },
   "outputs": [
    {
     "data": {
      "text/html": [
       "<div>\n",
       "<style scoped>\n",
       "    .dataframe tbody tr th:only-of-type {\n",
       "        vertical-align: middle;\n",
       "    }\n",
       "\n",
       "    .dataframe tbody tr th {\n",
       "        vertical-align: top;\n",
       "    }\n",
       "\n",
       "    .dataframe thead th {\n",
       "        text-align: right;\n",
       "    }\n",
       "</style>\n",
       "<table border=\"1\" class=\"dataframe\">\n",
       "  <thead>\n",
       "    <tr style=\"text-align: right;\">\n",
       "      <th></th>\n",
       "      <th>children</th>\n",
       "      <th>days_employed</th>\n",
       "      <th>dob_years</th>\n",
       "      <th>education</th>\n",
       "      <th>education_id</th>\n",
       "      <th>family_status</th>\n",
       "      <th>family_status_id</th>\n",
       "      <th>gender</th>\n",
       "      <th>income_type</th>\n",
       "      <th>debt</th>\n",
       "      <th>total_income</th>\n",
       "      <th>purpose</th>\n",
       "    </tr>\n",
       "  </thead>\n",
       "  <tbody>\n",
       "    <tr>\n",
       "      <td>606</td>\n",
       "      <td>20</td>\n",
       "      <td>-880.221113</td>\n",
       "      <td>21</td>\n",
       "      <td>среднее</td>\n",
       "      <td>1</td>\n",
       "      <td>женат / замужем</td>\n",
       "      <td>0</td>\n",
       "      <td>M</td>\n",
       "      <td>компаньон</td>\n",
       "      <td>0</td>\n",
       "      <td>145334.865002</td>\n",
       "      <td>покупка жилья</td>\n",
       "    </tr>\n",
       "    <tr>\n",
       "      <td>720</td>\n",
       "      <td>20</td>\n",
       "      <td>-855.595512</td>\n",
       "      <td>44</td>\n",
       "      <td>среднее</td>\n",
       "      <td>1</td>\n",
       "      <td>женат / замужем</td>\n",
       "      <td>0</td>\n",
       "      <td>F</td>\n",
       "      <td>компаньон</td>\n",
       "      <td>0</td>\n",
       "      <td>112998.738649</td>\n",
       "      <td>покупка недвижимости</td>\n",
       "    </tr>\n",
       "    <tr>\n",
       "      <td>1074</td>\n",
       "      <td>20</td>\n",
       "      <td>-3310.411598</td>\n",
       "      <td>56</td>\n",
       "      <td>среднее</td>\n",
       "      <td>1</td>\n",
       "      <td>женат / замужем</td>\n",
       "      <td>0</td>\n",
       "      <td>F</td>\n",
       "      <td>сотрудник</td>\n",
       "      <td>1</td>\n",
       "      <td>229518.537004</td>\n",
       "      <td>получение образования</td>\n",
       "    </tr>\n",
       "    <tr>\n",
       "      <td>2510</td>\n",
       "      <td>20</td>\n",
       "      <td>-2714.161249</td>\n",
       "      <td>59</td>\n",
       "      <td>высшее</td>\n",
       "      <td>0</td>\n",
       "      <td>вдовец / вдова</td>\n",
       "      <td>2</td>\n",
       "      <td>F</td>\n",
       "      <td>сотрудник</td>\n",
       "      <td>0</td>\n",
       "      <td>264474.835577</td>\n",
       "      <td>операции с коммерческой недвижимостью</td>\n",
       "    </tr>\n",
       "    <tr>\n",
       "      <td>2941</td>\n",
       "      <td>20</td>\n",
       "      <td>-2161.591519</td>\n",
       "      <td>0</td>\n",
       "      <td>среднее</td>\n",
       "      <td>1</td>\n",
       "      <td>женат / замужем</td>\n",
       "      <td>0</td>\n",
       "      <td>F</td>\n",
       "      <td>сотрудник</td>\n",
       "      <td>0</td>\n",
       "      <td>199739.941398</td>\n",
       "      <td>на покупку автомобиля</td>\n",
       "    </tr>\n",
       "    <tr>\n",
       "      <td>3302</td>\n",
       "      <td>20</td>\n",
       "      <td>NaN</td>\n",
       "      <td>35</td>\n",
       "      <td>среднее</td>\n",
       "      <td>1</td>\n",
       "      <td>Не женат / не замужем</td>\n",
       "      <td>4</td>\n",
       "      <td>F</td>\n",
       "      <td>госслужащий</td>\n",
       "      <td>0</td>\n",
       "      <td>NaN</td>\n",
       "      <td>профильное образование</td>\n",
       "    </tr>\n",
       "    <tr>\n",
       "      <td>3396</td>\n",
       "      <td>20</td>\n",
       "      <td>NaN</td>\n",
       "      <td>56</td>\n",
       "      <td>высшее</td>\n",
       "      <td>0</td>\n",
       "      <td>женат / замужем</td>\n",
       "      <td>0</td>\n",
       "      <td>F</td>\n",
       "      <td>компаньон</td>\n",
       "      <td>0</td>\n",
       "      <td>NaN</td>\n",
       "      <td>высшее образование</td>\n",
       "    </tr>\n",
       "    <tr>\n",
       "      <td>3671</td>\n",
       "      <td>20</td>\n",
       "      <td>-913.161503</td>\n",
       "      <td>23</td>\n",
       "      <td>среднее</td>\n",
       "      <td>1</td>\n",
       "      <td>Не женат / не замужем</td>\n",
       "      <td>4</td>\n",
       "      <td>F</td>\n",
       "      <td>сотрудник</td>\n",
       "      <td>0</td>\n",
       "      <td>101255.492076</td>\n",
       "      <td>на покупку подержанного автомобиля</td>\n",
       "    </tr>\n",
       "    <tr>\n",
       "      <td>3697</td>\n",
       "      <td>20</td>\n",
       "      <td>-2907.910616</td>\n",
       "      <td>40</td>\n",
       "      <td>среднее</td>\n",
       "      <td>1</td>\n",
       "      <td>гражданский брак</td>\n",
       "      <td>1</td>\n",
       "      <td>M</td>\n",
       "      <td>сотрудник</td>\n",
       "      <td>0</td>\n",
       "      <td>115380.694664</td>\n",
       "      <td>на покупку подержанного автомобиля</td>\n",
       "    </tr>\n",
       "    <tr>\n",
       "      <td>3735</td>\n",
       "      <td>20</td>\n",
       "      <td>-805.044438</td>\n",
       "      <td>26</td>\n",
       "      <td>высшее</td>\n",
       "      <td>0</td>\n",
       "      <td>Не женат / не замужем</td>\n",
       "      <td>4</td>\n",
       "      <td>M</td>\n",
       "      <td>сотрудник</td>\n",
       "      <td>0</td>\n",
       "      <td>137200.646181</td>\n",
       "      <td>ремонт жилью</td>\n",
       "    </tr>\n",
       "  </tbody>\n",
       "</table>\n",
       "</div>"
      ],
      "text/plain": [
       "      children  days_employed  dob_years education  education_id  \\\n",
       "606         20    -880.221113         21   среднее             1   \n",
       "720         20    -855.595512         44   среднее             1   \n",
       "1074        20   -3310.411598         56   среднее             1   \n",
       "2510        20   -2714.161249         59    высшее             0   \n",
       "2941        20   -2161.591519          0   среднее             1   \n",
       "3302        20            NaN         35   среднее             1   \n",
       "3396        20            NaN         56    высшее             0   \n",
       "3671        20    -913.161503         23   среднее             1   \n",
       "3697        20   -2907.910616         40   среднее             1   \n",
       "3735        20    -805.044438         26    высшее             0   \n",
       "\n",
       "              family_status  family_status_id gender  income_type  debt  \\\n",
       "606         женат / замужем                 0      M    компаньон     0   \n",
       "720         женат / замужем                 0      F    компаньон     0   \n",
       "1074        женат / замужем                 0      F    сотрудник     1   \n",
       "2510         вдовец / вдова                 2      F    сотрудник     0   \n",
       "2941        женат / замужем                 0      F    сотрудник     0   \n",
       "3302  Не женат / не замужем                 4      F  госслужащий     0   \n",
       "3396        женат / замужем                 0      F    компаньон     0   \n",
       "3671  Не женат / не замужем                 4      F    сотрудник     0   \n",
       "3697       гражданский брак                 1      M    сотрудник     0   \n",
       "3735  Не женат / не замужем                 4      M    сотрудник     0   \n",
       "\n",
       "       total_income                                purpose  \n",
       "606   145334.865002                          покупка жилья  \n",
       "720   112998.738649                   покупка недвижимости  \n",
       "1074  229518.537004                  получение образования  \n",
       "2510  264474.835577  операции с коммерческой недвижимостью  \n",
       "2941  199739.941398                  на покупку автомобиля  \n",
       "3302            NaN                 профильное образование  \n",
       "3396            NaN                     высшее образование  \n",
       "3671  101255.492076     на покупку подержанного автомобиля  \n",
       "3697  115380.694664     на покупку подержанного автомобиля  \n",
       "3735  137200.646181                           ремонт жилью  "
      ]
     },
     "metadata": {},
     "output_type": "display_data"
    }
   ],
   "source": [
    "display(data[data['children'] == 20].head(10))"
   ]
  },
  {
   "cell_type": "markdown",
   "metadata": {},
   "source": [
    "Очень маловероятно, что у данных клиентов по 20 детей :) причины могут быть в следующем:  \n",
    "1. 20 значит 5+ детей\n",
    "2. 20 - это 2\n",
    "\n",
    "Первый вариант не кажется возможным, так как в выборку попали клиенты, которым едва за 20 лет, поэтому остановимся на втором варианте и заменим 20 на 2. Ниже произведем две замены, описанные выше и проверим результат. "
   ]
  },
  {
   "cell_type": "code",
   "execution_count": 8,
   "metadata": {},
   "outputs": [
    {
     "name": "stdout",
     "output_type": "stream",
     "text": [
      "children\n",
      "0    14149\n",
      "1     4865\n",
      "2     2131\n",
      "3      330\n",
      "4       41\n",
      "5        9\n",
      "Name: children, dtype: int64\n"
     ]
    }
   ],
   "source": [
    "def children_correct(value):\n",
    "    if value == -1:\n",
    "        return 1\n",
    "    elif value == 20:\n",
    "        return 2\n",
    "    else:\n",
    "        return value\n",
    "\n",
    "data['children'] = data['children'].apply(children_correct)\n",
    "data.reset_index(drop=True)\n",
    "\n",
    "print(data.groupby('children')['children'].count())\n",
    "        "
   ]
  },
  {
   "cell_type": "markdown",
   "metadata": {},
   "source": [
    "**dob_years**  \n",
    "Разберем наблюдения со значением \"0\""
   ]
  },
  {
   "cell_type": "code",
   "execution_count": 9,
   "metadata": {
    "scrolled": true
   },
   "outputs": [
    {
     "name": "stdout",
     "output_type": "stream",
     "text": [
      "101\n"
     ]
    },
    {
     "data": {
      "text/html": [
       "<div>\n",
       "<style scoped>\n",
       "    .dataframe tbody tr th:only-of-type {\n",
       "        vertical-align: middle;\n",
       "    }\n",
       "\n",
       "    .dataframe tbody tr th {\n",
       "        vertical-align: top;\n",
       "    }\n",
       "\n",
       "    .dataframe thead th {\n",
       "        text-align: right;\n",
       "    }\n",
       "</style>\n",
       "<table border=\"1\" class=\"dataframe\">\n",
       "  <thead>\n",
       "    <tr style=\"text-align: right;\">\n",
       "      <th></th>\n",
       "      <th>children</th>\n",
       "      <th>days_employed</th>\n",
       "      <th>dob_years</th>\n",
       "      <th>education</th>\n",
       "      <th>education_id</th>\n",
       "      <th>family_status</th>\n",
       "      <th>family_status_id</th>\n",
       "      <th>gender</th>\n",
       "      <th>income_type</th>\n",
       "      <th>debt</th>\n",
       "      <th>total_income</th>\n",
       "      <th>purpose</th>\n",
       "    </tr>\n",
       "  </thead>\n",
       "  <tbody>\n",
       "    <tr>\n",
       "      <td>99</td>\n",
       "      <td>0</td>\n",
       "      <td>346541.618895</td>\n",
       "      <td>0</td>\n",
       "      <td>Среднее</td>\n",
       "      <td>1</td>\n",
       "      <td>женат / замужем</td>\n",
       "      <td>0</td>\n",
       "      <td>F</td>\n",
       "      <td>пенсионер</td>\n",
       "      <td>0</td>\n",
       "      <td>71291.522491</td>\n",
       "      <td>автомобиль</td>\n",
       "    </tr>\n",
       "    <tr>\n",
       "      <td>149</td>\n",
       "      <td>0</td>\n",
       "      <td>-2664.273168</td>\n",
       "      <td>0</td>\n",
       "      <td>среднее</td>\n",
       "      <td>1</td>\n",
       "      <td>в разводе</td>\n",
       "      <td>3</td>\n",
       "      <td>F</td>\n",
       "      <td>сотрудник</td>\n",
       "      <td>0</td>\n",
       "      <td>70176.435951</td>\n",
       "      <td>операции с жильем</td>\n",
       "    </tr>\n",
       "    <tr>\n",
       "      <td>270</td>\n",
       "      <td>3</td>\n",
       "      <td>-1872.663186</td>\n",
       "      <td>0</td>\n",
       "      <td>среднее</td>\n",
       "      <td>1</td>\n",
       "      <td>женат / замужем</td>\n",
       "      <td>0</td>\n",
       "      <td>F</td>\n",
       "      <td>сотрудник</td>\n",
       "      <td>0</td>\n",
       "      <td>102166.458894</td>\n",
       "      <td>ремонт жилью</td>\n",
       "    </tr>\n",
       "    <tr>\n",
       "      <td>578</td>\n",
       "      <td>0</td>\n",
       "      <td>397856.565013</td>\n",
       "      <td>0</td>\n",
       "      <td>среднее</td>\n",
       "      <td>1</td>\n",
       "      <td>женат / замужем</td>\n",
       "      <td>0</td>\n",
       "      <td>F</td>\n",
       "      <td>пенсионер</td>\n",
       "      <td>0</td>\n",
       "      <td>97620.687042</td>\n",
       "      <td>строительство собственной недвижимости</td>\n",
       "    </tr>\n",
       "    <tr>\n",
       "      <td>1040</td>\n",
       "      <td>0</td>\n",
       "      <td>-1158.029561</td>\n",
       "      <td>0</td>\n",
       "      <td>высшее</td>\n",
       "      <td>0</td>\n",
       "      <td>в разводе</td>\n",
       "      <td>3</td>\n",
       "      <td>F</td>\n",
       "      <td>компаньон</td>\n",
       "      <td>0</td>\n",
       "      <td>303994.134987</td>\n",
       "      <td>свой автомобиль</td>\n",
       "    </tr>\n",
       "    <tr>\n",
       "      <td>1149</td>\n",
       "      <td>0</td>\n",
       "      <td>-934.654854</td>\n",
       "      <td>0</td>\n",
       "      <td>среднее</td>\n",
       "      <td>1</td>\n",
       "      <td>женат / замужем</td>\n",
       "      <td>0</td>\n",
       "      <td>F</td>\n",
       "      <td>компаньон</td>\n",
       "      <td>0</td>\n",
       "      <td>201852.430096</td>\n",
       "      <td>покупка недвижимости</td>\n",
       "    </tr>\n",
       "    <tr>\n",
       "      <td>1175</td>\n",
       "      <td>0</td>\n",
       "      <td>370879.508002</td>\n",
       "      <td>0</td>\n",
       "      <td>среднее</td>\n",
       "      <td>1</td>\n",
       "      <td>женат / замужем</td>\n",
       "      <td>0</td>\n",
       "      <td>F</td>\n",
       "      <td>пенсионер</td>\n",
       "      <td>0</td>\n",
       "      <td>313949.845188</td>\n",
       "      <td>получение дополнительного образования</td>\n",
       "    </tr>\n",
       "    <tr>\n",
       "      <td>1386</td>\n",
       "      <td>0</td>\n",
       "      <td>-5043.219890</td>\n",
       "      <td>0</td>\n",
       "      <td>высшее</td>\n",
       "      <td>0</td>\n",
       "      <td>женат / замужем</td>\n",
       "      <td>0</td>\n",
       "      <td>M</td>\n",
       "      <td>госслужащий</td>\n",
       "      <td>0</td>\n",
       "      <td>240523.618071</td>\n",
       "      <td>сделка с автомобилем</td>\n",
       "    </tr>\n",
       "    <tr>\n",
       "      <td>1890</td>\n",
       "      <td>0</td>\n",
       "      <td>NaN</td>\n",
       "      <td>0</td>\n",
       "      <td>высшее</td>\n",
       "      <td>0</td>\n",
       "      <td>Не женат / не замужем</td>\n",
       "      <td>4</td>\n",
       "      <td>F</td>\n",
       "      <td>сотрудник</td>\n",
       "      <td>0</td>\n",
       "      <td>NaN</td>\n",
       "      <td>жилье</td>\n",
       "    </tr>\n",
       "    <tr>\n",
       "      <td>1898</td>\n",
       "      <td>0</td>\n",
       "      <td>370144.537021</td>\n",
       "      <td>0</td>\n",
       "      <td>среднее</td>\n",
       "      <td>1</td>\n",
       "      <td>вдовец / вдова</td>\n",
       "      <td>2</td>\n",
       "      <td>F</td>\n",
       "      <td>пенсионер</td>\n",
       "      <td>0</td>\n",
       "      <td>127400.268338</td>\n",
       "      <td>на покупку автомобиля</td>\n",
       "    </tr>\n",
       "  </tbody>\n",
       "</table>\n",
       "</div>"
      ],
      "text/plain": [
       "      children  days_employed  dob_years education  education_id  \\\n",
       "99           0  346541.618895          0   Среднее             1   \n",
       "149          0   -2664.273168          0   среднее             1   \n",
       "270          3   -1872.663186          0   среднее             1   \n",
       "578          0  397856.565013          0   среднее             1   \n",
       "1040         0   -1158.029561          0    высшее             0   \n",
       "1149         0    -934.654854          0   среднее             1   \n",
       "1175         0  370879.508002          0   среднее             1   \n",
       "1386         0   -5043.219890          0    высшее             0   \n",
       "1890         0            NaN          0    высшее             0   \n",
       "1898         0  370144.537021          0   среднее             1   \n",
       "\n",
       "              family_status  family_status_id gender  income_type  debt  \\\n",
       "99          женат / замужем                 0      F    пенсионер     0   \n",
       "149               в разводе                 3      F    сотрудник     0   \n",
       "270         женат / замужем                 0      F    сотрудник     0   \n",
       "578         женат / замужем                 0      F    пенсионер     0   \n",
       "1040              в разводе                 3      F    компаньон     0   \n",
       "1149        женат / замужем                 0      F    компаньон     0   \n",
       "1175        женат / замужем                 0      F    пенсионер     0   \n",
       "1386        женат / замужем                 0      M  госслужащий     0   \n",
       "1890  Не женат / не замужем                 4      F    сотрудник     0   \n",
       "1898         вдовец / вдова                 2      F    пенсионер     0   \n",
       "\n",
       "       total_income                                 purpose  \n",
       "99     71291.522491                              автомобиль  \n",
       "149    70176.435951                       операции с жильем  \n",
       "270   102166.458894                            ремонт жилью  \n",
       "578    97620.687042  строительство собственной недвижимости  \n",
       "1040  303994.134987                         свой автомобиль  \n",
       "1149  201852.430096                    покупка недвижимости  \n",
       "1175  313949.845188   получение дополнительного образования  \n",
       "1386  240523.618071                    сделка с автомобилем  \n",
       "1890            NaN                                   жилье  \n",
       "1898  127400.268338                   на покупку автомобиля  "
      ]
     },
     "metadata": {},
     "output_type": "display_data"
    }
   ],
   "source": [
    "print(data[data['dob_years'] == 0]['dob_years'].count())\n",
    "display(data[data['dob_years'] == 0].head(10))"
   ]
  },
  {
   "cell_type": "markdown",
   "metadata": {},
   "source": [
    "Всего таких 101 наблюдение, явной причины отсутствия возраста также нет. Поскольку 101 наблюдение составляет 0.5% от общей выборки, эти данные можно исключить из дальнейшего анализа"
   ]
  },
  {
   "cell_type": "code",
   "execution_count": 10,
   "metadata": {},
   "outputs": [
    {
     "data": {
      "text/html": [
       "<div>\n",
       "<style scoped>\n",
       "    .dataframe tbody tr th:only-of-type {\n",
       "        vertical-align: middle;\n",
       "    }\n",
       "\n",
       "    .dataframe tbody tr th {\n",
       "        vertical-align: top;\n",
       "    }\n",
       "\n",
       "    .dataframe thead th {\n",
       "        text-align: right;\n",
       "    }\n",
       "</style>\n",
       "<table border=\"1\" class=\"dataframe\">\n",
       "  <thead>\n",
       "    <tr style=\"text-align: right;\">\n",
       "      <th></th>\n",
       "      <th>children</th>\n",
       "      <th>days_employed</th>\n",
       "      <th>dob_years</th>\n",
       "      <th>education</th>\n",
       "      <th>education_id</th>\n",
       "      <th>family_status</th>\n",
       "      <th>family_status_id</th>\n",
       "      <th>gender</th>\n",
       "      <th>income_type</th>\n",
       "      <th>debt</th>\n",
       "      <th>total_income</th>\n",
       "      <th>purpose</th>\n",
       "    </tr>\n",
       "  </thead>\n",
       "  <tbody>\n",
       "    <tr>\n",
       "      <td>0</td>\n",
       "      <td>1</td>\n",
       "      <td>-8437.673028</td>\n",
       "      <td>42</td>\n",
       "      <td>высшее</td>\n",
       "      <td>0</td>\n",
       "      <td>женат / замужем</td>\n",
       "      <td>0</td>\n",
       "      <td>F</td>\n",
       "      <td>сотрудник</td>\n",
       "      <td>0</td>\n",
       "      <td>253875.639453</td>\n",
       "      <td>покупка жилья</td>\n",
       "    </tr>\n",
       "    <tr>\n",
       "      <td>1</td>\n",
       "      <td>1</td>\n",
       "      <td>-4024.803754</td>\n",
       "      <td>36</td>\n",
       "      <td>среднее</td>\n",
       "      <td>1</td>\n",
       "      <td>женат / замужем</td>\n",
       "      <td>0</td>\n",
       "      <td>F</td>\n",
       "      <td>сотрудник</td>\n",
       "      <td>0</td>\n",
       "      <td>112080.014102</td>\n",
       "      <td>приобретение автомобиля</td>\n",
       "    </tr>\n",
       "    <tr>\n",
       "      <td>2</td>\n",
       "      <td>0</td>\n",
       "      <td>-5623.422610</td>\n",
       "      <td>33</td>\n",
       "      <td>Среднее</td>\n",
       "      <td>1</td>\n",
       "      <td>женат / замужем</td>\n",
       "      <td>0</td>\n",
       "      <td>M</td>\n",
       "      <td>сотрудник</td>\n",
       "      <td>0</td>\n",
       "      <td>145885.952297</td>\n",
       "      <td>покупка жилья</td>\n",
       "    </tr>\n",
       "    <tr>\n",
       "      <td>3</td>\n",
       "      <td>3</td>\n",
       "      <td>-4124.747207</td>\n",
       "      <td>32</td>\n",
       "      <td>среднее</td>\n",
       "      <td>1</td>\n",
       "      <td>женат / замужем</td>\n",
       "      <td>0</td>\n",
       "      <td>M</td>\n",
       "      <td>сотрудник</td>\n",
       "      <td>0</td>\n",
       "      <td>267628.550329</td>\n",
       "      <td>дополнительное образование</td>\n",
       "    </tr>\n",
       "    <tr>\n",
       "      <td>4</td>\n",
       "      <td>0</td>\n",
       "      <td>340266.072047</td>\n",
       "      <td>53</td>\n",
       "      <td>среднее</td>\n",
       "      <td>1</td>\n",
       "      <td>гражданский брак</td>\n",
       "      <td>1</td>\n",
       "      <td>F</td>\n",
       "      <td>пенсионер</td>\n",
       "      <td>0</td>\n",
       "      <td>158616.077870</td>\n",
       "      <td>сыграть свадьбу</td>\n",
       "    </tr>\n",
       "    <tr>\n",
       "      <td>...</td>\n",
       "      <td>...</td>\n",
       "      <td>...</td>\n",
       "      <td>...</td>\n",
       "      <td>...</td>\n",
       "      <td>...</td>\n",
       "      <td>...</td>\n",
       "      <td>...</td>\n",
       "      <td>...</td>\n",
       "      <td>...</td>\n",
       "      <td>...</td>\n",
       "      <td>...</td>\n",
       "      <td>...</td>\n",
       "    </tr>\n",
       "    <tr>\n",
       "      <td>21419</td>\n",
       "      <td>1</td>\n",
       "      <td>-4529.316663</td>\n",
       "      <td>43</td>\n",
       "      <td>среднее</td>\n",
       "      <td>1</td>\n",
       "      <td>гражданский брак</td>\n",
       "      <td>1</td>\n",
       "      <td>F</td>\n",
       "      <td>компаньон</td>\n",
       "      <td>0</td>\n",
       "      <td>224791.862382</td>\n",
       "      <td>операции с жильем</td>\n",
       "    </tr>\n",
       "    <tr>\n",
       "      <td>21420</td>\n",
       "      <td>0</td>\n",
       "      <td>343937.404131</td>\n",
       "      <td>67</td>\n",
       "      <td>среднее</td>\n",
       "      <td>1</td>\n",
       "      <td>женат / замужем</td>\n",
       "      <td>0</td>\n",
       "      <td>F</td>\n",
       "      <td>пенсионер</td>\n",
       "      <td>0</td>\n",
       "      <td>155999.806512</td>\n",
       "      <td>сделка с автомобилем</td>\n",
       "    </tr>\n",
       "    <tr>\n",
       "      <td>21421</td>\n",
       "      <td>1</td>\n",
       "      <td>-2113.346888</td>\n",
       "      <td>38</td>\n",
       "      <td>среднее</td>\n",
       "      <td>1</td>\n",
       "      <td>гражданский брак</td>\n",
       "      <td>1</td>\n",
       "      <td>M</td>\n",
       "      <td>сотрудник</td>\n",
       "      <td>1</td>\n",
       "      <td>89672.561153</td>\n",
       "      <td>недвижимость</td>\n",
       "    </tr>\n",
       "    <tr>\n",
       "      <td>21422</td>\n",
       "      <td>3</td>\n",
       "      <td>-3112.481705</td>\n",
       "      <td>38</td>\n",
       "      <td>среднее</td>\n",
       "      <td>1</td>\n",
       "      <td>женат / замужем</td>\n",
       "      <td>0</td>\n",
       "      <td>M</td>\n",
       "      <td>сотрудник</td>\n",
       "      <td>1</td>\n",
       "      <td>244093.050500</td>\n",
       "      <td>на покупку своего автомобиля</td>\n",
       "    </tr>\n",
       "    <tr>\n",
       "      <td>21423</td>\n",
       "      <td>2</td>\n",
       "      <td>-1984.507589</td>\n",
       "      <td>40</td>\n",
       "      <td>среднее</td>\n",
       "      <td>1</td>\n",
       "      <td>женат / замужем</td>\n",
       "      <td>0</td>\n",
       "      <td>F</td>\n",
       "      <td>сотрудник</td>\n",
       "      <td>0</td>\n",
       "      <td>82047.418899</td>\n",
       "      <td>на покупку автомобиля</td>\n",
       "    </tr>\n",
       "  </tbody>\n",
       "</table>\n",
       "<p>21424 rows × 12 columns</p>\n",
       "</div>"
      ],
      "text/plain": [
       "       children  days_employed  dob_years education  education_id  \\\n",
       "0             1   -8437.673028         42    высшее             0   \n",
       "1             1   -4024.803754         36   среднее             1   \n",
       "2             0   -5623.422610         33   Среднее             1   \n",
       "3             3   -4124.747207         32   среднее             1   \n",
       "4             0  340266.072047         53   среднее             1   \n",
       "...         ...            ...        ...       ...           ...   \n",
       "21419         1   -4529.316663         43   среднее             1   \n",
       "21420         0  343937.404131         67   среднее             1   \n",
       "21421         1   -2113.346888         38   среднее             1   \n",
       "21422         3   -3112.481705         38   среднее             1   \n",
       "21423         2   -1984.507589         40   среднее             1   \n",
       "\n",
       "          family_status  family_status_id gender income_type  debt  \\\n",
       "0       женат / замужем                 0      F   сотрудник     0   \n",
       "1       женат / замужем                 0      F   сотрудник     0   \n",
       "2       женат / замужем                 0      M   сотрудник     0   \n",
       "3       женат / замужем                 0      M   сотрудник     0   \n",
       "4      гражданский брак                 1      F   пенсионер     0   \n",
       "...                 ...               ...    ...         ...   ...   \n",
       "21419  гражданский брак                 1      F   компаньон     0   \n",
       "21420   женат / замужем                 0      F   пенсионер     0   \n",
       "21421  гражданский брак                 1      M   сотрудник     1   \n",
       "21422   женат / замужем                 0      M   сотрудник     1   \n",
       "21423   женат / замужем                 0      F   сотрудник     0   \n",
       "\n",
       "        total_income                       purpose  \n",
       "0      253875.639453                 покупка жилья  \n",
       "1      112080.014102       приобретение автомобиля  \n",
       "2      145885.952297                 покупка жилья  \n",
       "3      267628.550329    дополнительное образование  \n",
       "4      158616.077870               сыграть свадьбу  \n",
       "...              ...                           ...  \n",
       "21419  224791.862382             операции с жильем  \n",
       "21420  155999.806512          сделка с автомобилем  \n",
       "21421   89672.561153                  недвижимость  \n",
       "21422  244093.050500  на покупку своего автомобиля  \n",
       "21423   82047.418899         на покупку автомобиля  \n",
       "\n",
       "[21424 rows x 12 columns]"
      ]
     },
     "execution_count": 10,
     "metadata": {},
     "output_type": "execute_result"
    }
   ],
   "source": [
    "data = data[data['dob_years'] != 0]\n",
    "data.reset_index(drop=True)"
   ]
  },
  {
   "cell_type": "markdown",
   "metadata": {},
   "source": [
    "**gender**  \n",
    "В данной переменной у нас есть 1 наблюдение со значением XNA, взглянем на него:"
   ]
  },
  {
   "cell_type": "code",
   "execution_count": 11,
   "metadata": {},
   "outputs": [
    {
     "data": {
      "text/html": [
       "<div>\n",
       "<style scoped>\n",
       "    .dataframe tbody tr th:only-of-type {\n",
       "        vertical-align: middle;\n",
       "    }\n",
       "\n",
       "    .dataframe tbody tr th {\n",
       "        vertical-align: top;\n",
       "    }\n",
       "\n",
       "    .dataframe thead th {\n",
       "        text-align: right;\n",
       "    }\n",
       "</style>\n",
       "<table border=\"1\" class=\"dataframe\">\n",
       "  <thead>\n",
       "    <tr style=\"text-align: right;\">\n",
       "      <th></th>\n",
       "      <th>children</th>\n",
       "      <th>days_employed</th>\n",
       "      <th>dob_years</th>\n",
       "      <th>education</th>\n",
       "      <th>education_id</th>\n",
       "      <th>family_status</th>\n",
       "      <th>family_status_id</th>\n",
       "      <th>gender</th>\n",
       "      <th>income_type</th>\n",
       "      <th>debt</th>\n",
       "      <th>total_income</th>\n",
       "      <th>purpose</th>\n",
       "    </tr>\n",
       "  </thead>\n",
       "  <tbody>\n",
       "    <tr>\n",
       "      <td>10701</td>\n",
       "      <td>0</td>\n",
       "      <td>-2358.600502</td>\n",
       "      <td>24</td>\n",
       "      <td>неоконченное высшее</td>\n",
       "      <td>2</td>\n",
       "      <td>гражданский брак</td>\n",
       "      <td>1</td>\n",
       "      <td>XNA</td>\n",
       "      <td>компаньон</td>\n",
       "      <td>0</td>\n",
       "      <td>203905.157261</td>\n",
       "      <td>покупка недвижимости</td>\n",
       "    </tr>\n",
       "  </tbody>\n",
       "</table>\n",
       "</div>"
      ],
      "text/plain": [
       "       children  days_employed  dob_years            education  education_id  \\\n",
       "10701         0   -2358.600502         24  неоконченное высшее             2   \n",
       "\n",
       "          family_status  family_status_id gender income_type  debt  \\\n",
       "10701  гражданский брак                 1    XNA   компаньон     0   \n",
       "\n",
       "        total_income               purpose  \n",
       "10701  203905.157261  покупка недвижимости  "
      ]
     },
     "metadata": {},
     "output_type": "display_data"
    }
   ],
   "source": [
    "display(data[data['gender'] == 'XNA'])"
   ]
  },
  {
   "cell_type": "markdown",
   "metadata": {},
   "source": [
    "Явных признаков, по которым можно определить пол, здесь нет, поэтому имеет смысл исключить это наблюдение."
   ]
  },
  {
   "cell_type": "code",
   "execution_count": 12,
   "metadata": {},
   "outputs": [
    {
     "name": "stdout",
     "output_type": "stream",
     "text": [
      "<class 'pandas.core.frame.DataFrame'>\n",
      "Int64Index: 21423 entries, 0 to 21524\n",
      "Data columns (total 12 columns):\n",
      "children            21423 non-null int64\n",
      "days_employed       19259 non-null float64\n",
      "dob_years           21423 non-null int64\n",
      "education           21423 non-null object\n",
      "education_id        21423 non-null int64\n",
      "family_status       21423 non-null object\n",
      "family_status_id    21423 non-null int64\n",
      "gender              21423 non-null object\n",
      "income_type         21423 non-null object\n",
      "debt                21423 non-null int64\n",
      "total_income        19259 non-null float64\n",
      "purpose             21423 non-null object\n",
      "dtypes: float64(2), int64(5), object(5)\n",
      "memory usage: 2.1+ MB\n"
     ]
    }
   ],
   "source": [
    "data = data[data['gender'] != 'XNA']\n",
    "data.reset_index(drop=True)\n",
    "data.info()"
   ]
  },
  {
   "cell_type": "markdown",
   "metadata": {},
   "source": [
    "### Обработка дубликатов"
   ]
  },
  {
   "cell_type": "markdown",
   "metadata": {},
   "source": [
    "Сначала избавимся от неявных дубликатов в переменной education. Судя по регистру, поле имеет ручной ввод, что привело к их появлению. Приведем все поля к нижнему регистру."
   ]
  },
  {
   "cell_type": "code",
   "execution_count": 13,
   "metadata": {},
   "outputs": [
    {
     "name": "stdout",
     "output_type": "stream",
     "text": [
      "education\n",
      "высшее                  5225\n",
      "начальное                282\n",
      "неоконченное высшее      741\n",
      "среднее                15169\n",
      "ученая степень             6\n",
      "Name: education, dtype: int64\n"
     ]
    }
   ],
   "source": [
    "data['education'] = data['education'].str.lower()\n",
    "print(data.groupby('education')['education'].count())"
   ]
  },
  {
   "cell_type": "markdown",
   "metadata": {},
   "source": [
    "Далее проанализируем число явных дубликатов"
   ]
  },
  {
   "cell_type": "code",
   "execution_count": 14,
   "metadata": {},
   "outputs": [
    {
     "name": "stdout",
     "output_type": "stream",
     "text": [
      "71\n"
     ]
    }
   ],
   "source": [
    "print(data.duplicated().sum())"
   ]
  },
  {
   "cell_type": "markdown",
   "metadata": {},
   "source": [
    "В датасете присутствует 71 дубликат, удалим эти наблюдения."
   ]
  },
  {
   "cell_type": "code",
   "execution_count": 15,
   "metadata": {},
   "outputs": [
    {
     "name": "stdout",
     "output_type": "stream",
     "text": [
      "<class 'pandas.core.frame.DataFrame'>\n",
      "RangeIndex: 21352 entries, 0 to 21351\n",
      "Data columns (total 12 columns):\n",
      "children            21352 non-null int64\n",
      "days_employed       19259 non-null float64\n",
      "dob_years           21352 non-null int64\n",
      "education           21352 non-null object\n",
      "education_id        21352 non-null int64\n",
      "family_status       21352 non-null object\n",
      "family_status_id    21352 non-null int64\n",
      "gender              21352 non-null object\n",
      "income_type         21352 non-null object\n",
      "debt                21352 non-null int64\n",
      "total_income        19259 non-null float64\n",
      "purpose             21352 non-null object\n",
      "dtypes: float64(2), int64(5), object(5)\n",
      "memory usage: 2.0+ MB\n",
      "0\n"
     ]
    }
   ],
   "source": [
    "data = data.drop_duplicates().reset_index(drop=True)\n",
    "data.info()\n",
    "print(data.duplicated().sum())"
   ]
  },
  {
   "cell_type": "markdown",
   "metadata": {},
   "source": [
    "### Обработка пропусков"
   ]
  },
  {
   "cell_type": "code",
   "execution_count": 16,
   "metadata": {
    "scrolled": false
   },
   "outputs": [
    {
     "data": {
      "text/plain": [
       "children               0\n",
       "days_employed       2093\n",
       "dob_years              0\n",
       "education              0\n",
       "education_id           0\n",
       "family_status          0\n",
       "family_status_id       0\n",
       "gender                 0\n",
       "income_type            0\n",
       "debt                   0\n",
       "total_income        2093\n",
       "purpose                0\n",
       "dtype: int64"
      ]
     },
     "execution_count": 16,
     "metadata": {},
     "output_type": "execute_result"
    }
   ],
   "source": [
    "data.isnull().sum()\n",
    "data.isna().sum()"
   ]
  },
  {
   "cell_type": "markdown",
   "metadata": {},
   "source": [
    "Пропуски содержатся в двух столбцах: days_employed и total_income.<br>\n",
    "\n",
    "**days_employed**<br>\n",
    "Заменим пропущенные значения на средние в группах income_type -> dob_years. Логика такова, что стаж примерно равен в группах в зависимости от типа занятости и возраста.  \n",
    "Для корректного подсчета средних необходимо избавиться от отрицательных значений и понять природу данных (почему присутствуют такие большие значения). Для этого сначала посчитаем число отрицательных:"
   ]
  },
  {
   "cell_type": "code",
   "execution_count": 17,
   "metadata": {},
   "outputs": [
    {
     "name": "stdout",
     "output_type": "stream",
     "text": [
      "15831\n"
     ]
    }
   ],
   "source": [
    "print(data[data['days_employed'] < 0]['days_employed'].count())"
   ]
  },
  {
   "cell_type": "markdown",
   "metadata": {},
   "source": [
    "3/4 значений стажа - отрицательные. Предположим, что это ошибка в знаке и изменим значения на положительные."
   ]
  },
  {
   "cell_type": "code",
   "execution_count": 18,
   "metadata": {
    "scrolled": true
   },
   "outputs": [],
   "source": [
    "data['days_employed'] = abs(data['days_employed'])"
   ]
  },
  {
   "cell_type": "markdown",
   "metadata": {},
   "source": [
    "Посчитаем среднее и медиану получившегося ряда по основным категориальным переменным:"
   ]
  },
  {
   "cell_type": "code",
   "execution_count": 19,
   "metadata": {},
   "outputs": [
    {
     "name": "stdout",
     "output_type": "stream",
     "text": [
      "education_id\n",
      "0     42352.124485\n",
      "1     76376.801662\n",
      "2     20744.618019\n",
      "3    130340.426349\n",
      "4    121323.630206\n",
      "Name: days_employed, dtype: float64\n",
      "\n",
      "family_status_id\n",
      "0     63305.475668\n",
      "1     58685.455954\n",
      "2    204893.316311\n",
      "3     69002.258467\n",
      "4     46764.024176\n",
      "Name: days_employed, dtype: float64\n",
      "\n",
      "income_type\n",
      "безработный        366413.652744\n",
      "в декрете            3296.759962\n",
      "госслужащий          3388.508552\n",
      "компаньон            2112.744402\n",
      "пенсионер          365015.727554\n",
      "предприниматель       520.848083\n",
      "сотрудник            2328.603723\n",
      "студент               578.751554\n",
      "Name: days_employed, dtype: float64\n",
      "\n"
     ]
    }
   ],
   "source": [
    "categories = ['education_id', 'family_status_id', 'income_type']\n",
    "for cat in categories:\n",
    "    print(data.groupby(cat)['days_employed'].mean())  \n",
    "    print()"
   ]
  },
  {
   "cell_type": "markdown",
   "metadata": {},
   "source": [
    "Можно заметить, что среднее внутри групп \"безработный\" и \"пенсионер\" составляет 1000 лет и сильно смещает среднее общей выборки.\n",
    "Проанализируем min и max внутри группы, чтобы понять разбег значений."
   ]
  },
  {
   "cell_type": "code",
   "execution_count": 20,
   "metadata": {},
   "outputs": [
    {
     "name": "stdout",
     "output_type": "stream",
     "text": [
      "Max -  401755.40047533\n",
      "Min -  328728.72060451825\n"
     ]
    }
   ],
   "source": [
    "print('Max - ', data[data['income_type'] == 'пенсионер']['days_employed'].max())\n",
    "print('Min - ', data[data['income_type'] == 'пенсионер']['days_employed'].min())"
   ]
  },
  {
   "cell_type": "markdown",
   "metadata": {},
   "source": [
    "Если предположить, что данные по группе занесены в часах, то  \n",
    "Max ~ 46 лет   \n",
    "Min ~ 38 лет  \n",
    "что похоже на фактический стаж данной группы. Приведем для данной группы часы к дням:"
   ]
  },
  {
   "cell_type": "code",
   "execution_count": 21,
   "metadata": {},
   "outputs": [
    {
     "name": "stderr",
     "output_type": "stream",
     "text": [
      "/opt/conda/lib/python3.7/site-packages/ipykernel_launcher.py:3: SettingWithCopyWarning: \n",
      "A value is trying to be set on a copy of a slice from a DataFrame\n",
      "\n",
      "See the caveats in the documentation: http://pandas.pydata.org/pandas-docs/stable/user_guide/indexing.html#returning-a-view-versus-a-copy\n",
      "  This is separate from the ipykernel package so we can avoid doing imports until\n"
     ]
    }
   ],
   "source": [
    "for index in range(len(data)):\n",
    "    if data['income_type'][index] == 'пенсионер':\n",
    "        data['days_employed'][index] = data['days_employed'][index] / 24"
   ]
  },
  {
   "cell_type": "markdown",
   "metadata": {},
   "source": [
    "Проверим обновленное среднее по группам:"
   ]
  },
  {
   "cell_type": "code",
   "execution_count": 22,
   "metadata": {},
   "outputs": [
    {
     "name": "stdout",
     "output_type": "stream",
     "text": [
      "income_type\n",
      "безработный        366413.652744\n",
      "в декрете            3296.759962\n",
      "госслужащий          3388.508552\n",
      "компаньон            2112.744402\n",
      "пенсионер           15208.988648\n",
      "предприниматель       520.848083\n",
      "сотрудник            2328.603723\n",
      "студент               578.751554\n",
      "Name: days_employed, dtype: float64\n"
     ]
    }
   ],
   "source": [
    "print(data.groupby('income_type')['days_employed'].mean())"
   ]
  },
  {
   "cell_type": "markdown",
   "metadata": {},
   "source": [
    "В статусе \"безработный\" у нас находится всего 2 наблюдения, рабочий стаж в которых указан не верно. Удалим эти 2 наблюдения из датасета, чтобы не смещать выборку."
   ]
  },
  {
   "cell_type": "code",
   "execution_count": 23,
   "metadata": {
    "scrolled": true
   },
   "outputs": [
    {
     "name": "stdout",
     "output_type": "stream",
     "text": [
      "income_type\n",
      "в декрете           3296.759962\n",
      "госслужащий         3388.508552\n",
      "компаньон           2112.744402\n",
      "пенсионер          15208.988648\n",
      "предприниматель      520.848083\n",
      "сотрудник           2328.603723\n",
      "студент              578.751554\n",
      "Name: days_employed, dtype: float64\n"
     ]
    }
   ],
   "source": [
    "data = data[data['income_type'] != 'безработный']\n",
    "data.reset_index(drop=True)\n",
    "print(data.groupby('income_type')['days_employed'].mean())"
   ]
  },
  {
   "cell_type": "markdown",
   "metadata": {},
   "source": [
    "Создадим категории в зависимости от возраста:  \n",
    "- 25-\n",
    "- 26-35\n",
    "- 36-45\n",
    "- 46-55\n",
    "- 56-65\n",
    "- 65+"
   ]
  },
  {
   "cell_type": "code",
   "execution_count": 24,
   "metadata": {
    "scrolled": false
   },
   "outputs": [
    {
     "data": {
      "text/html": [
       "<div>\n",
       "<style scoped>\n",
       "    .dataframe tbody tr th:only-of-type {\n",
       "        vertical-align: middle;\n",
       "    }\n",
       "\n",
       "    .dataframe tbody tr th {\n",
       "        vertical-align: top;\n",
       "    }\n",
       "\n",
       "    .dataframe thead th {\n",
       "        text-align: right;\n",
       "    }\n",
       "</style>\n",
       "<table border=\"1\" class=\"dataframe\">\n",
       "  <thead>\n",
       "    <tr style=\"text-align: right;\">\n",
       "      <th></th>\n",
       "      <th></th>\n",
       "      <th>education_id</th>\n",
       "    </tr>\n",
       "    <tr>\n",
       "      <th>income_type</th>\n",
       "      <th>age_group</th>\n",
       "      <th></th>\n",
       "    </tr>\n",
       "  </thead>\n",
       "  <tbody>\n",
       "    <tr>\n",
       "      <td>в декрете</td>\n",
       "      <td>36-45</td>\n",
       "      <td>1</td>\n",
       "    </tr>\n",
       "    <tr>\n",
       "      <td rowspan=\"6\" valign=\"top\">госслужащий</td>\n",
       "      <td>25-</td>\n",
       "      <td>73</td>\n",
       "    </tr>\n",
       "    <tr>\n",
       "      <td>26-35</td>\n",
       "      <td>432</td>\n",
       "    </tr>\n",
       "    <tr>\n",
       "      <td>36-45</td>\n",
       "      <td>458</td>\n",
       "    </tr>\n",
       "    <tr>\n",
       "      <td>46-55</td>\n",
       "      <td>346</td>\n",
       "    </tr>\n",
       "    <tr>\n",
       "      <td>56-65</td>\n",
       "      <td>133</td>\n",
       "    </tr>\n",
       "    <tr>\n",
       "      <td>65+</td>\n",
       "      <td>9</td>\n",
       "    </tr>\n",
       "    <tr>\n",
       "      <td rowspan=\"6\" valign=\"top\">компаньон</td>\n",
       "      <td>25-</td>\n",
       "      <td>378</td>\n",
       "    </tr>\n",
       "    <tr>\n",
       "      <td>26-35</td>\n",
       "      <td>1546</td>\n",
       "    </tr>\n",
       "    <tr>\n",
       "      <td>36-45</td>\n",
       "      <td>1587</td>\n",
       "    </tr>\n",
       "    <tr>\n",
       "      <td>46-55</td>\n",
       "      <td>1145</td>\n",
       "    </tr>\n",
       "    <tr>\n",
       "      <td>56-65</td>\n",
       "      <td>374</td>\n",
       "    </tr>\n",
       "    <tr>\n",
       "      <td>65+</td>\n",
       "      <td>27</td>\n",
       "    </tr>\n",
       "    <tr>\n",
       "      <td rowspan=\"6\" valign=\"top\">пенсионер</td>\n",
       "      <td>25-</td>\n",
       "      <td>2</td>\n",
       "    </tr>\n",
       "    <tr>\n",
       "      <td>26-35</td>\n",
       "      <td>16</td>\n",
       "    </tr>\n",
       "    <tr>\n",
       "      <td>36-45</td>\n",
       "      <td>84</td>\n",
       "    </tr>\n",
       "    <tr>\n",
       "      <td>46-55</td>\n",
       "      <td>796</td>\n",
       "    </tr>\n",
       "    <tr>\n",
       "      <td>56-65</td>\n",
       "      <td>2297</td>\n",
       "    </tr>\n",
       "    <tr>\n",
       "      <td>65+</td>\n",
       "      <td>614</td>\n",
       "    </tr>\n",
       "    <tr>\n",
       "      <td rowspan=\"2\" valign=\"top\">предприниматель</td>\n",
       "      <td>26-35</td>\n",
       "      <td>1</td>\n",
       "    </tr>\n",
       "    <tr>\n",
       "      <td>56-65</td>\n",
       "      <td>1</td>\n",
       "    </tr>\n",
       "    <tr>\n",
       "      <td rowspan=\"6\" valign=\"top\">сотрудник</td>\n",
       "      <td>25-</td>\n",
       "      <td>777</td>\n",
       "    </tr>\n",
       "    <tr>\n",
       "      <td>26-35</td>\n",
       "      <td>3355</td>\n",
       "    </tr>\n",
       "    <tr>\n",
       "      <td>36-45</td>\n",
       "      <td>3489</td>\n",
       "    </tr>\n",
       "    <tr>\n",
       "      <td>46-55</td>\n",
       "      <td>2527</td>\n",
       "    </tr>\n",
       "    <tr>\n",
       "      <td>56-65</td>\n",
       "      <td>829</td>\n",
       "    </tr>\n",
       "    <tr>\n",
       "      <td>65+</td>\n",
       "      <td>52</td>\n",
       "    </tr>\n",
       "    <tr>\n",
       "      <td>студент</td>\n",
       "      <td>25-</td>\n",
       "      <td>1</td>\n",
       "    </tr>\n",
       "  </tbody>\n",
       "</table>\n",
       "</div>"
      ],
      "text/plain": [
       "                           education_id\n",
       "income_type     age_group              \n",
       "в декрете       36-45                 1\n",
       "госслужащий     25-                  73\n",
       "                26-35               432\n",
       "                36-45               458\n",
       "                46-55               346\n",
       "                56-65               133\n",
       "                65+                   9\n",
       "компаньон       25-                 378\n",
       "                26-35              1546\n",
       "                36-45              1587\n",
       "                46-55              1145\n",
       "                56-65               374\n",
       "                65+                  27\n",
       "пенсионер       25-                   2\n",
       "                26-35                16\n",
       "                36-45                84\n",
       "                46-55               796\n",
       "                56-65              2297\n",
       "                65+                 614\n",
       "предприниматель 26-35                 1\n",
       "                56-65                 1\n",
       "сотрудник       25-                 777\n",
       "                26-35              3355\n",
       "                36-45              3489\n",
       "                46-55              2527\n",
       "                56-65               829\n",
       "                65+                  52\n",
       "студент         25-                   1"
      ]
     },
     "metadata": {},
     "output_type": "display_data"
    }
   ],
   "source": [
    "def age_group(age):\n",
    "    if age <= 25:\n",
    "        return '25-'\n",
    "    elif age <= 35:\n",
    "        return '26-35'\n",
    "    elif age <= 45:\n",
    "        return '36-45'\n",
    "    elif age <= 55:\n",
    "        return '46-55'\n",
    "    elif age <= 65:\n",
    "        return '56-65'\n",
    "    else:\n",
    "        return '65+'\n",
    "    \n",
    "data['age_group'] = data['dob_years'].apply(age_group)\n",
    "data_pivot = data.pivot_table(index=['income_type', 'age_group'], values='education_id', aggfunc='count')\n",
    "display(data_pivot)"
   ]
  },
  {
   "cell_type": "markdown",
   "metadata": {},
   "source": [
    "Из получившегося распределения видно, что:  \n",
    "- категория \"пенсионеры\" содержит людей моложе 45 лет, чего быть не может  \n",
    "- категории \"в декрете\", \"студент\", \"предприниматель\" содержат по 1-2 наблюдения.  \n",
    "  \n",
    "Для получения более объективных результатов удалим эти категории из датасета и выведем новые средние стажа по категориям."
   ]
  },
  {
   "cell_type": "code",
   "execution_count": 25,
   "metadata": {},
   "outputs": [
    {
     "data": {
      "text/html": [
       "<div>\n",
       "<style scoped>\n",
       "    .dataframe tbody tr th:only-of-type {\n",
       "        vertical-align: middle;\n",
       "    }\n",
       "\n",
       "    .dataframe tbody tr th {\n",
       "        vertical-align: top;\n",
       "    }\n",
       "\n",
       "    .dataframe thead th {\n",
       "        text-align: right;\n",
       "    }\n",
       "</style>\n",
       "<table border=\"1\" class=\"dataframe\">\n",
       "  <thead>\n",
       "    <tr style=\"text-align: right;\">\n",
       "      <th></th>\n",
       "      <th></th>\n",
       "      <th>days_employed</th>\n",
       "    </tr>\n",
       "    <tr>\n",
       "      <th>income_type</th>\n",
       "      <th>age_group</th>\n",
       "      <th></th>\n",
       "    </tr>\n",
       "  </thead>\n",
       "  <tbody>\n",
       "    <tr>\n",
       "      <td rowspan=\"6\" valign=\"top\">госслужащий</td>\n",
       "      <td>25-</td>\n",
       "      <td>1174.478880</td>\n",
       "    </tr>\n",
       "    <tr>\n",
       "      <td>26-35</td>\n",
       "      <td>2123.168852</td>\n",
       "    </tr>\n",
       "    <tr>\n",
       "      <td>36-45</td>\n",
       "      <td>3701.579316</td>\n",
       "    </tr>\n",
       "    <tr>\n",
       "      <td>46-55</td>\n",
       "      <td>4438.451507</td>\n",
       "    </tr>\n",
       "    <tr>\n",
       "      <td>56-65</td>\n",
       "      <td>4936.760900</td>\n",
       "    </tr>\n",
       "    <tr>\n",
       "      <td>65+</td>\n",
       "      <td>4145.742201</td>\n",
       "    </tr>\n",
       "    <tr>\n",
       "      <td rowspan=\"6\" valign=\"top\">компаньон</td>\n",
       "      <td>25-</td>\n",
       "      <td>860.317166</td>\n",
       "    </tr>\n",
       "    <tr>\n",
       "      <td>26-35</td>\n",
       "      <td>1579.732861</td>\n",
       "    </tr>\n",
       "    <tr>\n",
       "      <td>36-45</td>\n",
       "      <td>2172.231307</td>\n",
       "    </tr>\n",
       "    <tr>\n",
       "      <td>46-55</td>\n",
       "      <td>2791.876907</td>\n",
       "    </tr>\n",
       "    <tr>\n",
       "      <td>56-65</td>\n",
       "      <td>3159.044857</td>\n",
       "    </tr>\n",
       "    <tr>\n",
       "      <td>65+</td>\n",
       "      <td>3725.387000</td>\n",
       "    </tr>\n",
       "    <tr>\n",
       "      <td rowspan=\"3\" valign=\"top\">пенсионер</td>\n",
       "      <td>46-55</td>\n",
       "      <td>15184.411127</td>\n",
       "    </tr>\n",
       "    <tr>\n",
       "      <td>56-65</td>\n",
       "      <td>15212.555051</td>\n",
       "    </tr>\n",
       "    <tr>\n",
       "      <td>65+</td>\n",
       "      <td>15235.018791</td>\n",
       "    </tr>\n",
       "    <tr>\n",
       "      <td rowspan=\"6\" valign=\"top\">сотрудник</td>\n",
       "      <td>25-</td>\n",
       "      <td>930.982057</td>\n",
       "    </tr>\n",
       "    <tr>\n",
       "      <td>26-35</td>\n",
       "      <td>1671.382722</td>\n",
       "    </tr>\n",
       "    <tr>\n",
       "      <td>36-45</td>\n",
       "      <td>2456.651823</td>\n",
       "    </tr>\n",
       "    <tr>\n",
       "      <td>46-55</td>\n",
       "      <td>3023.302599</td>\n",
       "    </tr>\n",
       "    <tr>\n",
       "      <td>56-65</td>\n",
       "      <td>3538.604796</td>\n",
       "    </tr>\n",
       "    <tr>\n",
       "      <td>65+</td>\n",
       "      <td>4092.413329</td>\n",
       "    </tr>\n",
       "  </tbody>\n",
       "</table>\n",
       "</div>"
      ],
      "text/plain": [
       "                       days_employed\n",
       "income_type age_group               \n",
       "госслужащий 25-          1174.478880\n",
       "            26-35        2123.168852\n",
       "            36-45        3701.579316\n",
       "            46-55        4438.451507\n",
       "            56-65        4936.760900\n",
       "            65+          4145.742201\n",
       "компаньон   25-           860.317166\n",
       "            26-35        1579.732861\n",
       "            36-45        2172.231307\n",
       "            46-55        2791.876907\n",
       "            56-65        3159.044857\n",
       "            65+          3725.387000\n",
       "пенсионер   46-55       15184.411127\n",
       "            56-65       15212.555051\n",
       "            65+         15235.018791\n",
       "сотрудник   25-           930.982057\n",
       "            26-35        1671.382722\n",
       "            36-45        2456.651823\n",
       "            46-55        3023.302599\n",
       "            56-65        3538.604796\n",
       "            65+          4092.413329"
      ]
     },
     "metadata": {},
     "output_type": "display_data"
    }
   ],
   "source": [
    "data = data[data['income_type'] != 'в декрете']\n",
    "data = data[data['income_type'] != 'студент']\n",
    "data = data[data['income_type'] != 'предприниматель']\n",
    "index_names = data[(data['income_type'] == 'пенсионер') & (data['dob_years'] <= 45)].index\n",
    "data.drop(index_names, inplace = True)\n",
    "data.reset_index(drop=True)\n",
    "data_pivot = data.pivot_table(index=['income_type', 'age_group'], values='days_employed', aggfunc='mean')\n",
    "display(data_pivot)"
   ]
  },
  {
   "cell_type": "markdown",
   "metadata": {},
   "source": [
    "Далее заменим пропуски в данных по стажу на соответствующие средние внутри категорий."
   ]
  },
  {
   "cell_type": "code",
   "execution_count": 26,
   "metadata": {},
   "outputs": [
    {
     "name": "stderr",
     "output_type": "stream",
     "text": [
      "/opt/conda/lib/python3.7/site-packages/ipykernel_launcher.py:7: SettingWithCopyWarning: \n",
      "A value is trying to be set on a copy of a slice from a DataFrame\n",
      "\n",
      "See the caveats in the documentation: http://pandas.pydata.org/pandas-docs/stable/user_guide/indexing.html#returning-a-view-versus-a-copy\n",
      "  import sys\n"
     ]
    },
    {
     "name": "stdout",
     "output_type": "stream",
     "text": [
      "<class 'pandas.core.frame.DataFrame'>\n",
      "RangeIndex: 21244 entries, 0 to 21243\n",
      "Data columns (total 13 columns):\n",
      "children            21244 non-null int64\n",
      "days_employed       21244 non-null object\n",
      "dob_years           21244 non-null int64\n",
      "education           21244 non-null object\n",
      "education_id        21244 non-null int64\n",
      "family_status       21244 non-null object\n",
      "family_status_id    21244 non-null int64\n",
      "gender              21244 non-null object\n",
      "income_type         21244 non-null object\n",
      "debt                21244 non-null int64\n",
      "total_income        19167 non-null float64\n",
      "purpose             21244 non-null object\n",
      "age_group           21244 non-null object\n",
      "dtypes: float64(1), int64(5), object(7)\n",
      "memory usage: 2.1+ MB\n"
     ]
    }
   ],
   "source": [
    "data = data.reset_index(drop=True)\n",
    "data['days_employed'] = data['days_employed'].fillna('unknown')\n",
    "for index in range(len(data)):\n",
    "    if data['days_employed'][index] == 'unknown':\n",
    "        a = data['income_type'][index]\n",
    "        b = data['age_group'][index]\n",
    "        data['days_employed'][index] = data_pivot.loc[a,b]\n",
    "data.info()"
   ]
  },
  {
   "cell_type": "markdown",
   "metadata": {},
   "source": [
    "**total_income**<br>\n",
    "Ряд total_income также содержит пропуски. Для данного ряда заменим пропуски на средние в категориях   \n",
    "income_type > age_group > education, предполагая, что доход зависит от типа занятости, возраста и образования."
   ]
  },
  {
   "cell_type": "code",
   "execution_count": 27,
   "metadata": {},
   "outputs": [
    {
     "data": {
      "text/html": [
       "<div>\n",
       "<style scoped>\n",
       "    .dataframe tbody tr th:only-of-type {\n",
       "        vertical-align: middle;\n",
       "    }\n",
       "\n",
       "    .dataframe tbody tr th {\n",
       "        vertical-align: top;\n",
       "    }\n",
       "\n",
       "    .dataframe thead th {\n",
       "        text-align: right;\n",
       "    }\n",
       "</style>\n",
       "<table border=\"1\" class=\"dataframe\">\n",
       "  <thead>\n",
       "    <tr style=\"text-align: right;\">\n",
       "      <th></th>\n",
       "      <th></th>\n",
       "      <th></th>\n",
       "      <th>total_income</th>\n",
       "    </tr>\n",
       "    <tr>\n",
       "      <th>income_type</th>\n",
       "      <th>age_group</th>\n",
       "      <th>education</th>\n",
       "      <th></th>\n",
       "    </tr>\n",
       "  </thead>\n",
       "  <tbody>\n",
       "    <tr>\n",
       "      <td rowspan=\"5\" valign=\"top\">госслужащий</td>\n",
       "      <td rowspan=\"3\" valign=\"top\">25-</td>\n",
       "      <td>высшее</td>\n",
       "      <td>177064.770041</td>\n",
       "    </tr>\n",
       "    <tr>\n",
       "      <td>неоконченное высшее</td>\n",
       "      <td>130568.327456</td>\n",
       "    </tr>\n",
       "    <tr>\n",
       "      <td>среднее</td>\n",
       "      <td>144045.207619</td>\n",
       "    </tr>\n",
       "    <tr>\n",
       "      <td rowspan=\"2\" valign=\"top\">26-35</td>\n",
       "      <td>высшее</td>\n",
       "      <td>183780.440129</td>\n",
       "    </tr>\n",
       "    <tr>\n",
       "      <td>начальное</td>\n",
       "      <td>191021.140719</td>\n",
       "    </tr>\n",
       "    <tr>\n",
       "      <td>...</td>\n",
       "      <td>...</td>\n",
       "      <td>...</td>\n",
       "      <td>...</td>\n",
       "    </tr>\n",
       "    <tr>\n",
       "      <td rowspan=\"5\" valign=\"top\">сотрудник</td>\n",
       "      <td>56-65</td>\n",
       "      <td>ученая степень</td>\n",
       "      <td>268411.214536</td>\n",
       "    </tr>\n",
       "    <tr>\n",
       "      <td rowspan=\"4\" valign=\"top\">65+</td>\n",
       "      <td>высшее</td>\n",
       "      <td>180572.091228</td>\n",
       "    </tr>\n",
       "    <tr>\n",
       "      <td>начальное</td>\n",
       "      <td>179369.498314</td>\n",
       "    </tr>\n",
       "    <tr>\n",
       "      <td>неоконченное высшее</td>\n",
       "      <td>211207.224592</td>\n",
       "    </tr>\n",
       "    <tr>\n",
       "      <td>среднее</td>\n",
       "      <td>155919.466573</td>\n",
       "    </tr>\n",
       "  </tbody>\n",
       "</table>\n",
       "<p>83 rows × 1 columns</p>\n",
       "</div>"
      ],
      "text/plain": [
       "                                            total_income\n",
       "income_type age_group education                         \n",
       "госслужащий 25-       высшее               177064.770041\n",
       "                      неоконченное высшее  130568.327456\n",
       "                      среднее              144045.207619\n",
       "            26-35     высшее               183780.440129\n",
       "                      начальное            191021.140719\n",
       "...                                                  ...\n",
       "сотрудник   56-65     ученая степень       268411.214536\n",
       "            65+       высшее               180572.091228\n",
       "                      начальное            179369.498314\n",
       "                      неоконченное высшее  211207.224592\n",
       "                      среднее              155919.466573\n",
       "\n",
       "[83 rows x 1 columns]"
      ]
     },
     "metadata": {},
     "output_type": "display_data"
    }
   ],
   "source": [
    "data_pivot_income = data.pivot_table(index=['income_type', 'age_group', 'education'], values='total_income', aggfunc='mean')\n",
    "display(data_pivot_income)"
   ]
  },
  {
   "cell_type": "markdown",
   "metadata": {},
   "source": [
    "Заменим пропуски на соответствующие средние по категориям."
   ]
  },
  {
   "cell_type": "code",
   "execution_count": 28,
   "metadata": {},
   "outputs": [
    {
     "name": "stderr",
     "output_type": "stream",
     "text": [
      "/opt/conda/lib/python3.7/site-packages/ipykernel_launcher.py:8: SettingWithCopyWarning: \n",
      "A value is trying to be set on a copy of a slice from a DataFrame\n",
      "\n",
      "See the caveats in the documentation: http://pandas.pydata.org/pandas-docs/stable/user_guide/indexing.html#returning-a-view-versus-a-copy\n",
      "  \n"
     ]
    },
    {
     "name": "stdout",
     "output_type": "stream",
     "text": [
      "<class 'pandas.core.frame.DataFrame'>\n",
      "RangeIndex: 21244 entries, 0 to 21243\n",
      "Data columns (total 13 columns):\n",
      "children            21244 non-null int64\n",
      "days_employed       21244 non-null object\n",
      "dob_years           21244 non-null int64\n",
      "education           21244 non-null object\n",
      "education_id        21244 non-null int64\n",
      "family_status       21244 non-null object\n",
      "family_status_id    21244 non-null int64\n",
      "gender              21244 non-null object\n",
      "income_type         21244 non-null object\n",
      "debt                21244 non-null int64\n",
      "total_income        21244 non-null object\n",
      "purpose             21244 non-null object\n",
      "age_group           21244 non-null object\n",
      "dtypes: int64(5), object(8)\n",
      "memory usage: 2.1+ MB\n"
     ]
    }
   ],
   "source": [
    "data['total_income'] = data['total_income'].fillna('unknown')\n",
    "\n",
    "for index in range(len(data)):\n",
    "    if data['total_income'][index] == 'unknown':\n",
    "        a = data['income_type'][index]\n",
    "        b = data['age_group'][index]\n",
    "        c = data['education'][index]\n",
    "        data['total_income'][index] = data_pivot_income.loc[a,b,c]\n",
    "data.info()"
   ]
  },
  {
   "cell_type": "markdown",
   "metadata": {},
   "source": [
    "### Замена типа данных"
   ]
  },
  {
   "cell_type": "markdown",
   "metadata": {},
   "source": [
    "Следуя пункту №1, замена типа данных требуется двум переменным: days_employed и total_income. Сменим тип на целочисленный методом astype. Для анализа стажа и общего уровня дохода нам не интересны знаки после запятой, так как они не несут в себе смысла."
   ]
  },
  {
   "cell_type": "code",
   "execution_count": 29,
   "metadata": {},
   "outputs": [
    {
     "name": "stdout",
     "output_type": "stream",
     "text": [
      "<class 'pandas.core.frame.DataFrame'>\n",
      "RangeIndex: 21244 entries, 0 to 21243\n",
      "Data columns (total 13 columns):\n",
      "children            21244 non-null int64\n",
      "days_employed       21244 non-null int64\n",
      "dob_years           21244 non-null int64\n",
      "education           21244 non-null object\n",
      "education_id        21244 non-null int64\n",
      "family_status       21244 non-null object\n",
      "family_status_id    21244 non-null int64\n",
      "gender              21244 non-null object\n",
      "income_type         21244 non-null object\n",
      "debt                21244 non-null int64\n",
      "total_income        21244 non-null int64\n",
      "purpose             21244 non-null object\n",
      "age_group           21244 non-null object\n",
      "dtypes: int64(7), object(6)\n",
      "memory usage: 2.1+ MB\n"
     ]
    }
   ],
   "source": [
    "data['days_employed'] = data['days_employed'].astype('int')\n",
    "data['total_income'] = data['total_income'].astype('int')\n",
    "data.info()"
   ]
  },
  {
   "cell_type": "markdown",
   "metadata": {},
   "source": [
    "### Лемматизация"
   ]
  },
  {
   "cell_type": "code",
   "execution_count": 30,
   "metadata": {},
   "outputs": [
    {
     "name": "stdout",
     "output_type": "stream",
     "text": [
      "purpose\n",
      "автомобили                                472\n",
      "автомобиль                                486\n",
      "высшее образование                        448\n",
      "дополнительное образование                458\n",
      "жилье                                     637\n",
      "заняться высшим образованием              488\n",
      "заняться образованием                     405\n",
      "на покупку автомобиля                     464\n",
      "на покупку подержанного автомобиля        477\n",
      "на покупку своего автомобиля              501\n",
      "на проведение свадьбы                     756\n",
      "недвижимость                              626\n",
      "образование                               442\n",
      "операции с жильем                         645\n",
      "операции с коммерческой недвижимостью     644\n",
      "операции с недвижимостью                  667\n",
      "операции со своей недвижимостью           625\n",
      "покупка жилой недвижимости                602\n",
      "покупка жилья                             638\n",
      "покупка жилья для сдачи                   643\n",
      "покупка жилья для семьи                   634\n",
      "покупка коммерческой недвижимости         657\n",
      "покупка недвижимости                      612\n",
      "покупка своего жилья                      615\n",
      "получение высшего образования             423\n",
      "получение дополнительного образования     442\n",
      "получение образования                     436\n",
      "приобретение автомобиля                   457\n",
      "профильное образование                    434\n",
      "ремонт жилью                              603\n",
      "свадьба                                   777\n",
      "свой автомобиль                           473\n",
      "сделка с автомобилем                      452\n",
      "сделка с подержанным автомобилем          484\n",
      "строительство жилой недвижимости          619\n",
      "строительство недвижимости                616\n",
      "строительство собственной недвижимости    631\n",
      "сыграть свадьбу                           755\n",
      "Name: purpose, dtype: int64\n"
     ]
    }
   ],
   "source": [
    "print(data.groupby('purpose')['purpose'].count())"
   ]
  },
  {
   "cell_type": "markdown",
   "metadata": {},
   "source": [
    "**Вывод**"
   ]
  },
  {
   "cell_type": "markdown",
   "metadata": {},
   "source": [
    "Если просмотреть весь список, то можно заметить, что все цели получения кредита можно свести к четырем основным:  \n",
    "- автомобиль\n",
    "- недвижимость\n",
    "- образование\n",
    "- свадьба  \n",
    "\n",
    "Лемматизируем цели"
   ]
  },
  {
   "cell_type": "code",
   "execution_count": 31,
   "metadata": {},
   "outputs": [
    {
     "name": "stdout",
     "output_type": "stream",
     "text": [
      "0                             [покупка,  , жилье, \\n]\n",
      "1                   [приобретение,  , автомобиль, \\n]\n",
      "2                             [покупка,  , жилье, \\n]\n",
      "3                [дополнительный,  , образование, \\n]\n",
      "4                           [сыграть,  , свадьба, \\n]\n",
      "                             ...                     \n",
      "21239                  [операция,  , с,  , жилье, \\n]\n",
      "21240               [сделка,  , с,  , автомобиль, \\n]\n",
      "21241                              [недвижимость, \\n]\n",
      "21242    [на,  , покупка,  , свой,  , автомобиль, \\n]\n",
      "21243             [на,  , покупка,  , автомобиль, \\n]\n",
      "Name: purpose, Length: 21244, dtype: object\n"
     ]
    }
   ],
   "source": [
    "from pymystem3 import Mystem\n",
    "m = Mystem()\n",
    "\n",
    "def lemmatize_text(text):\n",
    "    return m.lemmatize(text)\n",
    "\n",
    "data['purpose'] = data['purpose'].apply(lemmatize_text)\n",
    "\n",
    "print(data['purpose'])"
   ]
  },
  {
   "cell_type": "markdown",
   "metadata": {},
   "source": [
    "### Категоризация данных"
   ]
  },
  {
   "cell_type": "markdown",
   "metadata": {},
   "source": [
    "Для дальнейшего анализа нам потребуется следующие категории:  \n",
    "- наличие детей\n",
    "- уровни дохода\n",
    "- цели кредита"
   ]
  },
  {
   "cell_type": "markdown",
   "metadata": {},
   "source": [
    "**children**"
   ]
  },
  {
   "cell_type": "code",
   "execution_count": 32,
   "metadata": {},
   "outputs": [
    {
     "name": "stdout",
     "output_type": "stream",
     "text": [
      "children_cat\n",
      "Есть дети     7294\n",
      "Нет детей    13950\n",
      "Name: children_cat, dtype: int64\n"
     ]
    }
   ],
   "source": [
    "def children_cat(value):\n",
    "    if value > 0:\n",
    "        return 'Есть дети'\n",
    "    else:\n",
    "        return 'Нет детей'\n",
    "    \n",
    "data['children_cat'] = data['children'].apply(children_cat)\n",
    "print(data.groupby('children_cat')['children_cat'].count())"
   ]
  },
  {
   "cell_type": "markdown",
   "metadata": {},
   "source": [
    "**income**  \n",
    "Выделим категории по следующему принципу:  \n",
    "1. min - mediana/2: низкий\n",
    "2. mediana/2 - mediana: ниже среднего\n",
    "3. mediana - 3/2mediana: выше среднего\n",
    "4. 3/2mediana - max: высокий\n",
    "\n"
   ]
  },
  {
   "cell_type": "code",
   "execution_count": 33,
   "metadata": {},
   "outputs": [
    {
     "name": "stdout",
     "output_type": "stream",
     "text": [
      "20667 75154.0 150308.0 225462.0 2265604\n",
      "total_income_cat\n",
      "высокий          3904\n",
      "выше среднего    6844\n",
      "ниже среднего    8649\n",
      "низкий           1847\n",
      "Name: total_income_cat, dtype: int64\n"
     ]
    }
   ],
   "source": [
    "minimum = min(data['total_income'])\n",
    "median = data['total_income'].median()\n",
    "med_1 = median/2\n",
    "med_3 = median/2 * 3\n",
    "maximum = max(data['total_income'])\n",
    "\n",
    "print(minimum,med_1,median,med_3,maximum)\n",
    "\n",
    "def income_cat(value):\n",
    "    if (value >= minimum) & (value < med_1):\n",
    "        return 'низкий'\n",
    "    elif (value >= med_1) & (value < median):\n",
    "        return 'ниже среднего'\n",
    "    elif (value >= median) & (value < med_3):\n",
    "        return 'выше среднего'\n",
    "    else:\n",
    "        return 'высокий'\n",
    "    \n",
    "data['total_income_cat'] = data['total_income'].apply(income_cat)\n",
    "print(data.groupby('total_income_cat')['total_income_cat'].count())"
   ]
  },
  {
   "cell_type": "markdown",
   "metadata": {},
   "source": [
    "**purpose**  \n",
    "Распределим лемматизированную цель по 4 категориям: автомобиль, недвижимость, образование, свадьба"
   ]
  },
  {
   "cell_type": "code",
   "execution_count": 34,
   "metadata": {},
   "outputs": [
    {
     "name": "stdout",
     "output_type": "stream",
     "text": [
      "purpose_cat\n",
      "автомобиль       4266\n",
      "недвижимость    10714\n",
      "образование      3976\n",
      "свадьба          2288\n",
      "Name: purpose_cat, dtype: int64\n"
     ]
    }
   ],
   "source": [
    "def purpose_cat(lis):\n",
    "    if 'автомобиль' in lis:\n",
    "        return 'автомобиль'\n",
    "    elif ('недвижимость' in lis) or ('жилье' in lis):\n",
    "        return 'недвижимость'\n",
    "    elif 'образование' in lis:\n",
    "        return 'образование'\n",
    "    else:\n",
    "        return 'свадьба'\n",
    "    \n",
    "data['purpose_cat'] = data['purpose'].apply(purpose_cat)\n",
    "print(data.groupby('purpose_cat')['purpose_cat'].count())"
   ]
  },
  {
   "cell_type": "markdown",
   "metadata": {},
   "source": [
    "## Шаг 3. Ответьте на вопросы"
   ]
  },
  {
   "cell_type": "markdown",
   "metadata": {},
   "source": [
    "- Есть ли зависимость между наличием детей и возвратом кредита в срок?"
   ]
  },
  {
   "cell_type": "code",
   "execution_count": 35,
   "metadata": {},
   "outputs": [
    {
     "name": "stdout",
     "output_type": "stream",
     "text": [
      "children_cat\n",
      "Есть дети    0.091582\n",
      "Нет детей    0.075341\n",
      "Name: debt, dtype: float64\n"
     ]
    }
   ],
   "source": [
    "print(data.groupby('children_cat')['debt'].mean())"
   ]
  },
  {
   "cell_type": "markdown",
   "metadata": {},
   "source": [
    "**Вывод**"
   ]
  },
  {
   "cell_type": "markdown",
   "metadata": {},
   "source": [
    "Средний процент невозврата кредита выше у клиентов с детьми, чем у клиентов без детей (9.1% vs 7.5% соответственно). Отчасти, это может объясняться постоянными непредвиденными расходами на детей, которые могут смещать сроки выплат."
   ]
  },
  {
   "cell_type": "markdown",
   "metadata": {},
   "source": [
    "- Есть ли зависимость между семейным положением и возвратом кредита в срок?"
   ]
  },
  {
   "cell_type": "code",
   "execution_count": 36,
   "metadata": {},
   "outputs": [
    {
     "name": "stdout",
     "output_type": "stream",
     "text": [
      "family_status\n",
      "Не женат / не замужем    0.097736\n",
      "гражданский брак         0.092972\n",
      "женат / замужем          0.075188\n",
      "в разводе                0.072218\n",
      "вдовец / вдова           0.064211\n",
      "Name: debt, dtype: float64\n"
     ]
    }
   ],
   "source": [
    "print(data.groupby('family_status')['debt'].mean().sort_values(ascending=False))"
   ]
  },
  {
   "cell_type": "markdown",
   "metadata": {},
   "source": [
    "**Вывод**"
   ]
  },
  {
   "cell_type": "markdown",
   "metadata": {},
   "source": [
    "Самый высокий процент невозврата у групп со статусом \"не женат\" и \"гражданский брак\". Можно предположить, что в данные группы попадают более молодые люди с менее стабильным заработком, что подтверждается и на данных:"
   ]
  },
  {
   "cell_type": "code",
   "execution_count": 37,
   "metadata": {},
   "outputs": [
    {
     "name": "stdout",
     "output_type": "stream",
     "text": [
      "family_status\n",
      "Не женат / не замужем    38.596838\n",
      "гражданский брак         42.314300\n",
      "женат / замужем          43.735453\n",
      "в разводе                45.961767\n",
      "вдовец / вдова           56.871579\n",
      "Name: dob_years, dtype: float64\n"
     ]
    }
   ],
   "source": [
    "print(data.groupby('family_status')['dob_years'].mean().sort_values())"
   ]
  },
  {
   "cell_type": "markdown",
   "metadata": {},
   "source": [
    "- Есть ли зависимость между уровнем дохода и возвратом кредита в срок?"
   ]
  },
  {
   "cell_type": "code",
   "execution_count": 38,
   "metadata": {},
   "outputs": [
    {
     "name": "stdout",
     "output_type": "stream",
     "text": [
      "total_income_cat\n",
      "ниже среднего    0.085443\n",
      "выше среднего    0.083869\n",
      "низкий           0.072009\n",
      "высокий          0.069928\n",
      "Name: debt, dtype: float64\n"
     ]
    }
   ],
   "source": [
    "print(data.groupby('total_income_cat')['debt'].mean().sort_values(ascending=False))"
   ]
  },
  {
   "cell_type": "markdown",
   "metadata": {},
   "source": [
    "**Вывод**"
   ]
  },
  {
   "cell_type": "markdown",
   "metadata": {},
   "source": [
    "Процент невозврата наиболее высокий у слоев населения со средним доходом, при этом дисциплина выплат у клиентов с низким и высоким уровнем на порядок выше.  Возможно, это связано с тем, что  \n",
    "- для обеспеченных клиентов выплатить кредит в срок не проблема\n",
    "- для малообеспеченных обязательства перед банком составляют важную часть их жизни, в том числе влияя в дальнейшем на кредитную историю, которой им лучше не пренебрегать."
   ]
  },
  {
   "cell_type": "markdown",
   "metadata": {},
   "source": [
    "- Как разные цели кредита влияют на его возврат в срок?"
   ]
  },
  {
   "cell_type": "code",
   "execution_count": 39,
   "metadata": {},
   "outputs": [
    {
     "name": "stdout",
     "output_type": "stream",
     "text": [
      "purpose_cat\n",
      "автомобиль      0.092827\n",
      "образование     0.092304\n",
      "свадьба         0.078671\n",
      "недвижимость    0.072429\n",
      "Name: debt, dtype: float64\n"
     ]
    }
   ],
   "source": [
    "print(data.groupby('purpose_cat')['debt'].mean().sort_values(ascending=False))"
   ]
  },
  {
   "cell_type": "markdown",
   "metadata": {},
   "source": [
    "**Вывод**"
   ]
  },
  {
   "cell_type": "markdown",
   "metadata": {},
   "source": [
    "Наиболее уязвимые категории с точки зрения невозврата: автомобиль и образование, при этом более \"фундаментальные\" для людей цели кредитования в виде недвижимости и свадьбы несут в себе меньшие риски."
   ]
  },
  {
   "cell_type": "markdown",
   "metadata": {},
   "source": [
    "## Шаг 4. Общий вывод"
   ]
  },
  {
   "cell_type": "markdown",
   "metadata": {},
   "source": [
    "Исходя из получившихся результатов, можно сделать следующие выводы:\n",
    "- чем более фундаментальна цель кредитования, тем ниже % невозврата\n",
    "- клиенты, находящиеся в браке или прошедшие его, более дисциплинированы\n",
    "- наличие детей негативно влияет на оперативность возвращения кредита\n",
    "- клиенты со средним уровнем заработка - наименее дисциплинированные"
   ]
  },
  {
   "cell_type": "markdown",
   "metadata": {},
   "source": [
    "## Чек-лист готовности проекта\n",
    "\n",
    "Поставьте 'x' в выполненных пунктах. Далее нажмите Shift+Enter."
   ]
  },
  {
   "cell_type": "markdown",
   "metadata": {},
   "source": [
    "- [x]  открыт файл;\n",
    "- [x]  файл изучен;\n",
    "- [x]  определены пропущенные значения;\n",
    "- [x]  заполнены пропущенные значения;\n",
    "- [x]  есть пояснение, какие пропущенные значения обнаружены;\n",
    "- [x]  описаны возможные причины появления пропусков в данных;\n",
    "- [x]  объяснено, по какому принципу заполнены пропуски;\n",
    "- [x]  заменен вещественный тип данных на целочисленный;\n",
    "- [x]  есть пояснение, какой метод используется для изменения типа данных и почему;\n",
    "- [x]  удалены дубликаты;\n",
    "- [x]  есть пояснение, какой метод используется для поиска и удаления дубликатов;\n",
    "- [x]  описаны возможные причины появления дубликатов в данных;\n",
    "- [x]  выделены леммы в значениях столбца с целями получения кредита;\n",
    "- [x]  описан процесс лемматизации;\n",
    "- [x]  данные категоризированы;\n",
    "- [x]  есть объяснение принципа категоризации данных;\n",
    "- [x]  есть ответ на вопрос: \"Есть ли зависимость между наличием детей и возвратом кредита в срок?\";\n",
    "- [x]  есть ответ на вопрос: \"Есть ли зависимость между семейным положением и возвратом кредита в срок?\";\n",
    "- [x]  есть ответ на вопрос: \"Есть ли зависимость между уровнем дохода и возвратом кредита в срок?\";\n",
    "- [x]  есть ответ на вопрос: \"Как разные цели кредита влияют на его возврат в срок?\";\n",
    "- [x]  в каждом этапе есть выводы;\n",
    "- [x]  есть общий вывод."
   ]
  },
  {
   "cell_type": "code",
   "execution_count": null,
   "metadata": {},
   "outputs": [],
   "source": []
  }
 ],
 "metadata": {
  "ExecuteTimeLog": [
   {
    "duration": 693,
    "start_time": "2021-12-13T13:25:24.632Z"
   },
   {
    "duration": 58,
    "start_time": "2021-12-13T13:25:55.255Z"
   },
   {
    "duration": 85,
    "start_time": "2021-12-13T13:30:09.969Z"
   },
   {
    "duration": 56,
    "start_time": "2021-12-13T13:31:06.992Z"
   },
   {
    "duration": 67,
    "start_time": "2021-12-13T13:41:18.089Z"
   },
   {
    "duration": 72,
    "start_time": "2021-12-13T13:41:56.627Z"
   },
   {
    "duration": 68,
    "start_time": "2021-12-13T13:42:10.739Z"
   },
   {
    "duration": 56,
    "start_time": "2021-12-13T13:43:07.579Z"
   },
   {
    "duration": 3,
    "start_time": "2021-12-13T13:56:45.761Z"
   },
   {
    "duration": 4,
    "start_time": "2021-12-13T13:57:04.694Z"
   },
   {
    "duration": 16,
    "start_time": "2021-12-13T13:58:45.672Z"
   },
   {
    "duration": -53,
    "start_time": "2021-12-13T13:59:27.467Z"
   },
   {
    "duration": 7,
    "start_time": "2021-12-13T13:59:37.784Z"
   },
   {
    "duration": 129,
    "start_time": "2021-12-13T14:02:47.018Z"
   },
   {
    "duration": 283,
    "start_time": "2021-12-13T14:04:18.434Z"
   },
   {
    "duration": 5,
    "start_time": "2021-12-13T14:04:28.025Z"
   },
   {
    "duration": 48,
    "start_time": "2021-12-13T14:05:56.323Z"
   },
   {
    "duration": 29,
    "start_time": "2021-12-13T14:06:12.490Z"
   },
   {
    "duration": 285,
    "start_time": "2021-12-13T14:06:53.059Z"
   },
   {
    "duration": 277,
    "start_time": "2021-12-13T14:07:00.063Z"
   },
   {
    "duration": 28,
    "start_time": "2021-12-13T14:07:10.884Z"
   },
   {
    "duration": 7,
    "start_time": "2021-12-13T14:08:05.627Z"
   },
   {
    "duration": 37,
    "start_time": "2021-12-13T14:08:20.171Z"
   },
   {
    "duration": 30,
    "start_time": "2021-12-13T14:08:32.121Z"
   },
   {
    "duration": 2731,
    "start_time": "2021-12-13T14:09:05.804Z"
   },
   {
    "duration": 2769,
    "start_time": "2021-12-13T14:09:26.283Z"
   },
   {
    "duration": 2185,
    "start_time": "2021-12-13T14:10:48.483Z"
   },
   {
    "duration": 2160,
    "start_time": "2021-12-13T14:11:23.133Z"
   },
   {
    "duration": 1048,
    "start_time": "2021-12-13T14:13:29.124Z"
   },
   {
    "duration": 1071,
    "start_time": "2021-12-13T14:14:42.590Z"
   },
   {
    "duration": 2550,
    "start_time": "2021-12-13T14:15:30.271Z"
   },
   {
    "duration": 881,
    "start_time": "2021-12-13T14:16:31.790Z"
   },
   {
    "duration": 2705,
    "start_time": "2021-12-13T14:17:03.079Z"
   },
   {
    "duration": 2746,
    "start_time": "2021-12-13T14:19:34.302Z"
   },
   {
    "duration": 112,
    "start_time": "2021-12-13T14:19:49.303Z"
   },
   {
    "duration": 2821,
    "start_time": "2021-12-13T14:20:07.703Z"
   },
   {
    "duration": 2512,
    "start_time": "2021-12-13T14:24:51.864Z"
   },
   {
    "duration": 581,
    "start_time": "2021-12-13T14:26:31.247Z"
   },
   {
    "duration": 5860,
    "start_time": "2021-12-13T14:27:28.103Z"
   },
   {
    "duration": 2324,
    "start_time": "2021-12-13T14:28:00.026Z"
   },
   {
    "duration": 906,
    "start_time": "2021-12-13T14:28:56.457Z"
   },
   {
    "duration": 2555,
    "start_time": "2021-12-13T14:30:21.555Z"
   },
   {
    "duration": 2464,
    "start_time": "2021-12-13T14:30:45.280Z"
   },
   {
    "duration": 2394,
    "start_time": "2021-12-13T14:31:19.170Z"
   },
   {
    "duration": 2460,
    "start_time": "2021-12-13T14:31:28.106Z"
   },
   {
    "duration": 1046,
    "start_time": "2021-12-13T14:31:53.089Z"
   },
   {
    "duration": 2539,
    "start_time": "2021-12-13T14:32:05.997Z"
   },
   {
    "duration": 2586,
    "start_time": "2021-12-13T14:32:23.140Z"
   },
   {
    "duration": 2484,
    "start_time": "2021-12-13T14:54:03.681Z"
   },
   {
    "duration": 4495,
    "start_time": "2021-12-13T15:01:33.060Z"
   },
   {
    "duration": 513,
    "start_time": "2021-12-13T15:03:04.251Z"
   },
   {
    "duration": 517,
    "start_time": "2021-12-13T15:03:45.708Z"
   },
   {
    "duration": 86,
    "start_time": "2021-12-13T15:25:11.936Z"
   },
   {
    "duration": 63,
    "start_time": "2021-12-13T15:44:15.343Z"
   },
   {
    "duration": 12,
    "start_time": "2021-12-13T15:44:27.972Z"
   },
   {
    "duration": 62,
    "start_time": "2021-12-13T15:44:36.586Z"
   },
   {
    "duration": 2069,
    "start_time": "2021-12-13T15:44:36.650Z"
   },
   {
    "duration": 26,
    "start_time": "2021-12-13T15:44:38.721Z"
   },
   {
    "duration": 20,
    "start_time": "2021-12-13T15:45:17.257Z"
   },
   {
    "duration": 88,
    "start_time": "2021-12-13T15:45:43.934Z"
   },
   {
    "duration": 11,
    "start_time": "2021-12-13T15:45:54.318Z"
   },
   {
    "duration": 9,
    "start_time": "2021-12-13T15:48:57.552Z"
   },
   {
    "duration": 10,
    "start_time": "2021-12-13T15:49:09.201Z"
   },
   {
    "duration": 412,
    "start_time": "2021-12-13T15:49:47.809Z"
   },
   {
    "duration": 7,
    "start_time": "2021-12-13T15:50:03.729Z"
   },
   {
    "duration": 11,
    "start_time": "2021-12-13T15:59:26.901Z"
   },
   {
    "duration": 7,
    "start_time": "2021-12-13T15:59:39.051Z"
   },
   {
    "duration": 283,
    "start_time": "2021-12-13T16:02:13.053Z"
   },
   {
    "duration": 12,
    "start_time": "2021-12-13T16:03:12.677Z"
   },
   {
    "duration": 2739,
    "start_time": "2021-12-13T16:03:33.422Z"
   },
   {
    "duration": 2133,
    "start_time": "2021-12-13T16:04:14.171Z"
   },
   {
    "duration": 1991,
    "start_time": "2021-12-13T16:04:46.978Z"
   },
   {
    "duration": 10,
    "start_time": "2021-12-13T16:05:46.514Z"
   },
   {
    "duration": 14,
    "start_time": "2021-12-13T16:06:04.030Z"
   },
   {
    "duration": 8,
    "start_time": "2021-12-13T16:06:32.405Z"
   },
   {
    "duration": 8,
    "start_time": "2021-12-13T16:06:38.542Z"
   },
   {
    "duration": 8,
    "start_time": "2021-12-13T16:06:51.990Z"
   },
   {
    "duration": 9,
    "start_time": "2021-12-13T16:08:19.471Z"
   },
   {
    "duration": 6,
    "start_time": "2021-12-13T16:08:28.510Z"
   },
   {
    "duration": 8,
    "start_time": "2021-12-13T16:08:40.335Z"
   },
   {
    "duration": 373,
    "start_time": "2021-12-13T16:09:34.543Z"
   },
   {
    "duration": 94,
    "start_time": "2021-12-13T16:09:52.271Z"
   },
   {
    "duration": 297,
    "start_time": "2021-12-13T16:10:02.183Z"
   },
   {
    "duration": 573,
    "start_time": "2021-12-13T16:11:09.441Z"
   },
   {
    "duration": 881,
    "start_time": "2021-12-13T16:11:48.607Z"
   },
   {
    "duration": 778,
    "start_time": "2021-12-13T16:11:54.136Z"
   },
   {
    "duration": 4,
    "start_time": "2021-12-13T16:13:10.664Z"
   },
   {
    "duration": 2770,
    "start_time": "2021-12-13T16:14:46.506Z"
   },
   {
    "duration": 9,
    "start_time": "2021-12-13T16:15:51.640Z"
   },
   {
    "duration": 20,
    "start_time": "2021-12-13T16:19:05.827Z"
   },
   {
    "duration": 10,
    "start_time": "2021-12-13T16:19:11.826Z"
   },
   {
    "duration": 31,
    "start_time": "2021-12-13T16:19:24.042Z"
   },
   {
    "duration": 10,
    "start_time": "2021-12-13T16:19:37.651Z"
   },
   {
    "duration": 10,
    "start_time": "2021-12-13T16:19:46.589Z"
   },
   {
    "duration": 23,
    "start_time": "2021-12-13T16:19:52.539Z"
   },
   {
    "duration": 24,
    "start_time": "2021-12-13T16:19:58.533Z"
   },
   {
    "duration": 2,
    "start_time": "2021-12-13T16:20:07.716Z"
   },
   {
    "duration": 10,
    "start_time": "2021-12-13T16:20:10.649Z"
   },
   {
    "duration": 15,
    "start_time": "2021-12-13T16:20:17.397Z"
   },
   {
    "duration": 11,
    "start_time": "2021-12-13T16:20:21.330Z"
   },
   {
    "duration": 15,
    "start_time": "2021-12-13T16:21:29.070Z"
   },
   {
    "duration": 13,
    "start_time": "2021-12-13T16:23:16.123Z"
   },
   {
    "duration": 282,
    "start_time": "2021-12-13T16:23:48.412Z"
   },
   {
    "duration": 11,
    "start_time": "2021-12-13T16:24:03.166Z"
   },
   {
    "duration": 9,
    "start_time": "2021-12-13T16:28:33.216Z"
   },
   {
    "duration": 59,
    "start_time": "2021-12-13T16:28:55.111Z"
   },
   {
    "duration": 1992,
    "start_time": "2021-12-13T16:28:55.172Z"
   },
   {
    "duration": 14,
    "start_time": "2021-12-13T16:28:57.167Z"
   },
   {
    "duration": 9,
    "start_time": "2021-12-13T16:28:57.183Z"
   },
   {
    "duration": 4,
    "start_time": "2021-12-13T16:28:57.193Z"
   },
   {
    "duration": 6,
    "start_time": "2021-12-13T16:29:54.287Z"
   },
   {
    "duration": 10,
    "start_time": "2021-12-13T16:30:28.967Z"
   },
   {
    "duration": 6,
    "start_time": "2021-12-13T16:30:48.975Z"
   },
   {
    "duration": 59,
    "start_time": "2021-12-13T16:31:47.665Z"
   },
   {
    "duration": 2139,
    "start_time": "2021-12-13T16:31:47.726Z"
   },
   {
    "duration": 14,
    "start_time": "2021-12-13T16:31:49.867Z"
   },
   {
    "duration": 8,
    "start_time": "2021-12-13T16:31:59.511Z"
   },
   {
    "duration": 16,
    "start_time": "2021-12-13T16:32:11.791Z"
   },
   {
    "duration": 6,
    "start_time": "2021-12-13T16:32:32.470Z"
   },
   {
    "duration": 8,
    "start_time": "2021-12-13T16:33:25.912Z"
   },
   {
    "duration": 2730,
    "start_time": "2021-12-13T16:33:46.768Z"
   },
   {
    "duration": 2651,
    "start_time": "2021-12-13T16:34:02.638Z"
   },
   {
    "duration": 672,
    "start_time": "2021-12-13T16:34:19.025Z"
   },
   {
    "duration": 1095,
    "start_time": "2021-12-13T16:34:24.640Z"
   },
   {
    "duration": 17,
    "start_time": "2021-12-13T16:34:33.048Z"
   },
   {
    "duration": 267,
    "start_time": "2021-12-13T16:35:39.107Z"
   },
   {
    "duration": 277,
    "start_time": "2021-12-13T16:36:03.320Z"
   },
   {
    "duration": 280,
    "start_time": "2021-12-13T16:36:09.985Z"
   },
   {
    "duration": 3,
    "start_time": "2021-12-13T16:36:13.486Z"
   },
   {
    "duration": 851,
    "start_time": "2021-12-13T16:36:28.394Z"
   },
   {
    "duration": 719,
    "start_time": "2021-12-13T16:36:35.665Z"
   },
   {
    "duration": 4,
    "start_time": "2021-12-13T16:36:46.217Z"
   },
   {
    "duration": 280,
    "start_time": "2021-12-13T16:37:00.026Z"
   },
   {
    "duration": 6,
    "start_time": "2021-12-13T16:40:17.986Z"
   },
   {
    "duration": 6,
    "start_time": "2021-12-13T16:40:29.409Z"
   },
   {
    "duration": 5,
    "start_time": "2021-12-13T16:40:34.210Z"
   },
   {
    "duration": 268,
    "start_time": "2021-12-13T16:41:34.395Z"
   },
   {
    "duration": 420,
    "start_time": "2021-12-13T16:42:13.515Z"
   },
   {
    "duration": 348,
    "start_time": "2021-12-13T16:42:22.652Z"
   },
   {
    "duration": 2705,
    "start_time": "2021-12-13T16:43:06.150Z"
   },
   {
    "duration": 3378,
    "start_time": "2021-12-13T16:43:28.681Z"
   },
   {
    "duration": 1432,
    "start_time": "2021-12-13T16:44:11.690Z"
   },
   {
    "duration": 207,
    "start_time": "2021-12-13T16:44:39.955Z"
   },
   {
    "duration": 208,
    "start_time": "2021-12-13T16:45:20.653Z"
   },
   {
    "duration": 59,
    "start_time": "2021-12-13T16:45:37.602Z"
   },
   {
    "duration": 2113,
    "start_time": "2021-12-13T16:45:37.663Z"
   },
   {
    "duration": 18,
    "start_time": "2021-12-13T16:45:39.778Z"
   },
   {
    "duration": 8,
    "start_time": "2021-12-13T16:45:39.798Z"
   },
   {
    "duration": 1478,
    "start_time": "2021-12-13T16:45:43.644Z"
   },
   {
    "duration": 321,
    "start_time": "2021-12-13T16:46:19.415Z"
   },
   {
    "duration": 5,
    "start_time": "2021-12-13T16:48:31.990Z"
   },
   {
    "duration": 86,
    "start_time": "2021-12-13T16:51:41.720Z"
   },
   {
    "duration": 93,
    "start_time": "2021-12-13T16:51:59.608Z"
   },
   {
    "duration": 411,
    "start_time": "2021-12-13T16:52:23.872Z"
   },
   {
    "duration": 5,
    "start_time": "2021-12-13T16:53:39.033Z"
   },
   {
    "duration": 196,
    "start_time": "2021-12-13T16:54:03.961Z"
   },
   {
    "duration": 6,
    "start_time": "2021-12-13T16:54:28.435Z"
   },
   {
    "duration": 96,
    "start_time": "2021-12-13T16:58:41.610Z"
   },
   {
    "duration": 106,
    "start_time": "2021-12-13T16:58:50.842Z"
   },
   {
    "duration": 6,
    "start_time": "2021-12-13T16:58:57.049Z"
   },
   {
    "duration": 5,
    "start_time": "2021-12-13T16:59:02.153Z"
   },
   {
    "duration": 7,
    "start_time": "2021-12-13T16:59:49.321Z"
   },
   {
    "duration": 15,
    "start_time": "2021-12-13T17:00:37.938Z"
   },
   {
    "duration": 10,
    "start_time": "2021-12-13T17:01:31.874Z"
   },
   {
    "duration": 13,
    "start_time": "2021-12-13T17:01:52.612Z"
   },
   {
    "duration": 8,
    "start_time": "2021-12-13T17:05:40.420Z"
   },
   {
    "duration": 11,
    "start_time": "2021-12-13T17:07:52.052Z"
   },
   {
    "duration": 96,
    "start_time": "2021-12-13T17:12:33.201Z"
   },
   {
    "duration": 87,
    "start_time": "2021-12-13T17:12:36.041Z"
   },
   {
    "duration": 466,
    "start_time": "2021-12-13T17:15:38.402Z"
   },
   {
    "duration": 483,
    "start_time": "2021-12-13T17:15:49.510Z"
   },
   {
    "duration": 545,
    "start_time": "2021-12-13T17:15:51.275Z"
   },
   {
    "duration": 13,
    "start_time": "2021-12-13T17:16:01.698Z"
   },
   {
    "duration": 58,
    "start_time": "2021-12-13T17:16:24.411Z"
   },
   {
    "duration": 2145,
    "start_time": "2021-12-13T17:16:24.471Z"
   },
   {
    "duration": 26,
    "start_time": "2021-12-13T17:16:26.619Z"
   },
   {
    "duration": 7,
    "start_time": "2021-12-13T17:16:26.647Z"
   },
   {
    "duration": 1370,
    "start_time": "2021-12-13T17:16:26.655Z"
   },
   {
    "duration": 22,
    "start_time": "2021-12-13T17:16:28.026Z"
   },
   {
    "duration": 10,
    "start_time": "2021-12-13T17:16:28.049Z"
   },
   {
    "duration": 532,
    "start_time": "2021-12-13T17:16:33.355Z"
   },
   {
    "duration": 7,
    "start_time": "2021-12-13T17:17:43.715Z"
   },
   {
    "duration": 278,
    "start_time": "2021-12-13T17:21:04.188Z"
   },
   {
    "duration": 261,
    "start_time": "2021-12-13T17:23:01.098Z"
   },
   {
    "duration": 278,
    "start_time": "2021-12-13T17:23:20.130Z"
   },
   {
    "duration": 265,
    "start_time": "2021-12-13T17:23:32.251Z"
   },
   {
    "duration": 297,
    "start_time": "2021-12-13T17:23:39.884Z"
   },
   {
    "duration": 281,
    "start_time": "2021-12-13T17:24:56.914Z"
   },
   {
    "duration": 11,
    "start_time": "2021-12-13T17:25:33.227Z"
   },
   {
    "duration": 10,
    "start_time": "2021-12-13T17:25:40.083Z"
   },
   {
    "duration": 18,
    "start_time": "2021-12-13T17:25:51.028Z"
   },
   {
    "duration": 11,
    "start_time": "2021-12-13T17:26:00.922Z"
   },
   {
    "duration": 298,
    "start_time": "2021-12-13T17:28:48.382Z"
   },
   {
    "duration": 145,
    "start_time": "2021-12-13T17:29:04.916Z"
   },
   {
    "duration": 267,
    "start_time": "2021-12-13T17:29:14.084Z"
   },
   {
    "duration": 284,
    "start_time": "2021-12-13T17:29:18.188Z"
   },
   {
    "duration": 6,
    "start_time": "2021-12-13T17:29:25.180Z"
   },
   {
    "duration": 6,
    "start_time": "2021-12-13T17:37:29.624Z"
   },
   {
    "duration": 6,
    "start_time": "2021-12-13T17:37:42.920Z"
   },
   {
    "duration": 6,
    "start_time": "2021-12-13T17:37:55.529Z"
   },
   {
    "duration": 260,
    "start_time": "2021-12-13T17:38:49.363Z"
   },
   {
    "duration": 5,
    "start_time": "2021-12-13T17:39:12.137Z"
   },
   {
    "duration": 15,
    "start_time": "2021-12-13T17:40:51.744Z"
   },
   {
    "duration": 10,
    "start_time": "2021-12-13T17:41:22.513Z"
   },
   {
    "duration": -82,
    "start_time": "2021-12-13T17:45:25.167Z"
   },
   {
    "duration": 7050,
    "start_time": "2021-12-13T17:45:32.126Z"
   },
   {
    "duration": 12,
    "start_time": "2021-12-13T17:45:53.938Z"
   },
   {
    "duration": 272,
    "start_time": "2021-12-13T17:52:22.693Z"
   },
   {
    "duration": 274,
    "start_time": "2021-12-13T17:52:59.001Z"
   },
   {
    "duration": 342,
    "start_time": "2021-12-13T17:53:41.549Z"
   },
   {
    "duration": 8475,
    "start_time": "2021-12-13T17:56:26.318Z"
   },
   {
    "duration": 14,
    "start_time": "2021-12-13T18:01:58.753Z"
   },
   {
    "duration": 5818,
    "start_time": "2021-12-13T18:02:11.561Z"
   },
   {
    "duration": 4670,
    "start_time": "2021-12-13T18:02:44.315Z"
   },
   {
    "duration": 4170,
    "start_time": "2021-12-13T18:03:02.603Z"
   },
   {
    "duration": 59,
    "start_time": "2021-12-13T18:03:17.816Z"
   },
   {
    "duration": 2085,
    "start_time": "2021-12-13T18:03:17.877Z"
   },
   {
    "duration": 14,
    "start_time": "2021-12-13T18:03:19.964Z"
   },
   {
    "duration": 6,
    "start_time": "2021-12-13T18:03:19.980Z"
   },
   {
    "duration": 1415,
    "start_time": "2021-12-13T18:03:19.987Z"
   },
   {
    "duration": 11,
    "start_time": "2021-12-13T18:03:21.404Z"
   },
   {
    "duration": 10,
    "start_time": "2021-12-13T18:03:21.417Z"
   },
   {
    "duration": 539,
    "start_time": "2021-12-13T18:03:21.444Z"
   },
   {
    "duration": 7,
    "start_time": "2021-12-13T18:03:21.984Z"
   },
   {
    "duration": 11,
    "start_time": "2021-12-13T18:03:21.993Z"
   },
   {
    "duration": 6,
    "start_time": "2021-12-13T18:03:22.006Z"
   },
   {
    "duration": 35,
    "start_time": "2021-12-13T18:03:22.014Z"
   },
   {
    "duration": 14,
    "start_time": "2021-12-13T18:03:22.051Z"
   },
   {
    "duration": 7811,
    "start_time": "2021-12-13T18:03:25.499Z"
   },
   {
    "duration": 4599,
    "start_time": "2021-12-13T18:04:44.012Z"
   },
   {
    "duration": 374,
    "start_time": "2021-12-13T18:05:31.293Z"
   },
   {
    "duration": 292,
    "start_time": "2021-12-13T18:05:39.285Z"
   },
   {
    "duration": 265,
    "start_time": "2021-12-13T18:06:14.062Z"
   },
   {
    "duration": 16,
    "start_time": "2021-12-13T18:06:34.966Z"
   },
   {
    "duration": 65,
    "start_time": "2021-12-13T18:12:57.987Z"
   },
   {
    "duration": 2195,
    "start_time": "2021-12-13T18:12:58.054Z"
   },
   {
    "duration": 18,
    "start_time": "2021-12-13T18:13:00.253Z"
   },
   {
    "duration": 7,
    "start_time": "2021-12-13T18:13:00.273Z"
   },
   {
    "duration": 1400,
    "start_time": "2021-12-13T18:13:00.281Z"
   },
   {
    "duration": 11,
    "start_time": "2021-12-13T18:13:01.683Z"
   },
   {
    "duration": 26,
    "start_time": "2021-12-13T18:13:01.695Z"
   },
   {
    "duration": 514,
    "start_time": "2021-12-13T18:13:01.725Z"
   },
   {
    "duration": 7,
    "start_time": "2021-12-13T18:13:02.242Z"
   },
   {
    "duration": 12,
    "start_time": "2021-12-13T18:13:02.252Z"
   },
   {
    "duration": 6,
    "start_time": "2021-12-13T18:13:02.266Z"
   },
   {
    "duration": 10,
    "start_time": "2021-12-13T18:13:02.274Z"
   },
   {
    "duration": 15,
    "start_time": "2021-12-13T18:13:02.286Z"
   },
   {
    "duration": 4508,
    "start_time": "2021-12-13T18:13:10.577Z"
   },
   {
    "duration": 4235,
    "start_time": "2021-12-13T18:13:44.673Z"
   },
   {
    "duration": 273,
    "start_time": "2021-12-13T18:14:34.890Z"
   },
   {
    "duration": 305,
    "start_time": "2021-12-13T18:14:46.237Z"
   },
   {
    "duration": 273,
    "start_time": "2021-12-13T18:15:03.953Z"
   },
   {
    "duration": 433,
    "start_time": "2021-12-14T03:03:47.165Z"
   },
   {
    "duration": 383,
    "start_time": "2021-12-14T03:03:52.742Z"
   },
   {
    "duration": 1507,
    "start_time": "2021-12-14T03:04:01.889Z"
   },
   {
    "duration": 4485,
    "start_time": "2021-12-14T03:04:03.398Z"
   },
   {
    "duration": 23,
    "start_time": "2021-12-14T03:04:07.886Z"
   },
   {
    "duration": 10,
    "start_time": "2021-12-14T03:04:07.912Z"
   },
   {
    "duration": 2681,
    "start_time": "2021-12-14T03:04:07.925Z"
   },
   {
    "duration": 17,
    "start_time": "2021-12-14T03:04:10.609Z"
   },
   {
    "duration": 38,
    "start_time": "2021-12-14T03:04:10.629Z"
   },
   {
    "duration": 1005,
    "start_time": "2021-12-14T03:04:10.671Z"
   },
   {
    "duration": 11,
    "start_time": "2021-12-14T03:04:11.679Z"
   },
   {
    "duration": 17,
    "start_time": "2021-12-14T03:04:11.692Z"
   },
   {
    "duration": 48,
    "start_time": "2021-12-14T03:04:11.712Z"
   },
   {
    "duration": 14,
    "start_time": "2021-12-14T03:04:11.763Z"
   },
   {
    "duration": 21,
    "start_time": "2021-12-14T03:04:11.780Z"
   },
   {
    "duration": 5955,
    "start_time": "2021-12-14T03:04:11.804Z"
   },
   {
    "duration": 554,
    "start_time": "2021-12-14T03:06:45.074Z"
   },
   {
    "duration": 6,
    "start_time": "2021-12-14T03:07:59.520Z"
   },
   {
    "duration": 72,
    "start_time": "2021-12-14T03:16:47.907Z"
   },
   {
    "duration": 4419,
    "start_time": "2021-12-14T03:16:47.982Z"
   },
   {
    "duration": 18,
    "start_time": "2021-12-14T03:16:52.404Z"
   },
   {
    "duration": 8,
    "start_time": "2021-12-14T03:16:52.425Z"
   },
   {
    "duration": 2604,
    "start_time": "2021-12-14T03:16:52.435Z"
   },
   {
    "duration": 24,
    "start_time": "2021-12-14T03:16:55.041Z"
   },
   {
    "duration": 13,
    "start_time": "2021-12-14T03:16:55.067Z"
   },
   {
    "duration": 998,
    "start_time": "2021-12-14T03:16:55.082Z"
   },
   {
    "duration": 9,
    "start_time": "2021-12-14T03:16:56.083Z"
   },
   {
    "duration": 15,
    "start_time": "2021-12-14T03:16:56.095Z"
   },
   {
    "duration": 9,
    "start_time": "2021-12-14T03:16:56.113Z"
   },
   {
    "duration": 15,
    "start_time": "2021-12-14T03:16:56.160Z"
   },
   {
    "duration": 21,
    "start_time": "2021-12-14T03:16:56.177Z"
   },
   {
    "duration": 6,
    "start_time": "2021-12-14T03:16:56.201Z"
   },
   {
    "duration": 31,
    "start_time": "2021-12-14T03:30:35.593Z"
   },
   {
    "duration": 22,
    "start_time": "2021-12-14T03:34:32.538Z"
   },
   {
    "duration": 24,
    "start_time": "2021-12-14T03:43:30.875Z"
   },
   {
    "duration": 21,
    "start_time": "2021-12-14T03:43:36.283Z"
   },
   {
    "duration": 366,
    "start_time": "2021-12-14T03:44:51.086Z"
   },
   {
    "duration": 21,
    "start_time": "2021-12-14T03:45:05.141Z"
   },
   {
    "duration": 8,
    "start_time": "2021-12-14T03:45:56.878Z"
   },
   {
    "duration": 1412,
    "start_time": "2021-12-14T03:46:44.097Z"
   },
   {
    "duration": 21,
    "start_time": "2021-12-14T03:47:08.680Z"
   },
   {
    "duration": 386,
    "start_time": "2021-12-14T03:49:46.743Z"
   },
   {
    "duration": 380,
    "start_time": "2021-12-14T03:49:52.857Z"
   },
   {
    "duration": 23,
    "start_time": "2021-12-14T03:50:01.865Z"
   },
   {
    "duration": 38,
    "start_time": "2021-12-14T03:53:48.986Z"
   },
   {
    "duration": 43,
    "start_time": "2021-12-14T03:54:47.905Z"
   },
   {
    "duration": 38,
    "start_time": "2021-12-14T03:55:25.387Z"
   },
   {
    "duration": 22,
    "start_time": "2021-12-14T03:56:01.396Z"
   },
   {
    "duration": 21,
    "start_time": "2021-12-14T04:00:24.059Z"
   },
   {
    "duration": 21,
    "start_time": "2021-12-14T04:00:44.103Z"
   },
   {
    "duration": 22,
    "start_time": "2021-12-14T04:01:24.020Z"
   },
   {
    "duration": 31,
    "start_time": "2021-12-14T04:05:04.343Z"
   },
   {
    "duration": 443,
    "start_time": "2021-12-14T04:07:33.365Z"
   },
   {
    "duration": 8989,
    "start_time": "2021-12-14T04:07:49.713Z"
   },
   {
    "duration": 9692,
    "start_time": "2021-12-14T04:08:23.751Z"
   },
   {
    "duration": 9989,
    "start_time": "2021-12-14T04:09:54.169Z"
   },
   {
    "duration": 9523,
    "start_time": "2021-12-14T04:12:10.442Z"
   },
   {
    "duration": 40,
    "start_time": "2021-12-14T04:13:45.427Z"
   },
   {
    "duration": 385,
    "start_time": "2021-12-14T04:14:09.610Z"
   },
   {
    "duration": 121,
    "start_time": "2021-12-14T04:15:36.338Z"
   },
   {
    "duration": 432,
    "start_time": "2021-12-14T04:15:42.394Z"
   },
   {
    "duration": 2524,
    "start_time": "2021-12-14T04:16:40.632Z"
   },
   {
    "duration": 430,
    "start_time": "2021-12-14T04:20:36.981Z"
   },
   {
    "duration": 414,
    "start_time": "2021-12-14T04:21:11.682Z"
   },
   {
    "duration": 419,
    "start_time": "2021-12-14T04:22:59.915Z"
   },
   {
    "duration": 390,
    "start_time": "2021-12-14T04:32:09.916Z"
   },
   {
    "duration": 401,
    "start_time": "2021-12-14T04:32:19.980Z"
   },
   {
    "duration": 424,
    "start_time": "2021-12-14T04:35:29.576Z"
   },
   {
    "duration": 38,
    "start_time": "2021-12-14T04:37:44.632Z"
   },
   {
    "duration": 655,
    "start_time": "2021-12-14T04:39:39.786Z"
   },
   {
    "duration": 47,
    "start_time": "2021-12-14T04:39:50.840Z"
   },
   {
    "duration": 45,
    "start_time": "2021-12-14T04:40:23.102Z"
   },
   {
    "duration": 2557,
    "start_time": "2021-12-14T04:45:14.236Z"
   },
   {
    "duration": 1491,
    "start_time": "2021-12-14T04:45:33.650Z"
   },
   {
    "duration": 50,
    "start_time": "2021-12-14T04:50:53.655Z"
   },
   {
    "duration": 51,
    "start_time": "2021-12-14T04:57:12.177Z"
   },
   {
    "duration": 121,
    "start_time": "2021-12-14T05:10:39.053Z"
   },
   {
    "duration": 21,
    "start_time": "2021-12-14T05:10:56.037Z"
   },
   {
    "duration": 133,
    "start_time": "2021-12-14T05:11:11.222Z"
   },
   {
    "duration": 7,
    "start_time": "2021-12-14T05:11:16.623Z"
   },
   {
    "duration": 8,
    "start_time": "2021-12-14T05:11:26.064Z"
   },
   {
    "duration": 7,
    "start_time": "2021-12-14T05:11:33.552Z"
   },
   {
    "duration": 7,
    "start_time": "2021-12-14T05:11:43.775Z"
   },
   {
    "duration": 21,
    "start_time": "2021-12-14T05:12:02.886Z"
   },
   {
    "duration": 7,
    "start_time": "2021-12-14T05:12:10.118Z"
   },
   {
    "duration": 19,
    "start_time": "2021-12-14T05:13:14.273Z"
   },
   {
    "duration": 7,
    "start_time": "2021-12-14T05:13:31.167Z"
   },
   {
    "duration": 22,
    "start_time": "2021-12-14T05:15:47.231Z"
   },
   {
    "duration": 389,
    "start_time": "2021-12-14T05:17:42.981Z"
   },
   {
    "duration": 4,
    "start_time": "2021-12-14T05:18:03.466Z"
   },
   {
    "duration": 387,
    "start_time": "2021-12-14T05:18:08.177Z"
   },
   {
    "duration": 366,
    "start_time": "2021-12-14T05:19:14.458Z"
   },
   {
    "duration": 4,
    "start_time": "2021-12-14T05:20:40.962Z"
   },
   {
    "duration": 11,
    "start_time": "2021-12-14T06:00:22.857Z"
   },
   {
    "duration": 11,
    "start_time": "2021-12-14T06:00:40.632Z"
   },
   {
    "duration": 12,
    "start_time": "2021-12-14T06:00:53.688Z"
   },
   {
    "duration": 4673,
    "start_time": "2021-12-14T06:01:16.258Z"
   },
   {
    "duration": 4807,
    "start_time": "2021-12-14T06:02:19.819Z"
   },
   {
    "duration": 5852,
    "start_time": "2021-12-14T06:02:28.093Z"
   },
   {
    "duration": 74,
    "start_time": "2021-12-14T06:03:21.839Z"
   },
   {
    "duration": 4501,
    "start_time": "2021-12-14T06:03:21.916Z"
   },
   {
    "duration": 18,
    "start_time": "2021-12-14T06:03:26.420Z"
   },
   {
    "duration": 25,
    "start_time": "2021-12-14T06:03:26.440Z"
   },
   {
    "duration": 2632,
    "start_time": "2021-12-14T06:03:26.467Z"
   },
   {
    "duration": 16,
    "start_time": "2021-12-14T06:03:29.102Z"
   },
   {
    "duration": 39,
    "start_time": "2021-12-14T06:03:29.120Z"
   },
   {
    "duration": 1035,
    "start_time": "2021-12-14T06:03:29.163Z"
   },
   {
    "duration": 8,
    "start_time": "2021-12-14T06:03:30.201Z"
   },
   {
    "duration": 17,
    "start_time": "2021-12-14T06:03:30.212Z"
   },
   {
    "duration": 7,
    "start_time": "2021-12-14T06:03:30.231Z"
   },
   {
    "duration": 15,
    "start_time": "2021-12-14T06:03:30.260Z"
   },
   {
    "duration": 25,
    "start_time": "2021-12-14T06:03:30.277Z"
   },
   {
    "duration": 21,
    "start_time": "2021-12-14T06:03:30.305Z"
   },
   {
    "duration": 53,
    "start_time": "2021-12-14T06:03:30.328Z"
   },
   {
    "duration": 50,
    "start_time": "2021-12-14T06:03:30.383Z"
   },
   {
    "duration": 41,
    "start_time": "2021-12-14T06:03:30.435Z"
   },
   {
    "duration": 401,
    "start_time": "2021-12-14T06:05:24.101Z"
   },
   {
    "duration": 4901,
    "start_time": "2021-12-14T06:05:32.275Z"
   },
   {
    "duration": 73,
    "start_time": "2021-12-14T06:05:40.390Z"
   },
   {
    "duration": 4551,
    "start_time": "2021-12-14T06:05:40.466Z"
   },
   {
    "duration": 40,
    "start_time": "2021-12-14T06:05:45.021Z"
   },
   {
    "duration": 11,
    "start_time": "2021-12-14T06:05:45.064Z"
   },
   {
    "duration": 2683,
    "start_time": "2021-12-14T06:05:45.078Z"
   },
   {
    "duration": 16,
    "start_time": "2021-12-14T06:05:47.763Z"
   },
   {
    "duration": 13,
    "start_time": "2021-12-14T06:05:47.782Z"
   },
   {
    "duration": 991,
    "start_time": "2021-12-14T06:05:47.798Z"
   },
   {
    "duration": 9,
    "start_time": "2021-12-14T06:05:48.791Z"
   },
   {
    "duration": 14,
    "start_time": "2021-12-14T06:05:48.802Z"
   },
   {
    "duration": 7,
    "start_time": "2021-12-14T06:05:48.818Z"
   },
   {
    "duration": 14,
    "start_time": "2021-12-14T06:05:48.859Z"
   },
   {
    "duration": 21,
    "start_time": "2021-12-14T06:05:48.876Z"
   },
   {
    "duration": 23,
    "start_time": "2021-12-14T06:05:48.899Z"
   },
   {
    "duration": 56,
    "start_time": "2021-12-14T06:05:48.924Z"
   },
   {
    "duration": 52,
    "start_time": "2021-12-14T06:05:48.982Z"
   },
   {
    "duration": 39,
    "start_time": "2021-12-14T06:05:49.036Z"
   },
   {
    "duration": 8,
    "start_time": "2021-12-14T06:09:46.486Z"
   },
   {
    "duration": 71,
    "start_time": "2021-12-14T06:10:08.900Z"
   },
   {
    "duration": 4411,
    "start_time": "2021-12-14T06:10:08.974Z"
   },
   {
    "duration": 18,
    "start_time": "2021-12-14T06:10:13.388Z"
   },
   {
    "duration": 8,
    "start_time": "2021-12-14T06:10:13.408Z"
   },
   {
    "duration": 2909,
    "start_time": "2021-12-14T06:10:13.418Z"
   },
   {
    "duration": 14,
    "start_time": "2021-12-14T06:10:16.330Z"
   },
   {
    "duration": 13,
    "start_time": "2021-12-14T06:10:16.360Z"
   },
   {
    "duration": 960,
    "start_time": "2021-12-14T06:10:16.376Z"
   },
   {
    "duration": 9,
    "start_time": "2021-12-14T06:10:17.339Z"
   },
   {
    "duration": 21,
    "start_time": "2021-12-14T06:10:17.350Z"
   },
   {
    "duration": 7,
    "start_time": "2021-12-14T06:10:17.373Z"
   },
   {
    "duration": 16,
    "start_time": "2021-12-14T06:10:17.383Z"
   },
   {
    "duration": 58,
    "start_time": "2021-12-14T06:10:17.401Z"
   },
   {
    "duration": 22,
    "start_time": "2021-12-14T06:10:17.461Z"
   },
   {
    "duration": 24,
    "start_time": "2021-12-14T06:10:17.486Z"
   },
   {
    "duration": 80,
    "start_time": "2021-12-14T06:10:17.512Z"
   },
   {
    "duration": 8,
    "start_time": "2021-12-14T06:10:23.209Z"
   },
   {
    "duration": 32,
    "start_time": "2021-12-14T06:17:34.977Z"
   },
   {
    "duration": 75,
    "start_time": "2021-12-14T06:17:49.661Z"
   },
   {
    "duration": 4539,
    "start_time": "2021-12-14T06:17:49.740Z"
   },
   {
    "duration": 19,
    "start_time": "2021-12-14T06:17:54.284Z"
   },
   {
    "duration": 9,
    "start_time": "2021-12-14T06:17:54.307Z"
   },
   {
    "duration": 2658,
    "start_time": "2021-12-14T06:17:54.359Z"
   },
   {
    "duration": 18,
    "start_time": "2021-12-14T06:17:57.020Z"
   },
   {
    "duration": 16,
    "start_time": "2021-12-14T06:17:57.059Z"
   },
   {
    "duration": 959,
    "start_time": "2021-12-14T06:17:57.080Z"
   },
   {
    "duration": 20,
    "start_time": "2021-12-14T06:17:58.042Z"
   },
   {
    "duration": 14,
    "start_time": "2021-12-14T06:17:58.064Z"
   },
   {
    "duration": 7,
    "start_time": "2021-12-14T06:17:58.081Z"
   },
   {
    "duration": 13,
    "start_time": "2021-12-14T06:17:58.090Z"
   },
   {
    "duration": 56,
    "start_time": "2021-12-14T06:17:58.105Z"
   },
   {
    "duration": 21,
    "start_time": "2021-12-14T06:17:58.164Z"
   },
   {
    "duration": 28,
    "start_time": "2021-12-14T06:17:58.187Z"
   },
   {
    "duration": 72,
    "start_time": "2021-12-14T06:17:58.217Z"
   },
   {
    "duration": 72,
    "start_time": "2021-12-14T06:18:28.246Z"
   },
   {
    "duration": 4458,
    "start_time": "2021-12-14T06:18:28.320Z"
   },
   {
    "duration": 19,
    "start_time": "2021-12-14T06:18:32.781Z"
   },
   {
    "duration": 8,
    "start_time": "2021-12-14T06:18:32.803Z"
   },
   {
    "duration": 2737,
    "start_time": "2021-12-14T06:18:32.813Z"
   },
   {
    "duration": 18,
    "start_time": "2021-12-14T06:18:35.553Z"
   },
   {
    "duration": 12,
    "start_time": "2021-12-14T06:18:35.573Z"
   },
   {
    "duration": 1000,
    "start_time": "2021-12-14T06:18:35.589Z"
   },
   {
    "duration": 8,
    "start_time": "2021-12-14T06:18:36.592Z"
   },
   {
    "duration": 14,
    "start_time": "2021-12-14T06:18:36.603Z"
   },
   {
    "duration": 6,
    "start_time": "2021-12-14T06:18:36.620Z"
   },
   {
    "duration": 13,
    "start_time": "2021-12-14T06:18:36.660Z"
   },
   {
    "duration": 19,
    "start_time": "2021-12-14T06:18:36.676Z"
   },
   {
    "duration": 22,
    "start_time": "2021-12-14T06:18:36.697Z"
   },
   {
    "duration": 54,
    "start_time": "2021-12-14T06:18:36.721Z"
   },
   {
    "duration": 48,
    "start_time": "2021-12-14T06:18:36.778Z"
   },
   {
    "duration": 32,
    "start_time": "2021-12-14T06:18:44.859Z"
   },
   {
    "duration": 63,
    "start_time": "2021-12-14T06:20:03.507Z"
   },
   {
    "duration": 36,
    "start_time": "2021-12-14T06:20:21.701Z"
   },
   {
    "duration": 381,
    "start_time": "2021-12-14T06:20:42.027Z"
   },
   {
    "duration": 2675,
    "start_time": "2021-12-14T06:20:49.849Z"
   },
   {
    "duration": 2557,
    "start_time": "2021-12-14T06:21:03.602Z"
   },
   {
    "duration": 125,
    "start_time": "2021-12-14T06:22:22.313Z"
   },
   {
    "duration": 432,
    "start_time": "2021-12-14T06:22:25.954Z"
   },
   {
    "duration": 15107,
    "start_time": "2021-12-14T06:35:28.398Z"
   },
   {
    "duration": 73,
    "start_time": "2021-12-14T06:36:22.540Z"
   },
   {
    "duration": 4472,
    "start_time": "2021-12-14T06:36:22.615Z"
   },
   {
    "duration": 18,
    "start_time": "2021-12-14T06:36:27.091Z"
   },
   {
    "duration": 9,
    "start_time": "2021-12-14T06:36:27.111Z"
   },
   {
    "duration": 2931,
    "start_time": "2021-12-14T06:36:27.122Z"
   },
   {
    "duration": 16,
    "start_time": "2021-12-14T06:36:30.055Z"
   },
   {
    "duration": 16,
    "start_time": "2021-12-14T06:36:30.074Z"
   },
   {
    "duration": 1006,
    "start_time": "2021-12-14T06:36:30.094Z"
   },
   {
    "duration": 9,
    "start_time": "2021-12-14T06:36:31.103Z"
   },
   {
    "duration": 20,
    "start_time": "2021-12-14T06:36:31.115Z"
   },
   {
    "duration": 29,
    "start_time": "2021-12-14T06:36:31.138Z"
   },
   {
    "duration": 17,
    "start_time": "2021-12-14T06:36:31.170Z"
   },
   {
    "duration": 20,
    "start_time": "2021-12-14T06:36:31.190Z"
   },
   {
    "duration": 61,
    "start_time": "2021-12-14T06:36:31.213Z"
   },
   {
    "duration": 33,
    "start_time": "2021-12-14T06:36:31.277Z"
   },
   {
    "duration": 67,
    "start_time": "2021-12-14T06:36:31.312Z"
   },
   {
    "duration": 14686,
    "start_time": "2021-12-14T06:38:17.885Z"
   },
   {
    "duration": 11758,
    "start_time": "2021-12-14T06:38:54.465Z"
   },
   {
    "duration": 12892,
    "start_time": "2021-12-14T06:40:16.409Z"
   },
   {
    "duration": 7,
    "start_time": "2021-12-14T06:46:26.102Z"
   },
   {
    "duration": 8,
    "start_time": "2021-12-14T06:46:45.423Z"
   },
   {
    "duration": 385,
    "start_time": "2021-12-14T06:47:01.434Z"
   },
   {
    "duration": 6,
    "start_time": "2021-12-14T06:47:19.940Z"
   },
   {
    "duration": 395,
    "start_time": "2021-12-14T06:47:48.330Z"
   },
   {
    "duration": 7,
    "start_time": "2021-12-14T06:47:57.763Z"
   },
   {
    "duration": 6,
    "start_time": "2021-12-14T06:48:22.084Z"
   },
   {
    "duration": 373,
    "start_time": "2021-12-14T06:48:32.744Z"
   },
   {
    "duration": 382,
    "start_time": "2021-12-14T06:48:38.266Z"
   },
   {
    "duration": 6,
    "start_time": "2021-12-14T06:48:43.913Z"
   },
   {
    "duration": 14,
    "start_time": "2021-12-14T06:48:57.107Z"
   },
   {
    "duration": 419,
    "start_time": "2021-12-14T06:50:54.513Z"
   },
   {
    "duration": 5941,
    "start_time": "2021-12-14T06:51:12.892Z"
   },
   {
    "duration": 402,
    "start_time": "2021-12-14T06:51:54.755Z"
   },
   {
    "duration": 73,
    "start_time": "2021-12-14T06:52:34.109Z"
   },
   {
    "duration": 4353,
    "start_time": "2021-12-14T06:52:34.184Z"
   },
   {
    "duration": 30,
    "start_time": "2021-12-14T06:52:38.541Z"
   },
   {
    "duration": 8,
    "start_time": "2021-12-14T06:52:38.574Z"
   },
   {
    "duration": 2740,
    "start_time": "2021-12-14T06:52:38.585Z"
   },
   {
    "duration": 15,
    "start_time": "2021-12-14T06:52:41.327Z"
   },
   {
    "duration": 12,
    "start_time": "2021-12-14T06:52:41.359Z"
   },
   {
    "duration": 973,
    "start_time": "2021-12-14T06:52:41.373Z"
   },
   {
    "duration": 13,
    "start_time": "2021-12-14T06:52:42.349Z"
   },
   {
    "duration": 14,
    "start_time": "2021-12-14T06:52:42.365Z"
   },
   {
    "duration": 7,
    "start_time": "2021-12-14T06:52:42.381Z"
   },
   {
    "duration": 15,
    "start_time": "2021-12-14T06:52:42.390Z"
   },
   {
    "duration": 59,
    "start_time": "2021-12-14T06:52:42.407Z"
   },
   {
    "duration": 22,
    "start_time": "2021-12-14T06:52:42.469Z"
   },
   {
    "duration": 23,
    "start_time": "2021-12-14T06:52:42.493Z"
   },
   {
    "duration": 80,
    "start_time": "2021-12-14T06:52:42.518Z"
   },
   {
    "duration": 6040,
    "start_time": "2021-12-14T06:52:47.474Z"
   },
   {
    "duration": 74,
    "start_time": "2021-12-14T06:55:22.533Z"
   },
   {
    "duration": 4469,
    "start_time": "2021-12-14T06:55:22.609Z"
   },
   {
    "duration": 19,
    "start_time": "2021-12-14T06:55:27.081Z"
   },
   {
    "duration": 8,
    "start_time": "2021-12-14T06:55:27.103Z"
   },
   {
    "duration": 2749,
    "start_time": "2021-12-14T06:55:27.114Z"
   },
   {
    "duration": 15,
    "start_time": "2021-12-14T06:55:29.866Z"
   },
   {
    "duration": 12,
    "start_time": "2021-12-14T06:55:29.883Z"
   },
   {
    "duration": 970,
    "start_time": "2021-12-14T06:55:29.898Z"
   },
   {
    "duration": 9,
    "start_time": "2021-12-14T06:55:30.871Z"
   },
   {
    "duration": 15,
    "start_time": "2021-12-14T06:55:30.882Z"
   },
   {
    "duration": 6,
    "start_time": "2021-12-14T06:55:30.900Z"
   },
   {
    "duration": 52,
    "start_time": "2021-12-14T06:55:30.909Z"
   },
   {
    "duration": 24,
    "start_time": "2021-12-14T06:55:30.964Z"
   },
   {
    "duration": 25,
    "start_time": "2021-12-14T06:55:30.991Z"
   },
   {
    "duration": 60,
    "start_time": "2021-12-14T06:55:31.019Z"
   },
   {
    "duration": 54,
    "start_time": "2021-12-14T06:55:31.083Z"
   },
   {
    "duration": 18,
    "start_time": "2021-12-14T06:55:37.213Z"
   },
   {
    "duration": 22,
    "start_time": "2021-12-14T06:56:02.183Z"
   },
   {
    "duration": 392,
    "start_time": "2021-12-14T06:56:31.074Z"
   },
   {
    "duration": 7,
    "start_time": "2021-12-14T06:56:55.846Z"
   },
   {
    "duration": 74,
    "start_time": "2021-12-14T06:57:41.333Z"
   },
   {
    "duration": 4346,
    "start_time": "2021-12-14T06:57:41.409Z"
   },
   {
    "duration": 20,
    "start_time": "2021-12-14T06:57:45.760Z"
   },
   {
    "duration": 8,
    "start_time": "2021-12-14T06:57:45.783Z"
   },
   {
    "duration": 2597,
    "start_time": "2021-12-14T06:57:45.794Z"
   },
   {
    "duration": 16,
    "start_time": "2021-12-14T06:57:48.393Z"
   },
   {
    "duration": 13,
    "start_time": "2021-12-14T06:57:48.411Z"
   },
   {
    "duration": 982,
    "start_time": "2021-12-14T06:57:48.428Z"
   },
   {
    "duration": 9,
    "start_time": "2021-12-14T06:57:49.412Z"
   },
   {
    "duration": 36,
    "start_time": "2021-12-14T06:57:49.423Z"
   },
   {
    "duration": 8,
    "start_time": "2021-12-14T06:57:49.461Z"
   },
   {
    "duration": 13,
    "start_time": "2021-12-14T06:57:49.471Z"
   },
   {
    "duration": 19,
    "start_time": "2021-12-14T06:57:49.487Z"
   },
   {
    "duration": 61,
    "start_time": "2021-12-14T06:57:49.508Z"
   },
   {
    "duration": 25,
    "start_time": "2021-12-14T06:57:49.572Z"
   },
   {
    "duration": 72,
    "start_time": "2021-12-14T06:57:49.599Z"
   },
   {
    "duration": 20,
    "start_time": "2021-12-14T06:57:58.294Z"
   },
   {
    "duration": 20,
    "start_time": "2021-12-14T06:58:31.758Z"
   },
   {
    "duration": 831,
    "start_time": "2021-12-14T06:59:02.503Z"
   },
   {
    "duration": 420,
    "start_time": "2021-12-14T06:59:23.668Z"
   },
   {
    "duration": 694,
    "start_time": "2021-12-14T06:59:34.640Z"
   },
   {
    "duration": 1393,
    "start_time": "2021-12-14T07:00:24.405Z"
   },
   {
    "duration": 1356,
    "start_time": "2021-12-14T07:00:47.066Z"
   },
   {
    "duration": 410,
    "start_time": "2021-12-14T07:01:12.216Z"
   },
   {
    "duration": 386,
    "start_time": "2021-12-14T07:02:45.232Z"
   },
   {
    "duration": 10273,
    "start_time": "2021-12-14T07:02:59.824Z"
   },
   {
    "duration": 143,
    "start_time": "2021-12-14T07:03:36.035Z"
   },
   {
    "duration": 402,
    "start_time": "2021-12-14T07:03:42.502Z"
   },
   {
    "duration": 397,
    "start_time": "2021-12-14T07:07:03.345Z"
   },
   {
    "duration": 409,
    "start_time": "2021-12-14T07:07:09.881Z"
   },
   {
    "duration": 473,
    "start_time": "2021-12-14T07:07:57.689Z"
   },
   {
    "duration": 72,
    "start_time": "2021-12-14T07:08:19.616Z"
   },
   {
    "duration": 4509,
    "start_time": "2021-12-14T07:08:19.691Z"
   },
   {
    "duration": 19,
    "start_time": "2021-12-14T07:08:24.203Z"
   },
   {
    "duration": 7,
    "start_time": "2021-12-14T07:08:24.225Z"
   },
   {
    "duration": 2649,
    "start_time": "2021-12-14T07:08:24.235Z"
   },
   {
    "duration": 14,
    "start_time": "2021-12-14T07:08:26.887Z"
   },
   {
    "duration": 13,
    "start_time": "2021-12-14T07:08:26.903Z"
   },
   {
    "duration": 979,
    "start_time": "2021-12-14T07:08:26.920Z"
   },
   {
    "duration": 9,
    "start_time": "2021-12-14T07:08:27.902Z"
   },
   {
    "duration": 16,
    "start_time": "2021-12-14T07:08:27.913Z"
   },
   {
    "duration": 33,
    "start_time": "2021-12-14T07:08:27.931Z"
   },
   {
    "duration": 14,
    "start_time": "2021-12-14T07:08:27.967Z"
   },
   {
    "duration": 20,
    "start_time": "2021-12-14T07:08:27.985Z"
   },
   {
    "duration": 71,
    "start_time": "2021-12-14T07:08:28.008Z"
   },
   {
    "duration": 23,
    "start_time": "2021-12-14T07:08:28.082Z"
   },
   {
    "duration": 413,
    "start_time": "2021-12-14T07:08:36.667Z"
   },
   {
    "duration": 55,
    "start_time": "2021-12-14T07:09:32.859Z"
   },
   {
    "duration": 54,
    "start_time": "2021-12-14T07:09:52.385Z"
   },
   {
    "duration": 6143,
    "start_time": "2021-12-14T07:10:06.385Z"
   },
   {
    "duration": 3649,
    "start_time": "2021-12-14T07:10:15.582Z"
   },
   {
    "duration": 425,
    "start_time": "2021-12-14T07:11:02.875Z"
   },
   {
    "duration": 71,
    "start_time": "2021-12-14T07:11:13.266Z"
   },
   {
    "duration": 4387,
    "start_time": "2021-12-14T07:11:13.340Z"
   },
   {
    "duration": 31,
    "start_time": "2021-12-14T07:11:17.730Z"
   },
   {
    "duration": 8,
    "start_time": "2021-12-14T07:11:17.764Z"
   },
   {
    "duration": 2710,
    "start_time": "2021-12-14T07:11:17.774Z"
   },
   {
    "duration": 15,
    "start_time": "2021-12-14T07:11:20.486Z"
   },
   {
    "duration": 13,
    "start_time": "2021-12-14T07:11:20.503Z"
   },
   {
    "duration": 1016,
    "start_time": "2021-12-14T07:11:20.519Z"
   },
   {
    "duration": 10,
    "start_time": "2021-12-14T07:11:21.538Z"
   },
   {
    "duration": 16,
    "start_time": "2021-12-14T07:11:21.560Z"
   },
   {
    "duration": 7,
    "start_time": "2021-12-14T07:11:21.579Z"
   },
   {
    "duration": 12,
    "start_time": "2021-12-14T07:11:21.588Z"
   },
   {
    "duration": 56,
    "start_time": "2021-12-14T07:11:21.603Z"
   },
   {
    "duration": 22,
    "start_time": "2021-12-14T07:11:21.662Z"
   },
   {
    "duration": 24,
    "start_time": "2021-12-14T07:11:21.687Z"
   },
   {
    "duration": 55,
    "start_time": "2021-12-14T07:11:25.719Z"
   },
   {
    "duration": 191,
    "start_time": "2021-12-14T07:11:42.904Z"
   },
   {
    "duration": 127,
    "start_time": "2021-12-14T07:11:56.617Z"
   },
   {
    "duration": 128,
    "start_time": "2021-12-14T07:12:00.506Z"
   },
   {
    "duration": 1669,
    "start_time": "2021-12-14T07:12:21.458Z"
   },
   {
    "duration": 399,
    "start_time": "2021-12-14T07:12:56.089Z"
   },
   {
    "duration": 599,
    "start_time": "2021-12-14T07:13:52.932Z"
   },
   {
    "duration": 404,
    "start_time": "2021-12-14T07:13:58.235Z"
   },
   {
    "duration": 75,
    "start_time": "2021-12-14T07:14:37.212Z"
   },
   {
    "duration": 4347,
    "start_time": "2021-12-14T07:14:37.290Z"
   },
   {
    "duration": 30,
    "start_time": "2021-12-14T07:14:41.640Z"
   },
   {
    "duration": 8,
    "start_time": "2021-12-14T07:14:41.673Z"
   },
   {
    "duration": 2688,
    "start_time": "2021-12-14T07:14:41.683Z"
   },
   {
    "duration": 16,
    "start_time": "2021-12-14T07:14:44.373Z"
   },
   {
    "duration": 13,
    "start_time": "2021-12-14T07:14:44.391Z"
   },
   {
    "duration": 1002,
    "start_time": "2021-12-14T07:14:44.407Z"
   },
   {
    "duration": 10,
    "start_time": "2021-12-14T07:14:45.413Z"
   },
   {
    "duration": 41,
    "start_time": "2021-12-14T07:14:45.426Z"
   },
   {
    "duration": 7,
    "start_time": "2021-12-14T07:14:45.469Z"
   },
   {
    "duration": 13,
    "start_time": "2021-12-14T07:14:45.478Z"
   },
   {
    "duration": 19,
    "start_time": "2021-12-14T07:14:45.494Z"
   },
   {
    "duration": 54,
    "start_time": "2021-12-14T07:14:45.515Z"
   },
   {
    "duration": 24,
    "start_time": "2021-12-14T07:14:45.572Z"
   },
   {
    "duration": 78,
    "start_time": "2021-12-14T07:14:45.599Z"
   },
   {
    "duration": 3458,
    "start_time": "2021-12-14T07:14:52.043Z"
   },
   {
    "duration": 74,
    "start_time": "2021-12-14T07:15:10.063Z"
   },
   {
    "duration": 4338,
    "start_time": "2021-12-14T07:15:10.139Z"
   },
   {
    "duration": 18,
    "start_time": "2021-12-14T07:15:14.480Z"
   },
   {
    "duration": 8,
    "start_time": "2021-12-14T07:15:14.501Z"
   },
   {
    "duration": 2766,
    "start_time": "2021-12-14T07:15:14.511Z"
   },
   {
    "duration": 16,
    "start_time": "2021-12-14T07:15:17.279Z"
   },
   {
    "duration": 13,
    "start_time": "2021-12-14T07:15:17.297Z"
   },
   {
    "duration": 981,
    "start_time": "2021-12-14T07:15:17.313Z"
   },
   {
    "duration": 11,
    "start_time": "2021-12-14T07:15:18.297Z"
   },
   {
    "duration": 14,
    "start_time": "2021-12-14T07:15:18.310Z"
   },
   {
    "duration": 36,
    "start_time": "2021-12-14T07:15:18.327Z"
   },
   {
    "duration": 14,
    "start_time": "2021-12-14T07:15:18.365Z"
   },
   {
    "duration": 19,
    "start_time": "2021-12-14T07:15:18.381Z"
   },
   {
    "duration": 58,
    "start_time": "2021-12-14T07:15:18.402Z"
   },
   {
    "duration": 22,
    "start_time": "2021-12-14T07:15:18.462Z"
   },
   {
    "duration": 47,
    "start_time": "2021-12-14T07:15:18.487Z"
   },
   {
    "duration": 1730,
    "start_time": "2021-12-14T07:15:18.559Z"
   },
   {
    "duration": 391,
    "start_time": "2021-12-14T07:15:31.452Z"
   },
   {
    "duration": 438,
    "start_time": "2021-12-14T07:15:43.553Z"
   },
   {
    "duration": 79,
    "start_time": "2021-12-14T07:16:28.895Z"
   },
   {
    "duration": 4330,
    "start_time": "2021-12-14T07:16:28.977Z"
   },
   {
    "duration": 18,
    "start_time": "2021-12-14T07:16:33.310Z"
   },
   {
    "duration": 32,
    "start_time": "2021-12-14T07:16:33.331Z"
   },
   {
    "duration": 2709,
    "start_time": "2021-12-14T07:16:33.366Z"
   },
   {
    "duration": 15,
    "start_time": "2021-12-14T07:16:36.077Z"
   },
   {
    "duration": 13,
    "start_time": "2021-12-14T07:16:36.095Z"
   },
   {
    "duration": 962,
    "start_time": "2021-12-14T07:16:36.112Z"
   },
   {
    "duration": 9,
    "start_time": "2021-12-14T07:16:37.077Z"
   },
   {
    "duration": 14,
    "start_time": "2021-12-14T07:16:37.089Z"
   },
   {
    "duration": 7,
    "start_time": "2021-12-14T07:16:37.105Z"
   },
   {
    "duration": 50,
    "start_time": "2021-12-14T07:16:37.115Z"
   },
   {
    "duration": 20,
    "start_time": "2021-12-14T07:16:37.168Z"
   },
   {
    "duration": 22,
    "start_time": "2021-12-14T07:16:37.190Z"
   },
   {
    "duration": 57,
    "start_time": "2021-12-14T07:16:37.214Z"
   },
   {
    "duration": 48,
    "start_time": "2021-12-14T07:16:37.274Z"
   },
   {
    "duration": 1730,
    "start_time": "2021-12-14T07:16:37.324Z"
   },
   {
    "duration": 387,
    "start_time": "2021-12-14T07:26:57.868Z"
   },
   {
    "duration": 10,
    "start_time": "2021-12-14T07:27:37.112Z"
   },
   {
    "duration": 28,
    "start_time": "2021-12-14T07:28:09.053Z"
   },
   {
    "duration": 23,
    "start_time": "2021-12-14T07:28:18.137Z"
   },
   {
    "duration": 172,
    "start_time": "2021-12-14T07:31:37.360Z"
   },
   {
    "duration": 629,
    "start_time": "2021-12-14T07:31:48.421Z"
   },
   {
    "duration": 373,
    "start_time": "2021-12-14T07:32:56.986Z"
   },
   {
    "duration": 73,
    "start_time": "2021-12-14T07:33:12.370Z"
   },
   {
    "duration": 4562,
    "start_time": "2021-12-14T07:33:12.446Z"
   },
   {
    "duration": 17,
    "start_time": "2021-12-14T07:33:17.012Z"
   },
   {
    "duration": 28,
    "start_time": "2021-12-14T07:33:17.032Z"
   },
   {
    "duration": 2722,
    "start_time": "2021-12-14T07:33:17.062Z"
   },
   {
    "duration": 16,
    "start_time": "2021-12-14T07:33:19.786Z"
   },
   {
    "duration": 13,
    "start_time": "2021-12-14T07:33:19.804Z"
   },
   {
    "duration": 1021,
    "start_time": "2021-12-14T07:33:19.821Z"
   },
   {
    "duration": 15,
    "start_time": "2021-12-14T07:33:20.844Z"
   },
   {
    "duration": 14,
    "start_time": "2021-12-14T07:33:20.862Z"
   },
   {
    "duration": 7,
    "start_time": "2021-12-14T07:33:20.879Z"
   },
   {
    "duration": 13,
    "start_time": "2021-12-14T07:33:20.889Z"
   },
   {
    "duration": 68,
    "start_time": "2021-12-14T07:33:20.904Z"
   },
   {
    "duration": 23,
    "start_time": "2021-12-14T07:33:20.974Z"
   },
   {
    "duration": 26,
    "start_time": "2021-12-14T07:33:21.000Z"
   },
   {
    "duration": 74,
    "start_time": "2021-12-14T07:33:21.029Z"
   },
   {
    "duration": 1879,
    "start_time": "2021-12-14T07:33:21.106Z"
   },
   {
    "duration": 25,
    "start_time": "2021-12-14T07:33:22.988Z"
   },
   {
    "duration": 395,
    "start_time": "2021-12-14T07:33:23.016Z"
   },
   {
    "duration": 71,
    "start_time": "2021-12-14T07:34:04.546Z"
   },
   {
    "duration": 4420,
    "start_time": "2021-12-14T07:34:04.620Z"
   },
   {
    "duration": 27,
    "start_time": "2021-12-14T07:34:09.043Z"
   },
   {
    "duration": 8,
    "start_time": "2021-12-14T07:34:09.073Z"
   },
   {
    "duration": 2790,
    "start_time": "2021-12-14T07:34:09.083Z"
   },
   {
    "duration": 16,
    "start_time": "2021-12-14T07:34:11.876Z"
   },
   {
    "duration": 15,
    "start_time": "2021-12-14T07:34:11.894Z"
   },
   {
    "duration": 969,
    "start_time": "2021-12-14T07:34:11.913Z"
   },
   {
    "duration": 9,
    "start_time": "2021-12-14T07:34:12.885Z"
   },
   {
    "duration": 15,
    "start_time": "2021-12-14T07:34:12.896Z"
   },
   {
    "duration": 8,
    "start_time": "2021-12-14T07:34:12.913Z"
   },
   {
    "duration": 46,
    "start_time": "2021-12-14T07:34:12.924Z"
   },
   {
    "duration": 19,
    "start_time": "2021-12-14T07:34:12.972Z"
   },
   {
    "duration": 20,
    "start_time": "2021-12-14T07:34:12.994Z"
   },
   {
    "duration": 60,
    "start_time": "2021-12-14T07:34:13.018Z"
   },
   {
    "duration": 50,
    "start_time": "2021-12-14T07:34:13.082Z"
   },
   {
    "duration": 1807,
    "start_time": "2021-12-14T07:34:13.135Z"
   },
   {
    "duration": 33,
    "start_time": "2021-12-14T07:34:14.945Z"
   },
   {
    "duration": 17,
    "start_time": "2021-12-14T07:34:14.981Z"
   },
   {
    "duration": 4736,
    "start_time": "2021-12-14T07:35:27.705Z"
   },
   {
    "duration": 3324,
    "start_time": "2021-12-14T07:37:19.027Z"
   },
   {
    "duration": 3255,
    "start_time": "2021-12-14T07:37:36.815Z"
   },
   {
    "duration": 5208,
    "start_time": "2021-12-14T07:38:08.920Z"
   },
   {
    "duration": 3276,
    "start_time": "2021-12-14T07:38:30.377Z"
   },
   {
    "duration": 3043,
    "start_time": "2021-12-14T07:38:41.115Z"
   },
   {
    "duration": 5,
    "start_time": "2021-12-14T07:38:56.859Z"
   },
   {
    "duration": 949,
    "start_time": "2021-12-14T07:39:15.875Z"
   },
   {
    "duration": 5,
    "start_time": "2021-12-14T07:39:21.554Z"
   },
   {
    "duration": 2306,
    "start_time": "2021-12-14T07:39:34.691Z"
   },
   {
    "duration": 39,
    "start_time": "2021-12-14T07:40:45.259Z"
   },
   {
    "duration": 81,
    "start_time": "2021-12-14T07:42:01.157Z"
   },
   {
    "duration": 4358,
    "start_time": "2021-12-14T07:42:01.240Z"
   },
   {
    "duration": 18,
    "start_time": "2021-12-14T07:42:05.601Z"
   },
   {
    "duration": 8,
    "start_time": "2021-12-14T07:42:05.621Z"
   },
   {
    "duration": 2759,
    "start_time": "2021-12-14T07:42:05.631Z"
   },
   {
    "duration": 16,
    "start_time": "2021-12-14T07:42:08.392Z"
   },
   {
    "duration": 13,
    "start_time": "2021-12-14T07:42:08.410Z"
   },
   {
    "duration": 996,
    "start_time": "2021-12-14T07:42:08.427Z"
   },
   {
    "duration": 9,
    "start_time": "2021-12-14T07:42:09.425Z"
   },
   {
    "duration": 31,
    "start_time": "2021-12-14T07:42:09.436Z"
   },
   {
    "duration": 7,
    "start_time": "2021-12-14T07:42:09.469Z"
   },
   {
    "duration": 14,
    "start_time": "2021-12-14T07:42:09.478Z"
   },
   {
    "duration": 20,
    "start_time": "2021-12-14T07:42:09.494Z"
   },
   {
    "duration": 52,
    "start_time": "2021-12-14T07:42:09.517Z"
   },
   {
    "duration": 23,
    "start_time": "2021-12-14T07:42:09.572Z"
   },
   {
    "duration": 77,
    "start_time": "2021-12-14T07:42:09.598Z"
   },
   {
    "duration": 1697,
    "start_time": "2021-12-14T07:42:23.355Z"
   },
   {
    "duration": 22,
    "start_time": "2021-12-14T07:42:32.787Z"
   },
   {
    "duration": 14,
    "start_time": "2021-12-14T07:42:40.699Z"
   },
   {
    "duration": 28,
    "start_time": "2021-12-14T07:43:17.045Z"
   },
   {
    "duration": 1839,
    "start_time": "2021-12-14T07:45:56.749Z"
   },
   {
    "duration": 44,
    "start_time": "2021-12-14T09:05:31.808Z"
   },
   {
    "duration": 20,
    "start_time": "2021-12-14T09:05:46.195Z"
   },
   {
    "duration": 75,
    "start_time": "2021-12-14T09:06:20.199Z"
   },
   {
    "duration": 25,
    "start_time": "2021-12-14T09:06:30.725Z"
   },
   {
    "duration": 18,
    "start_time": "2021-12-14T09:07:03.990Z"
   },
   {
    "duration": 455,
    "start_time": "2021-12-14T09:07:48.680Z"
   },
   {
    "duration": 416,
    "start_time": "2021-12-14T09:07:57.341Z"
   },
   {
    "duration": 24,
    "start_time": "2021-12-14T09:08:04.118Z"
   },
   {
    "duration": 407,
    "start_time": "2021-12-14T09:08:10.189Z"
   },
   {
    "duration": 23,
    "start_time": "2021-12-14T09:08:15.309Z"
   },
   {
    "duration": 33,
    "start_time": "2021-12-14T09:12:16.284Z"
   },
   {
    "duration": 595,
    "start_time": "2021-12-14T09:12:24.516Z"
   },
   {
    "duration": 35,
    "start_time": "2021-12-14T09:12:30.959Z"
   },
   {
    "duration": 24,
    "start_time": "2021-12-14T09:12:35.564Z"
   },
   {
    "duration": 24,
    "start_time": "2021-12-14T09:13:09.458Z"
   },
   {
    "duration": 24,
    "start_time": "2021-12-14T09:16:10.137Z"
   },
   {
    "duration": 467,
    "start_time": "2021-12-14T09:18:00.561Z"
   },
   {
    "duration": 71,
    "start_time": "2021-12-14T09:18:15.764Z"
   },
   {
    "duration": 4478,
    "start_time": "2021-12-14T09:18:15.838Z"
   },
   {
    "duration": 39,
    "start_time": "2021-12-14T09:18:20.320Z"
   },
   {
    "duration": 10,
    "start_time": "2021-12-14T09:18:20.363Z"
   },
   {
    "duration": 3086,
    "start_time": "2021-12-14T09:18:20.376Z"
   },
   {
    "duration": 18,
    "start_time": "2021-12-14T09:18:23.465Z"
   },
   {
    "duration": 19,
    "start_time": "2021-12-14T09:18:23.486Z"
   },
   {
    "duration": 1008,
    "start_time": "2021-12-14T09:18:23.509Z"
   },
   {
    "duration": 8,
    "start_time": "2021-12-14T09:18:24.520Z"
   },
   {
    "duration": 33,
    "start_time": "2021-12-14T09:18:24.530Z"
   },
   {
    "duration": 7,
    "start_time": "2021-12-14T09:18:24.565Z"
   },
   {
    "duration": 19,
    "start_time": "2021-12-14T09:18:24.575Z"
   },
   {
    "duration": 62,
    "start_time": "2021-12-14T09:18:24.597Z"
   },
   {
    "duration": 24,
    "start_time": "2021-12-14T09:18:24.662Z"
   },
   {
    "duration": 26,
    "start_time": "2021-12-14T09:18:24.689Z"
   },
   {
    "duration": 90,
    "start_time": "2021-12-14T09:18:24.718Z"
   },
   {
    "duration": 1804,
    "start_time": "2021-12-14T09:18:24.811Z"
   },
   {
    "duration": 42,
    "start_time": "2021-12-14T09:18:26.619Z"
   },
   {
    "duration": 42,
    "start_time": "2021-12-14T09:18:26.664Z"
   },
   {
    "duration": 1878,
    "start_time": "2021-12-14T09:18:26.708Z"
   },
   {
    "duration": 95,
    "start_time": "2021-12-14T09:18:28.589Z"
   },
   {
    "duration": 22,
    "start_time": "2021-12-14T09:18:28.686Z"
   },
   {
    "duration": 404,
    "start_time": "2021-12-14T09:18:28.711Z"
   },
   {
    "duration": 74,
    "start_time": "2021-12-14T09:18:45.179Z"
   },
   {
    "duration": 4503,
    "start_time": "2021-12-14T09:18:45.256Z"
   },
   {
    "duration": 19,
    "start_time": "2021-12-14T09:18:49.763Z"
   },
   {
    "duration": 8,
    "start_time": "2021-12-14T09:18:49.785Z"
   },
   {
    "duration": 2747,
    "start_time": "2021-12-14T09:18:49.796Z"
   },
   {
    "duration": 22,
    "start_time": "2021-12-14T09:18:52.546Z"
   },
   {
    "duration": 14,
    "start_time": "2021-12-14T09:18:52.571Z"
   },
   {
    "duration": 1044,
    "start_time": "2021-12-14T09:18:52.591Z"
   },
   {
    "duration": 10,
    "start_time": "2021-12-14T09:18:53.638Z"
   },
   {
    "duration": 17,
    "start_time": "2021-12-14T09:18:53.660Z"
   },
   {
    "duration": 7,
    "start_time": "2021-12-14T09:18:53.679Z"
   },
   {
    "duration": 17,
    "start_time": "2021-12-14T09:18:53.688Z"
   },
   {
    "duration": 59,
    "start_time": "2021-12-14T09:18:53.708Z"
   },
   {
    "duration": 22,
    "start_time": "2021-12-14T09:18:53.769Z"
   },
   {
    "duration": 23,
    "start_time": "2021-12-14T09:18:53.794Z"
   },
   {
    "duration": 78,
    "start_time": "2021-12-14T09:18:53.820Z"
   },
   {
    "duration": 1744,
    "start_time": "2021-12-14T09:18:53.901Z"
   },
   {
    "duration": 30,
    "start_time": "2021-12-14T09:18:55.649Z"
   },
   {
    "duration": 30,
    "start_time": "2021-12-14T09:18:55.682Z"
   },
   {
    "duration": 1806,
    "start_time": "2021-12-14T09:18:55.715Z"
   },
   {
    "duration": 93,
    "start_time": "2021-12-14T09:18:57.524Z"
   },
   {
    "duration": 21,
    "start_time": "2021-12-14T09:18:57.619Z"
   },
   {
    "duration": 52,
    "start_time": "2021-12-14T09:18:57.661Z"
   },
   {
    "duration": 395,
    "start_time": "2021-12-14T09:59:07.123Z"
   },
   {
    "duration": 6,
    "start_time": "2021-12-14T09:59:22.583Z"
   },
   {
    "duration": 4949,
    "start_time": "2021-12-14T10:09:26.737Z"
   },
   {
    "duration": 1774,
    "start_time": "2021-12-14T10:09:42.889Z"
   },
   {
    "duration": 78,
    "start_time": "2021-12-14T10:10:15.938Z"
   },
   {
    "duration": 4454,
    "start_time": "2021-12-14T10:10:16.019Z"
   },
   {
    "duration": 25,
    "start_time": "2021-12-14T10:10:20.478Z"
   },
   {
    "duration": 9,
    "start_time": "2021-12-14T10:10:20.506Z"
   },
   {
    "duration": 2723,
    "start_time": "2021-12-14T10:10:20.518Z"
   },
   {
    "duration": 20,
    "start_time": "2021-12-14T10:10:23.244Z"
   },
   {
    "duration": 13,
    "start_time": "2021-12-14T10:10:23.266Z"
   },
   {
    "duration": 1070,
    "start_time": "2021-12-14T10:10:23.283Z"
   },
   {
    "duration": 9,
    "start_time": "2021-12-14T10:10:24.355Z"
   },
   {
    "duration": 16,
    "start_time": "2021-12-14T10:10:24.367Z"
   },
   {
    "duration": 11,
    "start_time": "2021-12-14T10:10:24.385Z"
   },
   {
    "duration": 24,
    "start_time": "2021-12-14T10:10:24.398Z"
   },
   {
    "duration": 49,
    "start_time": "2021-12-14T10:10:24.425Z"
   },
   {
    "duration": 24,
    "start_time": "2021-12-14T10:10:24.476Z"
   },
   {
    "duration": 57,
    "start_time": "2021-12-14T10:10:24.502Z"
   },
   {
    "duration": 56,
    "start_time": "2021-12-14T10:10:24.561Z"
   },
   {
    "duration": 1747,
    "start_time": "2021-12-14T10:10:24.620Z"
   },
   {
    "duration": 22,
    "start_time": "2021-12-14T10:10:26.370Z"
   },
   {
    "duration": 28,
    "start_time": "2021-12-14T10:10:26.394Z"
   },
   {
    "duration": 1892,
    "start_time": "2021-12-14T10:10:26.425Z"
   },
   {
    "duration": 96,
    "start_time": "2021-12-14T10:10:28.320Z"
   },
   {
    "duration": 22,
    "start_time": "2021-12-14T10:10:28.419Z"
   },
   {
    "duration": 54,
    "start_time": "2021-12-14T10:10:28.461Z"
   },
   {
    "duration": 4867,
    "start_time": "2021-12-14T10:10:28.518Z"
   },
   {
    "duration": 2552,
    "start_time": "2021-12-14T10:29:11.171Z"
   },
   {
    "duration": 79,
    "start_time": "2021-12-14T10:29:20.958Z"
   },
   {
    "duration": 4554,
    "start_time": "2021-12-14T10:29:21.041Z"
   },
   {
    "duration": 19,
    "start_time": "2021-12-14T10:29:25.598Z"
   },
   {
    "duration": 8,
    "start_time": "2021-12-14T10:29:25.621Z"
   },
   {
    "duration": 2851,
    "start_time": "2021-12-14T10:29:25.660Z"
   },
   {
    "duration": 17,
    "start_time": "2021-12-14T10:29:28.513Z"
   },
   {
    "duration": 35,
    "start_time": "2021-12-14T10:29:28.532Z"
   },
   {
    "duration": 965,
    "start_time": "2021-12-14T10:29:28.571Z"
   },
   {
    "duration": 22,
    "start_time": "2021-12-14T10:29:29.539Z"
   },
   {
    "duration": 16,
    "start_time": "2021-12-14T10:29:29.564Z"
   },
   {
    "duration": 9,
    "start_time": "2021-12-14T10:29:29.583Z"
   },
   {
    "duration": 14,
    "start_time": "2021-12-14T10:29:29.594Z"
   },
   {
    "duration": 61,
    "start_time": "2021-12-14T10:29:29.610Z"
   },
   {
    "duration": 22,
    "start_time": "2021-12-14T10:29:29.673Z"
   },
   {
    "duration": 23,
    "start_time": "2021-12-14T10:29:29.697Z"
   },
   {
    "duration": 81,
    "start_time": "2021-12-14T10:29:29.722Z"
   },
   {
    "duration": 1753,
    "start_time": "2021-12-14T10:29:29.806Z"
   },
   {
    "duration": 23,
    "start_time": "2021-12-14T10:29:31.562Z"
   },
   {
    "duration": 32,
    "start_time": "2021-12-14T10:29:31.588Z"
   },
   {
    "duration": 1820,
    "start_time": "2021-12-14T10:29:31.623Z"
   },
   {
    "duration": 94,
    "start_time": "2021-12-14T10:29:33.446Z"
   },
   {
    "duration": 37,
    "start_time": "2021-12-14T10:29:33.543Z"
   },
   {
    "duration": 79,
    "start_time": "2021-12-14T10:29:33.585Z"
   },
   {
    "duration": 5132,
    "start_time": "2021-12-14T10:29:33.667Z"
   },
   {
    "duration": 3860,
    "start_time": "2021-12-14T10:30:18.248Z"
   },
   {
    "duration": 75,
    "start_time": "2021-12-14T10:32:23.374Z"
   },
   {
    "duration": 4385,
    "start_time": "2021-12-14T10:32:23.451Z"
   },
   {
    "duration": 31,
    "start_time": "2021-12-14T10:32:27.839Z"
   },
   {
    "duration": 8,
    "start_time": "2021-12-14T10:32:27.873Z"
   },
   {
    "duration": 2714,
    "start_time": "2021-12-14T10:32:27.883Z"
   },
   {
    "duration": 15,
    "start_time": "2021-12-14T10:32:30.600Z"
   },
   {
    "duration": 13,
    "start_time": "2021-12-14T10:32:30.617Z"
   },
   {
    "duration": 1120,
    "start_time": "2021-12-14T10:32:30.662Z"
   },
   {
    "duration": 8,
    "start_time": "2021-12-14T10:32:31.785Z"
   },
   {
    "duration": 19,
    "start_time": "2021-12-14T10:32:31.795Z"
   },
   {
    "duration": 7,
    "start_time": "2021-12-14T10:32:31.817Z"
   },
   {
    "duration": 45,
    "start_time": "2021-12-14T10:32:31.826Z"
   },
   {
    "duration": 25,
    "start_time": "2021-12-14T10:32:31.873Z"
   },
   {
    "duration": 22,
    "start_time": "2021-12-14T10:32:31.900Z"
   },
   {
    "duration": 52,
    "start_time": "2021-12-14T10:32:31.924Z"
   },
   {
    "duration": 49,
    "start_time": "2021-12-14T10:32:31.979Z"
   },
   {
    "duration": 1751,
    "start_time": "2021-12-14T10:32:32.030Z"
   },
   {
    "duration": 21,
    "start_time": "2021-12-14T10:32:33.784Z"
   },
   {
    "duration": 52,
    "start_time": "2021-12-14T10:32:33.807Z"
   },
   {
    "duration": 1771,
    "start_time": "2021-12-14T10:32:33.862Z"
   },
   {
    "duration": 96,
    "start_time": "2021-12-14T10:32:35.636Z"
   },
   {
    "duration": 34,
    "start_time": "2021-12-14T10:32:35.734Z"
   },
   {
    "duration": 53,
    "start_time": "2021-12-14T10:32:35.772Z"
   },
   {
    "duration": 4951,
    "start_time": "2021-12-14T10:32:35.829Z"
   },
   {
    "duration": -150,
    "start_time": "2021-12-14T10:35:51.267Z"
   },
   {
    "duration": -151,
    "start_time": "2021-12-14T10:35:51.269Z"
   },
   {
    "duration": -153,
    "start_time": "2021-12-14T10:35:51.273Z"
   },
   {
    "duration": -154,
    "start_time": "2021-12-14T10:35:51.275Z"
   },
   {
    "duration": -155,
    "start_time": "2021-12-14T10:35:51.278Z"
   },
   {
    "duration": -254,
    "start_time": "2021-12-14T10:35:51.378Z"
   },
   {
    "duration": -254,
    "start_time": "2021-12-14T10:35:51.380Z"
   },
   {
    "duration": -255,
    "start_time": "2021-12-14T10:35:51.383Z"
   },
   {
    "duration": -257,
    "start_time": "2021-12-14T10:35:51.386Z"
   },
   {
    "duration": -257,
    "start_time": "2021-12-14T10:35:51.387Z"
   },
   {
    "duration": -256,
    "start_time": "2021-12-14T10:35:51.389Z"
   },
   {
    "duration": -258,
    "start_time": "2021-12-14T10:35:51.392Z"
   },
   {
    "duration": -259,
    "start_time": "2021-12-14T10:35:51.394Z"
   },
   {
    "duration": -259,
    "start_time": "2021-12-14T10:35:51.396Z"
   },
   {
    "duration": -260,
    "start_time": "2021-12-14T10:35:51.398Z"
   },
   {
    "duration": -260,
    "start_time": "2021-12-14T10:35:51.400Z"
   },
   {
    "duration": -261,
    "start_time": "2021-12-14T10:35:51.402Z"
   },
   {
    "duration": -260,
    "start_time": "2021-12-14T10:35:51.403Z"
   },
   {
    "duration": -262,
    "start_time": "2021-12-14T10:35:51.406Z"
   },
   {
    "duration": -262,
    "start_time": "2021-12-14T10:35:51.407Z"
   },
   {
    "duration": -262,
    "start_time": "2021-12-14T10:35:51.409Z"
   },
   {
    "duration": -263,
    "start_time": "2021-12-14T10:35:51.411Z"
   },
   {
    "duration": -263,
    "start_time": "2021-12-14T10:35:51.413Z"
   },
   {
    "duration": -264,
    "start_time": "2021-12-14T10:35:51.415Z"
   },
   {
    "duration": 1432,
    "start_time": "2021-12-15T03:17:38.849Z"
   },
   {
    "duration": 4421,
    "start_time": "2021-12-15T03:17:40.284Z"
   },
   {
    "duration": 29,
    "start_time": "2021-12-15T03:17:44.708Z"
   },
   {
    "duration": 9,
    "start_time": "2021-12-15T03:17:44.739Z"
   },
   {
    "duration": 2489,
    "start_time": "2021-12-15T03:17:44.750Z"
   },
   {
    "duration": 16,
    "start_time": "2021-12-15T03:17:47.241Z"
   },
   {
    "duration": 14,
    "start_time": "2021-12-15T03:17:47.259Z"
   },
   {
    "duration": 950,
    "start_time": "2021-12-15T03:17:47.277Z"
   },
   {
    "duration": 9,
    "start_time": "2021-12-15T03:17:48.230Z"
   },
   {
    "duration": 14,
    "start_time": "2021-12-15T03:17:48.241Z"
   },
   {
    "duration": 12,
    "start_time": "2021-12-15T03:17:48.257Z"
   },
   {
    "duration": 29,
    "start_time": "2021-12-15T03:17:48.272Z"
   },
   {
    "duration": 17,
    "start_time": "2021-12-15T03:17:48.324Z"
   },
   {
    "duration": 28,
    "start_time": "2021-12-15T03:17:48.343Z"
   },
   {
    "duration": 33,
    "start_time": "2021-12-15T03:17:48.374Z"
   },
   {
    "duration": 56,
    "start_time": "2021-12-15T03:17:48.409Z"
   },
   {
    "duration": 1640,
    "start_time": "2021-12-15T03:17:48.467Z"
   },
   {
    "duration": 30,
    "start_time": "2021-12-15T03:17:50.110Z"
   },
   {
    "duration": 28,
    "start_time": "2021-12-15T03:17:50.142Z"
   },
   {
    "duration": 1632,
    "start_time": "2021-12-15T03:17:50.172Z"
   },
   {
    "duration": 83,
    "start_time": "2021-12-15T03:17:51.806Z"
   },
   {
    "duration": 32,
    "start_time": "2021-12-15T03:17:51.891Z"
   },
   {
    "duration": 47,
    "start_time": "2021-12-15T03:17:51.927Z"
   },
   {
    "duration": 9,
    "start_time": "2021-12-15T03:17:51.976Z"
   },
   {
    "duration": 4705,
    "start_time": "2021-12-15T03:20:15.249Z"
   },
   {
    "duration": 87,
    "start_time": "2021-12-15T03:44:28.992Z"
   },
   {
    "duration": 109,
    "start_time": "2021-12-15T03:44:44.436Z"
   },
   {
    "duration": 79,
    "start_time": "2021-12-15T03:44:48.414Z"
   },
   {
    "duration": 4371,
    "start_time": "2021-12-15T03:44:48.496Z"
   },
   {
    "duration": 116,
    "start_time": "2021-12-15T03:44:52.870Z"
   },
   {
    "duration": -63,
    "start_time": "2021-12-15T03:44:53.052Z"
   },
   {
    "duration": -64,
    "start_time": "2021-12-15T03:44:53.054Z"
   },
   {
    "duration": -64,
    "start_time": "2021-12-15T03:44:53.056Z"
   },
   {
    "duration": -66,
    "start_time": "2021-12-15T03:44:53.059Z"
   },
   {
    "duration": -75,
    "start_time": "2021-12-15T03:44:53.070Z"
   },
   {
    "duration": -79,
    "start_time": "2021-12-15T03:44:53.075Z"
   },
   {
    "duration": -80,
    "start_time": "2021-12-15T03:44:53.077Z"
   },
   {
    "duration": -80,
    "start_time": "2021-12-15T03:44:53.079Z"
   },
   {
    "duration": -82,
    "start_time": "2021-12-15T03:44:53.082Z"
   },
   {
    "duration": -131,
    "start_time": "2021-12-15T03:44:53.132Z"
   },
   {
    "duration": -131,
    "start_time": "2021-12-15T03:44:53.134Z"
   },
   {
    "duration": -131,
    "start_time": "2021-12-15T03:44:53.135Z"
   },
   {
    "duration": -133,
    "start_time": "2021-12-15T03:44:53.138Z"
   },
   {
    "duration": -134,
    "start_time": "2021-12-15T03:44:53.140Z"
   },
   {
    "duration": -137,
    "start_time": "2021-12-15T03:44:53.145Z"
   },
   {
    "duration": -137,
    "start_time": "2021-12-15T03:44:53.147Z"
   },
   {
    "duration": -138,
    "start_time": "2021-12-15T03:44:53.150Z"
   },
   {
    "duration": -140,
    "start_time": "2021-12-15T03:44:53.153Z"
   },
   {
    "duration": -143,
    "start_time": "2021-12-15T03:44:53.157Z"
   },
   {
    "duration": -148,
    "start_time": "2021-12-15T03:44:53.163Z"
   },
   {
    "duration": -151,
    "start_time": "2021-12-15T03:44:53.168Z"
   },
   {
    "duration": -152,
    "start_time": "2021-12-15T03:44:53.170Z"
   },
   {
    "duration": -162,
    "start_time": "2021-12-15T03:44:53.181Z"
   },
   {
    "duration": 100,
    "start_time": "2021-12-15T03:45:59.555Z"
   },
   {
    "duration": 9,
    "start_time": "2021-12-15T03:46:27.098Z"
   },
   {
    "duration": 19,
    "start_time": "2021-12-15T03:48:26.034Z"
   },
   {
    "duration": 13,
    "start_time": "2021-12-15T03:49:30.074Z"
   },
   {
    "duration": 22,
    "start_time": "2021-12-15T03:49:43.585Z"
   },
   {
    "duration": 21,
    "start_time": "2021-12-15T03:52:18.907Z"
   },
   {
    "duration": 32,
    "start_time": "2021-12-15T03:53:20.148Z"
   },
   {
    "duration": 32,
    "start_time": "2021-12-15T03:53:41.462Z"
   },
   {
    "duration": 43,
    "start_time": "2021-12-15T03:53:48.044Z"
   },
   {
    "duration": 20,
    "start_time": "2021-12-15T03:54:05.110Z"
   },
   {
    "duration": 21,
    "start_time": "2021-12-15T03:54:12.359Z"
   },
   {
    "duration": 14,
    "start_time": "2021-12-15T04:01:44.390Z"
   },
   {
    "duration": 421,
    "start_time": "2021-12-15T04:01:55.945Z"
   },
   {
    "duration": 3616,
    "start_time": "2021-12-15T04:06:34.865Z"
   },
   {
    "duration": 68,
    "start_time": "2021-12-15T04:07:39.819Z"
   },
   {
    "duration": 4616,
    "start_time": "2021-12-15T04:07:39.891Z"
   },
   {
    "duration": 16,
    "start_time": "2021-12-15T04:07:44.510Z"
   },
   {
    "duration": 20,
    "start_time": "2021-12-15T04:07:44.529Z"
   },
   {
    "duration": 21,
    "start_time": "2021-12-15T04:07:44.551Z"
   },
   {
    "duration": 15,
    "start_time": "2021-12-15T04:07:48.751Z"
   },
   {
    "duration": 70,
    "start_time": "2021-12-15T04:08:32.077Z"
   },
   {
    "duration": 4304,
    "start_time": "2021-12-15T04:08:32.150Z"
   },
   {
    "duration": 7,
    "start_time": "2021-12-15T04:08:36.457Z"
   },
   {
    "duration": 25,
    "start_time": "2021-12-15T04:08:36.467Z"
   },
   {
    "duration": 41,
    "start_time": "2021-12-15T04:08:36.495Z"
   },
   {
    "duration": 19,
    "start_time": "2021-12-15T04:08:39.982Z"
   },
   {
    "duration": 19,
    "start_time": "2021-12-15T04:11:56.097Z"
   },
   {
    "duration": 22,
    "start_time": "2021-12-15T04:12:14.618Z"
   },
   {
    "duration": 26,
    "start_time": "2021-12-15T04:13:02.901Z"
   },
   {
    "duration": 26,
    "start_time": "2021-12-15T04:13:23.227Z"
   },
   {
    "duration": 18,
    "start_time": "2021-12-15T04:15:53.243Z"
   },
   {
    "duration": 8,
    "start_time": "2021-12-15T04:16:00.521Z"
   },
   {
    "duration": 92,
    "start_time": "2021-12-15T04:16:30.314Z"
   },
   {
    "duration": 9,
    "start_time": "2021-12-15T04:16:46.089Z"
   },
   {
    "duration": 8,
    "start_time": "2021-12-15T04:16:52.513Z"
   },
   {
    "duration": 36,
    "start_time": "2021-12-15T04:18:16.573Z"
   },
   {
    "duration": 20,
    "start_time": "2021-12-15T04:19:37.978Z"
   },
   {
    "duration": 35,
    "start_time": "2021-12-15T04:19:50.842Z"
   },
   {
    "duration": 22,
    "start_time": "2021-12-15T04:21:22.194Z"
   },
   {
    "duration": 25,
    "start_time": "2021-12-15T04:21:58.117Z"
   },
   {
    "duration": 22,
    "start_time": "2021-12-15T04:22:03.996Z"
   },
   {
    "duration": 21,
    "start_time": "2021-12-15T04:27:35.125Z"
   },
   {
    "duration": 25,
    "start_time": "2021-12-15T04:27:39.589Z"
   },
   {
    "duration": 49,
    "start_time": "2021-12-15T04:27:42.504Z"
   },
   {
    "duration": 14,
    "start_time": "2021-12-15T04:31:55.559Z"
   },
   {
    "duration": 10,
    "start_time": "2021-12-15T04:32:05.062Z"
   },
   {
    "duration": 7,
    "start_time": "2021-12-15T04:34:29.663Z"
   },
   {
    "duration": 8,
    "start_time": "2021-12-15T04:34:39.374Z"
   },
   {
    "duration": 9,
    "start_time": "2021-12-15T04:34:49.690Z"
   },
   {
    "duration": 5,
    "start_time": "2021-12-15T04:34:54.248Z"
   },
   {
    "duration": 16,
    "start_time": "2021-12-15T04:35:09.120Z"
   },
   {
    "duration": 14,
    "start_time": "2021-12-15T04:35:37.327Z"
   },
   {
    "duration": 15,
    "start_time": "2021-12-15T04:36:20.905Z"
   },
   {
    "duration": 6886,
    "start_time": "2021-12-15T04:45:15.297Z"
   },
   {
    "duration": 6821,
    "start_time": "2021-12-15T04:45:49.012Z"
   },
   {
    "duration": 6964,
    "start_time": "2021-12-15T04:46:47.915Z"
   },
   {
    "duration": 69,
    "start_time": "2021-12-15T04:47:05.536Z"
   },
   {
    "duration": 4331,
    "start_time": "2021-12-15T04:47:05.608Z"
   },
   {
    "duration": 7,
    "start_time": "2021-12-15T04:47:09.942Z"
   },
   {
    "duration": 22,
    "start_time": "2021-12-15T04:47:09.952Z"
   },
   {
    "duration": 47,
    "start_time": "2021-12-15T04:47:09.976Z"
   },
   {
    "duration": 19,
    "start_time": "2021-12-15T04:47:10.026Z"
   },
   {
    "duration": 22,
    "start_time": "2021-12-15T04:47:10.048Z"
   },
   {
    "duration": 66,
    "start_time": "2021-12-15T04:47:10.073Z"
   },
   {
    "duration": 17,
    "start_time": "2021-12-15T04:47:10.142Z"
   },
   {
    "duration": 21,
    "start_time": "2021-12-15T04:47:10.162Z"
   },
   {
    "duration": 50,
    "start_time": "2021-12-15T04:47:10.185Z"
   },
   {
    "duration": 21,
    "start_time": "2021-12-15T04:47:10.238Z"
   },
   {
    "duration": 78,
    "start_time": "2021-12-15T04:47:10.262Z"
   },
   {
    "duration": 19,
    "start_time": "2021-12-15T04:47:10.343Z"
   },
   {
    "duration": 10,
    "start_time": "2021-12-15T04:47:10.364Z"
   },
   {
    "duration": 5,
    "start_time": "2021-12-15T04:47:10.376Z"
   },
   {
    "duration": 54,
    "start_time": "2021-12-15T04:47:10.384Z"
   },
   {
    "duration": 15,
    "start_time": "2021-12-15T04:47:10.441Z"
   },
   {
    "duration": 7797,
    "start_time": "2021-12-15T04:47:36.131Z"
   },
   {
    "duration": 7902,
    "start_time": "2021-12-15T04:47:51.618Z"
   },
   {
    "duration": 11,
    "start_time": "2021-12-15T04:50:13.924Z"
   },
   {
    "duration": 302,
    "start_time": "2021-12-15T04:50:48.396Z"
   },
   {
    "duration": 330,
    "start_time": "2021-12-15T04:53:52.600Z"
   },
   {
    "duration": 941,
    "start_time": "2021-12-15T04:56:07.102Z"
   },
   {
    "duration": 10,
    "start_time": "2021-12-15T04:56:14.870Z"
   },
   {
    "duration": 14,
    "start_time": "2021-12-15T04:56:38.964Z"
   },
   {
    "duration": 15,
    "start_time": "2021-12-15T05:00:24.427Z"
   },
   {
    "duration": 23,
    "start_time": "2021-12-15T05:01:32.648Z"
   },
   {
    "duration": 24,
    "start_time": "2021-12-15T05:01:48.654Z"
   },
   {
    "duration": 49,
    "start_time": "2021-12-15T05:02:11.567Z"
   },
   {
    "duration": 10,
    "start_time": "2021-12-15T05:02:31.351Z"
   },
   {
    "duration": 9,
    "start_time": "2021-12-15T05:02:37.750Z"
   },
   {
    "duration": 24,
    "start_time": "2021-12-15T05:03:07.680Z"
   },
   {
    "duration": 51,
    "start_time": "2021-12-15T05:03:15.456Z"
   },
   {
    "duration": 1558,
    "start_time": "2021-12-15T05:03:20.304Z"
   },
   {
    "duration": 72,
    "start_time": "2021-12-15T05:04:10.980Z"
   },
   {
    "duration": 4399,
    "start_time": "2021-12-15T05:04:11.055Z"
   },
   {
    "duration": 9,
    "start_time": "2021-12-15T05:04:15.458Z"
   },
   {
    "duration": 39,
    "start_time": "2021-12-15T05:04:15.470Z"
   },
   {
    "duration": 44,
    "start_time": "2021-12-15T05:04:15.511Z"
   },
   {
    "duration": 44,
    "start_time": "2021-12-15T05:04:15.557Z"
   },
   {
    "duration": 41,
    "start_time": "2021-12-15T05:04:15.604Z"
   },
   {
    "duration": 37,
    "start_time": "2021-12-15T05:04:15.648Z"
   },
   {
    "duration": 40,
    "start_time": "2021-12-15T05:04:15.689Z"
   },
   {
    "duration": 54,
    "start_time": "2021-12-15T05:04:15.732Z"
   },
   {
    "duration": 41,
    "start_time": "2021-12-15T05:04:15.789Z"
   },
   {
    "duration": 26,
    "start_time": "2021-12-15T05:04:15.832Z"
   },
   {
    "duration": 63,
    "start_time": "2021-12-15T05:04:15.860Z"
   },
   {
    "duration": 17,
    "start_time": "2021-12-15T05:04:15.925Z"
   },
   {
    "duration": 10,
    "start_time": "2021-12-15T05:04:32.618Z"
   },
   {
    "duration": 5,
    "start_time": "2021-12-15T05:04:35.439Z"
   },
   {
    "duration": 15,
    "start_time": "2021-12-15T05:04:41.920Z"
   },
   {
    "duration": 15,
    "start_time": "2021-12-15T05:04:57.319Z"
   },
   {
    "duration": 906,
    "start_time": "2021-12-15T05:05:07.062Z"
   },
   {
    "duration": 8,
    "start_time": "2021-12-15T05:05:12.126Z"
   },
   {
    "duration": 14,
    "start_time": "2021-12-15T05:05:15.443Z"
   },
   {
    "duration": 29,
    "start_time": "2021-12-15T05:05:32.321Z"
   },
   {
    "duration": 13,
    "start_time": "2021-12-15T05:05:51.935Z"
   },
   {
    "duration": 56,
    "start_time": "2021-12-15T05:06:23.180Z"
   },
   {
    "duration": 16,
    "start_time": "2021-12-15T05:07:06.666Z"
   },
   {
    "duration": 47,
    "start_time": "2021-12-15T05:07:36.060Z"
   },
   {
    "duration": 1574,
    "start_time": "2021-12-15T05:08:17.728Z"
   },
   {
    "duration": 29,
    "start_time": "2021-12-15T05:11:33.642Z"
   },
   {
    "duration": 37,
    "start_time": "2021-12-15T05:11:54.818Z"
   },
   {
    "duration": 1717,
    "start_time": "2021-12-15T05:12:27.266Z"
   },
   {
    "duration": 373,
    "start_time": "2021-12-15T05:12:39.402Z"
   },
   {
    "duration": 76,
    "start_time": "2021-12-15T05:12:48.517Z"
   },
   {
    "duration": 4333,
    "start_time": "2021-12-15T05:12:48.596Z"
   },
   {
    "duration": 7,
    "start_time": "2021-12-15T05:12:52.932Z"
   },
   {
    "duration": 20,
    "start_time": "2021-12-15T05:12:52.942Z"
   },
   {
    "duration": 20,
    "start_time": "2021-12-15T05:12:52.965Z"
   },
   {
    "duration": 54,
    "start_time": "2021-12-15T05:12:52.987Z"
   },
   {
    "duration": 22,
    "start_time": "2021-12-15T05:12:53.043Z"
   },
   {
    "duration": 66,
    "start_time": "2021-12-15T05:12:53.069Z"
   },
   {
    "duration": 17,
    "start_time": "2021-12-15T05:12:53.139Z"
   },
   {
    "duration": 25,
    "start_time": "2021-12-15T05:12:53.159Z"
   },
   {
    "duration": 51,
    "start_time": "2021-12-15T05:12:53.186Z"
   },
   {
    "duration": 22,
    "start_time": "2021-12-15T05:12:53.240Z"
   },
   {
    "duration": 79,
    "start_time": "2021-12-15T05:12:53.264Z"
   },
   {
    "duration": 17,
    "start_time": "2021-12-15T05:12:53.345Z"
   },
   {
    "duration": 8,
    "start_time": "2021-12-15T05:12:53.365Z"
   },
   {
    "duration": 4,
    "start_time": "2021-12-15T05:12:53.375Z"
   },
   {
    "duration": 50,
    "start_time": "2021-12-15T05:12:53.382Z"
   },
   {
    "duration": 12,
    "start_time": "2021-12-15T05:12:53.434Z"
   },
   {
    "duration": 963,
    "start_time": "2021-12-15T05:12:53.449Z"
   },
   {
    "duration": 14,
    "start_time": "2021-12-15T05:12:54.414Z"
   },
   {
    "duration": 17,
    "start_time": "2021-12-15T05:12:54.430Z"
   },
   {
    "duration": 35,
    "start_time": "2021-12-15T05:12:54.449Z"
   },
   {
    "duration": 78,
    "start_time": "2021-12-15T05:12:54.488Z"
   },
   {
    "duration": 1666,
    "start_time": "2021-12-15T05:12:54.568Z"
   },
   {
    "duration": 33,
    "start_time": "2021-12-15T05:12:56.236Z"
   },
   {
    "duration": 1655,
    "start_time": "2021-12-15T05:13:01.779Z"
   },
   {
    "duration": 10,
    "start_time": "2021-12-15T05:13:43.155Z"
   },
   {
    "duration": 4778,
    "start_time": "2021-12-15T05:13:53.403Z"
   },
   {
    "duration": 35,
    "start_time": "2021-12-15T05:18:02.964Z"
   },
   {
    "duration": 91,
    "start_time": "2021-12-15T05:18:49.437Z"
   },
   {
    "duration": 16,
    "start_time": "2021-12-15T05:18:55.443Z"
   },
   {
    "duration": 510,
    "start_time": "2021-12-15T07:04:28.110Z"
   },
   {
    "duration": 287,
    "start_time": "2021-12-15T07:04:42.862Z"
   },
   {
    "duration": 280,
    "start_time": "2021-12-15T07:04:48.959Z"
   },
   {
    "duration": 1668,
    "start_time": "2021-12-15T07:05:01.943Z"
   },
   {
    "duration": 288,
    "start_time": "2021-12-15T07:05:26.463Z"
   },
   {
    "duration": 316,
    "start_time": "2021-12-15T07:06:15.396Z"
   },
   {
    "duration": 5,
    "start_time": "2021-12-15T07:06:53.255Z"
   },
   {
    "duration": 82,
    "start_time": "2021-12-15T07:07:22.343Z"
   },
   {
    "duration": 16,
    "start_time": "2021-12-15T07:07:50.078Z"
   },
   {
    "duration": 7,
    "start_time": "2021-12-15T07:08:08.513Z"
   },
   {
    "duration": 270,
    "start_time": "2021-12-15T07:08:37.569Z"
   },
   {
    "duration": 8,
    "start_time": "2021-12-15T07:08:45.471Z"
   },
   {
    "duration": 13,
    "start_time": "2021-12-15T07:11:38.951Z"
   },
   {
    "duration": 112,
    "start_time": "2021-12-15T07:15:13.618Z"
   },
   {
    "duration": 102,
    "start_time": "2021-12-15T07:15:59.658Z"
   },
   {
    "duration": 50,
    "start_time": "2021-12-15T07:24:22.196Z"
   },
   {
    "duration": 30,
    "start_time": "2021-12-15T07:25:07.899Z"
   },
   {
    "duration": 47,
    "start_time": "2021-12-15T07:25:39.765Z"
   },
   {
    "duration": 22,
    "start_time": "2021-12-15T07:25:52.388Z"
   },
   {
    "duration": 485,
    "start_time": "2021-12-15T07:32:27.040Z"
   },
   {
    "duration": 9,
    "start_time": "2021-12-15T07:33:05.064Z"
   },
   {
    "duration": 10,
    "start_time": "2021-12-15T07:35:14.124Z"
   },
   {
    "duration": 9,
    "start_time": "2021-12-15T07:36:54.943Z"
   },
   {
    "duration": 10,
    "start_time": "2021-12-15T08:25:15.445Z"
   },
   {
    "duration": 10,
    "start_time": "2021-12-15T08:26:53.709Z"
   },
   {
    "duration": 11,
    "start_time": "2021-12-15T08:32:40.066Z"
   },
   {
    "duration": 73,
    "start_time": "2021-12-15T08:45:40.277Z"
   },
   {
    "duration": 4484,
    "start_time": "2021-12-15T08:45:40.353Z"
   },
   {
    "duration": 7,
    "start_time": "2021-12-15T08:45:44.840Z"
   },
   {
    "duration": 36,
    "start_time": "2021-12-15T08:45:44.850Z"
   },
   {
    "duration": 45,
    "start_time": "2021-12-15T08:45:44.889Z"
   },
   {
    "duration": 40,
    "start_time": "2021-12-15T08:45:44.937Z"
   },
   {
    "duration": 39,
    "start_time": "2021-12-15T08:45:44.980Z"
   },
   {
    "duration": 38,
    "start_time": "2021-12-15T08:45:45.023Z"
   },
   {
    "duration": 19,
    "start_time": "2021-12-15T08:45:45.064Z"
   },
   {
    "duration": 47,
    "start_time": "2021-12-15T08:45:45.085Z"
   },
   {
    "duration": 22,
    "start_time": "2021-12-15T08:45:45.134Z"
   },
   {
    "duration": 39,
    "start_time": "2021-12-15T08:45:45.158Z"
   },
   {
    "duration": 70,
    "start_time": "2021-12-15T08:45:45.200Z"
   },
   {
    "duration": 17,
    "start_time": "2021-12-15T08:45:45.272Z"
   },
   {
    "duration": 29,
    "start_time": "2021-12-15T08:45:45.292Z"
   },
   {
    "duration": 17,
    "start_time": "2021-12-15T08:45:45.324Z"
   },
   {
    "duration": 46,
    "start_time": "2021-12-15T08:45:45.343Z"
   },
   {
    "duration": 14,
    "start_time": "2021-12-15T08:45:45.392Z"
   },
   {
    "duration": 992,
    "start_time": "2021-12-15T08:45:45.408Z"
   },
   {
    "duration": 21,
    "start_time": "2021-12-15T08:45:46.402Z"
   },
   {
    "duration": 20,
    "start_time": "2021-12-15T08:45:46.425Z"
   },
   {
    "duration": 37,
    "start_time": "2021-12-15T08:45:46.447Z"
   },
   {
    "duration": 73,
    "start_time": "2021-12-15T08:45:46.489Z"
   },
   {
    "duration": 1692,
    "start_time": "2021-12-15T08:45:46.565Z"
   },
   {
    "duration": 34,
    "start_time": "2021-12-15T08:45:48.259Z"
   },
   {
    "duration": 1810,
    "start_time": "2021-12-15T08:45:48.296Z"
   },
   {
    "duration": 87,
    "start_time": "2021-12-15T08:45:50.109Z"
   },
   {
    "duration": 25,
    "start_time": "2021-12-15T08:45:50.198Z"
   },
   {
    "duration": 4827,
    "start_time": "2021-12-15T08:45:50.226Z"
   },
   {
    "duration": 26,
    "start_time": "2021-12-15T08:45:55.057Z"
   },
   {
    "duration": 124,
    "start_time": "2021-12-15T08:45:55.086Z"
   },
   {
    "duration": 39,
    "start_time": "2021-12-15T08:45:55.212Z"
   },
   {
    "duration": 11,
    "start_time": "2021-12-15T08:45:55.254Z"
   },
   {
    "duration": 11,
    "start_time": "2021-12-15T08:45:55.268Z"
   },
   {
    "duration": 56,
    "start_time": "2021-12-15T08:45:55.282Z"
   },
   {
    "duration": 11,
    "start_time": "2021-12-15T08:45:55.341Z"
   },
   {
    "duration": 8,
    "start_time": "2021-12-15T08:45:55.355Z"
   },
   {
    "duration": 76,
    "start_time": "2021-12-15T08:46:24.414Z"
   },
   {
    "duration": 72,
    "start_time": "2021-12-15T08:51:34.356Z"
   },
   {
    "duration": 4274,
    "start_time": "2021-12-15T08:51:34.431Z"
   },
   {
    "duration": 20,
    "start_time": "2021-12-15T08:51:38.708Z"
   },
   {
    "duration": 22,
    "start_time": "2021-12-15T08:51:38.730Z"
   },
   {
    "duration": 19,
    "start_time": "2021-12-15T08:51:38.755Z"
   },
   {
    "duration": 54,
    "start_time": "2021-12-15T08:51:38.776Z"
   },
   {
    "duration": 23,
    "start_time": "2021-12-15T08:51:38.832Z"
   },
   {
    "duration": 35,
    "start_time": "2021-12-15T08:51:38.859Z"
   },
   {
    "duration": 18,
    "start_time": "2021-12-15T08:51:38.922Z"
   },
   {
    "duration": 34,
    "start_time": "2021-12-15T08:51:38.943Z"
   },
   {
    "duration": 23,
    "start_time": "2021-12-15T08:51:38.980Z"
   },
   {
    "duration": 26,
    "start_time": "2021-12-15T08:51:39.024Z"
   },
   {
    "duration": 71,
    "start_time": "2021-12-15T08:51:39.052Z"
   },
   {
    "duration": 18,
    "start_time": "2021-12-15T08:51:39.125Z"
   },
   {
    "duration": 10,
    "start_time": "2021-12-15T08:51:39.146Z"
   },
   {
    "duration": 15,
    "start_time": "2021-12-15T08:51:39.159Z"
   },
   {
    "duration": 20,
    "start_time": "2021-12-15T08:51:39.176Z"
   },
   {
    "duration": 16,
    "start_time": "2021-12-15T08:51:39.224Z"
   },
   {
    "duration": 1026,
    "start_time": "2021-12-15T08:51:39.243Z"
   },
   {
    "duration": 9,
    "start_time": "2021-12-15T08:51:40.271Z"
   },
   {
    "duration": 40,
    "start_time": "2021-12-15T08:51:40.283Z"
   },
   {
    "duration": 48,
    "start_time": "2021-12-15T08:51:40.326Z"
   },
   {
    "duration": 79,
    "start_time": "2021-12-15T08:51:40.379Z"
   },
   {
    "duration": 1734,
    "start_time": "2021-12-15T08:51:40.461Z"
   },
   {
    "duration": 51,
    "start_time": "2021-12-15T08:51:42.197Z"
   },
   {
    "duration": 1774,
    "start_time": "2021-12-15T08:51:42.250Z"
   },
   {
    "duration": 97,
    "start_time": "2021-12-15T08:51:44.026Z"
   },
   {
    "duration": 12,
    "start_time": "2021-12-15T08:51:44.126Z"
   },
   {
    "duration": 5422,
    "start_time": "2021-12-15T08:51:44.141Z"
   },
   {
    "duration": 24,
    "start_time": "2021-12-15T08:51:49.566Z"
   },
   {
    "duration": 121,
    "start_time": "2021-12-15T08:51:49.592Z"
   },
   {
    "duration": 33,
    "start_time": "2021-12-15T08:51:49.724Z"
   },
   {
    "duration": 8,
    "start_time": "2021-12-15T08:51:49.759Z"
   },
   {
    "duration": 10,
    "start_time": "2021-12-15T08:51:49.770Z"
   },
   {
    "duration": 46,
    "start_time": "2021-12-15T08:51:49.783Z"
   },
   {
    "duration": 10,
    "start_time": "2021-12-15T08:51:49.833Z"
   },
   {
    "duration": 9,
    "start_time": "2021-12-15T08:51:49.845Z"
   },
   {
    "duration": 213,
    "start_time": "2021-12-15T22:03:20.565Z"
   },
   {
    "duration": 623,
    "start_time": "2021-12-15T22:03:23.375Z"
   },
   {
    "duration": 2330,
    "start_time": "2021-12-15T22:03:24.000Z"
   },
   {
    "duration": 64,
    "start_time": "2021-12-15T22:03:26.332Z"
   },
   {
    "duration": 6,
    "start_time": "2021-12-15T22:03:26.397Z"
   },
   {
    "duration": 14,
    "start_time": "2021-12-15T22:03:26.404Z"
   },
   {
    "duration": 13,
    "start_time": "2021-12-15T22:03:26.419Z"
   },
   {
    "duration": 13,
    "start_time": "2021-12-15T22:03:26.434Z"
   },
   {
    "duration": 49,
    "start_time": "2021-12-15T22:03:26.449Z"
   },
   {
    "duration": 21,
    "start_time": "2021-12-15T22:03:26.500Z"
   },
   {
    "duration": 11,
    "start_time": "2021-12-15T22:03:26.522Z"
   },
   {
    "duration": 18,
    "start_time": "2021-12-15T22:03:26.534Z"
   },
   {
    "duration": 44,
    "start_time": "2021-12-15T22:03:26.553Z"
   },
   {
    "duration": 15,
    "start_time": "2021-12-15T22:03:26.598Z"
   },
   {
    "duration": 34,
    "start_time": "2021-12-15T22:03:26.614Z"
   },
   {
    "duration": 13,
    "start_time": "2021-12-15T22:03:26.650Z"
   },
   {
    "duration": 26,
    "start_time": "2021-12-15T22:03:26.665Z"
   },
   {
    "duration": 3,
    "start_time": "2021-12-15T22:03:26.693Z"
   },
   {
    "duration": 12,
    "start_time": "2021-12-15T22:03:26.697Z"
   },
   {
    "duration": 9,
    "start_time": "2021-12-15T22:03:26.711Z"
   },
   {
    "duration": 507,
    "start_time": "2021-12-15T22:03:26.721Z"
   },
   {
    "duration": 6,
    "start_time": "2021-12-15T22:03:27.229Z"
   },
   {
    "duration": 12,
    "start_time": "2021-12-15T22:03:27.237Z"
   },
   {
    "duration": 44,
    "start_time": "2021-12-15T22:03:27.252Z"
   },
   {
    "duration": 33,
    "start_time": "2021-12-15T22:03:27.297Z"
   },
   {
    "duration": 1312,
    "start_time": "2021-12-15T22:03:27.332Z"
   },
   {
    "duration": 59,
    "start_time": "2021-12-15T22:03:28.646Z"
   },
   {
    "duration": 1229,
    "start_time": "2021-12-15T22:03:28.706Z"
   },
   {
    "duration": 59,
    "start_time": "2021-12-15T22:03:29.936Z"
   },
   {
    "duration": 7,
    "start_time": "2021-12-15T22:03:29.996Z"
   },
   {
    "duration": 3396,
    "start_time": "2021-12-15T22:03:30.005Z"
   },
   {
    "duration": 13,
    "start_time": "2021-12-15T22:03:33.403Z"
   },
   {
    "duration": 82,
    "start_time": "2021-12-15T22:03:33.418Z"
   },
   {
    "duration": 21,
    "start_time": "2021-12-15T22:03:33.502Z"
   },
   {
    "duration": 5,
    "start_time": "2021-12-15T22:03:33.525Z"
   },
   {
    "duration": 6,
    "start_time": "2021-12-15T22:03:33.532Z"
   },
   {
    "duration": 6,
    "start_time": "2021-12-15T22:03:33.540Z"
   },
   {
    "duration": 5,
    "start_time": "2021-12-15T22:03:33.547Z"
   },
   {
    "duration": 41,
    "start_time": "2021-12-15T22:03:33.554Z"
   },
   {
    "duration": 64,
    "start_time": "2021-12-15T22:12:32.634Z"
   },
   {
    "duration": 779,
    "start_time": "2021-12-15T22:27:57.084Z"
   },
   {
    "duration": 15,
    "start_time": "2021-12-15T22:28:06.400Z"
   },
   {
    "duration": 13,
    "start_time": "2021-12-15T22:28:09.854Z"
   },
   {
    "duration": 59,
    "start_time": "2021-12-16T03:47:22.644Z"
   },
   {
    "duration": 70,
    "start_time": "2021-12-16T03:47:36.788Z"
   },
   {
    "duration": 63,
    "start_time": "2021-12-16T03:48:26.934Z"
   },
   {
    "duration": 68,
    "start_time": "2021-12-16T03:49:03.063Z"
   },
   {
    "duration": 62,
    "start_time": "2021-12-16T03:49:22.614Z"
   },
   {
    "duration": 55,
    "start_time": "2021-12-16T03:49:37.037Z"
   },
   {
    "duration": 59,
    "start_time": "2021-12-16T03:49:51.551Z"
   }
  ],
  "kernelspec": {
   "display_name": "Python 3",
   "language": "python",
   "name": "python3"
  },
  "language_info": {
   "codemirror_mode": {
    "name": "ipython",
    "version": 3
   },
   "file_extension": ".py",
   "mimetype": "text/x-python",
   "name": "python",
   "nbconvert_exporter": "python",
   "pygments_lexer": "ipython3",
   "version": "3.7.13"
  },
  "toc": {
   "base_numbering": 1,
   "nav_menu": {},
   "number_sections": true,
   "sideBar": true,
   "skip_h1_title": true,
   "title_cell": "Table of Contents",
   "title_sidebar": "Contents",
   "toc_cell": false,
   "toc_position": {},
   "toc_section_display": true,
   "toc_window_display": false
  }
 },
 "nbformat": 4,
 "nbformat_minor": 2
}
